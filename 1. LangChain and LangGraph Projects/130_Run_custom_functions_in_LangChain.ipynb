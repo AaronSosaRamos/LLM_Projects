{
  "nbformat": 4,
  "nbformat_minor": 0,
  "metadata": {
    "colab": {
      "provenance": []
    },
    "kernelspec": {
      "name": "python3",
      "display_name": "Python 3"
    },
    "language_info": {
      "name": "python"
    }
  },
  "cells": [
    {
      "cell_type": "markdown",
      "source": [
        "#Run custom functions in LangChain\n",
        "Made by: Wilfredo Aaron Sosa Ramos (AI Lab Manager at RealityAI Labs)"
      ],
      "metadata": {
        "id": "LUd3EQ2x5mBG"
      }
    },
    {
      "cell_type": "markdown",
      "source": [
        "##1. Install dependencies"
      ],
      "metadata": {
        "id": "M6RBTEd450WB"
      }
    },
    {
      "cell_type": "code",
      "execution_count": 1,
      "metadata": {
        "colab": {
          "base_uri": "https://localhost:8080/"
        },
        "id": "TKhuzMzY5a_A",
        "outputId": "930a561c-ea44-467a-8888-8753f3da6af3"
      },
      "outputs": [
        {
          "output_type": "stream",
          "name": "stdout",
          "text": [
            "\u001b[?25l   \u001b[90m━━━━━━━━━━━━━━━━━━━━━━━━━━━━━━━━━━━━━━━━\u001b[0m \u001b[32m0.0/2.5 MB\u001b[0m \u001b[31m?\u001b[0m eta \u001b[36m-:--:--\u001b[0m\r\u001b[2K   \u001b[91m━━━━━━━━━━━━━━━━━━━━━━━━━━━━━━━━━━━━━━━\u001b[0m\u001b[91m╸\u001b[0m \u001b[32m2.5/2.5 MB\u001b[0m \u001b[31m85.2 MB/s\u001b[0m eta \u001b[36m0:00:01\u001b[0m\r\u001b[2K   \u001b[90m━━━━━━━━━━━━━━━━━━━━━━━━━━━━━━━━━━━━━━━━\u001b[0m \u001b[32m2.5/2.5 MB\u001b[0m \u001b[31m44.8 MB/s\u001b[0m eta \u001b[36m0:00:00\u001b[0m\n",
            "\u001b[?25h\u001b[?25l   \u001b[90m━━━━━━━━━━━━━━━━━━━━━━━━━━━━━━━━━━━━━━━━\u001b[0m \u001b[32m0.0/1.0 MB\u001b[0m \u001b[31m?\u001b[0m eta \u001b[36m-:--:--\u001b[0m\r\u001b[2K   \u001b[90m━━━━━━━━━━━━━━━━━━━━━━━━━━━━━━━━━━━━━━━━\u001b[0m \u001b[32m1.0/1.0 MB\u001b[0m \u001b[31m35.9 MB/s\u001b[0m eta \u001b[36m0:00:00\u001b[0m\n",
            "\u001b[2K   \u001b[90m━━━━━━━━━━━━━━━━━━━━━━━━━━━━━━━━━━━━━━━━\u001b[0m \u001b[32m411.6/411.6 kB\u001b[0m \u001b[31m18.1 MB/s\u001b[0m eta \u001b[36m0:00:00\u001b[0m\n",
            "\u001b[2K   \u001b[90m━━━━━━━━━━━━━━━━━━━━━━━━━━━━━━━━━━━━━━━━\u001b[0m \u001b[32m41.3/41.3 kB\u001b[0m \u001b[31m2.4 MB/s\u001b[0m eta \u001b[36m0:00:00\u001b[0m\n",
            "\u001b[2K   \u001b[90m━━━━━━━━━━━━━━━━━━━━━━━━━━━━━━━━━━━━━━━━\u001b[0m \u001b[32m48.9/48.9 kB\u001b[0m \u001b[31m3.5 MB/s\u001b[0m eta \u001b[36m0:00:00\u001b[0m\n",
            "\u001b[?25h"
          ]
        }
      ],
      "source": [
        "!pip install -q langchain langchain_core langchain_community langchain_google_genai"
      ]
    },
    {
      "cell_type": "markdown",
      "source": [
        "##2. Set env. variables"
      ],
      "metadata": {
        "id": "gN5i0a41518L"
      }
    },
    {
      "cell_type": "code",
      "source": [
        "import os\n",
        "from google.colab import userdata\n",
        "\n",
        "os.environ['GOOGLE_API_KEY'] = userdata.get('GOOGLE_API_KEY')"
      ],
      "metadata": {
        "id": "UvmW7nWL537k"
      },
      "execution_count": 2,
      "outputs": []
    },
    {
      "cell_type": "markdown",
      "source": [
        "##3. With the constructor"
      ],
      "metadata": {
        "id": "C9ciZ34j6B3C"
      }
    },
    {
      "cell_type": "code",
      "source": [
        "from operator import itemgetter\n",
        "from langchain_core.prompts import ChatPromptTemplate\n",
        "from langchain_core.runnables import RunnableLambda\n",
        "from langchain_google_genai import ChatGoogleGenerativeAI\n",
        "\n",
        "# Accountability-specific function\n",
        "def accountability_score(task_completions, deadlines_met):\n",
        "    \"\"\"Calculate accountability score based on tasks completed and deadlines met.\"\"\"\n",
        "    if deadlines_met == 0:  # Prevent division by zero\n",
        "        return 0\n",
        "    return task_completions / deadlines_met\n",
        "\n",
        "# Economics Engineering-specific function\n",
        "def economic_efficiency(revenue, costs):\n",
        "    \"\"\"Calculate economic efficiency as the ratio of revenue to costs.\"\"\"\n",
        "    if costs == 0:  # Prevent division by zero\n",
        "        return float('inf')  # Infinite efficiency if costs are zero\n",
        "    return revenue / costs\n",
        "\n",
        "# Nested function for combining both fields\n",
        "def combined_analysis(data):\n",
        "    \"\"\"Combine accountability and economic efficiency into a single score.\"\"\"\n",
        "    accountability = accountability_score(\n",
        "        data[\"task_completions\"], data[\"deadlines_met\"]\n",
        "    )\n",
        "    efficiency = economic_efficiency(data[\"revenue\"], data[\"costs\"])\n",
        "    return {\"combined_score\": accountability * efficiency}\n",
        "\n",
        "# Instantiate the model\n",
        "model = ChatGoogleGenerativeAI(model='gemini-2.0-flash-exp')\n",
        "\n",
        "# Create a prompt template\n",
        "prompt = ChatPromptTemplate.from_template(\"Performance Analysis:\\nAccountability Score: {a}\\nEconomic Efficiency: {b}\")\n",
        "\n",
        "# Define the chains\n",
        "chain = (\n",
        "    {\n",
        "        \"a\": {\n",
        "            \"task_completions\": itemgetter(\"tasks_done\"),\n",
        "            \"deadlines_met\": itemgetter(\"deadlines\"),\n",
        "        } | RunnableLambda(lambda x: {\"accountability_score\": accountability_score(x[\"task_completions\"], x[\"deadlines_met\"])}),\n",
        "        \"b\": {\n",
        "            \"revenue\": itemgetter(\"revenue\"),\n",
        "            \"costs\": itemgetter(\"costs\"),\n",
        "        } | RunnableLambda(lambda x: {\"economic_efficiency\": economic_efficiency(x[\"revenue\"], x[\"costs\"])}),\n",
        "    }\n",
        "    | prompt\n",
        "    | model\n",
        ")\n",
        "\n",
        "# Combined chain for advanced analysis\n",
        "advanced_chain = (\n",
        "    {\n",
        "        \"task_completions\": itemgetter(\"tasks_done\"),\n",
        "        \"deadlines_met\": itemgetter(\"deadlines\"),\n",
        "        \"revenue\": itemgetter(\"revenue\"),\n",
        "        \"costs\": itemgetter(\"costs\"),\n",
        "    }\n",
        "    | RunnableLambda(combined_analysis)\n",
        "    | ChatPromptTemplate.from_template(\"Advanced Performance Analysis:\\nCombined Score: {combined_score}\")\n",
        "    | model\n",
        ")"
      ],
      "metadata": {
        "id": "EvQEnRr06NmU"
      },
      "execution_count": 7,
      "outputs": []
    },
    {
      "cell_type": "code",
      "source": [
        "result = chain.invoke({\n",
        "    \"tasks_done\": 50,\n",
        "    \"deadlines\": 10,\n",
        "    \"revenue\": 2000,\n",
        "    \"costs\": 500\n",
        "})\n",
        "\n",
        "advanced_result = advanced_chain.invoke({\n",
        "    \"tasks_done\": 50,\n",
        "    \"deadlines\": 10,\n",
        "    \"revenue\": 2000,\n",
        "    \"costs\": 500\n",
        "})\n",
        "\n",
        "print(\"Result:\", result)\n",
        "print(\"Advanced Analysis Result:\", advanced_result)"
      ],
      "metadata": {
        "colab": {
          "base_uri": "https://localhost:8080/"
        },
        "id": "pgwDa-tU6mG0",
        "outputId": "24399dfc-889d-4564-d8d0-f66497f0b38b"
      },
      "execution_count": 8,
      "outputs": [
        {
          "output_type": "stream",
          "name": "stdout",
          "text": [
            "Result: content='Okay, let\\'s break down this performance analysis:\\n\\n**Accountability Score: {\\'accountability_score\\': 5.0}**\\n\\n* **Interpretation:** This indicates a very high level of accountability. A score of 5.0 (assuming a scale where 5 is the highest) suggests that the entity or individual being assessed is consistently and thoroughly taking responsibility for their actions, decisions, and outcomes.\\n* **Positive Implications:**\\n    * **Strong Ownership:** There\\'s a clear sense of ownership over tasks and responsibilities.\\n    * **Reliability:** The entity is likely reliable and dependable in fulfilling commitments.\\n    * **Transparency:** High accountability often implies transparency in processes and reporting.\\n    * **Potential for Improvement:**  Accountability provides a solid foundation for identifying and addressing areas for improvement.\\n\\n**Economic Efficiency: {\\'economic_efficiency\\': 4.0}**\\n\\n* **Interpretation:** This signifies a good level of economic efficiency. A score of 4.0 (again, assuming a scale where 5 is the highest) suggests that resources are being used effectively and with a strong return on investment. \\n* **Positive Implications:**\\n    * **Resource Optimization:**  The entity is generally good at minimizing waste and maximizing output with the available resources (financial, human, materials, etc.).\\n    * **Cost-Effectiveness:** Operations are likely cost-effective and provide value for money.\\n    * **Productivity:**  There\\'s a good level of productivity in terms of the ratio of inputs to outputs.\\n* **Areas for Potential Improvement:**\\n    * **Pushing for Optimization:** While good, there\\'s still room to strive for the highest level of efficiency (5.0). Could processes be streamlined further? Are there any untapped opportunities for cost reduction or resource reallocation?\\n    * **Continuous Monitoring:** Regular monitoring of efficiency metrics is crucial to maintain and improve the current level.\\n\\n**Overall Analysis and Potential Insights:**\\n\\n* **Strengths:** The analysis highlights strong accountability and a solid level of economic efficiency. These are crucial for success in most contexts.\\n* **Balanced Performance:** The entity or individual is performing well in key areas.\\n* **Focus Areas:** While both scores are good, the economic efficiency score indicates a slight opportunity for further improvement. This could be a good area to focus on if the goal is to achieve peak performance.\\n* **Need for Context:**  It\\'s important to remember that these scores are likely based on specific criteria and a specific context. To get a full understanding, it would be useful to know:\\n    * **The specific definition of \"accountability\" and \"economic efficiency\" used.**\\n    * **The scale used for the scores (e.g., 1-5, 1-10, etc.).**\\n    * **What the scores are being measured against (e.g., past performance, industry benchmarks, goals).**\\n    * **The type of entity or individual being assessed (e.g., individual employee, department, project, organization).**\\n\\n**Recommendations:**\\n\\n* **Maintain High Accountability:** Continue practices that foster accountability.\\n* **Identify Efficiency Opportunities:** Conduct a detailed review of processes to identify areas where efficiency can be further improved. This might involve process mapping, data analysis, and feedback from stakeholders.\\n* **Set Clear Targets:** Establish specific, measurable, achievable, relevant, and time-bound (SMART) goals for economic efficiency.\\n* **Monitor and Adjust:** Continuously monitor performance against targets and make adjustments as needed.\\n\\n**In Conclusion:**\\n\\nThis performance analysis paints a picture of a well-performing entity or individual with strong accountability and good economic efficiency. By focusing on continuous improvement, particularly in the area of economic efficiency, even better results can be achieved. Remember to consider the context and underlying data for a comprehensive understanding.\\n' additional_kwargs={} response_metadata={'prompt_feedback': {'block_reason': 0, 'safety_ratings': []}, 'finish_reason': 'STOP', 'safety_ratings': [{'category': 'HARM_CATEGORY_HATE_SPEECH', 'probability': 'NEGLIGIBLE', 'blocked': False}, {'category': 'HARM_CATEGORY_DANGEROUS_CONTENT', 'probability': 'NEGLIGIBLE', 'blocked': False}, {'category': 'HARM_CATEGORY_HARASSMENT', 'probability': 'NEGLIGIBLE', 'blocked': False}, {'category': 'HARM_CATEGORY_SEXUALLY_EXPLICIT', 'probability': 'NEGLIGIBLE', 'blocked': False}]} id='run-bd20679e-2110-48b4-8b55-f773ecdedda1-0' usage_metadata={'input_tokens': 34, 'output_tokens': 793, 'total_tokens': 827, 'input_token_details': {'cache_read': 0}}\n",
            "Advanced Analysis Result: content='Okay, a Combined Score of 20.0 suggests a very high level of performance. To provide a more detailed analysis, we need context. However, based on the score alone, here\\'s what we can infer and some questions we should ask:\\n\\n**Inferences Based on a Score of 20.0:**\\n\\n* **Exceptional Performance:** A score of 20.0 is likely at or near the top of the possible scoring range. This indicates that the individual, team, system, or whatever is being evaluated is performing exceptionally well.\\n* **Significant Strengths:** This score suggests that whatever is being assessed possesses significant strengths and likely excels in most areas.\\n* **Potential for Mastery:** The performance level is indicative of a high degree of mastery and competence.\\n* **Possible Benchmark:** Such a high score could be used as a benchmark for others to strive towards.\\n\\n**Questions to Ask for a Deeper Analysis:**\\n\\nTo truly understand the significance of this score, we need to know:\\n\\n1. **What is being measured?**\\n    * Is it an individual\\'s performance on a specific task?\\n    * Is it a team\\'s output on a project?\\n    * Is it a system\\'s efficiency?\\n    * What is the specific domain or field this score applies to?\\n    * Is it a game, a business metric, a scientific experiment, or something else?\\n2. **What is the scoring scale?**\\n    * What is the minimum and maximum possible score?\\n    * Is the scale linear, logarithmic, or another type?\\n    * What does each point on the scale represent in terms of performance?\\n    * Is this a normalized score, or is it based on raw data?\\n3. **What are the individual components of the \"Combined Score\"?**\\n    * What specific metrics are being combined to arrive at the final score?\\n    * How are these metrics weighted?\\n    * What are the individual scores for each component? Understanding the breakdown will reveal strengths and potential areas for marginal improvement.\\n4. **How does this score compare to others?**\\n    * Is this a record-breaking score?\\n    * How does it compare to average performance in this field?\\n    * How does it compare to past performances of the same entity?\\n    * Is this score consistent, or is it an outlier?\\n5. **What are the context and circumstances?**\\n    * Were there any specific challenges or advantages present during the evaluation?\\n    * Were there any external factors that might have influenced the score?\\n    * What resources were available?\\n6. **What are the implications of this score?**\\n    * What are the consequences of achieving such a high score?\\n    * Are there any rewards or recognitions associated with this performance?\\n    * What are the next steps?\\n\\n**Example Scenarios and Analysis:**\\n\\n* **Scenario 1: Game Score:** If this score is from a game, a 20.0 might mean the player achieved a perfect score, completed all challenges, or reached the highest level of mastery. Further analysis would look at the individual achievements within the game.\\n* **Scenario 2: Business Metric:** If this is a business metric, a 20.0 could mean the company exceeded all its targets for a given period. We\\'d need to analyze which specific areas (sales, customer satisfaction, efficiency) contributed most to this score.\\n* **Scenario 3: Scientific Experiment:** In an experiment, a 20.0 might suggest that the experiment produced flawless results with a high degree of accuracy. Further analysis would focus on the statistical significance of the findings.\\n\\n**In conclusion, a Combined Score of 20.0 is highly impressive, but without more context, it\\'s difficult to provide a truly insightful analysis. Please provide more information about what this score represents, and we can explore its significance in greater detail.**\\n' additional_kwargs={} response_metadata={'prompt_feedback': {'block_reason': 0, 'safety_ratings': []}, 'finish_reason': 'STOP', 'safety_ratings': [{'category': 'HARM_CATEGORY_HATE_SPEECH', 'probability': 'NEGLIGIBLE', 'blocked': False}, {'category': 'HARM_CATEGORY_DANGEROUS_CONTENT', 'probability': 'NEGLIGIBLE', 'blocked': False}, {'category': 'HARM_CATEGORY_HARASSMENT', 'probability': 'NEGLIGIBLE', 'blocked': False}, {'category': 'HARM_CATEGORY_SEXUALLY_EXPLICIT', 'probability': 'NEGLIGIBLE', 'blocked': False}]} id='run-35362630-7eda-4cb3-91da-5097c2da09e6-0' usage_metadata={'input_tokens': 14, 'output_tokens': 820, 'total_tokens': 834, 'input_token_details': {'cache_read': 0}}\n"
          ]
        }
      ]
    },
    {
      "cell_type": "code",
      "source": [
        "!pip -q install -q rich"
      ],
      "metadata": {
        "id": "CSQ0YS_r7shp"
      },
      "execution_count": 9,
      "outputs": []
    },
    {
      "cell_type": "code",
      "source": [
        "from rich.console import Console\n",
        "from rich.markdown import Markdown\n",
        "\n",
        "def print_md(md_content):\n",
        "    \"\"\"Renders and prints Markdown content using the `rich` library.\"\"\"\n",
        "    console = Console()\n",
        "    md = Markdown(md_content)\n",
        "    console.print(md)"
      ],
      "metadata": {
        "id": "Q8g-PA7t7ukG"
      },
      "execution_count": 10,
      "outputs": []
    },
    {
      "cell_type": "code",
      "source": [
        "print(\"=====RESULT=====\")\n",
        "print_md(result.content)"
      ],
      "metadata": {
        "colab": {
          "base_uri": "https://localhost:8080/",
          "height": 1000
        },
        "id": "u2RGL7lb7vQO",
        "outputId": "1f08c784-55a8-418d-f5c2-19797d182b4b"
      },
      "execution_count": 12,
      "outputs": [
        {
          "output_type": "stream",
          "name": "stdout",
          "text": [
            "=====RESULT=====\n"
          ]
        },
        {
          "output_type": "display_data",
          "data": {
            "text/plain": [
              "Okay, let's break down this performance analysis:                                                                  \n",
              "\n",
              "\u001b[1mAccountability Score: {'accountability_score': 5.0}\u001b[0m                                                                \n",
              "\n",
              "\u001b[1;33m • \u001b[0m\u001b[1mInterpretation:\u001b[0m This indicates a very high level of accountability. A score of 5.0 (assuming a scale where 5 is \n",
              "\u001b[1;33m   \u001b[0mthe highest) suggests that the entity or individual being assessed is consistently and thoroughly taking        \n",
              "\u001b[1;33m   \u001b[0mresponsibility for their actions, decisions, and outcomes.                                                      \n",
              "\u001b[1;33m • \u001b[0m\u001b[1mPositive Implications:\u001b[0m                                                                                          \n",
              "\u001b[1;33m   \u001b[0m\u001b[1;33m • \u001b[0m\u001b[1mStrong Ownership:\u001b[0m There's a clear sense of ownership over tasks and responsibilities.                        \n",
              "\u001b[1;33m   \u001b[0m\u001b[1;33m • \u001b[0m\u001b[1mReliability:\u001b[0m The entity is likely reliable and dependable in fulfilling commitments.                         \n",
              "\u001b[1;33m   \u001b[0m\u001b[1;33m • \u001b[0m\u001b[1mTransparency:\u001b[0m High accountability often implies transparency in processes and reporting.                     \n",
              "\u001b[1;33m   \u001b[0m\u001b[1;33m • \u001b[0m\u001b[1mPotential for Improvement:\u001b[0m  Accountability provides a solid foundation for identifying and addressing areas  \n",
              "\u001b[1;33m   \u001b[0m\u001b[1;33m   \u001b[0mfor improvement.                                                                                             \n",
              "\n",
              "\u001b[1mEconomic Efficiency: {'economic_efficiency': 4.0}\u001b[0m                                                                  \n",
              "\n",
              "\u001b[1;33m • \u001b[0m\u001b[1mInterpretation:\u001b[0m This signifies a good level of economic efficiency. A score of 4.0 (again, assuming a scale     \n",
              "\u001b[1;33m   \u001b[0mwhere 5 is the highest) suggests that resources are being used effectively and with a strong return on          \n",
              "\u001b[1;33m   \u001b[0minvestment.                                                                                                     \n",
              "\u001b[1;33m • \u001b[0m\u001b[1mPositive Implications:\u001b[0m                                                                                          \n",
              "\u001b[1;33m   \u001b[0m\u001b[1;33m • \u001b[0m\u001b[1mResource Optimization:\u001b[0m  The entity is generally good at minimizing waste and maximizing output with the      \n",
              "\u001b[1;33m   \u001b[0m\u001b[1;33m   \u001b[0mavailable resources (financial, human, materials, etc.).                                                     \n",
              "\u001b[1;33m   \u001b[0m\u001b[1;33m • \u001b[0m\u001b[1mCost-Effectiveness:\u001b[0m Operations are likely cost-effective and provide value for money.                        \n",
              "\u001b[1;33m   \u001b[0m\u001b[1;33m • \u001b[0m\u001b[1mProductivity:\u001b[0m  There's a good level of productivity in terms of the ratio of inputs to outputs.              \n",
              "\u001b[1;33m • \u001b[0m\u001b[1mAreas for Potential Improvement:\u001b[0m                                                                                \n",
              "\u001b[1;33m   \u001b[0m\u001b[1;33m • \u001b[0m\u001b[1mPushing for Optimization:\u001b[0m While good, there's still room to strive for the highest level of efficiency (5.0).\n",
              "\u001b[1;33m   \u001b[0m\u001b[1;33m   \u001b[0mCould processes be streamlined further? Are there any untapped opportunities for cost reduction or resource  \n",
              "\u001b[1;33m   \u001b[0m\u001b[1;33m   \u001b[0mreallocation?                                                                                                \n",
              "\u001b[1;33m   \u001b[0m\u001b[1;33m • \u001b[0m\u001b[1mContinuous Monitoring:\u001b[0m Regular monitoring of efficiency metrics is crucial to maintain and improve the       \n",
              "\u001b[1;33m   \u001b[0m\u001b[1;33m   \u001b[0mcurrent level.                                                                                               \n",
              "\n",
              "\u001b[1mOverall Analysis and Potential Insights:\u001b[0m                                                                           \n",
              "\n",
              "\u001b[1;33m • \u001b[0m\u001b[1mStrengths:\u001b[0m The analysis highlights strong accountability and a solid level of economic efficiency. These are    \n",
              "\u001b[1;33m   \u001b[0mcrucial for success in most contexts.                                                                           \n",
              "\u001b[1;33m • \u001b[0m\u001b[1mBalanced Performance:\u001b[0m The entity or individual is performing well in key areas.                                 \n",
              "\u001b[1;33m • \u001b[0m\u001b[1mFocus Areas:\u001b[0m While both scores are good, the economic efficiency score indicates a slight opportunity for       \n",
              "\u001b[1;33m   \u001b[0mfurther improvement. This could be a good area to focus on if the goal is to achieve peak performance.          \n",
              "\u001b[1;33m • \u001b[0m\u001b[1mNeed for Context:\u001b[0m  It's important to remember that these scores are likely based on specific criteria and a     \n",
              "\u001b[1;33m   \u001b[0mspecific context. To get a full understanding, it would be useful to know:                                      \n",
              "\u001b[1;33m   \u001b[0m\u001b[1;33m • \u001b[0m\u001b[1mThe specific definition of \"accountability\" and \"economic efficiency\" used.\u001b[0m                                  \n",
              "\u001b[1;33m   \u001b[0m\u001b[1;33m • \u001b[0m\u001b[1mThe scale used for the scores (e.g., 1-5, 1-10, etc.).\u001b[0m                                                       \n",
              "\u001b[1;33m   \u001b[0m\u001b[1;33m • \u001b[0m\u001b[1mWhat the scores are being measured against (e.g., past performance, industry benchmarks, goals).\u001b[0m             \n",
              "\u001b[1;33m   \u001b[0m\u001b[1;33m • \u001b[0m\u001b[1mThe type of entity or individual being assessed (e.g., individual employee, department, project, \u001b[0m            \n",
              "\u001b[1;33m   \u001b[0m\u001b[1;33m   \u001b[0m\u001b[1morganization).\u001b[0m                                                                                               \n",
              "\n",
              "\u001b[1mRecommendations:\u001b[0m                                                                                                   \n",
              "\n",
              "\u001b[1;33m • \u001b[0m\u001b[1mMaintain High Accountability:\u001b[0m Continue practices that foster accountability.                                    \n",
              "\u001b[1;33m • \u001b[0m\u001b[1mIdentify Efficiency Opportunities:\u001b[0m Conduct a detailed review of processes to identify areas where efficiency can\n",
              "\u001b[1;33m   \u001b[0mbe further improved. This might involve process mapping, data analysis, and feedback from stakeholders.         \n",
              "\u001b[1;33m • \u001b[0m\u001b[1mSet Clear Targets:\u001b[0m Establish specific, measurable, achievable, relevant, and time-bound (SMART) goals for       \n",
              "\u001b[1;33m   \u001b[0meconomic efficiency.                                                                                            \n",
              "\u001b[1;33m • \u001b[0m\u001b[1mMonitor and Adjust:\u001b[0m Continuously monitor performance against targets and make adjustments as needed.            \n",
              "\n",
              "\u001b[1mIn Conclusion:\u001b[0m                                                                                                     \n",
              "\n",
              "This performance analysis paints a picture of a well-performing entity or individual with strong accountability and\n",
              "good economic efficiency. By focusing on continuous improvement, particularly in the area of economic efficiency,  \n",
              "even better results can be achieved. Remember to consider the context and underlying data for a comprehensive      \n",
              "understanding.                                                                                                     \n"
            ],
            "text/html": [
              "<pre style=\"white-space:pre;overflow-x:auto;line-height:normal;font-family:Menlo,'DejaVu Sans Mono',consolas,'Courier New',monospace\">Okay, let's break down this performance analysis:                                                                  \n",
              "\n",
              "<span style=\"font-weight: bold\">Accountability Score: {'accountability_score': 5.0}</span>                                                                \n",
              "\n",
              "<span style=\"color: #808000; text-decoration-color: #808000; font-weight: bold\"> • </span><span style=\"font-weight: bold\">Interpretation:</span> This indicates a very high level of accountability. A score of 5.0 (assuming a scale where 5 is \n",
              "<span style=\"color: #808000; text-decoration-color: #808000; font-weight: bold\">   </span>the highest) suggests that the entity or individual being assessed is consistently and thoroughly taking        \n",
              "<span style=\"color: #808000; text-decoration-color: #808000; font-weight: bold\">   </span>responsibility for their actions, decisions, and outcomes.                                                      \n",
              "<span style=\"color: #808000; text-decoration-color: #808000; font-weight: bold\"> • </span><span style=\"font-weight: bold\">Positive Implications:</span>                                                                                          \n",
              "<span style=\"color: #808000; text-decoration-color: #808000; font-weight: bold\">    • </span><span style=\"font-weight: bold\">Strong Ownership:</span> There's a clear sense of ownership over tasks and responsibilities.                        \n",
              "<span style=\"color: #808000; text-decoration-color: #808000; font-weight: bold\">    • </span><span style=\"font-weight: bold\">Reliability:</span> The entity is likely reliable and dependable in fulfilling commitments.                         \n",
              "<span style=\"color: #808000; text-decoration-color: #808000; font-weight: bold\">    • </span><span style=\"font-weight: bold\">Transparency:</span> High accountability often implies transparency in processes and reporting.                     \n",
              "<span style=\"color: #808000; text-decoration-color: #808000; font-weight: bold\">    • </span><span style=\"font-weight: bold\">Potential for Improvement:</span>  Accountability provides a solid foundation for identifying and addressing areas  \n",
              "<span style=\"color: #808000; text-decoration-color: #808000; font-weight: bold\">      </span>for improvement.                                                                                             \n",
              "\n",
              "<span style=\"font-weight: bold\">Economic Efficiency: {'economic_efficiency': 4.0}</span>                                                                  \n",
              "\n",
              "<span style=\"color: #808000; text-decoration-color: #808000; font-weight: bold\"> • </span><span style=\"font-weight: bold\">Interpretation:</span> This signifies a good level of economic efficiency. A score of 4.0 (again, assuming a scale     \n",
              "<span style=\"color: #808000; text-decoration-color: #808000; font-weight: bold\">   </span>where 5 is the highest) suggests that resources are being used effectively and with a strong return on          \n",
              "<span style=\"color: #808000; text-decoration-color: #808000; font-weight: bold\">   </span>investment.                                                                                                     \n",
              "<span style=\"color: #808000; text-decoration-color: #808000; font-weight: bold\"> • </span><span style=\"font-weight: bold\">Positive Implications:</span>                                                                                          \n",
              "<span style=\"color: #808000; text-decoration-color: #808000; font-weight: bold\">    • </span><span style=\"font-weight: bold\">Resource Optimization:</span>  The entity is generally good at minimizing waste and maximizing output with the      \n",
              "<span style=\"color: #808000; text-decoration-color: #808000; font-weight: bold\">      </span>available resources (financial, human, materials, etc.).                                                     \n",
              "<span style=\"color: #808000; text-decoration-color: #808000; font-weight: bold\">    • </span><span style=\"font-weight: bold\">Cost-Effectiveness:</span> Operations are likely cost-effective and provide value for money.                        \n",
              "<span style=\"color: #808000; text-decoration-color: #808000; font-weight: bold\">    • </span><span style=\"font-weight: bold\">Productivity:</span>  There's a good level of productivity in terms of the ratio of inputs to outputs.              \n",
              "<span style=\"color: #808000; text-decoration-color: #808000; font-weight: bold\"> • </span><span style=\"font-weight: bold\">Areas for Potential Improvement:</span>                                                                                \n",
              "<span style=\"color: #808000; text-decoration-color: #808000; font-weight: bold\">    • </span><span style=\"font-weight: bold\">Pushing for Optimization:</span> While good, there's still room to strive for the highest level of efficiency (5.0).\n",
              "<span style=\"color: #808000; text-decoration-color: #808000; font-weight: bold\">      </span>Could processes be streamlined further? Are there any untapped opportunities for cost reduction or resource  \n",
              "<span style=\"color: #808000; text-decoration-color: #808000; font-weight: bold\">      </span>reallocation?                                                                                                \n",
              "<span style=\"color: #808000; text-decoration-color: #808000; font-weight: bold\">    • </span><span style=\"font-weight: bold\">Continuous Monitoring:</span> Regular monitoring of efficiency metrics is crucial to maintain and improve the       \n",
              "<span style=\"color: #808000; text-decoration-color: #808000; font-weight: bold\">      </span>current level.                                                                                               \n",
              "\n",
              "<span style=\"font-weight: bold\">Overall Analysis and Potential Insights:</span>                                                                           \n",
              "\n",
              "<span style=\"color: #808000; text-decoration-color: #808000; font-weight: bold\"> • </span><span style=\"font-weight: bold\">Strengths:</span> The analysis highlights strong accountability and a solid level of economic efficiency. These are    \n",
              "<span style=\"color: #808000; text-decoration-color: #808000; font-weight: bold\">   </span>crucial for success in most contexts.                                                                           \n",
              "<span style=\"color: #808000; text-decoration-color: #808000; font-weight: bold\"> • </span><span style=\"font-weight: bold\">Balanced Performance:</span> The entity or individual is performing well in key areas.                                 \n",
              "<span style=\"color: #808000; text-decoration-color: #808000; font-weight: bold\"> • </span><span style=\"font-weight: bold\">Focus Areas:</span> While both scores are good, the economic efficiency score indicates a slight opportunity for       \n",
              "<span style=\"color: #808000; text-decoration-color: #808000; font-weight: bold\">   </span>further improvement. This could be a good area to focus on if the goal is to achieve peak performance.          \n",
              "<span style=\"color: #808000; text-decoration-color: #808000; font-weight: bold\"> • </span><span style=\"font-weight: bold\">Need for Context:</span>  It's important to remember that these scores are likely based on specific criteria and a     \n",
              "<span style=\"color: #808000; text-decoration-color: #808000; font-weight: bold\">   </span>specific context. To get a full understanding, it would be useful to know:                                      \n",
              "<span style=\"color: #808000; text-decoration-color: #808000; font-weight: bold\">    • </span><span style=\"font-weight: bold\">The specific definition of \"accountability\" and \"economic efficiency\" used.</span>                                  \n",
              "<span style=\"color: #808000; text-decoration-color: #808000; font-weight: bold\">    • </span><span style=\"font-weight: bold\">The scale used for the scores (e.g., 1-5, 1-10, etc.).</span>                                                       \n",
              "<span style=\"color: #808000; text-decoration-color: #808000; font-weight: bold\">    • </span><span style=\"font-weight: bold\">What the scores are being measured against (e.g., past performance, industry benchmarks, goals).</span>             \n",
              "<span style=\"color: #808000; text-decoration-color: #808000; font-weight: bold\">    • </span><span style=\"font-weight: bold\">The type of entity or individual being assessed (e.g., individual employee, department, project, </span>            \n",
              "<span style=\"color: #808000; text-decoration-color: #808000; font-weight: bold\">      </span><span style=\"font-weight: bold\">organization).</span>                                                                                               \n",
              "\n",
              "<span style=\"font-weight: bold\">Recommendations:</span>                                                                                                   \n",
              "\n",
              "<span style=\"color: #808000; text-decoration-color: #808000; font-weight: bold\"> • </span><span style=\"font-weight: bold\">Maintain High Accountability:</span> Continue practices that foster accountability.                                    \n",
              "<span style=\"color: #808000; text-decoration-color: #808000; font-weight: bold\"> • </span><span style=\"font-weight: bold\">Identify Efficiency Opportunities:</span> Conduct a detailed review of processes to identify areas where efficiency can\n",
              "<span style=\"color: #808000; text-decoration-color: #808000; font-weight: bold\">   </span>be further improved. This might involve process mapping, data analysis, and feedback from stakeholders.         \n",
              "<span style=\"color: #808000; text-decoration-color: #808000; font-weight: bold\"> • </span><span style=\"font-weight: bold\">Set Clear Targets:</span> Establish specific, measurable, achievable, relevant, and time-bound (SMART) goals for       \n",
              "<span style=\"color: #808000; text-decoration-color: #808000; font-weight: bold\">   </span>economic efficiency.                                                                                            \n",
              "<span style=\"color: #808000; text-decoration-color: #808000; font-weight: bold\"> • </span><span style=\"font-weight: bold\">Monitor and Adjust:</span> Continuously monitor performance against targets and make adjustments as needed.            \n",
              "\n",
              "<span style=\"font-weight: bold\">In Conclusion:</span>                                                                                                     \n",
              "\n",
              "This performance analysis paints a picture of a well-performing entity or individual with strong accountability and\n",
              "good economic efficiency. By focusing on continuous improvement, particularly in the area of economic efficiency,  \n",
              "even better results can be achieved. Remember to consider the context and underlying data for a comprehensive      \n",
              "understanding.                                                                                                     \n",
              "</pre>\n"
            ]
          },
          "metadata": {}
        }
      ]
    },
    {
      "cell_type": "code",
      "source": [
        "print(\"=====ADVANCED ANALYSIS RESULT=====\")\n",
        "print_md(advanced_result.content)"
      ],
      "metadata": {
        "colab": {
          "base_uri": "https://localhost:8080/",
          "height": 1000
        },
        "id": "2QugQzGP73rh",
        "outputId": "62c19df6-5038-4bef-cbba-9ba824d4c195"
      },
      "execution_count": 13,
      "outputs": [
        {
          "output_type": "stream",
          "name": "stdout",
          "text": [
            "=====ADVANCED ANALYSIS RESULT=====\n"
          ]
        },
        {
          "output_type": "display_data",
          "data": {
            "text/plain": [
              "Okay, a Combined Score of 20.0 suggests a very high level of performance. To provide a more detailed analysis, we  \n",
              "need context. However, based on the score alone, here's what we can infer and some questions we should ask:        \n",
              "\n",
              "\u001b[1mInferences Based on a Score of 20.0:\u001b[0m                                                                               \n",
              "\n",
              "\u001b[1;33m • \u001b[0m\u001b[1mExceptional Performance:\u001b[0m A score of 20.0 is likely at or near the top of the possible scoring range. This       \n",
              "\u001b[1;33m   \u001b[0mindicates that the individual, team, system, or whatever is being evaluated is performing exceptionally well.   \n",
              "\u001b[1;33m • \u001b[0m\u001b[1mSignificant Strengths:\u001b[0m This score suggests that whatever is being assessed possesses significant strengths and  \n",
              "\u001b[1;33m   \u001b[0mlikely excels in most areas.                                                                                    \n",
              "\u001b[1;33m • \u001b[0m\u001b[1mPotential for Mastery:\u001b[0m The performance level is indicative of a high degree of mastery and competence.          \n",
              "\u001b[1;33m • \u001b[0m\u001b[1mPossible Benchmark:\u001b[0m Such a high score could be used as a benchmark for others to strive towards.                \n",
              "\n",
              "\u001b[1mQuestions to Ask for a Deeper Analysis:\u001b[0m                                                                            \n",
              "\n",
              "To truly understand the significance of this score, we need to know:                                               \n",
              "\n",
              "\u001b[1;33m 1 \u001b[0m\u001b[1mWhat is being measured?\u001b[0m                                                                                         \n",
              "\u001b[1;33m   \u001b[0m\u001b[1;33m • \u001b[0mIs it an individual's performance on a specific task?                                                        \n",
              "\u001b[1;33m   \u001b[0m\u001b[1;33m • \u001b[0mIs it a team's output on a project?                                                                          \n",
              "\u001b[1;33m   \u001b[0m\u001b[1;33m • \u001b[0mIs it a system's efficiency?                                                                                 \n",
              "\u001b[1;33m   \u001b[0m\u001b[1;33m • \u001b[0mWhat is the specific domain or field this score applies to?                                                  \n",
              "\u001b[1;33m   \u001b[0m\u001b[1;33m • \u001b[0mIs it a game, a business metric, a scientific experiment, or something else?                                 \n",
              "\u001b[1;33m 2 \u001b[0m\u001b[1mWhat is the scoring scale?\u001b[0m                                                                                      \n",
              "\u001b[1;33m   \u001b[0m\u001b[1;33m • \u001b[0mWhat is the minimum and maximum possible score?                                                              \n",
              "\u001b[1;33m   \u001b[0m\u001b[1;33m • \u001b[0mIs the scale linear, logarithmic, or another type?                                                           \n",
              "\u001b[1;33m   \u001b[0m\u001b[1;33m • \u001b[0mWhat does each point on the scale represent in terms of performance?                                         \n",
              "\u001b[1;33m   \u001b[0m\u001b[1;33m • \u001b[0mIs this a normalized score, or is it based on raw data?                                                      \n",
              "\u001b[1;33m 3 \u001b[0m\u001b[1mWhat are the individual components of the \"Combined Score\"?\u001b[0m                                                     \n",
              "\u001b[1;33m   \u001b[0m\u001b[1;33m • \u001b[0mWhat specific metrics are being combined to arrive at the final score?                                       \n",
              "\u001b[1;33m   \u001b[0m\u001b[1;33m • \u001b[0mHow are these metrics weighted?                                                                              \n",
              "\u001b[1;33m   \u001b[0m\u001b[1;33m • \u001b[0mWhat are the individual scores for each component? Understanding the breakdown will reveal strengths and     \n",
              "\u001b[1;33m   \u001b[0m\u001b[1;33m   \u001b[0mpotential areas for marginal improvement.                                                                    \n",
              "\u001b[1;33m 4 \u001b[0m\u001b[1mHow does this score compare to others?\u001b[0m                                                                          \n",
              "\u001b[1;33m   \u001b[0m\u001b[1;33m • \u001b[0mIs this a record-breaking score?                                                                             \n",
              "\u001b[1;33m   \u001b[0m\u001b[1;33m • \u001b[0mHow does it compare to average performance in this field?                                                    \n",
              "\u001b[1;33m   \u001b[0m\u001b[1;33m • \u001b[0mHow does it compare to past performances of the same entity?                                                 \n",
              "\u001b[1;33m   \u001b[0m\u001b[1;33m • \u001b[0mIs this score consistent, or is it an outlier?                                                               \n",
              "\u001b[1;33m 5 \u001b[0m\u001b[1mWhat are the context and circumstances?\u001b[0m                                                                         \n",
              "\u001b[1;33m   \u001b[0m\u001b[1;33m • \u001b[0mWere there any specific challenges or advantages present during the evaluation?                              \n",
              "\u001b[1;33m   \u001b[0m\u001b[1;33m • \u001b[0mWere there any external factors that might have influenced the score?                                        \n",
              "\u001b[1;33m   \u001b[0m\u001b[1;33m • \u001b[0mWhat resources were available?                                                                               \n",
              "\u001b[1;33m 6 \u001b[0m\u001b[1mWhat are the implications of this score?\u001b[0m                                                                        \n",
              "\u001b[1;33m   \u001b[0m\u001b[1;33m • \u001b[0mWhat are the consequences of achieving such a high score?                                                    \n",
              "\u001b[1;33m   \u001b[0m\u001b[1;33m • \u001b[0mAre there any rewards or recognitions associated with this performance?                                      \n",
              "\u001b[1;33m   \u001b[0m\u001b[1;33m • \u001b[0mWhat are the next steps?                                                                                     \n",
              "\n",
              "\u001b[1mExample Scenarios and Analysis:\u001b[0m                                                                                    \n",
              "\n",
              "\u001b[1;33m • \u001b[0m\u001b[1mScenario 1: Game Score:\u001b[0m If this score is from a game, a 20.0 might mean the player achieved a perfect score,    \n",
              "\u001b[1;33m   \u001b[0mcompleted all challenges, or reached the highest level of mastery. Further analysis would look at the individual\n",
              "\u001b[1;33m   \u001b[0machievements within the game.                                                                                   \n",
              "\u001b[1;33m • \u001b[0m\u001b[1mScenario 2: Business Metric:\u001b[0m If this is a business metric, a 20.0 could mean the company exceeded all its       \n",
              "\u001b[1;33m   \u001b[0mtargets for a given period. We'd need to analyze which specific areas (sales, customer satisfaction, efficiency)\n",
              "\u001b[1;33m   \u001b[0mcontributed most to this score.                                                                                 \n",
              "\u001b[1;33m • \u001b[0m\u001b[1mScenario 3: Scientific Experiment:\u001b[0m In an experiment, a 20.0 might suggest that the experiment produced flawless \n",
              "\u001b[1;33m   \u001b[0mresults with a high degree of accuracy. Further analysis would focus on the statistical significance of the     \n",
              "\u001b[1;33m   \u001b[0mfindings.                                                                                                       \n",
              "\n",
              "\u001b[1mIn conclusion, a Combined Score of 20.0 is highly impressive, but without more context, it's difficult to provide a\u001b[0m\n",
              "\u001b[1mtruly insightful analysis. Please provide more information about what this score represents, and we can explore its\u001b[0m\n",
              "\u001b[1msignificance in greater detail.\u001b[0m                                                                                    \n"
            ],
            "text/html": [
              "<pre style=\"white-space:pre;overflow-x:auto;line-height:normal;font-family:Menlo,'DejaVu Sans Mono',consolas,'Courier New',monospace\">Okay, a Combined Score of 20.0 suggests a very high level of performance. To provide a more detailed analysis, we  \n",
              "need context. However, based on the score alone, here's what we can infer and some questions we should ask:        \n",
              "\n",
              "<span style=\"font-weight: bold\">Inferences Based on a Score of 20.0:</span>                                                                               \n",
              "\n",
              "<span style=\"color: #808000; text-decoration-color: #808000; font-weight: bold\"> • </span><span style=\"font-weight: bold\">Exceptional Performance:</span> A score of 20.0 is likely at or near the top of the possible scoring range. This       \n",
              "<span style=\"color: #808000; text-decoration-color: #808000; font-weight: bold\">   </span>indicates that the individual, team, system, or whatever is being evaluated is performing exceptionally well.   \n",
              "<span style=\"color: #808000; text-decoration-color: #808000; font-weight: bold\"> • </span><span style=\"font-weight: bold\">Significant Strengths:</span> This score suggests that whatever is being assessed possesses significant strengths and  \n",
              "<span style=\"color: #808000; text-decoration-color: #808000; font-weight: bold\">   </span>likely excels in most areas.                                                                                    \n",
              "<span style=\"color: #808000; text-decoration-color: #808000; font-weight: bold\"> • </span><span style=\"font-weight: bold\">Potential for Mastery:</span> The performance level is indicative of a high degree of mastery and competence.          \n",
              "<span style=\"color: #808000; text-decoration-color: #808000; font-weight: bold\"> • </span><span style=\"font-weight: bold\">Possible Benchmark:</span> Such a high score could be used as a benchmark for others to strive towards.                \n",
              "\n",
              "<span style=\"font-weight: bold\">Questions to Ask for a Deeper Analysis:</span>                                                                            \n",
              "\n",
              "To truly understand the significance of this score, we need to know:                                               \n",
              "\n",
              "<span style=\"color: #808000; text-decoration-color: #808000; font-weight: bold\"> 1 </span><span style=\"font-weight: bold\">What is being measured?</span>                                                                                         \n",
              "<span style=\"color: #808000; text-decoration-color: #808000; font-weight: bold\">    • </span>Is it an individual's performance on a specific task?                                                        \n",
              "<span style=\"color: #808000; text-decoration-color: #808000; font-weight: bold\">    • </span>Is it a team's output on a project?                                                                          \n",
              "<span style=\"color: #808000; text-decoration-color: #808000; font-weight: bold\">    • </span>Is it a system's efficiency?                                                                                 \n",
              "<span style=\"color: #808000; text-decoration-color: #808000; font-weight: bold\">    • </span>What is the specific domain or field this score applies to?                                                  \n",
              "<span style=\"color: #808000; text-decoration-color: #808000; font-weight: bold\">    • </span>Is it a game, a business metric, a scientific experiment, or something else?                                 \n",
              "<span style=\"color: #808000; text-decoration-color: #808000; font-weight: bold\"> 2 </span><span style=\"font-weight: bold\">What is the scoring scale?</span>                                                                                      \n",
              "<span style=\"color: #808000; text-decoration-color: #808000; font-weight: bold\">    • </span>What is the minimum and maximum possible score?                                                              \n",
              "<span style=\"color: #808000; text-decoration-color: #808000; font-weight: bold\">    • </span>Is the scale linear, logarithmic, or another type?                                                           \n",
              "<span style=\"color: #808000; text-decoration-color: #808000; font-weight: bold\">    • </span>What does each point on the scale represent in terms of performance?                                         \n",
              "<span style=\"color: #808000; text-decoration-color: #808000; font-weight: bold\">    • </span>Is this a normalized score, or is it based on raw data?                                                      \n",
              "<span style=\"color: #808000; text-decoration-color: #808000; font-weight: bold\"> 3 </span><span style=\"font-weight: bold\">What are the individual components of the \"Combined Score\"?</span>                                                     \n",
              "<span style=\"color: #808000; text-decoration-color: #808000; font-weight: bold\">    • </span>What specific metrics are being combined to arrive at the final score?                                       \n",
              "<span style=\"color: #808000; text-decoration-color: #808000; font-weight: bold\">    • </span>How are these metrics weighted?                                                                              \n",
              "<span style=\"color: #808000; text-decoration-color: #808000; font-weight: bold\">    • </span>What are the individual scores for each component? Understanding the breakdown will reveal strengths and     \n",
              "<span style=\"color: #808000; text-decoration-color: #808000; font-weight: bold\">      </span>potential areas for marginal improvement.                                                                    \n",
              "<span style=\"color: #808000; text-decoration-color: #808000; font-weight: bold\"> 4 </span><span style=\"font-weight: bold\">How does this score compare to others?</span>                                                                          \n",
              "<span style=\"color: #808000; text-decoration-color: #808000; font-weight: bold\">    • </span>Is this a record-breaking score?                                                                             \n",
              "<span style=\"color: #808000; text-decoration-color: #808000; font-weight: bold\">    • </span>How does it compare to average performance in this field?                                                    \n",
              "<span style=\"color: #808000; text-decoration-color: #808000; font-weight: bold\">    • </span>How does it compare to past performances of the same entity?                                                 \n",
              "<span style=\"color: #808000; text-decoration-color: #808000; font-weight: bold\">    • </span>Is this score consistent, or is it an outlier?                                                               \n",
              "<span style=\"color: #808000; text-decoration-color: #808000; font-weight: bold\"> 5 </span><span style=\"font-weight: bold\">What are the context and circumstances?</span>                                                                         \n",
              "<span style=\"color: #808000; text-decoration-color: #808000; font-weight: bold\">    • </span>Were there any specific challenges or advantages present during the evaluation?                              \n",
              "<span style=\"color: #808000; text-decoration-color: #808000; font-weight: bold\">    • </span>Were there any external factors that might have influenced the score?                                        \n",
              "<span style=\"color: #808000; text-decoration-color: #808000; font-weight: bold\">    • </span>What resources were available?                                                                               \n",
              "<span style=\"color: #808000; text-decoration-color: #808000; font-weight: bold\"> 6 </span><span style=\"font-weight: bold\">What are the implications of this score?</span>                                                                        \n",
              "<span style=\"color: #808000; text-decoration-color: #808000; font-weight: bold\">    • </span>What are the consequences of achieving such a high score?                                                    \n",
              "<span style=\"color: #808000; text-decoration-color: #808000; font-weight: bold\">    • </span>Are there any rewards or recognitions associated with this performance?                                      \n",
              "<span style=\"color: #808000; text-decoration-color: #808000; font-weight: bold\">    • </span>What are the next steps?                                                                                     \n",
              "\n",
              "<span style=\"font-weight: bold\">Example Scenarios and Analysis:</span>                                                                                    \n",
              "\n",
              "<span style=\"color: #808000; text-decoration-color: #808000; font-weight: bold\"> • </span><span style=\"font-weight: bold\">Scenario 1: Game Score:</span> If this score is from a game, a 20.0 might mean the player achieved a perfect score,    \n",
              "<span style=\"color: #808000; text-decoration-color: #808000; font-weight: bold\">   </span>completed all challenges, or reached the highest level of mastery. Further analysis would look at the individual\n",
              "<span style=\"color: #808000; text-decoration-color: #808000; font-weight: bold\">   </span>achievements within the game.                                                                                   \n",
              "<span style=\"color: #808000; text-decoration-color: #808000; font-weight: bold\"> • </span><span style=\"font-weight: bold\">Scenario 2: Business Metric:</span> If this is a business metric, a 20.0 could mean the company exceeded all its       \n",
              "<span style=\"color: #808000; text-decoration-color: #808000; font-weight: bold\">   </span>targets for a given period. We'd need to analyze which specific areas (sales, customer satisfaction, efficiency)\n",
              "<span style=\"color: #808000; text-decoration-color: #808000; font-weight: bold\">   </span>contributed most to this score.                                                                                 \n",
              "<span style=\"color: #808000; text-decoration-color: #808000; font-weight: bold\"> • </span><span style=\"font-weight: bold\">Scenario 3: Scientific Experiment:</span> In an experiment, a 20.0 might suggest that the experiment produced flawless \n",
              "<span style=\"color: #808000; text-decoration-color: #808000; font-weight: bold\">   </span>results with a high degree of accuracy. Further analysis would focus on the statistical significance of the     \n",
              "<span style=\"color: #808000; text-decoration-color: #808000; font-weight: bold\">   </span>findings.                                                                                                       \n",
              "\n",
              "<span style=\"font-weight: bold\">In conclusion, a Combined Score of 20.0 is highly impressive, but without more context, it's difficult to provide a</span>\n",
              "<span style=\"font-weight: bold\">truly insightful analysis. Please provide more information about what this score represents, and we can explore its</span>\n",
              "<span style=\"font-weight: bold\">significance in greater detail.</span>                                                                                    \n",
              "</pre>\n"
            ]
          },
          "metadata": {}
        }
      ]
    },
    {
      "cell_type": "markdown",
      "source": [
        "##4. Using the @chain decorator"
      ],
      "metadata": {
        "id": "2Ekar1m_8NeM"
      }
    },
    {
      "cell_type": "code",
      "source": [
        "from langchain_core.prompts import ChatPromptTemplate\n",
        "from langchain_core.output_parsers import StrOutputParser\n",
        "from langchain_core.runnables import chain\n",
        "from langchain_google_genai import ChatGoogleGenerativeAI\n",
        "\n",
        "# Define the prompts\n",
        "prompt1 = ChatPromptTemplate.from_template(\n",
        "    \"Calculate the ROI (Return on Investment) given the following:\\nRevenue: {revenue}\\nCosts: {costs}\\nProvide a detailed explanation.\"\n",
        ")\n",
        "\n",
        "prompt2 = ChatPromptTemplate.from_template(\n",
        "    \"Based on this financial summary, calculate the VAN (Net Present Value) and TIR (Internal Rate of Return):\\nROI Explanation: {roi_explanation}\\nAdditional details: {details}\"\n",
        ")\n",
        "\n",
        "@chain\n",
        "def roi_van_tir_chain(data):\n",
        "    # Step 1: Calculate ROI\n",
        "    prompt_val1 = prompt1.invoke({\"revenue\": data[\"revenue\"], \"costs\": data[\"costs\"]})\n",
        "    output1 = ChatGoogleGenerativeAI(model='gemini-2.0-flash-exp').invoke(prompt_val1)\n",
        "    parsed_output1 = StrOutputParser().invoke(output1)\n",
        "\n",
        "    # Step 2: Calculate VAN and TIR\n",
        "    chain2 = prompt2 | ChatGoogleGenerativeAI(model='gemini-2.0-flash-exp') | StrOutputParser()\n",
        "    return chain2.invoke({\"roi_explanation\": parsed_output1, \"details\": data[\"details\"]})"
      ],
      "metadata": {
        "id": "podkF4Ac8SFa"
      },
      "execution_count": 14,
      "outputs": []
    },
    {
      "cell_type": "code",
      "source": [
        "result = roi_van_tir_chain.invoke({\n",
        "    \"revenue\": 15000,\n",
        "    \"costs\": 5000,\n",
        "    \"details\": \"The investment duration is 5 years with a 10% discount rate.\"\n",
        "})"
      ],
      "metadata": {
        "id": "v-57g1Aq8zKi"
      },
      "execution_count": 15,
      "outputs": []
    },
    {
      "cell_type": "code",
      "source": [
        "print_md(result)"
      ],
      "metadata": {
        "colab": {
          "base_uri": "https://localhost:8080/",
          "height": 1000
        },
        "id": "uwludSmZ84ov",
        "outputId": "8b3059bb-50ef-4c6e-8056-bfb9896297b2"
      },
      "execution_count": 16,
      "outputs": [
        {
          "output_type": "display_data",
          "data": {
            "text/plain": [
              "Okay, let's calculate the Net Present Value (NPV) and Internal Rate of Return (IRR) based on the information       \n",
              "provided.                                                                                                          \n",
              "\n",
              "\u001b[1mUnderstanding NPV and IRR\u001b[0m                                                                                          \n",
              "\n",
              "\u001b[1;33m • \u001b[0m\u001b[1mNet Present Value (NPV):\u001b[0m NPV is the sum of the present values of all cash flows (both inflows and outflows)     \n",
              "\u001b[1;33m   \u001b[0massociated with an investment. It tells you the net gain or loss in today's money terms from making the         \n",
              "\u001b[1;33m   \u001b[0minvestment. A positive NPV suggests a profitable investment, while a negative NPV suggests a loss.              \n",
              "\u001b[1;33m • \u001b[0m\u001b[1mInternal Rate of Return (IRR):\u001b[0m IRR is the discount rate at which the NPV of an investment equals zero. It       \n",
              "\u001b[1;33m   \u001b[0mrepresents the expected rate of return on the investment. Generally, the higher the IRR, the more desirable the \n",
              "\u001b[1;33m   \u001b[0minvestment.                                                                                                     \n",
              "\n",
              "\u001b[1mGiven Information:\u001b[0m                                                                                                 \n",
              "\n",
              "\u001b[1;33m • \u001b[0m\u001b[1mInitial Investment (Cost):\u001b[0m $5,000 (This is a cash outflow at time zero)                                         \n",
              "\u001b[1;33m • \u001b[0m\u001b[1mNet Profit (Annual Cash Flow):\u001b[0m $10,000 (This is assumed to be an annual inflow for 5 years)                     \n",
              "\u001b[1;33m • \u001b[0m\u001b[1mInvestment Duration:\u001b[0m 5 years                                                                                    \n",
              "\u001b[1;33m • \u001b[0m\u001b[1mDiscount Rate:\u001b[0m 10%                                                                                              \n",
              "\n",
              "\u001b[1mCalculations\u001b[0m                                                                                                       \n",
              "\n",
              "\u001b[1m1. Net Present Value (NPV)\u001b[0m                                                                                         \n",
              "\n",
              "To calculate NPV, we need to discount each year's cash flow back to its present value and then sum them up,        \n",
              "subtracting the initial investment.                                                                                \n",
              "\n",
              "The formula for present value (PV) of a single cash flow is:                                                       \n",
              "\n",
              "PV = CF / (1 + r)^n                                                                                                \n",
              "\n",
              "Where:                                                                                                             \n",
              "\n",
              "\u001b[1;33m • \u001b[0mCF = Cash Flow                                                                                                  \n",
              "\u001b[1;33m • \u001b[0mr = Discount Rate                                                                                               \n",
              "\u001b[1;33m • \u001b[0mn = Year number                                                                                                 \n",
              "\n",
              "Let's calculate the present value of each year's cash flow:                                                        \n",
              "\n",
              "\u001b[1;33m • \u001b[0m\u001b[1mYear 1:\u001b[0m $10,000 / (1 + 0.10)^1 = $9,090.91                                                                      \n",
              "\u001b[1;33m • \u001b[0m\u001b[1mYear 2:\u001b[0m $10,000 / (1 + 0.10)^2 = $8,264.46                                                                      \n",
              "\u001b[1;33m • \u001b[0m\u001b[1mYear 3:\u001b[0m $10,000 / (1 + 0.10)^3 = $7,513.15                                                                      \n",
              "\u001b[1;33m • \u001b[0m\u001b[1mYear 4:\u001b[0m $10,000 / (1 + 0.10)^4 = $6,830.13                                                                      \n",
              "\u001b[1;33m • \u001b[0m\u001b[1mYear 5:\u001b[0m $10,000 / (1 + 0.10)^5 = $6,209.21                                                                      \n",
              "\n",
              "Now, let's calculate the NPV:                                                                                      \n",
              "\n",
              "NPV = -Initial Investment + PV of Year 1 + PV of Year 2 + PV of Year 3 + PV of Year 4 + PV of Year 5               \n",
              "\n",
              "NPV = -$5,000 + $9,090.91 + $8,264.46 + $7,513.15 + $6,830.13 + $6,209.21                                          \n",
              "\n",
              "\u001b[1mNPV = $32,907.86\u001b[0m                                                                                                   \n",
              "\n",
              "\u001b[1m2. Internal Rate of Return (IRR)\u001b[0m                                                                                   \n",
              "\n",
              "Calculating IRR manually is more complex. It requires finding the discount rate that makes the NPV equal to zero.  \n",
              "This often involves trial and error or using financial calculators/software. Since this is a text based response,  \n",
              "it is not possible to use financial software.  However, we can estimate the IRR based on the NPV.                  \n",
              "\n",
              "Since the NPV is positive at a 10% discount rate, and the initial investment is only $5000, the IRR will be        \n",
              "significantly higher than 10%. Typically, the IRR for an investment like this will be closer to 70%.               \n",
              "\n",
              "\u001b[1mSummary\u001b[0m                                                                                                            \n",
              "\n",
              "\u001b[1;33m • \u001b[0m\u001b[1mNet Present Value (NPV):\u001b[0m Approximately $32,907.86                                                               \n",
              "\u001b[1;33m • \u001b[0m\u001b[1mInternal Rate of Return (IRR):\u001b[0m Approximately 70%                                                                \n",
              "\n",
              "\u001b[1mInterpretation\u001b[0m                                                                                                     \n",
              "\n",
              "\u001b[1;33m • \u001b[0m\u001b[1mNPV:\u001b[0m The positive NPV of $32,907.86 indicates that the investment is profitable and adds value to the business. \n",
              "\u001b[1;33m   \u001b[0mIn today's dollars, this investment is expected to generate a net gain of about $32,907.86.                     \n",
              "\u001b[1;33m • \u001b[0m\u001b[1mIRR:\u001b[0m The IRR of approximately 70% suggests that the investment is expected to yield a very high return, making  \n",
              "\u001b[1;33m   \u001b[0mit a potentially very attractive investment.                                                                    \n",
              "\n",
              "\u001b[1mImportant Note:\u001b[0m                                                                                                    \n",
              "\n",
              "\u001b[1;33m • \u001b[0mThe IRR calculation is an estimate and would require a financial calculator to obtain a precise figure.         \n",
              "\u001b[1;33m • \u001b[0mBoth NPV and IRR are valuable tools for investment analysis, but should be considered alongside other factors   \n",
              "\u001b[1;33m   \u001b[0mwhen making investment decisions.                                                                               \n"
            ],
            "text/html": [
              "<pre style=\"white-space:pre;overflow-x:auto;line-height:normal;font-family:Menlo,'DejaVu Sans Mono',consolas,'Courier New',monospace\">Okay, let's calculate the Net Present Value (NPV) and Internal Rate of Return (IRR) based on the information       \n",
              "provided.                                                                                                          \n",
              "\n",
              "<span style=\"font-weight: bold\">Understanding NPV and IRR</span>                                                                                          \n",
              "\n",
              "<span style=\"color: #808000; text-decoration-color: #808000; font-weight: bold\"> • </span><span style=\"font-weight: bold\">Net Present Value (NPV):</span> NPV is the sum of the present values of all cash flows (both inflows and outflows)     \n",
              "<span style=\"color: #808000; text-decoration-color: #808000; font-weight: bold\">   </span>associated with an investment. It tells you the net gain or loss in today's money terms from making the         \n",
              "<span style=\"color: #808000; text-decoration-color: #808000; font-weight: bold\">   </span>investment. A positive NPV suggests a profitable investment, while a negative NPV suggests a loss.              \n",
              "<span style=\"color: #808000; text-decoration-color: #808000; font-weight: bold\"> • </span><span style=\"font-weight: bold\">Internal Rate of Return (IRR):</span> IRR is the discount rate at which the NPV of an investment equals zero. It       \n",
              "<span style=\"color: #808000; text-decoration-color: #808000; font-weight: bold\">   </span>represents the expected rate of return on the investment. Generally, the higher the IRR, the more desirable the \n",
              "<span style=\"color: #808000; text-decoration-color: #808000; font-weight: bold\">   </span>investment.                                                                                                     \n",
              "\n",
              "<span style=\"font-weight: bold\">Given Information:</span>                                                                                                 \n",
              "\n",
              "<span style=\"color: #808000; text-decoration-color: #808000; font-weight: bold\"> • </span><span style=\"font-weight: bold\">Initial Investment (Cost):</span> $5,000 (This is a cash outflow at time zero)                                         \n",
              "<span style=\"color: #808000; text-decoration-color: #808000; font-weight: bold\"> • </span><span style=\"font-weight: bold\">Net Profit (Annual Cash Flow):</span> $10,000 (This is assumed to be an annual inflow for 5 years)                     \n",
              "<span style=\"color: #808000; text-decoration-color: #808000; font-weight: bold\"> • </span><span style=\"font-weight: bold\">Investment Duration:</span> 5 years                                                                                    \n",
              "<span style=\"color: #808000; text-decoration-color: #808000; font-weight: bold\"> • </span><span style=\"font-weight: bold\">Discount Rate:</span> 10%                                                                                              \n",
              "\n",
              "<span style=\"font-weight: bold\">Calculations</span>                                                                                                       \n",
              "\n",
              "<span style=\"font-weight: bold\">1. Net Present Value (NPV)</span>                                                                                         \n",
              "\n",
              "To calculate NPV, we need to discount each year's cash flow back to its present value and then sum them up,        \n",
              "subtracting the initial investment.                                                                                \n",
              "\n",
              "The formula for present value (PV) of a single cash flow is:                                                       \n",
              "\n",
              "PV = CF / (1 + r)^n                                                                                                \n",
              "\n",
              "Where:                                                                                                             \n",
              "\n",
              "<span style=\"color: #808000; text-decoration-color: #808000; font-weight: bold\"> • </span>CF = Cash Flow                                                                                                  \n",
              "<span style=\"color: #808000; text-decoration-color: #808000; font-weight: bold\"> • </span>r = Discount Rate                                                                                               \n",
              "<span style=\"color: #808000; text-decoration-color: #808000; font-weight: bold\"> • </span>n = Year number                                                                                                 \n",
              "\n",
              "Let's calculate the present value of each year's cash flow:                                                        \n",
              "\n",
              "<span style=\"color: #808000; text-decoration-color: #808000; font-weight: bold\"> • </span><span style=\"font-weight: bold\">Year 1:</span> $10,000 / (1 + 0.10)^1 = $9,090.91                                                                      \n",
              "<span style=\"color: #808000; text-decoration-color: #808000; font-weight: bold\"> • </span><span style=\"font-weight: bold\">Year 2:</span> $10,000 / (1 + 0.10)^2 = $8,264.46                                                                      \n",
              "<span style=\"color: #808000; text-decoration-color: #808000; font-weight: bold\"> • </span><span style=\"font-weight: bold\">Year 3:</span> $10,000 / (1 + 0.10)^3 = $7,513.15                                                                      \n",
              "<span style=\"color: #808000; text-decoration-color: #808000; font-weight: bold\"> • </span><span style=\"font-weight: bold\">Year 4:</span> $10,000 / (1 + 0.10)^4 = $6,830.13                                                                      \n",
              "<span style=\"color: #808000; text-decoration-color: #808000; font-weight: bold\"> • </span><span style=\"font-weight: bold\">Year 5:</span> $10,000 / (1 + 0.10)^5 = $6,209.21                                                                      \n",
              "\n",
              "Now, let's calculate the NPV:                                                                                      \n",
              "\n",
              "NPV = -Initial Investment + PV of Year 1 + PV of Year 2 + PV of Year 3 + PV of Year 4 + PV of Year 5               \n",
              "\n",
              "NPV = -$5,000 + $9,090.91 + $8,264.46 + $7,513.15 + $6,830.13 + $6,209.21                                          \n",
              "\n",
              "<span style=\"font-weight: bold\">NPV = $32,907.86</span>                                                                                                   \n",
              "\n",
              "<span style=\"font-weight: bold\">2. Internal Rate of Return (IRR)</span>                                                                                   \n",
              "\n",
              "Calculating IRR manually is more complex. It requires finding the discount rate that makes the NPV equal to zero.  \n",
              "This often involves trial and error or using financial calculators/software. Since this is a text based response,  \n",
              "it is not possible to use financial software.  However, we can estimate the IRR based on the NPV.                  \n",
              "\n",
              "Since the NPV is positive at a 10% discount rate, and the initial investment is only $5000, the IRR will be        \n",
              "significantly higher than 10%. Typically, the IRR for an investment like this will be closer to 70%.               \n",
              "\n",
              "<span style=\"font-weight: bold\">Summary</span>                                                                                                            \n",
              "\n",
              "<span style=\"color: #808000; text-decoration-color: #808000; font-weight: bold\"> • </span><span style=\"font-weight: bold\">Net Present Value (NPV):</span> Approximately $32,907.86                                                               \n",
              "<span style=\"color: #808000; text-decoration-color: #808000; font-weight: bold\"> • </span><span style=\"font-weight: bold\">Internal Rate of Return (IRR):</span> Approximately 70%                                                                \n",
              "\n",
              "<span style=\"font-weight: bold\">Interpretation</span>                                                                                                     \n",
              "\n",
              "<span style=\"color: #808000; text-decoration-color: #808000; font-weight: bold\"> • </span><span style=\"font-weight: bold\">NPV:</span> The positive NPV of $32,907.86 indicates that the investment is profitable and adds value to the business. \n",
              "<span style=\"color: #808000; text-decoration-color: #808000; font-weight: bold\">   </span>In today's dollars, this investment is expected to generate a net gain of about $32,907.86.                     \n",
              "<span style=\"color: #808000; text-decoration-color: #808000; font-weight: bold\"> • </span><span style=\"font-weight: bold\">IRR:</span> The IRR of approximately 70% suggests that the investment is expected to yield a very high return, making  \n",
              "<span style=\"color: #808000; text-decoration-color: #808000; font-weight: bold\">   </span>it a potentially very attractive investment.                                                                    \n",
              "\n",
              "<span style=\"font-weight: bold\">Important Note:</span>                                                                                                    \n",
              "\n",
              "<span style=\"color: #808000; text-decoration-color: #808000; font-weight: bold\"> • </span>The IRR calculation is an estimate and would require a financial calculator to obtain a precise figure.         \n",
              "<span style=\"color: #808000; text-decoration-color: #808000; font-weight: bold\"> • </span>Both NPV and IRR are valuable tools for investment analysis, but should be considered alongside other factors   \n",
              "<span style=\"color: #808000; text-decoration-color: #808000; font-weight: bold\">   </span>when making investment decisions.                                                                               \n",
              "</pre>\n"
            ]
          },
          "metadata": {}
        }
      ]
    },
    {
      "cell_type": "markdown",
      "source": [
        "##5. Automatic coercion with chains"
      ],
      "metadata": {
        "id": "dRYebUBx8-NU"
      }
    },
    {
      "cell_type": "code",
      "source": [
        "from langchain_core.prompts import ChatPromptTemplate\n",
        "from langchain_google_genai import ChatGoogleGenerativeAI\n",
        "\n",
        "# Define the prompt\n",
        "prompt = ChatPromptTemplate.from_template(\"Tell me a real case scenario about {economic_topic} in the context of Economics Engineering.\")\n",
        "\n",
        "# Initialize the model\n",
        "model = ChatGoogleGenerativeAI(model='gemini-2.0-flash-exp')\n",
        "\n",
        "# Chain with coerced function for Economics Engineering\n",
        "chain_with_coerced_function = prompt | model | (lambda x: x.content.split('.')[0] + \".\")\n",
        "\n",
        "# Example invocation\n",
        "result = chain_with_coerced_function.invoke({\"economic_topic\": \"supply and demand dynamics\"})\n",
        "\n",
        "print(\"Result:\", result)"
      ],
      "metadata": {
        "colab": {
          "base_uri": "https://localhost:8080/"
        },
        "id": "ED2_q4On9Ihn",
        "outputId": "445f3102-4d8e-46b8-8a51-883009705e59"
      },
      "execution_count": 17,
      "outputs": [
        {
          "output_type": "stream",
          "name": "stdout",
          "text": [
            "Result: Okay, let's explore a real-world case scenario focusing on supply and demand dynamics in the context of Economics Engineering:\n",
            "\n",
            "**Scenario: The Lithium-Ion Battery Boom and the Cobalt Shortage**\n",
            "\n",
            "**Context:**\n",
            "\n",
            "* **Product:** Lithium-ion batteries, crucial for electric vehicles (EVs), smartphones, laptops, and other portable electronic devices.\n"
          ]
        }
      ]
    },
    {
      "cell_type": "markdown",
      "source": [
        "##6. Passing run metadata (Callbacks only for OpenAI)"
      ],
      "metadata": {
        "id": "6Ub_B65H9x4J"
      }
    },
    {
      "cell_type": "code",
      "source": [
        "!pip install -q langchain_openai"
      ],
      "metadata": {
        "colab": {
          "base_uri": "https://localhost:8080/"
        },
        "id": "2SDpvwD491LT",
        "outputId": "b34550ea-15bf-4570-8543-5d0e3ff9c5b2"
      },
      "execution_count": 18,
      "outputs": [
        {
          "output_type": "stream",
          "name": "stdout",
          "text": [
            "\u001b[?25l   \u001b[90m━━━━━━━━━━━━━━━━━━━━━━━━━━━━━━━━━━━━━━━━\u001b[0m \u001b[32m0.0/50.9 kB\u001b[0m \u001b[31m?\u001b[0m eta \u001b[36m-:--:--\u001b[0m\r\u001b[2K   \u001b[90m━━━━━━━━━━━━━━━━━━━━━━━━━━━━━━━━━━━━━━━━\u001b[0m \u001b[32m50.9/50.9 kB\u001b[0m \u001b[31m2.3 MB/s\u001b[0m eta \u001b[36m0:00:00\u001b[0m\n",
            "\u001b[?25h\u001b[?25l   \u001b[90m━━━━━━━━━━━━━━━━━━━━━━━━━━━━━━━━━━━━━━━━\u001b[0m \u001b[32m0.0/454.8 kB\u001b[0m \u001b[31m?\u001b[0m eta \u001b[36m-:--:--\u001b[0m\r\u001b[2K   \u001b[90m━━━━━━━━━━━━━━━━━━━━━━━━━━━━━━━━━━━━━━━━\u001b[0m \u001b[32m454.8/454.8 kB\u001b[0m \u001b[31m16.9 MB/s\u001b[0m eta \u001b[36m0:00:00\u001b[0m\n",
            "\u001b[?25h\u001b[?25l   \u001b[90m━━━━━━━━━━━━━━━━━━━━━━━━━━━━━━━━━━━━━━━━\u001b[0m \u001b[32m0.0/1.2 MB\u001b[0m \u001b[31m?\u001b[0m eta \u001b[36m-:--:--\u001b[0m\r\u001b[2K   \u001b[91m━━━━━━━━━━━━━━━━━━━━━━━━━━━━━━━━━━━━━━━\u001b[0m\u001b[91m╸\u001b[0m \u001b[32m1.2/1.2 MB\u001b[0m \u001b[31m59.9 MB/s\u001b[0m eta \u001b[36m0:00:01\u001b[0m\r\u001b[2K   \u001b[90m━━━━━━━━━━━━━━━━━━━━━━━━━━━━━━━━━━━━━━━━\u001b[0m \u001b[32m1.2/1.2 MB\u001b[0m \u001b[31m26.5 MB/s\u001b[0m eta \u001b[36m0:00:00\u001b[0m\n",
            "\u001b[?25h"
          ]
        }
      ]
    },
    {
      "cell_type": "code",
      "source": [
        "import os\n",
        "from google.colab import userdata\n",
        "\n",
        "os.environ['OPENAI_API_KEY'] = userdata.get('OPENAI_API_KEY')"
      ],
      "metadata": {
        "id": "lgrVebWp96WH"
      },
      "execution_count": 19,
      "outputs": []
    },
    {
      "cell_type": "code",
      "source": [
        "import json\n",
        "from langchain_core.prompts import ChatPromptTemplate\n",
        "from langchain_core.output_parsers import StrOutputParser\n",
        "from langchain_core.runnables import RunnableLambda, RunnableConfig\n",
        "from langchain_openai import ChatOpenAI\n",
        "from langchain_community.callbacks import get_openai_callback\n",
        "\n",
        "# Initialize the model\n",
        "model = ChatOpenAI(model='gpt-4o-mini')\n",
        "\n",
        "# Function to parse or fix Economics Engineering-specific JSON data\n",
        "def parse_or_fix_economics(text: str, config: RunnableConfig):\n",
        "    fixing_chain = (\n",
        "        ChatPromptTemplate.from_template(\n",
        "            \"The following text contains an Economics Engineering-related JSON structure \"\n",
        "            \"with errors. Fix the data and ensure it adheres to the standards for \"\n",
        "            \"Cost-Benefit Analysis (CBA) in public infrastructure projects:\\n\\n\"\n",
        "            \"```text\\n{input}\\n```\\nError: {error}\\n\"\n",
        "            \"Output the corrected JSON only, without explanations.\"\n",
        "        )\n",
        "        | model\n",
        "        | StrOutputParser()\n",
        "    )\n",
        "\n",
        "    # Attempt to parse or fix the text up to 3 times\n",
        "    for _ in range(3):\n",
        "        try:\n",
        "            return json.loads(text)  # Attempt to parse the JSON\n",
        "        except Exception as e:\n",
        "            # Invoke the fixing chain with the error details\n",
        "            text = fixing_chain.invoke({\"input\": text, \"error\": str(e)}, config)\n",
        "    return \"Failed to parse after 3 attempts\"\n",
        "\n",
        "# Define a callback and invoke the parsing/fixing function\n",
        "with get_openai_callback() as cb:\n",
        "    faulty_data = '{\"project_name\": \"Highway Expansion\", \"benefits\": [500000, ,], \"costs\": [200000, \"unknown\"]}'\n",
        "\n",
        "    output = RunnableLambda(parse_or_fix_economics).invoke(\n",
        "        faulty_data,\n",
        "        {\"tags\": [\"EconomicsEngineering\", \"CBA\"], \"callbacks\": [cb]},\n",
        "    )\n",
        "\n",
        "    print(\"Corrected Output:\", output)\n",
        "    print(\"Callback Metrics:\", cb)"
      ],
      "metadata": {
        "colab": {
          "base_uri": "https://localhost:8080/"
        },
        "id": "CbPYuHQ394TA",
        "outputId": "799a3c77-d22c-49ed-846f-861d574b3388"
      },
      "execution_count": 20,
      "outputs": [
        {
          "output_type": "stream",
          "name": "stdout",
          "text": [
            "Corrected Output: Failed to parse after 3 attempts\n",
            "Callback Metrics: Tokens Used: 440\n",
            "\tPrompt Tokens: 331\n",
            "\t\tPrompt Tokens Cached: 0\n",
            "\tCompletion Tokens: 109\n",
            "\t\tReasoning Tokens: 0\n",
            "Successful Requests: 3\n",
            "Total Cost (USD): $0.00011504999999999999\n"
          ]
        }
      ]
    },
    {
      "cell_type": "code",
      "source": [
        "from pydantic import BaseModel, Field\n",
        "from typing import List\n",
        "\n",
        "class CostBenefitAnalysis(BaseModel):\n",
        "    project_name: str = Field(..., title=\"Project Name\", description=\"Name of the infrastructure project\")\n",
        "    benefits: List[float] = Field(\n",
        "        ...,\n",
        "        title=\"Benefits\",\n",
        "        description=\"List of monetary benefits (in USD) associated with the project\",\n",
        "        example=[500000, 200000],\n",
        "    )\n",
        "    costs: List[float] = Field(\n",
        "        ...,\n",
        "        title=\"Costs\",\n",
        "        description=\"List of monetary costs (in USD) associated with the project\",\n",
        "        example=[300000, 100000],\n",
        "    )\n",
        "    discount_rate: float = Field(\n",
        "        ...,\n",
        "        gt=0.0,\n",
        "        le=1.0,\n",
        "        title=\"Discount Rate\",\n",
        "        description=\"Discount rate (as a fraction, e.g., 0.1 for 10%) used for present value calculations\",\n",
        "        example=0.1,\n",
        "    )\n",
        "    project_duration: int = Field(\n",
        "        ...,\n",
        "        gt=0,\n",
        "        title=\"Project Duration\",\n",
        "        description=\"Duration of the project in years\",\n",
        "        example=5,\n",
        "    )\n",
        "    net_present_value: float = Field(\n",
        "        ...,\n",
        "        title=\"Net Present Value\",\n",
        "        description=\"Net present value (NPV) of the project based on benefits and costs\",\n",
        "        example=500000.0,\n",
        "    )\n",
        "    internal_rate_of_return: float = Field(\n",
        "        ...,\n",
        "        gt=0.0,\n",
        "        title=\"Internal Rate of Return\",\n",
        "        description=\"Internal rate of return (IRR) as a fraction (e.g., 0.15 for 15%)\",\n",
        "        example=0.15,\n",
        "    )"
      ],
      "metadata": {
        "id": "kU5kL0bC-k9P"
      },
      "execution_count": 22,
      "outputs": []
    },
    {
      "cell_type": "code",
      "source": [
        "import json\n",
        "from langchain_core.prompts import ChatPromptTemplate\n",
        "from langchain_core.output_parsers import StrOutputParser\n",
        "from langchain_core.runnables import RunnableLambda, RunnableConfig\n",
        "from langchain_openai import ChatOpenAI\n",
        "from langchain_community.callbacks import get_openai_callback\n",
        "from langchain_core.output_parsers import JsonOutputParser\n",
        "\n",
        "# Initialize the model\n",
        "model = ChatOpenAI(model='gpt-4o-mini')\n",
        "\n",
        "# Function to parse or fix Economics Engineering-specific JSON data\n",
        "def parse_or_fix_economics(text: str, config: RunnableConfig):\n",
        "    parser = JsonOutputParser(pydantic_object=CostBenefitAnalysis)\n",
        "    fixing_chain = (\n",
        "        ChatPromptTemplate.from_template(\n",
        "            \"The following text contains an Economics Engineering-related JSON structure \"\n",
        "            \"with errors. Fix the data and ensure it adheres to the standards for \"\n",
        "            \"Cost-Benefit Analysis (CBA) in public infrastructure projects:\\n\\n\"\n",
        "            \"```text\\n{input}\\n```\\nError: {error}\\n\"\n",
        "            \"Output the corrected JSON only, without explanations.\"\n",
        "            \"This is the expected format: {format_instructions}\"\n",
        "        )\n",
        "        | model\n",
        "        | StrOutputParser()\n",
        "    )\n",
        "\n",
        "    # Attempt to parse or fix the text up to 3 times\n",
        "    for _ in range(3):\n",
        "        try:\n",
        "            return parser.parse(text)  # Attempt to parse the JSON\n",
        "        except Exception as e:\n",
        "            # Invoke the fixing chain with the error details\n",
        "            text = fixing_chain.invoke({\"input\": text, \"error\": str(e), \"format_instructions\": parser.get_format_instructions()}, config)\n",
        "    return \"Failed to parse after 3 attempts\"\n",
        "\n",
        "# Define a callback and invoke the parsing/fixing function\n",
        "with get_openai_callback() as cb:\n",
        "    corrected_data = '{\"project_name123\": \"Highway Expansion\", \"benefits\": [500000.0, 300000.0, 200000.0], \"costs\": [300000.0, 200000.0, 100000.0], \"discount_rate\": 0.1, \"project_duration\": 5, \"net_present_value\": 500000.0, \"internal_rate_of_return\": 0.15}'\n",
        "\n",
        "    output = RunnableLambda(parse_or_fix_economics).invoke(\n",
        "        faulty_data,\n",
        "        {\"tags\": [\"EconomicsEngineering\", \"CBA\"], \"callbacks\": [cb]},\n",
        "    )\n",
        "\n",
        "    print(\"Corrected Output:\", output)\n",
        "    print(\"Callback Metrics:\", cb)"
      ],
      "metadata": {
        "colab": {
          "base_uri": "https://localhost:8080/"
        },
        "id": "INqO6i2G-VSR",
        "outputId": "5ee4159c-9762-4182-9d09-5df1b54a3ce0"
      },
      "execution_count": 24,
      "outputs": [
        {
          "output_type": "stream",
          "name": "stdout",
          "text": [
            "Corrected Output: {'project_name': 'Highway Expansion', 'benefits': [500000], 'costs': [200000], 'discount_rate': 0.1, 'project_duration': 5, 'net_present_value': 300000.0, 'internal_rate_of_return': 0.15}\n",
            "Callback Metrics: Tokens Used: 746\n",
            "\tPrompt Tokens: 669\n",
            "\t\tPrompt Tokens Cached: 0\n",
            "\tCompletion Tokens: 77\n",
            "\t\tReasoning Tokens: 0\n",
            "Successful Requests: 1\n",
            "Total Cost (USD): $0.00014655\n"
          ]
        }
      ]
    },
    {
      "cell_type": "markdown",
      "source": [
        "##7. Streaming"
      ],
      "metadata": {
        "id": "JtCUKd2sAWQK"
      }
    },
    {
      "cell_type": "code",
      "source": [
        "from typing import Iterator, List\n",
        "from langchain_core.prompts import ChatPromptTemplate\n",
        "from langchain_google_genai import ChatGoogleGenerativeAI\n",
        "from langchain_core.output_parsers import StrOutputParser\n",
        "\n",
        "# Initialize the model\n",
        "model = ChatGoogleGenerativeAI(model='gemini-2.0-flash-exp')\n",
        "\n",
        "# Define the prompt for Economics Engineering concepts\n",
        "prompt = ChatPromptTemplate.from_template(\n",
        "    \"Write a comma-separated list of 5 economic concepts similar to: {concept}. Do not include numbers.\"\n",
        ")\n",
        "\n",
        "# Create a chain to process the response\n",
        "str_chain = prompt | model | StrOutputParser()\n",
        "\n",
        "# This custom parser splits an iterator of LLM tokens into a list of strings separated by commas\n",
        "def split_into_list(input: Iterator[str]) -> Iterator[List[str]]:\n",
        "    # Hold partial input until we get a comma\n",
        "    buffer = \"\"\n",
        "    for chunk in input:\n",
        "        # Add current chunk to buffer\n",
        "        buffer += chunk\n",
        "        # While there are commas in the buffer\n",
        "        while \",\" in buffer:\n",
        "            # Split buffer on comma\n",
        "            comma_index = buffer.index(\",\")\n",
        "            # Yield everything before the comma\n",
        "            yield [buffer[:comma_index].strip()]\n",
        "            # Save the rest for the next iteration\n",
        "            buffer = buffer[comma_index + 1 :]\n",
        "    # Yield the last chunk\n",
        "    yield [buffer.strip()]\n",
        "\n",
        "# Extend the chain to include the custom parser\n",
        "list_chain = str_chain | split_into_list\n",
        "\n",
        "# Example usage for streaming chunks of similar economic concepts\n",
        "for chunk in list_chain.stream({\"concept\": \"supply and demand\"}):\n",
        "    print(chunk, flush=True)\n",
        "\n",
        "# Example usage for invoking and getting the final result as a list\n",
        "result = list_chain.invoke({\"concept\": \"supply and demand\"})\n",
        "print(\"\\nFinal List:\", result)"
      ],
      "metadata": {
        "colab": {
          "base_uri": "https://localhost:8080/"
        },
        "id": "7WtJC7T7Aa3T",
        "outputId": "22f6b11b-f108-4857-d326-a5a6fdd7926b"
      },
      "execution_count": 26,
      "outputs": [
        {
          "output_type": "stream",
          "name": "stdout",
          "text": [
            "['scarcity and choice']\n",
            "['opportunity cost']\n",
            "['inflation and deflation']\n",
            "['market equilibrium']\n",
            "['gross domestic product and national income']\n",
            "\n",
            "Final List: ['scarcity and choice', 'opportunity cost', 'inflation and deflation', 'gross domestic product', 'fiscal and monetary policy']\n"
          ]
        }
      ]
    },
    {
      "cell_type": "markdown",
      "source": [
        "###Async mode:"
      ],
      "metadata": {
        "id": "a1d4HozMAq-E"
      }
    },
    {
      "cell_type": "code",
      "source": [
        "import asyncio"
      ],
      "metadata": {
        "id": "_ev0BWKGAo8w"
      },
      "execution_count": 27,
      "outputs": []
    },
    {
      "cell_type": "code",
      "source": [
        "from typing import AsyncIterator\n",
        "\n",
        "\n",
        "async def asplit_into_list(\n",
        "    input: AsyncIterator[str],\n",
        ") -> AsyncIterator[List[str]]:  # async def\n",
        "    buffer = \"\"\n",
        "    async for (\n",
        "        chunk\n",
        "    ) in input:  # `input` is a `async_generator` object, so use `async for`\n",
        "        buffer += chunk\n",
        "        while \",\" in buffer:\n",
        "            comma_index = buffer.index(\",\")\n",
        "            yield [buffer[:comma_index].strip()]\n",
        "            buffer = buffer[comma_index + 1 :]\n",
        "    yield [buffer.strip()]\n",
        "\n",
        "\n",
        "list_chain = str_chain | asplit_into_list\n",
        "\n",
        "async for chunk in list_chain.astream({\"concept\": \"supply and demand\"}):\n",
        "    print(chunk, flush=True)"
      ],
      "metadata": {
        "colab": {
          "base_uri": "https://localhost:8080/"
        },
        "id": "A0_HRd6kAnw-",
        "outputId": "27c113eb-37fa-4c31-a564-99b97a403666"
      },
      "execution_count": 29,
      "outputs": [
        {
          "output_type": "stream",
          "name": "stdout",
          "text": [
            "['inflation and deflation']\n",
            "['scarcity and abundance']\n",
            "['opportunity cost and benefit']\n",
            "['specialization and trade']\n",
            "['fiscal and monetary policy']\n"
          ]
        }
      ]
    }
  ]
}