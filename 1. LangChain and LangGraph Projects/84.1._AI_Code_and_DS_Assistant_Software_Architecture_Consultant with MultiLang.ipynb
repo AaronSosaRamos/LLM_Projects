{
  "nbformat": 4,
  "nbformat_minor": 0,
  "metadata": {
    "colab": {
      "provenance": []
    },
    "kernelspec": {
      "name": "python3",
      "display_name": "Python 3"
    },
    "language_info": {
      "name": "python"
    }
  },
  "cells": [
    {
      "cell_type": "code",
      "execution_count": 58,
      "metadata": {
        "id": "8AfEfGHN80U6",
        "colab": {
          "base_uri": "https://localhost:8080/"
        },
        "outputId": "69bc72dd-432d-4964-cab9-f72abdb6b2f6"
      },
      "outputs": [
        {
          "output_type": "stream",
          "name": "stdout",
          "text": [
            "Requirement already satisfied: langchain_community in /usr/local/lib/python3.10/dist-packages (0.3.0)\n",
            "Requirement already satisfied: langchain in /usr/local/lib/python3.10/dist-packages (0.3.0)\n",
            "Requirement already satisfied: langgraph in /usr/local/lib/python3.10/dist-packages (0.2.21)\n",
            "Requirement already satisfied: langchain-openai in /usr/local/lib/python3.10/dist-packages (0.2.0)\n",
            "Requirement already satisfied: openai in /usr/local/lib/python3.10/dist-packages (1.45.0)\n",
            "Requirement already satisfied: langchain-google-genai in /usr/local/lib/python3.10/dist-packages (2.0.0)\n",
            "Requirement already satisfied: PyYAML>=5.3 in /usr/local/lib/python3.10/dist-packages (from langchain_community) (6.0.2)\n",
            "Requirement already satisfied: SQLAlchemy<3,>=1.4 in /usr/local/lib/python3.10/dist-packages (from langchain_community) (2.0.34)\n",
            "Requirement already satisfied: aiohttp<4.0.0,>=3.8.3 in /usr/local/lib/python3.10/dist-packages (from langchain_community) (3.10.5)\n",
            "Requirement already satisfied: dataclasses-json<0.7,>=0.5.7 in /usr/local/lib/python3.10/dist-packages (from langchain_community) (0.6.7)\n",
            "Requirement already satisfied: langchain-core<0.4.0,>=0.3.0 in /usr/local/lib/python3.10/dist-packages (from langchain_community) (0.3.0)\n",
            "Requirement already satisfied: langsmith<0.2.0,>=0.1.112 in /usr/local/lib/python3.10/dist-packages (from langchain_community) (0.1.120)\n",
            "Requirement already satisfied: numpy<2,>=1 in /usr/local/lib/python3.10/dist-packages (from langchain_community) (1.26.4)\n",
            "Requirement already satisfied: pydantic-settings<3.0.0,>=2.4.0 in /usr/local/lib/python3.10/dist-packages (from langchain_community) (2.5.2)\n",
            "Requirement already satisfied: requests<3,>=2 in /usr/local/lib/python3.10/dist-packages (from langchain_community) (2.32.3)\n",
            "Requirement already satisfied: tenacity!=8.4.0,<9.0.0,>=8.1.0 in /usr/local/lib/python3.10/dist-packages (from langchain_community) (8.5.0)\n",
            "Requirement already satisfied: async-timeout<5.0.0,>=4.0.0 in /usr/local/lib/python3.10/dist-packages (from langchain) (4.0.3)\n",
            "Requirement already satisfied: langchain-text-splitters<0.4.0,>=0.3.0 in /usr/local/lib/python3.10/dist-packages (from langchain) (0.3.0)\n",
            "Requirement already satisfied: pydantic<3.0.0,>=2.7.4 in /usr/local/lib/python3.10/dist-packages (from langchain) (2.9.1)\n",
            "Requirement already satisfied: langgraph-checkpoint<2.0.0,>=1.0.2 in /usr/local/lib/python3.10/dist-packages (from langgraph) (1.0.9)\n",
            "Requirement already satisfied: tiktoken<1,>=0.7 in /usr/local/lib/python3.10/dist-packages (from langchain-openai) (0.7.0)\n",
            "Requirement already satisfied: anyio<5,>=3.5.0 in /usr/local/lib/python3.10/dist-packages (from openai) (3.7.1)\n",
            "Requirement already satisfied: distro<2,>=1.7.0 in /usr/lib/python3/dist-packages (from openai) (1.7.0)\n",
            "Requirement already satisfied: httpx<1,>=0.23.0 in /usr/local/lib/python3.10/dist-packages (from openai) (0.27.2)\n",
            "Requirement already satisfied: jiter<1,>=0.4.0 in /usr/local/lib/python3.10/dist-packages (from openai) (0.5.0)\n",
            "Requirement already satisfied: sniffio in /usr/local/lib/python3.10/dist-packages (from openai) (1.3.1)\n",
            "Requirement already satisfied: tqdm>4 in /usr/local/lib/python3.10/dist-packages (from openai) (4.66.5)\n",
            "Requirement already satisfied: typing-extensions<5,>=4.11 in /usr/local/lib/python3.10/dist-packages (from openai) (4.12.2)\n",
            "Requirement already satisfied: google-generativeai<0.8.0,>=0.7.0 in /usr/local/lib/python3.10/dist-packages (from langchain-google-genai) (0.7.2)\n",
            "Requirement already satisfied: aiohappyeyeballs>=2.3.0 in /usr/local/lib/python3.10/dist-packages (from aiohttp<4.0.0,>=3.8.3->langchain_community) (2.4.0)\n",
            "Requirement already satisfied: aiosignal>=1.1.2 in /usr/local/lib/python3.10/dist-packages (from aiohttp<4.0.0,>=3.8.3->langchain_community) (1.3.1)\n",
            "Requirement already satisfied: attrs>=17.3.0 in /usr/local/lib/python3.10/dist-packages (from aiohttp<4.0.0,>=3.8.3->langchain_community) (24.2.0)\n",
            "Requirement already satisfied: frozenlist>=1.1.1 in /usr/local/lib/python3.10/dist-packages (from aiohttp<4.0.0,>=3.8.3->langchain_community) (1.4.1)\n",
            "Requirement already satisfied: multidict<7.0,>=4.5 in /usr/local/lib/python3.10/dist-packages (from aiohttp<4.0.0,>=3.8.3->langchain_community) (6.1.0)\n",
            "Requirement already satisfied: yarl<2.0,>=1.0 in /usr/local/lib/python3.10/dist-packages (from aiohttp<4.0.0,>=3.8.3->langchain_community) (1.11.1)\n",
            "Requirement already satisfied: idna>=2.8 in /usr/local/lib/python3.10/dist-packages (from anyio<5,>=3.5.0->openai) (3.8)\n",
            "Requirement already satisfied: exceptiongroup in /usr/local/lib/python3.10/dist-packages (from anyio<5,>=3.5.0->openai) (1.2.2)\n",
            "Requirement already satisfied: marshmallow<4.0.0,>=3.18.0 in /usr/local/lib/python3.10/dist-packages (from dataclasses-json<0.7,>=0.5.7->langchain_community) (3.22.0)\n",
            "Requirement already satisfied: typing-inspect<1,>=0.4.0 in /usr/local/lib/python3.10/dist-packages (from dataclasses-json<0.7,>=0.5.7->langchain_community) (0.9.0)\n",
            "Requirement already satisfied: google-ai-generativelanguage==0.6.6 in /usr/local/lib/python3.10/dist-packages (from google-generativeai<0.8.0,>=0.7.0->langchain-google-genai) (0.6.6)\n",
            "Requirement already satisfied: google-api-core in /usr/local/lib/python3.10/dist-packages (from google-generativeai<0.8.0,>=0.7.0->langchain-google-genai) (2.19.2)\n",
            "Requirement already satisfied: google-api-python-client in /usr/local/lib/python3.10/dist-packages (from google-generativeai<0.8.0,>=0.7.0->langchain-google-genai) (2.137.0)\n",
            "Requirement already satisfied: google-auth>=2.15.0 in /usr/local/lib/python3.10/dist-packages (from google-generativeai<0.8.0,>=0.7.0->langchain-google-genai) (2.27.0)\n",
            "Requirement already satisfied: protobuf in /usr/local/lib/python3.10/dist-packages (from google-generativeai<0.8.0,>=0.7.0->langchain-google-genai) (3.20.3)\n",
            "Requirement already satisfied: proto-plus<2.0.0dev,>=1.22.3 in /usr/local/lib/python3.10/dist-packages (from google-ai-generativelanguage==0.6.6->google-generativeai<0.8.0,>=0.7.0->langchain-google-genai) (1.24.0)\n",
            "Requirement already satisfied: certifi in /usr/local/lib/python3.10/dist-packages (from httpx<1,>=0.23.0->openai) (2024.8.30)\n",
            "Requirement already satisfied: httpcore==1.* in /usr/local/lib/python3.10/dist-packages (from httpx<1,>=0.23.0->openai) (1.0.5)\n",
            "Requirement already satisfied: h11<0.15,>=0.13 in /usr/local/lib/python3.10/dist-packages (from httpcore==1.*->httpx<1,>=0.23.0->openai) (0.14.0)\n",
            "Requirement already satisfied: jsonpatch<2.0,>=1.33 in /usr/local/lib/python3.10/dist-packages (from langchain-core<0.4.0,>=0.3.0->langchain_community) (1.33)\n",
            "Requirement already satisfied: packaging<25,>=23.2 in /usr/local/lib/python3.10/dist-packages (from langchain-core<0.4.0,>=0.3.0->langchain_community) (24.1)\n",
            "Requirement already satisfied: orjson<4.0.0,>=3.9.14 in /usr/local/lib/python3.10/dist-packages (from langsmith<0.2.0,>=0.1.112->langchain_community) (3.10.7)\n",
            "Requirement already satisfied: annotated-types>=0.6.0 in /usr/local/lib/python3.10/dist-packages (from pydantic<3.0.0,>=2.7.4->langchain) (0.7.0)\n",
            "Requirement already satisfied: pydantic-core==2.23.3 in /usr/local/lib/python3.10/dist-packages (from pydantic<3.0.0,>=2.7.4->langchain) (2.23.3)\n",
            "Requirement already satisfied: python-dotenv>=0.21.0 in /usr/local/lib/python3.10/dist-packages (from pydantic-settings<3.0.0,>=2.4.0->langchain_community) (1.0.1)\n",
            "Requirement already satisfied: charset-normalizer<4,>=2 in /usr/local/lib/python3.10/dist-packages (from requests<3,>=2->langchain_community) (3.3.2)\n",
            "Requirement already satisfied: urllib3<3,>=1.21.1 in /usr/local/lib/python3.10/dist-packages (from requests<3,>=2->langchain_community) (2.0.7)\n",
            "Requirement already satisfied: greenlet!=0.4.17 in /usr/local/lib/python3.10/dist-packages (from SQLAlchemy<3,>=1.4->langchain_community) (3.1.0)\n",
            "Requirement already satisfied: regex>=2022.1.18 in /usr/local/lib/python3.10/dist-packages (from tiktoken<1,>=0.7->langchain-openai) (2024.5.15)\n",
            "Requirement already satisfied: googleapis-common-protos<2.0.dev0,>=1.56.2 in /usr/local/lib/python3.10/dist-packages (from google-api-core->google-generativeai<0.8.0,>=0.7.0->langchain-google-genai) (1.65.0)\n",
            "Requirement already satisfied: cachetools<6.0,>=2.0.0 in /usr/local/lib/python3.10/dist-packages (from google-auth>=2.15.0->google-generativeai<0.8.0,>=0.7.0->langchain-google-genai) (5.5.0)\n",
            "Requirement already satisfied: pyasn1-modules>=0.2.1 in /usr/local/lib/python3.10/dist-packages (from google-auth>=2.15.0->google-generativeai<0.8.0,>=0.7.0->langchain-google-genai) (0.4.1)\n",
            "Requirement already satisfied: rsa<5,>=3.1.4 in /usr/local/lib/python3.10/dist-packages (from google-auth>=2.15.0->google-generativeai<0.8.0,>=0.7.0->langchain-google-genai) (4.9)\n",
            "Requirement already satisfied: jsonpointer>=1.9 in /usr/local/lib/python3.10/dist-packages (from jsonpatch<2.0,>=1.33->langchain-core<0.4.0,>=0.3.0->langchain_community) (3.0.0)\n",
            "Requirement already satisfied: mypy-extensions>=0.3.0 in /usr/local/lib/python3.10/dist-packages (from typing-inspect<1,>=0.4.0->dataclasses-json<0.7,>=0.5.7->langchain_community) (1.0.0)\n",
            "Requirement already satisfied: httplib2<1.dev0,>=0.19.0 in /usr/local/lib/python3.10/dist-packages (from google-api-python-client->google-generativeai<0.8.0,>=0.7.0->langchain-google-genai) (0.22.0)\n",
            "Requirement already satisfied: google-auth-httplib2<1.0.0,>=0.2.0 in /usr/local/lib/python3.10/dist-packages (from google-api-python-client->google-generativeai<0.8.0,>=0.7.0->langchain-google-genai) (0.2.0)\n",
            "Requirement already satisfied: uritemplate<5,>=3.0.1 in /usr/local/lib/python3.10/dist-packages (from google-api-python-client->google-generativeai<0.8.0,>=0.7.0->langchain-google-genai) (4.1.1)\n",
            "Requirement already satisfied: grpcio<2.0dev,>=1.33.2 in /usr/local/lib/python3.10/dist-packages (from google-api-core[grpc]!=2.0.*,!=2.1.*,!=2.10.*,!=2.2.*,!=2.3.*,!=2.4.*,!=2.5.*,!=2.6.*,!=2.7.*,!=2.8.*,!=2.9.*,<3.0.0dev,>=1.34.1->google-ai-generativelanguage==0.6.6->google-generativeai<0.8.0,>=0.7.0->langchain-google-genai) (1.64.1)\n",
            "Requirement already satisfied: grpcio-status<2.0.dev0,>=1.33.2 in /usr/local/lib/python3.10/dist-packages (from google-api-core[grpc]!=2.0.*,!=2.1.*,!=2.10.*,!=2.2.*,!=2.3.*,!=2.4.*,!=2.5.*,!=2.6.*,!=2.7.*,!=2.8.*,!=2.9.*,<3.0.0dev,>=1.34.1->google-ai-generativelanguage==0.6.6->google-generativeai<0.8.0,>=0.7.0->langchain-google-genai) (1.48.2)\n",
            "Requirement already satisfied: pyparsing!=3.0.0,!=3.0.1,!=3.0.2,!=3.0.3,<4,>=2.4.2 in /usr/local/lib/python3.10/dist-packages (from httplib2<1.dev0,>=0.19.0->google-api-python-client->google-generativeai<0.8.0,>=0.7.0->langchain-google-genai) (3.1.4)\n",
            "Requirement already satisfied: pyasn1<0.7.0,>=0.4.6 in /usr/local/lib/python3.10/dist-packages (from pyasn1-modules>=0.2.1->google-auth>=2.15.0->google-generativeai<0.8.0,>=0.7.0->langchain-google-genai) (0.6.1)\n"
          ]
        }
      ],
      "source": [
        "!pip install langchain_community langchain langgraph langchain-openai openai langchain-google-genai"
      ]
    },
    {
      "cell_type": "code",
      "source": [
        "import getpass\n",
        "import os\n",
        "\n",
        "if \"OPENAI_API_KEY\" not in os.environ:\n",
        "    os.environ[\"OPENAI_API_KEY\"] = getpass.getpass(\"Enter your OpenAI API key: \")"
      ],
      "metadata": {
        "id": "u-2WMgGJ-Vhn"
      },
      "execution_count": 59,
      "outputs": []
    },
    {
      "cell_type": "code",
      "source": [
        "if \"GOOGLE_API_KEY\" not in os.environ:\n",
        "    os.environ[\"GOOGLE_API_KEY\"] = getpass.getpass(\"Enter your Google API key: \")"
      ],
      "metadata": {
        "id": "KT34lvfJ-X8X"
      },
      "execution_count": 60,
      "outputs": []
    },
    {
      "cell_type": "code",
      "source": [
        "from pydantic import BaseModel, Field\n",
        "from typing import List, Optional\n",
        "\n",
        "class Component(BaseModel):\n",
        "    name: str = Field(..., description=\"The name of the component, such as 'API Gateway' or 'Database'.\")\n",
        "    description: Optional[str] = Field(None, description=\"A brief description of the component's purpose.\")\n",
        "    dependencies: List[str] = Field([], description=\"List of other components that this component depends on.\")\n",
        "    type_component: str = Field(..., description=\"The type of component, e.g., 'Service', 'Database', 'Event', etc.\")\n",
        "    exposed_endpoints: Optional[List[str]] = Field(None, description=\"A list of endpoints exposed by this component, if applicable.\")\n",
        "    input_data: Optional[List[str]] = Field(None, description=\"Data consumed by this component.\")\n",
        "    output_data: Optional[List[str]] = Field(None, description=\"Data produced by this component.\")\n",
        "\n",
        "class ArchitectureSchema(BaseModel):\n",
        "    architecture_name: str = Field(..., description=\"The name of the architecture, such as 'Microservices', '3-Tier', 'Event-Driven' and so forth.\")\n",
        "    layers: List[str] = Field(..., description=\"The different layers in the architecture, e.g., 'Presentation', 'Business Logic', 'Data'.\")\n",
        "    components: List[Component] = Field(..., description=\"The components that make up the architecture.\")\n",
        "    external_services: Optional[List[str]] = Field(None, description=\"List of external services or third-party APIs integrated with the system.\")\n",
        "    events: Optional[List[str]] = Field(None, description=\"A list of events that trigger actions in the system, if applicable.\")\n",
        "    data_flow_description: Optional[str] = Field(None, description=\"A description of how data flows through the architecture.\")"
      ],
      "metadata": {
        "id": "es5KJbID-TxW"
      },
      "execution_count": 61,
      "outputs": []
    },
    {
      "cell_type": "code",
      "source": [
        "from pydantic import field_validator\n",
        "\n",
        "class Requirement(BaseModel):\n",
        "    name: str = Field(..., description=\"The name of the requirement.\")\n",
        "    description: Optional[str] = Field(None, description=\"A brief description of the requirement.\")\n",
        "    must_have_layers: List[str] = Field(..., description=\"A list of layers that the architecture must include.\")\n",
        "    must_have_components: List[str] = Field(..., description=\"A list of specific components the architecture must have.\")\n",
        "    must_have_services: Optional[List[str]] = Field(None, description=\"List of external services the architecture must integrate.\")\n",
        "    must_handle_events: Optional[List[str]] = Field(None, description=\"List of events that the architecture must handle.\")\n",
        "\n",
        "class ArchitectureValidationSchema(BaseModel):\n",
        "    architecture: ArchitectureSchema = Field(..., description=\"The architecture being validated.\")\n",
        "    requirements: List[Requirement] = Field(..., description=\"The list of requirements that the architecture must meet.\")"
      ],
      "metadata": {
        "id": "D2Mm7J_P-pAF"
      },
      "execution_count": 62,
      "outputs": []
    },
    {
      "cell_type": "code",
      "source": [
        "class ImprovementSuggestion(BaseModel):\n",
        "    suggestion: str = Field(..., description=\"The suggested improvement for the architecture.\")\n",
        "    details: Optional[str] = Field(None, description=\"Additional details about how to implement the suggestion.\")\n",
        "\n",
        "class ArchitectureImprovementSchema(BaseModel):\n",
        "    architecture: ArchitectureSchema = Field(..., description=\"The architecture being evaluated.\")\n",
        "    requirements: List[Requirement] = Field(..., description=\"The list of requirements for the architecture.\")\n",
        "    suggestions: Optional[List[ImprovementSuggestion]] = Field([], description=\"A list of improvement suggestions based on unmet requirements.\")"
      ],
      "metadata": {
        "id": "NLvPPYJjACBs"
      },
      "execution_count": 63,
      "outputs": []
    },
    {
      "cell_type": "code",
      "source": [
        "from typing import Dict\n",
        "\n",
        "class QualityAttribute(BaseModel):\n",
        "    attribute_name: str = Field(..., description=\"The name of the quality attribute, such as 'Scalability', 'Security', or 'Performance'.\")\n",
        "    description: Optional[str] = Field(None, description=\"A brief description of the quality attribute.\")\n",
        "    current_status: str = Field(..., description=\"The current implementation status of this quality attribute in the architecture, e.g., 'Implemented', 'Partially Implemented', 'Not Implemented'.\")\n",
        "    implementation_details: Optional[str] = Field(None, description=\"Details on how this attribute is implemented or how it can be improved.\")\n",
        "    priority: int = Field(..., ge=1, le=5, description=\"Priority of this attribute from 1 (low) to 5 (high).\")\n",
        "\n",
        "class QualityAttributesSchema(BaseModel):\n",
        "    architecture: ArchitectureSchema = Field(..., description=\"The architecture to which quality attributes are being added.\")\n",
        "    quality_attributes: List[QualityAttribute] = Field(..., description=\"A list of quality attributes applied to the architecture.\")\n",
        "    quality_evaluation: Dict[str, int] = Field(None, description=\"Evaluation of the quality attributes' implementation status.\")"
      ],
      "metadata": {
        "id": "cAe9NeqqA_Fp"
      },
      "execution_count": 64,
      "outputs": []
    },
    {
      "cell_type": "code",
      "source": [
        "class FinalEvaluationSchema(BaseModel):\n",
        "    final_check: str = Field(..., description=\"The final determination of whether the software architecture is appropriate. Answer must be 'yes' or 'no' in lowercase.\")\n",
        "    review_notes: str = Field(..., description=\"Additional notes or comments on the final evaluation of the software architecture.\")"
      ],
      "metadata": {
        "id": "AafFvW7IBkXr"
      },
      "execution_count": 65,
      "outputs": []
    },
    {
      "cell_type": "code",
      "source": [
        "from typing import Dict, TypedDict, Optional\n",
        "\n",
        "class GraphState(TypedDict):\n",
        "    img_url: str\n",
        "    requirements: str\n",
        "    lang: str\n",
        "\n",
        "    detected_architecture: ArchitectureSchema\n",
        "\n",
        "    architecture_with_requirements: ArchitectureValidationSchema\n",
        "\n",
        "    improved_architecture: ArchitectureImprovementSchema\n",
        "\n",
        "    architecture_with_quality_attributes: QualityAttributesSchema\n",
        "\n",
        "    final_evaluation: FinalEvaluationSchema"
      ],
      "metadata": {
        "id": "g5CtcfL3CIgm"
      },
      "execution_count": 66,
      "outputs": []
    },
    {
      "cell_type": "code",
      "source": [
        "from langgraph.graph import StateGraph\n",
        "workflow = StateGraph(GraphState)"
      ],
      "metadata": {
        "id": "fNFR3E2dDJ5-"
      },
      "execution_count": 67,
      "outputs": []
    },
    {
      "cell_type": "code",
      "source": [
        "from langchain_openai import ChatOpenAI\n",
        "from langchain.schema import (\n",
        "       AIMessage,\n",
        "       HumanMessage,\n",
        "       SystemMessage\n",
        "  )\n",
        "\n",
        "chat_openai_llm = ChatOpenAI(model_name=\"gpt-4o-mini\", temperature=0.7)"
      ],
      "metadata": {
        "id": "gZBGcyOnDNjr"
      },
      "execution_count": 68,
      "outputs": []
    },
    {
      "cell_type": "code",
      "source": [
        "from langchain_google_genai import ChatGoogleGenerativeAI\n",
        "google_chat_genai_llm = ChatGoogleGenerativeAI(model=\"gemini-1.5-flash\")"
      ],
      "metadata": {
        "id": "jUFAiu6SDPiR"
      },
      "execution_count": 69,
      "outputs": []
    },
    {
      "cell_type": "code",
      "source": [
        "from langchain_core.output_parsers import JsonOutputParser\n",
        "\n",
        "def generate_architecture_description(state):\n",
        "    parser = JsonOutputParser(pydantic_object=ArchitectureSchema)\n",
        "\n",
        "    lang_message = {\n",
        "        \"en\": \"Analyze the image and give me the architecture description with the following details: architecture name, layers, components, external services, events, and data flow description.\",\n",
        "        \"es\": \"Analiza la imagen y dame la descripción de la arquitectura con los siguientes detalles: nombre de la arquitectura, capas, componentes, servicios externos, eventos y descripción del flujo de datos.\",\n",
        "        \"fr\": \"Analyse l'image et donne-moi la description de l'architecture avec les détails suivants : nom de l'architecture, couches, composants, services externes, événements et description du flux de données.\",\n",
        "        \"de\": \"Analysiere das Bild und gib mir die Architektur-Beschreibung mit folgenden Details: Architekturname, Schichten, Komponenten, externe Dienste, Ereignisse und Beschreibung des Datenflusses.\",\n",
        "        \"pt\": \"Analise a imagem e me dê a descrição da arquitetura com os seguintes detalhes: nome da arquitetura, camadas, componentes, serviços externos, eventos e descrição do fluxo de dados.\"\n",
        "    }\n",
        "\n",
        "    message_content = [\n",
        "        {\n",
        "            \"type\": \"text\",\n",
        "            \"text\": lang_message.get(state[\"lang\"])\n",
        "        },\n",
        "        {\"type\": \"image_url\", \"image_url\": state[\"img_url\"]},\n",
        "        {\"type\": \"text\", \"text\": f\"Answer in this language: {state['lang']}\"},\n",
        "        {\"type\": \"text\", \"text\": f\"Format the response in this format: {parser.get_format_instructions()}\"}\n",
        "    ]\n",
        "\n",
        "    message = HumanMessage(content=message_content)\n",
        "\n",
        "    response = google_chat_genai_llm.invoke([message]).content\n",
        "\n",
        "    detected_architecture = parser.parse(response)\n",
        "\n",
        "    print(f\"Architecture Description: {detected_architecture}\")\n",
        "\n",
        "    return {\n",
        "        \"detected_architecture\": detected_architecture\n",
        "    }"
      ],
      "metadata": {
        "id": "IW6A0w54FDx8"
      },
      "execution_count": 70,
      "outputs": []
    },
    {
      "cell_type": "code",
      "source": [
        "def validate_architecture(state):\n",
        "    json_parser = JsonOutputParser(pydantic_object=ArchitectureValidationSchema)\n",
        "\n",
        "    lang = state['lang']\n",
        "    detected_architecture = state['detected_architecture']\n",
        "    requirements = state['requirements']\n",
        "\n",
        "    messages = [\n",
        "        SystemMessage(content=f\"You are an expert in software architecture validation for {lang} systems.\"),\n",
        "        HumanMessage(content=f\"\"\"Please validate the detected architecture against the following requirements.\n",
        "        Make sure to identify any missing layers, components, services, or events.\n",
        "\n",
        "        Detected Architecture:\n",
        "        {detected_architecture}\n",
        "\n",
        "        Requirements:\n",
        "        {requirements}\n",
        "\n",
        "        Answer in this language: {lang}\n",
        "\n",
        "        Respond with suggestions for improvement or state if the architecture fully meets the requirements. Ensure your response follows the format specified in {json_parser.get_format_instructions()}.\n",
        "        \"\"\")\n",
        "    ]\n",
        "\n",
        "    result = chat_openai_llm.invoke(messages)\n",
        "\n",
        "    parsed_result = json_parser.parse(result.content)\n",
        "\n",
        "    print(f\"Architecture Validation Result: {parsed_result}\")\n",
        "\n",
        "    return {\n",
        "        \"architecture_with_requirements\": parsed_result\n",
        "    }"
      ],
      "metadata": {
        "id": "3WJHGQDKH18q"
      },
      "execution_count": 71,
      "outputs": []
    },
    {
      "cell_type": "code",
      "source": [
        "def suggest_architecture_improvements(state):\n",
        "    json_parser = JsonOutputParser(pydantic_object=ArchitectureImprovementSchema)\n",
        "\n",
        "    architecture_with_requirements = state['architecture_with_requirements']\n",
        "    requirements = state['requirements']\n",
        "    lang = state[\"lang\"]\n",
        "\n",
        "    messages = [\n",
        "        SystemMessage(content=f\"You are an expert in software architecture improvement for {lang} systems.\"),\n",
        "        HumanMessage(content=f\"\"\"Please analyze the provided architecture and offer improvement suggestions based on the following requirements.\n",
        "        Focus on missing or suboptimal layers, components, services, or event handling, and provide specific recommendations.\n",
        "\n",
        "        Architecture:\n",
        "        {architecture_with_requirements}\n",
        "\n",
        "        Requirements:\n",
        "        {requirements}\n",
        "\n",
        "        Answer in this language: {lang}\n",
        "\n",
        "        Respond with suggestions for improvement. Ensure your response follows the format specified in {json_parser.get_format_instructions()}.\n",
        "        \"\"\")\n",
        "    ]\n",
        "\n",
        "    result = chat_openai_llm.invoke(messages)\n",
        "\n",
        "    parsed_result = json_parser.parse(result.content)\n",
        "\n",
        "    print(f\"Architecture Improvement Suggestions: {parsed_result}\")\n",
        "\n",
        "    return {\n",
        "        \"improved_architecture\": parsed_result\n",
        "    }"
      ],
      "metadata": {
        "id": "CtZEa5l8JBiJ"
      },
      "execution_count": 72,
      "outputs": []
    },
    {
      "cell_type": "code",
      "source": [
        "def evaluate_architecture_quality(state):\n",
        "    json_parser = JsonOutputParser(pydantic_object=QualityAttributesSchema)\n",
        "\n",
        "    improved_architecture = state['improved_architecture']\n",
        "    lang = state['lang']\n",
        "\n",
        "    messages = [\n",
        "        SystemMessage(content=f\"You are an expert in software architecture quality assessment for {lang} systems.\"),\n",
        "        HumanMessage(content=f\"\"\"Please analyze the provided architecture and evaluate its quality attributes.\n",
        "        Focus on scalability, security, performance, and maintainability, and indicate whether these attributes are implemented, partially implemented, or not implemented.\n",
        "\n",
        "        Architecture:\n",
        "        {improved_architecture}\n",
        "\n",
        "        Answer in this language: {lang}\n",
        "\n",
        "        Respond with a detailed evaluation of the quality attributes and ensure your response follows the format specified in {json_parser.get_format_instructions()}.\n",
        "        \"\"\")\n",
        "    ]\n",
        "\n",
        "    result = chat_openai_llm.invoke(messages)\n",
        "\n",
        "    parsed_result = json_parser.parse(result.content)\n",
        "\n",
        "    print(f\"Architecture Quality Evaluation: {parsed_result}\")\n",
        "\n",
        "    return {\n",
        "        \"architecture_with_quality_attributes\": parsed_result\n",
        "    }"
      ],
      "metadata": {
        "id": "ZaiAJYokKPvV"
      },
      "execution_count": 73,
      "outputs": []
    },
    {
      "cell_type": "code",
      "source": [
        "from langgraph.graph import END\n",
        "\n",
        "workflow.add_node(\"generate_architecture_description\", generate_architecture_description)\n",
        "workflow.add_node(\"validate_architecture\", validate_architecture)\n",
        "workflow.add_node(\"suggest_architecture_improvements\", suggest_architecture_improvements)\n",
        "workflow.add_node(\"evaluate_architecture_quality\", evaluate_architecture_quality)"
      ],
      "metadata": {
        "id": "v5nzxg7PLiL-"
      },
      "execution_count": 74,
      "outputs": []
    },
    {
      "cell_type": "code",
      "source": [
        "workflow.set_entry_point(\"generate_architecture_description\")"
      ],
      "metadata": {
        "id": "FqcwtssaL3Ip"
      },
      "execution_count": 75,
      "outputs": []
    },
    {
      "cell_type": "code",
      "source": [
        "workflow.add_edge('generate_architecture_description', \"validate_architecture\")\n",
        "workflow.add_edge('validate_architecture', \"suggest_architecture_improvements\")\n",
        "workflow.add_edge('suggest_architecture_improvements', \"evaluate_architecture_quality\")\n",
        "workflow.add_edge('evaluate_architecture_quality', END)"
      ],
      "metadata": {
        "id": "sQmXyyymL9zx"
      },
      "execution_count": 76,
      "outputs": []
    },
    {
      "cell_type": "code",
      "source": [
        "app = workflow.compile()"
      ],
      "metadata": {
        "id": "4Hy3LLCkMmU0"
      },
      "execution_count": 77,
      "outputs": []
    },
    {
      "cell_type": "code",
      "source": [
        "from IPython.display import Image, display\n",
        "\n",
        "try:\n",
        "    display(Image(app.get_graph().draw_mermaid_png()))\n",
        "except Exception:\n",
        "    pass"
      ],
      "metadata": {
        "colab": {
          "base_uri": "https://localhost:8080/",
          "height": 548
        },
        "id": "FOtRo3YPMnUd",
        "outputId": "450de11a-84b2-4914-d226-632a522fcb20"
      },
      "execution_count": 78,
      "outputs": [
        {
          "output_type": "display_data",
          "data": {
            "image/jpeg": "[encoded data removed]",
            "text/plain": [
              "<IPython.core.display.Image object>"
            ]
          },
          "metadata": {}
        }
      ]
    },
    {
      "cell_type": "code",
      "source": [
        "import requests\n",
        "\n",
        "image_url = \"https://raw.githubusercontent.com/AaronSosaRamos/mission-flights/main/files-for-test/software_architecture_example.jpeg\"\n",
        "content = requests.get(image_url).content"
      ],
      "metadata": {
        "id": "VN2IyRMiPy3H"
      },
      "execution_count": 79,
      "outputs": []
    },
    {
      "cell_type": "code",
      "source": [
        "from IPython.display import Image\n",
        "Image(content)"
      ],
      "metadata": {
        "colab": {
          "base_uri": "https://localhost:8080/",
          "height": 949
        },
        "id": "zjqTFTgCP8gT",
        "outputId": "190ecea4-44af-4cc2-e23c-cd6c3c0b4e3e"
      },
      "execution_count": 80,
      "outputs": [
        {
          "output_type": "execute_result",
          "data": {
            "image/jpeg": "[encoded data removed]",
            "text/plain": [
              "<IPython.core.display.Image object>"
            ]
          },
          "metadata": {},
          "execution_count": 80
        }
      ]
    },
    {
      "cell_type": "code",
      "source": [
        "#inputs = {\n",
        "#    \"img_url\": \"https://raw.githubusercontent.com/AaronSosaRamos/mission-flights/main/files-for-test/software_architecture_example.jpeg\",\n",
        "#    \"requirements\": \"\"\"\n",
        "#    Cross-platform support: The system must allow React, Angular, and Vue clients to interact with the backend seamlessly.\n",
        "\n",
        "#    Load balancing: The API Gateway should distribute requests evenly among the LLM services.\n",
        "\n",
        "#    LLM interoperability: The LLM services (Code Assistant, Documentation Builder, and Advanced RAG) must be accessible and function correctly via FastAPI.\n",
        "\n",
        "#    Scalability: The architecture should handle increases in user or request volume without performance degradation.\n",
        "\n",
        "#    API security: The system must ensure secure authentication and authorization for users accessing the services.\n",
        "#    \"\"\",\n",
        "#    \"lang\": \"en\"\n",
        "#    \"\"}\n",
        "\n",
        "#result = app.invoke(inputs)"
      ],
      "metadata": {
        "id": "Vt5GcOrSmeFw"
      },
      "execution_count": 81,
      "outputs": []
    },
    {
      "cell_type": "code",
      "source": [
        "inputs = {\n",
        "    \"img_url\": \"https://raw.githubusercontent.com/AaronSosaRamos/mission-flights/main/files-for-test/software_architecture_example.jpeg\",\n",
        "    \"requirements\": \"\"\"\n",
        "Soporte multiplataforma: El sistema debe permitir que los clientes de React, Angular y Vue interactúen con el backend sin problemas.\n",
        "\n",
        "Balanceo de carga: El API Gateway debe distribuir las solicitudes de manera equitativa entre los servicios LLM.\n",
        "\n",
        "Interoperabilidad de LLM: Los servicios LLM (Asistente de Código, Generador de Documentación y RAG Avanzado) deben ser accesibles y funcionar correctamente a través de FastAPI.\n",
        "\n",
        "Escalabilidad: La arquitectura debe manejar aumentos en el volumen de usuarios o solicitudes sin degradar el rendimiento.\n",
        "\n",
        "Seguridad de la API: El sistema debe garantizar una autenticación y autorización seguras para los usuarios que acceden a los servicios.\n",
        "    \"\"\",\n",
        "    \"lang\": \"es\"\n",
        "    \"\"}\n",
        "\n",
        "result = app.invoke(inputs)"
      ],
      "metadata": {
        "colab": {
          "base_uri": "https://localhost:8080/"
        },
        "id": "_sof2T_EmjpN",
        "outputId": "3534b16b-aad9-41ed-f0a8-319dcbc4e531"
      },
      "execution_count": 82,
      "outputs": [
        {
          "output_type": "stream",
          "name": "stdout",
          "text": [
            "Architecture Description: {'architecture_name': 'Microservices', 'layers': ['Presentation', 'API Gateway', 'Business Logic', 'Data'], 'components': [{'name': 'Cliente UI/UX (React)', 'description': 'Interfaz de usuario del cliente, construida con React.', 'dependencies': ['API Gateway'], 'type_component': 'Service', 'exposed_endpoints': None, 'input_data': None, 'output_data': ['Solicitudes a la API']}, {'name': 'Cliente VI/UX (Angular)', 'description': 'Interfaz de usuario del cliente, construida con Angular.', 'dependencies': ['API Gateway'], 'type_component': 'Service', 'exposed_endpoints': None, 'input_data': None, 'output_data': ['Solicitudes a la API']}, {'name': 'Cliente VI/UX (Vue)', 'description': 'Interfaz de usuario del cliente, construida con Vue.', 'dependencies': ['API Gateway'], 'type_component': 'Service', 'exposed_endpoints': None, 'input_data': None, 'output_data': ['Solicitudes a la API']}, {'name': 'API Gateway', 'description': 'Punto de entrada único para las solicitudes de los clientes.', 'dependencies': ['Load Balancer', 'LLM Code Assistance (FastAPI)', 'LLM Documentation Builder (FastAPI)', 'LLM Advanced RAG Planner (FastAPI)'], 'type_component': 'Service', 'exposed_endpoints': ['/code-assistance', '/documentation-builder', '/rag-planner'], 'input_data': ['Solicitudes de los clientes'], 'output_data': ['Solicitudes a los servicios LLM']}, {'name': 'Load Balancer', 'description': 'Distribuye las solicitudes entre los diferentes servicios LLM.', 'dependencies': ['LLM Code Assistance (FastAPI)', 'LLM Documentation Builder (FastAPI)', 'LLM Advanced RAG Planner (FastAPI)'], 'type_component': 'Service', 'exposed_endpoints': None, 'input_data': ['Solicitudes de la API Gateway'], 'output_data': ['Solicitudes a los servicios LLM']}, {'name': 'LLM Code Assistance (FastAPI)', 'description': 'Servicio LLM que proporciona asistencia para la codificación.', 'dependencies': [], 'type_component': 'Service', 'exposed_endpoints': ['/code-assistance'], 'input_data': ['Solicitudes de la API Gateway'], 'output_data': ['Respuestas de asistencia para la codificación']}, {'name': 'LLM Documentation Builder (FastAPI)', 'description': 'Servicio LLM que ayuda a generar documentación.', 'dependencies': [], 'type_component': 'Service', 'exposed_endpoints': ['/documentation-builder'], 'input_data': ['Solicitudes de la API Gateway'], 'output_data': ['Respuestas de documentación']}, {'name': 'LLM Advanced RAG Planner (FastAPI)', 'description': 'Servicio LLM que facilita la planificación de RAG.', 'dependencies': [], 'type_component': 'Service', 'exposed_endpoints': ['/rag-planner'], 'input_data': ['Solicitudes de la API Gateway'], 'output_data': ['Respuestas de planificación de RAG']}], 'external_services': None, 'events': None, 'data_flow_description': 'Los clientes envían solicitudes a la API Gateway, que a su vez las redirige al Load Balancer. El Load Balancer distribuye las solicitudes entre los diferentes servicios LLM, que procesan las solicitudes y devuelven las respuestas a la API Gateway. La API Gateway luego devuelve las respuestas a los clientes.'}\n",
            "Architecture Validation Result: {'architecture': {'architecture_name': 'Microservices', 'layers': ['Presentation', 'API Gateway', 'Business Logic', 'Data'], 'components': [{'name': 'Cliente UI/UX (React)', 'description': 'Interfaz de usuario del cliente, construida con React.', 'dependencies': ['API Gateway'], 'type_component': 'Service', 'exposed_endpoints': None, 'input_data': None, 'output_data': ['Solicitudes a la API']}, {'name': 'Cliente VI/UX (Angular)', 'description': 'Interfaz de usuario del cliente, construida con Angular.', 'dependencies': ['API Gateway'], 'type_component': 'Service', 'exposed_endpoints': None, 'input_data': None, 'output_data': ['Solicitudes a la API']}, {'name': 'Cliente VI/UX (Vue)', 'description': 'Interfaz de usuario del cliente, construida con Vue.', 'dependencies': ['API Gateway'], 'type_component': 'Service', 'exposed_endpoints': None, 'input_data': None, 'output_data': ['Solicitudes a la API']}, {'name': 'API Gateway', 'description': 'Punto de entrada único para las solicitudes de los clientes.', 'dependencies': ['Load Balancer', 'LLM Code Assistance (FastAPI)', 'LLM Documentation Builder (FastAPI)', 'LLM Advanced RAG Planner (FastAPI)'], 'type_component': 'Service', 'exposed_endpoints': ['/code-assistance', '/documentation-builder', '/rag-planner'], 'input_data': ['Solicitudes de los clientes'], 'output_data': ['Solicitudes a los servicios LLM']}, {'name': 'Load Balancer', 'description': 'Distribuye las solicitudes entre los diferentes servicios LLM.', 'dependencies': ['LLM Code Assistance (FastAPI)', 'LLM Documentation Builder (FastAPI)', 'LLM Advanced RAG Planner (FastAPI)'], 'type_component': 'Service', 'exposed_endpoints': None, 'input_data': ['Solicitudes de la API Gateway'], 'output_data': ['Solicitudes a los servicios LLM']}, {'name': 'LLM Code Assistance (FastAPI)', 'description': 'Servicio LLM que proporciona asistencia para la codificación.', 'dependencies': [], 'type_component': 'Service', 'exposed_endpoints': ['/code-assistance'], 'input_data': ['Solicitudes de la API Gateway'], 'output_data': ['Respuestas de asistencia para la codificación']}, {'name': 'LLM Documentation Builder (FastAPI)', 'description': 'Servicio LLM que ayuda a generar documentación.', 'dependencies': [], 'type_component': 'Service', 'exposed_endpoints': ['/documentation-builder'], 'input_data': ['Solicitudes de la API Gateway'], 'output_data': ['Respuestas de documentación']}, {'name': 'LLM Advanced RAG Planner (FastAPI)', 'description': 'Servicio LLM que facilita la planificación de RAG.', 'dependencies': [], 'type_component': 'Service', 'exposed_endpoints': ['/rag-planner'], 'input_data': ['Solicitudes de la API Gateway'], 'output_data': ['Respuestas de planificación de RAG']}], 'external_services': None, 'events': None, 'data_flow_description': 'Los clientes envían solicitudes a la API Gateway, que a su vez las redirige al Load Balancer. El Load Balancer distribuye las solicitudes entre los diferentes servicios LLM, que procesan las solicitudes y devuelven las respuestas a la API Gateway. La API Gateway luego devuelve las respuestas a los clientes.'}, 'requirements': [{'name': 'Soporte multiplataforma', 'description': 'El sistema debe permitir que los clientes de React, Angular y Vue interactúen con el backend sin problemas.', 'must_have_layers': [], 'must_have_components': [], 'must_have_services': None, 'must_handle_events': None}, {'name': 'Balanceo de carga', 'description': 'El API Gateway debe distribuir las solicitudes de manera equitativa entre los servicios LLM.', 'must_have_layers': [], 'must_have_components': [], 'must_have_services': None, 'must_handle_events': None}, {'name': 'Interoperabilidad de LLM', 'description': 'Los servicios LLM (Asistente de Código, Generador de Documentación y RAG Avanzado) deben ser accesibles y funcionar correctamente a través de FastAPI.', 'must_have_layers': [], 'must_have_components': ['LLM Code Assistance (FastAPI)', 'LLM Documentation Builder (FastAPI)', 'LLM Advanced RAG Planner (FastAPI)'], 'must_have_services': None, 'must_handle_events': None}, {'name': 'Escalabilidad', 'description': 'La arquitectura debe manejar aumentos en el volumen de usuarios o solicitudes sin degradar el rendimiento.', 'must_have_layers': [], 'must_have_components': [], 'must_have_services': None, 'must_handle_events': None}, {'name': 'Seguridad de la API', 'description': 'El sistema debe garantizar una autenticación y autorización seguras para los usuarios que acceden a los servicios.', 'must_have_layers': [], 'must_have_components': [], 'must_have_services': None, 'must_handle_events': None}]}\n",
            "Architecture Improvement Suggestions: {'architecture': {'architecture_name': 'Microservices', 'layers': ['Presentation', 'API Gateway', 'Business Logic', 'Data'], 'components': [{'name': 'Cliente UI/UX (React)', 'description': 'Interfaz de usuario del cliente, construida con React.', 'dependencies': ['API Gateway'], 'type_component': 'Service', 'exposed_endpoints': None, 'input_data': None, 'output_data': ['Solicitudes a la API']}, {'name': 'Cliente VI/UX (Angular)', 'description': 'Interfaz de usuario del cliente, construida con Angular.', 'dependencies': ['API Gateway'], 'type_component': 'Service', 'exposed_endpoints': None, 'input_data': None, 'output_data': ['Solicitudes a la API']}, {'name': 'Cliente VI/UX (Vue)', 'description': 'Interfaz de usuario del cliente, construida con Vue.', 'dependencies': ['API Gateway'], 'type_component': 'Service', 'exposed_endpoints': None, 'input_data': None, 'output_data': ['Solicitudes a la API']}, {'name': 'API Gateway', 'description': 'Punto de entrada único para las solicitudes de los clientes.', 'dependencies': ['Load Balancer', 'LLM Code Assistance (FastAPI)', 'LLM Documentation Builder (FastAPI)', 'LLM Advanced RAG Planner (FastAPI)'], 'type_component': 'Service', 'exposed_endpoints': ['/code-assistance', '/documentation-builder', '/rag-planner'], 'input_data': ['Solicitudes de los clientes'], 'output_data': ['Solicitudes a los servicios LLM']}, {'name': 'Load Balancer', 'description': 'Distribuye las solicitudes entre los diferentes servicios LLM.', 'dependencies': ['LLM Code Assistance (FastAPI)', 'LLM Documentation Builder (FastAPI)', 'LLM Advanced RAG Planner (FastAPI)'], 'type_component': 'Service', 'exposed_endpoints': None, 'input_data': ['Solicitudes de la API Gateway'], 'output_data': ['Solicitudes a los servicios LLM']}, {'name': 'LLM Code Assistance (FastAPI)', 'description': 'Servicio LLM que proporciona asistencia para la codificación.', 'dependencies': [], 'type_component': 'Service', 'exposed_endpoints': ['/code-assistance'], 'input_data': ['Solicitudes de la API Gateway'], 'output_data': ['Respuestas de asistencia para la codificación']}, {'name': 'LLM Documentation Builder (FastAPI)', 'description': 'Servicio LLM que ayuda a generar documentación.', 'dependencies': [], 'type_component': 'Service', 'exposed_endpoints': ['/documentation-builder'], 'input_data': ['Solicitudes de la API Gateway'], 'output_data': ['Respuestas de documentación']}, {'name': 'LLM Advanced RAG Planner (FastAPI)', 'description': 'Servicio LLM que facilita la planificación de RAG.', 'dependencies': [], 'type_component': 'Service', 'exposed_endpoints': ['/rag-planner'], 'input_data': ['Solicitudes de la API Gateway'], 'output_data': ['Respuestas de planificación de RAG']}], 'external_services': None, 'events': None, 'data_flow_description': 'Los clientes envían solicitudes a la API Gateway, que a su vez las redirige al Load Balancer. El Load Balancer distribuye las solicitudes entre los diferentes servicios LLM, que procesan las solicitudes y devuelven las respuestas a la API Gateway. La API Gateway luego devuelve las respuestas a los clientes.'}, 'requirements': [{'name': 'Soporte multiplataforma', 'description': 'El sistema debe permitir que los clientes de React, Angular y Vue interactúen con el backend sin problemas.', 'must_have_layers': [], 'must_have_components': [], 'must_have_services': None, 'must_handle_events': None}, {'name': 'Balanceo de carga', 'description': 'El API Gateway debe distribuir las solicitudes de manera equitativa entre los servicios LLM.', 'must_have_layers': [], 'must_have_components': [], 'must_have_services': None, 'must_handle_events': None}, {'name': 'Interoperabilidad de LLM', 'description': 'Los servicios LLM (Asistente de Código, Generador de Documentación y RAG Avanzado) deben ser accesibles y funcionar correctamente a través de FastAPI.', 'must_have_layers': [], 'must_have_components': ['LLM Code Assistance (FastAPI)', 'LLM Documentation Builder (FastAPI)', 'LLM Advanced RAG Planner (FastAPI)'], 'must_have_services': None, 'must_handle_events': None}, {'name': 'Escalabilidad', 'description': 'La arquitectura debe manejar aumentos en el volumen de usuarios o solicitudes sin degradar el rendimiento.', 'must_have_layers': [], 'must_have_components': [], 'must_have_services': None, 'must_handle_events': None}, {'name': 'Seguridad de la API', 'description': 'El sistema debe garantizar una autenticación y autorización seguras para los usuarios que acceden a los servicios.', 'must_have_layers': [], 'must_have_components': [], 'must_have_services': None, 'must_handle_events': None}], 'suggestions': [{'suggestion': 'Agregar una capa de seguridad', 'details': 'Implementar un sistema de autenticación y autorización en el API Gateway para proteger las solicitudes y respuestas de los servicios LLM.'}, {'suggestion': 'Implementar un sistema de monitoreo y logging', 'details': 'Agregar herramientas de monitoreo como Prometheus y Grafana para supervisar el rendimiento y la salud de los microservicios, lo que permitirá una mejor escalabilidad y manejo del tráfico.'}, {'suggestion': 'Agregar un servicio de gestión de eventos', 'details': 'Incorporar un servicio que maneje eventos asíncronos y permita la comunicación entre microservicios, lo que mejoraría la escalabilidad y la interoperabilidad.'}, {'suggestion': 'Optimizar el balanceo de carga', 'details': 'Evaluar y posiblemente implementar algoritmos de balanceo de carga más avanzados para mejorar la distribución de solicitudes entre los servicios LLM.'}, {'suggestion': 'Implementar un servicio de caché', 'details': 'Agregar un servicio como Redis para almacenar en caché las respuestas de los servicios LLM, lo que puede reducir la carga en el sistema y mejorar los tiempos de respuesta.'}]}\n",
            "Architecture Quality Evaluation: {'architecture': {'architecture_name': 'Microservices', 'layers': ['Presentation', 'API Gateway', 'Business Logic', 'Data'], 'components': [{'name': 'Cliente UI/UX (React)', 'description': 'Interfaz de usuario del cliente, construida con React.', 'dependencies': ['API Gateway'], 'type_component': 'Service', 'exposed_endpoints': None, 'input_data': None, 'output_data': ['Solicitudes a la API']}, {'name': 'Cliente VI/UX (Angular)', 'description': 'Interfaz de usuario del cliente, construida con Angular.', 'dependencies': ['API Gateway'], 'type_component': 'Service', 'exposed_endpoints': None, 'input_data': None, 'output_data': ['Solicitudes a la API']}, {'name': 'Cliente VI/UX (Vue)', 'description': 'Interfaz de usuario del cliente, construida con Vue.', 'dependencies': ['API Gateway'], 'type_component': 'Service', 'exposed_endpoints': None, 'input_data': None, 'output_data': ['Solicitudes a la API']}, {'name': 'API Gateway', 'description': 'Punto de entrada único para las solicitudes de los clientes.', 'dependencies': ['Load Balancer', 'LLM Code Assistance (FastAPI)', 'LLM Documentation Builder (FastAPI)', 'LLM Advanced RAG Planner (FastAPI)'], 'type_component': 'Service', 'exposed_endpoints': ['/code-assistance', '/documentation-builder', '/rag-planner'], 'input_data': ['Solicitudes de los clientes'], 'output_data': ['Solicitudes a los servicios LLM']}, {'name': 'Load Balancer', 'description': 'Distribuye las solicitudes entre los diferentes servicios LLM.', 'dependencies': ['LLM Code Assistance (FastAPI)', 'LLM Documentation Builder (FastAPI)', 'LLM Advanced RAG Planner (FastAPI)'], 'type_component': 'Service', 'exposed_endpoints': None, 'input_data': ['Solicitudes de la API Gateway'], 'output_data': ['Solicitudes a los servicios LLM']}, {'name': 'LLM Code Assistance (FastAPI)', 'description': 'Servicio LLM que proporciona asistencia para la codificación.', 'dependencies': [], 'type_component': 'Service', 'exposed_endpoints': ['/code-assistance'], 'input_data': ['Solicitudes de la API Gateway'], 'output_data': ['Respuestas de asistencia para la codificación']}, {'name': 'LLM Documentation Builder (FastAPI)', 'description': 'Servicio LLM que ayuda a generar documentación.', 'dependencies': [], 'type_component': 'Service', 'exposed_endpoints': ['/documentation-builder'], 'input_data': ['Solicitudes de la API Gateway'], 'output_data': ['Respuestas de documentación']}, {'name': 'LLM Advanced RAG Planner (FastAPI)', 'description': 'Servicio LLM que facilita la planificación de RAG.', 'dependencies': [], 'type_component': 'Service', 'exposed_endpoints': ['/rag-planner'], 'input_data': ['Solicitudes de la API Gateway'], 'output_data': ['Respuestas de planificación de RAG']}], 'external_services': None, 'events': None, 'data_flow_description': 'Los clientes envían solicitudes a la API Gateway, que a su vez las redirige al Load Balancer. El Load Balancer distribuye las solicitudes entre los diferentes servicios LLM, que procesan las solicitudes y devuelven las respuestas a la API Gateway. La API Gateway luego devuelve las respuestas a los clientes.'}, 'quality_attributes': [{'attribute_name': 'Scalability', 'current_status': 'Partially Implemented', 'priority': 4, 'description': 'La arquitectura puede escalar a través del balanceo de carga, pero carece de un sistema de monitoreo y gestión de eventos que mejore la escalabilidad.', 'implementation_details': 'Se sugiere implementar un sistema de monitoreo como Prometheus y Grafana para supervisar el rendimiento y la salud de los microservicios.'}, {'attribute_name': 'Security', 'current_status': 'Not Implemented', 'priority': 5, 'description': 'No se ha implementado ninguna capa de seguridad en la arquitectura.', 'implementation_details': 'Es necesario agregar un sistema de autenticación y autorización en el API Gateway para proteger las solicitudes y respuestas de los servicios LLM.'}, {'attribute_name': 'Performance', 'current_status': 'Partially Implemented', 'priority': 3, 'description': 'La arquitectura tiene un rendimiento aceptable, pero se puede optimizar.', 'implementation_details': 'Considerar la implementación de un servicio de caché como Redis para almacenar en caché las respuestas de los servicios LLM, lo que puede reducir la carga en el sistema y mejorar los tiempos de respuesta.'}, {'attribute_name': 'Maintainability', 'current_status': 'Partially Implemented', 'priority': 3, 'description': 'La arquitectura es mantenible, pero puede mejorarse.', 'implementation_details': 'Se recomienda implementar un servicio de gestión de eventos para manejar la comunicación entre microservicios, lo que facilitaría la interoperabilidad y el mantenimiento.'}], 'quality_evaluation': {'Scalability': 4, 'Security': 1, 'Performance': 3, 'Maintainability': 3}}\n"
          ]
        }
      ]
    },
    {
      "cell_type": "code",
      "source": [
        "result"
      ],
      "metadata": {
        "colab": {
          "base_uri": "https://localhost:8080/"
        },
        "id": "6i4dd21Lmiaz",
        "outputId": "820fd14d-4432-4a6c-8294-79e82f12dd0a"
      },
      "execution_count": 83,
      "outputs": [
        {
          "output_type": "execute_result",
          "data": {
            "text/plain": [
              "{'img_url': 'https://raw.githubusercontent.com/AaronSosaRamos/mission-flights/main/files-for-test/software_architecture_example.jpeg',\n",
              " 'requirements': '\\nSoporte multiplataforma: El sistema debe permitir que los clientes de React, Angular y Vue interactúen con el backend sin problemas.\\n\\nBalanceo de carga: El API Gateway debe distribuir las solicitudes de manera equitativa entre los servicios LLM.\\n\\nInteroperabilidad de LLM: Los servicios LLM (Asistente de Código, Generador de Documentación y RAG Avanzado) deben ser accesibles y funcionar correctamente a través de FastAPI.\\n\\nEscalabilidad: La arquitectura debe manejar aumentos en el volumen de usuarios o solicitudes sin degradar el rendimiento.\\n\\nSeguridad de la API: El sistema debe garantizar una autenticación y autorización seguras para los usuarios que acceden a los servicios.\\n    ',\n",
              " 'lang': 'es',\n",
              " 'detected_architecture': {'architecture_name': 'Microservices',\n",
              "  'layers': ['Presentation', 'API Gateway', 'Business Logic', 'Data'],\n",
              "  'components': [{'name': 'Cliente UI/UX (React)',\n",
              "    'description': 'Interfaz de usuario del cliente, construida con React.',\n",
              "    'dependencies': ['API Gateway'],\n",
              "    'type_component': 'Service',\n",
              "    'exposed_endpoints': None,\n",
              "    'input_data': None,\n",
              "    'output_data': ['Solicitudes a la API']},\n",
              "   {'name': 'Cliente VI/UX (Angular)',\n",
              "    'description': 'Interfaz de usuario del cliente, construida con Angular.',\n",
              "    'dependencies': ['API Gateway'],\n",
              "    'type_component': 'Service',\n",
              "    'exposed_endpoints': None,\n",
              "    'input_data': None,\n",
              "    'output_data': ['Solicitudes a la API']},\n",
              "   {'name': 'Cliente VI/UX (Vue)',\n",
              "    'description': 'Interfaz de usuario del cliente, construida con Vue.',\n",
              "    'dependencies': ['API Gateway'],\n",
              "    'type_component': 'Service',\n",
              "    'exposed_endpoints': None,\n",
              "    'input_data': None,\n",
              "    'output_data': ['Solicitudes a la API']},\n",
              "   {'name': 'API Gateway',\n",
              "    'description': 'Punto de entrada único para las solicitudes de los clientes.',\n",
              "    'dependencies': ['Load Balancer',\n",
              "     'LLM Code Assistance (FastAPI)',\n",
              "     'LLM Documentation Builder (FastAPI)',\n",
              "     'LLM Advanced RAG Planner (FastAPI)'],\n",
              "    'type_component': 'Service',\n",
              "    'exposed_endpoints': ['/code-assistance',\n",
              "     '/documentation-builder',\n",
              "     '/rag-planner'],\n",
              "    'input_data': ['Solicitudes de los clientes'],\n",
              "    'output_data': ['Solicitudes a los servicios LLM']},\n",
              "   {'name': 'Load Balancer',\n",
              "    'description': 'Distribuye las solicitudes entre los diferentes servicios LLM.',\n",
              "    'dependencies': ['LLM Code Assistance (FastAPI)',\n",
              "     'LLM Documentation Builder (FastAPI)',\n",
              "     'LLM Advanced RAG Planner (FastAPI)'],\n",
              "    'type_component': 'Service',\n",
              "    'exposed_endpoints': None,\n",
              "    'input_data': ['Solicitudes de la API Gateway'],\n",
              "    'output_data': ['Solicitudes a los servicios LLM']},\n",
              "   {'name': 'LLM Code Assistance (FastAPI)',\n",
              "    'description': 'Servicio LLM que proporciona asistencia para la codificación.',\n",
              "    'dependencies': [],\n",
              "    'type_component': 'Service',\n",
              "    'exposed_endpoints': ['/code-assistance'],\n",
              "    'input_data': ['Solicitudes de la API Gateway'],\n",
              "    'output_data': ['Respuestas de asistencia para la codificación']},\n",
              "   {'name': 'LLM Documentation Builder (FastAPI)',\n",
              "    'description': 'Servicio LLM que ayuda a generar documentación.',\n",
              "    'dependencies': [],\n",
              "    'type_component': 'Service',\n",
              "    'exposed_endpoints': ['/documentation-builder'],\n",
              "    'input_data': ['Solicitudes de la API Gateway'],\n",
              "    'output_data': ['Respuestas de documentación']},\n",
              "   {'name': 'LLM Advanced RAG Planner (FastAPI)',\n",
              "    'description': 'Servicio LLM que facilita la planificación de RAG.',\n",
              "    'dependencies': [],\n",
              "    'type_component': 'Service',\n",
              "    'exposed_endpoints': ['/rag-planner'],\n",
              "    'input_data': ['Solicitudes de la API Gateway'],\n",
              "    'output_data': ['Respuestas de planificación de RAG']}],\n",
              "  'external_services': None,\n",
              "  'events': None,\n",
              "  'data_flow_description': 'Los clientes envían solicitudes a la API Gateway, que a su vez las redirige al Load Balancer. El Load Balancer distribuye las solicitudes entre los diferentes servicios LLM, que procesan las solicitudes y devuelven las respuestas a la API Gateway. La API Gateway luego devuelve las respuestas a los clientes.'},\n",
              " 'architecture_with_requirements': {'architecture': {'architecture_name': 'Microservices',\n",
              "   'layers': ['Presentation', 'API Gateway', 'Business Logic', 'Data'],\n",
              "   'components': [{'name': 'Cliente UI/UX (React)',\n",
              "     'description': 'Interfaz de usuario del cliente, construida con React.',\n",
              "     'dependencies': ['API Gateway'],\n",
              "     'type_component': 'Service',\n",
              "     'exposed_endpoints': None,\n",
              "     'input_data': None,\n",
              "     'output_data': ['Solicitudes a la API']},\n",
              "    {'name': 'Cliente VI/UX (Angular)',\n",
              "     'description': 'Interfaz de usuario del cliente, construida con Angular.',\n",
              "     'dependencies': ['API Gateway'],\n",
              "     'type_component': 'Service',\n",
              "     'exposed_endpoints': None,\n",
              "     'input_data': None,\n",
              "     'output_data': ['Solicitudes a la API']},\n",
              "    {'name': 'Cliente VI/UX (Vue)',\n",
              "     'description': 'Interfaz de usuario del cliente, construida con Vue.',\n",
              "     'dependencies': ['API Gateway'],\n",
              "     'type_component': 'Service',\n",
              "     'exposed_endpoints': None,\n",
              "     'input_data': None,\n",
              "     'output_data': ['Solicitudes a la API']},\n",
              "    {'name': 'API Gateway',\n",
              "     'description': 'Punto de entrada único para las solicitudes de los clientes.',\n",
              "     'dependencies': ['Load Balancer',\n",
              "      'LLM Code Assistance (FastAPI)',\n",
              "      'LLM Documentation Builder (FastAPI)',\n",
              "      'LLM Advanced RAG Planner (FastAPI)'],\n",
              "     'type_component': 'Service',\n",
              "     'exposed_endpoints': ['/code-assistance',\n",
              "      '/documentation-builder',\n",
              "      '/rag-planner'],\n",
              "     'input_data': ['Solicitudes de los clientes'],\n",
              "     'output_data': ['Solicitudes a los servicios LLM']},\n",
              "    {'name': 'Load Balancer',\n",
              "     'description': 'Distribuye las solicitudes entre los diferentes servicios LLM.',\n",
              "     'dependencies': ['LLM Code Assistance (FastAPI)',\n",
              "      'LLM Documentation Builder (FastAPI)',\n",
              "      'LLM Advanced RAG Planner (FastAPI)'],\n",
              "     'type_component': 'Service',\n",
              "     'exposed_endpoints': None,\n",
              "     'input_data': ['Solicitudes de la API Gateway'],\n",
              "     'output_data': ['Solicitudes a los servicios LLM']},\n",
              "    {'name': 'LLM Code Assistance (FastAPI)',\n",
              "     'description': 'Servicio LLM que proporciona asistencia para la codificación.',\n",
              "     'dependencies': [],\n",
              "     'type_component': 'Service',\n",
              "     'exposed_endpoints': ['/code-assistance'],\n",
              "     'input_data': ['Solicitudes de la API Gateway'],\n",
              "     'output_data': ['Respuestas de asistencia para la codificación']},\n",
              "    {'name': 'LLM Documentation Builder (FastAPI)',\n",
              "     'description': 'Servicio LLM que ayuda a generar documentación.',\n",
              "     'dependencies': [],\n",
              "     'type_component': 'Service',\n",
              "     'exposed_endpoints': ['/documentation-builder'],\n",
              "     'input_data': ['Solicitudes de la API Gateway'],\n",
              "     'output_data': ['Respuestas de documentación']},\n",
              "    {'name': 'LLM Advanced RAG Planner (FastAPI)',\n",
              "     'description': 'Servicio LLM que facilita la planificación de RAG.',\n",
              "     'dependencies': [],\n",
              "     'type_component': 'Service',\n",
              "     'exposed_endpoints': ['/rag-planner'],\n",
              "     'input_data': ['Solicitudes de la API Gateway'],\n",
              "     'output_data': ['Respuestas de planificación de RAG']}],\n",
              "   'external_services': None,\n",
              "   'events': None,\n",
              "   'data_flow_description': 'Los clientes envían solicitudes a la API Gateway, que a su vez las redirige al Load Balancer. El Load Balancer distribuye las solicitudes entre los diferentes servicios LLM, que procesan las solicitudes y devuelven las respuestas a la API Gateway. La API Gateway luego devuelve las respuestas a los clientes.'},\n",
              "  'requirements': [{'name': 'Soporte multiplataforma',\n",
              "    'description': 'El sistema debe permitir que los clientes de React, Angular y Vue interactúen con el backend sin problemas.',\n",
              "    'must_have_layers': [],\n",
              "    'must_have_components': [],\n",
              "    'must_have_services': None,\n",
              "    'must_handle_events': None},\n",
              "   {'name': 'Balanceo de carga',\n",
              "    'description': 'El API Gateway debe distribuir las solicitudes de manera equitativa entre los servicios LLM.',\n",
              "    'must_have_layers': [],\n",
              "    'must_have_components': [],\n",
              "    'must_have_services': None,\n",
              "    'must_handle_events': None},\n",
              "   {'name': 'Interoperabilidad de LLM',\n",
              "    'description': 'Los servicios LLM (Asistente de Código, Generador de Documentación y RAG Avanzado) deben ser accesibles y funcionar correctamente a través de FastAPI.',\n",
              "    'must_have_layers': [],\n",
              "    'must_have_components': ['LLM Code Assistance (FastAPI)',\n",
              "     'LLM Documentation Builder (FastAPI)',\n",
              "     'LLM Advanced RAG Planner (FastAPI)'],\n",
              "    'must_have_services': None,\n",
              "    'must_handle_events': None},\n",
              "   {'name': 'Escalabilidad',\n",
              "    'description': 'La arquitectura debe manejar aumentos en el volumen de usuarios o solicitudes sin degradar el rendimiento.',\n",
              "    'must_have_layers': [],\n",
              "    'must_have_components': [],\n",
              "    'must_have_services': None,\n",
              "    'must_handle_events': None},\n",
              "   {'name': 'Seguridad de la API',\n",
              "    'description': 'El sistema debe garantizar una autenticación y autorización seguras para los usuarios que acceden a los servicios.',\n",
              "    'must_have_layers': [],\n",
              "    'must_have_components': [],\n",
              "    'must_have_services': None,\n",
              "    'must_handle_events': None}]},\n",
              " 'improved_architecture': {'architecture': {'architecture_name': 'Microservices',\n",
              "   'layers': ['Presentation', 'API Gateway', 'Business Logic', 'Data'],\n",
              "   'components': [{'name': 'Cliente UI/UX (React)',\n",
              "     'description': 'Interfaz de usuario del cliente, construida con React.',\n",
              "     'dependencies': ['API Gateway'],\n",
              "     'type_component': 'Service',\n",
              "     'exposed_endpoints': None,\n",
              "     'input_data': None,\n",
              "     'output_data': ['Solicitudes a la API']},\n",
              "    {'name': 'Cliente VI/UX (Angular)',\n",
              "     'description': 'Interfaz de usuario del cliente, construida con Angular.',\n",
              "     'dependencies': ['API Gateway'],\n",
              "     'type_component': 'Service',\n",
              "     'exposed_endpoints': None,\n",
              "     'input_data': None,\n",
              "     'output_data': ['Solicitudes a la API']},\n",
              "    {'name': 'Cliente VI/UX (Vue)',\n",
              "     'description': 'Interfaz de usuario del cliente, construida con Vue.',\n",
              "     'dependencies': ['API Gateway'],\n",
              "     'type_component': 'Service',\n",
              "     'exposed_endpoints': None,\n",
              "     'input_data': None,\n",
              "     'output_data': ['Solicitudes a la API']},\n",
              "    {'name': 'API Gateway',\n",
              "     'description': 'Punto de entrada único para las solicitudes de los clientes.',\n",
              "     'dependencies': ['Load Balancer',\n",
              "      'LLM Code Assistance (FastAPI)',\n",
              "      'LLM Documentation Builder (FastAPI)',\n",
              "      'LLM Advanced RAG Planner (FastAPI)'],\n",
              "     'type_component': 'Service',\n",
              "     'exposed_endpoints': ['/code-assistance',\n",
              "      '/documentation-builder',\n",
              "      '/rag-planner'],\n",
              "     'input_data': ['Solicitudes de los clientes'],\n",
              "     'output_data': ['Solicitudes a los servicios LLM']},\n",
              "    {'name': 'Load Balancer',\n",
              "     'description': 'Distribuye las solicitudes entre los diferentes servicios LLM.',\n",
              "     'dependencies': ['LLM Code Assistance (FastAPI)',\n",
              "      'LLM Documentation Builder (FastAPI)',\n",
              "      'LLM Advanced RAG Planner (FastAPI)'],\n",
              "     'type_component': 'Service',\n",
              "     'exposed_endpoints': None,\n",
              "     'input_data': ['Solicitudes de la API Gateway'],\n",
              "     'output_data': ['Solicitudes a los servicios LLM']},\n",
              "    {'name': 'LLM Code Assistance (FastAPI)',\n",
              "     'description': 'Servicio LLM que proporciona asistencia para la codificación.',\n",
              "     'dependencies': [],\n",
              "     'type_component': 'Service',\n",
              "     'exposed_endpoints': ['/code-assistance'],\n",
              "     'input_data': ['Solicitudes de la API Gateway'],\n",
              "     'output_data': ['Respuestas de asistencia para la codificación']},\n",
              "    {'name': 'LLM Documentation Builder (FastAPI)',\n",
              "     'description': 'Servicio LLM que ayuda a generar documentación.',\n",
              "     'dependencies': [],\n",
              "     'type_component': 'Service',\n",
              "     'exposed_endpoints': ['/documentation-builder'],\n",
              "     'input_data': ['Solicitudes de la API Gateway'],\n",
              "     'output_data': ['Respuestas de documentación']},\n",
              "    {'name': 'LLM Advanced RAG Planner (FastAPI)',\n",
              "     'description': 'Servicio LLM que facilita la planificación de RAG.',\n",
              "     'dependencies': [],\n",
              "     'type_component': 'Service',\n",
              "     'exposed_endpoints': ['/rag-planner'],\n",
              "     'input_data': ['Solicitudes de la API Gateway'],\n",
              "     'output_data': ['Respuestas de planificación de RAG']}],\n",
              "   'external_services': None,\n",
              "   'events': None,\n",
              "   'data_flow_description': 'Los clientes envían solicitudes a la API Gateway, que a su vez las redirige al Load Balancer. El Load Balancer distribuye las solicitudes entre los diferentes servicios LLM, que procesan las solicitudes y devuelven las respuestas a la API Gateway. La API Gateway luego devuelve las respuestas a los clientes.'},\n",
              "  'requirements': [{'name': 'Soporte multiplataforma',\n",
              "    'description': 'El sistema debe permitir que los clientes de React, Angular y Vue interactúen con el backend sin problemas.',\n",
              "    'must_have_layers': [],\n",
              "    'must_have_components': [],\n",
              "    'must_have_services': None,\n",
              "    'must_handle_events': None},\n",
              "   {'name': 'Balanceo de carga',\n",
              "    'description': 'El API Gateway debe distribuir las solicitudes de manera equitativa entre los servicios LLM.',\n",
              "    'must_have_layers': [],\n",
              "    'must_have_components': [],\n",
              "    'must_have_services': None,\n",
              "    'must_handle_events': None},\n",
              "   {'name': 'Interoperabilidad de LLM',\n",
              "    'description': 'Los servicios LLM (Asistente de Código, Generador de Documentación y RAG Avanzado) deben ser accesibles y funcionar correctamente a través de FastAPI.',\n",
              "    'must_have_layers': [],\n",
              "    'must_have_components': ['LLM Code Assistance (FastAPI)',\n",
              "     'LLM Documentation Builder (FastAPI)',\n",
              "     'LLM Advanced RAG Planner (FastAPI)'],\n",
              "    'must_have_services': None,\n",
              "    'must_handle_events': None},\n",
              "   {'name': 'Escalabilidad',\n",
              "    'description': 'La arquitectura debe manejar aumentos en el volumen de usuarios o solicitudes sin degradar el rendimiento.',\n",
              "    'must_have_layers': [],\n",
              "    'must_have_components': [],\n",
              "    'must_have_services': None,\n",
              "    'must_handle_events': None},\n",
              "   {'name': 'Seguridad de la API',\n",
              "    'description': 'El sistema debe garantizar una autenticación y autorización seguras para los usuarios que acceden a los servicios.',\n",
              "    'must_have_layers': [],\n",
              "    'must_have_components': [],\n",
              "    'must_have_services': None,\n",
              "    'must_handle_events': None}],\n",
              "  'suggestions': [{'suggestion': 'Agregar una capa de seguridad',\n",
              "    'details': 'Implementar un sistema de autenticación y autorización en el API Gateway para proteger las solicitudes y respuestas de los servicios LLM.'},\n",
              "   {'suggestion': 'Implementar un sistema de monitoreo y logging',\n",
              "    'details': 'Agregar herramientas de monitoreo como Prometheus y Grafana para supervisar el rendimiento y la salud de los microservicios, lo que permitirá una mejor escalabilidad y manejo del tráfico.'},\n",
              "   {'suggestion': 'Agregar un servicio de gestión de eventos',\n",
              "    'details': 'Incorporar un servicio que maneje eventos asíncronos y permita la comunicación entre microservicios, lo que mejoraría la escalabilidad y la interoperabilidad.'},\n",
              "   {'suggestion': 'Optimizar el balanceo de carga',\n",
              "    'details': 'Evaluar y posiblemente implementar algoritmos de balanceo de carga más avanzados para mejorar la distribución de solicitudes entre los servicios LLM.'},\n",
              "   {'suggestion': 'Implementar un servicio de caché',\n",
              "    'details': 'Agregar un servicio como Redis para almacenar en caché las respuestas de los servicios LLM, lo que puede reducir la carga en el sistema y mejorar los tiempos de respuesta.'}]},\n",
              " 'architecture_with_quality_attributes': {'architecture': {'architecture_name': 'Microservices',\n",
              "   'layers': ['Presentation', 'API Gateway', 'Business Logic', 'Data'],\n",
              "   'components': [{'name': 'Cliente UI/UX (React)',\n",
              "     'description': 'Interfaz de usuario del cliente, construida con React.',\n",
              "     'dependencies': ['API Gateway'],\n",
              "     'type_component': 'Service',\n",
              "     'exposed_endpoints': None,\n",
              "     'input_data': None,\n",
              "     'output_data': ['Solicitudes a la API']},\n",
              "    {'name': 'Cliente VI/UX (Angular)',\n",
              "     'description': 'Interfaz de usuario del cliente, construida con Angular.',\n",
              "     'dependencies': ['API Gateway'],\n",
              "     'type_component': 'Service',\n",
              "     'exposed_endpoints': None,\n",
              "     'input_data': None,\n",
              "     'output_data': ['Solicitudes a la API']},\n",
              "    {'name': 'Cliente VI/UX (Vue)',\n",
              "     'description': 'Interfaz de usuario del cliente, construida con Vue.',\n",
              "     'dependencies': ['API Gateway'],\n",
              "     'type_component': 'Service',\n",
              "     'exposed_endpoints': None,\n",
              "     'input_data': None,\n",
              "     'output_data': ['Solicitudes a la API']},\n",
              "    {'name': 'API Gateway',\n",
              "     'description': 'Punto de entrada único para las solicitudes de los clientes.',\n",
              "     'dependencies': ['Load Balancer',\n",
              "      'LLM Code Assistance (FastAPI)',\n",
              "      'LLM Documentation Builder (FastAPI)',\n",
              "      'LLM Advanced RAG Planner (FastAPI)'],\n",
              "     'type_component': 'Service',\n",
              "     'exposed_endpoints': ['/code-assistance',\n",
              "      '/documentation-builder',\n",
              "      '/rag-planner'],\n",
              "     'input_data': ['Solicitudes de los clientes'],\n",
              "     'output_data': ['Solicitudes a los servicios LLM']},\n",
              "    {'name': 'Load Balancer',\n",
              "     'description': 'Distribuye las solicitudes entre los diferentes servicios LLM.',\n",
              "     'dependencies': ['LLM Code Assistance (FastAPI)',\n",
              "      'LLM Documentation Builder (FastAPI)',\n",
              "      'LLM Advanced RAG Planner (FastAPI)'],\n",
              "     'type_component': 'Service',\n",
              "     'exposed_endpoints': None,\n",
              "     'input_data': ['Solicitudes de la API Gateway'],\n",
              "     'output_data': ['Solicitudes a los servicios LLM']},\n",
              "    {'name': 'LLM Code Assistance (FastAPI)',\n",
              "     'description': 'Servicio LLM que proporciona asistencia para la codificación.',\n",
              "     'dependencies': [],\n",
              "     'type_component': 'Service',\n",
              "     'exposed_endpoints': ['/code-assistance'],\n",
              "     'input_data': ['Solicitudes de la API Gateway'],\n",
              "     'output_data': ['Respuestas de asistencia para la codificación']},\n",
              "    {'name': 'LLM Documentation Builder (FastAPI)',\n",
              "     'description': 'Servicio LLM que ayuda a generar documentación.',\n",
              "     'dependencies': [],\n",
              "     'type_component': 'Service',\n",
              "     'exposed_endpoints': ['/documentation-builder'],\n",
              "     'input_data': ['Solicitudes de la API Gateway'],\n",
              "     'output_data': ['Respuestas de documentación']},\n",
              "    {'name': 'LLM Advanced RAG Planner (FastAPI)',\n",
              "     'description': 'Servicio LLM que facilita la planificación de RAG.',\n",
              "     'dependencies': [],\n",
              "     'type_component': 'Service',\n",
              "     'exposed_endpoints': ['/rag-planner'],\n",
              "     'input_data': ['Solicitudes de la API Gateway'],\n",
              "     'output_data': ['Respuestas de planificación de RAG']}],\n",
              "   'external_services': None,\n",
              "   'events': None,\n",
              "   'data_flow_description': 'Los clientes envían solicitudes a la API Gateway, que a su vez las redirige al Load Balancer. El Load Balancer distribuye las solicitudes entre los diferentes servicios LLM, que procesan las solicitudes y devuelven las respuestas a la API Gateway. La API Gateway luego devuelve las respuestas a los clientes.'},\n",
              "  'quality_attributes': [{'attribute_name': 'Scalability',\n",
              "    'current_status': 'Partially Implemented',\n",
              "    'priority': 4,\n",
              "    'description': 'La arquitectura puede escalar a través del balanceo de carga, pero carece de un sistema de monitoreo y gestión de eventos que mejore la escalabilidad.',\n",
              "    'implementation_details': 'Se sugiere implementar un sistema de monitoreo como Prometheus y Grafana para supervisar el rendimiento y la salud de los microservicios.'},\n",
              "   {'attribute_name': 'Security',\n",
              "    'current_status': 'Not Implemented',\n",
              "    'priority': 5,\n",
              "    'description': 'No se ha implementado ninguna capa de seguridad en la arquitectura.',\n",
              "    'implementation_details': 'Es necesario agregar un sistema de autenticación y autorización en el API Gateway para proteger las solicitudes y respuestas de los servicios LLM.'},\n",
              "   {'attribute_name': 'Performance',\n",
              "    'current_status': 'Partially Implemented',\n",
              "    'priority': 3,\n",
              "    'description': 'La arquitectura tiene un rendimiento aceptable, pero se puede optimizar.',\n",
              "    'implementation_details': 'Considerar la implementación de un servicio de caché como Redis para almacenar en caché las respuestas de los servicios LLM, lo que puede reducir la carga en el sistema y mejorar los tiempos de respuesta.'},\n",
              "   {'attribute_name': 'Maintainability',\n",
              "    'current_status': 'Partially Implemented',\n",
              "    'priority': 3,\n",
              "    'description': 'La arquitectura es mantenible, pero puede mejorarse.',\n",
              "    'implementation_details': 'Se recomienda implementar un servicio de gestión de eventos para manejar la comunicación entre microservicios, lo que facilitaría la interoperabilidad y el mantenimiento.'}],\n",
              "  'quality_evaluation': {'Scalability': 4,\n",
              "   'Security': 1,\n",
              "   'Performance': 3,\n",
              "   'Maintainability': 3}}}"
            ]
          },
          "metadata": {},
          "execution_count": 83
        }
      ]
    }
  ]
}