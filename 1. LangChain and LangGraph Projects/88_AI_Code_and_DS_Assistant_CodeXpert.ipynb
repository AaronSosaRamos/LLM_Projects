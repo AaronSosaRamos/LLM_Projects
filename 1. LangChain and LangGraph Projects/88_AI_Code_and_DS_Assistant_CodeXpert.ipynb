{
  "nbformat": 4,
  "nbformat_minor": 0,
  "metadata": {
    "colab": {
      "provenance": []
    },
    "kernelspec": {
      "name": "python3",
      "display_name": "Python 3"
    },
    "language_info": {
      "name": "python"
    }
  },
  "cells": [
    {
      "cell_type": "code",
      "execution_count": 1,
      "metadata": {
        "colab": {
          "base_uri": "https://localhost:8080/"
        },
        "id": "PKAOwUh0F8Go",
        "outputId": "924807cf-5ef1-4f36-a762-204de7db9bf1"
      },
      "outputs": [
        {
          "output_type": "stream",
          "name": "stdout",
          "text": [
            "Requirement already satisfied: langchain_community in /usr/local/lib/python3.10/dist-packages (0.3.0)\n",
            "Requirement already satisfied: langchain in /usr/local/lib/python3.10/dist-packages (0.3.0)\n",
            "Requirement already satisfied: langgraph in /usr/local/lib/python3.10/dist-packages (0.2.22)\n",
            "Requirement already satisfied: langchain-openai in /usr/local/lib/python3.10/dist-packages (0.2.0)\n",
            "Requirement already satisfied: openai in /usr/local/lib/python3.10/dist-packages (1.47.0)\n",
            "Requirement already satisfied: tavily-python in /usr/local/lib/python3.10/dist-packages (0.5.0)\n",
            "Requirement already satisfied: PyYAML>=5.3 in /usr/local/lib/python3.10/dist-packages (from langchain_community) (6.0.2)\n",
            "Requirement already satisfied: SQLAlchemy<3,>=1.4 in /usr/local/lib/python3.10/dist-packages (from langchain_community) (2.0.35)\n",
            "Requirement already satisfied: aiohttp<4.0.0,>=3.8.3 in /usr/local/lib/python3.10/dist-packages (from langchain_community) (3.10.5)\n",
            "Requirement already satisfied: dataclasses-json<0.7,>=0.5.7 in /usr/local/lib/python3.10/dist-packages (from langchain_community) (0.6.7)\n",
            "Requirement already satisfied: langchain-core<0.4.0,>=0.3.0 in /usr/local/lib/python3.10/dist-packages (from langchain_community) (0.3.2)\n",
            "Requirement already satisfied: langsmith<0.2.0,>=0.1.112 in /usr/local/lib/python3.10/dist-packages (from langchain_community) (0.1.125)\n",
            "Requirement already satisfied: numpy<2,>=1 in /usr/local/lib/python3.10/dist-packages (from langchain_community) (1.26.4)\n",
            "Requirement already satisfied: pydantic-settings<3.0.0,>=2.4.0 in /usr/local/lib/python3.10/dist-packages (from langchain_community) (2.5.2)\n",
            "Requirement already satisfied: requests<3,>=2 in /usr/local/lib/python3.10/dist-packages (from langchain_community) (2.32.3)\n",
            "Requirement already satisfied: tenacity!=8.4.0,<9.0.0,>=8.1.0 in /usr/local/lib/python3.10/dist-packages (from langchain_community) (8.5.0)\n",
            "Requirement already satisfied: async-timeout<5.0.0,>=4.0.0 in /usr/local/lib/python3.10/dist-packages (from langchain) (4.0.3)\n",
            "Requirement already satisfied: langchain-text-splitters<0.4.0,>=0.3.0 in /usr/local/lib/python3.10/dist-packages (from langchain) (0.3.0)\n",
            "Requirement already satisfied: pydantic<3.0.0,>=2.7.4 in /usr/local/lib/python3.10/dist-packages (from langchain) (2.9.2)\n",
            "Requirement already satisfied: langgraph-checkpoint<2.0.0,>=1.0.2 in /usr/local/lib/python3.10/dist-packages (from langgraph) (1.0.10)\n",
            "Requirement already satisfied: tiktoken<1,>=0.7 in /usr/local/lib/python3.10/dist-packages (from langchain-openai) (0.7.0)\n",
            "Requirement already satisfied: anyio<5,>=3.5.0 in /usr/local/lib/python3.10/dist-packages (from openai) (3.7.1)\n",
            "Requirement already satisfied: distro<2,>=1.7.0 in /usr/lib/python3/dist-packages (from openai) (1.7.0)\n",
            "Requirement already satisfied: httpx<1,>=0.23.0 in /usr/local/lib/python3.10/dist-packages (from openai) (0.27.2)\n",
            "Requirement already satisfied: jiter<1,>=0.4.0 in /usr/local/lib/python3.10/dist-packages (from openai) (0.5.0)\n",
            "Requirement already satisfied: sniffio in /usr/local/lib/python3.10/dist-packages (from openai) (1.3.1)\n",
            "Requirement already satisfied: tqdm>4 in /usr/local/lib/python3.10/dist-packages (from openai) (4.66.5)\n",
            "Requirement already satisfied: typing-extensions<5,>=4.11 in /usr/local/lib/python3.10/dist-packages (from openai) (4.12.2)\n",
            "Requirement already satisfied: aiohappyeyeballs>=2.3.0 in /usr/local/lib/python3.10/dist-packages (from aiohttp<4.0.0,>=3.8.3->langchain_community) (2.4.0)\n",
            "Requirement already satisfied: aiosignal>=1.1.2 in /usr/local/lib/python3.10/dist-packages (from aiohttp<4.0.0,>=3.8.3->langchain_community) (1.3.1)\n",
            "Requirement already satisfied: attrs>=17.3.0 in /usr/local/lib/python3.10/dist-packages (from aiohttp<4.0.0,>=3.8.3->langchain_community) (24.2.0)\n",
            "Requirement already satisfied: frozenlist>=1.1.1 in /usr/local/lib/python3.10/dist-packages (from aiohttp<4.0.0,>=3.8.3->langchain_community) (1.4.1)\n",
            "Requirement already satisfied: multidict<7.0,>=4.5 in /usr/local/lib/python3.10/dist-packages (from aiohttp<4.0.0,>=3.8.3->langchain_community) (6.1.0)\n",
            "Requirement already satisfied: yarl<2.0,>=1.0 in /usr/local/lib/python3.10/dist-packages (from aiohttp<4.0.0,>=3.8.3->langchain_community) (1.11.1)\n",
            "Requirement already satisfied: idna>=2.8 in /usr/local/lib/python3.10/dist-packages (from anyio<5,>=3.5.0->openai) (3.10)\n",
            "Requirement already satisfied: exceptiongroup in /usr/local/lib/python3.10/dist-packages (from anyio<5,>=3.5.0->openai) (1.2.2)\n",
            "Requirement already satisfied: marshmallow<4.0.0,>=3.18.0 in /usr/local/lib/python3.10/dist-packages (from dataclasses-json<0.7,>=0.5.7->langchain_community) (3.22.0)\n",
            "Requirement already satisfied: typing-inspect<1,>=0.4.0 in /usr/local/lib/python3.10/dist-packages (from dataclasses-json<0.7,>=0.5.7->langchain_community) (0.9.0)\n",
            "Requirement already satisfied: certifi in /usr/local/lib/python3.10/dist-packages (from httpx<1,>=0.23.0->openai) (2024.8.30)\n",
            "Requirement already satisfied: httpcore==1.* in /usr/local/lib/python3.10/dist-packages (from httpx<1,>=0.23.0->openai) (1.0.5)\n",
            "Requirement already satisfied: h11<0.15,>=0.13 in /usr/local/lib/python3.10/dist-packages (from httpcore==1.*->httpx<1,>=0.23.0->openai) (0.14.0)\n",
            "Requirement already satisfied: jsonpatch<2.0,>=1.33 in /usr/local/lib/python3.10/dist-packages (from langchain-core<0.4.0,>=0.3.0->langchain_community) (1.33)\n",
            "Requirement already satisfied: packaging<25,>=23.2 in /usr/local/lib/python3.10/dist-packages (from langchain-core<0.4.0,>=0.3.0->langchain_community) (24.1)\n",
            "Requirement already satisfied: msgpack<2.0.0,>=1.1.0 in /usr/local/lib/python3.10/dist-packages (from langgraph-checkpoint<2.0.0,>=1.0.2->langgraph) (1.1.0)\n",
            "Requirement already satisfied: orjson<4.0.0,>=3.9.14 in /usr/local/lib/python3.10/dist-packages (from langsmith<0.2.0,>=0.1.112->langchain_community) (3.10.7)\n",
            "Requirement already satisfied: annotated-types>=0.6.0 in /usr/local/lib/python3.10/dist-packages (from pydantic<3.0.0,>=2.7.4->langchain) (0.7.0)\n",
            "Requirement already satisfied: pydantic-core==2.23.4 in /usr/local/lib/python3.10/dist-packages (from pydantic<3.0.0,>=2.7.4->langchain) (2.23.4)\n",
            "Requirement already satisfied: python-dotenv>=0.21.0 in /usr/local/lib/python3.10/dist-packages (from pydantic-settings<3.0.0,>=2.4.0->langchain_community) (1.0.1)\n",
            "Requirement already satisfied: charset-normalizer<4,>=2 in /usr/local/lib/python3.10/dist-packages (from requests<3,>=2->langchain_community) (3.3.2)\n",
            "Requirement already satisfied: urllib3<3,>=1.21.1 in /usr/local/lib/python3.10/dist-packages (from requests<3,>=2->langchain_community) (2.0.7)\n",
            "Requirement already satisfied: greenlet!=0.4.17 in /usr/local/lib/python3.10/dist-packages (from SQLAlchemy<3,>=1.4->langchain_community) (3.1.0)\n",
            "Requirement already satisfied: regex>=2022.1.18 in /usr/local/lib/python3.10/dist-packages (from tiktoken<1,>=0.7->langchain-openai) (2024.9.11)\n",
            "Requirement already satisfied: jsonpointer>=1.9 in /usr/local/lib/python3.10/dist-packages (from jsonpatch<2.0,>=1.33->langchain-core<0.4.0,>=0.3.0->langchain_community) (3.0.0)\n",
            "Requirement already satisfied: mypy-extensions>=0.3.0 in /usr/local/lib/python3.10/dist-packages (from typing-inspect<1,>=0.4.0->dataclasses-json<0.7,>=0.5.7->langchain_community) (1.0.0)\n"
          ]
        }
      ],
      "source": [
        "!pip install langchain_community langchain langgraph langchain-openai openai tavily-python"
      ]
    },
    {
      "cell_type": "code",
      "source": [
        "from google.colab import userdata\n",
        "import os\n",
        "os.environ[\"OPENAI_API_KEY\"] = userdata.get('OPENAI_API_KEY')\n",
        "os.environ[\"TAVILY_API_KEY\"] = userdata.get('TAVILY_API_KEY')"
      ],
      "metadata": {
        "id": "9lFMd_HZGsed"
      },
      "execution_count": 2,
      "outputs": []
    },
    {
      "cell_type": "code",
      "source": [
        "from pydantic import BaseModel, Field\n",
        "from typing import List, Optional, Dict\n",
        "\n",
        "class CodeInput(BaseModel):\n",
        "    code: str = Field(..., description=\"The code provided by the user to be analyzed and optimized\")\n",
        "    programming_language: str = Field(..., description=\"The programming language of the provided code (e.g., Python, Java, etc.)\")\n",
        "    is_ai_related: bool = Field(None, description=\"Indicates if the code is related to AI, for researching design patterns using Tavily if applicable\")\n",
        "    context: str = Field(None, description=\"Optional context or description of the problem the code is addressing\")\n",
        "\n",
        "class CodeEvaluation(BaseModel):\n",
        "    works: bool = Field(..., description=\"Indicates if the code works as expected\")\n",
        "    errors: Optional[List[str]] = Field(None, description=\"List of errors or issues found in the code execution\")\n",
        "\n",
        "class RefactoringSuggestions(BaseModel):\n",
        "    suggestions: List[str] = Field(..., description=\"List of specific refactoring suggestions for improving the code\")\n",
        "    rationale: List[str] = Field(..., description=\"Explanation for each refactoring suggestion\")\n",
        "\n",
        "class DesignPatternResearch(BaseModel):\n",
        "    design_pattern_applicable: bool = Field(..., description=\"Indicates if a design pattern could be applied to the code\")\n",
        "    pattern_name: Optional[str] = Field(None, description=\"Name of the design pattern that can be applied, if applicable\")\n",
        "    resources_found: Optional[Dict[str, str]] = Field(None, description=\"Links or references to external resources if research was done using Tavily\")\n",
        "\n",
        "class QualityAttributesApplication(BaseModel):\n",
        "    attributes_applied: List[str] = Field(..., description=\"List of software quality attributes applied (e.g., SOLID principles, DRY, etc.)\")\n",
        "    improvements_achieved: List[str] = Field(..., description=\"Explanation of how each quality attribute improved the code\")\n",
        "\n",
        "class CodeOutput(BaseModel):\n",
        "    optimized_code: str = Field(..., description=\"The optimized version of the provided code after processing\")"
      ],
      "metadata": {
        "id": "zfdENMjDG_EC"
      },
      "execution_count": 3,
      "outputs": []
    },
    {
      "cell_type": "code",
      "source": [
        "from typing import Dict, TypedDict, Optional\n",
        "\n",
        "class GraphState(TypedDict):\n",
        "    code: str\n",
        "    programming_language: str\n",
        "    is_ai_related: bool\n",
        "    context: str\n",
        "\n",
        "    code_evaluation: CodeEvaluation\n",
        "\n",
        "    refactoring_suggestions: RefactoringSuggestions\n",
        "\n",
        "    design_pattern_research: DesignPatternResearch\n",
        "\n",
        "    quality_attributes_application: QualityAttributesApplication\n",
        "\n",
        "    optimized_code: CodeOutput"
      ],
      "metadata": {
        "id": "6dPItbrgG_DO"
      },
      "execution_count": 4,
      "outputs": []
    },
    {
      "cell_type": "code",
      "source": [
        "from langgraph.graph import StateGraph\n",
        "workflow = StateGraph(GraphState)"
      ],
      "metadata": {
        "id": "bsEZAAjmITn6"
      },
      "execution_count": 5,
      "outputs": []
    },
    {
      "cell_type": "code",
      "source": [
        "from langchain_openai import ChatOpenAI\n",
        "from langchain.schema import (\n",
        "       AIMessage,\n",
        "       HumanMessage,\n",
        "       SystemMessage\n",
        "  )\n",
        "\n",
        "chat_openai_llm = ChatOpenAI(model_name=\"gpt-4o-mini\", temperature=0.7)"
      ],
      "metadata": {
        "id": "lUjrFeeCIVjK"
      },
      "execution_count": 6,
      "outputs": []
    },
    {
      "cell_type": "code",
      "source": [
        "from langchain_core.output_parsers import JsonOutputParser\n",
        "\n",
        "def code_evaluation(state):\n",
        "    json_parser = JsonOutputParser(pydantic_object=CodeEvaluation)\n",
        "\n",
        "    messages = [\n",
        "        SystemMessage(content=f\"You are an expert in analyzing {state['programming_language']} code.\"),\n",
        "        HumanMessage(content=f\"\"\"\n",
        "        Analyze the following {state['programming_language']} code for syntax errors and logical issues:\n",
        "\n",
        "        {state['code']}\n",
        "\n",
        "        Context: {state.get('context', 'No additional context provided.')}\n",
        "\n",
        "        Step-by-step reasoning:\n",
        "        1. Check for syntax errors.\n",
        "        2. Identify any logical issues.\n",
        "        3. Determine if the code works correctly.\n",
        "\n",
        "        The code is AI-related: {'Yes' if state['is_ai_related'] else 'No'}\n",
        "\n",
        "        Provide a brief evaluation, listing errors, if any, and confirming if the code works as expected.\n",
        "\n",
        "        Ensure your response follows the format and requirements specified in {json_parser.get_format_instructions()}.\n",
        "        \"\"\")\n",
        "    ]\n",
        "\n",
        "    result = chat_openai_llm.invoke(messages)\n",
        "\n",
        "    parsed_result = json_parser.parse(result.content)\n",
        "\n",
        "    print(f\"Code Evaluation: {parsed_result}\")\n",
        "\n",
        "    return {\n",
        "        \"code_evaluation\": parsed_result\n",
        "    }"
      ],
      "metadata": {
        "id": "08yfaOycIlTU"
      },
      "execution_count": 7,
      "outputs": []
    },
    {
      "cell_type": "code",
      "source": [
        "def generate_refactoring_suggestions(state):\n",
        "    json_parser = JsonOutputParser(pydantic_object=RefactoringSuggestions)\n",
        "\n",
        "    evaluation_summary = f\"The code works correctly: {state['code_evaluation']['works']}.\"\n",
        "    if state['code_evaluation'][\"errors\"]:\n",
        "        evaluation_summary += f\" However, the following errors were identified: {', '.join(state['code_evaluation']['errors'])}.\"\n",
        "    else:\n",
        "        evaluation_summary += \" No errors were found.\"\n",
        "\n",
        "    messages = [\n",
        "        SystemMessage(content=f\"You are an expert in refactoring {state['programming_language']} code.\"),\n",
        "        HumanMessage(content=f\"\"\"\n",
        "        Given the following {state['programming_language']} code:\n",
        "\n",
        "        {state['code']}\n",
        "\n",
        "        Context: {state.get('context', 'No additional context provided.')}\n",
        "\n",
        "        Code Evaluation Results: {evaluation_summary}\n",
        "\n",
        "        Step-by-step reasoning:\n",
        "        1. Identify areas for improvement in the code, considering the evaluation results.\n",
        "        2. Suggest appropriate refactoring techniques.\n",
        "        3. Provide a list of actionable refactoring suggestions.\n",
        "\n",
        "        Ensure your response follows the format and requirements specified in {json_parser.get_format_instructions()}.\n",
        "        \"\"\")\n",
        "    ]\n",
        "\n",
        "    result = chat_openai_llm.invoke(messages)\n",
        "\n",
        "    parsed_result = json_parser.parse(result.content)\n",
        "\n",
        "    print(f\"Refactoring Suggestions: {parsed_result}\")\n",
        "\n",
        "    return {\n",
        "        \"refactoring_suggestions\": parsed_result,\n",
        "    }"
      ],
      "metadata": {
        "id": "VR4ntXKIJi0b"
      },
      "execution_count": 8,
      "outputs": []
    },
    {
      "cell_type": "code",
      "source": [
        "from langchain_community.tools.tavily_search import TavilySearchResults\n",
        "from langgraph.prebuilt import create_react_agent\n",
        "\n",
        "def research_design_pattern(state):\n",
        "    search = TavilySearchResults(max_results=2)\n",
        "    tools = [search]\n",
        "    agent_executor = create_react_agent(chat_openai_llm, tools)\n",
        "\n",
        "    json_parser = JsonOutputParser(pydantic_object=DesignPatternResearch)\n",
        "\n",
        "    refactoring_summary = f\"The following refactoring suggestions were provided: {', '.join(state['refactoring_suggestions']['suggestions'])}.\"\n",
        "\n",
        "    ai_related_message = f\"\"\"\n",
        "    Assess whether the following code is related to AI:\n",
        "\n",
        "    {state['code']}\n",
        "\n",
        "    Refactoring Suggestions: {refactoring_summary}\n",
        "\n",
        "    Is it related to AI? {'Yes' if state['is_ai_related'] else 'No'}\n",
        "\n",
        "    If it is about AI, use Tavily to research relevant design patterns that could support this code.\n",
        "    Provide detailed information about applicable design patterns.\n",
        "\n",
        "    If not, you must not use Tavily and just analyse the code directly for suggesting design patterns in base of what you know.\n",
        "\n",
        "    Ensure your response follows the format and requirements specified in {json_parser.get_format_instructions()}.\n",
        "    \"\"\"\n",
        "\n",
        "    messages = [\n",
        "        SystemMessage(content=f\"You are an expert in software design patterns, refactoring, and AI-related code.\"),\n",
        "        HumanMessage(content=ai_related_message)\n",
        "    ]\n",
        "\n",
        "    result = agent_executor.invoke({'messages': messages})\n",
        "\n",
        "    print(result)\n",
        "\n",
        "    parsed_result = json_parser.parse(result[\"messages\"][-1].content)\n",
        "\n",
        "    print(f\"Design Pattern Research: {parsed_result}\")\n",
        "\n",
        "    return {\n",
        "        \"design_pattern_research\": parsed_result\n",
        "    }"
      ],
      "metadata": {
        "id": "BjLabipPLmTD"
      },
      "execution_count": 9,
      "outputs": []
    },
    {
      "cell_type": "code",
      "source": [
        "def apply_quality_attributes(state):\n",
        "    json_parser = JsonOutputParser(pydantic_object=QualityAttributesApplication)\n",
        "\n",
        "    if state['design_pattern_research']['design_pattern_applicable']:\n",
        "        design_pattern_summary = f\"A design pattern '{state['design_pattern_research']['pattern_name']}' has been suggested for this code based on AI-related research.\"\n",
        "    else:\n",
        "        design_pattern_summary = \"No design pattern was applied or needed.\"\n",
        "\n",
        "    refactoring_summary = f\"The following refactoring suggestions were applied: {', '.join(state['refactoring_suggestions']['suggestions'])}.\"\n",
        "\n",
        "    messages = [\n",
        "        SystemMessage(content=f\"You are an expert in software engineering and code quality improvement for {state['programming_language']} code.\"),\n",
        "        HumanMessage(content=f\"\"\"\n",
        "        Based on the following {state['programming_language']} code and its context:\n",
        "\n",
        "        {state['code']}\n",
        "\n",
        "        Refactoring Summary: {refactoring_summary}\n",
        "\n",
        "        Design Pattern Research: {design_pattern_summary}\n",
        "\n",
        "        Step-by-step reasoning:\n",
        "        1. Identify which software quality attributes (e.g., SOLID principles, DRY, KISS) can be applied to improve the code.\n",
        "        2. Explain how each quality attribute improves the code, with specific focus on maintainability, readability, performance, or other key aspects.\n",
        "        3. Provide a clear explanation for how these quality attributes interact with the refactoring and any design patterns applied.\n",
        "\n",
        "        Ensure your response follows the format and requirements specified in {json_parser.get_format_instructions()}.\n",
        "        \"\"\")\n",
        "    ]\n",
        "\n",
        "    result = chat_openai_llm.invoke(messages)\n",
        "\n",
        "    parsed_result = json_parser.parse(result.content)\n",
        "\n",
        "    print(f\"Quality Attributes Applied: {parsed_result}\")\n",
        "\n",
        "    return {\n",
        "        \"quality_attributes_application\": parsed_result\n",
        "    }"
      ],
      "metadata": {
        "id": "Cs7dfPOZOzmO"
      },
      "execution_count": 10,
      "outputs": []
    },
    {
      "cell_type": "code",
      "source": [
        "def generate_optimized_code(state):\n",
        "    json_parser = JsonOutputParser(pydantic_object=CodeOutput)\n",
        "\n",
        "    refactoring_summary = f\"The following refactoring suggestions were applied: {', '.join(state['refactoring_suggestions']['suggestions'])}.\"\n",
        "\n",
        "    if state['design_pattern_research']['design_pattern_applicable']:\n",
        "        design_pattern_summary = f\"A design pattern '{state['design_pattern_research']['pattern_name']}' was suggested and applied to enhance the structure of the code.\"\n",
        "    else:\n",
        "        design_pattern_summary = \"No design pattern was applied or needed.\"\n",
        "\n",
        "    quality_attributes_summary = f\"Quality attributes such as {', '.join(state['quality_attributes_application']['attributes_applied'])} were applied to further improve the code.\"\n",
        "\n",
        "    messages = [\n",
        "        SystemMessage(content=f\"You are an expert in code optimization for {state['programming_language']} code.\"),\n",
        "        HumanMessage(content=f\"\"\"\n",
        "        Based on the previous analysis, refactoring, and design improvements, please generate an optimized version of the following {state['programming_language']} code:\n",
        "\n",
        "        {state['code']}\n",
        "\n",
        "        Refactoring Summary: {refactoring_summary}\n",
        "\n",
        "        Design Pattern Research: {design_pattern_summary}\n",
        "\n",
        "        Quality Attributes: {quality_attributes_summary}\n",
        "\n",
        "        Return the final optimized version of the code, taking into account all previous suggestions and improvements.\n",
        "\n",
        "        Ensure your response follows the format and requirements specified in {json_parser.get_format_instructions()}.\n",
        "        \"\"\")\n",
        "    ]\n",
        "\n",
        "    result = chat_openai_llm.invoke(messages)\n",
        "\n",
        "    parsed_result = json_parser.parse(result.content)\n",
        "\n",
        "    print(f\"Optimized Code: {parsed_result}\")\n",
        "\n",
        "    return {\n",
        "        \"optimized_code\": parsed_result\n",
        "    }"
      ],
      "metadata": {
        "id": "YisJcoxcRQ-1"
      },
      "execution_count": 11,
      "outputs": []
    },
    {
      "cell_type": "code",
      "source": [
        "from langgraph.graph import END\n",
        "\n",
        "workflow.add_node(\"code_evaluation_node\", code_evaluation)\n",
        "workflow.add_node(\"generate_refactoring_suggestions\", generate_refactoring_suggestions)\n",
        "workflow.add_node(\"research_design_pattern\", research_design_pattern)\n",
        "workflow.add_node(\"apply_quality_attributes\", apply_quality_attributes)\n",
        "workflow.add_node(\"generate_optimized_code\", generate_optimized_code)"
      ],
      "metadata": {
        "id": "EV_F25V8SowQ"
      },
      "execution_count": 12,
      "outputs": []
    },
    {
      "cell_type": "code",
      "source": [
        "workflow.set_entry_point(\"code_evaluation_node\")"
      ],
      "metadata": {
        "id": "AhfWa0zKTA5O"
      },
      "execution_count": 13,
      "outputs": []
    },
    {
      "cell_type": "code",
      "source": [
        "workflow.add_edge('code_evaluation_node', \"generate_refactoring_suggestions\")\n",
        "workflow.add_edge('generate_refactoring_suggestions', \"research_design_pattern\")\n",
        "workflow.add_edge('research_design_pattern', \"apply_quality_attributes\")\n",
        "workflow.add_edge('apply_quality_attributes', \"generate_optimized_code\")"
      ],
      "metadata": {
        "id": "0kmlJ7cKTEzx"
      },
      "execution_count": 14,
      "outputs": []
    },
    {
      "cell_type": "code",
      "source": [
        "workflow.add_edge('generate_optimized_code', END)"
      ],
      "metadata": {
        "id": "fySDDTR-TSQw"
      },
      "execution_count": 15,
      "outputs": []
    },
    {
      "cell_type": "code",
      "source": [
        "app = workflow.compile()"
      ],
      "metadata": {
        "id": "W9TzhlJHTXP-"
      },
      "execution_count": 16,
      "outputs": []
    },
    {
      "cell_type": "code",
      "source": [
        "from IPython.display import Image, display\n",
        "\n",
        "try:\n",
        "    display(Image(app.get_graph().draw_mermaid_png()))\n",
        "except Exception:\n",
        "    pass"
      ],
      "metadata": {
        "colab": {
          "base_uri": "https://localhost:8080/",
          "height": 647
        },
        "id": "1QKIOYHCTaWh",
        "outputId": "b39338e7-4918-48d3-d48f-ed6c469becad"
      },
      "execution_count": 17,
      "outputs": [
        {
          "output_type": "display_data",
          "data": {
            "image/jpeg": "[encoded data removed]",
            "text/plain": [
              "<IPython.core.display.Image object>"
            ]
          },
          "metadata": {}
        }
      ]
    },
    {
      "cell_type": "code",
      "source": [
        "inputs = {\n",
        "    \"code\": \"\"\"\n",
        "    def quicksort(arr):\n",
        "        if len(arr) == 1:\n",
        "            return arr # This will fail for an empty array, causing a crash\n",
        "        pivot = arr[0]\n",
        "        left = []\n",
        "        right = []\n",
        "        for i in arr:\n",
        "            if i < pivot:\n",
        "                left.append(pivot)\n",
        "            else:\n",
        "                right.append(pivot)\n",
        "        return quicksort(left) + quicksort([pivot]) + quicksort(right)\n",
        "\n",
        "    arr = [3, 6, 8, 10, 1, 2, 1]\n",
        "    sorted_arr = quicksort(arr)\n",
        "    print(sorted_arr)\n",
        "    \"\"\",\n",
        "    \"programming_language\": \"python\",\n",
        "    \"is_ai_related\": False,\n",
        "    \"context\": \"This is an incorrect Quicksort algorithm that needs major refactoring and fixes.\"\n",
        "}\n",
        "\n",
        "result = app.invoke(inputs)"
      ],
      "metadata": {
        "colab": {
          "base_uri": "https://localhost:8080/"
        },
        "id": "QoJeQwudTd9L",
        "outputId": "6a5cfe33-326f-4baf-ca17-f2a4ab0fd826"
      },
      "execution_count": 18,
      "outputs": [
        {
          "output_type": "stream",
          "name": "stdout",
          "text": [
            "Code Evaluation: {'works': False, 'errors': ['The quicksort function does not handle an empty array, which will cause a crash.', 'The pivot element is incorrectly added to the left and right lists instead of the current element being compared.', \"The logic for appending elements to the left and right lists is incorrect; it should append 'i', not 'pivot'.\", \"The base case should also check for an empty array, returning the array directly if it's empty.\"]}\n",
            "Refactoring Suggestions: {'suggestions': ['Handle the case for an empty array in the base case of the quicksort function.', \"Correctly append the current element 'i' to the left and right lists instead of appending 'pivot'.\", 'Fix the logic to ensure that elements equal to the pivot are included in the correct segment.', 'Refactor the recursive calls to quicksort to avoid repeating the pivot element unnecessarily.'], 'rationale': ['By handling the empty array case, we prevent potential crashes when the input is an empty list.', \"Appending 'i' instead of 'pivot' ensures that the correct elements are being sorted into the left and right partitions.\", 'Including elements equal to the pivot in the right partition ensures that we maintain the correct order and completeness of the sort.', 'Refactoring the recursive calls will improve efficiency by avoiding unnecessary duplication of the pivot in the output.']}\n",
            "{'messages': [SystemMessage(content='You are an expert in software design patterns, refactoring, and AI-related code.', additional_kwargs={}, response_metadata={}, id='3624d8d8-06b6-4028-99f1-63fa47e49d2d'), HumanMessage(content='\\n    Assess whether the following code is related to AI:\\n\\n    \\n    def quicksort(arr):\\n        if len(arr) == 1:\\n            return arr # This will fail for an empty array, causing a crash\\n        pivot = arr[0]\\n        left = []\\n        right = []\\n        for i in arr:\\n            if i < pivot:\\n                left.append(pivot) \\n            else:\\n                right.append(pivot) \\n        return quicksort(left) + quicksort([pivot]) + quicksort(right) \\n    \\n    arr = [3, 6, 8, 10, 1, 2, 1]\\n    sorted_arr = quicksort(arr)\\n    print(sorted_arr) \\n    \\n\\n    Refactoring Suggestions: The following refactoring suggestions were provided: Handle the case for an empty array in the base case of the quicksort function., Correctly append the current element \\'i\\' to the left and right lists instead of appending \\'pivot\\'., Fix the logic to ensure that elements equal to the pivot are included in the correct segment., Refactor the recursive calls to quicksort to avoid repeating the pivot element unnecessarily..\\n\\n    Is it related to AI? No\\n\\n    If it is about AI, use Tavily to research relevant design patterns that could support this code. \\n    Provide detailed information about applicable design patterns.\\n\\n    If not, you must not use Tavily and just analyse the code directly for suggesting design patterns in base of what you know.\\n\\n    Ensure your response follows the format and requirements specified in The output should be formatted as a JSON instance that conforms to the JSON schema below.\\n\\nAs an example, for the schema {\"properties\": {\"foo\": {\"title\": \"Foo\", \"description\": \"a list of strings\", \"type\": \"array\", \"items\": {\"type\": \"string\"}}}, \"required\": [\"foo\"]}\\nthe object {\"foo\": [\"bar\", \"baz\"]} is a well-formatted instance of the schema. The object {\"properties\": {\"foo\": [\"bar\", \"baz\"]}} is not well-formatted.\\n\\nHere is the output schema:\\n```\\n{\"properties\": {\"design_pattern_applicable\": {\"description\": \"Indicates if a design pattern could be applied to the code\", \"title\": \"Design Pattern Applicable\", \"type\": \"boolean\"}, \"pattern_name\": {\"anyOf\": [{\"type\": \"string\"}, {\"type\": \"null\"}], \"default\": null, \"description\": \"Name of the design pattern that can be applied, if applicable\", \"title\": \"Pattern Name\"}, \"resources_found\": {\"anyOf\": [{\"additionalProperties\": {\"type\": \"string\"}, \"type\": \"object\"}, {\"type\": \"null\"}], \"default\": null, \"description\": \"Links or references to external resources if research was done using Tavily\", \"title\": \"Resources Found\"}}, \"required\": [\"design_pattern_applicable\"]}\\n```.\\n    ', additional_kwargs={}, response_metadata={}, id='727ea905-ee7f-4f5f-89a6-4e3734f6dc22'), AIMessage(content='```json\\n{\"design_pattern_applicable\": true, \"pattern_name\": \"Recursive Pattern\", \"resources_found\": null}\\n```', additional_kwargs={'refusal': None}, response_metadata={'token_usage': {'completion_tokens': 27, 'prompt_tokens': 688, 'total_tokens': 715, 'completion_tokens_details': {'reasoning_tokens': 0}}, 'model_name': 'gpt-4o-mini-2024-07-18', 'system_fingerprint': 'fp_1bb46167f9', 'finish_reason': 'stop', 'logprobs': None}, id='run-37fe275b-0841-456f-ad1a-1316b5caf38d-0', usage_metadata={'input_tokens': 688, 'output_tokens': 27, 'total_tokens': 715})]}\n",
            "Design Pattern Research: {'design_pattern_applicable': True, 'pattern_name': 'Recursive Pattern', 'resources_found': None}\n",
            "Quality Attributes Applied: {'attributes_applied': ['DRY', 'KISS', 'SOLID'], 'improvements_achieved': [\"The DRY (Don't Repeat Yourself) principle was applied by ensuring that the pivot element is only added once to the final sorted array during the recursive calls, reducing redundancy and potential errors.\", 'The KISS (Keep It Simple, Stupid) principle was applied by simplifying the logic of the quicksort implementation. This enhances readability and maintainability, making it easier for future developers to understand the sorting mechanism.', 'The SOLID principles were applied, particularly the Single Responsibility Principle, as each part of the quicksort function now has a clear responsibility: to sort the given list based on the pivot. This improves the maintainability of the code by making it easier to test and extend.']}\n",
            "Optimized Code: {'optimized_code': 'def quicksort(arr):\\n    if len(arr) == 0:\\n        return arr  # Handle empty array case\\n    pivot = arr[0]\\n    left = [i for i in arr[1:] if i < pivot]   # Use list comprehension for efficiency\\n    right = [i for i in arr[1:] if i >= pivot]  # Use list comprehension for efficiency\\n    return quicksort(left) + [pivot] + quicksort(right)  # Avoid unnecessary recursion on pivot\\n\\narr = [3, 6, 8, 10, 1, 2, 1]\\nsorted_arr = quicksort(arr)\\nprint(sorted_arr)'}\n"
          ]
        }
      ]
    },
    {
      "cell_type": "code",
      "source": [
        "result"
      ],
      "metadata": {
        "colab": {
          "base_uri": "https://localhost:8080/"
        },
        "id": "kBZaMd1zaCsM",
        "outputId": "3a16b6ae-fabe-451d-c0ff-95a2b6a22ac6"
      },
      "execution_count": 19,
      "outputs": [
        {
          "output_type": "execute_result",
          "data": {
            "text/plain": [
              "{'code': '\\n    def quicksort(arr):\\n        if len(arr) == 1:\\n            return arr # This will fail for an empty array, causing a crash\\n        pivot = arr[0]\\n        left = []\\n        right = []\\n        for i in arr:\\n            if i < pivot:\\n                left.append(pivot) \\n            else:\\n                right.append(pivot) \\n        return quicksort(left) + quicksort([pivot]) + quicksort(right) \\n    \\n    arr = [3, 6, 8, 10, 1, 2, 1]\\n    sorted_arr = quicksort(arr)\\n    print(sorted_arr) \\n    ',\n",
              " 'programming_language': 'python',\n",
              " 'is_ai_related': False,\n",
              " 'context': 'This is an incorrect Quicksort algorithm that needs major refactoring and fixes.',\n",
              " 'code_evaluation': {'works': False,\n",
              "  'errors': ['The quicksort function does not handle an empty array, which will cause a crash.',\n",
              "   'The pivot element is incorrectly added to the left and right lists instead of the current element being compared.',\n",
              "   \"The logic for appending elements to the left and right lists is incorrect; it should append 'i', not 'pivot'.\",\n",
              "   \"The base case should also check for an empty array, returning the array directly if it's empty.\"]},\n",
              " 'refactoring_suggestions': {'suggestions': ['Handle the case for an empty array in the base case of the quicksort function.',\n",
              "   \"Correctly append the current element 'i' to the left and right lists instead of appending 'pivot'.\",\n",
              "   'Fix the logic to ensure that elements equal to the pivot are included in the correct segment.',\n",
              "   'Refactor the recursive calls to quicksort to avoid repeating the pivot element unnecessarily.'],\n",
              "  'rationale': ['By handling the empty array case, we prevent potential crashes when the input is an empty list.',\n",
              "   \"Appending 'i' instead of 'pivot' ensures that the correct elements are being sorted into the left and right partitions.\",\n",
              "   'Including elements equal to the pivot in the right partition ensures that we maintain the correct order and completeness of the sort.',\n",
              "   'Refactoring the recursive calls will improve efficiency by avoiding unnecessary duplication of the pivot in the output.']},\n",
              " 'design_pattern_research': {'design_pattern_applicable': True,\n",
              "  'pattern_name': 'Recursive Pattern',\n",
              "  'resources_found': None},\n",
              " 'quality_attributes_application': {'attributes_applied': ['DRY',\n",
              "   'KISS',\n",
              "   'SOLID'],\n",
              "  'improvements_achieved': [\"The DRY (Don't Repeat Yourself) principle was applied by ensuring that the pivot element is only added once to the final sorted array during the recursive calls, reducing redundancy and potential errors.\",\n",
              "   'The KISS (Keep It Simple, Stupid) principle was applied by simplifying the logic of the quicksort implementation. This enhances readability and maintainability, making it easier for future developers to understand the sorting mechanism.',\n",
              "   'The SOLID principles were applied, particularly the Single Responsibility Principle, as each part of the quicksort function now has a clear responsibility: to sort the given list based on the pivot. This improves the maintainability of the code by making it easier to test and extend.']},\n",
              " 'optimized_code': {'optimized_code': 'def quicksort(arr):\\n    if len(arr) == 0:\\n        return arr  # Handle empty array case\\n    pivot = arr[0]\\n    left = [i for i in arr[1:] if i < pivot]   # Use list comprehension for efficiency\\n    right = [i for i in arr[1:] if i >= pivot]  # Use list comprehension for efficiency\\n    return quicksort(left) + [pivot] + quicksort(right)  # Avoid unnecessary recursion on pivot\\n\\narr = [3, 6, 8, 10, 1, 2, 1]\\nsorted_arr = quicksort(arr)\\nprint(sorted_arr)'}}"
            ]
          },
          "metadata": {},
          "execution_count": 19
        }
      ]
    },
    {
      "cell_type": "code",
      "source": [
        "inputs2 = {\n",
        "    \"code\": \"\"\"\n",
        "import tensorflow as tf\n",
        "import numpy as np\n",
        "\n",
        "class BadNeuralNetwork:\n",
        "    def __init__(self):\n",
        "        self.model = tf.keras.Sequential([\n",
        "            tf.keras.layers.Dense(64, input_shape=(784,)),\n",
        "            tf.keras.layers.Dense(32),\n",
        "            tf.keras.layers.Dense(10)\n",
        "        ])\n",
        "\n",
        "    def compile(self):\n",
        "        self.model.compile(optimizer=None, loss=None)\n",
        "\n",
        "    def train(self, X_train, y_train):\n",
        "        self.model.fit(X_train, y_train, epochs=10)\n",
        "\n",
        "y_train = np.random.random((100, 10))\n",
        "\n",
        "nn = BadNeuralNetwork()\n",
        "\n",
        "nn.compile()\n",
        "\n",
        "nn.train(X_train, y_train)\n",
        "    \"\"\",\n",
        "    \"programming_language\": \"python\",\n",
        "    \"is_ai_related\": True,\n",
        "    \"context\": \"This is a bad implementation of a neural network using TensorFlow with multiple issues including missing activation functions, optimizer, loss function, and incorrect data dimensions.\"\n",
        "}\n",
        "\n",
        "result2 = app.invoke(inputs2)"
      ],
      "metadata": {
        "colab": {
          "base_uri": "https://localhost:8080/"
        },
        "id": "MrrT_ktAaMGB",
        "outputId": "2d0b779f-3ae9-4cc1-dfd9-5809bd489322"
      },
      "execution_count": 20,
      "outputs": [
        {
          "output_type": "stream",
          "name": "stdout",
          "text": [
            "Code Evaluation: {'works': False, 'errors': ['Missing optimizer in model compilation.', 'Missing loss function in model compilation.', \"The variable 'X_train' is not defined before use in 'nn.train(X_train, y_train)'.\", 'No activation function is specified for the Dense layers, which is typically necessary for neural networks.', \"The shape of 'y_train' should match the output shape of the network (10 classes), but it needs to be one-hot encoded or categorical in practice.\"]}\n",
            "Refactoring Suggestions: {'suggestions': ['Define the optimizer and loss function in the compile method.', 'Add activation functions to the Dense layers to improve network performance.', \"Ensure 'X_train' is defined with the appropriate shape and type before calling train.\", \"One-hot encode 'y_train' to match the output of the network.\", \"Use a proper data preprocessing step to prepare 'X_train' and 'y_train'.\"], 'rationale': ['Specifying an optimizer and loss function is essential for model training, allowing the model to learn effectively.', 'Activation functions introduce non-linearity, which is crucial for the network to learn complex patterns.', \"'X_train' must be defined for the training process to work; otherwise, it will result in a runtime error.\", \"One-hot encoding 'y_train' ensures that the labels match the output layer's expected shape, which is necessary for correct training.\", 'Data preprocessing ensures that the input features are properly scaled and shaped, which improves training efficiency and model performance.']}\n",
            "{'messages': [SystemMessage(content='You are an expert in software design patterns, refactoring, and AI-related code.', additional_kwargs={}, response_metadata={}, id='9a66dd15-a03a-4465-8d26-aeb3384944c5'), HumanMessage(content='\\n    Assess whether the following code is related to AI:\\n\\n    \\nimport tensorflow as tf\\nimport numpy as np\\n\\nclass BadNeuralNetwork:\\n    def __init__(self):\\n        self.model = tf.keras.Sequential([\\n            tf.keras.layers.Dense(64, input_shape=(784,)),  \\n            tf.keras.layers.Dense(32), \\n            tf.keras.layers.Dense(10) \\n        ])\\n\\n    def compile(self):\\n        self.model.compile(optimizer=None, loss=None)  \\n\\n    def train(self, X_train, y_train):\\n        self.model.fit(X_train, y_train, epochs=10)  \\n\\ny_train = np.random.random((100, 10))  \\n\\nnn = BadNeuralNetwork()\\n\\nnn.compile()\\n\\nnn.train(X_train, y_train)\\n    \\n\\n    Refactoring Suggestions: The following refactoring suggestions were provided: Define the optimizer and loss function in the compile method., Add activation functions to the Dense layers to improve network performance., Ensure \\'X_train\\' is defined with the appropriate shape and type before calling train., One-hot encode \\'y_train\\' to match the output of the network., Use a proper data preprocessing step to prepare \\'X_train\\' and \\'y_train\\'..\\n\\n    Is it related to AI? Yes\\n\\n    If it is about AI, use Tavily to research relevant design patterns that could support this code. \\n    Provide detailed information about applicable design patterns.\\n\\n    If not, you must not use Tavily and just analyse the code directly for suggesting design patterns in base of what you know.\\n\\n    Ensure your response follows the format and requirements specified in The output should be formatted as a JSON instance that conforms to the JSON schema below.\\n\\nAs an example, for the schema {\"properties\": {\"foo\": {\"title\": \"Foo\", \"description\": \"a list of strings\", \"type\": \"array\", \"items\": {\"type\": \"string\"}}}, \"required\": [\"foo\"]}\\nthe object {\"foo\": [\"bar\", \"baz\"]} is a well-formatted instance of the schema. The object {\"properties\": {\"foo\": [\"bar\", \"baz\"]}} is not well-formatted.\\n\\nHere is the output schema:\\n```\\n{\"properties\": {\"design_pattern_applicable\": {\"description\": \"Indicates if a design pattern could be applied to the code\", \"title\": \"Design Pattern Applicable\", \"type\": \"boolean\"}, \"pattern_name\": {\"anyOf\": [{\"type\": \"string\"}, {\"type\": \"null\"}], \"default\": null, \"description\": \"Name of the design pattern that can be applied, if applicable\", \"title\": \"Pattern Name\"}, \"resources_found\": {\"anyOf\": [{\"additionalProperties\": {\"type\": \"string\"}, \"type\": \"object\"}, {\"type\": \"null\"}], \"default\": null, \"description\": \"Links or references to external resources if research was done using Tavily\", \"title\": \"Resources Found\"}}, \"required\": [\"design_pattern_applicable\"]}\\n```.\\n    ', additional_kwargs={}, response_metadata={}, id='a3435468-fa22-4a50-9192-351af4a642e5'), AIMessage(content='', additional_kwargs={'tool_calls': [{'id': 'call_1oZOOnVS03N4BX1PhJfSXwfX', 'function': {'arguments': '{\"query\":\"design patterns in neural networks\"}', 'name': 'tavily_search_results_json'}, 'type': 'function'}], 'refusal': None}, response_metadata={'token_usage': {'completion_tokens': 22, 'prompt_tokens': 696, 'total_tokens': 718, 'completion_tokens_details': {'reasoning_tokens': 0}}, 'model_name': 'gpt-4o-mini-2024-07-18', 'system_fingerprint': 'fp_1bb46167f9', 'finish_reason': 'tool_calls', 'logprobs': None}, id='run-1db42c6c-daf8-4cc4-b470-d33becb55aa8-0', tool_calls=[{'name': 'tavily_search_results_json', 'args': {'query': 'design patterns in neural networks'}, 'id': 'call_1oZOOnVS03N4BX1PhJfSXwfX', 'type': 'tool_call'}], usage_metadata={'input_tokens': 696, 'output_tokens': 22, 'total_tokens': 718}), ToolMessage(content='[{\"url\": \"https://www.oreilly.com/library/view/deep-learning-patterns/9781617298264/OEBPS/Text/05.htm\", \"content\": \"Introducing a procedural design pattern for a convolutional neural network; Decomposing the architecture of the procedural design pattern into macro- and micro-components; Coding former SOTA models with the procedural design pattern; Prior to 2017, the majority of renditions of neural network models were coded in a batch scripting style.\"}, {\"url\": \"https://arxiv.org/abs/1611.00847\", \"content\": \"View a PDF of the paper titled Deep Convolutional Neural Network Design Patterns, by Leslie N. Smith and Nicholay Topin. Recent research in the deep learning field has produced a plethora of new architectures. At the same time, a growing number of groups are applying deep learning to new applications. Some of these groups are likely to be ...\"}]', name='tavily_search_results_json', id='abb84905-dd45-4d06-8b1b-72a805e122f7', tool_call_id='call_1oZOOnVS03N4BX1PhJfSXwfX', artifact={'query': 'design patterns in neural networks', 'follow_up_questions': None, 'answer': None, 'images': [], 'results': [{'title': '5 Procedural design pattern - Deep Learning Patterns and Practices [Book]', 'url': 'https://www.oreilly.com/library/view/deep-learning-patterns/9781617298264/OEBPS/Text/05.htm', 'content': 'Introducing a procedural design pattern for a convolutional neural network; Decomposing the architecture of the procedural design pattern into macro- and micro-components; Coding former SOTA models with the procedural design pattern; Prior to 2017, the majority of renditions of neural network models were coded in a batch scripting style.', 'score': 0.9980957, 'raw_content': None}, {'title': '[1611.00847] Deep Convolutional Neural Network Design Patterns - arXiv.org', 'url': 'https://arxiv.org/abs/1611.00847', 'content': 'View a PDF of the paper titled Deep Convolutional Neural Network Design Patterns, by Leslie N. Smith and Nicholay Topin. Recent research in the deep learning field has produced a plethora of new architectures. At the same time, a growing number of groups are applying deep learning to new applications. Some of these groups are likely to be ...', 'score': 0.99491996, 'raw_content': None}], 'response_time': 3.27}), AIMessage(content='```json\\n{\\n  \"design_pattern_applicable\": true,\\n  \"pattern_name\": \"Procedural Design Pattern\",\\n  \"resources_found\": {\\n    \"1\": \"https://www.oreilly.com/library/view/deep-learning-patterns/9781617298264/OEBPS/Text/05.htm\",\\n    \"2\": \"https://arxiv.org/abs/1611.00847\"\\n  }\\n}\\n```', additional_kwargs={'refusal': None}, response_metadata={'token_usage': {'completion_tokens': 87, 'prompt_tokens': 925, 'total_tokens': 1012, 'completion_tokens_details': {'reasoning_tokens': 0}}, 'model_name': 'gpt-4o-mini-2024-07-18', 'system_fingerprint': 'fp_1bb46167f9', 'finish_reason': 'stop', 'logprobs': None}, id='run-65a389b3-64c7-4bbd-a4b7-0d65f37b2cc7-0', usage_metadata={'input_tokens': 925, 'output_tokens': 87, 'total_tokens': 1012})]}\n",
            "Design Pattern Research: {'design_pattern_applicable': True, 'pattern_name': 'Procedural Design Pattern', 'resources_found': {'1': 'https://www.oreilly.com/library/view/deep-learning-patterns/9781617298264/OEBPS/Text/05.htm', '2': 'https://arxiv.org/abs/1611.00847'}}\n",
            "Quality Attributes Applied: {'attributes_applied': ['SOLID principles', 'DRY', 'KISS'], 'improvements_achieved': ['Applying SOLID principles, particularly the Single Responsibility Principle, enhances maintainability by ensuring that each method has a distinct purpose, such as separating the model compilation and training logic.', \"The DRY (Don't Repeat Yourself) principle helps avoid code duplication by encouraging the reuse of components like the model definition and preprocessing steps, which simplifies future updates and reduces the chance of errors.\", 'KISS (Keep It Simple, Stupid) promotes simplicity in code design, making it easier for developers to read and understand the code, which is beneficial for onboarding new team members and maintaining the codebase.']}\n",
            "Optimized Code: {'optimized_code': \"import tensorflow as tf\\nimport numpy as np\\nfrom sklearn.preprocessing import OneHotEncoder\\n\\nclass OptimizedNeuralNetwork:\\n    def __init__(self):\\n        self.model = tf.keras.Sequential([\\n            tf.keras.layers.Dense(64, activation='relu', input_shape=(784,)),  # Added activation function\\n            tf.keras.layers.Dense(32, activation='relu'), \\n            tf.keras.layers.Dense(10, activation='softmax')  # Added activation function for output layer\\n        ])\\n\\n    def compile(self, optimizer='adam', loss='categorical_crossentropy'):  # Defined optimizer and loss function\\n        self.model.compile(optimizer=optimizer, loss=loss, metrics=['accuracy'])\\n\\n    def train(self, X_train, y_train, epochs=10):  # Made epochs a parameter\\n        self.model.fit(X_train, y_train, epochs=epochs)\\n\\n    @staticmethod\\n    def preprocess_data(X, y):  # Added a method to preprocess data\\n        X = X.astype('float32') / 255  # Normalize input data\\n        encoder = OneHotEncoder(sparse=False)\\n        y = encoder.fit_transform(y.reshape(-1, 1))  # One-hot encode labels\\n        return X, y\\n\\n# Example of using the optimized class\\nX_train = np.random.random((100, 784))  # Defined X_train with appropriate shape\\ny_train = np.random.randint(0, 10, size=(100,))  # Defined y_train with appropriate shape\\n\\nnn = OptimizedNeuralNetwork()\\nX_train, y_train = nn.preprocess_data(X_train, y_train)  # Preprocess data\\nnn.compile()  # Compile the model\\nnn.train(X_train, y_train)  # Train the model\"}\n"
          ]
        }
      ]
    },
    {
      "cell_type": "code",
      "source": [
        "result2"
      ],
      "metadata": {
        "colab": {
          "base_uri": "https://localhost:8080/"
        },
        "id": "g9AvXFRabmGI",
        "outputId": "d637ca2a-322e-43f3-d69c-5c33ff2892ae"
      },
      "execution_count": 21,
      "outputs": [
        {
          "output_type": "execute_result",
          "data": {
            "text/plain": [
              "{'code': '\\nimport tensorflow as tf\\nimport numpy as np\\n\\nclass BadNeuralNetwork:\\n    def __init__(self):\\n        self.model = tf.keras.Sequential([\\n            tf.keras.layers.Dense(64, input_shape=(784,)),  \\n            tf.keras.layers.Dense(32), \\n            tf.keras.layers.Dense(10) \\n        ])\\n\\n    def compile(self):\\n        self.model.compile(optimizer=None, loss=None)  \\n\\n    def train(self, X_train, y_train):\\n        self.model.fit(X_train, y_train, epochs=10)  \\n\\ny_train = np.random.random((100, 10))  \\n\\nnn = BadNeuralNetwork()\\n\\nnn.compile()\\n\\nnn.train(X_train, y_train)\\n    ',\n",
              " 'programming_language': 'python',\n",
              " 'is_ai_related': True,\n",
              " 'context': 'This is a bad implementation of a neural network using TensorFlow with multiple issues including missing activation functions, optimizer, loss function, and incorrect data dimensions.',\n",
              " 'code_evaluation': {'works': False,\n",
              "  'errors': ['Missing optimizer in model compilation.',\n",
              "   'Missing loss function in model compilation.',\n",
              "   \"The variable 'X_train' is not defined before use in 'nn.train(X_train, y_train)'.\",\n",
              "   'No activation function is specified for the Dense layers, which is typically necessary for neural networks.',\n",
              "   \"The shape of 'y_train' should match the output shape of the network (10 classes), but it needs to be one-hot encoded or categorical in practice.\"]},\n",
              " 'refactoring_suggestions': {'suggestions': ['Define the optimizer and loss function in the compile method.',\n",
              "   'Add activation functions to the Dense layers to improve network performance.',\n",
              "   \"Ensure 'X_train' is defined with the appropriate shape and type before calling train.\",\n",
              "   \"One-hot encode 'y_train' to match the output of the network.\",\n",
              "   \"Use a proper data preprocessing step to prepare 'X_train' and 'y_train'.\"],\n",
              "  'rationale': ['Specifying an optimizer and loss function is essential for model training, allowing the model to learn effectively.',\n",
              "   'Activation functions introduce non-linearity, which is crucial for the network to learn complex patterns.',\n",
              "   \"'X_train' must be defined for the training process to work; otherwise, it will result in a runtime error.\",\n",
              "   \"One-hot encoding 'y_train' ensures that the labels match the output layer's expected shape, which is necessary for correct training.\",\n",
              "   'Data preprocessing ensures that the input features are properly scaled and shaped, which improves training efficiency and model performance.']},\n",
              " 'design_pattern_research': {'design_pattern_applicable': True,\n",
              "  'pattern_name': 'Procedural Design Pattern',\n",
              "  'resources_found': {'1': 'https://www.oreilly.com/library/view/deep-learning-patterns/9781617298264/OEBPS/Text/05.htm',\n",
              "   '2': 'https://arxiv.org/abs/1611.00847'}},\n",
              " 'quality_attributes_application': {'attributes_applied': ['SOLID principles',\n",
              "   'DRY',\n",
              "   'KISS'],\n",
              "  'improvements_achieved': ['Applying SOLID principles, particularly the Single Responsibility Principle, enhances maintainability by ensuring that each method has a distinct purpose, such as separating the model compilation and training logic.',\n",
              "   \"The DRY (Don't Repeat Yourself) principle helps avoid code duplication by encouraging the reuse of components like the model definition and preprocessing steps, which simplifies future updates and reduces the chance of errors.\",\n",
              "   'KISS (Keep It Simple, Stupid) promotes simplicity in code design, making it easier for developers to read and understand the code, which is beneficial for onboarding new team members and maintaining the codebase.']},\n",
              " 'optimized_code': {'optimized_code': \"import tensorflow as tf\\nimport numpy as np\\nfrom sklearn.preprocessing import OneHotEncoder\\n\\nclass OptimizedNeuralNetwork:\\n    def __init__(self):\\n        self.model = tf.keras.Sequential([\\n            tf.keras.layers.Dense(64, activation='relu', input_shape=(784,)),  # Added activation function\\n            tf.keras.layers.Dense(32, activation='relu'), \\n            tf.keras.layers.Dense(10, activation='softmax')  # Added activation function for output layer\\n        ])\\n\\n    def compile(self, optimizer='adam', loss='categorical_crossentropy'):  # Defined optimizer and loss function\\n        self.model.compile(optimizer=optimizer, loss=loss, metrics=['accuracy'])\\n\\n    def train(self, X_train, y_train, epochs=10):  # Made epochs a parameter\\n        self.model.fit(X_train, y_train, epochs=epochs)\\n\\n    @staticmethod\\n    def preprocess_data(X, y):  # Added a method to preprocess data\\n        X = X.astype('float32') / 255  # Normalize input data\\n        encoder = OneHotEncoder(sparse=False)\\n        y = encoder.fit_transform(y.reshape(-1, 1))  # One-hot encode labels\\n        return X, y\\n\\n# Example of using the optimized class\\nX_train = np.random.random((100, 784))  # Defined X_train with appropriate shape\\ny_train = np.random.randint(0, 10, size=(100,))  # Defined y_train with appropriate shape\\n\\nnn = OptimizedNeuralNetwork()\\nX_train, y_train = nn.preprocess_data(X_train, y_train)  # Preprocess data\\nnn.compile()  # Compile the model\\nnn.train(X_train, y_train)  # Train the model\"}}"
            ]
          },
          "metadata": {},
          "execution_count": 21
        }
      ]
    }
  ]
}