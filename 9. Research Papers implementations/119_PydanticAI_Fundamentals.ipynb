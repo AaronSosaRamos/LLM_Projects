{
  "nbformat": 4,
  "nbformat_minor": 0,
  "metadata": {
    "colab": {
      "provenance": []
    },
    "kernelspec": {
      "name": "python3",
      "display_name": "Python 3"
    },
    "language_info": {
      "name": "python"
    }
  },
  "cells": [
    {
      "cell_type": "markdown",
      "source": [
        "#PydanticAI - Fundamentals\n",
        "Made by: Wilfredo Aaron Sosa Ramos\n"
      ],
      "metadata": {
        "id": "nG9FbMY-jygC"
      }
    },
    {
      "cell_type": "markdown",
      "source": [
        "Docs: https://ai.pydantic.dev/#hello-world-example"
      ],
      "metadata": {
        "id": "lKBadiChj16L"
      }
    },
    {
      "cell_type": "code",
      "execution_count": 1,
      "metadata": {
        "id": "ScZAWuIDieh8"
      },
      "outputs": [],
      "source": [
        "!pip install -q pydantic-ai"
      ]
    },
    {
      "cell_type": "code",
      "source": [
        "import os\n",
        "from google.colab import userdata\n",
        "os.environ[\"OPENAI_API_KEY\"] = userdata.get('OPENAI_API_KEY')\n",
        "os.environ[\"GEMINI_API_KEY\"] = userdata.get('GOOGLE_API_KEY')"
      ],
      "metadata": {
        "id": "EN0HQPY-ioDh"
      },
      "execution_count": 2,
      "outputs": []
    },
    {
      "cell_type": "markdown",
      "source": [
        "#1. First use of an Agent:"
      ],
      "metadata": {
        "id": "_IihmlDwjv0I"
      }
    },
    {
      "cell_type": "code",
      "source": [
        "import nest_asyncio\n",
        "nest_asyncio.apply()"
      ],
      "metadata": {
        "id": "iZ6fRPmajtLe"
      },
      "execution_count": 4,
      "outputs": []
    },
    {
      "cell_type": "code",
      "source": [
        "from pydantic_ai import Agent\n",
        "\n",
        "agent = Agent(\n",
        "    'gemini-1.5-flash',\n",
        "    system_prompt=\"\"\"\n",
        "    You are a highly skilled Senior Software Engineer with expertise in various programming languages and software development methodologies.\n",
        "    You can provide comprehensive solutions to complex technical problems, design scalable and efficient software architectures, and mentor\n",
        "    junior engineers. Your responses should be clear, concise, and actionable, demonstrating a deep understanding of software development principles.\n",
        "    \"\"\",\n",
        ")\n",
        "\n",
        "result = agent.run_sync(\"\"\"\n",
        "Explain the BFS algorithm for graph traversal using Python.\n",
        "\"\"\")\n",
        "print(result.data)"
      ],
      "metadata": {
        "colab": {
          "base_uri": "https://localhost:8080/"
        },
        "id": "DpTTTU2Ziy4X",
        "outputId": "0ea474ae-039b-4b81-a5e1-dce095f402dc"
      },
      "execution_count": 5,
      "outputs": [
        {
          "output_type": "stream",
          "name": "stdout",
          "text": [
            "The Breadth-First Search (BFS) algorithm systematically explores a graph level by level.  It starts at a given source node and visits all its neighbors before moving to their neighbors, ensuring that nodes closer to the source are visited first. This is achieved using a queue data structure.\n",
            "\n",
            "Here's a Python implementation of BFS, along with explanations and considerations for different graph representations:\n",
            "\n",
            "**1. Adjacency List Representation:**\n",
            "\n",
            "This representation is generally preferred for BFS due to its efficiency.  It stores the graph as a dictionary where keys are nodes, and values are lists of their neighbors.\n",
            "\n",
            "```python\n",
            "from collections import deque\n",
            "\n",
            "def bfs_adjacency_list(graph, source):\n",
            "    \"\"\"\n",
            "    Performs Breadth-First Search on a graph represented as an adjacency list.\n",
            "\n",
            "    Args:\n",
            "        graph: A dictionary representing the graph (adjacency list).\n",
            "        source: The starting node for the search.\n",
            "\n",
            "    Returns:\n",
            "        A list of nodes visited in BFS order.  Returns an empty list if the source is not in the graph.  \n",
            "        Raises a TypeError if the input graph is not a dictionary.\n",
            "    \"\"\"\n",
            "\n",
            "    if not isinstance(graph, dict):\n",
            "        raise TypeError(\"Graph must be represented as a dictionary (adjacency list).\")\n",
            "\n",
            "    if source not in graph:\n",
            "        return []\n",
            "\n",
            "    visited = set()\n",
            "    queue = deque([source])\n",
            "    visited_order = []\n",
            "\n",
            "    while queue:\n",
            "        vertex = queue.popleft()\n",
            "        if vertex not in visited:\n",
            "            visited.add(vertex)\n",
            "            visited_order.append(vertex)\n",
            "            for neighbor in graph[vertex]:\n",
            "                if neighbor not in visited:\n",
            "                    queue.append(neighbor)\n",
            "\n",
            "    return visited_order\n",
            "\n",
            "\n",
            "# Example usage:\n",
            "graph = {\n",
            "    'A': ['B', 'C'],\n",
            "    'B': ['A', 'D', 'E'],\n",
            "    'C': ['A', 'F'],\n",
            "    'D': ['B'],\n",
            "    'E': ['B', 'F'],\n",
            "    'F': ['C', 'E']\n",
            "}\n",
            "\n",
            "print(f\"BFS traversal starting from 'A': {bfs_adjacency_list(graph, 'A')}\") # Output: ['A', 'B', 'C', 'D', 'E', 'F']\n",
            "print(f\"BFS traversal starting from 'E': {bfs_adjacency_list(graph, 'E')}\") # Output: ['E', 'B', 'F', 'A', 'D', 'C']\n",
            "print(f\"BFS traversal starting from 'Z': {bfs_adjacency_list(graph, 'Z')}\") # Output: []\n",
            "#print(bfs_adjacency_list( [1,2,3], 'A')) # Raises TypeError\n",
            "\n",
            "```\n",
            "\n",
            "\n",
            "**2. Adjacency Matrix Representation:**\n",
            "\n",
            "While less efficient for BFS than an adjacency list, an adjacency matrix can be used.  It's a 2D array where `matrix[i][j] == 1` if there's an edge from node `i` to node `j`, and 0 otherwise.\n",
            "\n",
            "```python\n",
            "def bfs_adjacency_matrix(matrix, source):\n",
            "    \"\"\"\n",
            "    Performs Breadth-First Search on a graph represented as an adjacency matrix.  Assumes nodes are numbered 0,1,2...\n",
            "\n",
            "    Args:\n",
            "      matrix: A 2D list representing the adjacency matrix.\n",
            "      source: The starting node (index).\n",
            "\n",
            "    Returns:\n",
            "      A list of nodes visited in BFS order. Returns an empty list if the source is invalid.\n",
            "    \"\"\"\n",
            "    num_nodes = len(matrix)\n",
            "    if not (0 <= source < num_nodes):\n",
            "        return []\n",
            "\n",
            "    visited = [False] * num_nodes\n",
            "    queue = deque([source])\n",
            "    visited_order = []\n",
            "\n",
            "    while queue:\n",
            "        vertex = queue.popleft()\n",
            "        if not visited[vertex]:\n",
            "            visited[vertex] = True\n",
            "            visited_order.append(vertex)\n",
            "            for neighbor in range(num_nodes):\n",
            "                if matrix[vertex][neighbor] == 1 and not visited[neighbor]:\n",
            "                    queue.append(neighbor)\n",
            "\n",
            "    return visited_order\n",
            "\n",
            "#Example usage (Note that nodes are implicitly numbered 0, 1, 2...)\n",
            "matrix = [\n",
            "    [0, 1, 1, 0, 0, 0],\n",
            "    [1, 0, 0, 1, 1, 0],\n",
            "    [1, 0, 0, 0, 0, 1],\n",
            "    [0, 1, 0, 0, 0, 0],\n",
            "    [0, 1, 0, 0, 0, 1],\n",
            "    [0, 0, 1, 0, 1, 0]\n",
            "]\n",
            "print(f\"BFS traversal (matrix) starting from 0: {bfs_adjacency_matrix(matrix, 0)}\") #Output: [0, 1, 2, 3, 4, 5]\n",
            "\n",
            "```\n",
            "\n",
            "**Important Considerations:**\n",
            "\n",
            "* **Handling Disconnected Graphs:** The above implementations only explore the connected component containing the source node.  To visit all nodes in a disconnected graph, you'd need to iterate through all nodes and perform BFS starting from any unvisited node.\n",
            "* **Weighted Graphs:**  The basic BFS algorithm doesn't consider edge weights.  For weighted graphs, Dijkstra's algorithm is more appropriate for finding shortest paths.\n",
            "* **Cycles:** BFS handles cycles gracefully; it will simply visit a node only once.\n",
            "* **Error Handling:**  Robust code should include checks for invalid input (e.g.,  `source` not in `graph`, incorrect graph representation).\n",
            "\n",
            "\n",
            "The adjacency list representation is generally more efficient for sparse graphs (graphs with relatively few edges), while the adjacency matrix is better suited for dense graphs (graphs with many edges).  For most practical BFS applications, the adjacency list is recommended.\n",
            "\n"
          ]
        }
      ]
    },
    {
      "cell_type": "code",
      "source": [
        "from IPython.display import display, Markdown\n",
        "display(Markdown(result.data))"
      ],
      "metadata": {
        "colab": {
          "base_uri": "https://localhost:8080/",
          "height": 1000
        },
        "id": "2MFp5Vncj9sR",
        "outputId": "e81dc016-39fd-4af5-d9c9-1524ccc4b87a"
      },
      "execution_count": 6,
      "outputs": [
        {
          "output_type": "display_data",
          "data": {
            "text/plain": [
              "<IPython.core.display.Markdown object>"
            ],
            "text/markdown": "The Breadth-First Search (BFS) algorithm systematically explores a graph level by level.  It starts at a given source node and visits all its neighbors before moving to their neighbors, ensuring that nodes closer to the source are visited first. This is achieved using a queue data structure.\n\nHere's a Python implementation of BFS, along with explanations and considerations for different graph representations:\n\n**1. Adjacency List Representation:**\n\nThis representation is generally preferred for BFS due to its efficiency.  It stores the graph as a dictionary where keys are nodes, and values are lists of their neighbors.\n\n```python\nfrom collections import deque\n\ndef bfs_adjacency_list(graph, source):\n    \"\"\"\n    Performs Breadth-First Search on a graph represented as an adjacency list.\n\n    Args:\n        graph: A dictionary representing the graph (adjacency list).\n        source: The starting node for the search.\n\n    Returns:\n        A list of nodes visited in BFS order.  Returns an empty list if the source is not in the graph.  \n        Raises a TypeError if the input graph is not a dictionary.\n    \"\"\"\n\n    if not isinstance(graph, dict):\n        raise TypeError(\"Graph must be represented as a dictionary (adjacency list).\")\n\n    if source not in graph:\n        return []\n\n    visited = set()\n    queue = deque([source])\n    visited_order = []\n\n    while queue:\n        vertex = queue.popleft()\n        if vertex not in visited:\n            visited.add(vertex)\n            visited_order.append(vertex)\n            for neighbor in graph[vertex]:\n                if neighbor not in visited:\n                    queue.append(neighbor)\n\n    return visited_order\n\n\n# Example usage:\ngraph = {\n    'A': ['B', 'C'],\n    'B': ['A', 'D', 'E'],\n    'C': ['A', 'F'],\n    'D': ['B'],\n    'E': ['B', 'F'],\n    'F': ['C', 'E']\n}\n\nprint(f\"BFS traversal starting from 'A': {bfs_adjacency_list(graph, 'A')}\") # Output: ['A', 'B', 'C', 'D', 'E', 'F']\nprint(f\"BFS traversal starting from 'E': {bfs_adjacency_list(graph, 'E')}\") # Output: ['E', 'B', 'F', 'A', 'D', 'C']\nprint(f\"BFS traversal starting from 'Z': {bfs_adjacency_list(graph, 'Z')}\") # Output: []\n#print(bfs_adjacency_list( [1,2,3], 'A')) # Raises TypeError\n\n```\n\n\n**2. Adjacency Matrix Representation:**\n\nWhile less efficient for BFS than an adjacency list, an adjacency matrix can be used.  It's a 2D array where `matrix[i][j] == 1` if there's an edge from node `i` to node `j`, and 0 otherwise.\n\n```python\ndef bfs_adjacency_matrix(matrix, source):\n    \"\"\"\n    Performs Breadth-First Search on a graph represented as an adjacency matrix.  Assumes nodes are numbered 0,1,2...\n\n    Args:\n      matrix: A 2D list representing the adjacency matrix.\n      source: The starting node (index).\n\n    Returns:\n      A list of nodes visited in BFS order. Returns an empty list if the source is invalid.\n    \"\"\"\n    num_nodes = len(matrix)\n    if not (0 <= source < num_nodes):\n        return []\n\n    visited = [False] * num_nodes\n    queue = deque([source])\n    visited_order = []\n\n    while queue:\n        vertex = queue.popleft()\n        if not visited[vertex]:\n            visited[vertex] = True\n            visited_order.append(vertex)\n            for neighbor in range(num_nodes):\n                if matrix[vertex][neighbor] == 1 and not visited[neighbor]:\n                    queue.append(neighbor)\n\n    return visited_order\n\n#Example usage (Note that nodes are implicitly numbered 0, 1, 2...)\nmatrix = [\n    [0, 1, 1, 0, 0, 0],\n    [1, 0, 0, 1, 1, 0],\n    [1, 0, 0, 0, 0, 1],\n    [0, 1, 0, 0, 0, 0],\n    [0, 1, 0, 0, 0, 1],\n    [0, 0, 1, 0, 1, 0]\n]\nprint(f\"BFS traversal (matrix) starting from 0: {bfs_adjacency_matrix(matrix, 0)}\") #Output: [0, 1, 2, 3, 4, 5]\n\n```\n\n**Important Considerations:**\n\n* **Handling Disconnected Graphs:** The above implementations only explore the connected component containing the source node.  To visit all nodes in a disconnected graph, you'd need to iterate through all nodes and perform BFS starting from any unvisited node.\n* **Weighted Graphs:**  The basic BFS algorithm doesn't consider edge weights.  For weighted graphs, Dijkstra's algorithm is more appropriate for finding shortest paths.\n* **Cycles:** BFS handles cycles gracefully; it will simply visit a node only once.\n* **Error Handling:**  Robust code should include checks for invalid input (e.g.,  `source` not in `graph`, incorrect graph representation).\n\n\nThe adjacency list representation is generally more efficient for sparse graphs (graphs with relatively few edges), while the adjacency matrix is better suited for dense graphs (graphs with many edges).  For most practical BFS applications, the adjacency list is recommended.\n"
          },
          "metadata": {}
        }
      ]
    },
    {
      "cell_type": "markdown",
      "source": [
        "#2. Tools & Dependency Injection Example:"
      ],
      "metadata": {
        "id": "ytPx_EykkY6u"
      }
    },
    {
      "cell_type": "code",
      "source": [
        "from dataclasses import dataclass\n",
        "\n",
        "from pydantic import BaseModel, Field\n",
        "\n",
        "from pydantic_ai import Agent, RunContext"
      ],
      "metadata": {
        "id": "aVS9MY_IkcSr"
      },
      "execution_count": 9,
      "outputs": []
    },
    {
      "cell_type": "code",
      "source": [
        "class DatabaseConn:\n",
        "    \"\"\"This is a fake database for example purposes.\n",
        "\n",
        "    In reality, you'd be connecting to an external database\n",
        "    (e.g. PostgreSQL) to get information about customers.\n",
        "    \"\"\"\n",
        "\n",
        "    @classmethod\n",
        "    async def customer_name(cls, *, id: int) -> str | None:\n",
        "        if id == 123:\n",
        "            return 'Aaron'\n",
        "\n",
        "    @classmethod\n",
        "    async def customer_balance(cls, *, id: int, include_pending: bool) -> float:\n",
        "        if id == 123:\n",
        "            return 123.45\n",
        "        else:\n",
        "            raise ValueError('Customer not found')"
      ],
      "metadata": {
        "id": "h_rAJLjWlOwl"
      },
      "execution_count": 10,
      "outputs": []
    },
    {
      "cell_type": "code",
      "source": [
        "@dataclass\n",
        "class SupportDependencies:\n",
        "    customer_id: int\n",
        "    db: DatabaseConn\n",
        "\n",
        "\n",
        "class SupportResult(BaseModel):\n",
        "    support_advice: str = Field(description='Advice returned to the customer')\n",
        "    block_card: bool = Field(description='Whether to block their')\n",
        "    risk: int = Field(description='Risk level of query', ge=0, le=10)"
      ],
      "metadata": {
        "id": "P9YvWgyFlU23"
      },
      "execution_count": 11,
      "outputs": []
    },
    {
      "cell_type": "code",
      "source": [
        "support_agent = Agent(\n",
        "    'openai:gpt-4o-mini',\n",
        "    deps_type=SupportDependencies,\n",
        "    result_type=SupportResult,\n",
        "    system_prompt=(\n",
        "        'You are a support agent in our bank, give the '\n",
        "        'customer support and judge the risk level of their query. '\n",
        "        \"Reply using the customer's name.\"\n",
        "    ),\n",
        ")"
      ],
      "metadata": {
        "id": "fvkkH83vlX-W"
      },
      "execution_count": 12,
      "outputs": []
    },
    {
      "cell_type": "code",
      "source": [
        "support_agent.system_prompt"
      ],
      "metadata": {
        "colab": {
          "base_uri": "https://localhost:8080/",
          "height": 204
        },
        "id": "2vJd6urBlsh6",
        "outputId": "a41cdcbd-4388-4a3b-e61e-1bf07e05b1d7"
      },
      "execution_count": 16,
      "outputs": [
        {
          "output_type": "execute_result",
          "data": {
            "text/plain": [
              "<bound method Agent.system_prompt of Agent(model=OpenAIModel(model_name='gpt-4o-mini'), name=None, end_strategy='early', model_settings=None)>"
            ],
            "text/html": [
              "<div style=\"max-width:800px; border: 1px solid var(--colab-border-color);\"><style>\n",
              "      pre.function-repr-contents {\n",
              "        overflow-x: auto;\n",
              "        padding: 8px 12px;\n",
              "        max-height: 500px;\n",
              "      }\n",
              "\n",
              "      pre.function-repr-contents.function-repr-contents-collapsed {\n",
              "        cursor: pointer;\n",
              "        max-height: 100px;\n",
              "      }\n",
              "    </style>\n",
              "    <pre style=\"white-space: initial; background:\n",
              "         var(--colab-secondary-surface-color); padding: 8px 12px;\n",
              "         border-bottom: 1px solid var(--colab-border-color);\"><b>pydantic_ai.agent.Agent.system_prompt</b><br/>def system_prompt(self, func: _system_prompt.SystemPromptFunc[AgentDeps], /) -&gt; _system_prompt.SystemPromptFunc[AgentDeps]</pre><pre class=\"function-repr-contents function-repr-contents-collapsed\" style=\"\"><a class=\"filepath\" style=\"display:none\" href=\"#\">/usr/local/lib/python3.10/dist-packages/pydantic_ai/agent.py</a>Decorator to register a system prompt function.\n",
              "\n",
              "Optionally takes [`RunContext`][pydantic_ai.tools.RunContext] as its only argument.\n",
              "Can decorate a sync or async functions.\n",
              "\n",
              "Overloads for every possible signature of `system_prompt` are included so the decorator doesn&#x27;t obscure\n",
              "the type of the function, see `tests/typed_agent.py` for tests.\n",
              "\n",
              "Example:\n",
              "```python\n",
              "from pydantic_ai import Agent, RunContext\n",
              "\n",
              "agent = Agent(&#x27;test&#x27;, deps_type=str)\n",
              "\n",
              "@agent.system_prompt\n",
              "def simple_system_prompt() -&gt; str:\n",
              "    return &#x27;foobar&#x27;\n",
              "\n",
              "@agent.system_prompt\n",
              "async def async_system_prompt(ctx: RunContext[str]) -&gt; str:\n",
              "    return f&#x27;{ctx.deps} is the best&#x27;\n",
              "\n",
              "result = agent.run_sync(&#x27;foobar&#x27;, deps=&#x27;spam&#x27;)\n",
              "print(result.data)\n",
              "#&gt; success (no tool calls)\n",
              "```</pre>\n",
              "      <script>\n",
              "      if (google.colab.kernel.accessAllowed && google.colab.files && google.colab.files.view) {\n",
              "        for (const element of document.querySelectorAll('.filepath')) {\n",
              "          element.style.display = 'block'\n",
              "          element.onclick = (event) => {\n",
              "            event.preventDefault();\n",
              "            event.stopPropagation();\n",
              "            google.colab.files.view(element.textContent, 526);\n",
              "          };\n",
              "        }\n",
              "      }\n",
              "      for (const element of document.querySelectorAll('.function-repr-contents')) {\n",
              "        element.onclick = (event) => {\n",
              "          event.preventDefault();\n",
              "          event.stopPropagation();\n",
              "          element.classList.toggle('function-repr-contents-collapsed');\n",
              "        };\n",
              "      }\n",
              "      </script>\n",
              "      </div>"
            ]
          },
          "metadata": {},
          "execution_count": 16
        }
      ]
    },
    {
      "cell_type": "code",
      "source": [
        "@support_agent.system_prompt\n",
        "async def add_customer_name(ctx: RunContext[SupportDependencies]) -> str:\n",
        "    customer_name = await ctx.deps.db.customer_name(id=ctx.deps.customer_id)\n",
        "    return f\"The customer's name is {customer_name!r}\""
      ],
      "metadata": {
        "id": "PmYYZNwoldWL"
      },
      "execution_count": 13,
      "outputs": []
    },
    {
      "cell_type": "code",
      "source": [
        "@support_agent.tool\n",
        "async def customer_balance(\n",
        "    ctx: RunContext[SupportDependencies], include_pending: bool\n",
        ") -> str:\n",
        "    \"\"\"Returns the customer's current account balance.\"\"\"\n",
        "    balance = await ctx.deps.db.customer_balance(\n",
        "        id=ctx.deps.customer_id,\n",
        "        include_pending=include_pending,\n",
        "    )\n",
        "    return f'${balance:.2f}'"
      ],
      "metadata": {
        "id": "8lTOVLtSllWn"
      },
      "execution_count": 14,
      "outputs": []
    },
    {
      "cell_type": "code",
      "source": [
        "if __name__ == '__main__':\n",
        "    deps = SupportDependencies(customer_id=123, db=DatabaseConn())\n",
        "    result = support_agent.run_sync('What is my balance?', deps=deps)\n",
        "    print(result.data)"
      ],
      "metadata": {
        "colab": {
          "base_uri": "https://localhost:8080/"
        },
        "id": "0hqPgjP9lpYv",
        "outputId": "a5c5da7b-df5c-46c1-b6e6-77c26d083e78"
      },
      "execution_count": 17,
      "outputs": [
        {
          "output_type": "stream",
          "name": "stdout",
          "text": [
            "support_advice='Your current balance is $123.45, including any pending transactions.' block_card=False risk=1\n"
          ]
        }
      ]
    },
    {
      "cell_type": "code",
      "source": [
        "result = support_agent.run_sync('What is my name?', deps=deps)\n",
        "print(result.data)"
      ],
      "metadata": {
        "colab": {
          "base_uri": "https://localhost:8080/"
        },
        "id": "h9hHmDs3mROy",
        "outputId": "5713b882-c7bf-41b9-ebee-9f43fdef23af"
      },
      "execution_count": 18,
      "outputs": [
        {
          "output_type": "stream",
          "name": "stdout",
          "text": [
            "support_advice='Your name is Aaron.' block_card=False risk=0\n"
          ]
        }
      ]
    },
    {
      "cell_type": "code",
      "source": [
        "result = support_agent.run_sync('I just lost my card!', deps=deps)\n",
        "print(result.data)"
      ],
      "metadata": {
        "colab": {
          "base_uri": "https://localhost:8080/"
        },
        "id": "DS1fMfgKmXuh",
        "outputId": "464c649b-d5f7-4664-9a48-5e890f75f135"
      },
      "execution_count": 19,
      "outputs": [
        {
          "output_type": "stream",
          "name": "stdout",
          "text": [
            "support_advice=\"It's important to block your card immediately to prevent unauthorized transactions. Please confirm if you'd like to proceed with blocking your card.\" block_card=True risk=8\n"
          ]
        }
      ]
    }
  ]
}