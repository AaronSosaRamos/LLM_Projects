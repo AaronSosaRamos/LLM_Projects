{
  "nbformat": 4,
  "nbformat_minor": 0,
  "metadata": {
    "colab": {
      "provenance": []
    },
    "kernelspec": {
      "name": "python3",
      "display_name": "Python 3"
    },
    "language_info": {
      "name": "python"
    }
  },
  "cells": [
    {
      "cell_type": "markdown",
      "source": [
        "#LightRAG: Simple and Fast Retrieval-Augmented Generation"
      ],
      "metadata": {
        "id": "vogAYTw0Ug_K"
      }
    },
    {
      "cell_type": "markdown",
      "source": [
        "Reference: https://arxiv.org/abs/2410.05779"
      ],
      "metadata": {
        "id": "H8dSWU7UUjiP"
      }
    },
    {
      "cell_type": "code",
      "execution_count": 1,
      "metadata": {
        "colab": {
          "base_uri": "https://localhost:8080/"
        },
        "id": "NZixCmZiUe_6",
        "outputId": "209a305e-5376-48f6-f8ad-138b3eacfa98"
      },
      "outputs": [
        {
          "output_type": "stream",
          "name": "stdout",
          "text": [
            "Collecting lightrag-hku\n",
            "  Downloading lightrag_hku-0.0.6-py3-none-any.whl.metadata (20 kB)\n",
            "Collecting openai (from lightrag-hku)\n",
            "  Downloading openai-1.51.2-py3-none-any.whl.metadata (24 kB)\n",
            "Collecting tiktoken (from lightrag-hku)\n",
            "  Downloading tiktoken-0.8.0-cp310-cp310-manylinux_2_17_x86_64.manylinux2014_x86_64.whl.metadata (6.6 kB)\n",
            "Requirement already satisfied: networkx in /usr/local/lib/python3.10/dist-packages (from lightrag-hku) (3.4)\n",
            "Collecting graspologic (from lightrag-hku)\n",
            "  Downloading graspologic-3.4.1-py3-none-any.whl.metadata (5.8 kB)\n",
            "Collecting nano-vectordb (from lightrag-hku)\n",
            "  Downloading nano_vectordb-0.0.4-py3-none-any.whl.metadata (2.6 kB)\n",
            "Collecting hnswlib (from lightrag-hku)\n",
            "  Downloading hnswlib-0.8.0.tar.gz (36 kB)\n",
            "  Installing build dependencies ... \u001b[?25l\u001b[?25hdone\n",
            "  Getting requirements to build wheel ... \u001b[?25l\u001b[?25hdone\n",
            "  Preparing metadata (pyproject.toml) ... \u001b[?25l\u001b[?25hdone\n",
            "Collecting xxhash (from lightrag-hku)\n",
            "  Downloading xxhash-3.5.0-cp310-cp310-manylinux_2_17_x86_64.manylinux2014_x86_64.whl.metadata (12 kB)\n",
            "Requirement already satisfied: tenacity in /usr/local/lib/python3.10/dist-packages (from lightrag-hku) (9.0.0)\n",
            "Requirement already satisfied: transformers in /usr/local/lib/python3.10/dist-packages (from lightrag-hku) (4.44.2)\n",
            "Requirement already satisfied: torch in /usr/local/lib/python3.10/dist-packages (from lightrag-hku) (2.4.1+cu121)\n",
            "Collecting ollama (from lightrag-hku)\n",
            "  Downloading ollama-0.3.3-py3-none-any.whl.metadata (3.8 kB)\n",
            "Requirement already satisfied: accelerate in /usr/local/lib/python3.10/dist-packages (from lightrag-hku) (0.34.2)\n",
            "Requirement already satisfied: numpy<3.0.0,>=1.17 in /usr/local/lib/python3.10/dist-packages (from accelerate->lightrag-hku) (1.26.4)\n",
            "Requirement already satisfied: packaging>=20.0 in /usr/local/lib/python3.10/dist-packages (from accelerate->lightrag-hku) (24.1)\n",
            "Requirement already satisfied: psutil in /usr/local/lib/python3.10/dist-packages (from accelerate->lightrag-hku) (5.9.5)\n",
            "Requirement already satisfied: pyyaml in /usr/local/lib/python3.10/dist-packages (from accelerate->lightrag-hku) (6.0.2)\n",
            "Requirement already satisfied: huggingface-hub>=0.21.0 in /usr/local/lib/python3.10/dist-packages (from accelerate->lightrag-hku) (0.24.7)\n",
            "Requirement already satisfied: safetensors>=0.4.3 in /usr/local/lib/python3.10/dist-packages (from accelerate->lightrag-hku) (0.4.5)\n",
            "Requirement already satisfied: filelock in /usr/local/lib/python3.10/dist-packages (from torch->lightrag-hku) (3.16.1)\n",
            "Requirement already satisfied: typing-extensions>=4.8.0 in /usr/local/lib/python3.10/dist-packages (from torch->lightrag-hku) (4.12.2)\n",
            "Requirement already satisfied: sympy in /usr/local/lib/python3.10/dist-packages (from torch->lightrag-hku) (1.13.3)\n",
            "Requirement already satisfied: jinja2 in /usr/local/lib/python3.10/dist-packages (from torch->lightrag-hku) (3.1.4)\n",
            "Requirement already satisfied: fsspec in /usr/local/lib/python3.10/dist-packages (from torch->lightrag-hku) (2024.6.1)\n",
            "Collecting POT<0.10,>=0.9 (from graspologic->lightrag-hku)\n",
            "  Downloading POT-0.9.4-cp310-cp310-manylinux_2_17_x86_64.manylinux2014_x86_64.whl.metadata (32 kB)\n",
            "Collecting anytree<3.0.0,>=2.12.1 (from graspologic->lightrag-hku)\n",
            "  Downloading anytree-2.12.1-py3-none-any.whl.metadata (8.1 kB)\n",
            "Collecting beartype<0.19.0,>=0.18.5 (from graspologic->lightrag-hku)\n",
            "  Downloading beartype-0.18.5-py3-none-any.whl.metadata (30 kB)\n",
            "Requirement already satisfied: gensim<5.0.0,>=4.3.2 in /usr/local/lib/python3.10/dist-packages (from graspologic->lightrag-hku) (4.3.3)\n",
            "Collecting graspologic-native<2.0.0,>=1.2.1 (from graspologic->lightrag-hku)\n",
            "  Downloading graspologic_native-1.2.1-cp36-abi3-manylinux_2_17_x86_64.manylinux2014_x86_64.whl.metadata (1.9 kB)\n",
            "Collecting hyppo<0.5.0,>=0.4.0 (from graspologic->lightrag-hku)\n",
            "  Downloading hyppo-0.4.0-py3-none-any.whl.metadata (1.7 kB)\n",
            "Requirement already satisfied: joblib<2.0.0,>=1.4.2 in /usr/local/lib/python3.10/dist-packages (from graspologic->lightrag-hku) (1.4.2)\n",
            "Collecting matplotlib<4.0.0,>=3.8.4 (from graspologic->lightrag-hku)\n",
            "  Downloading matplotlib-3.9.2-cp310-cp310-manylinux_2_17_x86_64.manylinux2014_x86_64.whl.metadata (11 kB)\n",
            "Requirement already satisfied: scikit-learn<2.0.0,>=1.4.2 in /usr/local/lib/python3.10/dist-packages (from graspologic->lightrag-hku) (1.5.2)\n",
            "Collecting scipy==1.12.0 (from graspologic->lightrag-hku)\n",
            "  Downloading scipy-1.12.0-cp310-cp310-manylinux_2_17_x86_64.manylinux2014_x86_64.whl.metadata (60 kB)\n",
            "\u001b[2K     \u001b[90m━━━━━━━━━━━━━━━━━━━━━━━━━━━━━━━━━━━━━━━━\u001b[0m \u001b[32m60.4/60.4 kB\u001b[0m \u001b[31m3.9 MB/s\u001b[0m eta \u001b[36m0:00:00\u001b[0m\n",
            "\u001b[?25hRequirement already satisfied: seaborn<0.14.0,>=0.13.2 in /usr/local/lib/python3.10/dist-packages (from graspologic->lightrag-hku) (0.13.2)\n",
            "Requirement already satisfied: statsmodels<0.15.0,>=0.14.2 in /usr/local/lib/python3.10/dist-packages (from graspologic->lightrag-hku) (0.14.4)\n",
            "Collecting umap-learn<0.6.0,>=0.5.6 (from graspologic->lightrag-hku)\n",
            "  Downloading umap_learn-0.5.6-py3-none-any.whl.metadata (21 kB)\n",
            "Collecting httpx<0.28.0,>=0.27.0 (from ollama->lightrag-hku)\n",
            "  Downloading httpx-0.27.2-py3-none-any.whl.metadata (7.1 kB)\n",
            "Requirement already satisfied: anyio<5,>=3.5.0 in /usr/local/lib/python3.10/dist-packages (from openai->lightrag-hku) (3.7.1)\n",
            "Requirement already satisfied: distro<2,>=1.7.0 in /usr/lib/python3/dist-packages (from openai->lightrag-hku) (1.7.0)\n",
            "Collecting jiter<1,>=0.4.0 (from openai->lightrag-hku)\n",
            "  Downloading jiter-0.6.1-cp310-cp310-manylinux_2_17_x86_64.manylinux2014_x86_64.whl.metadata (5.2 kB)\n",
            "Requirement already satisfied: pydantic<3,>=1.9.0 in /usr/local/lib/python3.10/dist-packages (from openai->lightrag-hku) (2.9.2)\n",
            "Requirement already satisfied: sniffio in /usr/local/lib/python3.10/dist-packages (from openai->lightrag-hku) (1.3.1)\n",
            "Requirement already satisfied: tqdm>4 in /usr/local/lib/python3.10/dist-packages (from openai->lightrag-hku) (4.66.5)\n",
            "Requirement already satisfied: regex>=2022.1.18 in /usr/local/lib/python3.10/dist-packages (from tiktoken->lightrag-hku) (2024.9.11)\n",
            "Requirement already satisfied: requests>=2.26.0 in /usr/local/lib/python3.10/dist-packages (from tiktoken->lightrag-hku) (2.32.3)\n",
            "Requirement already satisfied: tokenizers<0.20,>=0.19 in /usr/local/lib/python3.10/dist-packages (from transformers->lightrag-hku) (0.19.1)\n",
            "Requirement already satisfied: idna>=2.8 in /usr/local/lib/python3.10/dist-packages (from anyio<5,>=3.5.0->openai->lightrag-hku) (3.10)\n",
            "Requirement already satisfied: exceptiongroup in /usr/local/lib/python3.10/dist-packages (from anyio<5,>=3.5.0->openai->lightrag-hku) (1.2.2)\n",
            "Requirement already satisfied: six in /usr/local/lib/python3.10/dist-packages (from anytree<3.0.0,>=2.12.1->graspologic->lightrag-hku) (1.16.0)\n",
            "Requirement already satisfied: smart-open>=1.8.1 in /usr/local/lib/python3.10/dist-packages (from gensim<5.0.0,>=4.3.2->graspologic->lightrag-hku) (7.0.5)\n",
            "Requirement already satisfied: certifi in /usr/local/lib/python3.10/dist-packages (from httpx<0.28.0,>=0.27.0->ollama->lightrag-hku) (2024.8.30)\n",
            "Collecting httpcore==1.* (from httpx<0.28.0,>=0.27.0->ollama->lightrag-hku)\n",
            "  Downloading httpcore-1.0.6-py3-none-any.whl.metadata (21 kB)\n",
            "Collecting h11<0.15,>=0.13 (from httpcore==1.*->httpx<0.28.0,>=0.27.0->ollama->lightrag-hku)\n",
            "  Downloading h11-0.14.0-py3-none-any.whl.metadata (8.2 kB)\n",
            "Requirement already satisfied: numba>=0.46 in /usr/local/lib/python3.10/dist-packages (from hyppo<0.5.0,>=0.4.0->graspologic->lightrag-hku) (0.60.0)\n",
            "Requirement already satisfied: autograd>=1.3 in /usr/local/lib/python3.10/dist-packages (from hyppo<0.5.0,>=0.4.0->graspologic->lightrag-hku) (1.7.0)\n",
            "Requirement already satisfied: contourpy>=1.0.1 in /usr/local/lib/python3.10/dist-packages (from matplotlib<4.0.0,>=3.8.4->graspologic->lightrag-hku) (1.3.0)\n",
            "Requirement already satisfied: cycler>=0.10 in /usr/local/lib/python3.10/dist-packages (from matplotlib<4.0.0,>=3.8.4->graspologic->lightrag-hku) (0.12.1)\n",
            "Requirement already satisfied: fonttools>=4.22.0 in /usr/local/lib/python3.10/dist-packages (from matplotlib<4.0.0,>=3.8.4->graspologic->lightrag-hku) (4.54.1)\n",
            "Requirement already satisfied: kiwisolver>=1.3.1 in /usr/local/lib/python3.10/dist-packages (from matplotlib<4.0.0,>=3.8.4->graspologic->lightrag-hku) (1.4.7)\n",
            "Requirement already satisfied: pillow>=8 in /usr/local/lib/python3.10/dist-packages (from matplotlib<4.0.0,>=3.8.4->graspologic->lightrag-hku) (10.4.0)\n",
            "Requirement already satisfied: pyparsing>=2.3.1 in /usr/local/lib/python3.10/dist-packages (from matplotlib<4.0.0,>=3.8.4->graspologic->lightrag-hku) (3.1.4)\n",
            "Requirement already satisfied: python-dateutil>=2.7 in /usr/local/lib/python3.10/dist-packages (from matplotlib<4.0.0,>=3.8.4->graspologic->lightrag-hku) (2.8.2)\n",
            "Requirement already satisfied: annotated-types>=0.6.0 in /usr/local/lib/python3.10/dist-packages (from pydantic<3,>=1.9.0->openai->lightrag-hku) (0.7.0)\n",
            "Requirement already satisfied: pydantic-core==2.23.4 in /usr/local/lib/python3.10/dist-packages (from pydantic<3,>=1.9.0->openai->lightrag-hku) (2.23.4)\n",
            "Requirement already satisfied: charset-normalizer<4,>=2 in /usr/local/lib/python3.10/dist-packages (from requests>=2.26.0->tiktoken->lightrag-hku) (3.4.0)\n",
            "Requirement already satisfied: urllib3<3,>=1.21.1 in /usr/local/lib/python3.10/dist-packages (from requests>=2.26.0->tiktoken->lightrag-hku) (2.2.3)\n",
            "Requirement already satisfied: threadpoolctl>=3.1.0 in /usr/local/lib/python3.10/dist-packages (from scikit-learn<2.0.0,>=1.4.2->graspologic->lightrag-hku) (3.5.0)\n",
            "Requirement already satisfied: pandas>=1.2 in /usr/local/lib/python3.10/dist-packages (from seaborn<0.14.0,>=0.13.2->graspologic->lightrag-hku) (2.2.2)\n",
            "Requirement already satisfied: patsy>=0.5.6 in /usr/local/lib/python3.10/dist-packages (from statsmodels<0.15.0,>=0.14.2->graspologic->lightrag-hku) (0.5.6)\n",
            "Collecting pynndescent>=0.5 (from umap-learn<0.6.0,>=0.5.6->graspologic->lightrag-hku)\n",
            "  Downloading pynndescent-0.5.13-py3-none-any.whl.metadata (6.8 kB)\n",
            "Requirement already satisfied: MarkupSafe>=2.0 in /usr/local/lib/python3.10/dist-packages (from jinja2->torch->lightrag-hku) (3.0.1)\n",
            "Requirement already satisfied: mpmath<1.4,>=1.1.0 in /usr/local/lib/python3.10/dist-packages (from sympy->torch->lightrag-hku) (1.3.0)\n",
            "Requirement already satisfied: llvmlite<0.44,>=0.43.0dev0 in /usr/local/lib/python3.10/dist-packages (from numba>=0.46->hyppo<0.5.0,>=0.4.0->graspologic->lightrag-hku) (0.43.0)\n",
            "Requirement already satisfied: pytz>=2020.1 in /usr/local/lib/python3.10/dist-packages (from pandas>=1.2->seaborn<0.14.0,>=0.13.2->graspologic->lightrag-hku) (2024.2)\n",
            "Requirement already satisfied: tzdata>=2022.7 in /usr/local/lib/python3.10/dist-packages (from pandas>=1.2->seaborn<0.14.0,>=0.13.2->graspologic->lightrag-hku) (2024.2)\n",
            "Requirement already satisfied: wrapt in /usr/local/lib/python3.10/dist-packages (from smart-open>=1.8.1->gensim<5.0.0,>=4.3.2->graspologic->lightrag-hku) (1.16.0)\n",
            "Downloading lightrag_hku-0.0.6-py3-none-any.whl (30 kB)\n",
            "Downloading graspologic-3.4.1-py3-none-any.whl (5.2 MB)\n",
            "\u001b[2K   \u001b[90m━━━━━━━━━━━━━━━━━━━━━━━━━━━━━━━━━━━━━━━━\u001b[0m \u001b[32m5.2/5.2 MB\u001b[0m \u001b[31m47.7 MB/s\u001b[0m eta \u001b[36m0:00:00\u001b[0m\n",
            "\u001b[?25hDownloading scipy-1.12.0-cp310-cp310-manylinux_2_17_x86_64.manylinux2014_x86_64.whl (38.4 MB)\n",
            "\u001b[2K   \u001b[90m━━━━━━━━━━━━━━━━━━━━━━━━━━━━━━━━━━━━━━━━\u001b[0m \u001b[32m38.4/38.4 MB\u001b[0m \u001b[31m20.0 MB/s\u001b[0m eta \u001b[36m0:00:00\u001b[0m\n",
            "\u001b[?25hDownloading nano_vectordb-0.0.4-py3-none-any.whl (4.5 kB)\n",
            "Downloading ollama-0.3.3-py3-none-any.whl (10 kB)\n",
            "Downloading openai-1.51.2-py3-none-any.whl (383 kB)\n",
            "\u001b[2K   \u001b[90m━━━━━━━━━━━━━━━━━━━━━━━━━━━━━━━━━━━━━━━━\u001b[0m \u001b[32m383.7/383.7 kB\u001b[0m \u001b[31m26.1 MB/s\u001b[0m eta \u001b[36m0:00:00\u001b[0m\n",
            "\u001b[?25hDownloading tiktoken-0.8.0-cp310-cp310-manylinux_2_17_x86_64.manylinux2014_x86_64.whl (1.2 MB)\n",
            "\u001b[2K   \u001b[90m━━━━━━━━━━━━━━━━━━━━━━━━━━━━━━━━━━━━━━━━\u001b[0m \u001b[32m1.2/1.2 MB\u001b[0m \u001b[31m53.0 MB/s\u001b[0m eta \u001b[36m0:00:00\u001b[0m\n",
            "\u001b[?25hDownloading xxhash-3.5.0-cp310-cp310-manylinux_2_17_x86_64.manylinux2014_x86_64.whl (194 kB)\n",
            "\u001b[2K   \u001b[90m━━━━━━━━━━━━━━━━━━━━━━━━━━━━━━━━━━━━━━━━\u001b[0m \u001b[32m194.1/194.1 kB\u001b[0m \u001b[31m16.4 MB/s\u001b[0m eta \u001b[36m0:00:00\u001b[0m\n",
            "\u001b[?25hDownloading anytree-2.12.1-py3-none-any.whl (44 kB)\n",
            "\u001b[2K   \u001b[90m━━━━━━━━━━━━━━━━━━━━━━━━━━━━━━━━━━━━━━━━\u001b[0m \u001b[32m44.9/44.9 kB\u001b[0m \u001b[31m3.4 MB/s\u001b[0m eta \u001b[36m0:00:00\u001b[0m\n",
            "\u001b[?25hDownloading beartype-0.18.5-py3-none-any.whl (917 kB)\n",
            "\u001b[2K   \u001b[90m━━━━━━━━━━━━━━━━━━━━━━━━━━━━━━━━━━━━━━━━\u001b[0m \u001b[32m917.8/917.8 kB\u001b[0m \u001b[31m50.9 MB/s\u001b[0m eta \u001b[36m0:00:00\u001b[0m\n",
            "\u001b[?25hDownloading graspologic_native-1.2.1-cp36-abi3-manylinux_2_17_x86_64.manylinux2014_x86_64.whl (1.2 MB)\n",
            "\u001b[2K   \u001b[90m━━━━━━━━━━━━━━━━━━━━━━━━━━━━━━━━━━━━━━━━\u001b[0m \u001b[32m1.2/1.2 MB\u001b[0m \u001b[31m43.8 MB/s\u001b[0m eta \u001b[36m0:00:00\u001b[0m\n",
            "\u001b[?25hDownloading httpx-0.27.2-py3-none-any.whl (76 kB)\n",
            "\u001b[2K   \u001b[90m━━━━━━━━━━━━━━━━━━━━━━━━━━━━━━━━━━━━━━━━\u001b[0m \u001b[32m76.4/76.4 kB\u001b[0m \u001b[31m6.4 MB/s\u001b[0m eta \u001b[36m0:00:00\u001b[0m\n",
            "\u001b[?25hDownloading httpcore-1.0.6-py3-none-any.whl (78 kB)\n",
            "\u001b[2K   \u001b[90m━━━━━━━━━━━━━━━━━━━━━━━━━━━━━━━━━━━━━━━━\u001b[0m \u001b[32m78.0/78.0 kB\u001b[0m \u001b[31m6.6 MB/s\u001b[0m eta \u001b[36m0:00:00\u001b[0m\n",
            "\u001b[?25hDownloading hyppo-0.4.0-py3-none-any.whl (146 kB)\n",
            "\u001b[2K   \u001b[90m━━━━━━━━━━━━━━━━━━━━━━━━━━━━━━━━━━━━━━━━\u001b[0m \u001b[32m146.6/146.6 kB\u001b[0m \u001b[31m12.0 MB/s\u001b[0m eta \u001b[36m0:00:00\u001b[0m\n",
            "\u001b[?25hDownloading jiter-0.6.1-cp310-cp310-manylinux_2_17_x86_64.manylinux2014_x86_64.whl (325 kB)\n",
            "\u001b[2K   \u001b[90m━━━━━━━━━━━━━━━━━━━━━━━━━━━━━━━━━━━━━━━━\u001b[0m \u001b[32m325.2/325.2 kB\u001b[0m \u001b[31m22.8 MB/s\u001b[0m eta \u001b[36m0:00:00\u001b[0m\n",
            "\u001b[?25hDownloading matplotlib-3.9.2-cp310-cp310-manylinux_2_17_x86_64.manylinux2014_x86_64.whl (8.3 MB)\n",
            "\u001b[2K   \u001b[90m━━━━━━━━━━━━━━━━━━━━━━━━━━━━━━━━━━━━━━━━\u001b[0m \u001b[32m8.3/8.3 MB\u001b[0m \u001b[31m97.7 MB/s\u001b[0m eta \u001b[36m0:00:00\u001b[0m\n",
            "\u001b[?25hDownloading POT-0.9.4-cp310-cp310-manylinux_2_17_x86_64.manylinux2014_x86_64.whl (835 kB)\n",
            "\u001b[2K   \u001b[90m━━━━━━━━━━━━━━━━━━━━━━━━━━━━━━━━━━━━━━━━\u001b[0m \u001b[32m835.4/835.4 kB\u001b[0m \u001b[31m44.7 MB/s\u001b[0m eta \u001b[36m0:00:00\u001b[0m\n",
            "\u001b[?25hDownloading umap_learn-0.5.6-py3-none-any.whl (85 kB)\n",
            "\u001b[2K   \u001b[90m━━━━━━━━━━━━━━━━━━━━━━━━━━━━━━━━━━━━━━━━\u001b[0m \u001b[32m85.7/85.7 kB\u001b[0m \u001b[31m7.1 MB/s\u001b[0m eta \u001b[36m0:00:00\u001b[0m\n",
            "\u001b[?25hDownloading pynndescent-0.5.13-py3-none-any.whl (56 kB)\n",
            "\u001b[2K   \u001b[90m━━━━━━━━━━━━━━━━━━━━━━━━━━━━━━━━━━━━━━━━\u001b[0m \u001b[32m56.9/56.9 kB\u001b[0m \u001b[31m4.3 MB/s\u001b[0m eta \u001b[36m0:00:00\u001b[0m\n",
            "\u001b[?25hDownloading h11-0.14.0-py3-none-any.whl (58 kB)\n",
            "\u001b[2K   \u001b[90m━━━━━━━━━━━━━━━━━━━━━━━━━━━━━━━━━━━━━━━━\u001b[0m \u001b[32m58.3/58.3 kB\u001b[0m \u001b[31m3.2 MB/s\u001b[0m eta \u001b[36m0:00:00\u001b[0m\n",
            "\u001b[?25hBuilding wheels for collected packages: hnswlib\n",
            "  Building wheel for hnswlib (pyproject.toml) ... \u001b[?25l\u001b[?25hdone\n",
            "  Created wheel for hnswlib: filename=hnswlib-0.8.0-cp310-cp310-linux_x86_64.whl size=2360800 sha256=9d45b861af177d2c594d1ed3205f33bacc97e6c57d60b839ac29d0a58e6814eb\n",
            "  Stored in directory: /root/.cache/pip/wheels/af/a9/3e/3e5d59ee41664eb31a4e6de67d1846f86d16d93c45f277c4e7\n",
            "Successfully built hnswlib\n",
            "Installing collected packages: xxhash, scipy, nano-vectordb, jiter, hnswlib, h11, graspologic-native, beartype, anytree, tiktoken, POT, matplotlib, httpcore, pynndescent, hyppo, httpx, umap-learn, openai, ollama, graspologic, lightrag-hku\n",
            "  Attempting uninstall: scipy\n",
            "    Found existing installation: scipy 1.13.1\n",
            "    Uninstalling scipy-1.13.1:\n",
            "      Successfully uninstalled scipy-1.13.1\n",
            "  Attempting uninstall: matplotlib\n",
            "    Found existing installation: matplotlib 3.7.1\n",
            "    Uninstalling matplotlib-3.7.1:\n",
            "      Successfully uninstalled matplotlib-3.7.1\n",
            "\u001b[31mERROR: pip's dependency resolver does not currently take into account all the packages that are installed. This behaviour is the source of the following dependency conflicts.\n",
            "osqp 0.6.7.post0 requires scipy!=1.12.0,>=0.13.2, but you have scipy 1.12.0 which is incompatible.\u001b[0m\u001b[31m\n",
            "\u001b[0mSuccessfully installed POT-0.9.4 anytree-2.12.1 beartype-0.18.5 graspologic-3.4.1 graspologic-native-1.2.1 h11-0.14.0 hnswlib-0.8.0 httpcore-1.0.6 httpx-0.27.2 hyppo-0.4.0 jiter-0.6.1 lightrag-hku-0.0.6 matplotlib-3.9.2 nano-vectordb-0.0.4 ollama-0.3.3 openai-1.51.2 pynndescent-0.5.13 scipy-1.12.0 tiktoken-0.8.0 umap-learn-0.5.6 xxhash-3.5.0\n"
          ]
        }
      ],
      "source": [
        "!pip install lightrag-hku"
      ]
    },
    {
      "cell_type": "code",
      "source": [
        "from google.colab import userdata\n",
        "import os\n",
        "os.environ[\"OPENAI_API_KEY\"] = userdata.get('OPENAI_API_KEY')"
      ],
      "metadata": {
        "id": "epprYjOJWea5"
      },
      "execution_count": 2,
      "outputs": []
    },
    {
      "cell_type": "code",
      "source": [
        "!curl https://raw.githubusercontent.com/gusye1234/nano-graphrag/main/tests/mock_data.txt > ./book.txt"
      ],
      "metadata": {
        "colab": {
          "base_uri": "https://localhost:8080/"
        },
        "id": "66sTwGjkWrwo",
        "outputId": "7580de44-7f66-42bd-b24c-f34d2be0f91f"
      },
      "execution_count": 3,
      "outputs": [
        {
          "output_type": "stream",
          "name": "stdout",
          "text": [
            "  % Total    % Received % Xferd  Average Speed   Time    Time     Time  Current\n",
            "                                 Dload  Upload   Total   Spent    Left  Speed\n",
            "100  184k  100  184k    0     0   773k      0 --:--:-- --:--:-- --:--:--  776k\n"
          ]
        }
      ]
    },
    {
      "cell_type": "code",
      "source": [
        "!pip install nest-asyncio"
      ],
      "metadata": {
        "colab": {
          "base_uri": "https://localhost:8080/"
        },
        "id": "GohhUTCdXhYl",
        "outputId": "c930d115-c30c-4579-ee7e-d4055c63e2de"
      },
      "execution_count": 5,
      "outputs": [
        {
          "output_type": "stream",
          "name": "stdout",
          "text": [
            "Requirement already satisfied: nest-asyncio in /usr/local/lib/python3.10/dist-packages (1.6.0)\n"
          ]
        }
      ]
    },
    {
      "cell_type": "code",
      "source": [
        "from lightrag import LightRAG, QueryParam\n",
        "from lightrag.llm import gpt_4o_mini_complete, gpt_4o_complete\n",
        "import nest_asyncio  # Import nest_asyncio\n",
        "import os\n",
        "\n",
        "# Apply nest_asyncio to patch the event loop\n",
        "nest_asyncio.apply()\n",
        "\n",
        "WORKING_DIR = \"./dickens\"\n",
        "\n",
        "if not os.path.exists(WORKING_DIR):\n",
        "    os.mkdir(WORKING_DIR)\n",
        "\n",
        "rag = LightRAG(\n",
        "    working_dir=WORKING_DIR,\n",
        "    llm_model_func=gpt_4o_mini_complete  # Use gpt_4o_mini_complete LLM model\n",
        "    # llm_model_func=gpt_4o_complete  # Optionally, use a stronger model\n",
        ")\n",
        "\n",
        "with open(\"./book.txt\") as f:\n",
        "    rag.insert(f.read())\n",
        "\n",
        "# Perform naive search\n",
        "print(rag.query(\"What are the top themes in this story?\", param=QueryParam(mode=\"naive\")))\n",
        "\n",
        "# Perform local search\n",
        "print(rag.query(\"What are the top themes in this story?\", param=QueryParam(mode=\"local\")))\n",
        "\n",
        "# Perform global search\n",
        "print(rag.query(\"What are the top themes in this story?\", param=QueryParam(mode=\"global\")))\n",
        "\n",
        "# Perform hybrid search\n",
        "print(rag.query(\"What are the top themes in this story?\", param=QueryParam(mode=\"hybrid\")))"
      ],
      "metadata": {
        "colab": {
          "base_uri": "https://localhost:8080/"
        },
        "id": "PCUpldzCWypV",
        "outputId": "258bc8e5-357c-4952-b313-908e2531196e"
      },
      "execution_count": 6,
      "outputs": [
        {
          "output_type": "stream",
          "name": "stderr",
          "text": [
            "INFO:lightrag:Logger initialized for working directory: ./dickens\n",
            "DEBUG:lightrag:LightRAG init with param:\n",
            "  working_dir = ./dickens,\n",
            "  chunk_token_size = 1200,\n",
            "  chunk_overlap_token_size = 100,\n",
            "  tiktoken_model_name = gpt-4o-mini,\n",
            "  entity_extract_max_gleaning = 1,\n",
            "  entity_summary_to_max_tokens = 500,\n",
            "  node_embedding_algorithm = node2vec,\n",
            "  node2vec_params = {'dimensions': 1536, 'num_walks': 10, 'walk_length': 40, 'window_size': 2, 'iterations': 3, 'random_seed': 3},\n",
            "  embedding_func = {'embedding_dim': 1536, 'max_token_size': 8192, 'func': <function openai_embedding at 0x7b9bf3103640>},\n",
            "  embedding_batch_num = 32,\n",
            "  embedding_func_max_async = 16,\n",
            "  llm_model_func = <function gpt_4o_mini_complete at 0x7b9bf3103130>,\n",
            "  llm_model_name = meta-llama/Llama-3.2-1B-Instruct,\n",
            "  llm_model_max_token_size = 32768,\n",
            "  llm_model_max_async = 16,\n",
            "  key_string_value_json_storage_cls = <class 'lightrag.storage.JsonKVStorage'>,\n",
            "  vector_db_storage_cls = <class 'lightrag.storage.NanoVectorDBStorage'>,\n",
            "  vector_db_storage_cls_kwargs = {},\n",
            "  graph_storage_cls = <class 'lightrag.storage.NetworkXStorage'>,\n",
            "  enable_llm_cache = True,\n",
            "  addon_params = {},\n",
            "  convert_response_to_json_func = <function convert_response_to_json at 0x7b9bf3100e50>\n",
            "\n",
            "INFO:lightrag:Load KV full_docs with 0 data\n",
            "INFO:lightrag:Load KV text_chunks with 0 data\n",
            "INFO:lightrag:Load KV llm_response_cache with 0 data\n",
            "INFO:lightrag:[New Docs] inserting 1 docs\n",
            "INFO:lightrag:[New Chunks] inserting 42 chunks\n",
            "INFO:lightrag:Inserting 42 vectors to chunks\n",
            "INFO:lightrag:[Entity Extraction]...\n"
          ]
        },
        {
          "output_type": "stream",
          "name": "stdout",
          "text": []
        },
        {
          "output_type": "stream",
          "name": "stderr",
          "text": [
            "DEBUG:lightrag:Trigger summary: \"SCROOGE\"\n"
          ]
        },
        {
          "output_type": "stream",
          "name": "stdout",
          "text": [
            "\n"
          ]
        },
        {
          "output_type": "stream",
          "name": "stderr",
          "text": [
            "INFO:lightrag:Inserting 387 vectors to entities\n",
            "INFO:lightrag:Inserting 269 vectors to relationships\n",
            "INFO:lightrag:Writing graph with 389 nodes, 269 edges\n",
            "INFO:lightrag:Truncate 39 to 3 chunks\n"
          ]
        },
        {
          "output_type": "stream",
          "name": "stdout",
          "text": [
            "The story of \"A Christmas Carol\" features several prominent themes that are central to its moral and narrative. \n",
            "\n",
            "One of the primary themes is **redemption**. The protagonist, Ebenezer Scrooge, embodies the possibility of personal transformation. Throughout the tale, he is confronted with the consequences of his past actions and attitudes, especially his greed and disdain for others, which leads him to a solitary and miserable existence. The visits from the three spirits serve as crucial turning points that allow Scrooge to recognize the importance of kindness, generosity, and human connection, ultimately leading to his redemption.\n",
            "\n",
            "Another significant theme is **the importance of compassion and generosity**. Scrooge's initial character is marked by an absence of empathy, as he prioritizes money over relationships. However, through the experiences with the Ghosts of Christmas Past, Present, and Yet to Come, he learns to appreciate the joys of giving and the value of community. This theme underscores the festive spirit of Christmas and suggests that wealth is not measured by material possessions but by the relationships we nurture and the kindness we extend to others.\n",
            "\n",
            "**The impact of time** serves as another critical theme. The narrative explores the idea of past, present, and future and how one's choices shape their destiny. Scrooge's journey through time shows the weight of regret and the profound effect that our present actions have on our future. This underscores the importance of living in the moment and making choices that reflect kindness and humanity rather than selfishness.\n",
            "\n",
            "Additionally, **social criticism** is a prevalent theme, particularly in addressing the disparities between social classes and the responsibilities of the wealthy towards the poor. Characters like Tiny Tim symbolize the plight of the impoverished, while Scrooge’s eventual change of heart reflects the need for societal empathy and action to improve the lives of the less fortunate.\n",
            "\n",
            "In summary, the themes of redemption, compassion, the impact of time, and social criticism work together to convey a powerful message about the potential for change and the importance of human connections, reinforcing the narrative's focus on the spirit of Christmas and the values it represents.\n"
          ]
        },
        {
          "output_type": "stream",
          "name": "stderr",
          "text": [
            "INFO:lightrag:Local query uses 60 entites, 113 relations, 3 text units\n"
          ]
        },
        {
          "output_type": "stream",
          "name": "stdout",
          "text": [
            "### The Themes of \"A Christmas Carol\"\n",
            "\n",
            "Charles Dickens' \"A Christmas Carol\" explores a multitude of themes that reflect social issues, personal transformation, and the essence of human connection. These themes, woven throughout the narrative, highlight the journey of the central character, Ebenezer Scrooge, and serve to critique societal norms of the time.\n",
            "\n",
            "#### 1. Redemption and Transformation\n",
            "One of the most prominent themes in the novella is redemption. Scrooge, initially portrayed as a greedy and misanthropic individual, undergoes a profound transformation. The Christmas spirit, represented through his encounters with the spirits of Christmas Past, Present, and Yet to Come, catalyzes this change. His journey from a cold-hearted miser to someone who embraces generosity and compassion serves as a powerful reminder of the possibility of personal redemption. This theme underscores the idea that it is never too late to change one's ways and highlights the transformative power of kindness and human connection.\n",
            "\n",
            "#### 2. The Spirit of Christmas and Generosity\n",
            "Christmas as a time for joy, reflection, and generosity is a recurring theme throughout \"A Christmas Carol.\" The holiday serves as a backdrop that contrasts sharply with Scrooge's initial contempt for it. The celebrations depicted, particularly those surrounding the Cratchit family, emphasize the significance of goodwill, family, and togetherness. Through the lens of Christmas, Dickens argues for the importance of compassion and the need to care for one another, especially for those in less fortunate circumstances. This theme is reinforced through the joyous occasions and the warmth shared among family and friends, marking a stark contrast to Scrooge's prior isolation.\n",
            "\n",
            "#### 3. Social Responsibility and Class Disparity\n",
            "Another critical theme that Dickens presents is social responsibility. Throughout the novella, characters often reflect upon the disparities between wealth and poverty, which is illustrated in the interactions between Scrooge and the Cratchit family. Scrooge's initial indifference to the plight of the poor, including Tiny Tim's vulnerability, starkly exposes the societal shortcomings regarding charity and compassion. The theme advocates for a moral obligation to help those less fortunate and critiques the indifference often exhibited by the wealthy, as seen in the conversations among businessmen regarding death and wealth.\n",
            "\n",
            "#### 4. Mortality and Legacy\n",
            "Mortality is a compelling theme underlying Scrooge's journey. His encounters with the spirits force him to confront his life choices and the eventual consequences of his actions, particularly concerning his legacy. The vision of his grave—bearing his name—serves as a stark reminder of the limited time he has to amend his ways and make meaningful connections. Through this theme, Dickens emphasizes the importance of living a life filled with compassion, ultimately impacting how one is remembered after death.\n",
            "\n",
            "### Conclusion\n",
            "In conclusion, \"A Christmas Carol\" extends beyond its surface-level holiday narrative to explore profound themes of redemption, generosity, social responsibility, and mortality. Dickens’ story encourages readers to reflect on their values, consider the implications of their choices, and emphasizes the significance of human connections in fostering a compassionate society. Through Scrooge's transformative journey, the novella serves as a timeless reminder that change is possible, and every individual has the power to make a meaningful impact on the lives of others.\n"
          ]
        },
        {
          "output_type": "stream",
          "name": "stderr",
          "text": [
            "INFO:lightrag:Global query uses 57 entites, 60 relations, 3 text units\n"
          ]
        },
        {
          "output_type": "stream",
          "name": "stdout",
          "text": [
            "In Charles Dickens' \"A Christmas Carol,\" several prominent themes interweave through the narrative, deeply influencing the characters and their development. Among them, **redemption**, **compassion**, and **the contrast between wealth and poverty** stand out as pivotal motifs, resonating with contemporary audiences and offering profound societal commentary.\n",
            "\n",
            "### Redemption \n",
            "\n",
            "The theme of redemption is central to Scrooge's transformation throughout the story. Initially depicted as a miser living a life devoid of joy and connection, Scrooge's encounters with various spirits—such as the Ghost of Christmas Past, the Ghost of Christmas Present, and the Ghost of Christmas Yet to Come—serve as catalysts for reflection. These supernatural visitations compel him to confront his past actions, rekindle his emotional connections, and ultimately embrace a kinder, more generous outlook on life. The process showcases that no matter how lost one might feel, there is always potential for change and redemption.\n",
            "\n",
            "### Compassion \n",
            "\n",
            "Closely tied with redemption is the theme of compassion. Scrooge's initial lack of empathy—evident in his disdain for the less fortunate and his dismissive attitude towards Christmas—provides a stark contrast to the warmth and caring nature of the Cratchit family. The interactions Scrooge observes, particularly with Tiny Tim, evoke feelings of sorrow and empathy within him. His eventual transformation into a benevolent figure emphasizes the importance of compassion and kindness, particularly in the context of societal responsibility during festive periods. Through these dynamics, Dickens advocates for a society rooted in help and understanding toward the less privileged.\n",
            "\n",
            "### Wealth and Poverty \n",
            "\n",
            "The juxtaposition between wealth and poverty serves as another critical theme. Scrooge, embodying the archetype of a wealthy yet miserly individual, represents the moral and spiritual bankruptcy that can accompany a profit-driven lifestyle devoid of generosity. On the other hand, characters like Bob Cratchit and his family, who struggle financially, highlight the richness of love and familial bonds that exist despite their economic hardships. This contrast invites readers to reflect on the implications of wealth: while it can provide comfort, it is community, empathy, and kindness that cultivate true fulfillment.\n",
            "\n",
            "### Conclusion \n",
            "\n",
            "These interconnected themes of redemption, compassion, and the duality of wealth and poverty culminate to express timeless messages about human nature and morality. Dickens not only critiques societal attitudes but also inspires hope for individual and collective transformation. As such, \"A Christmas Carol\" remains a resonant tale that underscores the significance of kindness, empathy, and the potential for change within all of us, reminding readers that the spirit of Christmas is fundamentally about generosity and human connection.\n"
          ]
        },
        {
          "output_type": "stream",
          "name": "stderr",
          "text": [
            "INFO:lightrag:Local query uses 60 entites, 113 relations, 3 text units\n",
            "INFO:lightrag:Global query uses 57 entites, 60 relations, 3 text units\n"
          ]
        },
        {
          "output_type": "stream",
          "name": "stdout",
          "text": [
            "In \"A Christmas Carol\" by Charles Dickens, several key themes emerge throughout the narrative, reflecting the complexities of human nature and the impact of social attitudes. The primary themes include redemption, the spirit of Christmas, societal responsibility, and the consequences of one's actions.\n",
            "\n",
            "### Redemption\n",
            "\n",
            "The theme of redemption is central to Scrooge's character arc as he transforms from a miserly, isolated individual into someone who embraces generosity and compassion. At the start, Scrooge embodies selfishness and disdain for the joy of Christmas, but through the supernatural visits from the three spirits, he confronts his past, present, and potential future. This journey illuminates the possibility of change and compassion, ultimately leading him to seek atonement for his past misdeeds. Scrooge's transformation signifies that it is never too late to change one's ways and make amends, showcasing the potential for personal growth in everyone.\n",
            "\n",
            "### The Spirit of Christmas\n",
            "\n",
            "The spirit of Christmas serves as an overarching theme that contrasts sharply with Scrooge's initial views on the holiday. The narrative emphasizes the importance of goodwill, family, and community connection during Christmas, suggesting that these values are essential for happiness and fulfillment. The depiction of Christmas as a time for joy, celebration, and reflection on one's relationships underscores the holiday's significance beyond material concerns. Scrooge's eventual acceptance of the spirit of Christmas symbolizes the joy and warmth that come with embracing generosity and kindness.\n",
            "\n",
            "### Societal Responsibility\n",
            "\n",
            "Dickens highlights the theme of societal responsibility, particularly through the character of Bob Cratchit and his family. The struggles faced by the Cratchit family illustrate the harsh realities of poverty and the need for social awareness and compassion towards the less fortunate. Scrooge's encounters with the Cratchits and the spirits challenge him to recognize the impact of his wealth and indifference on those around him. This theme raises important questions about social justice and the moral obligation to support those in need, encouraging readers to reflect on their societal role.\n",
            "\n",
            "### Consequences of One's Actions\n",
            "\n",
            "Throughout the story, Dickens explores the consequences of one's actions, especially as they relate to mortality and legacy. Scrooge's initial disregard for human connection leads him to a lonely existence, as illustrated by his interactions (or lack thereof) with the community. The narrative repeatedly emphasizes that one's choices shape their fate, showcasing the theme of accountability. By revealing Scrooge's potential future—a lonely grave—Dickens compels both the character and the readers to understand that every action carries weight and inevitably affects others.\n",
            "\n",
            "In summary, \"A Christmas Carol\" is rich with themes that resonate on both personal and societal levels. Redemption, the spirit of Christmas, societal responsibility, and the consequences of one's actions form the backbone of Dickens's narrative, offering both a critique of Victorian society and a timeless message about the importance of compassion and connection to others. These themes remain relevant today, serving as a reminder of the enduring human capacity for change and goodwill.\n"
          ]
        }
      ]
    },
    {
      "cell_type": "markdown",
      "source": [
        "![image.png](data:image/png;base64,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)"
      ],
      "metadata": {
        "id": "FmDZis0FYNeV"
      }
    }
  ]
}