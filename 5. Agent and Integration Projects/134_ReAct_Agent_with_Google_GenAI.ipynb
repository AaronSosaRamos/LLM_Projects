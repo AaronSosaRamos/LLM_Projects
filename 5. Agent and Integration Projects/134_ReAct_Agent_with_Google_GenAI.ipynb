{
  "nbformat": 4,
  "nbformat_minor": 0,
  "metadata": {
    "colab": {
      "provenance": []
    },
    "kernelspec": {
      "name": "python3",
      "display_name": "Python 3"
    },
    "language_info": {
      "name": "python"
    }
  },
  "cells": [
    {
      "cell_type": "markdown",
      "source": [
        "#ReAct Agent with Google GenAI\n",
        "Made by: Wilfredo Aaron Sosa Ramos (AI Lab Manager at RealityAI Labs)"
      ],
      "metadata": {
        "id": "AA1ycBoGN-lo"
      }
    },
    {
      "cell_type": "markdown",
      "source": [
        "##1. Install the dependencies"
      ],
      "metadata": {
        "id": "r0cDkWmpODn7"
      }
    },
    {
      "cell_type": "code",
      "execution_count": 1,
      "metadata": {
        "colab": {
          "base_uri": "https://localhost:8080/"
        },
        "id": "vwjzDeIXNTJ6",
        "outputId": "8b6da463-a081-4762-951a-6f75bf54bc65"
      },
      "outputs": [
        {
          "output_type": "stream",
          "name": "stdout",
          "text": [
            "\u001b[2K   \u001b[90m━━━━━━━━━━━━━━━━━━━━━━━━━━━━━━━━━━━━━━━━\u001b[0m \u001b[32m2.5/2.5 MB\u001b[0m \u001b[31m17.4 MB/s\u001b[0m eta \u001b[36m0:00:00\u001b[0m\n",
            "\u001b[2K   \u001b[90m━━━━━━━━━━━━━━━━━━━━━━━━━━━━━━━━━━━━━━━━\u001b[0m \u001b[32m1.0/1.0 MB\u001b[0m \u001b[31m25.4 MB/s\u001b[0m eta \u001b[36m0:00:00\u001b[0m\n",
            "\u001b[2K   \u001b[90m━━━━━━━━━━━━━━━━━━━━━━━━━━━━━━━━━━━━━━━━\u001b[0m \u001b[32m411.6/411.6 kB\u001b[0m \u001b[31m19.9 MB/s\u001b[0m eta \u001b[36m0:00:00\u001b[0m\n",
            "\u001b[2K   \u001b[90m━━━━━━━━━━━━━━━━━━━━━━━━━━━━━━━━━━━━━━━━\u001b[0m \u001b[32m41.3/41.3 kB\u001b[0m \u001b[31m1.5 MB/s\u001b[0m eta \u001b[36m0:00:00\u001b[0m\n",
            "\u001b[2K   \u001b[90m━━━━━━━━━━━━━━━━━━━━━━━━━━━━━━━━━━━━━━━━\u001b[0m \u001b[32m137.2/137.2 kB\u001b[0m \u001b[31m5.2 MB/s\u001b[0m eta \u001b[36m0:00:00\u001b[0m\n",
            "\u001b[2K   \u001b[90m━━━━━━━━━━━━━━━━━━━━━━━━━━━━━━━━━━━━━━━━\u001b[0m \u001b[32m43.7/43.7 kB\u001b[0m \u001b[31m1.4 MB/s\u001b[0m eta \u001b[36m0:00:00\u001b[0m\n",
            "\u001b[2K   \u001b[90m━━━━━━━━━━━━━━━━━━━━━━━━━━━━━━━━━━━━━━━━\u001b[0m \u001b[32m48.9/48.9 kB\u001b[0m \u001b[31m2.4 MB/s\u001b[0m eta \u001b[36m0:00:00\u001b[0m\n",
            "\u001b[?25h"
          ]
        }
      ],
      "source": [
        "!pip install -q langchain langchain_core langchain_community langchain_google_genai langgraph"
      ]
    },
    {
      "cell_type": "markdown",
      "source": [
        "##2. Set the env. variables"
      ],
      "metadata": {
        "id": "81jV_25uOJy0"
      }
    },
    {
      "cell_type": "code",
      "source": [
        "import os\n",
        "from google.colab import userdata\n",
        "\n",
        "os.environ['GOOGLE_API_KEY'] = userdata.get('GOOGLE_API_KEY')"
      ],
      "metadata": {
        "id": "f3KmdllPOLbh"
      },
      "execution_count": 2,
      "outputs": []
    },
    {
      "cell_type": "markdown",
      "source": [
        "##3. Basic Implementation of a Tool"
      ],
      "metadata": {
        "id": "u--4D0ndOTjk"
      }
    },
    {
      "cell_type": "code",
      "source": [
        "from langchain_core.tools import tool\n",
        "from langchain_google_genai import ChatGoogleGenerativeAI\n",
        "\n",
        "# Initialize the model\n",
        "model = ChatGoogleGenerativeAI(model=\"gemini-2.0-flash-exp\")\n",
        "\n",
        "# Define a tool for Project KPI Calculation\n",
        "@tool\n",
        "def calculate_kpi(progress: float, planned_effort: int, actual_effort: int, deadline_met: bool) -> dict:\n",
        "    \"\"\"\n",
        "    Calculates KPIs for a project task based on progress, effort, and deadline adherence.\n",
        "\n",
        "    KPIs include:\n",
        "    - Efficiency: Ratio of planned to actual effort (percentage).\n",
        "    - Progress Score: Normalized task progress (0-100 scale).\n",
        "    - Deadline Compliance: Boolean converted to a score (0 or 100).\n",
        "    - Overall KPI: Weighted average of all metrics.\n",
        "\n",
        "    Args:\n",
        "        progress (float): Task progress as a percentage (0-100).\n",
        "        planned_effort (int): Planned effort in hours.\n",
        "        actual_effort (int): Actual effort in hours.\n",
        "        deadline_met (bool): Whether the deadline was met.\n",
        "\n",
        "    Returns:\n",
        "        dict: Dictionary containing calculated KPIs.\n",
        "    \"\"\"\n",
        "    # Calculate individual metrics\n",
        "    efficiency = min((planned_effort / actual_effort) * 100, 100) if actual_effort > 0 else 0\n",
        "    progress_score = max(min(progress, 100), 0)  # Ensure within 0-100 range\n",
        "    deadline_score = 100 if deadline_met else 0\n",
        "\n",
        "    # Calculate overall KPI (weighted average)\n",
        "    overall_kpi = round((0.4 * efficiency) + (0.4 * progress_score) + (0.2 * deadline_score), 2)\n",
        "\n",
        "    # Return KPIs as a dictionary\n",
        "    return {\n",
        "        \"Efficiency (%)\": round(efficiency, 2),\n",
        "        \"Progress Score (%)\": progress_score,\n",
        "        \"Deadline Compliance (%)\": deadline_score,\n",
        "        \"Overall KPI (%)\": overall_kpi,\n",
        "    }\n",
        "\n",
        "# List of tools\n",
        "tools = [calculate_kpi]\n",
        "\n",
        "# Example usage\n",
        "progress = 75.0  # 75% task completed\n",
        "planned_effort = 40  # Planned effort was 40 hours\n",
        "actual_effort = 50  # Actual effort turned out to be 50 hours\n",
        "deadline_met = True  # Deadline was met\n",
        "\n",
        "kpi_results = calculate_kpi.run({\n",
        "    \"progress\": progress,\n",
        "    \"planned_effort\": planned_effort,\n",
        "    \"actual_effort\": actual_effort,\n",
        "    \"deadline_met\": deadline_met,\n",
        "})\n",
        "\n",
        "# Print KPIs\n",
        "query = f\"The calculated KPIs are: {kpi_results}\"\n",
        "print(query)"
      ],
      "metadata": {
        "colab": {
          "base_uri": "https://localhost:8080/"
        },
        "id": "jnQSu7lzPIki",
        "outputId": "a7c4746e-dc4c-4dbb-fd39-912bbe228819"
      },
      "execution_count": 4,
      "outputs": [
        {
          "output_type": "stream",
          "name": "stdout",
          "text": [
            "The calculated KPIs are: {'Efficiency (%)': 80.0, 'Progress Score (%)': 75.0, 'Deadline Compliance (%)': 100, 'Overall KPI (%)': 82.0}\n"
          ]
        }
      ]
    },
    {
      "cell_type": "markdown",
      "source": [
        "##4. Agent Executor:"
      ],
      "metadata": {
        "id": "2d5b5XbFPnoq"
      }
    },
    {
      "cell_type": "code",
      "source": [
        "from langchain.agents import AgentExecutor, create_tool_calling_agent\n",
        "from langchain_core.prompts import ChatPromptTemplate\n",
        "# Define the agent's prompt\n",
        "prompt = ChatPromptTemplate.from_messages(\n",
        "    [\n",
        "        (\"system\", \"You are a helpful assistant capable of calculating project KPIs.\"),\n",
        "        (\"human\", \"{input}\"),\n",
        "        # Placeholder for agent's scratchpad to allow dynamic reasoning\n",
        "        (\"placeholder\", \"{agent_scratchpad}\"),\n",
        "    ]\n",
        ")\n",
        "\n",
        "# Create the agent using the tools and prompt\n",
        "agent = create_tool_calling_agent(model, tools, prompt)\n",
        "agent_executor = AgentExecutor(agent=agent, tools=tools)\n",
        "\n",
        "# Example query to calculate KPIs\n",
        "query = (\n",
        "    \"Calculate the KPIs for a task with 75% progress, 40 planned hours, 50 actual hours, \"\n",
        "    \"and the deadline was met. Use the tool to provide detailed results.\"\n",
        ")\n",
        "\n",
        "# Execute the agent\n",
        "result = agent_executor.invoke({\"input\": query})\n",
        "\n",
        "# Print the output\n",
        "print(result)"
      ],
      "metadata": {
        "colab": {
          "base_uri": "https://localhost:8080/"
        },
        "id": "TEaokKbIPo5_",
        "outputId": "8576728a-0859-44f3-97b1-23ce4385c583"
      },
      "execution_count": 6,
      "outputs": [
        {
          "output_type": "stream",
          "name": "stdout",
          "text": [
            "{'input': 'Calculate the KPIs for a task with 75% progress, 40 planned hours, 50 actual hours, and the deadline was met. Use the tool to provide detailed results.', 'output': 'The KPIs for the task are as follows: Efficiency: 80%, Progress Score: 75%, Deadline Compliance: 100%, and Overall KPI: 82%.\\n'}\n"
          ]
        }
      ]
    },
    {
      "cell_type": "markdown",
      "source": [
        "##5. ReAct Agent Executor:"
      ],
      "metadata": {
        "id": "19q2MpgcQXwd"
      }
    },
    {
      "cell_type": "code",
      "source": [
        "from langgraph.prebuilt import create_react_agent\n",
        "\n",
        "langgraph_agent_executor = create_react_agent(model, tools)\n",
        "\n",
        "messages = langgraph_agent_executor.invoke({\"messages\": [(\"human\", query)]})\n",
        "{\n",
        "    \"input\": query,\n",
        "    \"output\": messages[\"messages\"][-1].content,\n",
        "}"
      ],
      "metadata": {
        "colab": {
          "base_uri": "https://localhost:8080/"
        },
        "id": "pCt__bmURQX8",
        "outputId": "62ae36a4-bedf-4d28-a683-5175447decb0"
      },
      "execution_count": 7,
      "outputs": [
        {
          "output_type": "execute_result",
          "data": {
            "text/plain": [
              "{'input': 'Calculate the KPIs for a task with 75% progress, 40 planned hours, 50 actual hours, and the deadline was met. Use the tool to provide detailed results.',\n",
              " 'output': 'The KPIs for the task are as follows: Efficiency: 80%, Progress Score: 75%, Deadline Compliance: 100%, and Overall KPI: 82%.\\n'}"
            ]
          },
          "metadata": {},
          "execution_count": 7
        }
      ]
    },
    {
      "cell_type": "markdown",
      "source": [
        "##6. ReAct Agent with Prompts:"
      ],
      "metadata": {
        "id": "7P4Z8nIKR0fY"
      }
    },
    {
      "cell_type": "code",
      "source": [
        "prompt = ChatPromptTemplate.from_messages(\n",
        "    [\n",
        "        (\"system\", \"You are a helpful assistant capable of calculating project KPIs. Respond only in Spanish.\"),\n",
        "        (\"human\", \"{input}\"),\n",
        "        # Placeholders fill up a **list** of messages\n",
        "        (\"placeholder\", \"{agent_scratchpad}\"),\n",
        "    ]\n",
        ")\n",
        "\n",
        "agent = create_tool_calling_agent(model, tools, prompt)\n",
        "agent_executor = AgentExecutor(agent=agent, tools=tools)\n",
        "\n",
        "agent_executor.invoke({\"input\": query})"
      ],
      "metadata": {
        "colab": {
          "base_uri": "https://localhost:8080/"
        },
        "id": "S0wyT2lwR2Zs",
        "outputId": "964bcabf-af56-426b-bc85-1a41ff6674fd"
      },
      "execution_count": 8,
      "outputs": [
        {
          "output_type": "execute_result",
          "data": {
            "text/plain": [
              "{'input': 'Calculate the KPIs for a task with 75% progress, 40 planned hours, 50 actual hours, and the deadline was met. Use the tool to provide detailed results.',\n",
              " 'output': 'Los KPIs para la tarea son: Cumplimiento del plazo: 100%, Eficiencia: 80%, Puntaje de progreso: 75%, KPI general: 82%.\\n'}"
            ]
          },
          "metadata": {},
          "execution_count": 8
        }
      ]
    },
    {
      "cell_type": "code",
      "source": [
        "from langchain_core.messages import SystemMessage\n",
        "from langgraph.prebuilt import create_react_agent\n",
        "\n",
        "# Define a professional system prompt\n",
        "system_message = SystemMessage(content=(\n",
        "    \"You are a highly professional project management assistant specializing in Key Performance Indicators (KPIs). \"\n",
        "    \"Your role is to assist users in evaluating task performance using metrics like efficiency, progress, and deadline compliance. \"\n",
        "    \"Respond only in Spanish, ensuring your answers are concise, accurate, and professional.\"\n",
        "))\n",
        "\n",
        "# Create the agent executor\n",
        "langgraph_agent_executor = create_react_agent(\n",
        "    model, tools, state_modifier=system_message\n",
        ")\n",
        "\n",
        "# Invoke the agent with a query\n",
        "messages = langgraph_agent_executor.invoke({\"messages\": [(\"user\", query)]})\n"
      ],
      "metadata": {
        "id": "hCBUlwteSGXt"
      },
      "execution_count": 9,
      "outputs": []
    },
    {
      "cell_type": "code",
      "source": [
        "messages"
      ],
      "metadata": {
        "colab": {
          "base_uri": "https://localhost:8080/"
        },
        "id": "2wz122DRSL5c",
        "outputId": "a7f45a99-15a3-4524-b875-dcbdfbf5e7fb"
      },
      "execution_count": 10,
      "outputs": [
        {
          "output_type": "execute_result",
          "data": {
            "text/plain": [
              "{'messages': [HumanMessage(content='Calculate the KPIs for a task with 75% progress, 40 planned hours, 50 actual hours, and the deadline was met. Use the tool to provide detailed results.', additional_kwargs={}, response_metadata={}, id='8ec5629a-6f1d-4746-8912-4e5fb235e4c0'),\n",
              "  AIMessage(content='', additional_kwargs={'function_call': {'name': 'calculate_kpi', 'arguments': '{\"progress\": 75.0, \"deadline_met\": true, \"planned_effort\": 40.0, \"actual_effort\": 50.0}'}}, response_metadata={'prompt_feedback': {'block_reason': 0, 'safety_ratings': []}, 'finish_reason': 'STOP', 'safety_ratings': [{'category': 'HARM_CATEGORY_HATE_SPEECH', 'probability': 'NEGLIGIBLE', 'blocked': False}, {'category': 'HARM_CATEGORY_DANGEROUS_CONTENT', 'probability': 'NEGLIGIBLE', 'blocked': False}, {'category': 'HARM_CATEGORY_HARASSMENT', 'probability': 'NEGLIGIBLE', 'blocked': False}, {'category': 'HARM_CATEGORY_SEXUALLY_EXPLICIT', 'probability': 'NEGLIGIBLE', 'blocked': False}]}, id='run-d00bf3ea-f199-451e-9c52-d697a0443065-0', tool_calls=[{'name': 'calculate_kpi', 'args': {'progress': 75.0, 'deadline_met': True, 'planned_effort': 40.0, 'actual_effort': 50.0}, 'id': '0fec2858-f73d-4571-ab03-c05b35203220', 'type': 'tool_call'}], usage_metadata={'input_tokens': 324, 'output_tokens': 13, 'total_tokens': 337, 'input_token_details': {'cache_read': 0}}),\n",
              "  ToolMessage(content='{\"Efficiency (%)\": 80.0, \"Progress Score (%)\": 75.0, \"Deadline Compliance (%)\": 100, \"Overall KPI (%)\": 82.0}', name='calculate_kpi', id='3d7e6961-50c4-4c9d-a19f-7abeec50c54c', tool_call_id='0fec2858-f73d-4571-ab03-c05b35203220'),\n",
              "  AIMessage(content='Los KPIs para la tarea son: Cumplimiento de Plazo: 100%, Eficiencia: 80%, Progreso: 75%, y el KPI general es 82%.\\n', additional_kwargs={}, response_metadata={'prompt_feedback': {'block_reason': 0, 'safety_ratings': []}, 'finish_reason': 'STOP', 'safety_ratings': [{'category': 'HARM_CATEGORY_HATE_SPEECH', 'probability': 'NEGLIGIBLE', 'blocked': False}, {'category': 'HARM_CATEGORY_DANGEROUS_CONTENT', 'probability': 'NEGLIGIBLE', 'blocked': False}, {'category': 'HARM_CATEGORY_HARASSMENT', 'probability': 'NEGLIGIBLE', 'blocked': False}, {'category': 'HARM_CATEGORY_SEXUALLY_EXPLICIT', 'probability': 'NEGLIGIBLE', 'blocked': False}]}, id='run-068bd594-e017-4701-bb1f-7976410b9962-0', usage_metadata={'input_tokens': 409, 'output_tokens': 42, 'total_tokens': 451, 'input_token_details': {'cache_read': 0}})]}"
            ]
          },
          "metadata": {},
          "execution_count": 10
        }
      ]
    },
    {
      "cell_type": "code",
      "source": [
        "from langgraph.prebuilt import create_react_agent\n",
        "from langgraph.prebuilt.chat_agent_executor import AgentState\n",
        "from langchain_core.prompts import ChatPromptTemplate\n",
        "\n",
        "# Define a professional system prompt for KPI evaluation\n",
        "prompt = ChatPromptTemplate.from_messages(\n",
        "    [\n",
        "        (\"system\", (\n",
        "            \"You are a highly professional project management assistant. Your primary responsibility is to calculate \"\n",
        "            \"Key Performance Indicators (KPIs) such as efficiency, progress, and deadline compliance. Respond only in Spanish.\"\n",
        "        )),\n",
        "        (\"placeholder\", \"{messages}\"),\n",
        "    ]\n",
        ")\n",
        "\n",
        "# State modification to adjust responses and add a specific message\n",
        "def _modify_state_messages(state: AgentState):\n",
        "    return prompt.invoke({\"messages\": state[\"messages\"]}).to_messages() + [\n",
        "        (\"user\", \"Además, agrega '¡Gracias por Preguntar!' después de la respuesta.\")\n",
        "    ]\n",
        "\n",
        "# Create the agent executor\n",
        "langgraph_agent_executor = create_react_agent(\n",
        "    model, tools, state_modifier=_modify_state_messages\n",
        ")\n",
        "\n",
        "# Example realistic query for KPI calculation\n",
        "query = (\n",
        "    \"Calcule los KPIs para una tarea con 85% de progreso, 40 horas planeadas, \"\n",
        "    \"50 horas reales y se cumplió con el plazo. Proporcione los resultados detallados.\"\n",
        ")\n",
        "\n",
        "# Invoke the agent with the query\n",
        "messages = langgraph_agent_executor.invoke({\"messages\": [(\"human\", query)]})\n",
        "\n",
        "# Print the input and the formatted output\n",
        "print(\n",
        "    {\n",
        "        \"input\": query,\n",
        "        \"output\": messages[\"messages\"][-1].content,\n",
        "    }\n",
        ")\n"
      ],
      "metadata": {
        "colab": {
          "base_uri": "https://localhost:8080/"
        },
        "id": "NIGLJsLkSd2v",
        "outputId": "35151ac7-806a-4d84-cc49-9c0c0573241c"
      },
      "execution_count": 11,
      "outputs": [
        {
          "output_type": "stream",
          "name": "stdout",
          "text": [
            "{'input': 'Calcule los KPIs para una tarea con 85% de progreso, 40 horas planeadas, 50 horas reales y se cumplió con el plazo. Proporcione los resultados detallados.', 'output': 'Los KPIs para la tarea son: Cumplimiento de Plazo: 100%, Eficiencia: 80%, Progreso: 85% y el KPI general es 86%. ¡Gracias por Preguntar!\\n'}\n"
          ]
        }
      ]
    },
    {
      "cell_type": "code",
      "source": [
        "print(messages[\"messages\"][-1].content)"
      ],
      "metadata": {
        "colab": {
          "base_uri": "https://localhost:8080/"
        },
        "id": "5owiPX5pSjoA",
        "outputId": "19ebd3af-ae37-4c76-dda5-e064c8aea59e"
      },
      "execution_count": 13,
      "outputs": [
        {
          "output_type": "stream",
          "name": "stdout",
          "text": [
            "Los KPIs para la tarea son: Cumplimiento de Plazo: 100%, Eficiencia: 80%, Progreso: 85% y el KPI general es 86%. ¡Gracias por Preguntar!\n",
            "\n"
          ]
        }
      ]
    }
  ]
}