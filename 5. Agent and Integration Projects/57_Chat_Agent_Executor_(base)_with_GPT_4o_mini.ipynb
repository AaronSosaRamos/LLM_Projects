{
  "cells": [
    {
      "cell_type": "markdown",
      "id": "51466c8d-8ce4-4b3d-be4e-18fdbeda5f53",
      "metadata": {
        "id": "51466c8d-8ce4-4b3d-be4e-18fdbeda5f53"
      },
      "source": [
        "# Chat Agent Executor\n",
        "\n",
        "In this example we will build a ReAct Agent that uses function calling from scratch."
      ]
    },
    {
      "cell_type": "markdown",
      "id": "7cbd446a-808f-4394-be92-d45ab818953c",
      "metadata": {
        "id": "7cbd446a-808f-4394-be92-d45ab818953c"
      },
      "source": [
        "## Setup\n",
        "\n",
        "First we need to install the packages required"
      ]
    },
    {
      "cell_type": "code",
      "execution_count": 1,
      "id": "af4ce0ba-7596-4e5f-8bf8-0b0bd6e62833",
      "metadata": {
        "id": "af4ce0ba-7596-4e5f-8bf8-0b0bd6e62833"
      },
      "outputs": [],
      "source": [
        "%%capture --no-stderr\n",
        "%pip install --quiet -U langgraph langchain langchain_openai tavily-python"
      ]
    },
    {
      "cell_type": "markdown",
      "id": "0abe11f4-62ed-4dc4-8875-3db21e260d1d",
      "metadata": {
        "id": "0abe11f4-62ed-4dc4-8875-3db21e260d1d"
      },
      "source": [
        "Next, we need to set API keys for OpenAI (the LLM we will use) and Tavily (the search tool we will use)"
      ]
    },
    {
      "cell_type": "code",
      "execution_count": 2,
      "id": "c903a1cf-2977-4e2d-ad7d-8b3946821d89",
      "metadata": {
        "id": "c903a1cf-2977-4e2d-ad7d-8b3946821d89"
      },
      "outputs": [],
      "source": [
        "from google.colab import userdata\n",
        "import os\n",
        "\n",
        "os.environ[\"OPENAI_API_KEY\"] = userdata.get('OPENAI_API_KEY')\n",
        "os.environ[\"TAVILY_API_KEY\"] = userdata.get('TAVILY_API_KEY')"
      ]
    },
    {
      "cell_type": "markdown",
      "id": "f0ed46a8-effe-4596-b0e1-a6a29ee16f5c",
      "metadata": {
        "id": "f0ed46a8-effe-4596-b0e1-a6a29ee16f5c"
      },
      "source": [
        "Optionally, we can set API key for [LangSmith tracing](https://smith.langchain.com/), which will give us best-in-class observability."
      ]
    },
    {
      "cell_type": "code",
      "execution_count": 3,
      "id": "95e25aec-7c9f-4a63-b143-225d0e9a79c3",
      "metadata": {
        "id": "95e25aec-7c9f-4a63-b143-225d0e9a79c3"
      },
      "outputs": [],
      "source": [
        "os.environ[\"LANGCHAIN_TRACING_V2\"] = \"true\"\n",
        "os.environ[\"LANGCHAIN_API_KEY\"] = userdata.get('LANGCHAIN_API_KEY')"
      ]
    },
    {
      "cell_type": "markdown",
      "id": "21ac643b-cb06-4724-a80c-2862ba4773f1",
      "metadata": {
        "id": "21ac643b-cb06-4724-a80c-2862ba4773f1"
      },
      "source": [
        "## Set up the tools\n",
        "\n",
        "We will first define the tools we want to use.\n",
        "For this simple example, we will use create a placeholder search engine.\n",
        "However, it is really easy to create your own tools - see documentation [here](https://python.langchain.com/v0.2/docs/how_to/custom_tools) on how to do that.\n"
      ]
    },
    {
      "cell_type": "code",
      "source": [
        "!pip install -q langchain_community"
      ],
      "metadata": {
        "colab": {
          "base_uri": "https://localhost:8080/"
        },
        "id": "TShEP4F7qW59",
        "outputId": "1782bc81-b9c5-43a1-cb60-ebae47d0c799"
      },
      "id": "TShEP4F7qW59",
      "execution_count": 4,
      "outputs": [
        {
          "output_type": "stream",
          "name": "stdout",
          "text": [
            "\u001b[2K   \u001b[90m━━━━━━━━━━━━━━━━━━━━━━━━━━━━━━━━━━━━━━━━\u001b[0m \u001b[32m2.3/2.3 MB\u001b[0m \u001b[31m25.9 MB/s\u001b[0m eta \u001b[36m0:00:00\u001b[0m\n",
            "\u001b[2K   \u001b[90m━━━━━━━━━━━━━━━━━━━━━━━━━━━━━━━━━━━━━━━━\u001b[0m \u001b[32m49.2/49.2 kB\u001b[0m \u001b[31m3.7 MB/s\u001b[0m eta \u001b[36m0:00:00\u001b[0m\n",
            "\u001b[?25h"
          ]
        }
      ]
    },
    {
      "cell_type": "code",
      "execution_count": 5,
      "id": "d7ef57dd-5d6e-4ad3-9377-a92201c1310e",
      "metadata": {
        "id": "d7ef57dd-5d6e-4ad3-9377-a92201c1310e"
      },
      "outputs": [],
      "source": [
        "from langchain_community.tools.tavily_search import TavilySearchResults\n",
        "\n",
        "tools = [TavilySearchResults(max_results=1)]"
      ]
    },
    {
      "cell_type": "markdown",
      "id": "01885785-b71a-44d1-b1d6-7b5b14d53b58",
      "metadata": {
        "id": "01885785-b71a-44d1-b1d6-7b5b14d53b58"
      },
      "source": [
        "We can now wrap these tools in a simple ToolExecutor.\n",
        "This is a real simple class that takes in a ToolInvocation and calls that tool, returning the output.\n",
        "A ToolInvocation is any class with `tool` and `tool_input` attribute.\n"
      ]
    },
    {
      "cell_type": "code",
      "execution_count": 6,
      "id": "5cf3331e-ccb3-41c8-aeb9-a840a94d41e7",
      "metadata": {
        "id": "5cf3331e-ccb3-41c8-aeb9-a840a94d41e7"
      },
      "outputs": [],
      "source": [
        "from langgraph.prebuilt import ToolExecutor\n",
        "\n",
        "tool_executor = ToolExecutor(tools)"
      ]
    },
    {
      "cell_type": "markdown",
      "id": "5497ed70-fce3-47f1-9cad-46f912bad6a5",
      "metadata": {
        "id": "5497ed70-fce3-47f1-9cad-46f912bad6a5"
      },
      "source": [
        "## Set up the model\n",
        "\n",
        "Now we need to load the chat model we want to use.\n",
        "Importantly, this should satisfy two criteria:\n",
        "\n",
        "1. It should work with messages. We will represent all agent state in the form of messages, so it needs to be able to work well with them.\n",
        "2. It should work with OpenAI function calling. This means it should either be an OpenAI model or a model that exposes a similar interface.\n",
        "\n",
        "Note: these model requirements are not requirements for using LangGraph - they are just requirements for this one example.\n"
      ]
    },
    {
      "cell_type": "code",
      "execution_count": 22,
      "id": "892b54b9-75f0-4804-9ed0-88b5e5532989",
      "metadata": {
        "id": "892b54b9-75f0-4804-9ed0-88b5e5532989"
      },
      "outputs": [],
      "source": [
        "from langchain_openai import ChatOpenAI\n",
        "\n",
        "# We will set streaming=True so that we can stream tokens\n",
        "# See the streaming section for more information on this.\n",
        "model = ChatOpenAI(temperature=0, streaming=True)"
      ]
    },
    {
      "cell_type": "markdown",
      "id": "a77995c0-bae2-4cee-a036-8688a90f05b9",
      "metadata": {
        "id": "a77995c0-bae2-4cee-a036-8688a90f05b9"
      },
      "source": [
        "\n",
        "After we've done this, we should make sure the model knows that it has these tools available to call.\n",
        "We can do this by converting the LangChain tools into the format for OpenAI function calling, and then bind them to the model class.\n"
      ]
    },
    {
      "cell_type": "code",
      "execution_count": 23,
      "id": "cd3cbae5-d92c-4559-a4aa-44721b80d107",
      "metadata": {
        "id": "cd3cbae5-d92c-4559-a4aa-44721b80d107"
      },
      "outputs": [],
      "source": [
        "model = model.bind_tools(tools)"
      ]
    },
    {
      "cell_type": "markdown",
      "id": "8e8b9211-93d0-4ad5-aa7a-9c09099c53ff",
      "metadata": {
        "id": "8e8b9211-93d0-4ad5-aa7a-9c09099c53ff"
      },
      "source": [
        "## Define the agent state\n",
        "\n",
        "The main type of graph in `langgraph` is the [StateGraph](https://langchain-ai.github.io/langgraph/reference/graphs/#langgraph.graph.StateGraph).\n",
        "This graph is parameterized by a state object that it passes around to each node.\n",
        "Each node then returns operations to update that state.\n",
        "These operations can either SET specific attributes on the state (e.g. overwrite the existing values) or ADD to the existing attribute.\n",
        "Whether to set or add is denoted by annotating the state object you construct the graph with.\n",
        "\n",
        "For this example, the state we will track will just be a list of messages.\n",
        "We want each node to just add messages to that list.\n",
        "Therefore, we will use a `TypedDict` with one key (`messages`) and annotate it so that the `messages` attribute is always added to.\n"
      ]
    },
    {
      "cell_type": "code",
      "execution_count": 24,
      "id": "ea793afa-2eab-4901-910d-6eed90cd6564",
      "metadata": {
        "id": "ea793afa-2eab-4901-910d-6eed90cd6564"
      },
      "outputs": [],
      "source": [
        "import operator\n",
        "from typing import Annotated, Sequence, TypedDict\n",
        "\n",
        "from langchain_core.messages import BaseMessage\n",
        "\n",
        "\n",
        "class AgentState(TypedDict):\n",
        "    messages: Annotated[Sequence[BaseMessage], operator.add]"
      ]
    },
    {
      "cell_type": "markdown",
      "id": "e03c5094-9297-4d19-a04e-3eedc75cefb4",
      "metadata": {
        "id": "e03c5094-9297-4d19-a04e-3eedc75cefb4"
      },
      "source": [
        "## Define the nodes\n",
        "\n",
        "We now need to define a few different nodes in our graph.\n",
        "In `langgraph`, a node can be either a function or a [runnable](https://python.langchain.com/v0.2/docs/concepts/#langchain-expression-language-lcel).\n",
        "There are two main nodes we need for this:\n",
        "\n",
        "1. The agent: responsible for deciding what (if any) actions to take.\n",
        "2. A function to invoke tools: if the agent decides to take an action, this node will then execute that action.\n",
        "\n",
        "We will also need to define some edges.\n",
        "Some of these edges may be conditional.\n",
        "The reason they are conditional is that based on the output of a node, one of several paths may be taken.\n",
        "The path that is taken is not known until that node is run (the LLM decides).\n",
        "\n",
        "1. Conditional Edge: after the agent is called, we should either:\n",
        "   a. If the agent said to take an action, then the function to invoke tools should be called\n",
        "   b. If the agent said that it was finished, then it should finish\n",
        "2. Normal Edge: after the tools are invoked, it should always go back to the agent to decide what to do next\n",
        "\n",
        "Let's define the nodes, as well as a function to decide how what conditional edge to take.\n"
      ]
    },
    {
      "cell_type": "code",
      "execution_count": 25,
      "id": "3b541bb9-900c-40d0-964d-7b5dfee30667",
      "metadata": {
        "id": "3b541bb9-900c-40d0-964d-7b5dfee30667"
      },
      "outputs": [],
      "source": [
        "from langchain_core.messages import ToolMessage\n",
        "\n",
        "from langgraph.prebuilt import ToolInvocation\n",
        "\n",
        "\n",
        "# Define the function that determines whether to continue or not\n",
        "def should_continue(state):\n",
        "    messages = state[\"messages\"]\n",
        "    last_message = messages[-1]\n",
        "    # If there is no function call, then we finish\n",
        "    if not last_message.tool_calls:\n",
        "        return \"end\"\n",
        "    # Otherwise if there is, we continue\n",
        "    else:\n",
        "        return \"continue\"\n",
        "\n",
        "\n",
        "# Define the function that calls the model\n",
        "def call_model(state):\n",
        "    messages = state[\"messages\"]\n",
        "    response = model.invoke(messages)\n",
        "    # We return a list, because this will get added to the existing list\n",
        "    return {\"messages\": [response]}\n",
        "\n",
        "\n",
        "# Define the function to execute tools\n",
        "def call_tool(state):\n",
        "    messages = state[\"messages\"]\n",
        "    # Based on the continue condition\n",
        "    # we know the last message involves a function call\n",
        "    last_message = messages[-1]\n",
        "    # We construct an ToolInvocation from the function_call\n",
        "    tool_call = last_message.tool_calls[0]\n",
        "    action = ToolInvocation(\n",
        "        tool=tool_call[\"name\"],\n",
        "        tool_input=tool_call[\"args\"],\n",
        "    )\n",
        "    # We call the tool_executor and get back a response\n",
        "    response = tool_executor.invoke(action)\n",
        "    # We use the response to create a FunctionMessage\n",
        "    function_message = ToolMessage(\n",
        "        content=str(response), name=action.tool, tool_call_id=tool_call[\"id\"]\n",
        "    )\n",
        "    # We return a list, because this will get added to the existing list\n",
        "    return {\"messages\": [function_message]}"
      ]
    },
    {
      "cell_type": "markdown",
      "id": "ffd6e892-946c-4899-8cc0-7c9291c1f73b",
      "metadata": {
        "id": "ffd6e892-946c-4899-8cc0-7c9291c1f73b"
      },
      "source": [
        "## Define the graph\n",
        "\n",
        "We can now put it all together and define the graph!"
      ]
    },
    {
      "cell_type": "code",
      "execution_count": 26,
      "id": "813ae66c-3b58-4283-a02a-36da72a2ab90",
      "metadata": {
        "id": "813ae66c-3b58-4283-a02a-36da72a2ab90"
      },
      "outputs": [],
      "source": [
        "from langgraph.graph import END, StateGraph, START\n",
        "\n",
        "# Define a new graph\n",
        "workflow = StateGraph(AgentState)\n",
        "\n",
        "# Define the two nodes we will cycle between\n",
        "workflow.add_node(\"agent\", call_model)\n",
        "workflow.add_node(\"action\", call_tool)\n",
        "\n",
        "# Set the entrypoint as `agent`\n",
        "# This means that this node is the first one called\n",
        "workflow.add_edge(START, \"agent\")\n",
        "\n",
        "# We now add a conditional edge\n",
        "workflow.add_conditional_edges(\n",
        "    # First, we define the start node. We use `agent`.\n",
        "    # This means these are the edges taken after the `agent` node is called.\n",
        "    \"agent\",\n",
        "    # Next, we pass in the function that will determine which node is called next.\n",
        "    should_continue,\n",
        "    # Finally we pass in a mapping.\n",
        "    # The keys are strings, and the values are other nodes.\n",
        "    # END is a special node marking that the graph should finish.\n",
        "    # What will happen is we will call `should_continue`, and then the output of that\n",
        "    # will be matched against the keys in this mapping.\n",
        "    # Based on which one it matches, that node will then be called.\n",
        "    {\n",
        "        # If `tools`, then we call the tool node.\n",
        "        \"continue\": \"action\",\n",
        "        # Otherwise we finish.\n",
        "        \"end\": END,\n",
        "    },\n",
        ")\n",
        "\n",
        "# We now add a normal edge from `tools` to `agent`.\n",
        "# This means that after `tools` is called, `agent` node is called next.\n",
        "workflow.add_edge(\"action\", \"agent\")\n",
        "\n",
        "# Finally, we compile it!\n",
        "# This compiles it into a LangChain Runnable,\n",
        "# meaning you can use it as you would any other runnable\n",
        "app = workflow.compile()"
      ]
    },
    {
      "cell_type": "code",
      "execution_count": 27,
      "id": "a4fab459",
      "metadata": {
        "colab": {
          "base_uri": "https://localhost:8080/",
          "height": 255
        },
        "id": "a4fab459",
        "outputId": "cccf308f-247e-46b1-a4b5-8f4aba9be8d7"
      },
      "outputs": [
        {
          "output_type": "display_data",
          "data": {
            "image/jpeg": "[encoded data removed]",
            "text/plain": [
              "<IPython.core.display.Image object>"
            ]
          },
          "metadata": {}
        }
      ],
      "source": [
        "from IPython.display import Image, display\n",
        "\n",
        "try:\n",
        "    display(Image(app.get_graph(xray=True).draw_mermaid_png()))\n",
        "except Exception:\n",
        "    # This requires some extra dependencies and is optional\n",
        "    pass"
      ]
    },
    {
      "cell_type": "markdown",
      "id": "547c3931-3dae-4281-ad4e-4b51305594d4",
      "metadata": {
        "id": "547c3931-3dae-4281-ad4e-4b51305594d4"
      },
      "source": [
        "## Use it!\n",
        "\n",
        "We can now use it!\n",
        "This now exposes the [same interface](https://python.langchain.com/v0.2/docs/concepts/#langchain-expression-language-lcel) as all other LangChain runnables."
      ]
    },
    {
      "cell_type": "code",
      "execution_count": 13,
      "id": "8edb04b9-40b6-46f1-a7a8-4b2d8aba7752",
      "metadata": {
        "colab": {
          "base_uri": "https://localhost:8080/"
        },
        "id": "8edb04b9-40b6-46f1-a7a8-4b2d8aba7752",
        "outputId": "68038893-da70-4c50-e4ab-57201c813755"
      },
      "outputs": [
        {
          "output_type": "execute_result",
          "data": {
            "text/plain": [
              "{'messages': [HumanMessage(content='what is the weather in Tarma, Junín, Perú?'),\n",
              "  AIMessage(content='', additional_kwargs={'tool_calls': [{'index': 0, 'id': 'call_j0PPTKyQzhZEgtMCpXT5Ws48', 'function': {'arguments': '{\"query\":\"weather in Tarma, Junín, Perú\"}', 'name': 'tavily_search_results_json'}, 'type': 'function'}]}, response_metadata={'finish_reason': 'tool_calls', 'model_name': 'gpt-3.5-turbo-0125'}, id='run-b71228ba-3ef6-4a15-bfb8-223ca5f56f2b-0', tool_calls=[{'name': 'tavily_search_results_json', 'args': {'query': 'weather in Tarma, Junín, Perú'}, 'id': 'call_j0PPTKyQzhZEgtMCpXT5Ws48', 'type': 'tool_call'}]),\n",
              "  ToolMessage(content='[{\\'url\\': \\'https://www.weatherapi.com/\\', \\'content\\': \"{\\'location\\': {\\'name\\': \\'Tarma\\', \\'region\\': \\'Junin\\', \\'country\\': \\'Peru\\', \\'lat\\': -11.42, \\'lon\\': -75.69, \\'tz_id\\': \\'America/Lima\\', \\'localtime_epoch\\': 1722277160, \\'localtime\\': \\'2024-07-29 13:19\\'}, \\'current\\': {\\'last_updated_epoch\\': 1722276900, \\'last_updated\\': \\'2024-07-29 13:15\\', \\'temp_c\\': 12.2, \\'temp_f\\': 53.9, \\'is_day\\': 1, \\'condition\\': {\\'text\\': \\'Patchy rain nearby\\', \\'icon\\': \\'//cdn.weatherapi.com/weather/64x64/day/176.png\\', \\'code\\': 1063}, \\'wind_mph\\': 11.0, \\'wind_kph\\': 17.6, \\'wind_degree\\': 52, \\'wind_dir\\': \\'NE\\', \\'pressure_mb\\': 1018.0, \\'pressure_in\\': 30.07, \\'precip_mm\\': 0.02, \\'precip_in\\': 0.0, \\'humidity\\': 50, \\'cloud\\': 75, \\'feelslike_c\\': 10.3, \\'feelslike_f\\': 50.6, \\'windchill_c\\': 10.3, \\'windchill_f\\': 50.6, \\'heatindex_c\\': 12.2, \\'heatindex_f\\': 53.9, \\'dewpoint_c\\': 2.0, \\'dewpoint_f\\': 35.6, \\'vis_km\\': 10.0, \\'vis_miles\\': 6.0, \\'uv\\': 4.0, \\'gust_mph\\': 12.6, \\'gust_kph\\': 20.3}}\"}]', name='tavily_search_results_json', tool_call_id='call_j0PPTKyQzhZEgtMCpXT5Ws48'),\n",
              "  AIMessage(content='The current weather in Tarma, Junín, Perú is as follows:\\n- Temperature: 12.2°C (53.9°F)\\n- Condition: Patchy rain nearby\\n- Wind: 17.6 km/h from the northeast\\n- Pressure: 1018.0 mb\\n- Humidity: 50%\\n- Cloudiness: 75%\\n- Visibility: 10.0 km\\n- UV Index: 4.0\\n\\nFor more detailed information, you can visit [Weather API](https://www.weatherapi.com/).', response_metadata={'finish_reason': 'stop', 'model_name': 'gpt-3.5-turbo-0125'}, id='run-483aa8fe-3ad6-472c-8544-c0cbb92c1ac5-0')]}"
            ]
          },
          "metadata": {},
          "execution_count": 13
        }
      ],
      "source": [
        "from langchain_core.messages import HumanMessage\n",
        "\n",
        "inputs = {\"messages\": [HumanMessage(content=\"what is the weather in Tarma, Junín, Perú?\")]}\n",
        "app.invoke(inputs)"
      ]
    },
    {
      "cell_type": "markdown",
      "id": "5a9e8155-70c5-4973-912c-dc55104b2acf",
      "metadata": {
        "id": "5a9e8155-70c5-4973-912c-dc55104b2acf"
      },
      "source": [
        "This may take a little bit - it's making a few calls behind the scenes.\n",
        "In order to start seeing some intermediate results as they happen, we can use streaming - see below for more information on that.\n",
        "\n",
        "## Streaming\n",
        "\n",
        "LangGraph has support for several different types of streaming.\n",
        "\n",
        "### Streaming Node Output\n",
        "\n",
        "One of the benefits of using LangGraph is that it is easy to stream output as it's produced by each node.\n"
      ]
    },
    {
      "cell_type": "code",
      "execution_count": 14,
      "id": "f544977e-31f7-41f0-88c4-ec9c27b8cecb",
      "metadata": {
        "colab": {
          "base_uri": "https://localhost:8080/"
        },
        "id": "f544977e-31f7-41f0-88c4-ec9c27b8cecb",
        "outputId": "4ba03338-08a6-4102-96e9-c1220fb5b468"
      },
      "outputs": [
        {
          "output_type": "stream",
          "name": "stdout",
          "text": [
            "Output from node 'agent':\n",
            "---\n",
            "{'messages': [AIMessage(content='', additional_kwargs={'tool_calls': [{'index': 0, 'id': 'call_uZ0LXiJ9S72h7QL45f2xAdNL', 'function': {'arguments': '{\"query\":\"weather in Tarma, Junín, Perú\"}', 'name': 'tavily_search_results_json'}, 'type': 'function'}]}, response_metadata={'finish_reason': 'tool_calls', 'model_name': 'gpt-3.5-turbo-0125'}, id='run-c0860400-bce5-4a0f-b226-7ebfa447ca7c-0', tool_calls=[{'name': 'tavily_search_results_json', 'args': {'query': 'weather in Tarma, Junín, Perú'}, 'id': 'call_uZ0LXiJ9S72h7QL45f2xAdNL', 'type': 'tool_call'}])]}\n",
            "\n",
            "---\n",
            "\n",
            "Output from node 'action':\n",
            "---\n",
            "{'messages': [ToolMessage(content='[{\\'url\\': \\'https://www.weatherapi.com/\\', \\'content\\': \"{\\'location\\': {\\'name\\': \\'Tarma\\', \\'region\\': \\'Junin\\', \\'country\\': \\'Peru\\', \\'lat\\': -11.42, \\'lon\\': -75.69, \\'tz_id\\': \\'America/Lima\\', \\'localtime_epoch\\': 1722277160, \\'localtime\\': \\'2024-07-29 13:19\\'}, \\'current\\': {\\'last_updated_epoch\\': 1722276900, \\'last_updated\\': \\'2024-07-29 13:15\\', \\'temp_c\\': 12.2, \\'temp_f\\': 53.9, \\'is_day\\': 1, \\'condition\\': {\\'text\\': \\'Patchy rain nearby\\', \\'icon\\': \\'//cdn.weatherapi.com/weather/64x64/day/176.png\\', \\'code\\': 1063}, \\'wind_mph\\': 11.0, \\'wind_kph\\': 17.6, \\'wind_degree\\': 52, \\'wind_dir\\': \\'NE\\', \\'pressure_mb\\': 1018.0, \\'pressure_in\\': 30.07, \\'precip_mm\\': 0.02, \\'precip_in\\': 0.0, \\'humidity\\': 50, \\'cloud\\': 75, \\'feelslike_c\\': 10.3, \\'feelslike_f\\': 50.6, \\'windchill_c\\': 10.3, \\'windchill_f\\': 50.6, \\'heatindex_c\\': 12.2, \\'heatindex_f\\': 53.9, \\'dewpoint_c\\': 2.0, \\'dewpoint_f\\': 35.6, \\'vis_km\\': 10.0, \\'vis_miles\\': 6.0, \\'uv\\': 4.0, \\'gust_mph\\': 12.6, \\'gust_kph\\': 20.3}}\"}]', name='tavily_search_results_json', tool_call_id='call_uZ0LXiJ9S72h7QL45f2xAdNL')]}\n",
            "\n",
            "---\n",
            "\n",
            "Output from node 'agent':\n",
            "---\n",
            "{'messages': [AIMessage(content='The current weather in Tarma, Junín, Perú is as follows:\\n- Temperature: 12.2°C (53.9°F)\\n- Condition: Patchy rain nearby\\n- Wind: 17.6 km/h from the NE\\n- Pressure: 1018.0 mb\\n- Humidity: 50%\\n- Cloudiness: 75%\\n- Visibility: 10.0 km\\n- UV Index: 4.0\\n\\nFor more detailed information, you can visit [Weather API](https://www.weatherapi.com/).', response_metadata={'finish_reason': 'stop', 'model_name': 'gpt-3.5-turbo-0125'}, id='run-0240665a-9c90-4492-b8b2-4a8a1ac4f0e8-0')]}\n",
            "\n",
            "---\n",
            "\n"
          ]
        }
      ],
      "source": [
        "inputs = {\"messages\": [HumanMessage(content=\"what is the weather in Tarma, Junín, Perú?\")]}\n",
        "for output in app.stream(inputs):\n",
        "    # stream() yields dictionaries with output keyed by node name\n",
        "    for key, value in output.items():\n",
        "        print(f\"Output from node '{key}':\")\n",
        "        print(\"---\")\n",
        "        print(value)\n",
        "    print(\"\\n---\\n\")"
      ]
    },
    {
      "cell_type": "markdown",
      "id": "2a1b56c5-bd61-4192-8bdb-458a1e9f0159",
      "metadata": {
        "id": "2a1b56c5-bd61-4192-8bdb-458a1e9f0159"
      },
      "source": [
        "### Streaming LLM Tokens\n",
        "\n",
        "You can also access the LLM tokens as they are produced by each node.\n",
        "In this case only the \"agent\" node produces LLM tokens.\n",
        "In order for this to work properly, you must be using an LLM that supports streaming as well as have set it when constructing the LLM (e.g. `ChatOpenAI(model=\"gpt-3.5-turbo-1106\", streaming=True)`)\n"
      ]
    },
    {
      "cell_type": "code",
      "execution_count": 28,
      "id": "cfd140f0-a5a6-4697-8115-322242f197b5",
      "metadata": {
        "id": "cfd140f0-a5a6-4697-8115-322242f197b5"
      },
      "outputs": [],
      "source": [
        "inputs = {\"messages\": [HumanMessage(content=\"what is the weather in sf?\")]}\n",
        "\n",
        "async for output in app.astream_log(inputs, include_types=[\"llm\"]):\n",
        "    # astream_log() yields the requested logs (here LLMs) in JSONPatch format\n",
        "    for op in output.ops:\n",
        "        if op[\"path\"] == \"/streamed_output/-\":\n",
        "            # this is the output from .stream()\n",
        "            ...\n",
        "        elif op[\"path\"].startswith(\"/logs/\") and op[\"path\"].endswith(\n",
        "            \"/streamed_output/-\"\n",
        "        ):\n",
        "            # because we chose to only include LLMs, these are LLM tokens\n",
        "            print(op[\"value\"])"
      ]
    }
  ],
  "metadata": {
    "kernelspec": {
      "display_name": "Python 3 (ipykernel)",
      "language": "python",
      "name": "python3"
    },
    "language_info": {
      "codemirror_mode": {
        "name": "ipython",
        "version": 3
      },
      "file_extension": ".py",
      "mimetype": "text/x-python",
      "name": "python",
      "nbconvert_exporter": "python",
      "pygments_lexer": "ipython3",
      "version": "3.12.2"
    },
    "colab": {
      "provenance": []
    }
  },
  "nbformat": 4,
  "nbformat_minor": 5
}