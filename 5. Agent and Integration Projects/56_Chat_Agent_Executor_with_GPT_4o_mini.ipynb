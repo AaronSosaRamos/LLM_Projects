{
  "cells": [
    {
      "cell_type": "markdown",
      "id": "51466c8d-8ce4-4b3d-be4e-18fdbeda5f53",
      "metadata": {
        "id": "51466c8d-8ce4-4b3d-be4e-18fdbeda5f53"
      },
      "source": [
        "# Chat Agent Executor with GPT-4o-mini\n",
        "\n",
        "\n",
        "In this example we will build a ReAct Agent that uses tool calling and the prebuilt ToolNode with GPT-4o-mini."
      ]
    },
    {
      "cell_type": "markdown",
      "id": "7cbd446a-808f-4394-be92-d45ab818953c",
      "metadata": {
        "id": "7cbd446a-808f-4394-be92-d45ab818953c"
      },
      "source": [
        "## Setup\n",
        "\n",
        "First we need to install the packages required"
      ]
    },
    {
      "cell_type": "code",
      "execution_count": 16,
      "id": "af4ce0ba-7596-4e5f-8bf8-0b0bd6e62833",
      "metadata": {
        "colab": {
          "base_uri": "https://localhost:8080/"
        },
        "id": "af4ce0ba-7596-4e5f-8bf8-0b0bd6e62833",
        "outputId": "9f2e28d8-f9fb-4348-e63e-7c30804b51ad"
      },
      "outputs": [
        {
          "output_type": "stream",
          "name": "stdout",
          "text": [
            "\u001b[?25l   \u001b[90m━━━━━━━━━━━━━━━━━━━━━━━━━━━━━━━━━━━━━━━━\u001b[0m \u001b[32m0.0/46.7 kB\u001b[0m \u001b[31m?\u001b[0m eta \u001b[36m-:--:--\u001b[0m\r\u001b[2K   \u001b[90m━━━━━━━━━━━━━━━━━━━━━━━━━━━━━━━━━━━━━━━━\u001b[0m \u001b[32m46.7/46.7 kB\u001b[0m \u001b[31m2.4 MB/s\u001b[0m eta \u001b[36m0:00:00\u001b[0m\n",
            "\u001b[?25h\u001b[?25l   \u001b[90m━━━━━━━━━━━━━━━━━━━━━━━━━━━━━━━━━━━━━━━━\u001b[0m \u001b[32m0.0/337.0 kB\u001b[0m \u001b[31m?\u001b[0m eta \u001b[36m-:--:--\u001b[0m\r\u001b[2K   \u001b[90m━━━━━━━━━━━━━━━━━━━━━━━━━━━━━━━━━━━━━━━━\u001b[0m \u001b[32m337.0/337.0 kB\u001b[0m \u001b[31m16.0 MB/s\u001b[0m eta \u001b[36m0:00:00\u001b[0m\n",
            "\u001b[?25h"
          ]
        }
      ],
      "source": [
        "%pip install --quiet -U langchain langchain_openai  tavily-python"
      ]
    },
    {
      "cell_type": "markdown",
      "id": "0abe11f4-62ed-4dc4-8875-3db21e260d1d",
      "metadata": {
        "id": "0abe11f4-62ed-4dc4-8875-3db21e260d1d"
      },
      "source": [
        "Next, we need to set API keys for OpenAI (the LLM we will use) and Tavily (the search tool we will use)"
      ]
    },
    {
      "cell_type": "code",
      "source": [
        "!pip install -q langchain_community langgraph"
      ],
      "metadata": {
        "colab": {
          "base_uri": "https://localhost:8080/"
        },
        "id": "X7q-i2fc9g1I",
        "outputId": "16b8ef09-0563-497d-8242-13ba53cbc684"
      },
      "id": "X7q-i2fc9g1I",
      "execution_count": 2,
      "outputs": [
        {
          "output_type": "stream",
          "name": "stdout",
          "text": [
            "\u001b[?25l   \u001b[90m━━━━━━━━━━━━━━━━━━━━━━━━━━━━━━━━━━━━━━━━\u001b[0m \u001b[32m0.0/2.3 MB\u001b[0m \u001b[31m?\u001b[0m eta \u001b[36m-:--:--\u001b[0m\r\u001b[2K   \u001b[91m━━━━━━━━━━━━━━━━━━━━━━━━━━━━━━━━━━━━━━━\u001b[0m\u001b[91m╸\u001b[0m \u001b[32m2.3/2.3 MB\u001b[0m \u001b[31m101.0 MB/s\u001b[0m eta \u001b[36m0:00:01\u001b[0m\r\u001b[2K   \u001b[90m━━━━━━━━━━━━━━━━━━━━━━━━━━━━━━━━━━━━━━━━\u001b[0m \u001b[32m2.3/2.3 MB\u001b[0m \u001b[31m49.9 MB/s\u001b[0m eta \u001b[36m0:00:00\u001b[0m\n",
            "\u001b[2K   \u001b[90m━━━━━━━━━━━━━━━━━━━━━━━━━━━━━━━━━━━━━━━━\u001b[0m \u001b[32m102.6/102.6 kB\u001b[0m \u001b[31m6.8 MB/s\u001b[0m eta \u001b[36m0:00:00\u001b[0m\n",
            "\u001b[2K   \u001b[90m━━━━━━━━━━━━━━━━━━━━━━━━━━━━━━━━━━━━━━━━\u001b[0m \u001b[32m49.2/49.2 kB\u001b[0m \u001b[31m3.2 MB/s\u001b[0m eta \u001b[36m0:00:00\u001b[0m\n",
            "\u001b[?25h"
          ]
        }
      ]
    },
    {
      "cell_type": "code",
      "execution_count": 17,
      "id": "c903a1cf-2977-4e2d-ad7d-8b3946821d89",
      "metadata": {
        "id": "c903a1cf-2977-4e2d-ad7d-8b3946821d89"
      },
      "outputs": [],
      "source": [
        "from google.colab import userdata\n",
        "import os\n",
        "\n",
        "os.environ[\"OPENAI_API_KEY\"] = userdata.get('OPENAI_API_KEY')\n",
        "os.environ[\"TAVILY_API_KEY\"] = userdata.get('TAVILY_API_KEY')"
      ]
    },
    {
      "cell_type": "markdown",
      "id": "f0ed46a8-effe-4596-b0e1-a6a29ee16f5c",
      "metadata": {
        "id": "f0ed46a8-effe-4596-b0e1-a6a29ee16f5c"
      },
      "source": [
        "Optionally, we can set API key for [LangSmith tracing](https://smith.langchain.com/), which will give us best-in-class observability."
      ]
    },
    {
      "cell_type": "code",
      "execution_count": 4,
      "id": "95e25aec-7c9f-4a63-b143-225d0e9a79c3",
      "metadata": {
        "id": "95e25aec-7c9f-4a63-b143-225d0e9a79c3"
      },
      "outputs": [],
      "source": [
        "os.environ[\"LANGCHAIN_TRACING_V2\"] = \"true\"\n",
        "os.environ[\"LANGCHAIN_API_KEY\"] = userdata.get('LANGCHAIN_API_KEY')"
      ]
    },
    {
      "cell_type": "markdown",
      "id": "21ac643b-cb06-4724-a80c-2862ba4773f1",
      "metadata": {
        "id": "21ac643b-cb06-4724-a80c-2862ba4773f1"
      },
      "source": [
        "## Set up the tools\n",
        "\n",
        "We will first define the tools we want to use.\n",
        "For this simple example, we will use create a placeholder search engine.\n",
        "However, it is really easy to create your own tools - see documentation [here](https://python.langchain.com/v0.2/docs/how_to/custom_tools) on how to do that.\n",
        "\n",
        "**MODIFICATION**\n",
        "\n",
        "We don't need a ToolExecutor when using ToolNode.\n"
      ]
    },
    {
      "cell_type": "code",
      "execution_count": 18,
      "id": "d7ef57dd-5d6e-4ad3-9377-a92201c1310e",
      "metadata": {
        "id": "d7ef57dd-5d6e-4ad3-9377-a92201c1310e"
      },
      "outputs": [],
      "source": [
        "from langchain_community.tools.tavily_search import TavilySearchResults\n",
        "\n",
        "tools = [TavilySearchResults(max_results=1)]"
      ]
    },
    {
      "cell_type": "markdown",
      "id": "5497ed70-fce3-47f1-9cad-46f912bad6a5",
      "metadata": {
        "id": "5497ed70-fce3-47f1-9cad-46f912bad6a5"
      },
      "source": [
        "## Set up the model\n",
        "\n",
        "Now we need to load the chat model we want to use.\n",
        "Importantly, this should satisfy two criteria:\n",
        "\n",
        "1. It should work with messages. We will represent all agent state in the form of messages, so it needs to be able to work well with them.\n",
        "2. It should work with tool calling. This means it should be a model that implements `.bind_tools()`.\n",
        "\n",
        "Note: these model requirements are not requirements for using LangGraph - they are just requirements for this one example.\n"
      ]
    },
    {
      "cell_type": "code",
      "execution_count": 19,
      "id": "892b54b9-75f0-4804-9ed0-88b5e5532989",
      "metadata": {
        "id": "892b54b9-75f0-4804-9ed0-88b5e5532989"
      },
      "outputs": [],
      "source": [
        "from langchain_openai import ChatOpenAI\n",
        "\n",
        "model = ChatOpenAI(temperature=0, model=\"gpt-4o-mini\")"
      ]
    },
    {
      "cell_type": "markdown",
      "id": "a77995c0-bae2-4cee-a036-8688a90f05b9",
      "metadata": {
        "id": "a77995c0-bae2-4cee-a036-8688a90f05b9"
      },
      "source": [
        "\n",
        "After we've done this, we should make sure the model knows that it has these tools available to call.\n",
        "We can do this by converting the LangChain tools into the format for OpenAI function calling, and then bind them to the model class.\n"
      ]
    },
    {
      "cell_type": "code",
      "execution_count": 20,
      "id": "cd3cbae5-d92c-4559-a4aa-44721b80d107",
      "metadata": {
        "id": "cd3cbae5-d92c-4559-a4aa-44721b80d107"
      },
      "outputs": [],
      "source": [
        "model = model.bind_tools(tools)"
      ]
    },
    {
      "cell_type": "code",
      "execution_count": 21,
      "id": "ea793afa-2eab-4901-910d-6eed90cd6564",
      "metadata": {
        "id": "ea793afa-2eab-4901-910d-6eed90cd6564"
      },
      "outputs": [],
      "source": [
        "import operator\n",
        "from typing import Annotated, Sequence, TypedDict\n",
        "\n",
        "from langchain_core.messages import BaseMessage\n",
        "\n",
        "\n",
        "class AgentState(TypedDict):\n",
        "    messages: Annotated[Sequence[BaseMessage], operator.add]"
      ]
    },
    {
      "cell_type": "markdown",
      "id": "e03c5094-9297-4d19-a04e-3eedc75cefb4",
      "metadata": {
        "id": "e03c5094-9297-4d19-a04e-3eedc75cefb4"
      },
      "source": [
        "## Define the nodes\n",
        "\n",
        "We now need to define a few different nodes in our graph.\n",
        "In `langgraph`, a node can be either a function or a [runnable](https://python.langchain.com/v0.2/docs/concepts/#langchain-expression-language-lcel).\n",
        "There are two main nodes we need for this:\n",
        "\n",
        "1. The agent: responsible for deciding what (if any) actions to take.\n",
        "2. **MODIFICATION** The prebuilt ToolNode, given the list of tools. This will take tool calls from the most recent AIMessage, execute them, and return the result as ToolMessages.\n",
        "\n",
        "We will also need to define some edges.\n",
        "Some of these edges may be conditional.\n",
        "The reason they are conditional is that based on the output of a node, one of several paths may be taken.\n",
        "The path that is taken is not known until that node is run (the LLM decides).\n",
        "\n",
        "1. Conditional Edge: after the agent is called, we should either:\n",
        "   a. If the agent said to take an action, then the function to invoke tools should be called\n",
        "   b. If the agent said that it was finished, then it should finish\n",
        "2. Normal Edge: after the tools are invoked, it should always go back to the agent to decide what to do next\n",
        "\n",
        "Let's define the nodes, as well as a function to decide how what conditional edge to take.\n"
      ]
    },
    {
      "cell_type": "code",
      "execution_count": 22,
      "id": "3b541bb9-900c-40d0-964d-7b5dfee30667",
      "metadata": {
        "id": "3b541bb9-900c-40d0-964d-7b5dfee30667"
      },
      "outputs": [],
      "source": [
        "from langgraph.prebuilt import ToolNode\n",
        "\n",
        "\n",
        "# Define the function that determines whether to continue or not\n",
        "def should_continue(state):\n",
        "    messages = state[\"messages\"]\n",
        "    last_message = messages[-1]\n",
        "    # If there are no tool calls, then we finish\n",
        "    if not last_message.tool_calls:\n",
        "        return \"end\"\n",
        "    # Otherwise if there is, we continue\n",
        "    else:\n",
        "        return \"continue\"\n",
        "\n",
        "\n",
        "# Define the function that calls the model\n",
        "def call_model(state):\n",
        "    messages = state[\"messages\"]\n",
        "    response = model.invoke(messages)\n",
        "    # We return a list, because this will get added to the existing list\n",
        "    return {\"messages\": [response]}\n",
        "\n",
        "\n",
        "# Define the function to execute tools\n",
        "tool_node = ToolNode(tools)"
      ]
    },
    {
      "cell_type": "markdown",
      "id": "ffd6e892-946c-4899-8cc0-7c9291c1f73b",
      "metadata": {
        "id": "ffd6e892-946c-4899-8cc0-7c9291c1f73b"
      },
      "source": [
        "## Define the graph\n",
        "\n",
        "We can now put it all together and define the graph!"
      ]
    },
    {
      "cell_type": "code",
      "execution_count": 23,
      "id": "813ae66c-3b58-4283-a02a-36da72a2ab90",
      "metadata": {
        "id": "813ae66c-3b58-4283-a02a-36da72a2ab90"
      },
      "outputs": [],
      "source": [
        "from langgraph.graph import END, StateGraph, START\n",
        "\n",
        "# Define a new graph\n",
        "workflow = StateGraph(AgentState)\n",
        "\n",
        "# Define the two nodes we will cycle between\n",
        "workflow.add_node(\"agent\", call_model)\n",
        "workflow.add_node(\"action\", tool_node)\n",
        "\n",
        "# Set the entrypoint as `agent`\n",
        "# This means that this node is the first one called\n",
        "workflow.add_edge(START, \"agent\")\n",
        "\n",
        "# We now add a conditional edge\n",
        "workflow.add_conditional_edges(\n",
        "    # First, we define the start node. We use `agent`.\n",
        "    # This means these are the edges taken after the `agent` node is called.\n",
        "    \"agent\",\n",
        "    # Next, we pass in the function that will determine which node is called next.\n",
        "    should_continue,\n",
        "    # Finally we pass in a mapping.\n",
        "    # The keys are strings, and the values are other nodes.\n",
        "    # END is a special node marking that the graph should finish.\n",
        "    # What will happen is we will call `should_continue`, and then the output of that\n",
        "    # will be matched against the keys in this mapping.\n",
        "    # Based on which one it matches, that node will then be called.\n",
        "    {\n",
        "        # If `tools`, then we call the tool node.\n",
        "        \"continue\": \"action\",\n",
        "        # Otherwise we finish.\n",
        "        \"end\": END,\n",
        "    },\n",
        ")\n",
        "\n",
        "# We now add a normal edge from `tools` to `agent`.\n",
        "# This means that after `tools` is called, `agent` node is called next.\n",
        "workflow.add_edge(\"action\", \"agent\")\n",
        "\n",
        "# Finally, we compile it!\n",
        "# This compiles it into a LangChain Runnable,\n",
        "# meaning you can use it as you would any other runnable\n",
        "app = workflow.compile()"
      ]
    },
    {
      "cell_type": "markdown",
      "id": "547c3931-3dae-4281-ad4e-4b51305594d4",
      "metadata": {
        "id": "547c3931-3dae-4281-ad4e-4b51305594d4"
      },
      "source": [
        "## Use it!\n",
        "\n",
        "We can now use it!\n",
        "This now exposes the [same interface](https://python.langchain.com/v0.2/docs/concepts/#langchain-expression-language-lcel) as all other LangChain runnables."
      ]
    },
    {
      "cell_type": "code",
      "execution_count": 24,
      "id": "8edb04b9-40b6-46f1-a7a8-4b2d8aba7752",
      "metadata": {
        "colab": {
          "base_uri": "https://localhost:8080/"
        },
        "id": "8edb04b9-40b6-46f1-a7a8-4b2d8aba7752",
        "outputId": "6a9bf0a7-6012-4b89-c6fe-40fae49b931a"
      },
      "outputs": [
        {
          "output_type": "execute_result",
          "data": {
            "text/plain": [
              "{'messages': [HumanMessage(content='what is the weather in San Jerónimo de Tunán, Huancayo, Perú?'),\n",
              "  AIMessage(content='', additional_kwargs={'tool_calls': [{'id': 'call_GML74jOf8oVClHTn9jOyLkkz', 'function': {'arguments': '{\"query\":\"weather in San Jerónimo de Tunán, Huancayo, Perú\"}', 'name': 'tavily_search_results_json'}, 'type': 'function'}]}, response_metadata={'token_usage': {'completion_tokens': 31, 'prompt_tokens': 97, 'total_tokens': 128}, 'model_name': 'gpt-4o-mini-2024-07-18', 'system_fingerprint': 'fp_611b667b19', 'finish_reason': 'tool_calls', 'logprobs': None}, id='run-3f6af360-b50f-4fba-91cb-9e79f2bfb6e9-0', tool_calls=[{'name': 'tavily_search_results_json', 'args': {'query': 'weather in San Jerónimo de Tunán, Huancayo, Perú'}, 'id': 'call_GML74jOf8oVClHTn9jOyLkkz', 'type': 'tool_call'}], usage_metadata={'input_tokens': 97, 'output_tokens': 31, 'total_tokens': 128}),\n",
              "  ToolMessage(content='[{\"url\": \"https://www.weatherapi.com/\", \"content\": \"{\\'location\\': {\\'name\\': \\'Huancayo\\', \\'region\\': \\'Junin\\', \\'country\\': \\'Peru\\', \\'lat\\': -12.07, \\'lon\\': -75.23, \\'tz_id\\': \\'America/Lima\\', \\'localtime_epoch\\': 1721996502, \\'localtime\\': \\'2024-07-26 7:21\\'}, \\'current\\': {\\'last_updated_epoch\\': 1721996100, \\'last_updated\\': \\'2024-07-26 07:15\\', \\'temp_c\\': 6.4, \\'temp_f\\': 43.6, \\'is_day\\': 1, \\'condition\\': {\\'text\\': \\'Sunny\\', \\'icon\\': \\'//cdn.weatherapi.com/weather/64x64/day/113.png\\', \\'code\\': 1000}, \\'wind_mph\\': 2.2, \\'wind_kph\\': 3.6, \\'wind_degree\\': 89, \\'wind_dir\\': \\'E\\', \\'pressure_mb\\': 1023.0, \\'pressure_in\\': 30.22, \\'precip_mm\\': 0.0, \\'precip_in\\': 0.0, \\'humidity\\': 76, \\'cloud\\': 11, \\'feelslike_c\\': 6.5, \\'feelslike_f\\': 43.6, \\'windchill_c\\': 6.5, \\'windchill_f\\': 43.6, \\'heatindex_c\\': 6.4, \\'heatindex_f\\': 43.6, \\'dewpoint_c\\': 2.5, \\'dewpoint_f\\': 36.4, \\'vis_km\\': 10.0, \\'vis_miles\\': 6.0, \\'uv\\': 4.0, \\'gust_mph\\': 2.7, \\'gust_kph\\': 4.3}}\"}]', name='tavily_search_results_json', tool_call_id='call_GML74jOf8oVClHTn9jOyLkkz'),\n",
              "  AIMessage(content='The current weather in San Jerónimo de Tunán, Huancayo, Perú is as follows:\\n\\n- **Temperature**: 6.4°C (43.6°F)\\n- **Condition**: Sunny\\n- **Wind**: 2.2 mph (3.6 kph) from the East\\n- **Humidity**: 76%\\n- **Pressure**: 1023 mb\\n- **Visibility**: 10 km\\n\\nThe weather is clear with no precipitation expected.', response_metadata={'token_usage': {'completion_tokens': 101, 'prompt_tokens': 541, 'total_tokens': 642}, 'model_name': 'gpt-4o-mini-2024-07-18', 'system_fingerprint': 'fp_611b667b19', 'finish_reason': 'stop', 'logprobs': None}, id='run-57ff72a0-9c76-4620-8f68-647acd675c47-0', usage_metadata={'input_tokens': 541, 'output_tokens': 101, 'total_tokens': 642})]}"
            ]
          },
          "metadata": {},
          "execution_count": 24
        }
      ],
      "source": [
        "from langchain_core.messages import HumanMessage\n",
        "\n",
        "inputs = {\"messages\": [HumanMessage(content=\"what is the weather in San Jerónimo de Tunán, Huancayo, Perú?\")]}\n",
        "app.invoke(inputs)"
      ]
    },
    {
      "cell_type": "markdown",
      "id": "5a9e8155-70c5-4973-912c-dc55104b2acf",
      "metadata": {
        "id": "5a9e8155-70c5-4973-912c-dc55104b2acf"
      },
      "source": [
        "This may take a little bit - it's making a few calls behind the scenes.\n",
        "In order to start seeing some intermediate results as they happen, we can use streaming - see below for more information on that.\n",
        "\n",
        "## Streaming\n",
        "\n",
        "LangGraph has support for several different types of streaming.\n",
        "\n",
        "### Streaming Node Output\n",
        "\n",
        "One of the benefits of using LangGraph is that it is easy to stream output as it's produced by each node.\n"
      ]
    },
    {
      "cell_type": "code",
      "execution_count": 25,
      "id": "f544977e-31f7-41f0-88c4-ec9c27b8cecb",
      "metadata": {
        "colab": {
          "base_uri": "https://localhost:8080/"
        },
        "id": "f544977e-31f7-41f0-88c4-ec9c27b8cecb",
        "outputId": "4d69c813-a082-4796-bdd3-8a06de2efff5"
      },
      "outputs": [
        {
          "output_type": "stream",
          "name": "stdout",
          "text": [
            "Output from node 'agent':\n",
            "---\n",
            "{'messages': [AIMessage(content='', additional_kwargs={'tool_calls': [{'id': 'call_B1ZJQ54SEgGj3wKUgebojIRJ', 'function': {'arguments': '{\"query\":\"weather in San Jerónimo de Tunan, Huancayo, Peru\"}', 'name': 'tavily_search_results_json'}, 'type': 'function'}]}, response_metadata={'token_usage': {'completion_tokens': 31, 'prompt_tokens': 98, 'total_tokens': 129}, 'model_name': 'gpt-4o-mini-2024-07-18', 'system_fingerprint': 'fp_611b667b19', 'finish_reason': 'tool_calls', 'logprobs': None}, id='run-9f173e9c-fc7c-454f-a8f7-d876e6195ff6-0', tool_calls=[{'name': 'tavily_search_results_json', 'args': {'query': 'weather in San Jerónimo de Tunan, Huancayo, Peru'}, 'id': 'call_B1ZJQ54SEgGj3wKUgebojIRJ', 'type': 'tool_call'}], usage_metadata={'input_tokens': 98, 'output_tokens': 31, 'total_tokens': 129})]}\n",
            "\n",
            "---\n",
            "\n",
            "Output from node 'action':\n",
            "---\n",
            "{'messages': [ToolMessage(content='[{\"url\": \"https://www.weatherapi.com/\", \"content\": \"{\\'location\\': {\\'name\\': \\'San Jeronimo De Tunan\\', \\'region\\': \\'Junin\\', \\'country\\': \\'Peru\\', \\'lat\\': -11.95, \\'lon\\': -75.25, \\'tz_id\\': \\'America/Lima\\', \\'localtime_epoch\\': 1721996579, \\'localtime\\': \\'2024-07-26 7:22\\'}, \\'current\\': {\\'last_updated_epoch\\': 1721996100, \\'last_updated\\': \\'2024-07-26 07:15\\', \\'temp_c\\': 6.4, \\'temp_f\\': 43.6, \\'is_day\\': 1, \\'condition\\': {\\'text\\': \\'Sunny\\', \\'icon\\': \\'//cdn.weatherapi.com/weather/64x64/day/113.png\\', \\'code\\': 1000}, \\'wind_mph\\': 2.2, \\'wind_kph\\': 3.6, \\'wind_degree\\': 89, \\'wind_dir\\': \\'E\\', \\'pressure_mb\\': 1023.0, \\'pressure_in\\': 30.22, \\'precip_mm\\': 0.0, \\'precip_in\\': 0.0, \\'humidity\\': 76, \\'cloud\\': 11, \\'feelslike_c\\': 6.5, \\'feelslike_f\\': 43.6, \\'windchill_c\\': 6.5, \\'windchill_f\\': 43.6, \\'heatindex_c\\': 6.4, \\'heatindex_f\\': 43.6, \\'dewpoint_c\\': 2.5, \\'dewpoint_f\\': 36.4, \\'vis_km\\': 10.0, \\'vis_miles\\': 6.0, \\'uv\\': 4.0, \\'gust_mph\\': 2.7, \\'gust_kph\\': 4.3}}\"}]', name='tavily_search_results_json', tool_call_id='call_B1ZJQ54SEgGj3wKUgebojIRJ')]}\n",
            "\n",
            "---\n",
            "\n",
            "Output from node 'agent':\n",
            "---\n",
            "{'messages': [AIMessage(content='The current weather in San Jerónimo de Tunan, Huancayo, Peru is as follows:\\n\\n- **Temperature**: 6.4°C (43.6°F)\\n- **Condition**: Sunny\\n- **Wind**: 2.2 mph (3.6 kph) from the East\\n- **Humidity**: 76%\\n- **Cloud Cover**: 11%\\n- **Visibility**: 10 km\\n- **Pressure**: 1023 mb\\n\\nThe weather feels like 6.5°C (43.6°F). There is no precipitation reported. \\n\\nFor more details, you can check the weather [here](https://www.weatherapi.com/).', response_metadata={'token_usage': {'completion_tokens': 143, 'prompt_tokens': 546, 'total_tokens': 689}, 'model_name': 'gpt-4o-mini-2024-07-18', 'system_fingerprint': 'fp_611b667b19', 'finish_reason': 'stop', 'logprobs': None}, id='run-ae2b131d-8f57-42c5-b2d7-c4986dba1240-0', usage_metadata={'input_tokens': 546, 'output_tokens': 143, 'total_tokens': 689})]}\n",
            "\n",
            "---\n",
            "\n"
          ]
        }
      ],
      "source": [
        "inputs = {\"messages\": [HumanMessage(content=\"what is the weather in San Jerónimo de TUnán, Huancayo, Perú?\")]}\n",
        "for output in app.stream(inputs):\n",
        "    # stream() yields dictionaries with output keyed by node name\n",
        "    for key, value in output.items():\n",
        "        print(f\"Output from node '{key}':\")\n",
        "        print(\"---\")\n",
        "        print(value)\n",
        "    print(\"\\n---\\n\")"
      ]
    }
  ],
  "metadata": {
    "kernelspec": {
      "display_name": "Python 3 (ipykernel)",
      "language": "python",
      "name": "python3"
    },
    "language_info": {
      "codemirror_mode": {
        "name": "ipython",
        "version": 3
      },
      "file_extension": ".py",
      "mimetype": "text/x-python",
      "name": "python",
      "nbconvert_exporter": "python",
      "pygments_lexer": "ipython3",
      "version": "3.11.8"
    },
    "colab": {
      "provenance": []
    }
  },
  "nbformat": 4,
  "nbformat_minor": 5
}