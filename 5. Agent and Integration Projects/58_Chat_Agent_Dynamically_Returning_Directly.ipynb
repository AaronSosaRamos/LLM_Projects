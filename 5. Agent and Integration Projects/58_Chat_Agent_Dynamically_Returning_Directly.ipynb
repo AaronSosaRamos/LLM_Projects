{
  "cells": [
    {
      "cell_type": "markdown",
      "id": "51466c8d-8ce4-4b3d-be4e-18fdbeda5f53",
      "metadata": {
        "id": "51466c8d-8ce4-4b3d-be4e-18fdbeda5f53"
      },
      "source": [
        "# Dynamically Returning Directly\n",
        "\n",
        "In this example we will build a chat executor where the LLM can optionally decide to return the result of a tool call as the final answer. This is useful in cases where you have tools that can sometimes generate responses that are acceptable as final answers, and you want to use the LLM to determine when that is the case\n",
        "\n",
        "This examples builds off the base chat executor. It is highly recommended you learn about that executor before going through this notebook. You can find documentation for that example [here](./base.ipynb).\n",
        "\n",
        "Any modifications of that example are called below with **MODIFICATION**, so if you are looking for the differences you can just search for that.\n",
        "\n",
        "\n",
        "<div class=\"admonition tip\">\n",
        "    <p class=\"admonition-title\">Note</p>\n",
        "    <p>\n",
        "        In this how-to, we will create our agent from scratch to be transparent (but verbose). You can accomplish similar functionality using the <code>create_react_agent(model, tools=tool, interrupt_before=[\"agent\" | \"tools\"], interrupt_after=[\"agent\" | \"tools\"], checkpointer=checkpointer)</code> (<a href=\"https://langchain-ai.github.io/langgraph/reference/prebuilt/#create_react_agent\">API doc</a>) constructor. This may be more appropriate if you are used to LangChain’s <a href=\"https://python.langchain.com/v0.2/docs/how_to/agent_executor/#concepts\">AgentExecutor</a> class.\n",
        "    </p>\n",
        "</div>    "
      ]
    },
    {
      "cell_type": "markdown",
      "id": "7cbd446a-808f-4394-be92-d45ab818953c",
      "metadata": {
        "id": "7cbd446a-808f-4394-be92-d45ab818953c"
      },
      "source": [
        "## Setup\n",
        "\n",
        "First we need to install the packages required"
      ]
    },
    {
      "cell_type": "code",
      "execution_count": 1,
      "id": "af4ce0ba-7596-4e5f-8bf8-0b0bd6e62833",
      "metadata": {
        "id": "af4ce0ba-7596-4e5f-8bf8-0b0bd6e62833"
      },
      "outputs": [],
      "source": [
        "%%capture --no-stderr\n",
        "%pip install --quiet -U langgraph langchain langchain_openai tavily-python"
      ]
    },
    {
      "cell_type": "markdown",
      "id": "0abe11f4-62ed-4dc4-8875-3db21e260d1d",
      "metadata": {
        "id": "0abe11f4-62ed-4dc4-8875-3db21e260d1d"
      },
      "source": [
        "Next, we need to set API keys for OpenAI (the LLM we will use) and Tavily (the search tool we will use)"
      ]
    },
    {
      "cell_type": "code",
      "execution_count": 2,
      "id": "c903a1cf-2977-4e2d-ad7d-8b3946821d89",
      "metadata": {
        "id": "c903a1cf-2977-4e2d-ad7d-8b3946821d89"
      },
      "outputs": [],
      "source": [
        "from google.colab import userdata\n",
        "import os\n",
        "\n",
        "os.environ[\"OPENAI_API_KEY\"] = userdata.get('OPENAI_API_KEY')\n",
        "os.environ[\"TAVILY_API_KEY\"] = userdata.get('TAVILY_API_KEY')"
      ]
    },
    {
      "cell_type": "markdown",
      "id": "f0ed46a8-effe-4596-b0e1-a6a29ee16f5c",
      "metadata": {
        "id": "f0ed46a8-effe-4596-b0e1-a6a29ee16f5c"
      },
      "source": [
        "Optionally, we can set API key for [LangSmith tracing](https://smith.langchain.com/), which will give us best-in-class observability."
      ]
    },
    {
      "cell_type": "code",
      "execution_count": 3,
      "id": "95e25aec-7c9f-4a63-b143-225d0e9a79c3",
      "metadata": {
        "id": "95e25aec-7c9f-4a63-b143-225d0e9a79c3"
      },
      "outputs": [],
      "source": [
        "os.environ[\"LANGCHAIN_TRACING_V2\"] = \"true\"\n",
        "os.environ[\"LANGCHAIN_API_KEY\"] = userdata.get('LANGCHAIN_API_KEY')"
      ]
    },
    {
      "cell_type": "markdown",
      "id": "21ac643b-cb06-4724-a80c-2862ba4773f1",
      "metadata": {
        "id": "21ac643b-cb06-4724-a80c-2862ba4773f1"
      },
      "source": [
        "## Set up the tools\n",
        "\n",
        "We will first define the tools we want to use.\n",
        "For this simple example, we will use a built-in search tool via Tavily.\n",
        "However, it is really easy to create your own tools - see documentation [here](https://python.langchain.com/v0.2/docs/how_to/custom_tools) on how to do that.\n",
        "\n",
        "**MODIFICATION**\n",
        "\n",
        "We overwrite the default schema of the input tool to have an additional parameter for returning directly."
      ]
    },
    {
      "cell_type": "code",
      "execution_count": 4,
      "id": "4a1b9990-3b11-4a51-bd51-76117afd38b9",
      "metadata": {
        "id": "4a1b9990-3b11-4a51-bd51-76117afd38b9"
      },
      "outputs": [],
      "source": [
        "from langchain_core.pydantic_v1 import BaseModel, Field\n",
        "\n",
        "\n",
        "class SearchTool(BaseModel):\n",
        "    \"\"\"Look up things online, optionally returning directly\"\"\"\n",
        "\n",
        "    query: str = Field(description=\"query to look up online\")\n",
        "    return_direct: bool = Field(\n",
        "        description=\"Whether or the result of this should be returned directly to the user without you seeing what it is\",\n",
        "        default=False,\n",
        "    )"
      ]
    },
    {
      "cell_type": "code",
      "source": [
        "!pip install -q langchain_community"
      ],
      "metadata": {
        "colab": {
          "base_uri": "https://localhost:8080/"
        },
        "id": "qXgFRsTg_I8I",
        "outputId": "64f64e72-d130-442d-e310-e4fa2501426b"
      },
      "id": "qXgFRsTg_I8I",
      "execution_count": 5,
      "outputs": [
        {
          "output_type": "stream",
          "name": "stdout",
          "text": [
            "\u001b[?25l   \u001b[90m━━━━━━━━━━━━━━━━━━━━━━━━━━━━━━━━━━━━━━━━\u001b[0m \u001b[32m0.0/2.3 MB\u001b[0m \u001b[31m?\u001b[0m eta \u001b[36m-:--:--\u001b[0m\r\u001b[2K   \u001b[91m━━━━━━━━━━━━━━━━━━━━━━━━━━━━━━━━━━━━━━━\u001b[0m\u001b[91m╸\u001b[0m \u001b[32m2.3/2.3 MB\u001b[0m \u001b[31m127.3 MB/s\u001b[0m eta \u001b[36m0:00:01\u001b[0m\r\u001b[2K   \u001b[90m━━━━━━━━━━━━━━━━━━━━━━━━━━━━━━━━━━━━━━━━\u001b[0m \u001b[32m2.3/2.3 MB\u001b[0m \u001b[31m54.5 MB/s\u001b[0m eta \u001b[36m0:00:00\u001b[0m\n",
            "\u001b[?25h\u001b[?25l   \u001b[90m━━━━━━━━━━━━━━━━━━━━━━━━━━━━━━━━━━━━━━━━\u001b[0m \u001b[32m0.0/49.2 kB\u001b[0m \u001b[31m?\u001b[0m eta \u001b[36m-:--:--\u001b[0m\r\u001b[2K   \u001b[90m━━━━━━━━━━━━━━━━━━━━━━━━━━━━━━━━━━━━━━━━\u001b[0m \u001b[32m49.2/49.2 kB\u001b[0m \u001b[31m3.6 MB/s\u001b[0m eta \u001b[36m0:00:00\u001b[0m\n",
            "\u001b[?25h"
          ]
        }
      ]
    },
    {
      "cell_type": "code",
      "execution_count": 6,
      "id": "d7ef57dd-5d6e-4ad3-9377-a92201c1310e",
      "metadata": {
        "id": "d7ef57dd-5d6e-4ad3-9377-a92201c1310e"
      },
      "outputs": [],
      "source": [
        "from langchain_community.tools.tavily_search import TavilySearchResults\n",
        "\n",
        "search_tool = TavilySearchResults(max_results=1, args_schema=SearchTool)\n",
        "tools = [search_tool]"
      ]
    },
    {
      "cell_type": "markdown",
      "id": "01885785-b71a-44d1-b1d6-7b5b14d53b58",
      "metadata": {
        "id": "01885785-b71a-44d1-b1d6-7b5b14d53b58"
      },
      "source": [
        "We can now wrap these tools in a simple ToolExecutor.\n",
        "This is a real simple class that takes in a ToolInvocation and calls that tool, returning the output.\n",
        "A ToolInvocation is any class with `tool` and `tool_input` attribute.\n"
      ]
    },
    {
      "cell_type": "code",
      "execution_count": 7,
      "id": "5cf3331e-ccb3-41c8-aeb9-a840a94d41e7",
      "metadata": {
        "id": "5cf3331e-ccb3-41c8-aeb9-a840a94d41e7"
      },
      "outputs": [],
      "source": [
        "from langgraph.prebuilt import ToolExecutor\n",
        "\n",
        "tool_executor = ToolExecutor(tools)"
      ]
    },
    {
      "cell_type": "markdown",
      "id": "5497ed70-fce3-47f1-9cad-46f912bad6a5",
      "metadata": {
        "id": "5497ed70-fce3-47f1-9cad-46f912bad6a5"
      },
      "source": [
        "## Set up the model\n",
        "\n",
        "Now we need to load the chat model we want to use.\n",
        "Importantly, this should satisfy two criteria:\n",
        "\n",
        "1. It should work with messages. We will represent all agent state in the form of messages, so it needs to be able to work well with them.\n",
        "2. It should work with OpenAI function calling. This means it should either be an OpenAI model or a model that exposes a similar interface.\n",
        "\n",
        "Note: these model requirements are not requirements for using LangGraph - they are just requirements for this one example.\n"
      ]
    },
    {
      "cell_type": "code",
      "execution_count": 10,
      "id": "892b54b9-75f0-4804-9ed0-88b5e5532989",
      "metadata": {
        "id": "892b54b9-75f0-4804-9ed0-88b5e5532989"
      },
      "outputs": [],
      "source": [
        "from langchain_openai import ChatOpenAI\n",
        "\n",
        "# We will set streaming=True so that we can stream tokens\n",
        "# See the streaming section for more information on this.\n",
        "model = ChatOpenAI(model=\"gpt-4o-mini\", temperature=0, streaming=True)"
      ]
    },
    {
      "cell_type": "markdown",
      "id": "a77995c0-bae2-4cee-a036-8688a90f05b9",
      "metadata": {
        "id": "a77995c0-bae2-4cee-a036-8688a90f05b9"
      },
      "source": [
        "\n",
        "After we've done this, we should make sure the model knows that it has these tools available to call.\n",
        "We can do this by converting the LangChain tools into the format for OpenAI function calling, and then bind them to the model class.\n"
      ]
    },
    {
      "cell_type": "code",
      "execution_count": 11,
      "id": "cd3cbae5-d92c-4559-a4aa-44721b80d107",
      "metadata": {
        "id": "cd3cbae5-d92c-4559-a4aa-44721b80d107"
      },
      "outputs": [],
      "source": [
        "model = model.bind_tools(tools)"
      ]
    },
    {
      "cell_type": "markdown",
      "id": "8e8b9211-93d0-4ad5-aa7a-9c09099c53ff",
      "metadata": {
        "id": "8e8b9211-93d0-4ad5-aa7a-9c09099c53ff"
      },
      "source": [
        "## Define the agent state\n",
        "\n",
        "The main type of graph in `langgraph` is the [StateGraph](https://langchain-ai.github.io/langgraph/reference/graphs/#langgraph.graph.StateGraph).\n",
        "This graph is parameterized by a state object that it passes around to each node.\n",
        "Each node then returns operations to update that state.\n",
        "These operations can either SET specific attributes on the state (e.g. overwrite the existing values) or ADD to the existing attribute.\n",
        "Whether to set or add is denoted by annotating the state object you construct the graph with.\n",
        "\n",
        "For this example, the state we will track will just be a list of messages.\n",
        "We want each node to just add messages to that list.\n",
        "Therefore, we will use a `TypedDict` with one key (`messages`) and annotate it so that the `messages` attribute is always added to.\n"
      ]
    },
    {
      "cell_type": "code",
      "execution_count": 12,
      "id": "ea793afa-2eab-4901-910d-6eed90cd6564",
      "metadata": {
        "id": "ea793afa-2eab-4901-910d-6eed90cd6564"
      },
      "outputs": [],
      "source": [
        "import operator\n",
        "from typing import Annotated, Sequence, TypedDict\n",
        "\n",
        "from langchain_core.messages import BaseMessage\n",
        "\n",
        "\n",
        "class AgentState(TypedDict):\n",
        "    messages: Annotated[Sequence[BaseMessage], operator.add]"
      ]
    },
    {
      "cell_type": "markdown",
      "id": "e03c5094-9297-4d19-a04e-3eedc75cefb4",
      "metadata": {
        "id": "e03c5094-9297-4d19-a04e-3eedc75cefb4"
      },
      "source": [
        "## Define the nodes\n",
        "\n",
        "We now need to define a few different nodes in our graph.\n",
        "In `langgraph`, a node can be either a function or a [runnable](https://python.langchain.com/v0.2/docs/concepts/#langchain-expression-language-lcel).\n",
        "There are two main nodes we need for this:\n",
        "\n",
        "1. The agent: responsible for deciding what (if any) actions to take.\n",
        "2. A function to invoke tools: if the agent decides to take an action, this node will then execute that action.\n",
        "\n",
        "We will also need to define some edges.\n",
        "Some of these edges may be conditional.\n",
        "The reason they are conditional is that based on the output of a node, one of several paths may be taken.\n",
        "The path that is taken is not known until that node is run (the LLM decides).\n",
        "\n",
        "1. Conditional Edge: after the agent is called, we should either:\n",
        "   a. If the agent said to take an action, then the function to invoke tools should be called\n",
        "   b. If the agent said that it was finished, then it should finish\n",
        "2. Normal Edge: after the tools are invoked, it should always go back to the agent to decide what to do next\n",
        "\n",
        "Let's define the nodes, as well as a function to decide how what conditional edge to take.\n"
      ]
    },
    {
      "cell_type": "code",
      "execution_count": 13,
      "id": "03308b6b-de72-4cdc-b6c6-47e654df340e",
      "metadata": {
        "id": "03308b6b-de72-4cdc-b6c6-47e654df340e"
      },
      "outputs": [],
      "source": [
        "from langchain_core.messages import ToolMessage\n",
        "\n",
        "from langgraph.prebuilt import ToolInvocation"
      ]
    },
    {
      "cell_type": "markdown",
      "id": "50bf356c-2dbd-4f66-8fa3-133e9c2e371e",
      "metadata": {
        "id": "50bf356c-2dbd-4f66-8fa3-133e9c2e371e"
      },
      "source": [
        "**MODIFICATION**\n",
        "\n",
        "We change the `should_continue` function to check whether return_direct was set to True"
      ]
    },
    {
      "cell_type": "code",
      "execution_count": 14,
      "id": "55e088b1-f3c8-4798-9ca8-5b0be961b49a",
      "metadata": {
        "id": "55e088b1-f3c8-4798-9ca8-5b0be961b49a"
      },
      "outputs": [],
      "source": [
        "# Define the function that determines whether to continue or not\n",
        "def should_continue(state):\n",
        "    messages = state[\"messages\"]\n",
        "    last_message = messages[-1]\n",
        "    # If there is no function call, then we finish\n",
        "    if not last_message.tool_calls:\n",
        "        return \"end\"\n",
        "    # Otherwise if there is, we check if it's suppose to return direct\n",
        "    else:\n",
        "        arguments = last_message.tool_calls[0][\"args\"]\n",
        "        if arguments.get(\"return_direct\", False):\n",
        "            return \"final\"\n",
        "        else:\n",
        "            return \"continue\""
      ]
    },
    {
      "cell_type": "code",
      "execution_count": 15,
      "id": "2b45da72-1afa-4cd7-9b7f-49a7c99cdb8a",
      "metadata": {
        "id": "2b45da72-1afa-4cd7-9b7f-49a7c99cdb8a"
      },
      "outputs": [],
      "source": [
        "# Define the function that calls the model\n",
        "def call_model(state):\n",
        "    messages = state[\"messages\"]\n",
        "    response = model.invoke(messages)\n",
        "    # We return a list, because this will get added to the existing list\n",
        "    return {\"messages\": [response]}"
      ]
    },
    {
      "cell_type": "markdown",
      "id": "8535a36c-3ced-401e-98b5-ec1d1b434bbc",
      "metadata": {
        "id": "8535a36c-3ced-401e-98b5-ec1d1b434bbc"
      },
      "source": [
        "**MODIFICATION**\n",
        "\n",
        "We change the tool calling to get rid of the `return_direct` parameter (not used in the actual tool call)"
      ]
    },
    {
      "cell_type": "code",
      "execution_count": 16,
      "id": "dd876f5d-88d6-4f93-b1d0-f2f0b6f4d991",
      "metadata": {
        "id": "dd876f5d-88d6-4f93-b1d0-f2f0b6f4d991"
      },
      "outputs": [],
      "source": [
        "# Define the function to execute tools\n",
        "def call_tool(state):\n",
        "    messages = state[\"messages\"]\n",
        "    # Based on the continue condition\n",
        "    # we know the last message involves a function call\n",
        "    last_message = messages[-1]\n",
        "    # We construct an ToolInvocation from the function_call\n",
        "    tool_call = last_message.tool_calls[0]\n",
        "    tool_name = tool_call[\"name\"]\n",
        "    arguments = tool_call[\"args\"]\n",
        "    if tool_name == \"tavily_search_results_json\":\n",
        "        if \"return_direct\" in arguments:\n",
        "            del arguments[\"return_direct\"]\n",
        "    action = ToolInvocation(\n",
        "        tool=tool_name,\n",
        "        tool_input=arguments,\n",
        "    )\n",
        "    # We call the tool_executor and get back a response\n",
        "    response = tool_executor.invoke(action)\n",
        "    # We use the response to create a ToolMessage\n",
        "    tool_message = ToolMessage(\n",
        "        content=str(response), name=action.tool, tool_call_id=tool_call[\"id\"]\n",
        "    )\n",
        "    # We return a list, because this will get added to the existing list\n",
        "    return {\"messages\": [tool_message]}"
      ]
    },
    {
      "cell_type": "markdown",
      "id": "ffd6e892-946c-4899-8cc0-7c9291c1f73b",
      "metadata": {
        "id": "ffd6e892-946c-4899-8cc0-7c9291c1f73b"
      },
      "source": [
        "## Define the graph\n",
        "\n",
        "We can now put it all together and define the graph!\n",
        "\n",
        "**MODIFICATION**\n",
        "\n",
        "We add a separate node for any tool call where `return_direct=True`. The reason this is needed is that after this node we want to end, while after other tool calls we want to go back to the LLM."
      ]
    },
    {
      "cell_type": "code",
      "execution_count": 17,
      "id": "813ae66c-3b58-4283-a02a-36da72a2ab90",
      "metadata": {
        "id": "813ae66c-3b58-4283-a02a-36da72a2ab90"
      },
      "outputs": [],
      "source": [
        "from langgraph.graph import END, StateGraph, START\n",
        "\n",
        "# Define a new graph\n",
        "workflow = StateGraph(AgentState)\n",
        "\n",
        "# Define the two nodes we will cycle between\n",
        "workflow.add_node(\"agent\", call_model)\n",
        "workflow.add_node(\"action\", call_tool)\n",
        "workflow.add_node(\"final\", call_tool)\n",
        "\n",
        "# Set the entrypoint as `agent`\n",
        "# This means that this node is the first one called\n",
        "workflow.add_edge(START, \"agent\")\n",
        "\n",
        "# We now add a conditional edge\n",
        "workflow.add_conditional_edges(\n",
        "    # First, we define the start node. We use `agent`.\n",
        "    # This means these are the edges taken after the `agent` node is called.\n",
        "    \"agent\",\n",
        "    # Next, we pass in the function that will determine which node is called next.\n",
        "    should_continue,\n",
        "    # Finally we pass in a mapping.\n",
        "    # The keys are strings, and the values are other nodes.\n",
        "    # END is a special node marking that the graph should finish.\n",
        "    # What will happen is we will call `should_continue`, and then the output of that\n",
        "    # will be matched against the keys in this mapping.\n",
        "    # Based on which one it matches, that node will then be called.\n",
        "    {\n",
        "        # If `tools`, then we call the tool node.\n",
        "        \"continue\": \"action\",\n",
        "        # Final call\n",
        "        \"final\": \"final\",\n",
        "        # Otherwise we finish.\n",
        "        \"end\": END,\n",
        "    },\n",
        ")\n",
        "\n",
        "# We now add a normal edge from `tools` to `agent`.\n",
        "# This means that after `tools` is called, `agent` node is called next.\n",
        "workflow.add_edge(\"action\", \"agent\")\n",
        "workflow.add_edge(\"final\", END)\n",
        "\n",
        "# Finally, we compile it!\n",
        "# This compiles it into a LangChain Runnable,\n",
        "# meaning you can use it as you would any other runnable\n",
        "app = workflow.compile()"
      ]
    },
    {
      "cell_type": "code",
      "execution_count": 18,
      "id": "05b43439",
      "metadata": {
        "colab": {
          "base_uri": "https://localhost:8080/",
          "height": 339
        },
        "id": "05b43439",
        "outputId": "e22c17a1-486d-4e1b-afa4-50a34c8dd54c"
      },
      "outputs": [
        {
          "output_type": "display_data",
          "data": {
            "image/jpeg": "[encoded data removed]",
            "text/plain": [
              "<IPython.core.display.Image object>"
            ]
          },
          "metadata": {}
        }
      ],
      "source": [
        "from IPython.display import Image, display\n",
        "\n",
        "try:\n",
        "    display(Image(app.get_graph(xray=True).draw_mermaid_png()))\n",
        "except Exception:\n",
        "    # This requires some extra dependencies and is optional\n",
        "    pass"
      ]
    },
    {
      "cell_type": "markdown",
      "id": "547c3931-3dae-4281-ad4e-4b51305594d4",
      "metadata": {
        "id": "547c3931-3dae-4281-ad4e-4b51305594d4"
      },
      "source": [
        "## Use it!\n",
        "\n",
        "We can now use it!\n",
        "This now exposes the [same interface](https://python.langchain.com/v0.2/docs/concepts/#langchain-expression-language-lcel) as all other LangChain runnables."
      ]
    },
    {
      "cell_type": "code",
      "execution_count": 19,
      "id": "f544977e-31f7-41f0-88c4-ec9c27b8cecb",
      "metadata": {
        "colab": {
          "base_uri": "https://localhost:8080/"
        },
        "id": "f544977e-31f7-41f0-88c4-ec9c27b8cecb",
        "outputId": "05fda0b7-3cd6-4a73-b046-4c74407b8044"
      },
      "outputs": [
        {
          "output_type": "stream",
          "name": "stdout",
          "text": [
            "Output from node 'agent':\n",
            "---\n",
            "{'messages': [AIMessage(content='', additional_kwargs={'tool_calls': [{'index': 0, 'id': 'call_ICeLg8v1Y2CvqZwwwsQKiqNj', 'function': {'arguments': '{\"query\":\"weather in San Jerónimo de Tunán, Huancayo, Perú\"}', 'name': 'tavily_search_results_json'}, 'type': 'function'}]}, response_metadata={'finish_reason': 'tool_calls', 'model_name': 'gpt-4o-mini-2024-07-18', 'system_fingerprint': 'fp_0f03d4f0ee'}, id='run-622a1370-5198-442b-ac24-0bf2eb09f5b9-0', tool_calls=[{'name': 'tavily_search_results_json', 'args': {'query': 'weather in San Jerónimo de Tunán, Huancayo, Perú'}, 'id': 'call_ICeLg8v1Y2CvqZwwwsQKiqNj', 'type': 'tool_call'}])]}\n",
            "\n",
            "---\n",
            "\n",
            "Output from node 'action':\n",
            "---\n",
            "{'messages': [ToolMessage(content='[{\\'url\\': \\'https://www.weatherapi.com/\\', \\'content\\': \"{\\'location\\': {\\'name\\': \\'Huancayo\\', \\'region\\': \\'Junin\\', \\'country\\': \\'Peru\\', \\'lat\\': -12.07, \\'lon\\': -75.23, \\'tz_id\\': \\'America/Lima\\', \\'localtime_epoch\\': 1722332399, \\'localtime\\': \\'2024-07-30 4:39\\'}, \\'current\\': {\\'last_updated_epoch\\': 1722331800, \\'last_updated\\': \\'2024-07-30 04:30\\', \\'temp_c\\': 6.5, \\'temp_f\\': 43.7, \\'is_day\\': 0, \\'condition\\': {\\'text\\': \\'Patchy rain nearby\\', \\'icon\\': \\'//cdn.weatherapi.com/weather/64x64/night/176.png\\', \\'code\\': 1063}, \\'wind_mph\\': 2.2, \\'wind_kph\\': 3.6, \\'wind_degree\\': 58, \\'wind_dir\\': \\'ENE\\', \\'pressure_mb\\': 1022.0, \\'pressure_in\\': 30.18, \\'precip_mm\\': 0.04, \\'precip_in\\': 0.0, \\'humidity\\': 83, \\'cloud\\': 79, \\'feelslike_c\\': 6.4, \\'feelslike_f\\': 43.5, \\'windchill_c\\': 6.4, \\'windchill_f\\': 43.5, \\'heatindex_c\\': 6.5, \\'heatindex_f\\': 43.7, \\'dewpoint_c\\': 3.9, \\'dewpoint_f\\': 39.1, \\'vis_km\\': 10.0, \\'vis_miles\\': 6.0, \\'uv\\': 1.0, \\'gust_mph\\': 3.0, \\'gust_kph\\': 4.8}}\"}]', name='tavily_search_results_json', tool_call_id='call_ICeLg8v1Y2CvqZwwwsQKiqNj')]}\n",
            "\n",
            "---\n",
            "\n",
            "Output from node 'agent':\n",
            "---\n",
            "{'messages': [AIMessage(content=\"The current weather in San Jerónimo de Tunán, Huancayo, Perú is as follows:\\n\\n- **Temperature**: 6.5°C (43.7°F)\\n- **Condition**: Patchy rain nearby\\n- **Wind**: 2.2 mph (3.6 kph) from the ENE\\n- **Humidity**: 83%\\n- **Cloud Cover**: 79%\\n- **Visibility**: 10 km\\n\\nPlease note that this information is subject to change, and it's advisable to check a reliable weather service for the most up-to-date conditions.\", response_metadata={'finish_reason': 'stop', 'model_name': 'gpt-4o-mini-2024-07-18', 'system_fingerprint': 'fp_0f03d4f0ee'}, id='run-ceb97d06-dd44-42d2-8796-c69abe82b683-0')]}\n",
            "\n",
            "---\n",
            "\n"
          ]
        }
      ],
      "source": [
        "from langchain_core.messages import HumanMessage\n",
        "\n",
        "inputs = {\"messages\": [HumanMessage(content=\"what is the weather in San Jerónimo de Tunán, Huancayo, Perú?\")]}\n",
        "for output in app.stream(inputs):\n",
        "    # stream() yields dictionaries with output keyed by node name\n",
        "    for key, value in output.items():\n",
        "        print(f\"Output from node '{key}':\")\n",
        "        print(\"---\")\n",
        "        print(value)\n",
        "    print(\"\\n---\\n\")"
      ]
    },
    {
      "cell_type": "code",
      "execution_count": 20,
      "id": "08ae8246-11d5-40e1-8567-361e5bef8917",
      "metadata": {
        "colab": {
          "base_uri": "https://localhost:8080/"
        },
        "id": "08ae8246-11d5-40e1-8567-361e5bef8917",
        "outputId": "0e92ca55-2382-4cd9-dc2e-c82aa36227bc"
      },
      "outputs": [
        {
          "output_type": "stream",
          "name": "stdout",
          "text": [
            "Output from node 'agent':\n",
            "---\n",
            "{'messages': [AIMessage(content='', additional_kwargs={'tool_calls': [{'index': 0, 'id': 'call_FzIHZp5KtKamUlAHrFIfaNqi', 'function': {'arguments': '{\"query\":\"weather in San Jerónimo de Tunán, Huancayo, Perú\",\"return_direct\":true}', 'name': 'tavily_search_results_json'}, 'type': 'function'}]}, response_metadata={'finish_reason': 'tool_calls', 'model_name': 'gpt-4o-mini-2024-07-18', 'system_fingerprint': 'fp_0f03d4f0ee'}, id='run-455251c2-0e4d-4e3a-aee5-3a37c95a81f5-0', tool_calls=[{'name': 'tavily_search_results_json', 'args': {'query': 'weather in San Jerónimo de Tunán, Huancayo, Perú', 'return_direct': True}, 'id': 'call_FzIHZp5KtKamUlAHrFIfaNqi', 'type': 'tool_call'}])]}\n",
            "\n",
            "---\n",
            "\n",
            "Output from node 'final':\n",
            "---\n",
            "{'messages': [ToolMessage(content='[{\\'url\\': \\'https://www.weatherapi.com/\\', \\'content\\': \"{\\'location\\': {\\'name\\': \\'Huancayo\\', \\'region\\': \\'Junin\\', \\'country\\': \\'Peru\\', \\'lat\\': -12.07, \\'lon\\': -75.23, \\'tz_id\\': \\'America/Lima\\', \\'localtime_epoch\\': 1722332445, \\'localtime\\': \\'2024-07-30 4:40\\'}, \\'current\\': {\\'last_updated_epoch\\': 1722331800, \\'last_updated\\': \\'2024-07-30 04:30\\', \\'temp_c\\': 6.5, \\'temp_f\\': 43.7, \\'is_day\\': 0, \\'condition\\': {\\'text\\': \\'Patchy rain nearby\\', \\'icon\\': \\'//cdn.weatherapi.com/weather/64x64/night/176.png\\', \\'code\\': 1063}, \\'wind_mph\\': 2.2, \\'wind_kph\\': 3.6, \\'wind_degree\\': 58, \\'wind_dir\\': \\'ENE\\', \\'pressure_mb\\': 1022.0, \\'pressure_in\\': 30.18, \\'precip_mm\\': 0.04, \\'precip_in\\': 0.0, \\'humidity\\': 83, \\'cloud\\': 79, \\'feelslike_c\\': 6.4, \\'feelslike_f\\': 43.5, \\'windchill_c\\': 6.4, \\'windchill_f\\': 43.5, \\'heatindex_c\\': 6.5, \\'heatindex_f\\': 43.7, \\'dewpoint_c\\': 3.9, \\'dewpoint_f\\': 39.1, \\'vis_km\\': 10.0, \\'vis_miles\\': 6.0, \\'uv\\': 1.0, \\'gust_mph\\': 3.0, \\'gust_kph\\': 4.8}}\"}]', name='tavily_search_results_json', tool_call_id='call_FzIHZp5KtKamUlAHrFIfaNqi')]}\n",
            "\n",
            "---\n",
            "\n"
          ]
        }
      ],
      "source": [
        "from langchain_core.messages import HumanMessage\n",
        "\n",
        "inputs = {\n",
        "    \"messages\": [\n",
        "        HumanMessage(\n",
        "            content=\"what is the weather in San Jerónimo de Tunán, Huancayo, Perú? return this result directly by setting return_direct = True\"\n",
        "        )\n",
        "    ]\n",
        "}\n",
        "for output in app.stream(inputs):\n",
        "    # stream() yields dictionaries with output keyed by node name\n",
        "    for key, value in output.items():\n",
        "        print(f\"Output from node '{key}':\")\n",
        "        print(\"---\")\n",
        "        print(value)\n",
        "    print(\"\\n---\\n\")"
      ]
    }
  ],
  "metadata": {
    "kernelspec": {
      "display_name": "Python 3 (ipykernel)",
      "language": "python",
      "name": "python3"
    },
    "language_info": {
      "codemirror_mode": {
        "name": "ipython",
        "version": 3
      },
      "file_extension": ".py",
      "mimetype": "text/x-python",
      "name": "python",
      "nbconvert_exporter": "python",
      "pygments_lexer": "ipython3",
      "version": "3.12.2"
    },
    "colab": {
      "provenance": []
    }
  },
  "nbformat": 4,
  "nbformat_minor": 5
}