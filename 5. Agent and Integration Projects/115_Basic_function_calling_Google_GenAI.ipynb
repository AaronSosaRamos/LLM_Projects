{
  "nbformat": 4,
  "nbformat_minor": 0,
  "metadata": {
    "colab": {
      "provenance": []
    },
    "kernelspec": {
      "name": "python3",
      "display_name": "Python 3"
    },
    "language_info": {
      "name": "python"
    }
  },
  "cells": [
    {
      "cell_type": "code",
      "source": [
        "!pip install -q google-generativeai google-ai-generativelanguage"
      ],
      "metadata": {
        "id": "sZs-yFiLjGPW"
      },
      "execution_count": null,
      "outputs": []
    },
    {
      "cell_type": "code",
      "execution_count": null,
      "metadata": {
        "id": "HDU6QPOHfie2"
      },
      "outputs": [],
      "source": [
        "import os\n",
        "import google.generativeai as genai\n",
        "from google.ai.generativelanguage_v1beta.types import content\n",
        "from google.colab import userdata\n",
        "\n",
        "genai.configure(api_key=userdata.get('GOOGLE_API_KEY'))\n",
        "\n",
        "def multiply_two_values(value1: int, value2: int):\n",
        "    \"\"\"returns value1 * value2.\"\"\"\n",
        "    return value1*value2\n",
        "\n",
        "tools = [multiply_two_values]\n",
        "\n",
        "model = genai.GenerativeModel(model_name='gemini-2.0-flash-exp',\n",
        "                              tools=tools)"
      ]
    },
    {
      "cell_type": "code",
      "source": [
        "model._tools.to_proto()"
      ],
      "metadata": {
        "colab": {
          "base_uri": "https://localhost:8080/"
        },
        "id": "CHGNs_iLo5Ig",
        "outputId": "e2a755f7-1748-4f72-ba30-bc8caf5bd62d"
      },
      "execution_count": null,
      "outputs": [
        {
          "output_type": "execute_result",
          "data": {
            "text/plain": [
              "[function_declarations {\n",
              "   name: \"multiply_two_values\"\n",
              "   description: \"returns value1 * value2.\"\n",
              "   parameters {\n",
              "     type_: OBJECT\n",
              "     properties {\n",
              "       key: \"value2\"\n",
              "       value {\n",
              "         type_: INTEGER\n",
              "       }\n",
              "     }\n",
              "     properties {\n",
              "       key: \"value1\"\n",
              "       value {\n",
              "         type_: INTEGER\n",
              "       }\n",
              "     }\n",
              "     required: \"value1\"\n",
              "     required: \"value2\"\n",
              "   }\n",
              " }]"
            ]
          },
          "metadata": {},
          "execution_count": 15
        }
      ]
    },
    {
      "cell_type": "code",
      "source": [
        "chat = model.start_chat()\n",
        "response = chat.send_message('Can you multiply 2414141 x 4125121')"
      ],
      "metadata": {
        "id": "miePX4nRpRWp"
      },
      "execution_count": null,
      "outputs": []
    },
    {
      "cell_type": "code",
      "source": [
        "response"
      ],
      "metadata": {
        "colab": {
          "base_uri": "https://localhost:8080/"
        },
        "id": "z2NchzEmprnM",
        "outputId": "5ef350f8-e724-41d3-d279-baf2b72fbec7"
      },
      "execution_count": null,
      "outputs": [
        {
          "output_type": "execute_result",
          "data": {
            "text/plain": [
              "response:\n",
              "GenerateContentResponse(\n",
              "    done=True,\n",
              "    iterator=None,\n",
              "    result=protos.GenerateContentResponse({\n",
              "      \"candidates\": [\n",
              "        {\n",
              "          \"content\": {\n",
              "            \"parts\": [\n",
              "              {\n",
              "                \"function_call\": {\n",
              "                  \"name\": \"multiply_two_values\",\n",
              "                  \"args\": {\n",
              "                    \"value1\": 2414141.0,\n",
              "                    \"value2\": 4125121.0\n",
              "                  }\n",
              "                }\n",
              "              }\n",
              "            ],\n",
              "            \"role\": \"model\"\n",
              "          },\n",
              "          \"finish_reason\": \"STOP\",\n",
              "          \"safety_ratings\": [\n",
              "            {\n",
              "              \"category\": \"HARM_CATEGORY_HATE_SPEECH\",\n",
              "              \"probability\": \"NEGLIGIBLE\"\n",
              "            },\n",
              "            {\n",
              "              \"category\": \"HARM_CATEGORY_DANGEROUS_CONTENT\",\n",
              "              \"probability\": \"NEGLIGIBLE\"\n",
              "            },\n",
              "            {\n",
              "              \"category\": \"HARM_CATEGORY_HARASSMENT\",\n",
              "              \"probability\": \"NEGLIGIBLE\"\n",
              "            },\n",
              "            {\n",
              "              \"category\": \"HARM_CATEGORY_SEXUALLY_EXPLICIT\",\n",
              "              \"probability\": \"NEGLIGIBLE\"\n",
              "            }\n",
              "          ],\n",
              "          \"avg_logprobs\": -3.9072644237118466e-06\n",
              "        }\n",
              "      ],\n",
              "      \"usage_metadata\": {\n",
              "        \"prompt_token_count\": 77,\n",
              "        \"candidates_token_count\": 9,\n",
              "        \"total_token_count\": 86\n",
              "      }\n",
              "    }),\n",
              ")"
            ]
          },
          "metadata": {},
          "execution_count": 21
        }
      ]
    },
    {
      "cell_type": "code",
      "source": [
        "for part in response.parts:\n",
        "    if fn := part.function_call:\n",
        "        args = \", \".join(f\"{key}={val}\" for key, val in fn.args.items())\n",
        "        print(f\"{fn.name}({args})\")"
      ],
      "metadata": {
        "colab": {
          "base_uri": "https://localhost:8080/"
        },
        "id": "7YtyToFhp2sr",
        "outputId": "183e5fdb-b811-4bc4-9b7b-3262e98c7638"
      },
      "execution_count": null,
      "outputs": [
        {
          "output_type": "stream",
          "name": "stdout",
          "text": [
            "multiply_two_values(value1=2414141.0, value2=4125121.0)\n"
          ]
        }
      ]
    },
    {
      "cell_type": "code",
      "source": [
        "fc = response.candidates[0].content.parts[0].function_call"
      ],
      "metadata": {
        "id": "QnfthSNuqnFZ"
      },
      "execution_count": null,
      "outputs": []
    },
    {
      "cell_type": "code",
      "source": [
        "fc"
      ],
      "metadata": {
        "colab": {
          "base_uri": "https://localhost:8080/"
        },
        "id": "qbJGtlG6sAz2",
        "outputId": "deff464f-5aee-47dc-c241-f7e300a8daa3"
      },
      "execution_count": null,
      "outputs": [
        {
          "output_type": "execute_result",
          "data": {
            "text/plain": [
              "name: \"multiply_two_values\"\n",
              "args {\n",
              "  fields {\n",
              "    key: \"value2\"\n",
              "    value {\n",
              "      number_value: 4125121\n",
              "    }\n",
              "  }\n",
              "  fields {\n",
              "    key: \"value1\"\n",
              "    value {\n",
              "      number_value: 2414141\n",
              "    }\n",
              "  }\n",
              "}"
            ]
          },
          "metadata": {},
          "execution_count": 24
        }
      ]
    },
    {
      "cell_type": "code",
      "source": [
        "result = multiply_two_values(fc.args['value1'], fc.args['value2'])"
      ],
      "metadata": {
        "id": "sIpVd2oUsFci"
      },
      "execution_count": null,
      "outputs": []
    },
    {
      "cell_type": "code",
      "source": [
        "response = chat.send_message(\n",
        "    genai.protos.Content(\n",
        "    parts=[genai.protos.Part(\n",
        "        function_response = genai.protos.FunctionResponse(\n",
        "          name='multiply_two_values',\n",
        "          response={'result': result}))]))"
      ],
      "metadata": {
        "id": "r7wXC75FsV26"
      },
      "execution_count": null,
      "outputs": []
    },
    {
      "cell_type": "code",
      "source": [
        "response.text.strip()"
      ],
      "metadata": {
        "colab": {
          "base_uri": "https://localhost:8080/",
          "height": 36
        },
        "id": "jcSB-b8Qsde5",
        "outputId": "ee1f4553-a32f-4cf1-ae20-af701baa33ec"
      },
      "execution_count": null,
      "outputs": [
        {
          "output_type": "execute_result",
          "data": {
            "text/plain": [
              "'9958623736061'"
            ],
            "application/vnd.google.colaboratory.intrinsic+json": {
              "type": "string"
            }
          },
          "metadata": {},
          "execution_count": 30
        }
      ]
    }
  ]
}