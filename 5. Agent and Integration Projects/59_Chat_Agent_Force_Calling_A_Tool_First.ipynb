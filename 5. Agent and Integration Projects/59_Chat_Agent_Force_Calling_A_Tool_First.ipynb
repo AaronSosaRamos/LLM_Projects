{
  "cells": [
    {
      "cell_type": "markdown",
      "id": "51466c8d-8ce4-4b3d-be4e-18fdbeda5f53",
      "metadata": {
        "id": "51466c8d-8ce4-4b3d-be4e-18fdbeda5f53"
      },
      "source": [
        "# Force Calling a Tool First\n",
        "\n",
        "In this example we will build a chat executor that always calls a certain tool first. In this example, we will create an agent with a search tool. However, at the start we will force the agent to call the search tool (and then let it do whatever it wants after). This is useful when you want to force agents to call particular tools, but still want flexibility of what happens after that.\n",
        "\n",
        "This examples builds off the base chat executor. It is highly recommended you learn about that executor before going through this notebook. You can find documentation for that example [here](./base.ipynb).\n",
        "\n",
        "Any modifications of that example are called below with **MODIFICATION**, so if you are looking for the differences you can just search for that."
      ]
    },
    {
      "cell_type": "markdown",
      "id": "7cbd446a-808f-4394-be92-d45ab818953c",
      "metadata": {
        "id": "7cbd446a-808f-4394-be92-d45ab818953c"
      },
      "source": [
        "## Setup\n",
        "\n",
        "First we need to install the packages required"
      ]
    },
    {
      "cell_type": "code",
      "execution_count": 1,
      "id": "af4ce0ba-7596-4e5f-8bf8-0b0bd6e62833",
      "metadata": {
        "id": "af4ce0ba-7596-4e5f-8bf8-0b0bd6e62833"
      },
      "outputs": [],
      "source": [
        "%%capture --no-stderr\n",
        "%pip install --quiet -U langgraph langchain_openai tavily-python"
      ]
    },
    {
      "cell_type": "markdown",
      "id": "0abe11f4-62ed-4dc4-8875-3db21e260d1d",
      "metadata": {
        "id": "0abe11f4-62ed-4dc4-8875-3db21e260d1d"
      },
      "source": [
        "Next, we need to set API keys for OpenAI (the LLM we will use) and Tavily (the search tool we will use)"
      ]
    },
    {
      "cell_type": "code",
      "execution_count": 2,
      "id": "c903a1cf-2977-4e2d-ad7d-8b3946821d89",
      "metadata": {
        "colab": {
          "base_uri": "https://localhost:8080/"
        },
        "id": "c903a1cf-2977-4e2d-ad7d-8b3946821d89",
        "outputId": "473999a9-a4ac-47a0-93c9-f936d9f2f8f1"
      },
      "outputs": [
        {
          "name": "stdout",
          "output_type": "stream",
          "text": [
            "OPENAI_API_KEY: ··········\n"
          ]
        }
      ],
      "source": [
        "import getpass\n",
        "import os\n",
        "\n",
        "\n",
        "def _set_env(var: str):\n",
        "    if not os.environ.get(var):\n",
        "        os.environ[var] = getpass.getpass(f\"{var}: \")\n",
        "\n",
        "\n",
        "_set_env(\"OPENAI_API_KEY\")"
      ]
    },
    {
      "cell_type": "markdown",
      "id": "f0ed46a8-effe-4596-b0e1-a6a29ee16f5c",
      "metadata": {
        "id": "f0ed46a8-effe-4596-b0e1-a6a29ee16f5c"
      },
      "source": [
        "Optionally, we can set API key for [LangSmith tracing](https://smith.langchain.com/), which will give us best-in-class observability."
      ]
    },
    {
      "cell_type": "code",
      "execution_count": 3,
      "id": "95e25aec-7c9f-4a63-b143-225d0e9a79c3",
      "metadata": {
        "colab": {
          "base_uri": "https://localhost:8080/"
        },
        "id": "95e25aec-7c9f-4a63-b143-225d0e9a79c3",
        "outputId": "138c0c4e-05a9-408d-e57c-030ab5d406c4"
      },
      "outputs": [
        {
          "name": "stdout",
          "output_type": "stream",
          "text": [
            "LANGCHAIN_API_KEY: ··········\n"
          ]
        }
      ],
      "source": [
        "os.environ[\"LANGCHAIN_TRACING_V2\"] = \"true\"\n",
        "_set_env(\"LANGCHAIN_API_KEY\")"
      ]
    },
    {
      "cell_type": "markdown",
      "id": "21ac643b-cb06-4724-a80c-2862ba4773f1",
      "metadata": {
        "id": "21ac643b-cb06-4724-a80c-2862ba4773f1"
      },
      "source": [
        "## Set up the tools\n",
        "\n",
        "We will first define the tools we want to use.\n",
        "For this simple example, we will use create a placeholder search engine.\n",
        "However, it is really easy to create your own tools - see documentation [here](https://python.langchain.com/v0.2/docs/how_to/custom_tools) on how to do that.\n"
      ]
    },
    {
      "cell_type": "code",
      "execution_count": 4,
      "id": "d7ef57dd-5d6e-4ad3-9377-a92201c1310e",
      "metadata": {
        "id": "d7ef57dd-5d6e-4ad3-9377-a92201c1310e"
      },
      "outputs": [],
      "source": [
        "from langchain_core.tools import tool\n",
        "\n",
        "\n",
        "@tool\n",
        "def search(query: str):\n",
        "    \"\"\"Call to surf the web.\"\"\"\n",
        "    # This is a placeholder, but don't tell the LLM that...\n",
        "    return [\"The answer to your question lies within.\"]\n",
        "\n",
        "\n",
        "tools = [search]"
      ]
    },
    {
      "cell_type": "markdown",
      "id": "01885785-b71a-44d1-b1d6-7b5b14d53b58",
      "metadata": {
        "id": "01885785-b71a-44d1-b1d6-7b5b14d53b58"
      },
      "source": [
        "We can now wrap these tools in a simple ToolExecutor.\n",
        "This is a real simple class that takes in a ToolInvocation and calls that tool, returning the output.\n",
        "A ToolInvocation is any class with `tool` and `tool_input` attribute.\n"
      ]
    },
    {
      "cell_type": "code",
      "execution_count": 5,
      "id": "5cf3331e-ccb3-41c8-aeb9-a840a94d41e7",
      "metadata": {
        "id": "5cf3331e-ccb3-41c8-aeb9-a840a94d41e7"
      },
      "outputs": [],
      "source": [
        "from langgraph.prebuilt import ToolExecutor\n",
        "\n",
        "tool_executor = ToolExecutor(tools)"
      ]
    },
    {
      "cell_type": "markdown",
      "id": "5497ed70-fce3-47f1-9cad-46f912bad6a5",
      "metadata": {
        "id": "5497ed70-fce3-47f1-9cad-46f912bad6a5"
      },
      "source": [
        "## Set up the model\n",
        "\n",
        "Now we need to load the chat model we want to use.\n",
        "Importantly, this should satisfy two criteria:\n",
        "\n",
        "1. It should work with messages. We will represent all agent state in the form of messages, so it needs to be able to work well with them.\n",
        "2. The model should support tool calling. Model providers like Anthropic, Google, OpenAI, Cohere, Fireworks, Mistral, and Groq should all work. You can reference [this list](https://python.langchain.com/docs/integrations/chat/) for more up-to-date compatibility.\n",
        "\n",
        "Note: these model requirements are not requirements for using LangGraph - they are just requirements for this one example.\n"
      ]
    },
    {
      "cell_type": "code",
      "execution_count": 6,
      "id": "892b54b9-75f0-4804-9ed0-88b5e5532989",
      "metadata": {
        "id": "892b54b9-75f0-4804-9ed0-88b5e5532989"
      },
      "outputs": [],
      "source": [
        "from langchain_openai import ChatOpenAI\n",
        "\n",
        "model = ChatOpenAI(temperature=0)"
      ]
    },
    {
      "cell_type": "markdown",
      "id": "a77995c0-bae2-4cee-a036-8688a90f05b9",
      "metadata": {
        "id": "a77995c0-bae2-4cee-a036-8688a90f05b9"
      },
      "source": [
        "\n",
        "After we've done this, we should make sure the model knows that it has these tools available to call.\n",
        "We can do this by converting the LangChain tools into the format for OpenAI function calling, and then bind them to the model class.\n"
      ]
    },
    {
      "cell_type": "code",
      "execution_count": 7,
      "id": "cd3cbae5-d92c-4559-a4aa-44721b80d107",
      "metadata": {
        "id": "cd3cbae5-d92c-4559-a4aa-44721b80d107"
      },
      "outputs": [],
      "source": [
        "model = model.bind_tools(tools)"
      ]
    },
    {
      "cell_type": "markdown",
      "id": "8e8b9211-93d0-4ad5-aa7a-9c09099c53ff",
      "metadata": {
        "id": "8e8b9211-93d0-4ad5-aa7a-9c09099c53ff"
      },
      "source": [
        "## Define the agent state\n",
        "\n",
        "The main type of graph in `langgraph` is the `StatefulGraph`.\n",
        "This graph is parameterized by a state object that it passes around to each node.\n",
        "Each node then returns operations to update that state.\n",
        "These operations can either SET specific attributes on the state (e.g. overwrite the existing values) or ADD to the existing attribute.\n",
        "Whether to set or add is denoted by annotating the state object you construct the graph with.\n",
        "\n",
        "For this example, the state we will track will just be a list of messages.\n",
        "We want each node to just add messages to that list.\n",
        "Therefore, we will use a `TypedDict` with one key (`messages`) and annotate it so that the `messages` attribute is always added to.\n"
      ]
    },
    {
      "cell_type": "code",
      "execution_count": 8,
      "id": "ea793afa-2eab-4901-910d-6eed90cd6564",
      "metadata": {
        "id": "ea793afa-2eab-4901-910d-6eed90cd6564"
      },
      "outputs": [],
      "source": [
        "import operator\n",
        "from typing import Annotated, Sequence, TypedDict\n",
        "\n",
        "from langchain_core.messages import BaseMessage\n",
        "\n",
        "\n",
        "class AgentState(TypedDict):\n",
        "    messages: Annotated[Sequence[BaseMessage], operator.add]"
      ]
    },
    {
      "cell_type": "markdown",
      "id": "e03c5094-9297-4d19-a04e-3eedc75cefb4",
      "metadata": {
        "id": "e03c5094-9297-4d19-a04e-3eedc75cefb4"
      },
      "source": [
        "## Define the nodes\n",
        "\n",
        "We now need to define a few different nodes in our graph.\n",
        "In `langgraph`, a node can be either a function or a [runnable](https://python.langchain.com/v0.2/docs/concepts/#langchain-expression-language-lcel).\n",
        "There are two main nodes we need for this:\n",
        "\n",
        "1. The agent: responsible for deciding what (if any) actions to take.\n",
        "2. A function to invoke tools: if the agent decides to take an action, this node will then execute that action.\n",
        "\n",
        "We will also need to define some edges.\n",
        "Some of these edges may be conditional.\n",
        "The reason they are conditional is that based on the output of a node, one of several paths may be taken.\n",
        "The path that is taken is not known until that node is run (the LLM decides).\n",
        "\n",
        "1. Conditional Edge: after the agent is called, we should either:\n",
        "   a. If the agent said to take an action, then the function to invoke tools should be called\n",
        "   b. If the agent said that it was finished, then it should finish\n",
        "2. Normal Edge: after the tools are invoked, it should always go back to the agent to decide what to do next\n",
        "\n",
        "Let's define the nodes, as well as a function to decide how what conditional edge to take.\n"
      ]
    },
    {
      "cell_type": "code",
      "execution_count": 9,
      "id": "3b541bb9-900c-40d0-964d-7b5dfee30667",
      "metadata": {
        "id": "3b541bb9-900c-40d0-964d-7b5dfee30667"
      },
      "outputs": [],
      "source": [
        "from langchain_core.messages import ToolMessage\n",
        "\n",
        "from langgraph.prebuilt import ToolInvocation\n",
        "\n",
        "\n",
        "# Define the function that determines whether to continue or not\n",
        "def should_continue(state: AgentState):\n",
        "    messages = state[\"messages\"]\n",
        "    last_message = messages[-1]\n",
        "    # If there is no function call, then we finish\n",
        "    if not last_message.tool_calls:\n",
        "        return \"end\"\n",
        "    # Otherwise if there is, we continue\n",
        "    else:\n",
        "        return \"continue\"\n",
        "\n",
        "\n",
        "# Define the function that calls the model\n",
        "def call_model(state: AgentState):\n",
        "    messages = state[\"messages\"]\n",
        "    response = model.invoke(messages)\n",
        "    # We return a list, because this will get added to the existing list\n",
        "    return {\"messages\": [response]}\n",
        "\n",
        "\n",
        "# Define the function to execute tools\n",
        "# We recommend you use ToolNode\n",
        "# for this, but we are showing the\n",
        "# manual way here for clarity\n",
        "def call_tool(state: AgentState):\n",
        "    messages = state[\"messages\"]\n",
        "    # Based on the continue condition\n",
        "    # we know the last message involves a function call\n",
        "    last_message = messages[-1]\n",
        "    # We construct an ToolInvocation for each tool call\n",
        "    tool_invocations = []\n",
        "    for tool_call in last_message.tool_calls:\n",
        "        action = ToolInvocation(\n",
        "            tool=tool_call[\"name\"],\n",
        "            tool_input=tool_call[\"args\"],\n",
        "        )\n",
        "        tool_invocations.append(action)\n",
        "\n",
        "    action = ToolInvocation(\n",
        "        tool=tool_call[\"name\"],\n",
        "        tool_input=tool_call[\"args\"],\n",
        "    )\n",
        "    # We call the tool_executor and get back a response\n",
        "    responses = tool_executor.batch(tool_invocations, return_exceptions=True)\n",
        "    # We use the response to create tool messages\n",
        "    tool_messages = [\n",
        "        ToolMessage(\n",
        "            content=str(response),\n",
        "            name=tc[\"name\"],\n",
        "            tool_call_id=tc[\"id\"],\n",
        "        )\n",
        "        for tc, response in zip(last_message.tool_calls, responses)\n",
        "    ]\n",
        "\n",
        "    # We return a list, because this will get added to the existing list\n",
        "    return {\"messages\": tool_messages}"
      ]
    },
    {
      "cell_type": "markdown",
      "id": "7c3e0ac2-0c89-4751-bc2c-f644654841d1",
      "metadata": {
        "id": "7c3e0ac2-0c89-4751-bc2c-f644654841d1"
      },
      "source": [
        "**MODIFICATION**\n",
        "\n",
        "Here we create a node that returns an AIMessage with a tool call - we will use this at the start to force it call a tool"
      ]
    },
    {
      "cell_type": "code",
      "execution_count": 10,
      "id": "1bfd2b22-292a-4f4d-91a0-46bb704f5e38",
      "metadata": {
        "id": "1bfd2b22-292a-4f4d-91a0-46bb704f5e38"
      },
      "outputs": [],
      "source": [
        "# This is the new first - the first call of the model we want to explicitly hard-code some action\n",
        "from langchain_core.messages import AIMessage\n",
        "\n",
        "\n",
        "def first_model(state: AgentState):\n",
        "    human_input = state[\"messages\"][-1].content\n",
        "    return {\n",
        "        \"messages\": [\n",
        "            AIMessage(\n",
        "                content=\"\",\n",
        "                tool_calls=[\n",
        "                    {\n",
        "                        \"name\": \"tavily_search_results_json\",\n",
        "                        \"args\": {\n",
        "                            \"query\": human_input,\n",
        "                        },\n",
        "                        \"id\": \"tool_abcd123\",\n",
        "                    }\n",
        "                ],\n",
        "            )\n",
        "        ]\n",
        "    }"
      ]
    },
    {
      "cell_type": "markdown",
      "id": "ffd6e892-946c-4899-8cc0-7c9291c1f73b",
      "metadata": {
        "id": "ffd6e892-946c-4899-8cc0-7c9291c1f73b"
      },
      "source": [
        "## Define the graph\n",
        "\n",
        "We can now put it all together and define the graph!\n",
        "\n",
        "**MODIFICATION**\n",
        "\n",
        "We will define a `first_agent` node which we will set as the entrypoint."
      ]
    },
    {
      "cell_type": "code",
      "execution_count": 11,
      "id": "813ae66c-3b58-4283-a02a-36da72a2ab90",
      "metadata": {
        "id": "813ae66c-3b58-4283-a02a-36da72a2ab90"
      },
      "outputs": [],
      "source": [
        "from langgraph.graph import END, StateGraph, START\n",
        "\n",
        "# Define a new graph\n",
        "workflow = StateGraph(AgentState)\n",
        "\n",
        "# Define the new entrypoint\n",
        "workflow.add_node(\"first_agent\", first_model)\n",
        "\n",
        "# Define the two nodes we will cycle between\n",
        "workflow.add_node(\"agent\", call_model)\n",
        "workflow.add_node(\"action\", call_tool)\n",
        "\n",
        "# Set the entrypoint as `agent`\n",
        "# This means that this node is the first one called\n",
        "workflow.add_edge(START, \"first_agent\")\n",
        "\n",
        "# We now add a conditional edge\n",
        "workflow.add_conditional_edges(\n",
        "    # First, we define the start node. We use `agent`.\n",
        "    # This means these are the edges taken after the `agent` node is called.\n",
        "    \"agent\",\n",
        "    # Next, we pass in the function that will determine which node is called next.\n",
        "    should_continue,\n",
        "    # Finally we pass in a mapping.\n",
        "    # The keys are strings, and the values are other nodes.\n",
        "    # END is a special node marking that the graph should finish.\n",
        "    # What will happen is we will call `should_continue`, and then the output of that\n",
        "    # will be matched against the keys in this mapping.\n",
        "    # Based on which one it matches, that node will then be called.\n",
        "    {\n",
        "        # If `tools`, then we call the tool node.\n",
        "        \"continue\": \"action\",\n",
        "        # Otherwise we finish.\n",
        "        \"end\": END,\n",
        "    },\n",
        ")\n",
        "\n",
        "# We now add a normal edge from `tools` to `agent`.\n",
        "# This means that after `tools` is called, `agent` node is called next.\n",
        "workflow.add_edge(\"action\", \"agent\")\n",
        "\n",
        "# After we call the first agent, we know we want to go to action\n",
        "workflow.add_edge(\"first_agent\", \"action\")\n",
        "\n",
        "# Finally, we compile it!\n",
        "# This compiles it into a LangChain Runnable,\n",
        "# meaning you can use it as you would any other runnable\n",
        "app = workflow.compile()"
      ]
    },
    {
      "cell_type": "code",
      "execution_count": 12,
      "id": "a8afd6ef",
      "metadata": {
        "colab": {
          "base_uri": "https://localhost:8080/",
          "height": 442
        },
        "id": "a8afd6ef",
        "outputId": "0d2e98dc-c837-47e5-f421-ef34bdadb27f"
      },
      "outputs": [
        {
          "output_type": "display_data",
          "data": {
            "image/jpeg": "[encoded data removed]",
            "text/plain": [
              "<IPython.core.display.Image object>"
            ]
          },
          "metadata": {}
        }
      ],
      "source": [
        "from IPython.display import Image, display\n",
        "\n",
        "display(Image(app.get_graph(xray=True).draw_mermaid_png()))"
      ]
    },
    {
      "cell_type": "markdown",
      "id": "547c3931-3dae-4281-ad4e-4b51305594d4",
      "metadata": {
        "id": "547c3931-3dae-4281-ad4e-4b51305594d4"
      },
      "source": [
        "## Use it!\n",
        "\n",
        "We can now use it!\n",
        "This now exposes the [same interface](https://python.langchain.com/v0.2/docs/concepts/#langchain-expression-language-lcel) as all other LangChain runnables."
      ]
    },
    {
      "cell_type": "code",
      "execution_count": 13,
      "id": "8edb04b9-40b6-46f1-a7a8-4b2d8aba7752",
      "metadata": {
        "colab": {
          "base_uri": "https://localhost:8080/"
        },
        "id": "8edb04b9-40b6-46f1-a7a8-4b2d8aba7752",
        "outputId": "d771c42d-2ad8-486e-b78e-c2753bbbe372"
      },
      "outputs": [
        {
          "output_type": "stream",
          "name": "stdout",
          "text": [
            "================================\u001b[1m Human Message \u001b[0m=================================\n",
            "\n",
            "what is the weather in San Jerónimo de Tunán, Huancayo, Perú?\n",
            "\n",
            "---\n",
            "\n",
            "================================\u001b[1m Human Message \u001b[0m=================================\n",
            "\n",
            "what is the weather in San Jerónimo de Tunán, Huancayo, Perú?\n",
            "==================================\u001b[1m Ai Message \u001b[0m==================================\n",
            "Tool Calls:\n",
            "  tavily_search_results_json (tool_abcd123)\n",
            " Call ID: tool_abcd123\n",
            "  Args:\n",
            "    query: what is the weather in San Jerónimo de Tunán, Huancayo, Perú?\n",
            "\n",
            "---\n",
            "\n",
            "================================\u001b[1m Human Message \u001b[0m=================================\n",
            "\n",
            "what is the weather in San Jerónimo de Tunán, Huancayo, Perú?\n",
            "==================================\u001b[1m Ai Message \u001b[0m==================================\n",
            "Tool Calls:\n",
            "  tavily_search_results_json (tool_abcd123)\n",
            " Call ID: tool_abcd123\n",
            "  Args:\n",
            "    query: what is the weather in San Jerónimo de Tunán, Huancayo, Perú?\n",
            "=================================\u001b[1m Tool Message \u001b[0m=================================\n",
            "Name: tavily_search_results_json\n",
            "\n",
            "tavily_search_results_json is not a valid tool, try one of [search].\n",
            "\n",
            "---\n",
            "\n",
            "================================\u001b[1m Human Message \u001b[0m=================================\n",
            "\n",
            "what is the weather in San Jerónimo de Tunán, Huancayo, Perú?\n",
            "==================================\u001b[1m Ai Message \u001b[0m==================================\n",
            "Tool Calls:\n",
            "  tavily_search_results_json (tool_abcd123)\n",
            " Call ID: tool_abcd123\n",
            "  Args:\n",
            "    query: what is the weather in San Jerónimo de Tunán, Huancayo, Perú?\n",
            "=================================\u001b[1m Tool Message \u001b[0m=================================\n",
            "Name: tavily_search_results_json\n",
            "\n",
            "tavily_search_results_json is not a valid tool, try one of [search].\n",
            "==================================\u001b[1m Ai Message \u001b[0m==================================\n",
            "Tool Calls:\n",
            "  search (call_s4GtbvnO1wabprLO5g7ROEZp)\n",
            " Call ID: call_s4GtbvnO1wabprLO5g7ROEZp\n",
            "  Args:\n",
            "    query: weather in San Jerónimo de Tunán, Huancayo, Perú\n",
            "\n",
            "---\n",
            "\n",
            "================================\u001b[1m Human Message \u001b[0m=================================\n",
            "\n",
            "what is the weather in San Jerónimo de Tunán, Huancayo, Perú?\n",
            "==================================\u001b[1m Ai Message \u001b[0m==================================\n",
            "Tool Calls:\n",
            "  tavily_search_results_json (tool_abcd123)\n",
            " Call ID: tool_abcd123\n",
            "  Args:\n",
            "    query: what is the weather in San Jerónimo de Tunán, Huancayo, Perú?\n",
            "=================================\u001b[1m Tool Message \u001b[0m=================================\n",
            "Name: tavily_search_results_json\n",
            "\n",
            "tavily_search_results_json is not a valid tool, try one of [search].\n",
            "==================================\u001b[1m Ai Message \u001b[0m==================================\n",
            "Tool Calls:\n",
            "  search (call_s4GtbvnO1wabprLO5g7ROEZp)\n",
            " Call ID: call_s4GtbvnO1wabprLO5g7ROEZp\n",
            "  Args:\n",
            "    query: weather in San Jerónimo de Tunán, Huancayo, Perú\n",
            "=================================\u001b[1m Tool Message \u001b[0m=================================\n",
            "Name: search\n",
            "\n",
            "['The answer to your question lies within.']\n",
            "\n",
            "---\n",
            "\n",
            "================================\u001b[1m Human Message \u001b[0m=================================\n",
            "\n",
            "what is the weather in San Jerónimo de Tunán, Huancayo, Perú?\n",
            "==================================\u001b[1m Ai Message \u001b[0m==================================\n",
            "Tool Calls:\n",
            "  tavily_search_results_json (tool_abcd123)\n",
            " Call ID: tool_abcd123\n",
            "  Args:\n",
            "    query: what is the weather in San Jerónimo de Tunán, Huancayo, Perú?\n",
            "=================================\u001b[1m Tool Message \u001b[0m=================================\n",
            "Name: tavily_search_results_json\n",
            "\n",
            "tavily_search_results_json is not a valid tool, try one of [search].\n",
            "==================================\u001b[1m Ai Message \u001b[0m==================================\n",
            "Tool Calls:\n",
            "  search (call_s4GtbvnO1wabprLO5g7ROEZp)\n",
            " Call ID: call_s4GtbvnO1wabprLO5g7ROEZp\n",
            "  Args:\n",
            "    query: weather in San Jerónimo de Tunán, Huancayo, Perú\n",
            "=================================\u001b[1m Tool Message \u001b[0m=================================\n",
            "Name: search\n",
            "\n",
            "['The answer to your question lies within.']\n",
            "==================================\u001b[1m Ai Message \u001b[0m==================================\n",
            "\n",
            "I couldn't retrieve the weather information for San Jerónimo de Tunán, Huancayo, Perú at the moment.\n",
            "\n",
            "---\n",
            "\n"
          ]
        }
      ],
      "source": [
        "from langchain_core.messages import HumanMessage\n",
        "\n",
        "inputs = {\"messages\": [HumanMessage(content=\"what is the weather in San Jerónimo de Tunán, Huancayo, Perú?\")]}\n",
        "for output in app.stream(inputs, stream_mode=\"values\"):\n",
        "    # stream() yields dictionaries with output keyed by node name\n",
        "    messages = output[\"messages\"]\n",
        "    for message in messages:\n",
        "        message.pretty_print()\n",
        "    print(\"\\n---\\n\")"
      ]
    }
  ],
  "metadata": {
    "kernelspec": {
      "display_name": "Python 3 (ipykernel)",
      "language": "python",
      "name": "python3"
    },
    "language_info": {
      "codemirror_mode": {
        "name": "ipython",
        "version": 3
      },
      "file_extension": ".py",
      "mimetype": "text/x-python",
      "name": "python",
      "nbconvert_exporter": "python",
      "pygments_lexer": "ipython3",
      "version": "3.12.2"
    },
    "colab": {
      "provenance": []
    }
  },
  "nbformat": 4,
  "nbformat_minor": 5
}