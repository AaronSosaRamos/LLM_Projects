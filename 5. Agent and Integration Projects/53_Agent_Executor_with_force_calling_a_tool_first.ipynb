{
  "cells": [
    {
      "cell_type": "markdown",
      "id": "f725852e-71ef-4615-8cac-011a516fbe72",
      "metadata": {
        "id": "f725852e-71ef-4615-8cac-011a516fbe72"
      },
      "source": [
        "# Agent Executor From Scratch\n",
        "\n",
        "In this notebook we will create an agent with a search tool. However, at the start we will force the agent to call the search tool (and then let it do whatever it wants after). This is useful when you want to force agents to call particular tools, but still want flexibility of what happens after that.\n",
        "\n",
        "This examples builds off the base agent executor. It is highly recommended you learn about that executor before going through this notebook. You can find documentation for that example [here](./base.ipynb).\n",
        "\n",
        "Any modifications of that example are called below with **MODIFICATION**, so if you are looking for the differences you can just search for that."
      ]
    },
    {
      "cell_type": "markdown",
      "id": "6821de30-6eeb-4f70-b0a7-e05d3187b14b",
      "metadata": {
        "id": "6821de30-6eeb-4f70-b0a7-e05d3187b14b"
      },
      "source": [
        "## Setup\n",
        "\n",
        "First we need to install the packages required"
      ]
    },
    {
      "cell_type": "code",
      "execution_count": 4,
      "id": "694cfc4c-22a7-495d-930d-56b21d850ff9",
      "metadata": {
        "colab": {
          "base_uri": "https://localhost:8080/"
        },
        "id": "694cfc4c-22a7-495d-930d-56b21d850ff9",
        "outputId": "5bed0836-72f6-48d7-a5d9-5afca35fc878"
      },
      "outputs": [
        {
          "output_type": "stream",
          "name": "stdout",
          "text": [
            "\u001b[2K     \u001b[90m━━━━━━━━━━━━━━━━━━━━━━━━━━━━━━━━━━━━━━━━\u001b[0m \u001b[32m46.7/46.7 kB\u001b[0m \u001b[31m717.3 kB/s\u001b[0m eta \u001b[36m0:00:00\u001b[0m\n",
            "\u001b[2K     \u001b[90m━━━━━━━━━━━━━━━━━━━━━━━━━━━━━━━━━━━━━━━━\u001b[0m \u001b[32m337.0/337.0 kB\u001b[0m \u001b[31m3.0 MB/s\u001b[0m eta \u001b[36m0:00:00\u001b[0m\n",
            "\u001b[?25h"
          ]
        }
      ],
      "source": [
        "%pip install --quiet -U langgraph langchain langchain_openai tavily-python"
      ]
    },
    {
      "cell_type": "markdown",
      "id": "dc039752-6d34-4ad4-aa31-9a10f4d4d597",
      "metadata": {
        "id": "dc039752-6d34-4ad4-aa31-9a10f4d4d597"
      },
      "source": [
        "Next, we need to set API keys for OpenAI (the LLM we will use) and Tavily (the search tool we will use)"
      ]
    },
    {
      "cell_type": "code",
      "execution_count": 5,
      "id": "30c06a84-291a-4f58-9d31-53d3b56a3def",
      "metadata": {
        "id": "30c06a84-291a-4f58-9d31-53d3b56a3def"
      },
      "outputs": [],
      "source": [
        "import os\n",
        "from google.colab import userdata\n",
        "\n",
        "os.environ[\"OPENAI_API_KEY\"] = userdata.get('OPENAI_API_KEY')\n",
        "os.environ[\"TAVILY_API_KEY\"] = userdata.get(\"TAVILY_API_KEY\")"
      ]
    },
    {
      "cell_type": "markdown",
      "id": "5e7f4767-54fb-4b6e-bd9a-3d433df924fb",
      "metadata": {
        "id": "5e7f4767-54fb-4b6e-bd9a-3d433df924fb"
      },
      "source": [
        "Optionally, we can set API key for [LangSmith tracing](https://smith.langchain.com/), which will give us best-in-class observability."
      ]
    },
    {
      "cell_type": "code",
      "execution_count": 6,
      "id": "a8fb285a-7e6e-46fc-a273-43ab1a676189",
      "metadata": {
        "id": "a8fb285a-7e6e-46fc-a273-43ab1a676189"
      },
      "outputs": [],
      "source": [
        "os.environ[\"LANGCHAIN_TRACING_V2\"] = \"true\"\n",
        "os.environ[\"LANGCHAIN_API_KEY\"] = userdata.get('LANGCHAIN_API_KEY')"
      ]
    },
    {
      "cell_type": "markdown",
      "id": "5dace4a9-7c9e-4da2-bf7b-e58d0d05581e",
      "metadata": {
        "id": "5dace4a9-7c9e-4da2-bf7b-e58d0d05581e"
      },
      "source": [
        "## Create the LangChain agent\n",
        "\n",
        "First, we will create the LangChain agent. For more information on LangChain agents, see [this documentation](https://python.langchain.com/v0.2/docs/concepts/#agents)"
      ]
    },
    {
      "cell_type": "code",
      "source": [
        "!pip install -q langchain_community"
      ],
      "metadata": {
        "colab": {
          "base_uri": "https://localhost:8080/"
        },
        "id": "F6aEewXvDSRY",
        "outputId": "321aa8ea-06aa-4d0b-dbc1-d76dbb3d25b1"
      },
      "id": "F6aEewXvDSRY",
      "execution_count": 7,
      "outputs": [
        {
          "output_type": "stream",
          "name": "stdout",
          "text": [
            "\u001b[2K     \u001b[90m━━━━━━━━━━━━━━━━━━━━━━━━━━━━━━━━━━━━━━━━\u001b[0m \u001b[32m2.3/2.3 MB\u001b[0m \u001b[31m8.7 MB/s\u001b[0m eta \u001b[36m0:00:00\u001b[0m\n",
            "\u001b[2K     \u001b[90m━━━━━━━━━━━━━━━━━━━━━━━━━━━━━━━━━━━━━━━━\u001b[0m \u001b[32m49.2/49.2 kB\u001b[0m \u001b[31m5.3 MB/s\u001b[0m eta \u001b[36m0:00:00\u001b[0m\n",
            "\u001b[?25h"
          ]
        }
      ]
    },
    {
      "cell_type": "code",
      "source": [
        "!pip install -q langchainhub"
      ],
      "metadata": {
        "id": "WiV2-1AJEZop"
      },
      "id": "WiV2-1AJEZop",
      "execution_count": 9,
      "outputs": []
    },
    {
      "cell_type": "code",
      "execution_count": 10,
      "id": "4499eb16-bca8-4a60-9a3a-2f34ae3f7078",
      "metadata": {
        "id": "4499eb16-bca8-4a60-9a3a-2f34ae3f7078"
      },
      "outputs": [],
      "source": [
        "from langchain import hub\n",
        "from langchain.agents import create_openai_functions_agent\n",
        "from langchain_community.tools.tavily_search import TavilySearchResults\n",
        "from langchain_openai.chat_models import ChatOpenAI\n",
        "\n",
        "tools = [TavilySearchResults(max_results=1)]\n",
        "\n",
        "# Get the prompt to use - you can modify this!\n",
        "prompt = hub.pull(\"hwchase17/openai-functions-agent\")\n",
        "\n",
        "# Choose the LLM that will drive the agent\n",
        "llm = ChatOpenAI(model=\"gpt-3.5-turbo-1106\", streaming=True)\n",
        "\n",
        "# Construct the OpenAI Functions agent\n",
        "agent_runnable = create_openai_functions_agent(llm, tools, prompt)"
      ]
    },
    {
      "cell_type": "markdown",
      "id": "972e58b3-fe3c-449d-b3c4-8fa2217afd07",
      "metadata": {
        "id": "972e58b3-fe3c-449d-b3c4-8fa2217afd07"
      },
      "source": [
        "## Define the graph state\n",
        "\n",
        "We now define the graph state. The state for the traditional LangChain agent has a few attributes:\n",
        "\n",
        "1. `input`: This is the input string representing the main ask from the user, passed in as input.\n",
        "2. `chat_history`: This is any previous conversation messages, also passed in as input.\n",
        "3. `intermediate_steps`: This is list of actions and corresponding observations that the agent takes over time. This is updated each iteration of the agent.\n",
        "4. `agent_outcome`: This is the response from the agent, either an AgentAction or AgentFinish. The AgentExecutor should finish when this is an AgentFinish, otherwise it should call the requested tools.\n"
      ]
    },
    {
      "cell_type": "code",
      "execution_count": 11,
      "id": "c941fb10-dbe5-4d6a-ab7d-133d01c33cc4",
      "metadata": {
        "id": "c941fb10-dbe5-4d6a-ab7d-133d01c33cc4"
      },
      "outputs": [],
      "source": [
        "import operator\n",
        "from typing import Annotated, TypedDict, Union\n",
        "\n",
        "from langchain_core.agents import AgentAction, AgentFinish\n",
        "from langchain_core.messages import BaseMessage\n",
        "\n",
        "\n",
        "class AgentState(TypedDict):\n",
        "    # The input string\n",
        "    input: str\n",
        "    # The list of previous messages in the conversation\n",
        "    chat_history: list[BaseMessage]\n",
        "    # The outcome of a given call to the agent\n",
        "    # Needs `None` as a valid type, since this is what this will start as\n",
        "    agent_outcome: Union[AgentAction, AgentFinish, None]\n",
        "    # List of actions and corresponding observations\n",
        "    # Here we annotate this with `operator.add` to indicate that operations to\n",
        "    # this state should be ADDED to the existing values (not overwrite it)\n",
        "    intermediate_steps: Annotated[list[tuple[AgentAction, str]], operator.add]"
      ]
    },
    {
      "cell_type": "markdown",
      "id": "cd27b281-cc9a-49c9-be78-8b98a7d905c4",
      "metadata": {
        "id": "cd27b281-cc9a-49c9-be78-8b98a7d905c4"
      },
      "source": [
        "## Define the nodes\n",
        "\n",
        "We now need to define a few different nodes in our graph.\n",
        "In `langgraph`, a node can be either a function or a [runnable](https://python.langchain.com/v0.2/docs/concepts/#langchain-expression-language-lcel).\n",
        "There are two main nodes we need for this:\n",
        "\n",
        "1. The agent: responsible for deciding what (if any) actions to take.\n",
        "2. A function to invoke tools: if the agent decides to take an action, this node will then execute that action.\n",
        "\n",
        "We will also need to define some edges.\n",
        "Some of these edges may be conditional.\n",
        "The reason they are conditional is that based on the output of a node, one of several paths may be taken.\n",
        "The path that is taken is not known until that node is run (the LLM decides).\n",
        "\n",
        "1. Conditional Edge: after the agent is called, we should either:\n",
        "   a. If the agent said to take an action, then the function to invoke tools should be called\n",
        "   b. If the agent said that it was finished, then it should finish\n",
        "2. Normal Edge: after the tools are invoked, it should always go back to the agent to decide what to do next\n",
        "\n",
        "Let's define the nodes, as well as a function to decide how what conditional edge to take."
      ]
    },
    {
      "cell_type": "code",
      "execution_count": 12,
      "id": "d61a970d-edf4-4eef-9678-28bab7c72331",
      "metadata": {
        "id": "d61a970d-edf4-4eef-9678-28bab7c72331"
      },
      "outputs": [],
      "source": [
        "from langchain_core.agents import AgentFinish\n",
        "\n",
        "from langgraph.prebuilt.tool_executor import ToolExecutor\n",
        "\n",
        "# This a helper class we have that is useful for running tools\n",
        "# It takes in an agent action and calls that tool and returns the result\n",
        "tool_executor = ToolExecutor(tools)\n",
        "\n",
        "\n",
        "# Define the agent\n",
        "def run_agent(data):\n",
        "    agent_outcome = agent_runnable.invoke(data)\n",
        "    return {\"agent_outcome\": agent_outcome}\n",
        "\n",
        "\n",
        "# Define the function to execute tools\n",
        "def execute_tools(data):\n",
        "    # Get the most recent agent_outcome - this is the key added in the `agent` above\n",
        "    agent_action = data[\"agent_outcome\"]\n",
        "    output = tool_executor.invoke(agent_action)\n",
        "    return {\"intermediate_steps\": [(agent_action, str(output))]}\n",
        "\n",
        "\n",
        "# Define logic that will be used to determine which conditional edge to go down\n",
        "def should_continue(data):\n",
        "    # If the agent outcome is an AgentFinish, then we return `exit` string\n",
        "    # This will be used when setting up the graph to define the flow\n",
        "    if isinstance(data[\"agent_outcome\"], AgentFinish):\n",
        "        return \"end\"\n",
        "    # Otherwise, an AgentAction is returned\n",
        "    # Here we return `continue` string\n",
        "    # This will be used when setting up the graph to define the flow\n",
        "    else:\n",
        "        return \"continue\""
      ]
    },
    {
      "cell_type": "markdown",
      "id": "02437e83-5485-4827-87e6-7ad1d02cf9be",
      "metadata": {
        "id": "02437e83-5485-4827-87e6-7ad1d02cf9be"
      },
      "source": [
        "**MODIFICATION**\n",
        "\n",
        "Here we create a node that returns an AgentAction that just calls the Tavily search with the input"
      ]
    },
    {
      "cell_type": "code",
      "execution_count": 13,
      "id": "2ed8463e-73e5-417d-9fab-be6bcee87835",
      "metadata": {
        "colab": {
          "base_uri": "https://localhost:8080/",
          "height": 36
        },
        "id": "2ed8463e-73e5-417d-9fab-be6bcee87835",
        "outputId": "191629af-87c4-407a-9fb7-1d51369883e3"
      },
      "outputs": [
        {
          "output_type": "execute_result",
          "data": {
            "text/plain": [
              "'tavily_search_results_json'"
            ],
            "application/vnd.google.colaboratory.intrinsic+json": {
              "type": "string"
            }
          },
          "metadata": {},
          "execution_count": 13
        }
      ],
      "source": [
        "tools[0].name"
      ]
    },
    {
      "cell_type": "code",
      "execution_count": 14,
      "id": "df25d899-2338-4f31-a8bf-0582a2eec325",
      "metadata": {
        "id": "df25d899-2338-4f31-a8bf-0582a2eec325"
      },
      "outputs": [],
      "source": [
        "from langchain_core.agents import AgentActionMessageLog\n",
        "\n",
        "\n",
        "def first_agent(inputs):\n",
        "    action = AgentActionMessageLog(\n",
        "        # We force call this tool\n",
        "        tool=\"tavily_search_results_json\",\n",
        "        # We just pass in the `input` key to this tool\n",
        "        tool_input=inputs[\"input\"],\n",
        "        log=\"\",\n",
        "        message_log=[],\n",
        "    )\n",
        "    return {\"agent_outcome\": action}"
      ]
    },
    {
      "cell_type": "markdown",
      "id": "c0b211f4-0c5c-4792-b18d-cd70907c71e7",
      "metadata": {
        "id": "c0b211f4-0c5c-4792-b18d-cd70907c71e7"
      },
      "source": [
        "## Define the graph\n",
        "\n",
        "We can now put it all together and define the graph!\n",
        "\n",
        "**MODIFICATION**\n",
        "\n",
        "We now add a new `first_agent` node which we set as the entrypoint."
      ]
    },
    {
      "cell_type": "code",
      "execution_count": 15,
      "id": "c4054dde-4618-49b7-998a-daa0c1d6d6c0",
      "metadata": {
        "id": "c4054dde-4618-49b7-998a-daa0c1d6d6c0"
      },
      "outputs": [],
      "source": [
        "from langgraph.graph import END, StateGraph, START\n",
        "\n",
        "# Define a new graph\n",
        "workflow = StateGraph(AgentState)\n",
        "\n",
        "# Define the two nodes we will cycle between\n",
        "workflow.add_node(\"agent\", run_agent)\n",
        "workflow.add_node(\"action\", execute_tools)\n",
        "workflow.add_node(\"first_agent\", first_agent)\n",
        "\n",
        "# Set the entrypoint as `agent`\n",
        "# This means that this node is the first one called\n",
        "workflow.add_edge(START, \"first_agent\")\n",
        "\n",
        "# We now add a conditional edge\n",
        "workflow.add_conditional_edges(\n",
        "    # First, we define the start node. We use `agent`.\n",
        "    # This means these are the edges taken after the `agent` node is called.\n",
        "    \"agent\",\n",
        "    # Next, we pass in the function that will determine which node is called next.\n",
        "    should_continue,\n",
        "    # Finally we pass in a mapping.\n",
        "    # The keys are strings, and the values are other nodes.\n",
        "    # END is a special node marking that the graph should finish.\n",
        "    # What will happen is we will call `should_continue`, and then the output of that\n",
        "    # will be matched against the keys in this mapping.\n",
        "    # Based on which one it matches, that node will then be called.\n",
        "    {\n",
        "        # If `tools`, then we call the tool node.\n",
        "        \"continue\": \"action\",\n",
        "        # Otherwise we finish.\n",
        "        \"end\": END,\n",
        "    },\n",
        ")\n",
        "\n",
        "# We now add a normal edge from `tools` to `agent`.\n",
        "# This means that after `tools` is called, `agent` node is called next.\n",
        "workflow.add_edge(\"action\", \"agent\")\n",
        "\n",
        "# After the first agent, we want to take an action\n",
        "workflow.add_edge(\"first_agent\", \"action\")\n",
        "\n",
        "# Finally, we compile it!\n",
        "# This compiles it into a LangChain Runnable,\n",
        "# meaning you can use it as you would any other runnable\n",
        "app = workflow.compile()"
      ]
    },
    {
      "cell_type": "code",
      "source": [
        "from IPython.display import Image, display\n",
        "\n",
        "try:\n",
        "    display(Image(app.get_graph(xray=True).draw_mermaid_png()))\n",
        "except Exception:\n",
        "    # This requires some extra dependencies and is optional\n",
        "    pass"
      ],
      "metadata": {
        "colab": {
          "base_uri": "https://localhost:8080/",
          "height": 442
        },
        "id": "6WlqBN9QFU9j",
        "outputId": "fd293267-dee2-427e-ff7f-c445ff3092cd"
      },
      "id": "6WlqBN9QFU9j",
      "execution_count": 16,
      "outputs": [
        {
          "output_type": "display_data",
          "data": {
            "image/jpeg": "[encoded data removed]",
            "text/plain": [
              "<IPython.core.display.Image object>"
            ]
          },
          "metadata": {}
        }
      ]
    },
    {
      "cell_type": "code",
      "execution_count": 17,
      "id": "214ae46e-c297-465d-86db-2b0312ed3530",
      "metadata": {
        "colab": {
          "base_uri": "https://localhost:8080/"
        },
        "id": "214ae46e-c297-465d-86db-2b0312ed3530",
        "outputId": "14deb503-176a-4a3b-a749-d64c16d61e5d"
      },
      "outputs": [
        {
          "output_type": "stream",
          "name": "stdout",
          "text": [
            "{'agent_outcome': AgentActionMessageLog(tool='tavily_search_results_json', tool_input='what is the weather in San Jeronimo de Tunan, Huancayo, Peru', log='', message_log=[])}\n",
            "----\n",
            "{'intermediate_steps': [(AgentActionMessageLog(tool='tavily_search_results_json', tool_input='what is the weather in San Jeronimo de Tunan, Huancayo, Peru', log='', message_log=[]), '[{\\'url\\': \\'https://www.weatherapi.com/\\', \\'content\\': \"{\\'location\\': {\\'name\\': \\'San Jeronimo De Tunan\\', \\'region\\': \\'Junin\\', \\'country\\': \\'Peru\\', \\'lat\\': -11.95, \\'lon\\': -75.25, \\'tz_id\\': \\'America/Lima\\', \\'localtime_epoch\\': 1721746432, \\'localtime\\': \\'2024-07-23 9:53\\'}, \\'current\\': {\\'last_updated_epoch\\': 1721745900, \\'last_updated\\': \\'2024-07-23 09:45\\', \\'temp_c\\': 8.3, \\'temp_f\\': 47.0, \\'is_day\\': 1, \\'condition\\': {\\'text\\': \\'Sunny\\', \\'icon\\': \\'//cdn.weatherapi.com/weather/64x64/day/113.png\\', \\'code\\': 1000}, \\'wind_mph\\': 2.2, \\'wind_kph\\': 3.6, \\'wind_degree\\': 194, \\'wind_dir\\': \\'SSW\\', \\'pressure_mb\\': 1025.0, \\'pressure_in\\': 30.28, \\'precip_mm\\': 0.0, \\'precip_in\\': 0.0, \\'humidity\\': 58, \\'cloud\\': 5, \\'feelslike_c\\': 8.6, \\'feelslike_f\\': 47.4, \\'windchill_c\\': 8.6, \\'windchill_f\\': 47.4, \\'heatindex_c\\': 8.3, \\'heatindex_f\\': 47.0, \\'dewpoint_c\\': 0.6, \\'dewpoint_f\\': 33.1, \\'vis_km\\': 10.0, \\'vis_miles\\': 6.0, \\'uv\\': 4.0, \\'gust_mph\\': 2.3, \\'gust_kph\\': 3.7}}\"}]')]}\n",
            "----\n",
            "{'agent_outcome': AgentFinish(return_values={'output': 'The current weather in San Jeronimo De Tunan, Huancayo, Peru is sunny with a temperature of 8.3°C (47.0°F). The wind speed is 3.6 kph coming from the SSW direction. The humidity is at 58%, and the visibility is 10.0 km.'}, log='The current weather in San Jeronimo De Tunan, Huancayo, Peru is sunny with a temperature of 8.3°C (47.0°F). The wind speed is 3.6 kph coming from the SSW direction. The humidity is at 58%, and the visibility is 10.0 km.')}\n",
            "----\n"
          ]
        }
      ],
      "source": [
        "inputs = {\"input\": \"what is the weather in San Jeronimo de Tunan, Huancayo, Peru\", \"chat_history\": []}\n",
        "for s in app.stream(inputs):\n",
        "    print(list(s.values())[0])\n",
        "    print(\"----\")"
      ]
    }
  ],
  "metadata": {
    "kernelspec": {
      "display_name": "Python 3 (ipykernel)",
      "language": "python",
      "name": "python3"
    },
    "language_info": {
      "codemirror_mode": {
        "name": "ipython",
        "version": 3
      },
      "file_extension": ".py",
      "mimetype": "text/x-python",
      "name": "python",
      "nbconvert_exporter": "python",
      "pygments_lexer": "ipython3",
      "version": "3.11.1"
    },
    "colab": {
      "provenance": []
    }
  },
  "nbformat": 4,
  "nbformat_minor": 5
}