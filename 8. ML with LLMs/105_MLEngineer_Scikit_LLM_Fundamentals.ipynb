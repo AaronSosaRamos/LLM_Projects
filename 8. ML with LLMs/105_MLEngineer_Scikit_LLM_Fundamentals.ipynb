{
  "nbformat": 4,
  "nbformat_minor": 0,
  "metadata": {
    "colab": {
      "provenance": []
    },
    "kernelspec": {
      "name": "python3",
      "display_name": "Python 3"
    },
    "language_info": {
      "name": "python"
    }
  },
  "cells": [
    {
      "cell_type": "markdown",
      "source": [
        "#Scikit-LLM Fundamentals (NLP Tasks)"
      ],
      "metadata": {
        "id": "dAX6yyDQSwbh"
      }
    },
    {
      "cell_type": "code",
      "execution_count": 1,
      "metadata": {
        "colab": {
          "base_uri": "https://localhost:8080/"
        },
        "id": "i_aEZSkmG8aO",
        "outputId": "93f5f169-6216-45ed-daf5-e5dfe670947a"
      },
      "outputs": [
        {
          "output_type": "stream",
          "name": "stdout",
          "text": [
            "Collecting scikit-llm\n",
            "  Downloading scikit_llm-1.4.0-py3-none-any.whl.metadata (4.3 kB)\n",
            "Requirement already satisfied: scikit-learn<2.0.0,>=1.1.0 in /usr/local/lib/python3.10/dist-packages (from scikit-llm) (1.5.2)\n",
            "Requirement already satisfied: pandas<3.0.0,>=1.5.0 in /usr/local/lib/python3.10/dist-packages (from scikit-llm) (2.2.2)\n",
            "Collecting openai<2.0.0,>=1.2.0 (from scikit-llm)\n",
            "  Downloading openai-1.51.2-py3-none-any.whl.metadata (24 kB)\n",
            "Requirement already satisfied: tqdm<5.0.0,>=4.60.0 in /usr/local/lib/python3.10/dist-packages (from scikit-llm) (4.66.5)\n",
            "Requirement already satisfied: google-cloud-aiplatform<2.0.0,>=1.27.0 in /usr/local/lib/python3.10/dist-packages (from google-cloud-aiplatform[pipelines]<2.0.0,>=1.27.0->scikit-llm) (1.70.0)\n",
            "Requirement already satisfied: google-api-core!=2.0.*,!=2.1.*,!=2.2.*,!=2.3.*,!=2.4.*,!=2.5.*,!=2.6.*,!=2.7.*,<3.0.0dev,>=1.34.1 in /usr/local/lib/python3.10/dist-packages (from google-api-core[grpc]!=2.0.*,!=2.1.*,!=2.2.*,!=2.3.*,!=2.4.*,!=2.5.*,!=2.6.*,!=2.7.*,<3.0.0dev,>=1.34.1->google-cloud-aiplatform<2.0.0,>=1.27.0->google-cloud-aiplatform[pipelines]<2.0.0,>=1.27.0->scikit-llm) (2.19.2)\n",
            "Requirement already satisfied: google-auth<3.0.0dev,>=2.14.1 in /usr/local/lib/python3.10/dist-packages (from google-cloud-aiplatform<2.0.0,>=1.27.0->google-cloud-aiplatform[pipelines]<2.0.0,>=1.27.0->scikit-llm) (2.27.0)\n",
            "Requirement already satisfied: proto-plus<2.0.0dev,>=1.22.3 in /usr/local/lib/python3.10/dist-packages (from google-cloud-aiplatform<2.0.0,>=1.27.0->google-cloud-aiplatform[pipelines]<2.0.0,>=1.27.0->scikit-llm) (1.24.0)\n",
            "Requirement already satisfied: protobuf!=4.21.0,!=4.21.1,!=4.21.2,!=4.21.3,!=4.21.4,!=4.21.5,<6.0.0dev,>=3.20.2 in /usr/local/lib/python3.10/dist-packages (from google-cloud-aiplatform<2.0.0,>=1.27.0->google-cloud-aiplatform[pipelines]<2.0.0,>=1.27.0->scikit-llm) (3.20.3)\n",
            "Requirement already satisfied: packaging>=14.3 in /usr/local/lib/python3.10/dist-packages (from google-cloud-aiplatform<2.0.0,>=1.27.0->google-cloud-aiplatform[pipelines]<2.0.0,>=1.27.0->scikit-llm) (24.1)\n",
            "Requirement already satisfied: google-cloud-storage<3.0.0dev,>=1.32.0 in /usr/local/lib/python3.10/dist-packages (from google-cloud-aiplatform<2.0.0,>=1.27.0->google-cloud-aiplatform[pipelines]<2.0.0,>=1.27.0->scikit-llm) (2.8.0)\n",
            "Requirement already satisfied: google-cloud-bigquery!=3.20.0,<4.0.0dev,>=1.15.0 in /usr/local/lib/python3.10/dist-packages (from google-cloud-aiplatform<2.0.0,>=1.27.0->google-cloud-aiplatform[pipelines]<2.0.0,>=1.27.0->scikit-llm) (3.25.0)\n",
            "Requirement already satisfied: google-cloud-resource-manager<3.0.0dev,>=1.3.3 in /usr/local/lib/python3.10/dist-packages (from google-cloud-aiplatform<2.0.0,>=1.27.0->google-cloud-aiplatform[pipelines]<2.0.0,>=1.27.0->scikit-llm) (1.12.5)\n",
            "Requirement already satisfied: shapely<3.0.0dev in /usr/local/lib/python3.10/dist-packages (from google-cloud-aiplatform<2.0.0,>=1.27.0->google-cloud-aiplatform[pipelines]<2.0.0,>=1.27.0->scikit-llm) (2.0.6)\n",
            "Requirement already satisfied: pydantic<3 in /usr/local/lib/python3.10/dist-packages (from google-cloud-aiplatform<2.0.0,>=1.27.0->google-cloud-aiplatform[pipelines]<2.0.0,>=1.27.0->scikit-llm) (2.9.2)\n",
            "Requirement already satisfied: docstring-parser<1 in /usr/local/lib/python3.10/dist-packages (from google-cloud-aiplatform<2.0.0,>=1.27.0->google-cloud-aiplatform[pipelines]<2.0.0,>=1.27.0->scikit-llm) (0.16)\n",
            "Requirement already satisfied: pyyaml<7,>=5.3.1 in /usr/local/lib/python3.10/dist-packages (from google-cloud-aiplatform[pipelines]<2.0.0,>=1.27.0->scikit-llm) (6.0.2)\n",
            "Requirement already satisfied: anyio<5,>=3.5.0 in /usr/local/lib/python3.10/dist-packages (from openai<2.0.0,>=1.2.0->scikit-llm) (3.7.1)\n",
            "Requirement already satisfied: distro<2,>=1.7.0 in /usr/lib/python3/dist-packages (from openai<2.0.0,>=1.2.0->scikit-llm) (1.7.0)\n",
            "Collecting httpx<1,>=0.23.0 (from openai<2.0.0,>=1.2.0->scikit-llm)\n",
            "  Downloading httpx-0.27.2-py3-none-any.whl.metadata (7.1 kB)\n",
            "Collecting jiter<1,>=0.4.0 (from openai<2.0.0,>=1.2.0->scikit-llm)\n",
            "  Downloading jiter-0.6.1-cp310-cp310-manylinux_2_17_x86_64.manylinux2014_x86_64.whl.metadata (5.2 kB)\n",
            "Requirement already satisfied: sniffio in /usr/local/lib/python3.10/dist-packages (from openai<2.0.0,>=1.2.0->scikit-llm) (1.3.1)\n",
            "Requirement already satisfied: typing-extensions<5,>=4.11 in /usr/local/lib/python3.10/dist-packages (from openai<2.0.0,>=1.2.0->scikit-llm) (4.12.2)\n",
            "Requirement already satisfied: numpy>=1.22.4 in /usr/local/lib/python3.10/dist-packages (from pandas<3.0.0,>=1.5.0->scikit-llm) (1.26.4)\n",
            "Requirement already satisfied: python-dateutil>=2.8.2 in /usr/local/lib/python3.10/dist-packages (from pandas<3.0.0,>=1.5.0->scikit-llm) (2.8.2)\n",
            "Requirement already satisfied: pytz>=2020.1 in /usr/local/lib/python3.10/dist-packages (from pandas<3.0.0,>=1.5.0->scikit-llm) (2024.2)\n",
            "Requirement already satisfied: tzdata>=2022.7 in /usr/local/lib/python3.10/dist-packages (from pandas<3.0.0,>=1.5.0->scikit-llm) (2024.2)\n",
            "Requirement already satisfied: scipy>=1.6.0 in /usr/local/lib/python3.10/dist-packages (from scikit-learn<2.0.0,>=1.1.0->scikit-llm) (1.13.1)\n",
            "Requirement already satisfied: joblib>=1.2.0 in /usr/local/lib/python3.10/dist-packages (from scikit-learn<2.0.0,>=1.1.0->scikit-llm) (1.4.2)\n",
            "Requirement already satisfied: threadpoolctl>=3.1.0 in /usr/local/lib/python3.10/dist-packages (from scikit-learn<2.0.0,>=1.1.0->scikit-llm) (3.5.0)\n",
            "Requirement already satisfied: idna>=2.8 in /usr/local/lib/python3.10/dist-packages (from anyio<5,>=3.5.0->openai<2.0.0,>=1.2.0->scikit-llm) (3.10)\n",
            "Requirement already satisfied: exceptiongroup in /usr/local/lib/python3.10/dist-packages (from anyio<5,>=3.5.0->openai<2.0.0,>=1.2.0->scikit-llm) (1.2.2)\n",
            "Requirement already satisfied: googleapis-common-protos<2.0.dev0,>=1.56.2 in /usr/local/lib/python3.10/dist-packages (from google-api-core!=2.0.*,!=2.1.*,!=2.2.*,!=2.3.*,!=2.4.*,!=2.5.*,!=2.6.*,!=2.7.*,<3.0.0dev,>=1.34.1->google-api-core[grpc]!=2.0.*,!=2.1.*,!=2.2.*,!=2.3.*,!=2.4.*,!=2.5.*,!=2.6.*,!=2.7.*,<3.0.0dev,>=1.34.1->google-cloud-aiplatform<2.0.0,>=1.27.0->google-cloud-aiplatform[pipelines]<2.0.0,>=1.27.0->scikit-llm) (1.65.0)\n",
            "Requirement already satisfied: requests<3.0.0.dev0,>=2.18.0 in /usr/local/lib/python3.10/dist-packages (from google-api-core!=2.0.*,!=2.1.*,!=2.2.*,!=2.3.*,!=2.4.*,!=2.5.*,!=2.6.*,!=2.7.*,<3.0.0dev,>=1.34.1->google-api-core[grpc]!=2.0.*,!=2.1.*,!=2.2.*,!=2.3.*,!=2.4.*,!=2.5.*,!=2.6.*,!=2.7.*,<3.0.0dev,>=1.34.1->google-cloud-aiplatform<2.0.0,>=1.27.0->google-cloud-aiplatform[pipelines]<2.0.0,>=1.27.0->scikit-llm) (2.32.3)\n",
            "Requirement already satisfied: grpcio<2.0dev,>=1.33.2 in /usr/local/lib/python3.10/dist-packages (from google-api-core[grpc]!=2.0.*,!=2.1.*,!=2.2.*,!=2.3.*,!=2.4.*,!=2.5.*,!=2.6.*,!=2.7.*,<3.0.0dev,>=1.34.1->google-cloud-aiplatform<2.0.0,>=1.27.0->google-cloud-aiplatform[pipelines]<2.0.0,>=1.27.0->scikit-llm) (1.64.1)\n",
            "Requirement already satisfied: grpcio-status<2.0.dev0,>=1.33.2 in /usr/local/lib/python3.10/dist-packages (from google-api-core[grpc]!=2.0.*,!=2.1.*,!=2.2.*,!=2.3.*,!=2.4.*,!=2.5.*,!=2.6.*,!=2.7.*,<3.0.0dev,>=1.34.1->google-cloud-aiplatform<2.0.0,>=1.27.0->google-cloud-aiplatform[pipelines]<2.0.0,>=1.27.0->scikit-llm) (1.48.2)\n",
            "Requirement already satisfied: cachetools<6.0,>=2.0.0 in /usr/local/lib/python3.10/dist-packages (from google-auth<3.0.0dev,>=2.14.1->google-cloud-aiplatform<2.0.0,>=1.27.0->google-cloud-aiplatform[pipelines]<2.0.0,>=1.27.0->scikit-llm) (5.5.0)\n",
            "Requirement already satisfied: pyasn1-modules>=0.2.1 in /usr/local/lib/python3.10/dist-packages (from google-auth<3.0.0dev,>=2.14.1->google-cloud-aiplatform<2.0.0,>=1.27.0->google-cloud-aiplatform[pipelines]<2.0.0,>=1.27.0->scikit-llm) (0.4.1)\n",
            "Requirement already satisfied: rsa<5,>=3.1.4 in /usr/local/lib/python3.10/dist-packages (from google-auth<3.0.0dev,>=2.14.1->google-cloud-aiplatform<2.0.0,>=1.27.0->google-cloud-aiplatform[pipelines]<2.0.0,>=1.27.0->scikit-llm) (4.9)\n",
            "Requirement already satisfied: google-cloud-core<3.0.0dev,>=1.6.0 in /usr/local/lib/python3.10/dist-packages (from google-cloud-bigquery!=3.20.0,<4.0.0dev,>=1.15.0->google-cloud-aiplatform<2.0.0,>=1.27.0->google-cloud-aiplatform[pipelines]<2.0.0,>=1.27.0->scikit-llm) (2.4.1)\n",
            "Requirement already satisfied: google-resumable-media<3.0dev,>=0.6.0 in /usr/local/lib/python3.10/dist-packages (from google-cloud-bigquery!=3.20.0,<4.0.0dev,>=1.15.0->google-cloud-aiplatform<2.0.0,>=1.27.0->google-cloud-aiplatform[pipelines]<2.0.0,>=1.27.0->scikit-llm) (2.7.2)\n",
            "Requirement already satisfied: grpc-google-iam-v1<1.0.0dev,>=0.12.4 in /usr/local/lib/python3.10/dist-packages (from google-cloud-resource-manager<3.0.0dev,>=1.3.3->google-cloud-aiplatform<2.0.0,>=1.27.0->google-cloud-aiplatform[pipelines]<2.0.0,>=1.27.0->scikit-llm) (0.13.1)\n",
            "Requirement already satisfied: certifi in /usr/local/lib/python3.10/dist-packages (from httpx<1,>=0.23.0->openai<2.0.0,>=1.2.0->scikit-llm) (2024.8.30)\n",
            "Collecting httpcore==1.* (from httpx<1,>=0.23.0->openai<2.0.0,>=1.2.0->scikit-llm)\n",
            "  Downloading httpcore-1.0.6-py3-none-any.whl.metadata (21 kB)\n",
            "Collecting h11<0.15,>=0.13 (from httpcore==1.*->httpx<1,>=0.23.0->openai<2.0.0,>=1.2.0->scikit-llm)\n",
            "  Downloading h11-0.14.0-py3-none-any.whl.metadata (8.2 kB)\n",
            "Requirement already satisfied: annotated-types>=0.6.0 in /usr/local/lib/python3.10/dist-packages (from pydantic<3->google-cloud-aiplatform<2.0.0,>=1.27.0->google-cloud-aiplatform[pipelines]<2.0.0,>=1.27.0->scikit-llm) (0.7.0)\n",
            "Requirement already satisfied: pydantic-core==2.23.4 in /usr/local/lib/python3.10/dist-packages (from pydantic<3->google-cloud-aiplatform<2.0.0,>=1.27.0->google-cloud-aiplatform[pipelines]<2.0.0,>=1.27.0->scikit-llm) (2.23.4)\n",
            "Requirement already satisfied: six>=1.5 in /usr/local/lib/python3.10/dist-packages (from python-dateutil>=2.8.2->pandas<3.0.0,>=1.5.0->scikit-llm) (1.16.0)\n",
            "Requirement already satisfied: google-crc32c<2.0dev,>=1.0 in /usr/local/lib/python3.10/dist-packages (from google-resumable-media<3.0dev,>=0.6.0->google-cloud-bigquery!=3.20.0,<4.0.0dev,>=1.15.0->google-cloud-aiplatform<2.0.0,>=1.27.0->google-cloud-aiplatform[pipelines]<2.0.0,>=1.27.0->scikit-llm) (1.6.0)\n",
            "Requirement already satisfied: pyasn1<0.7.0,>=0.4.6 in /usr/local/lib/python3.10/dist-packages (from pyasn1-modules>=0.2.1->google-auth<3.0.0dev,>=2.14.1->google-cloud-aiplatform<2.0.0,>=1.27.0->google-cloud-aiplatform[pipelines]<2.0.0,>=1.27.0->scikit-llm) (0.6.1)\n",
            "Requirement already satisfied: charset-normalizer<4,>=2 in /usr/local/lib/python3.10/dist-packages (from requests<3.0.0.dev0,>=2.18.0->google-api-core!=2.0.*,!=2.1.*,!=2.2.*,!=2.3.*,!=2.4.*,!=2.5.*,!=2.6.*,!=2.7.*,<3.0.0dev,>=1.34.1->google-api-core[grpc]!=2.0.*,!=2.1.*,!=2.2.*,!=2.3.*,!=2.4.*,!=2.5.*,!=2.6.*,!=2.7.*,<3.0.0dev,>=1.34.1->google-cloud-aiplatform<2.0.0,>=1.27.0->google-cloud-aiplatform[pipelines]<2.0.0,>=1.27.0->scikit-llm) (3.4.0)\n",
            "Requirement already satisfied: urllib3<3,>=1.21.1 in /usr/local/lib/python3.10/dist-packages (from requests<3.0.0.dev0,>=2.18.0->google-api-core!=2.0.*,!=2.1.*,!=2.2.*,!=2.3.*,!=2.4.*,!=2.5.*,!=2.6.*,!=2.7.*,<3.0.0dev,>=1.34.1->google-api-core[grpc]!=2.0.*,!=2.1.*,!=2.2.*,!=2.3.*,!=2.4.*,!=2.5.*,!=2.6.*,!=2.7.*,<3.0.0dev,>=1.34.1->google-cloud-aiplatform<2.0.0,>=1.27.0->google-cloud-aiplatform[pipelines]<2.0.0,>=1.27.0->scikit-llm) (2.2.3)\n",
            "Downloading scikit_llm-1.4.0-py3-none-any.whl (51 kB)\n",
            "\u001b[2K   \u001b[90m━━━━━━━━━━━━━━━━━━━━━━━━━━━━━━━━━━━━━━━━\u001b[0m \u001b[32m51.4/51.4 kB\u001b[0m \u001b[31m1.7 MB/s\u001b[0m eta \u001b[36m0:00:00\u001b[0m\n",
            "\u001b[?25hDownloading openai-1.51.2-py3-none-any.whl (383 kB)\n",
            "\u001b[2K   \u001b[90m━━━━━━━━━━━━━━━━━━━━━━━━━━━━━━━━━━━━━━━━\u001b[0m \u001b[32m383.7/383.7 kB\u001b[0m \u001b[31m13.5 MB/s\u001b[0m eta \u001b[36m0:00:00\u001b[0m\n",
            "\u001b[?25hDownloading httpx-0.27.2-py3-none-any.whl (76 kB)\n",
            "\u001b[2K   \u001b[90m━━━━━━━━━━━━━━━━━━━━━━━━━━━━━━━━━━━━━━━━\u001b[0m \u001b[32m76.4/76.4 kB\u001b[0m \u001b[31m4.6 MB/s\u001b[0m eta \u001b[36m0:00:00\u001b[0m\n",
            "\u001b[?25hDownloading httpcore-1.0.6-py3-none-any.whl (78 kB)\n",
            "\u001b[2K   \u001b[90m━━━━━━━━━━━━━━━━━━━━━━━━━━━━━━━━━━━━━━━━\u001b[0m \u001b[32m78.0/78.0 kB\u001b[0m \u001b[31m3.0 MB/s\u001b[0m eta \u001b[36m0:00:00\u001b[0m\n",
            "\u001b[?25hDownloading jiter-0.6.1-cp310-cp310-manylinux_2_17_x86_64.manylinux2014_x86_64.whl (325 kB)\n",
            "\u001b[2K   \u001b[90m━━━━━━━━━━━━━━━━━━━━━━━━━━━━━━━━━━━━━━━━\u001b[0m \u001b[32m325.2/325.2 kB\u001b[0m \u001b[31m12.2 MB/s\u001b[0m eta \u001b[36m0:00:00\u001b[0m\n",
            "\u001b[?25hDownloading h11-0.14.0-py3-none-any.whl (58 kB)\n",
            "\u001b[2K   \u001b[90m━━━━━━━━━━━━━━━━━━━━━━━━━━━━━━━━━━━━━━━━\u001b[0m \u001b[32m58.3/58.3 kB\u001b[0m \u001b[31m1.3 MB/s\u001b[0m eta \u001b[36m0:00:00\u001b[0m\n",
            "\u001b[?25hInstalling collected packages: jiter, h11, httpcore, httpx, openai, scikit-llm\n",
            "Successfully installed h11-0.14.0 httpcore-1.0.6 httpx-0.27.2 jiter-0.6.1 openai-1.51.2 scikit-llm-1.4.0\n"
          ]
        }
      ],
      "source": [
        "!pip install scikit-llm"
      ]
    },
    {
      "cell_type": "markdown",
      "source": [
        "#Text classification\n",
        "\n"
      ],
      "metadata": {
        "id": "laWGr1J_Htnw"
      }
    },
    {
      "cell_type": "markdown",
      "source": [
        "##Zero-shot text classification\n"
      ],
      "metadata": {
        "id": "W2iGzQvGHuDM"
      }
    },
    {
      "cell_type": "code",
      "source": [
        "from skllm.config import SKLLMConfig\n",
        "from google.colab import userdata\n",
        "\n",
        "SKLLMConfig.set_openai_key(userdata.get('OPENAI_API_KEY'))"
      ],
      "metadata": {
        "id": "_pLC6LeVHVb6"
      },
      "execution_count": 2,
      "outputs": []
    },
    {
      "cell_type": "code",
      "source": [
        "from skllm.models.gpt.classification.zero_shot import ZeroShotGPTClassifier\n",
        "from skllm.datasets import get_classification_dataset\n",
        "\n",
        "X, _ = get_classification_dataset()\n",
        "\n",
        "clf = ZeroShotGPTClassifier()\n",
        "clf.fit(None, [\"positive\", \"negative\", \"neutral\"])\n",
        "labels = clf.predict(X)"
      ],
      "metadata": {
        "colab": {
          "base_uri": "https://localhost:8080/"
        },
        "id": "Cm0iAHpyIJGn",
        "outputId": "b877a5fe-522b-426c-fbd2-2c86cad68450"
      },
      "execution_count": 3,
      "outputs": [
        {
          "output_type": "stream",
          "name": "stderr",
          "text": [
            "100%|██████████| 30/30 [00:19<00:00,  1.51it/s]\n"
          ]
        }
      ]
    },
    {
      "cell_type": "code",
      "source": [
        "X"
      ],
      "metadata": {
        "colab": {
          "base_uri": "https://localhost:8080/"
        },
        "id": "Ng4F_WUYIli2",
        "outputId": "9e055121-2733-45b0-fcc3-a2134558d3be"
      },
      "execution_count": 5,
      "outputs": [
        {
          "output_type": "execute_result",
          "data": {
            "text/plain": [
              "[\"I was absolutely blown away by the performances in 'Summer's End'. The acting was top-notch, and the plot had me gripped from start to finish. A truly captivating cinematic experience that I would highly recommend.\",\n",
              " \"The special effects in 'Star Battles: Nebula Conflict' were out of this world. I felt like I was actually in space. The storyline was incredibly engaging and left me wanting more. Excellent film.\",\n",
              " \"'The Lost Symphony' was a masterclass in character development and storytelling. The score was hauntingly beautiful and complimented the intense, emotional scenes perfectly. Kudos to the director and cast for creating such a masterpiece.\",\n",
              " \"I was pleasantly surprised by 'Love in the Time of Cholera'. The romantic storyline was heartwarming and the characters were incredibly realistic. The cinematography was also top-notch. A must-watch for all romance lovers.\",\n",
              " \"I went into 'Marble Street' with low expectations, but I was pleasantly surprised. The suspense was well-maintained throughout, and the twist at the end was something I did not see coming. Bravo!\",\n",
              " \"'The Great Plains' is a touching portrayal of life in rural America. The performances were heartfelt and the scenery was breathtaking. I was moved to tears by the end. It's a story that will stay with me for a long time.\",\n",
              " \"The screenwriting in 'Under the Willow Tree' was superb. The dialogue felt real and the characters were well-rounded. The performances were also fantastic. I haven't enjoyed a movie this much in a while.\",\n",
              " \"'Nightshade' is a brilliant take on the superhero genre. The protagonist was relatable and the villain was genuinely scary. The action sequences were thrilling and the storyline was engaging. I can't wait for the sequel.\",\n",
              " \"The cinematography in 'Awakening' was nothing short of spectacular. The visuals alone are worth the ticket price. The storyline was unique and the performances were solid. An overall fantastic film.\",\n",
              " \"'Eternal Embers' was a cinematic delight. The storytelling was original and the performances were exceptional. The director's vision was truly brought to life on the big screen. A must-see for all movie lovers.\",\n",
              " \"I was thoroughly disappointed with 'Silver Shadows'. The plot was confusing and the performances were lackluster. I wouldn't recommend wasting your time on this one.\",\n",
              " \"'The Darkened Path' was a disaster. The storyline was unoriginal, the acting was wooden and the special effects were laughably bad. Save your money and skip this one.\",\n",
              " \"I had high hopes for 'The Final Frontier', but it failed to deliver. The plot was full of holes and the characters were poorly developed. It was a disappointing experience.\",\n",
              " \"'The Fall of the Phoenix' was a letdown. The storyline was confusing and the characters were one-dimensional. I found myself checking my watch multiple times throughout the movie.\",\n",
              " \"I regret wasting my time on 'Emerald City'. The plot was nonsensical and the performances were uninspired. It was a major disappointment.\",\n",
              " \"I found 'Hollow Echoes' to be a complete mess. The plot was non-existent, the performances were overdone, and the pacing was all over the place. Definitely not worth the hype.\",\n",
              " \"'Underneath the Stars' was a huge disappointment. The storyline was predictable and the acting was mediocre at best. I was expecting so much more.\",\n",
              " \"I was left unimpressed by 'River's Edge'. The plot was convoluted, the characters were uninteresting, and the ending was unsatisfying. It's a pass for me.\",\n",
              " \"The acting in 'Desert Mirage' was subpar, and the plot was boring. I found myself yawning multiple times throughout the movie. Save your time and skip this one.\",\n",
              " \"'Crimson Dawn' was a major letdown. The plot was cliched and the characters were flat. The special effects were also poorly executed. I wouldn't recommend it.\",\n",
              " \"'Remember the Days' was utterly forgettable. The storyline was dull, the performances were bland, and the dialogue was cringeworthy. A big disappointment.\",\n",
              " \"'The Last Frontier' was simply okay. The plot was decent and the performances were acceptable. However, it lacked a certain spark to make it truly memorable.\",\n",
              " \"'Through the Storm' was not bad, but it wasn't great either. The storyline was somewhat predictable, and the characters were somewhat stereotypical. It was an average movie at best.\",\n",
              " \"I found 'After the Rain' to be pretty average. The plot was okay and the performances were decent, but it didn't leave a lasting impression on me.\",\n",
              " \"'Beyond the Horizon' was neither good nor bad. The plot was interesting enough, but the characters were not very well developed. It was an okay watch.\",\n",
              " \"'The Silent Echo' was a mediocre movie. The storyline was passable and the performances were fair, but it didn't stand out in any way.\",\n",
              " \"I thought 'The Scent of Roses' was pretty average. The plot was somewhat engaging, and the performances were okay, but it didn't live up to my expectations.\",\n",
              " \"'Under the Same Sky' was an okay movie. The plot was decent, and the performances were fine, but it lacked depth and originality. It's not a movie I would watch again.\",\n",
              " \"'Chasing Shadows' was fairly average. The plot was not bad, and the performances were passable, but it lacked a certain spark. It was just okay.\",\n",
              " \"'Beneath the Surface' was pretty run-of-the-mill. The plot was decent, the performances were okay, but it wasn't particularly memorable. It was an okay movie.\"]"
            ]
          },
          "metadata": {},
          "execution_count": 5
        }
      ]
    },
    {
      "cell_type": "code",
      "source": [
        "labels"
      ],
      "metadata": {
        "colab": {
          "base_uri": "https://localhost:8080/"
        },
        "id": "iJigkuEoIfnL",
        "outputId": "2f3ff62a-faa3-4d0f-bda4-e1d3d0031861"
      },
      "execution_count": 4,
      "outputs": [
        {
          "output_type": "execute_result",
          "data": {
            "text/plain": [
              "array(['positive', 'positive', 'positive', 'positive', 'positive',\n",
              "       'positive', 'positive', 'positive', 'positive', 'positive',\n",
              "       'negative', 'negative', 'negative', 'negative', 'negative',\n",
              "       'negative', 'negative', 'negative', 'negative', 'negative',\n",
              "       'negative', 'neutral', 'neutral', 'neutral', 'neutral', 'negative',\n",
              "       'negative', 'negative', 'neutral', 'neutral'], dtype='<U8')"
            ]
          },
          "metadata": {},
          "execution_count": 4
        }
      ]
    },
    {
      "cell_type": "code",
      "source": [
        "from skllm.models.gpt.classification.zero_shot import MultiLabelZeroShotGPTClassifier\n",
        "from skllm.datasets import get_multilabel_classification_dataset\n",
        "\n",
        "X, _ = get_multilabel_classification_dataset()\n",
        "candidate_labels = [\n",
        "    \"Quality\",\n",
        "    \"Price\",\n",
        "    \"Delivery\",\n",
        "    \"Service\",\n",
        "    \"Product Variety\",\n",
        "    \"Customer Support\",\n",
        "    \"Packaging\",\n",
        "    \"User Experience\",\n",
        "    \"Return Policy\",\n",
        "    \"Product Information\",\n",
        "]\n",
        "clf = MultiLabelZeroShotGPTClassifier(max_labels=3)\n",
        "clf.fit(None, [candidate_labels])\n",
        "labels = clf.predict(X)"
      ],
      "metadata": {
        "colab": {
          "base_uri": "https://localhost:8080/"
        },
        "id": "nBGmpRaqIkuo",
        "outputId": "f9ef2610-1554-4600-ed5d-e66466ff9832"
      },
      "execution_count": 6,
      "outputs": [
        {
          "output_type": "stream",
          "name": "stderr",
          "text": [
            "100%|██████████| 10/10 [00:07<00:00,  1.27it/s]\n"
          ]
        }
      ]
    },
    {
      "cell_type": "code",
      "source": [
        "X"
      ],
      "metadata": {
        "colab": {
          "base_uri": "https://localhost:8080/"
        },
        "id": "6xQHLmrmIrmy",
        "outputId": "78c9629a-5589-4591-ef91-3c34bef52f8e"
      },
      "execution_count": 7,
      "outputs": [
        {
          "output_type": "execute_result",
          "data": {
            "text/plain": [
              "['The product was of excellent quality, and the packaging was also very good. Highly recommend!',\n",
              " 'The delivery was super fast, but the product did not match the information provided on the website.',\n",
              " 'Great variety of products, but the customer support was quite unresponsive.',\n",
              " 'Affordable prices and an easy-to-use website. A great shopping experience overall.',\n",
              " 'The delivery was delayed, and the packaging was damaged. Not a good experience.',\n",
              " 'Excellent customer support, but the return policy is quite complicated.',\n",
              " 'The product was not as described. However, the return process was easy and quick.',\n",
              " 'Great service and fast delivery. The product was also of high quality.',\n",
              " 'The prices are a bit high. However, the product quality and user experience are worth it.',\n",
              " 'The website provides detailed information about products. The delivery was also very fast.']"
            ]
          },
          "metadata": {},
          "execution_count": 7
        }
      ]
    },
    {
      "cell_type": "code",
      "source": [
        "labels"
      ],
      "metadata": {
        "colab": {
          "base_uri": "https://localhost:8080/"
        },
        "id": "9HgNOxm6Iu4X",
        "outputId": "622cc53c-0222-4032-da6d-b445efe04acd"
      },
      "execution_count": 8,
      "outputs": [
        {
          "output_type": "execute_result",
          "data": {
            "text/plain": [
              "array([['Quality', 'Packaging', ''],\n",
              "       ['Delivery', 'Product Information', ''],\n",
              "       ['Product Variety', 'Customer Support', ''],\n",
              "       ['Price', 'User Experience', ''],\n",
              "       ['Delivery', 'Packaging', 'User Experience'],\n",
              "       ['Customer Support', 'Return Policy', ''],\n",
              "       ['Return Policy', 'Quality', ''],\n",
              "       ['Service', 'Quality', 'Delivery'],\n",
              "       ['Quality', 'Price', 'User Experience'],\n",
              "       ['Product Information', 'Delivery', '']], dtype='<U19')"
            ]
          },
          "metadata": {},
          "execution_count": 8
        }
      ]
    },
    {
      "cell_type": "markdown",
      "source": [
        "##Few-shot text classification\n"
      ],
      "metadata": {
        "id": "i9p2X24EI07G"
      }
    },
    {
      "cell_type": "code",
      "source": [
        "from skllm.models.gpt.classification.few_shot import (\n",
        "FewShotGPTClassifier,\n",
        "MultiLabelFewShotGPTClassifier,\n",
        ")\n",
        "from skllm.datasets import (\n",
        "    get_classification_dataset,\n",
        "    get_multilabel_classification_dataset,\n",
        ")\n",
        "\n",
        "# single label\n",
        "X, y = get_classification_dataset()\n",
        "clf = FewShotGPTClassifier(model=\"gpt-4o\")\n",
        "clf.fit(X,y)\n",
        "labels = clf.predict(X)"
      ],
      "metadata": {
        "colab": {
          "base_uri": "https://localhost:8080/"
        },
        "id": "lRSclcj-I1fi",
        "outputId": "c9126716-462f-445c-9b39-05cb7718e0b1"
      },
      "execution_count": 9,
      "outputs": [
        {
          "output_type": "stream",
          "name": "stderr",
          "text": [
            "100%|██████████| 30/30 [00:19<00:00,  1.51it/s]\n"
          ]
        }
      ]
    },
    {
      "cell_type": "code",
      "source": [
        "X"
      ],
      "metadata": {
        "colab": {
          "base_uri": "https://localhost:8080/"
        },
        "id": "57NBF5hWJM87",
        "outputId": "8154de49-1e09-4ca1-fa92-8d606469397b"
      },
      "execution_count": 10,
      "outputs": [
        {
          "output_type": "execute_result",
          "data": {
            "text/plain": [
              "[\"I was absolutely blown away by the performances in 'Summer's End'. The acting was top-notch, and the plot had me gripped from start to finish. A truly captivating cinematic experience that I would highly recommend.\",\n",
              " \"The special effects in 'Star Battles: Nebula Conflict' were out of this world. I felt like I was actually in space. The storyline was incredibly engaging and left me wanting more. Excellent film.\",\n",
              " \"'The Lost Symphony' was a masterclass in character development and storytelling. The score was hauntingly beautiful and complimented the intense, emotional scenes perfectly. Kudos to the director and cast for creating such a masterpiece.\",\n",
              " \"I was pleasantly surprised by 'Love in the Time of Cholera'. The romantic storyline was heartwarming and the characters were incredibly realistic. The cinematography was also top-notch. A must-watch for all romance lovers.\",\n",
              " \"I went into 'Marble Street' with low expectations, but I was pleasantly surprised. The suspense was well-maintained throughout, and the twist at the end was something I did not see coming. Bravo!\",\n",
              " \"'The Great Plains' is a touching portrayal of life in rural America. The performances were heartfelt and the scenery was breathtaking. I was moved to tears by the end. It's a story that will stay with me for a long time.\",\n",
              " \"The screenwriting in 'Under the Willow Tree' was superb. The dialogue felt real and the characters were well-rounded. The performances were also fantastic. I haven't enjoyed a movie this much in a while.\",\n",
              " \"'Nightshade' is a brilliant take on the superhero genre. The protagonist was relatable and the villain was genuinely scary. The action sequences were thrilling and the storyline was engaging. I can't wait for the sequel.\",\n",
              " \"The cinematography in 'Awakening' was nothing short of spectacular. The visuals alone are worth the ticket price. The storyline was unique and the performances were solid. An overall fantastic film.\",\n",
              " \"'Eternal Embers' was a cinematic delight. The storytelling was original and the performances were exceptional. The director's vision was truly brought to life on the big screen. A must-see for all movie lovers.\",\n",
              " \"I was thoroughly disappointed with 'Silver Shadows'. The plot was confusing and the performances were lackluster. I wouldn't recommend wasting your time on this one.\",\n",
              " \"'The Darkened Path' was a disaster. The storyline was unoriginal, the acting was wooden and the special effects were laughably bad. Save your money and skip this one.\",\n",
              " \"I had high hopes for 'The Final Frontier', but it failed to deliver. The plot was full of holes and the characters were poorly developed. It was a disappointing experience.\",\n",
              " \"'The Fall of the Phoenix' was a letdown. The storyline was confusing and the characters were one-dimensional. I found myself checking my watch multiple times throughout the movie.\",\n",
              " \"I regret wasting my time on 'Emerald City'. The plot was nonsensical and the performances were uninspired. It was a major disappointment.\",\n",
              " \"I found 'Hollow Echoes' to be a complete mess. The plot was non-existent, the performances were overdone, and the pacing was all over the place. Definitely not worth the hype.\",\n",
              " \"'Underneath the Stars' was a huge disappointment. The storyline was predictable and the acting was mediocre at best. I was expecting so much more.\",\n",
              " \"I was left unimpressed by 'River's Edge'. The plot was convoluted, the characters were uninteresting, and the ending was unsatisfying. It's a pass for me.\",\n",
              " \"The acting in 'Desert Mirage' was subpar, and the plot was boring. I found myself yawning multiple times throughout the movie. Save your time and skip this one.\",\n",
              " \"'Crimson Dawn' was a major letdown. The plot was cliched and the characters were flat. The special effects were also poorly executed. I wouldn't recommend it.\",\n",
              " \"'Remember the Days' was utterly forgettable. The storyline was dull, the performances were bland, and the dialogue was cringeworthy. A big disappointment.\",\n",
              " \"'The Last Frontier' was simply okay. The plot was decent and the performances were acceptable. However, it lacked a certain spark to make it truly memorable.\",\n",
              " \"'Through the Storm' was not bad, but it wasn't great either. The storyline was somewhat predictable, and the characters were somewhat stereotypical. It was an average movie at best.\",\n",
              " \"I found 'After the Rain' to be pretty average. The plot was okay and the performances were decent, but it didn't leave a lasting impression on me.\",\n",
              " \"'Beyond the Horizon' was neither good nor bad. The plot was interesting enough, but the characters were not very well developed. It was an okay watch.\",\n",
              " \"'The Silent Echo' was a mediocre movie. The storyline was passable and the performances were fair, but it didn't stand out in any way.\",\n",
              " \"I thought 'The Scent of Roses' was pretty average. The plot was somewhat engaging, and the performances were okay, but it didn't live up to my expectations.\",\n",
              " \"'Under the Same Sky' was an okay movie. The plot was decent, and the performances were fine, but it lacked depth and originality. It's not a movie I would watch again.\",\n",
              " \"'Chasing Shadows' was fairly average. The plot was not bad, and the performances were passable, but it lacked a certain spark. It was just okay.\",\n",
              " \"'Beneath the Surface' was pretty run-of-the-mill. The plot was decent, the performances were okay, but it wasn't particularly memorable. It was an okay movie.\"]"
            ]
          },
          "metadata": {},
          "execution_count": 10
        }
      ]
    },
    {
      "cell_type": "code",
      "source": [
        "y"
      ],
      "metadata": {
        "colab": {
          "base_uri": "https://localhost:8080/"
        },
        "id": "JoPDGnS0Jt2U",
        "outputId": "6fa05458-d0d7-4c3b-ce91-c4218efdfd25"
      },
      "execution_count": 11,
      "outputs": [
        {
          "output_type": "execute_result",
          "data": {
            "text/plain": [
              "['positive',\n",
              " 'positive',\n",
              " 'positive',\n",
              " 'positive',\n",
              " 'positive',\n",
              " 'positive',\n",
              " 'positive',\n",
              " 'positive',\n",
              " 'positive',\n",
              " 'positive',\n",
              " 'negative',\n",
              " 'negative',\n",
              " 'negative',\n",
              " 'negative',\n",
              " 'negative',\n",
              " 'negative',\n",
              " 'negative',\n",
              " 'negative',\n",
              " 'negative',\n",
              " 'negative',\n",
              " 'neutral',\n",
              " 'neutral',\n",
              " 'neutral',\n",
              " 'neutral',\n",
              " 'neutral',\n",
              " 'neutral',\n",
              " 'neutral',\n",
              " 'neutral',\n",
              " 'neutral',\n",
              " 'neutral']"
            ]
          },
          "metadata": {},
          "execution_count": 11
        }
      ]
    },
    {
      "cell_type": "code",
      "source": [
        "X, y = get_multilabel_classification_dataset()\n",
        "clf = MultiLabelFewShotGPTClassifier(max_labels=3, model=\"gpt-4o-mini\")\n",
        "clf.fit(X,y)\n",
        "labels = clf.predict(X)"
      ],
      "metadata": {
        "colab": {
          "base_uri": "https://localhost:8080/"
        },
        "id": "zUbiQeUeJwdX",
        "outputId": "b6a99f56-bdf9-4da2-a3ed-9804cf9c9cb0"
      },
      "execution_count": 12,
      "outputs": [
        {
          "output_type": "stream",
          "name": "stderr",
          "text": [
            "100%|██████████| 10/10 [00:11<00:00,  1.13s/it]\n"
          ]
        }
      ]
    },
    {
      "cell_type": "code",
      "source": [
        "X"
      ],
      "metadata": {
        "colab": {
          "base_uri": "https://localhost:8080/"
        },
        "id": "U8SD3nKHJ377",
        "outputId": "c80dc9b6-31e4-4a42-e013-697aa700087e"
      },
      "execution_count": 13,
      "outputs": [
        {
          "output_type": "execute_result",
          "data": {
            "text/plain": [
              "['The product was of excellent quality, and the packaging was also very good. Highly recommend!',\n",
              " 'The delivery was super fast, but the product did not match the information provided on the website.',\n",
              " 'Great variety of products, but the customer support was quite unresponsive.',\n",
              " 'Affordable prices and an easy-to-use website. A great shopping experience overall.',\n",
              " 'The delivery was delayed, and the packaging was damaged. Not a good experience.',\n",
              " 'Excellent customer support, but the return policy is quite complicated.',\n",
              " 'The product was not as described. However, the return process was easy and quick.',\n",
              " 'Great service and fast delivery. The product was also of high quality.',\n",
              " 'The prices are a bit high. However, the product quality and user experience are worth it.',\n",
              " 'The website provides detailed information about products. The delivery was also very fast.']"
            ]
          },
          "metadata": {},
          "execution_count": 13
        }
      ]
    },
    {
      "cell_type": "code",
      "source": [
        "y"
      ],
      "metadata": {
        "colab": {
          "base_uri": "https://localhost:8080/"
        },
        "id": "WN86UA-nKdno",
        "outputId": "f4d767fe-e498-4cb1-fbcb-a6ec7b69bcae"
      },
      "execution_count": 14,
      "outputs": [
        {
          "output_type": "execute_result",
          "data": {
            "text/plain": [
              "[['Quality', 'Packaging'],\n",
              " ['Delivery', 'Product Information'],\n",
              " ['Product Variety', 'Customer Support'],\n",
              " ['Price', 'User Experience'],\n",
              " ['Delivery', 'Packaging'],\n",
              " ['Customer Support', 'Return Policy'],\n",
              " ['Product Information', 'Return Policy'],\n",
              " ['Service', 'Delivery', 'Quality'],\n",
              " ['Price', 'Quality', 'User Experience'],\n",
              " ['Product Information', 'Delivery']]"
            ]
          },
          "metadata": {},
          "execution_count": 14
        }
      ]
    },
    {
      "cell_type": "markdown",
      "source": [
        "##Dynamic few-shot text classification\n"
      ],
      "metadata": {
        "id": "5U7Y-c9dLAJE"
      }
    },
    {
      "cell_type": "code",
      "source": [
        "X = [\n",
        "    \"I love reading science fiction novels, they transport me to other worlds.\", # example 1 - book - sci-fi\n",
        "    \"A good mystery novel keeps me guessing until the very end.\", # example 2 - book - mystery\n",
        "    \"Historical novels give me a sense of different times and places.\", # example 3 - book - historical\n",
        "    \"I love watching science fiction movies, they transport me to other galaxies.\", # example 4 - movie - sci-fi\n",
        "    \"A good mystery movie keeps me on the edge of my seat.\", # example 5 - movie - mystery\n",
        "    \"Historical movies offer a glimpse into the past.\", # example 6 - movie - historical\n",
        "]\n",
        "\n",
        "y = [\"books\", \"books\", \"books\", \"movies\", \"movies\", \"movies\"]"
      ],
      "metadata": {
        "id": "_lQA3UlkKfP-"
      },
      "execution_count": 15,
      "outputs": []
    },
    {
      "cell_type": "code",
      "source": [
        "from skllm.models.gpt.classification.few_shot import DynamicFewShotGPTClassifier\n",
        "\n",
        "query = \"I have fallen deeply in love with this sci-fi book; its unique blend of science and fiction has me spellbound.\"\n",
        "\n",
        "clf = DynamicFewShotGPTClassifier(n_examples=1, model=\"gpt-4o-mini\").fit(X,y)\n",
        "\n",
        "prompt = clf._get_prompt(query)\n",
        "print(prompt)"
      ],
      "metadata": {
        "colab": {
          "base_uri": "https://localhost:8080/"
        },
        "id": "y1gBRj2OLZ8c",
        "outputId": "8e4f25ee-a6ea-41c6-b215-f7570ff87360"
      },
      "execution_count": 16,
      "outputs": [
        {
          "output_type": "stream",
          "name": "stdout",
          "text": [
            "Building index for class `books` ...\n",
            "Batch size: 1\n"
          ]
        },
        {
          "output_type": "stream",
          "name": "stderr",
          "text": [
            "100%|██████████| 3/3 [00:01<00:00,  2.31it/s]\n"
          ]
        },
        {
          "output_type": "stream",
          "name": "stdout",
          "text": [
            "Building index for class `movies` ...\n",
            "Batch size: 1\n"
          ]
        },
        {
          "output_type": "stream",
          "name": "stderr",
          "text": [
            "100%|██████████| 3/3 [00:01<00:00,  1.64it/s]\n"
          ]
        },
        {
          "output_type": "stream",
          "name": "stdout",
          "text": [
            "Batch size: 1\n"
          ]
        },
        {
          "output_type": "stream",
          "name": "stderr",
          "text": [
            "100%|██████████| 1/1 [00:00<00:00,  3.39it/s]"
          ]
        },
        {
          "output_type": "stream",
          "name": "stdout",
          "text": [
            "{'messages': \"\\nYou will be provided with the following information:\\n1. An arbitrary text sample. The sample is delimited with triple backticks.\\n2. List of categories the text sample can be assigned to. The list is delimited with square brackets. The categories in the list are enclosed in the single quotes and comma separated.\\n3. Examples of text samples and their assigned categories. The examples are delimited with triple backticks. The assigned categories are enclosed in a list-like structure. These examples are to be used as training data.\\n\\nPerform the following tasks:\\n1. Identify to which category the provided text belongs to with the highest probability.\\n2. Assign the provided text to that category.\\n3. Provide your response in a JSON format containing a single key `label` and a value corresponding to the assigned category. Do not provide any additional information except the JSON.\\n\\nList of categories: ['books', 'movies']\\n\\nTraining data:\\n\\nSample input:\\n```I love reading science fiction novels, they transport me to other worlds.```\\ns\\nSample target: books\\n\\n\\nSample input:\\n```I love watching science fiction movies, they transport me to other galaxies.```\\ns\\nSample target: movies\\n\\n\\nText sample: ```I have fallen deeply in love with this sci-fi book; its unique blend of science and fiction has me spellbound.```\\n\\nYour JSON response:\\n\", 'system_message': 'You are a text classifier.'}\n"
          ]
        },
        {
          "output_type": "stream",
          "name": "stderr",
          "text": [
            "\n"
          ]
        }
      ]
    },
    {
      "cell_type": "code",
      "source": [
        "print(prompt)"
      ],
      "metadata": {
        "colab": {
          "base_uri": "https://localhost:8080/"
        },
        "id": "J6r5ez_oLrwy",
        "outputId": "29d66194-7f7d-4dd9-f6e7-1f866ad0d5b8"
      },
      "execution_count": 17,
      "outputs": [
        {
          "output_type": "stream",
          "name": "stdout",
          "text": [
            "{'messages': \"\\nYou will be provided with the following information:\\n1. An arbitrary text sample. The sample is delimited with triple backticks.\\n2. List of categories the text sample can be assigned to. The list is delimited with square brackets. The categories in the list are enclosed in the single quotes and comma separated.\\n3. Examples of text samples and their assigned categories. The examples are delimited with triple backticks. The assigned categories are enclosed in a list-like structure. These examples are to be used as training data.\\n\\nPerform the following tasks:\\n1. Identify to which category the provided text belongs to with the highest probability.\\n2. Assign the provided text to that category.\\n3. Provide your response in a JSON format containing a single key `label` and a value corresponding to the assigned category. Do not provide any additional information except the JSON.\\n\\nList of categories: ['books', 'movies']\\n\\nTraining data:\\n\\nSample input:\\n```I love reading science fiction novels, they transport me to other worlds.```\\ns\\nSample target: books\\n\\n\\nSample input:\\n```I love watching science fiction movies, they transport me to other galaxies.```\\ns\\nSample target: movies\\n\\n\\nText sample: ```I have fallen deeply in love with this sci-fi book; its unique blend of science and fiction has me spellbound.```\\n\\nYour JSON response:\\n\", 'system_message': 'You are a text classifier.'}\n"
          ]
        }
      ]
    },
    {
      "cell_type": "code",
      "source": [
        "labels = clf.predict(query)"
      ],
      "metadata": {
        "colab": {
          "base_uri": "https://localhost:8080/"
        },
        "id": "xCPV8kD8LuPO",
        "outputId": "015499c7-76e6-4658-a89a-26e3f919d719"
      },
      "execution_count": 18,
      "outputs": [
        {
          "output_type": "stream",
          "name": "stderr",
          "text": [
            "\r  0%|          | 0/110 [00:00<?, ?it/s]"
          ]
        },
        {
          "output_type": "stream",
          "name": "stdout",
          "text": [
            "Batch size: 1\n"
          ]
        },
        {
          "output_type": "stream",
          "name": "stderr",
          "text": [
            "\n",
            "  0%|          | 0/1 [00:00<?, ?it/s]\u001b[A\n",
            "100%|██████████| 1/1 [00:00<00:00,  1.20it/s]\n",
            "  1%|          | 1/110 [00:01<03:18,  1.82s/it]"
          ]
        },
        {
          "output_type": "stream",
          "name": "stdout",
          "text": [
            "Batch size: 1\n"
          ]
        },
        {
          "output_type": "stream",
          "name": "stderr",
          "text": [
            "\n",
            "  0%|          | 0/1 [00:00<?, ?it/s]\u001b[A\n",
            "100%|██████████| 1/1 [00:00<00:00,  3.31it/s]\n",
            "  2%|▏         | 2/110 [00:03<02:44,  1.52s/it]"
          ]
        },
        {
          "output_type": "stream",
          "name": "stdout",
          "text": [
            "Batch size: 1\n"
          ]
        },
        {
          "output_type": "stream",
          "name": "stderr",
          "text": [
            "\n",
            "  0%|          | 0/1 [00:00<?, ?it/s]\u001b[A\n",
            "100%|██████████| 1/1 [00:00<00:00,  3.30it/s]\n",
            "  3%|▎         | 3/110 [00:04<02:26,  1.37s/it]"
          ]
        },
        {
          "output_type": "stream",
          "name": "stdout",
          "text": [
            "Batch size: 1\n"
          ]
        },
        {
          "output_type": "stream",
          "name": "stderr",
          "text": [
            "\n",
            "  0%|          | 0/1 [00:00<?, ?it/s]\u001b[A\n",
            "100%|██████████| 1/1 [00:00<00:00,  3.58it/s]\n",
            "  4%|▎         | 4/110 [00:05<02:17,  1.29s/it]"
          ]
        },
        {
          "output_type": "stream",
          "name": "stdout",
          "text": [
            "Batch size: 1\n"
          ]
        },
        {
          "output_type": "stream",
          "name": "stderr",
          "text": [
            "\n",
            "  0%|          | 0/1 [00:00<?, ?it/s]\u001b[A\n",
            "100%|██████████| 1/1 [00:00<00:00,  2.16it/s]\n",
            "  5%|▍         | 5/110 [00:06<02:17,  1.31s/it]"
          ]
        },
        {
          "output_type": "stream",
          "name": "stdout",
          "text": [
            "Batch size: 1\n"
          ]
        },
        {
          "output_type": "stream",
          "name": "stderr",
          "text": [
            "\n",
            "  0%|          | 0/1 [00:00<?, ?it/s]\u001b[A\n",
            "100%|██████████| 1/1 [00:00<00:00,  1.88it/s]\n",
            "  5%|▌         | 6/110 [00:08<02:23,  1.38s/it]"
          ]
        },
        {
          "output_type": "stream",
          "name": "stdout",
          "text": [
            "Batch size: 1\n"
          ]
        },
        {
          "output_type": "stream",
          "name": "stderr",
          "text": [
            "\n",
            "  0%|          | 0/1 [00:00<?, ?it/s]\u001b[A\n",
            "100%|██████████| 1/1 [00:00<00:00,  1.40it/s]\n",
            "  6%|▋         | 7/110 [00:10<02:33,  1.49s/it]"
          ]
        },
        {
          "output_type": "stream",
          "name": "stdout",
          "text": [
            "Batch size: 1\n"
          ]
        },
        {
          "output_type": "stream",
          "name": "stderr",
          "text": [
            "\n",
            "  0%|          | 0/1 [00:00<?, ?it/s]\u001b[A\n",
            "100%|██████████| 1/1 [00:00<00:00,  1.43it/s]\n",
            "  7%|▋         | 8/110 [00:11<02:35,  1.52s/it]"
          ]
        },
        {
          "output_type": "stream",
          "name": "stdout",
          "text": [
            "Batch size: 1\n"
          ]
        },
        {
          "output_type": "stream",
          "name": "stderr",
          "text": [
            "\n",
            "  0%|          | 0/1 [00:00<?, ?it/s]\u001b[A\n",
            "100%|██████████| 1/1 [00:00<00:00,  4.72it/s]\n",
            "  8%|▊         | 9/110 [00:12<02:21,  1.40s/it]"
          ]
        },
        {
          "output_type": "stream",
          "name": "stdout",
          "text": [
            "Batch size: 1\n"
          ]
        },
        {
          "output_type": "stream",
          "name": "stderr",
          "text": [
            "\n",
            "  0%|          | 0/1 [00:00<?, ?it/s]\u001b[A\n",
            "100%|██████████| 1/1 [00:00<00:00,  2.05it/s]\n",
            "  9%|▉         | 10/110 [00:14<02:18,  1.39s/it]"
          ]
        },
        {
          "output_type": "stream",
          "name": "stdout",
          "text": [
            "Batch size: 1\n"
          ]
        },
        {
          "output_type": "stream",
          "name": "stderr",
          "text": [
            "\n",
            "  0%|          | 0/1 [00:00<?, ?it/s]\u001b[A\n",
            "100%|██████████| 1/1 [00:00<00:00,  2.62it/s]\n",
            " 10%|█         | 11/110 [00:15<02:13,  1.35s/it]"
          ]
        },
        {
          "output_type": "stream",
          "name": "stdout",
          "text": [
            "Batch size: 1\n"
          ]
        },
        {
          "output_type": "stream",
          "name": "stderr",
          "text": [
            "\n",
            "  0%|          | 0/1 [00:00<?, ?it/s]\u001b[A\n",
            "100%|██████████| 1/1 [00:00<00:00,  2.77it/s]\n",
            " 11%|█         | 12/110 [00:16<02:08,  1.31s/it]"
          ]
        },
        {
          "output_type": "stream",
          "name": "stdout",
          "text": [
            "Batch size: 1\n"
          ]
        },
        {
          "output_type": "stream",
          "name": "stderr",
          "text": [
            "\n",
            "  0%|          | 0/1 [00:00<?, ?it/s]\u001b[A\n",
            "100%|██████████| 1/1 [00:00<00:00,  1.55it/s]\n",
            " 12%|█▏        | 13/110 [00:18<02:13,  1.38s/it]"
          ]
        },
        {
          "output_type": "stream",
          "name": "stdout",
          "text": [
            "Batch size: 1\n"
          ]
        },
        {
          "output_type": "stream",
          "name": "stderr",
          "text": [
            "\n",
            "  0%|          | 0/1 [00:00<?, ?it/s]\u001b[A\n",
            "100%|██████████| 1/1 [00:00<00:00,  3.81it/s]\n",
            " 13%|█▎        | 14/110 [00:19<02:05,  1.31s/it]"
          ]
        },
        {
          "output_type": "stream",
          "name": "stdout",
          "text": [
            "Batch size: 1\n"
          ]
        },
        {
          "output_type": "stream",
          "name": "stderr",
          "text": [
            "\n",
            "  0%|          | 0/1 [00:00<?, ?it/s]\u001b[A\n",
            "100%|██████████| 1/1 [00:00<00:00,  1.80it/s]\n",
            " 14%|█▎        | 15/110 [00:20<02:11,  1.39s/it]"
          ]
        },
        {
          "output_type": "stream",
          "name": "stdout",
          "text": [
            "Batch size: 1\n"
          ]
        },
        {
          "output_type": "stream",
          "name": "stderr",
          "text": [
            "\n",
            "  0%|          | 0/1 [00:00<?, ?it/s]\u001b[A\n",
            "100%|██████████| 1/1 [00:00<00:00,  3.31it/s]\n",
            " 15%|█▍        | 16/110 [00:22<02:04,  1.33s/it]"
          ]
        },
        {
          "output_type": "stream",
          "name": "stdout",
          "text": [
            "Batch size: 1\n"
          ]
        },
        {
          "output_type": "stream",
          "name": "stderr",
          "text": [
            "\n",
            "  0%|          | 0/1 [00:00<?, ?it/s]\u001b[A\n",
            "100%|██████████| 1/1 [00:01<00:00,  1.00s/it]\n",
            " 15%|█▌        | 17/110 [00:23<02:19,  1.50s/it]"
          ]
        },
        {
          "output_type": "stream",
          "name": "stdout",
          "text": [
            "Batch size: 1\n"
          ]
        },
        {
          "output_type": "stream",
          "name": "stderr",
          "text": [
            "\n",
            "  0%|          | 0/1 [00:00<?, ?it/s]\u001b[A\n",
            "100%|██████████| 1/1 [00:00<00:00,  2.13it/s]\n",
            " 16%|█▋        | 18/110 [00:25<02:13,  1.45s/it]"
          ]
        },
        {
          "output_type": "stream",
          "name": "stdout",
          "text": [
            "Batch size: 1\n"
          ]
        },
        {
          "output_type": "stream",
          "name": "stderr",
          "text": [
            "\n",
            "  0%|          | 0/1 [00:00<?, ?it/s]\u001b[A\n",
            "100%|██████████| 1/1 [00:00<00:00,  2.20it/s]\n",
            " 17%|█▋        | 19/110 [00:26<02:09,  1.42s/it]"
          ]
        },
        {
          "output_type": "stream",
          "name": "stdout",
          "text": [
            "Batch size: 1\n"
          ]
        },
        {
          "output_type": "stream",
          "name": "stderr",
          "text": [
            "\n",
            "  0%|          | 0/1 [00:00<?, ?it/s]\u001b[A\n",
            "100%|██████████| 1/1 [00:00<00:00,  3.90it/s]\n",
            " 18%|█▊        | 20/110 [00:27<02:01,  1.35s/it]"
          ]
        },
        {
          "output_type": "stream",
          "name": "stdout",
          "text": [
            "Batch size: 1\n"
          ]
        },
        {
          "output_type": "stream",
          "name": "stderr",
          "text": [
            "\n",
            "  0%|          | 0/1 [00:00<?, ?it/s]\u001b[A\n",
            "100%|██████████| 1/1 [00:00<00:00,  2.36it/s]\n",
            " 19%|█▉        | 21/110 [00:29<01:59,  1.34s/it]"
          ]
        },
        {
          "output_type": "stream",
          "name": "stdout",
          "text": [
            "Batch size: 1\n"
          ]
        },
        {
          "output_type": "stream",
          "name": "stderr",
          "text": [
            "\n",
            "  0%|          | 0/1 [00:00<?, ?it/s]\u001b[A\n",
            "100%|██████████| 1/1 [00:00<00:00,  3.68it/s]\n",
            " 20%|██        | 22/110 [00:30<01:54,  1.30s/it]"
          ]
        },
        {
          "output_type": "stream",
          "name": "stdout",
          "text": [
            "Batch size: 1\n"
          ]
        },
        {
          "output_type": "stream",
          "name": "stderr",
          "text": [
            "\n",
            "  0%|          | 0/1 [00:00<?, ?it/s]\u001b[A\n",
            "100%|██████████| 1/1 [00:00<00:00,  2.90it/s]\n",
            " 21%|██        | 23/110 [00:31<01:52,  1.29s/it]"
          ]
        },
        {
          "output_type": "stream",
          "name": "stdout",
          "text": [
            "Batch size: 1\n"
          ]
        },
        {
          "output_type": "stream",
          "name": "stderr",
          "text": [
            "\n",
            "  0%|          | 0/1 [00:00<?, ?it/s]\u001b[A\n",
            "100%|██████████| 1/1 [00:00<00:00,  3.83it/s]\n",
            " 22%|██▏       | 24/110 [00:32<01:50,  1.29s/it]"
          ]
        },
        {
          "output_type": "stream",
          "name": "stdout",
          "text": [
            "Batch size: 1\n"
          ]
        },
        {
          "output_type": "stream",
          "name": "stderr",
          "text": [
            "\n",
            "  0%|          | 0/1 [00:00<?, ?it/s]\u001b[A\n",
            "100%|██████████| 1/1 [00:00<00:00,  2.32it/s]\n",
            " 23%|██▎       | 25/110 [00:34<01:50,  1.30s/it]"
          ]
        },
        {
          "output_type": "stream",
          "name": "stdout",
          "text": [
            "Batch size: 1\n"
          ]
        },
        {
          "output_type": "stream",
          "name": "stderr",
          "text": [
            "\n",
            "  0%|          | 0/1 [00:00<?, ?it/s]\u001b[A\n",
            "100%|██████████| 1/1 [00:00<00:00,  3.47it/s]\n",
            " 24%|██▎       | 26/110 [00:35<01:45,  1.26s/it]"
          ]
        },
        {
          "output_type": "stream",
          "name": "stdout",
          "text": [
            "Batch size: 1\n"
          ]
        },
        {
          "output_type": "stream",
          "name": "stderr",
          "text": [
            "\n",
            "  0%|          | 0/1 [00:00<?, ?it/s]\u001b[A\n",
            "100%|██████████| 1/1 [00:00<00:00,  3.69it/s]\n",
            " 25%|██▍       | 27/110 [00:36<01:41,  1.23s/it]"
          ]
        },
        {
          "output_type": "stream",
          "name": "stdout",
          "text": [
            "Batch size: 1\n"
          ]
        },
        {
          "output_type": "stream",
          "name": "stderr",
          "text": [
            "\n",
            "  0%|          | 0/1 [00:00<?, ?it/s]\u001b[A\n",
            "100%|██████████| 1/1 [00:00<00:00,  1.41it/s]\n",
            " 25%|██▌       | 28/110 [00:38<01:49,  1.34s/it]"
          ]
        },
        {
          "output_type": "stream",
          "name": "stdout",
          "text": [
            "Batch size: 1\n"
          ]
        },
        {
          "output_type": "stream",
          "name": "stderr",
          "text": [
            "\n",
            "  0%|          | 0/1 [00:00<?, ?it/s]\u001b[A\n",
            "100%|██████████| 1/1 [00:00<00:00,  3.21it/s]\n",
            " 26%|██▋       | 29/110 [00:39<01:44,  1.29s/it]"
          ]
        },
        {
          "output_type": "stream",
          "name": "stdout",
          "text": [
            "Batch size: 1\n"
          ]
        },
        {
          "output_type": "stream",
          "name": "stderr",
          "text": [
            "\n",
            "  0%|          | 0/1 [00:00<?, ?it/s]\u001b[A\n",
            "100%|██████████| 1/1 [00:00<00:00,  1.88it/s]\n",
            " 27%|██▋       | 30/110 [00:40<01:46,  1.33s/it]"
          ]
        },
        {
          "output_type": "stream",
          "name": "stdout",
          "text": [
            "Batch size: 1\n"
          ]
        },
        {
          "output_type": "stream",
          "name": "stderr",
          "text": [
            "\n",
            "  0%|          | 0/1 [00:00<?, ?it/s]\u001b[A\n",
            "100%|██████████| 1/1 [00:00<00:00,  4.31it/s]\n",
            " 28%|██▊       | 31/110 [00:41<01:41,  1.29s/it]"
          ]
        },
        {
          "output_type": "stream",
          "name": "stdout",
          "text": [
            "Batch size: 1\n"
          ]
        },
        {
          "output_type": "stream",
          "name": "stderr",
          "text": [
            "\n",
            "  0%|          | 0/1 [00:00<?, ?it/s]\u001b[A\n",
            "100%|██████████| 1/1 [00:00<00:00,  4.10it/s]\n",
            " 29%|██▉       | 32/110 [00:43<01:48,  1.40s/it]"
          ]
        },
        {
          "output_type": "stream",
          "name": "stdout",
          "text": [
            "Batch size: 1\n"
          ]
        },
        {
          "output_type": "stream",
          "name": "stderr",
          "text": [
            "\n",
            "  0%|          | 0/1 [00:00<?, ?it/s]\u001b[A\n",
            "100%|██████████| 1/1 [00:00<00:00,  3.81it/s]\n",
            " 30%|███       | 33/110 [00:45<01:55,  1.50s/it]"
          ]
        },
        {
          "output_type": "stream",
          "name": "stdout",
          "text": [
            "Batch size: 1\n"
          ]
        },
        {
          "output_type": "stream",
          "name": "stderr",
          "text": [
            "\n",
            "  0%|          | 0/1 [00:00<?, ?it/s]\u001b[A\n",
            "100%|██████████| 1/1 [00:00<00:00,  2.83it/s]\n",
            " 31%|███       | 34/110 [00:46<01:51,  1.47s/it]"
          ]
        },
        {
          "output_type": "stream",
          "name": "stdout",
          "text": [
            "Batch size: 1\n"
          ]
        },
        {
          "output_type": "stream",
          "name": "stderr",
          "text": [
            "\n",
            "  0%|          | 0/1 [00:00<?, ?it/s]\u001b[A\n",
            "100%|██████████| 1/1 [00:00<00:00,  3.45it/s]\n",
            " 32%|███▏      | 35/110 [00:47<01:43,  1.38s/it]"
          ]
        },
        {
          "output_type": "stream",
          "name": "stdout",
          "text": [
            "Batch size: 1\n"
          ]
        },
        {
          "output_type": "stream",
          "name": "stderr",
          "text": [
            "\n",
            "  0%|          | 0/1 [00:00<?, ?it/s]\u001b[A\n",
            "100%|██████████| 1/1 [00:00<00:00,  3.10it/s]\n",
            " 33%|███▎      | 36/110 [00:49<01:38,  1.33s/it]"
          ]
        },
        {
          "output_type": "stream",
          "name": "stdout",
          "text": [
            "Batch size: 1\n"
          ]
        },
        {
          "output_type": "stream",
          "name": "stderr",
          "text": [
            "\n",
            "  0%|          | 0/1 [00:00<?, ?it/s]\u001b[A\n",
            "100%|██████████| 1/1 [00:00<00:00,  3.27it/s]\n",
            " 34%|███▎      | 37/110 [00:50<01:37,  1.34s/it]"
          ]
        },
        {
          "output_type": "stream",
          "name": "stdout",
          "text": [
            "Batch size: 1\n"
          ]
        },
        {
          "output_type": "stream",
          "name": "stderr",
          "text": [
            "\n",
            "  0%|          | 0/1 [00:00<?, ?it/s]\u001b[A\n",
            "100%|██████████| 1/1 [00:00<00:00,  3.63it/s]\n",
            " 35%|███▍      | 38/110 [00:51<01:32,  1.29s/it]"
          ]
        },
        {
          "output_type": "stream",
          "name": "stdout",
          "text": [
            "Batch size: 1\n"
          ]
        },
        {
          "output_type": "stream",
          "name": "stderr",
          "text": [
            "\n",
            "  0%|          | 0/1 [00:00<?, ?it/s]\u001b[A\n",
            "100%|██████████| 1/1 [00:00<00:00,  3.84it/s]\n",
            " 35%|███▌      | 39/110 [00:52<01:27,  1.23s/it]"
          ]
        },
        {
          "output_type": "stream",
          "name": "stdout",
          "text": [
            "Batch size: 1\n"
          ]
        },
        {
          "output_type": "stream",
          "name": "stderr",
          "text": [
            "\n",
            "  0%|          | 0/1 [00:00<?, ?it/s]\u001b[A\n",
            "100%|██████████| 1/1 [00:00<00:00,  2.92it/s]\n",
            " 36%|███▋      | 40/110 [00:53<01:26,  1.23s/it]"
          ]
        },
        {
          "output_type": "stream",
          "name": "stdout",
          "text": [
            "Batch size: 1\n"
          ]
        },
        {
          "output_type": "stream",
          "name": "stderr",
          "text": [
            "\n",
            "  0%|          | 0/1 [00:00<?, ?it/s]\u001b[A\n",
            "100%|██████████| 1/1 [00:01<00:00,  1.02s/it]\n",
            " 37%|███▋      | 41/110 [00:55<01:39,  1.44s/it]"
          ]
        },
        {
          "output_type": "stream",
          "name": "stdout",
          "text": [
            "Batch size: 1\n"
          ]
        },
        {
          "output_type": "stream",
          "name": "stderr",
          "text": [
            "\n",
            "  0%|          | 0/1 [00:00<?, ?it/s]\u001b[A\n",
            "100%|██████████| 1/1 [00:00<00:00,  2.79it/s]\n",
            " 38%|███▊      | 42/110 [00:57<01:47,  1.58s/it]"
          ]
        },
        {
          "output_type": "stream",
          "name": "stdout",
          "text": [
            "Batch size: 1\n"
          ]
        },
        {
          "output_type": "stream",
          "name": "stderr",
          "text": [
            "\n",
            "  0%|          | 0/1 [00:00<?, ?it/s]\u001b[A\n",
            "100%|██████████| 1/1 [00:00<00:00,  3.55it/s]\n",
            " 39%|███▉      | 43/110 [00:59<01:40,  1.50s/it]"
          ]
        },
        {
          "output_type": "stream",
          "name": "stdout",
          "text": [
            "Batch size: 1\n"
          ]
        },
        {
          "output_type": "stream",
          "name": "stderr",
          "text": [
            "\n",
            "  0%|          | 0/1 [00:00<?, ?it/s]\u001b[A\n",
            "100%|██████████| 1/1 [00:00<00:00,  3.01it/s]\n",
            " 40%|████      | 44/110 [01:01<01:49,  1.66s/it]"
          ]
        },
        {
          "output_type": "stream",
          "name": "stdout",
          "text": [
            "Batch size: 1\n"
          ]
        },
        {
          "output_type": "stream",
          "name": "stderr",
          "text": [
            "\n",
            "  0%|          | 0/1 [00:00<?, ?it/s]\u001b[A\n",
            "100%|██████████| 1/1 [00:00<00:00,  2.97it/s]\n",
            " 41%|████      | 45/110 [01:02<01:39,  1.53s/it]"
          ]
        },
        {
          "output_type": "stream",
          "name": "stdout",
          "text": [
            "Batch size: 1\n"
          ]
        },
        {
          "output_type": "stream",
          "name": "stderr",
          "text": [
            "\n",
            "  0%|          | 0/1 [00:00<?, ?it/s]\u001b[A\n",
            "100%|██████████| 1/1 [00:00<00:00,  2.95it/s]\n",
            " 42%|████▏     | 46/110 [01:03<01:31,  1.43s/it]"
          ]
        },
        {
          "output_type": "stream",
          "name": "stdout",
          "text": [
            "Batch size: 1\n"
          ]
        },
        {
          "output_type": "stream",
          "name": "stderr",
          "text": [
            "\n",
            "  0%|          | 0/1 [00:00<?, ?it/s]\u001b[A\n",
            "100%|██████████| 1/1 [00:00<00:00,  3.89it/s]\n",
            " 43%|████▎     | 47/110 [01:04<01:19,  1.26s/it]"
          ]
        },
        {
          "output_type": "stream",
          "name": "stdout",
          "text": [
            "Batch size: 1\n"
          ]
        },
        {
          "output_type": "stream",
          "name": "stderr",
          "text": [
            "\n",
            "  0%|          | 0/1 [00:00<?, ?it/s]\u001b[A\n",
            "100%|██████████| 1/1 [00:00<00:00,  4.16it/s]\n",
            " 44%|████▎     | 48/110 [01:05<01:17,  1.25s/it]"
          ]
        },
        {
          "output_type": "stream",
          "name": "stdout",
          "text": [
            "Batch size: 1\n"
          ]
        },
        {
          "output_type": "stream",
          "name": "stderr",
          "text": [
            "\n",
            "  0%|          | 0/1 [00:00<?, ?it/s]\u001b[A\n",
            "100%|██████████| 1/1 [00:00<00:00,  3.46it/s]\n",
            " 45%|████▍     | 49/110 [01:06<01:07,  1.11s/it]"
          ]
        },
        {
          "output_type": "stream",
          "name": "stdout",
          "text": [
            "Batch size: 1\n"
          ]
        },
        {
          "output_type": "stream",
          "name": "stderr",
          "text": [
            "\n",
            "  0%|          | 0/1 [00:00<?, ?it/s]\u001b[A\n",
            "100%|██████████| 1/1 [00:00<00:00,  3.44it/s]\n",
            " 45%|████▌     | 50/110 [01:07<01:08,  1.15s/it]"
          ]
        },
        {
          "output_type": "stream",
          "name": "stdout",
          "text": [
            "Batch size: 1\n"
          ]
        },
        {
          "output_type": "stream",
          "name": "stderr",
          "text": [
            "\n",
            "  0%|          | 0/1 [00:00<?, ?it/s]\u001b[A\n",
            "100%|██████████| 1/1 [00:00<00:00,  3.24it/s]\n",
            " 46%|████▋     | 51/110 [01:08<01:09,  1.18s/it]"
          ]
        },
        {
          "output_type": "stream",
          "name": "stdout",
          "text": [
            "Batch size: 1\n"
          ]
        },
        {
          "output_type": "stream",
          "name": "stderr",
          "text": [
            "\n",
            "  0%|          | 0/1 [00:00<?, ?it/s]\u001b[A\n",
            "100%|██████████| 1/1 [00:00<00:00,  1.11it/s]\n",
            " 47%|████▋     | 52/110 [01:10<01:22,  1.43s/it]"
          ]
        },
        {
          "output_type": "stream",
          "name": "stdout",
          "text": [
            "Batch size: 1\n"
          ]
        },
        {
          "output_type": "stream",
          "name": "stderr",
          "text": [
            "\n",
            "  0%|          | 0/1 [00:00<?, ?it/s]\u001b[A\n",
            "100%|██████████| 1/1 [00:00<00:00,  3.51it/s]\n",
            " 48%|████▊     | 53/110 [01:12<01:31,  1.61s/it]"
          ]
        },
        {
          "output_type": "stream",
          "name": "stdout",
          "text": [
            "Batch size: 1\n"
          ]
        },
        {
          "output_type": "stream",
          "name": "stderr",
          "text": [
            "\n",
            "  0%|          | 0/1 [00:00<?, ?it/s]\u001b[A\n",
            "100%|██████████| 1/1 [00:00<00:00,  1.90it/s]\n",
            " 49%|████▉     | 54/110 [01:14<01:28,  1.57s/it]"
          ]
        },
        {
          "output_type": "stream",
          "name": "stdout",
          "text": [
            "Batch size: 1\n"
          ]
        },
        {
          "output_type": "stream",
          "name": "stderr",
          "text": [
            "\n",
            "  0%|          | 0/1 [00:00<?, ?it/s]\u001b[A\n",
            "100%|██████████| 1/1 [00:00<00:00,  4.26it/s]\n",
            " 50%|█████     | 55/110 [01:15<01:18,  1.43s/it]"
          ]
        },
        {
          "output_type": "stream",
          "name": "stdout",
          "text": [
            "Batch size: 1\n"
          ]
        },
        {
          "output_type": "stream",
          "name": "stderr",
          "text": [
            "\n",
            "  0%|          | 0/1 [00:00<?, ?it/s]\u001b[A\n",
            "100%|██████████| 1/1 [00:00<00:00,  2.29it/s]\n",
            " 51%|█████     | 56/110 [01:16<01:15,  1.40s/it]"
          ]
        },
        {
          "output_type": "stream",
          "name": "stdout",
          "text": [
            "Batch size: 1\n"
          ]
        },
        {
          "output_type": "stream",
          "name": "stderr",
          "text": [
            "\n",
            "  0%|          | 0/1 [00:00<?, ?it/s]\u001b[A\n",
            "100%|██████████| 1/1 [00:00<00:00,  1.06it/s]\n",
            " 52%|█████▏    | 57/110 [01:18<01:20,  1.52s/it]"
          ]
        },
        {
          "output_type": "stream",
          "name": "stdout",
          "text": [
            "Batch size: 1\n"
          ]
        },
        {
          "output_type": "stream",
          "name": "stderr",
          "text": [
            "\n",
            "  0%|          | 0/1 [00:00<?, ?it/s]\u001b[A\n",
            "100%|██████████| 1/1 [00:00<00:00,  3.87it/s]\n",
            " 53%|█████▎    | 58/110 [01:19<01:09,  1.34s/it]"
          ]
        },
        {
          "output_type": "stream",
          "name": "stdout",
          "text": [
            "Batch size: 1\n"
          ]
        },
        {
          "output_type": "stream",
          "name": "stderr",
          "text": [
            "\n",
            "  0%|          | 0/1 [00:00<?, ?it/s]\u001b[A\n",
            "100%|██████████| 1/1 [00:00<00:00,  3.42it/s]\n",
            " 54%|█████▎    | 59/110 [01:20<01:05,  1.28s/it]"
          ]
        },
        {
          "output_type": "stream",
          "name": "stdout",
          "text": [
            "Batch size: 1\n"
          ]
        },
        {
          "output_type": "stream",
          "name": "stderr",
          "text": [
            "\n",
            "  0%|          | 0/1 [00:00<?, ?it/s]\u001b[A\n",
            "100%|██████████| 1/1 [00:00<00:00,  3.20it/s]\n",
            " 55%|█████▍    | 60/110 [01:21<00:58,  1.17s/it]"
          ]
        },
        {
          "output_type": "stream",
          "name": "stdout",
          "text": [
            "Batch size: 1\n"
          ]
        },
        {
          "output_type": "stream",
          "name": "stderr",
          "text": [
            "\n",
            "  0%|          | 0/1 [00:00<?, ?it/s]\u001b[A\n",
            "100%|██████████| 1/1 [00:00<00:00,  3.33it/s]\n",
            " 55%|█████▌    | 61/110 [01:23<01:01,  1.25s/it]"
          ]
        },
        {
          "output_type": "stream",
          "name": "stdout",
          "text": [
            "Batch size: 1\n"
          ]
        },
        {
          "output_type": "stream",
          "name": "stderr",
          "text": [
            "\n",
            "  0%|          | 0/1 [00:00<?, ?it/s]\u001b[A\n",
            "100%|██████████| 1/1 [00:00<00:00,  3.33it/s]\n",
            " 56%|█████▋    | 62/110 [01:24<00:58,  1.22s/it]"
          ]
        },
        {
          "output_type": "stream",
          "name": "stdout",
          "text": [
            "Batch size: 1\n"
          ]
        },
        {
          "output_type": "stream",
          "name": "stderr",
          "text": [
            "\n",
            "  0%|          | 0/1 [00:00<?, ?it/s]\u001b[A\n",
            "100%|██████████| 1/1 [00:00<00:00,  4.06it/s]\n",
            " 57%|█████▋    | 63/110 [01:25<00:51,  1.10s/it]"
          ]
        },
        {
          "output_type": "stream",
          "name": "stdout",
          "text": [
            "Batch size: 1\n"
          ]
        },
        {
          "output_type": "stream",
          "name": "stderr",
          "text": [
            "\n",
            "  0%|          | 0/1 [00:00<?, ?it/s]\u001b[A\n",
            "100%|██████████| 1/1 [00:00<00:00,  1.36it/s]\n",
            " 58%|█████▊    | 64/110 [01:26<00:57,  1.25s/it]"
          ]
        },
        {
          "output_type": "stream",
          "name": "stdout",
          "text": [
            "Batch size: 1\n"
          ]
        },
        {
          "output_type": "stream",
          "name": "stderr",
          "text": [
            "\n",
            "  0%|          | 0/1 [00:00<?, ?it/s]\u001b[A\n",
            "100%|██████████| 1/1 [00:00<00:00,  4.99it/s]\n",
            " 59%|█████▉    | 65/110 [01:27<00:54,  1.20s/it]"
          ]
        },
        {
          "output_type": "stream",
          "name": "stdout",
          "text": [
            "Batch size: 1\n"
          ]
        },
        {
          "output_type": "stream",
          "name": "stderr",
          "text": [
            "\n",
            "  0%|          | 0/1 [00:00<?, ?it/s]\u001b[A\n",
            "100%|██████████| 1/1 [00:00<00:00,  1.88it/s]\n",
            " 60%|██████    | 66/110 [01:29<00:57,  1.31s/it]"
          ]
        },
        {
          "output_type": "stream",
          "name": "stdout",
          "text": [
            "Batch size: 1\n"
          ]
        },
        {
          "output_type": "stream",
          "name": "stderr",
          "text": [
            "\n",
            "  0%|          | 0/1 [00:00<?, ?it/s]\u001b[A\n",
            "100%|██████████| 1/1 [00:00<00:00,  2.44it/s]\n",
            " 61%|██████    | 67/110 [01:30<00:51,  1.21s/it]"
          ]
        },
        {
          "output_type": "stream",
          "name": "stdout",
          "text": [
            "Batch size: 1\n"
          ]
        },
        {
          "output_type": "stream",
          "name": "stderr",
          "text": [
            "\n",
            "  0%|          | 0/1 [00:00<?, ?it/s]\u001b[A\n",
            "100%|██████████| 1/1 [00:00<00:00,  3.67it/s]\n",
            " 62%|██████▏   | 68/110 [01:31<00:50,  1.20s/it]"
          ]
        },
        {
          "output_type": "stream",
          "name": "stdout",
          "text": [
            "Batch size: 1\n"
          ]
        },
        {
          "output_type": "stream",
          "name": "stderr",
          "text": [
            "\n",
            "  0%|          | 0/1 [00:00<?, ?it/s]\u001b[A\n",
            "100%|██████████| 1/1 [00:00<00:00,  3.15it/s]\n",
            " 63%|██████▎   | 69/110 [01:32<00:49,  1.20s/it]"
          ]
        },
        {
          "output_type": "stream",
          "name": "stdout",
          "text": [
            "Batch size: 1\n"
          ]
        },
        {
          "output_type": "stream",
          "name": "stderr",
          "text": [
            "\n",
            "  0%|          | 0/1 [00:00<?, ?it/s]\u001b[A\n",
            "100%|██████████| 1/1 [00:00<00:00,  1.74it/s]\n",
            " 64%|██████▎   | 70/110 [01:34<00:51,  1.30s/it]"
          ]
        },
        {
          "output_type": "stream",
          "name": "stdout",
          "text": [
            "Batch size: 1\n"
          ]
        },
        {
          "output_type": "stream",
          "name": "stderr",
          "text": [
            "\n",
            "  0%|          | 0/1 [00:00<?, ?it/s]\u001b[A\n",
            "100%|██████████| 1/1 [00:00<00:00,  1.96it/s]\n",
            " 65%|██████▍   | 71/110 [01:35<00:55,  1.42s/it]"
          ]
        },
        {
          "output_type": "stream",
          "name": "stdout",
          "text": [
            "Batch size: 1\n"
          ]
        },
        {
          "output_type": "stream",
          "name": "stderr",
          "text": [
            "\n",
            "  0%|          | 0/1 [00:00<?, ?it/s]\u001b[A\n",
            "100%|██████████| 1/1 [00:00<00:00,  2.00it/s]\n",
            " 65%|██████▌   | 72/110 [01:37<01:00,  1.60s/it]"
          ]
        },
        {
          "output_type": "stream",
          "name": "stdout",
          "text": [
            "Batch size: 1\n"
          ]
        },
        {
          "output_type": "stream",
          "name": "stderr",
          "text": [
            "\n",
            "  0%|          | 0/1 [00:00<?, ?it/s]\u001b[A\n",
            "100%|██████████| 1/1 [00:00<00:00,  1.35it/s]\n",
            " 66%|██████▋   | 73/110 [01:39<00:55,  1.50s/it]"
          ]
        },
        {
          "output_type": "stream",
          "name": "stdout",
          "text": [
            "Batch size: 1\n"
          ]
        },
        {
          "output_type": "stream",
          "name": "stderr",
          "text": [
            "\n",
            "  0%|          | 0/1 [00:00<?, ?it/s]\u001b[A\n",
            "100%|██████████| 1/1 [00:00<00:00,  2.88it/s]\n",
            " 67%|██████▋   | 74/110 [01:40<00:51,  1.44s/it]"
          ]
        },
        {
          "output_type": "stream",
          "name": "stdout",
          "text": [
            "Batch size: 1\n"
          ]
        },
        {
          "output_type": "stream",
          "name": "stderr",
          "text": [
            "\n",
            "  0%|          | 0/1 [00:00<?, ?it/s]\u001b[A\n",
            "100%|██████████| 1/1 [00:00<00:00,  3.42it/s]\n",
            " 68%|██████▊   | 75/110 [01:41<00:48,  1.38s/it]"
          ]
        },
        {
          "output_type": "stream",
          "name": "stdout",
          "text": [
            "Batch size: 1\n"
          ]
        },
        {
          "output_type": "stream",
          "name": "stderr",
          "text": [
            "\n",
            "  0%|          | 0/1 [00:00<?, ?it/s]\u001b[A\n",
            "100%|██████████| 1/1 [00:00<00:00,  3.90it/s]\n",
            " 69%|██████▉   | 76/110 [01:43<00:50,  1.49s/it]"
          ]
        },
        {
          "output_type": "stream",
          "name": "stdout",
          "text": [
            "Batch size: 1\n"
          ]
        },
        {
          "output_type": "stream",
          "name": "stderr",
          "text": [
            "\n",
            "  0%|          | 0/1 [00:00<?, ?it/s]\u001b[A\n",
            "100%|██████████| 1/1 [00:00<00:00,  3.15it/s]\n",
            " 70%|███████   | 77/110 [01:45<00:49,  1.51s/it]"
          ]
        },
        {
          "output_type": "stream",
          "name": "stdout",
          "text": [
            "Batch size: 1\n"
          ]
        },
        {
          "output_type": "stream",
          "name": "stderr",
          "text": [
            "\n",
            "  0%|          | 0/1 [00:00<?, ?it/s]\u001b[A\n",
            "100%|██████████| 1/1 [00:00<00:00,  2.86it/s]\n",
            " 71%|███████   | 78/110 [01:47<00:55,  1.72s/it]"
          ]
        },
        {
          "output_type": "stream",
          "name": "stdout",
          "text": [
            "Batch size: 1\n"
          ]
        },
        {
          "output_type": "stream",
          "name": "stderr",
          "text": [
            "\n",
            "  0%|          | 0/1 [00:00<?, ?it/s]\u001b[A\n",
            "100%|██████████| 1/1 [00:00<00:00,  1.01it/s]\n",
            " 72%|███████▏  | 79/110 [01:49<00:54,  1.77s/it]"
          ]
        },
        {
          "output_type": "stream",
          "name": "stdout",
          "text": [
            "Batch size: 1\n"
          ]
        },
        {
          "output_type": "stream",
          "name": "stderr",
          "text": [
            "\n",
            "  0%|          | 0/1 [00:00<?, ?it/s]\u001b[A\n",
            "100%|██████████| 1/1 [00:00<00:00,  2.86it/s]\n",
            " 73%|███████▎  | 80/110 [01:50<00:50,  1.68s/it]"
          ]
        },
        {
          "output_type": "stream",
          "name": "stdout",
          "text": [
            "Batch size: 1\n"
          ]
        },
        {
          "output_type": "stream",
          "name": "stderr",
          "text": [
            "\n",
            "  0%|          | 0/1 [00:00<?, ?it/s]\u001b[A\n",
            "100%|██████████| 1/1 [00:00<00:00,  1.58it/s]\n",
            " 74%|███████▎  | 81/110 [01:52<00:47,  1.63s/it]"
          ]
        },
        {
          "output_type": "stream",
          "name": "stdout",
          "text": [
            "Batch size: 1\n"
          ]
        },
        {
          "output_type": "stream",
          "name": "stderr",
          "text": [
            "\n",
            "  0%|          | 0/1 [00:00<?, ?it/s]\u001b[A\n",
            "100%|██████████| 1/1 [00:00<00:00,  3.09it/s]\n",
            " 75%|███████▍  | 82/110 [01:53<00:42,  1.53s/it]"
          ]
        },
        {
          "output_type": "stream",
          "name": "stdout",
          "text": [
            "Batch size: 1\n"
          ]
        },
        {
          "output_type": "stream",
          "name": "stderr",
          "text": [
            "\n",
            "  0%|          | 0/1 [00:00<?, ?it/s]\u001b[A\n",
            "100%|██████████| 1/1 [00:00<00:00,  1.92it/s]\n",
            " 75%|███████▌  | 83/110 [01:54<00:37,  1.40s/it]"
          ]
        },
        {
          "output_type": "stream",
          "name": "stdout",
          "text": [
            "Batch size: 1\n"
          ]
        },
        {
          "output_type": "stream",
          "name": "stderr",
          "text": [
            "\n",
            "  0%|          | 0/1 [00:00<?, ?it/s]\u001b[A\n",
            "100%|██████████| 1/1 [00:00<00:00,  3.76it/s]\n",
            " 76%|███████▋  | 84/110 [01:55<00:35,  1.35s/it]"
          ]
        },
        {
          "output_type": "stream",
          "name": "stdout",
          "text": [
            "Batch size: 1\n"
          ]
        },
        {
          "output_type": "stream",
          "name": "stderr",
          "text": [
            "\n",
            "  0%|          | 0/1 [00:00<?, ?it/s]\u001b[A\n",
            "100%|██████████| 1/1 [00:00<00:00,  3.41it/s]\n",
            " 77%|███████▋  | 85/110 [01:57<00:34,  1.40s/it]"
          ]
        },
        {
          "output_type": "stream",
          "name": "stdout",
          "text": [
            "Batch size: 1\n"
          ]
        },
        {
          "output_type": "stream",
          "name": "stderr",
          "text": [
            "\n",
            "  0%|          | 0/1 [00:00<?, ?it/s]\u001b[A\n",
            "100%|██████████| 1/1 [00:00<00:00,  2.81it/s]\n",
            " 78%|███████▊  | 86/110 [01:58<00:33,  1.38s/it]"
          ]
        },
        {
          "output_type": "stream",
          "name": "stdout",
          "text": [
            "Batch size: 1\n"
          ]
        },
        {
          "output_type": "stream",
          "name": "stderr",
          "text": [
            "\n",
            "  0%|          | 0/1 [00:00<?, ?it/s]\u001b[A\n",
            "100%|██████████| 1/1 [00:00<00:00,  1.24it/s]\n",
            " 79%|███████▉  | 87/110 [02:00<00:33,  1.47s/it]"
          ]
        },
        {
          "output_type": "stream",
          "name": "stdout",
          "text": [
            "Batch size: 1\n"
          ]
        },
        {
          "output_type": "stream",
          "name": "stderr",
          "text": [
            "\n",
            "  0%|          | 0/1 [00:00<?, ?it/s]\u001b[A\n",
            "100%|██████████| 1/1 [00:00<00:00,  3.26it/s]\n",
            " 80%|████████  | 88/110 [02:01<00:30,  1.38s/it]"
          ]
        },
        {
          "output_type": "stream",
          "name": "stdout",
          "text": [
            "Batch size: 1\n"
          ]
        },
        {
          "output_type": "stream",
          "name": "stderr",
          "text": [
            "\n",
            "  0%|          | 0/1 [00:00<?, ?it/s]\u001b[A\n",
            "100%|██████████| 1/1 [00:00<00:00,  4.19it/s]\n",
            " 81%|████████  | 89/110 [02:02<00:28,  1.36s/it]"
          ]
        },
        {
          "output_type": "stream",
          "name": "stdout",
          "text": [
            "Batch size: 1\n"
          ]
        },
        {
          "output_type": "stream",
          "name": "stderr",
          "text": [
            "\n",
            "  0%|          | 0/1 [00:00<?, ?it/s]\u001b[A\n",
            "100%|██████████| 1/1 [00:00<00:00,  2.29it/s]\n",
            " 82%|████████▏ | 90/110 [02:04<00:26,  1.35s/it]"
          ]
        },
        {
          "output_type": "stream",
          "name": "stdout",
          "text": [
            "Batch size: 1\n"
          ]
        },
        {
          "output_type": "stream",
          "name": "stderr",
          "text": [
            "\n",
            "  0%|          | 0/1 [00:00<?, ?it/s]\u001b[A\n",
            "100%|██████████| 1/1 [00:00<00:00,  4.31it/s]\n",
            " 83%|████████▎ | 91/110 [02:05<00:24,  1.28s/it]"
          ]
        },
        {
          "output_type": "stream",
          "name": "stdout",
          "text": [
            "Batch size: 1\n"
          ]
        },
        {
          "output_type": "stream",
          "name": "stderr",
          "text": [
            "\n",
            "  0%|          | 0/1 [00:00<?, ?it/s]\u001b[A\n",
            "100%|██████████| 1/1 [00:00<00:00,  3.37it/s]\n",
            " 84%|████████▎ | 92/110 [02:06<00:22,  1.25s/it]"
          ]
        },
        {
          "output_type": "stream",
          "name": "stdout",
          "text": [
            "Batch size: 1\n"
          ]
        },
        {
          "output_type": "stream",
          "name": "stderr",
          "text": [
            "\n",
            "  0%|          | 0/1 [00:00<?, ?it/s]\u001b[A\n",
            "100%|██████████| 1/1 [00:00<00:00,  5.12it/s]\n",
            " 85%|████████▍ | 93/110 [02:07<00:20,  1.21s/it]"
          ]
        },
        {
          "output_type": "stream",
          "name": "stdout",
          "text": [
            "Batch size: 1\n"
          ]
        },
        {
          "output_type": "stream",
          "name": "stderr",
          "text": [
            "\n",
            "  0%|          | 0/1 [00:00<?, ?it/s]\u001b[A\n",
            "100%|██████████| 1/1 [00:00<00:00,  4.14it/s]\n",
            " 85%|████████▌ | 94/110 [02:08<00:18,  1.18s/it]"
          ]
        },
        {
          "output_type": "stream",
          "name": "stdout",
          "text": [
            "Batch size: 1\n"
          ]
        },
        {
          "output_type": "stream",
          "name": "stderr",
          "text": [
            "\n",
            "  0%|          | 0/1 [00:00<?, ?it/s]\u001b[A\n",
            "100%|██████████| 1/1 [00:00<00:00,  1.02it/s]\n",
            " 86%|████████▋ | 95/110 [02:10<00:20,  1.39s/it]"
          ]
        },
        {
          "output_type": "stream",
          "name": "stdout",
          "text": [
            "Batch size: 1\n"
          ]
        },
        {
          "output_type": "stream",
          "name": "stderr",
          "text": [
            "\n",
            "  0%|          | 0/1 [00:00<?, ?it/s]\u001b[A\n",
            "100%|██████████| 1/1 [00:00<00:00,  3.04it/s]\n",
            " 87%|████████▋ | 96/110 [02:11<00:19,  1.38s/it]"
          ]
        },
        {
          "output_type": "stream",
          "name": "stdout",
          "text": [
            "Batch size: 1\n"
          ]
        },
        {
          "output_type": "stream",
          "name": "stderr",
          "text": [
            "\n",
            "  0%|          | 0/1 [00:00<?, ?it/s]\u001b[A\n",
            "100%|██████████| 1/1 [00:00<00:00,  3.44it/s]\n",
            " 88%|████████▊ | 97/110 [02:13<00:17,  1.32s/it]"
          ]
        },
        {
          "output_type": "stream",
          "name": "stdout",
          "text": [
            "Batch size: 1\n"
          ]
        },
        {
          "output_type": "stream",
          "name": "stderr",
          "text": [
            "\n",
            "  0%|          | 0/1 [00:00<?, ?it/s]\u001b[A\n",
            "100%|██████████| 1/1 [00:00<00:00,  1.59it/s]\n",
            " 89%|████████▉ | 98/110 [02:14<00:16,  1.39s/it]"
          ]
        },
        {
          "output_type": "stream",
          "name": "stdout",
          "text": [
            "Batch size: 1\n"
          ]
        },
        {
          "output_type": "stream",
          "name": "stderr",
          "text": [
            "\n",
            "  0%|          | 0/1 [00:00<?, ?it/s]\u001b[A\n",
            "100%|██████████| 1/1 [00:00<00:00,  3.08it/s]\n",
            " 90%|█████████ | 99/110 [02:15<00:14,  1.35s/it]"
          ]
        },
        {
          "output_type": "stream",
          "name": "stdout",
          "text": [
            "Batch size: 1\n"
          ]
        },
        {
          "output_type": "stream",
          "name": "stderr",
          "text": [
            "\n",
            "  0%|          | 0/1 [00:00<?, ?it/s]\u001b[A\n",
            "100%|██████████| 1/1 [00:00<00:00,  2.23it/s]\n",
            " 91%|█████████ | 100/110 [02:17<00:13,  1.34s/it]"
          ]
        },
        {
          "output_type": "stream",
          "name": "stdout",
          "text": [
            "Batch size: 1\n"
          ]
        },
        {
          "output_type": "stream",
          "name": "stderr",
          "text": [
            "\n",
            "  0%|          | 0/1 [00:00<?, ?it/s]\u001b[A\n",
            "100%|██████████| 1/1 [00:00<00:00,  1.14it/s]\n",
            " 92%|█████████▏| 101/110 [02:18<00:13,  1.47s/it]"
          ]
        },
        {
          "output_type": "stream",
          "name": "stdout",
          "text": [
            "Batch size: 1\n"
          ]
        },
        {
          "output_type": "stream",
          "name": "stderr",
          "text": [
            "\n",
            "  0%|          | 0/1 [00:00<?, ?it/s]\u001b[A\n",
            "100%|██████████| 1/1 [00:00<00:00,  1.88it/s]\n",
            " 93%|█████████▎| 102/110 [02:20<00:11,  1.45s/it]"
          ]
        },
        {
          "output_type": "stream",
          "name": "stdout",
          "text": [
            "Batch size: 1\n"
          ]
        },
        {
          "output_type": "stream",
          "name": "stderr",
          "text": [
            "\n",
            "  0%|          | 0/1 [00:00<?, ?it/s]\u001b[A\n",
            "100%|██████████| 1/1 [00:00<00:00,  1.54it/s]\n",
            " 94%|█████████▎| 103/110 [02:22<00:10,  1.52s/it]"
          ]
        },
        {
          "output_type": "stream",
          "name": "stdout",
          "text": [
            "Batch size: 1\n"
          ]
        },
        {
          "output_type": "stream",
          "name": "stderr",
          "text": [
            "\n",
            "  0%|          | 0/1 [00:00<?, ?it/s]\u001b[A\n",
            "100%|██████████| 1/1 [00:00<00:00,  3.11it/s]\n",
            " 95%|█████████▍| 104/110 [02:23<00:08,  1.45s/it]"
          ]
        },
        {
          "output_type": "stream",
          "name": "stdout",
          "text": [
            "Batch size: 1\n"
          ]
        },
        {
          "output_type": "stream",
          "name": "stderr",
          "text": [
            "\n",
            "  0%|          | 0/1 [00:00<?, ?it/s]\u001b[A\n",
            "100%|██████████| 1/1 [00:00<00:00,  3.68it/s]\n",
            " 95%|█████████▌| 105/110 [02:24<00:06,  1.37s/it]"
          ]
        },
        {
          "output_type": "stream",
          "name": "stdout",
          "text": [
            "Batch size: 1\n"
          ]
        },
        {
          "output_type": "stream",
          "name": "stderr",
          "text": [
            "\n",
            "  0%|          | 0/1 [00:00<?, ?it/s]\u001b[A\n",
            "100%|██████████| 1/1 [00:00<00:00,  2.25it/s]\n",
            " 96%|█████████▋| 106/110 [02:25<00:05,  1.27s/it]"
          ]
        },
        {
          "output_type": "stream",
          "name": "stdout",
          "text": [
            "Batch size: 1\n"
          ]
        },
        {
          "output_type": "stream",
          "name": "stderr",
          "text": [
            "\n",
            "  0%|          | 0/1 [00:00<?, ?it/s]\u001b[A\n",
            "100%|██████████| 1/1 [00:00<00:00,  5.05it/s]\n",
            " 97%|█████████▋| 107/110 [02:26<00:03,  1.20s/it]"
          ]
        },
        {
          "output_type": "stream",
          "name": "stdout",
          "text": [
            "Batch size: 1\n"
          ]
        },
        {
          "output_type": "stream",
          "name": "stderr",
          "text": [
            "\n",
            "  0%|          | 0/1 [00:00<?, ?it/s]\u001b[A\n",
            "100%|██████████| 1/1 [00:00<00:00,  3.35it/s]\n",
            " 98%|█████████▊| 108/110 [02:27<00:02,  1.20s/it]"
          ]
        },
        {
          "output_type": "stream",
          "name": "stdout",
          "text": [
            "Batch size: 1\n"
          ]
        },
        {
          "output_type": "stream",
          "name": "stderr",
          "text": [
            "\n",
            "  0%|          | 0/1 [00:00<?, ?it/s]\u001b[A\n",
            "100%|██████████| 1/1 [00:00<00:00,  3.64it/s]\n",
            " 99%|█████████▉| 109/110 [02:28<00:01,  1.20s/it]"
          ]
        },
        {
          "output_type": "stream",
          "name": "stdout",
          "text": [
            "Batch size: 1\n"
          ]
        },
        {
          "output_type": "stream",
          "name": "stderr",
          "text": [
            "\n",
            "  0%|          | 0/1 [00:00<?, ?it/s]\u001b[A\n",
            "100%|██████████| 1/1 [00:00<00:00,  3.76it/s]\n",
            "100%|██████████| 110/110 [02:30<00:00,  1.37s/it]\n"
          ]
        }
      ]
    },
    {
      "cell_type": "code",
      "source": [
        "labels"
      ],
      "metadata": {
        "colab": {
          "base_uri": "https://localhost:8080/"
        },
        "id": "gc2sb9Y5L9ng",
        "outputId": "ff8ca19f-6b86-4d8b-ccae-046f58908e69"
      },
      "execution_count": 19,
      "outputs": [
        {
          "output_type": "execute_result",
          "data": {
            "text/plain": [
              "array(['books', 'books', 'books', 'books', 'books', 'books', 'books',\n",
              "       'books', 'books', 'books', 'books', 'books', 'books', 'books',\n",
              "       'books', 'books', 'books', 'books', 'books', 'books', 'books',\n",
              "       'books', 'books', 'books', 'books', 'books', 'books', 'books',\n",
              "       'books', 'books', 'books', 'books', 'books', 'books', 'books',\n",
              "       'books', 'books', 'books', 'books', 'books', 'books', 'books',\n",
              "       'books', 'books', 'books', 'books', 'books', 'books', 'books',\n",
              "       'books', 'books', 'books', 'books', 'books', 'books', 'books',\n",
              "       'books', 'books', 'books', 'books', 'books', 'books', 'books',\n",
              "       'books', 'books', 'books', 'books', 'books', 'books', 'books',\n",
              "       'books', 'books', 'books', 'books', 'books', 'books', 'books',\n",
              "       'books', 'books', 'books', 'books', 'books', 'books', 'books',\n",
              "       'books', 'books', 'books', 'books', 'books', 'books', 'books',\n",
              "       'books', 'books', 'books', 'books', 'books', 'movies', 'books',\n",
              "       'books', 'books', 'books', 'books', 'books', 'books', 'books',\n",
              "       'books', 'books', 'books', 'books', 'books'], dtype='<U6')"
            ]
          },
          "metadata": {},
          "execution_count": 19
        }
      ]
    },
    {
      "cell_type": "markdown",
      "source": [
        "##Chain-of-thought text classification\n"
      ],
      "metadata": {
        "id": "ie2-Uv2yNECD"
      }
    },
    {
      "cell_type": "code",
      "source": [
        "from skllm.models.gpt.classification.zero_shot import CoTGPTClassifier\n",
        "from skllm.datasets import get_classification_dataset\n",
        "\n",
        "X, y = get_classification_dataset()\n",
        "\n",
        "clf = CoTGPTClassifier(model=\"gpt-4o-mini\")\n",
        "clf.fit(X,y)\n",
        "predictions = clf.predict(X)\n",
        "labels, reasoning = predictions[:, 0], predictions[:, 1]"
      ],
      "metadata": {
        "colab": {
          "base_uri": "https://localhost:8080/"
        },
        "id": "6HjOU9qVM33Q",
        "outputId": "699c95a2-9fbf-4fb2-c9b6-1fab05adc847"
      },
      "execution_count": 20,
      "outputs": [
        {
          "output_type": "stream",
          "name": "stderr",
          "text": [
            "100%|██████████| 30/30 [01:06<00:00,  2.22s/it]\n"
          ]
        }
      ]
    },
    {
      "cell_type": "code",
      "source": [
        "labels"
      ],
      "metadata": {
        "colab": {
          "base_uri": "https://localhost:8080/"
        },
        "id": "9idUX2tjNPMr",
        "outputId": "879ee550-19e6-4e6c-e980-daa68c753c58"
      },
      "execution_count": 21,
      "outputs": [
        {
          "output_type": "execute_result",
          "data": {
            "text/plain": [
              "array(['positive', 'positive', 'positive', 'positive', 'positive',\n",
              "       'positive', 'positive', 'positive', 'positive', 'positive',\n",
              "       'negative', 'negative', 'negative', 'negative', 'negative',\n",
              "       'negative', 'negative', 'negative', 'negative', 'negative',\n",
              "       'negative', 'positive', 'neutral', 'neutral', 'neutral',\n",
              "       'negative', 'negative', 'negative', 'neutral', 'neutral'],\n",
              "      dtype='<U1023')"
            ]
          },
          "metadata": {},
          "execution_count": 21
        }
      ]
    },
    {
      "cell_type": "code",
      "source": [
        "reasoning"
      ],
      "metadata": {
        "colab": {
          "base_uri": "https://localhost:8080/"
        },
        "id": "Er0aYGjVNcS9",
        "outputId": "feafee1d-c8df-4bd4-8673-469ff65b274f"
      },
      "execution_count": 22,
      "outputs": [
        {
          "output_type": "execute_result",
          "data": {
            "text/plain": [
              "array(['{\"\\'positive\\'\": \"The text expresses strong positive sentiments about the performances, acting, and plot of \\'Summer\\'s End\\'. Phrases like \\'absolutely blown away\\', \\'top-notch\\', \\'gripped from start to finish\\', and \\'truly captivating cinematic experience\\' indicate a high level of satisfaction and enthusiasm, which aligns well with the \\'positive\\' category.\", \"\\'negative\\'\": \\'There are no indications of negative sentiments in the text. The language used is overwhelmingly positive, and there are no criticisms or complaints about the film. Therefore, this category does not apply.\\', \"\\'neutral\\'\": \\'The text does not present a neutral stance; it is clearly biased towards a positive opinion of the film. Neutrality would imply a lack of strong opinion or mixed feelings, which is not the case here.\\'}',\n",
              "       '{\"\\'positive\\'\": \"The text expresses strong positive sentiments about the film \\'Star Battles: Nebula Conflict\\'. Phrases like \\'out of this world\\', \\'incredibly engaging\\', and \\'Excellent film\\' indicate a high level of enjoyment and satisfaction. The overall tone is enthusiastic and appreciative, which aligns well with the \\'positive\\' category.\", \"\\'negative\\'\": \"There are no indications of negative sentiments in the text. The reviewer does not express any dissatisfaction or criticism regarding the film\\'s aspects. Therefore, this category does not apply.\", \"\\'neutral\\'\": \\'The text does not present a neutral stance; it is clearly biased towards a positive view of the film. Neutrality would imply a lack of strong opinion or emotion, which is not the case here.\\'}',\n",
              "       '{\\'positive\\': \"The text expresses strong admiration for \\'The Lost Symphony\\', highlighting its character development, storytelling, and the beauty of the score. Phrases like \\'masterclass\\', \\'hauntingly beautiful\\', and \\'creating such a masterpiece\\' indicate a very favorable opinion, aligning well with the positive category.\", \\'negative\\': \\'There are no elements in the text that convey dissatisfaction or criticism. The language used is entirely complimentary, which rules out the negative category.\\', \\'neutral\\': \\'While the text does provide an analysis of the film, the overwhelmingly positive tone and lack of any neutral or indifferent statements suggest that it does not fit the neutral category.\\'}',\n",
              "       '{\"\\'positive\\'\": \"The text expresses a favorable opinion about the film \\'Love in the Time of Cholera\\'. Phrases like \\'pleasantly surprised\\', \\'heartwarming\\', \\'incredibly realistic\\', and \\'top-notch\\' indicate strong positive sentiments. The recommendation at the end, \\'A must-watch for all romance lovers\\', further emphasizes the positive nature of the review.\", \"\\'negative\\'\": \\'There are no indications of negative sentiments in the text. The reviewer does not express dissatisfaction or criticism towards the film, its storyline, or its characters. Therefore, this category does not apply.\\', \"\\'neutral\\'\": \\'The text does not present a neutral stance; it is clearly biased towards a positive view of the film. Neutrality would imply a lack of strong opinion or emotional response, which is not the case here.\\'}',\n",
              "       '{\"\\'positive\\'\": \"The text expresses a favorable opinion about the experience on \\'Marble Street\\'. Phrases like \\'pleasantly surprised\\', \\'suspense was well-maintained\\', and \\'Bravo!\\' indicate a strong positive sentiment. The overall tone is enthusiastic and appreciative, suggesting that the experience exceeded expectations.\", \"\\'negative\\'\": \\'The text does not contain any negative language or sentiments. There are no expressions of disappointment or criticism regarding the experience. Instead, it highlights positive aspects, making it unsuitable for the negative category.\\', \"\\'neutral\\'\": \\'While the text does provide an evaluation of the experience, it does so in a distinctly positive manner. There are no neutral observations or statements that would categorize it as neutral. The emotional tone is clearly positive rather than indifferent.\\'}',\n",
              "       '{\\'positive\\': \"The text expresses strong positive emotions and sentiments. Phrases like \\'touching portrayal\\', \\'heartfelt performances\\', and \\'breathtaking scenery\\' indicate a favorable view of the subject. The statement \\'I was moved to tears\\' further emphasizes the emotional impact, suggesting a deep appreciation for the work. Overall, the text conveys a sense of joy and satisfaction, aligning well with the \\'positive\\' category.\", \\'negative\\': \"There are no indications of negative sentiments in the text. The language used is overwhelmingly positive, with no criticism or negative experiences mentioned. Therefore, the text does not belong to the \\'negative\\' category.\", \\'neutral\\': \"While the text does contain some objective descriptions, such as \\'life in rural America\\' and \\'the scenery\\', the overall tone is heavily emotional and subjective. The strong positive language and personal reflections do not support a classification of \\'neutral\\', which would require a more balanced or indifferent tone.\"}',\n",
              "       '{\"\\'positive\\'\": \"The text expresses strong positive sentiments about the screenwriting, dialogue, characters, and performances in the movie \\'Under the Willow Tree\\'. Phrases like \\'superb\\', \\'felt real\\', \\'well-rounded\\', and \\'fantastic\\' indicate a high level of enjoyment and satisfaction. The statement \\'I haven\\'t enjoyed a movie this much in a while\\' further reinforces the positive sentiment, suggesting a memorable and enjoyable experience.\", \"\\'negative\\'\": \\'There are no indications of negative sentiments in the text. The language used is entirely complimentary, with no criticism or negative remarks about the film or its elements. Therefore, this category does not apply.\\', \"\\'neutral\\'\": \\'The text does not present a neutral stance; it is clearly biased towards a positive view of the movie. Neutrality would imply a lack of strong opinion or emotional response, which is not the case here as the text is filled with enthusiastic praise.\\'}',\n",
              "       '{\"\\'positive\\'\": \"The text expresses strong enthusiasm and appreciation for the work \\'Nightshade\\', highlighting its brilliance in the superhero genre. Words like \\'brilliant\\', \\'relatable\\', \\'genuinely scary\\', \\'thrilling\\', and \\'engaging\\' indicate a very favorable opinion. The excitement for a sequel further emphasizes a positive sentiment.\", \"\\'negative\\'\": \\'There are no indications of negative sentiment in the text. The reviewer does not express any dissatisfaction or criticism regarding the characters, action sequences, or storyline. Instead, the overall tone is upbeat and appreciative.\\', \"\\'neutral\\'\": \\'The text does not maintain a neutral stance; it is clearly leaning towards a positive evaluation. Neutrality would imply a lack of strong opinion or emotional response, which is not the case here as the reviewer is clearly excited and engaged with the content.\\'}',\n",
              "       '{\\'positive\\': \"The text expresses a highly favorable opinion about the film \\'Awakening\\', highlighting the spectacular cinematography, worthiness of the visuals, unique storyline, and solid performances. The use of phrases like \\'fantastic film\\' indicates a strong positive sentiment.\", \\'negative\\': \\'There are no indications of negative sentiment in the text. It does not mention any flaws, disappointments, or criticisms regarding the film, which would typically characterize a negative classification.\\', \\'neutral\\': \\'The text does not present a neutral stance; it is clearly biased towards a positive view of the film. Neutrality would imply a lack of strong opinion or emotional response, which is not the case here.\\'}',\n",
              "       '{\"\\'positive\\'\": \"The text expresses a highly favorable opinion about the film \\'Eternal Embers\\'. Words like \\'cinematic delight\\', \\'original storytelling\\', \\'exceptional performances\\', and \\'must-see for all movie lovers\\' indicate strong positive sentiments. The overall tone is enthusiastic and appreciative, which aligns well with the \\'positive\\' category.\", \"\\'negative\\'\": \"There are no indications of negative sentiments in the text. It does not contain any criticism, complaints, or unfavorable remarks about the film. Therefore, it does not belong to the \\'negative\\' category.\", \"\\'neutral\\'\": \"The text is not neutral as it conveys a clear opinion and emotional response towards the film. Neutral texts typically lack strong opinions or emotional language, which is not the case here. Thus, it does not fit into the \\'neutral\\' category.\"}',\n",
              "       '{\"\\'positive\\'\": \"The text does not express any positive sentiments or favorable opinions about \\'Silver Shadows\\'. Instead, it conveys disappointment and criticism, which are contrary to positive feedback.\", \"\\'negative\\'\": \"The text clearly articulates a negative experience with \\'Silver Shadows\\'. Words like \\'disappointed\\', \\'confusing\\', \\'lackluster\\', and the recommendation against watching it strongly indicate a negative sentiment.\", \"\\'neutral\\'\": \\'The text is not neutral as it expresses a clear opinion and emotional response towards the subject. Neutrality would imply a lack of strong feelings or opinions, which is not the case here.\\'}',\n",
              "       '{\"\\'positive\\'\": \"The text does not contain any positive remarks or sentiments. Instead, it focuses on negative aspects of the film, indicating that it was a disaster and advising readers to skip it. Therefore, it does not belong to the \\'positive\\' category.\", \"\\'negative\\'\": \"The text is overwhelmingly negative, describing the film as a disaster with specific criticisms of the storyline, acting, and special effects. The phrase \\'Save your money and skip this one\\' further emphasizes the negative sentiment. This category is a strong fit for the text.\", \"\\'neutral\\'\": \\'The text does not maintain a neutral tone; it expresses clear dissatisfaction and disappointment with the film. Neutrality would imply a lack of strong opinion or emotional response, which is not the case here.\\'}',\n",
              "       '{\"\\'positive\\'\": \"The text does not express any positive sentiments or experiences. Instead, it conveys disappointment and dissatisfaction with the subject matter, which is \\'The Final Frontier\\'. Therefore, it does not belong to the \\'positive\\' category.\", \"\\'negative\\'\": \"The text clearly articulates negative feelings towards \\'The Final Frontier\\'. Phrases like \\'failed to deliver\\', \\'full of holes\\', \\'poorly developed\\', and \\'disappointing experience\\' indicate strong dissatisfaction. This aligns well with the \\'negative\\' category.\", \"\\'neutral\\'\": \\'The text is not neutral as it expresses a clear opinion and emotional response to the subject. Neutrality would imply a lack of strong feelings or opinions, which is not the case here.\\'}',\n",
              "       '{\"\\'positive\\'\": \"The text does not express any positive sentiments or favorable opinions about \\'The Fall of the Phoenix\\'. Instead, it highlights disappointment and dissatisfaction, which are contrary to positive feedback.\", \"\\'negative\\'\": \"The text clearly conveys a negative opinion about the movie. Phrases like \\'was a letdown\\', \\'confusing storyline\\', and \\'one-dimensional characters\\' indicate strong disapproval. The mention of checking the watch suggests boredom, reinforcing the negative sentiment.\", \"\\'neutral\\'\": \\'The text is not neutral as it expresses a clear opinion and emotional response to the movie. Neutrality would imply a lack of strong feelings or opinions, which is not the case here.\\'}',\n",
              "       '{\"\\'positive\\'\": \"The text does not express any positive sentiments or favorable opinions about \\'Emerald City\\'. Instead, it focuses on disappointment and criticism, which are contrary to positive feedback.\", \"\\'negative\\'\": \"The text clearly conveys negative feelings towards \\'Emerald City\\'. Words like \\'regret\\', \\'nonsensical\\', \\'uninspired\\', and \\'major disappointment\\' indicate strong dissatisfaction and criticism, making this category highly applicable.\", \"\\'neutral\\'\": \\'The text is not neutral as it expresses a clear opinion and emotional response. Neutrality would imply a lack of strong feelings or opinions, which is not the case here.\\'}',\n",
              "       '{\"\\'positive\\'\": \"The text expresses a strong negative opinion about \\'Hollow Echoes\\', indicating dissatisfaction with various aspects such as the plot, performances, and pacing. There are no positive remarks or sentiments present, which disqualifies this category.\", \"\\'negative\\'\": \"The text is overwhelmingly critical, describing the work as a \\'complete mess\\' and stating that it is \\'definitely not worth the hype\\'. This clear expression of disappointment and criticism aligns well with the negative category.\", \"\\'neutral\\'\": \\'The text does not present a balanced view or an objective analysis; instead, it conveys a strong emotional response. Therefore, it does not fit the neutral category, which would require a more impartial tone.\\'}',\n",
              "       '{\"\\'positive\\'\": \\'The text does not express any positive sentiments or experiences. Instead, it focuses on disappointment and dissatisfaction with the film, which contradicts the essence of positivity.\\', \"\\'negative\\'\": \"The text clearly conveys a negative sentiment. Words like \\'huge disappointment\\', \\'predictable\\', and \\'mediocre\\' indicate strong dissatisfaction with the film. The expectation of something better further emphasizes the negative experience.\", \"\\'neutral\\'\": \\'The text is not neutral as it expresses a clear opinion and emotional response to the film. Neutrality would imply a lack of strong feelings or opinions, which is not the case here.\\'}',\n",
              "       '{\"\\'positive\\'\": \"The text does not express any positive sentiments or favorable opinions about \\'River\\'s Edge\\'. Instead, it highlights dissatisfaction with various aspects of the film, indicating that it does not belong to this category.\", \"\\'negative\\'\": \"The text clearly conveys a negative opinion about \\'River\\'s Edge\\'. Phrases like \\'left unimpressed\\', \\'convoluted\\', \\'uninteresting\\', and \\'unsatisfying\\' all indicate strong disapproval. The concluding statement \\'It\\'s a pass for me\\' reinforces the negative sentiment, making this category a strong contender.\", \"\\'neutral\\'\": \\'The text is not neutral as it expresses a clear opinion and emotional response towards the film. Neutrality would imply a lack of strong feelings or opinions, which is not the case here.\\'}',\n",
              "       '{\"\\'positive\\'\": \"The text does not express any positive sentiments or favorable opinions about the movie \\'Desert Mirage\\'. Instead, it highlights negative aspects such as subpar acting and a boring plot, which contradicts the essence of a positive review.\", \"\\'negative\\'\": \"The text clearly conveys a negative sentiment towards the movie. Phrases like \\'subpar\\', \\'boring\\', and \\'save your time and skip this one\\' indicate strong disapproval and dissatisfaction, making this category highly appropriate.\", \"\\'neutral\\'\": \\'The text is not neutral as it expresses a clear opinion and emotional response to the movie. Neutrality would imply a lack of strong feelings or opinions, which is not the case here.\\'}',\n",
              "       '{\\'positive\\': \"The text does not express any positive sentiments or favorable opinions about \\'Crimson Dawn\\'. Instead, it highlights shortcomings and dissatisfaction, which disqualifies it from being classified as positive.\", \\'negative\\': \"The text clearly conveys a negative sentiment, describing \\'Crimson Dawn\\' as a \\'major letdown\\' and criticizing its plot, characters, and special effects. The recommendation against watching it further emphasizes the negative tone.\", \\'neutral\\': \\'The text is not neutral as it expresses a strong opinion and emotional response to the film. Neutrality would imply a lack of strong feelings or opinions, which is not the case here.\\'}',\n",
              "       '{\"\\'positive\\'\": \\'The text does not express any positive sentiments or favorable opinions about the subject. Instead, it highlights negative aspects such as a dull storyline and bland performances, which contradicts the essence of positivity.\\', \"\\'negative\\'\": \"The text is heavily critical, describing the film as \\'utterly forgettable\\' and \\'a big disappointment.\\' The use of strong negative adjectives like \\'dull,\\' \\'bland,\\' and \\'cringeworthy\\' clearly indicates a negative sentiment towards the film.\", \"\\'neutral\\'\": \\'The text does not maintain a neutral stance; it is explicitly critical and does not present any balanced view or lack of opinion. The strong negative language used suggests a clear bias against the film.\\'}',\n",
              "       'Explanation is not available.',\n",
              "       '{\"\\'positive\\'\": \"The text does not express any strong positive sentiments or praise for the movie. Phrases like \\'not bad\\' are mild and do not convey enthusiasm or a strong positive reaction. Therefore, this category is not applicable.\", \"\\'negative\\'\": \"While the text does not outright condemn the movie, it does highlight several flaws, such as a predictable storyline and stereotypical characters. The phrase \\'average movie at best\\' suggests disappointment, which leans towards a negative perception. However, the overall tone is not strongly negative, making this category somewhat applicable but not definitive.\", \"\\'neutral\\'\": \\'The text maintains a balanced tone, providing a mix of mild criticism and lack of strong praise. It does not evoke strong emotions and presents an average assessment of the movie. This neutrality in evaluation makes this category a strong contender.\\'}',\n",
              "       '{\"\\'positive\\'\": \"The text does not express strong positive feelings or enthusiasm about \\'After the Rain\\'. Phrases like \\'pretty average\\' and \\'decent\\' suggest a lack of strong approval or enjoyment, which disqualifies it from being classified as positive.\", \"\\'negative\\'\": \"While the text does not outright condemn the work, it conveys a sense of disappointment and lack of impact, particularly with the phrase \\'didn\\'t leave a lasting impression\\'. However, it does not contain overtly negative language or strong criticism, which makes it less fitting for a negative classification.\", \"\\'neutral\\'\": \"The text presents a balanced view, describing the work as \\'average\\' and \\'okay\\', which indicates a lack of strong feelings either way. It neither praises nor criticizes the work harshly, making it more aligned with a neutral stance.\"}',\n",
              "       '{\"\\'positive\\'\": \"The text does not express strong positive sentiments. While it mentions that the plot was \\'interesting enough,\\' this is not a strong endorsement and does not convey overall positivity about the film. The phrase \\'okay watch\\' suggests a lukewarm reception rather than enthusiasm.\", \"\\'negative\\'\": \"The text does not explicitly convey negative feelings. Although it mentions that the characters were \\'not very well developed,\\' this criticism is balanced by the acknowledgment of an interesting plot. The overall tone does not lean towards negativity, as it avoids strong negative language.\", \"\\'neutral\\'\": \"The text presents a balanced view, stating that the film was \\'neither good nor bad.\\' This indicates a neutral stance, as it neither praises nor condemns the film. The use of \\'okay watch\\' further supports a neutral classification, as it suggests indifference rather than strong feelings in either direction.\"}',\n",
              "       '{\"\\'positive\\'\": \"The text does not express any positive sentiments about the movie. Words like \\'mediocre\\', \\'passable\\', and \\'fair\\' indicate a lack of enthusiasm or praise, which disqualifies this category.\", \"\\'negative\\'\": \"The use of terms such as \\'mediocre\\' and \\'didn\\'t stand out\\' suggests a negative evaluation of the movie. The overall tone conveys disappointment and a lack of enjoyment, making this category a strong contender.\", \"\\'neutral\\'\": \\'While the text is somewhat factual in its description of the movie, the language used leans more towards a critical assessment rather than a neutral observation. The presence of evaluative terms indicates a subjective opinion rather than an objective stance.\\'}',\n",
              "       '{\"\\'positive\\'\": \"The text does not express a strong positive sentiment. While the author mentions that the plot was \\'somewhat engaging\\' and the performances were \\'okay\\', these phrases do not convey enthusiasm or a strong positive reaction. Instead, they suggest a lukewarm response.\", \"\\'negative\\'\": \"The text contains elements of disappointment, particularly with the phrase \\'didn\\'t live up to my expectations\\'. This indicates a negative sentiment towards the work. However, the overall tone is not overtly harsh or critical, which might limit its classification as strongly negative.\", \"\\'neutral\\'\": \"The text presents a balanced view, acknowledging both positive and negative aspects of \\'The Scent of Roses\\'. However, the presence of disappointment suggests that it leans away from being completely neutral. The use of \\'average\\' and \\'okay\\' indicates a lack of strong feelings, but the disappointment expressed makes it less neutral overall.\"}',\n",
              "       '{\"\\'positive\\'\": \"The text does not express strong positive feelings about the movie. While it acknowledges that the plot and performances were \\'decent\\' and \\'fine\\', these terms are relatively mild and do not convey enthusiasm or strong approval. Therefore, it does not fit the \\'positive\\' category.\", \"\\'negative\\'\": \"The text contains elements of criticism, particularly in phrases like \\'lacked depth and originality\\' and \\'It\\'s not a movie I would watch again.\\' These statements indicate disappointment and a lack of enjoyment, which aligns with a negative sentiment. However, the overall tone is not overwhelmingly harsh, which complicates a definitive classification as negative.\", \"\\'neutral\\'\": \"The text presents a balanced view of the movie, acknowledging both its strengths and weaknesses without strong emotional language. The use of \\'okay\\' suggests a middle-ground opinion, which could fit the neutral category. However, the critical remarks about depth and originality lean it slightly away from being purely neutral.\"}',\n",
              "       '{\\'positive\\': \"The text does not express strong enthusiasm or approval. Phrases like \\'fairly average\\' and \\'it lacked a certain spark\\' indicate a lack of positive sentiment. Therefore, it does not belong to the positive category.\", \\'negative\\': \"While the text does not outright condemn the work, it does express disappointment with phrases like \\'lacked a certain spark\\' and \\'just okay.\\' However, it does not convey strong negative emotions or harsh criticism, which makes it less fitting for the negative category.\", \\'neutral\\': \"The text presents a balanced view, describing the work as \\'fairly average\\' and \\'not bad,\\' which suggests a lack of strong feelings either way. It does not lean towards positivity or negativity, making it suitable for the neutral category.\"}',\n",
              "       '{\\'positive\\': \"The text does not express strong enthusiasm or praise for the movie. Phrases like \\'pretty run-of-the-mill\\' and \\'it wasn\\'t particularly memorable\\' indicate a lack of positive sentiment. Therefore, it does not belong to the \\'positive\\' category.\", \\'negative\\': \"While the text does not outright condemn the movie, it uses phrases like \\'okay\\' and \\'decent\\' in a way that suggests disappointment or mediocrity. However, it lacks strong negative language or outright criticism, which makes it less fitting for the \\'negative\\' category.\", \\'neutral\\': \"The text presents a balanced view of the movie, describing it as \\'okay\\' and \\'decent\\' without strong emotional language. It neither praises nor criticizes the film harshly, which aligns well with a neutral stance.\"}'],\n",
              "      dtype='<U1023')"
            ]
          },
          "metadata": {},
          "execution_count": 22
        }
      ]
    },
    {
      "cell_type": "markdown",
      "source": [
        "##Tunable text classification\n"
      ],
      "metadata": {
        "id": "AkIrLC_LNmAg"
      }
    },
    {
      "cell_type": "code",
      "source": [
        "from skllm.models.gpt.classification.tunable import GPTClassifier\n",
        "\n",
        "X, y = get_classification_dataset(model=\"gpt-4o-mini\")\n",
        "clf = GPTClassifier(n_epochs=1)\n",
        "clf.fit(X,y)\n",
        "clf.predict(X)"
      ],
      "metadata": {
        "id": "AMniUVhfNmje"
      },
      "execution_count": null,
      "outputs": []
    },
    {
      "cell_type": "code",
      "source": [
        "from skllm.models.gpt.classification.tunable import MultiLabelGPTClassifier"
      ],
      "metadata": {
        "id": "v4C7laFbNpyn"
      },
      "execution_count": null,
      "outputs": []
    },
    {
      "cell_type": "markdown",
      "source": [
        "#Text-to-text modelling"
      ],
      "metadata": {
        "id": "POCuqh9fNtdF"
      }
    },
    {
      "cell_type": "markdown",
      "source": [
        "##Text summarization\n"
      ],
      "metadata": {
        "id": "0fNwds6BPdD0"
      }
    },
    {
      "cell_type": "code",
      "source": [
        "from skllm.models.gpt.text2text.summarization import GPTSummarizer\n",
        "from skllm.datasets import get_summarization_dataset\n",
        "\n",
        "X = get_summarization_dataset()\n",
        "summarizer = GPTSummarizer(model=\"gpt-4o-mini\", max_words=15, focus=\"technology\")\n",
        "X_summarized = summarizer.fit_transform(X)"
      ],
      "metadata": {
        "colab": {
          "base_uri": "https://localhost:8080/"
        },
        "id": "_cEXwTJIN7c5",
        "outputId": "606c613b-dc0f-4682-d081-3178bf879687"
      },
      "execution_count": 25,
      "outputs": [
        {
          "output_type": "stream",
          "name": "stderr",
          "text": [
            "100%|██████████| 10/10 [00:10<00:00,  1.04s/it]\n"
          ]
        }
      ]
    },
    {
      "cell_type": "code",
      "source": [
        "X_summarized"
      ],
      "metadata": {
        "colab": {
          "base_uri": "https://localhost:8080/"
        },
        "id": "dHtITJEYPkkt",
        "outputId": "b7df561f-b15f-48bb-8f74-4a3cbec2f9f0"
      },
      "execution_count": 26,
      "outputs": [
        {
          "output_type": "execute_result",
          "data": {
            "text/plain": [
              "array(['OpenAI launched GPT-4, a powerful language model for complex AI tasks.',\n",
              "       'John prepared a fruit salad for his guests.',\n",
              "       'The first Mars rover, Sojourner, greatly advanced our understanding of Mars.',\n",
              "       'Regular exercise improves memory and cognitive function in older adults.',\n",
              "       'The Eiffel Tower symbolizes French architectural innovation and is a beloved landmark.',\n",
              "       \"Microsoft's new Windows update enhances security and user interface for better experience.\",\n",
              "       'WHO declares a public health emergency due to a new virus outbreak.',\n",
              "       'The 2024 Olympics will be held in Paris, marking its third hosting.',\n",
              "       'Apple introduces a new iPhone with enhanced features.',\n",
              "       'Scientists discovered a new bird species in the Amazon rainforest.'],\n",
              "      dtype=object)"
            ]
          },
          "metadata": {},
          "execution_count": 26
        }
      ]
    },
    {
      "cell_type": "markdown",
      "source": [
        "##Text translation\n"
      ],
      "metadata": {
        "id": "2dHSUTdFQRDm"
      }
    },
    {
      "cell_type": "code",
      "source": [
        "from skllm.models.gpt.text2text.translation import GPTTranslator\n",
        "from skllm.datasets import get_translation_dataset\n",
        "\n",
        "X = get_translation_dataset()\n",
        "t = GPTTranslator(model=\"gpt-4o-mini\", output_language=\"Español\")\n",
        "translated_text = t.fit_transform(X)"
      ],
      "metadata": {
        "colab": {
          "base_uri": "https://localhost:8080/"
        },
        "id": "aUQgWrOyQDey",
        "outputId": "65817034-0e27-4a36-cde0-81f84b3fb7cb"
      },
      "execution_count": 27,
      "outputs": [
        {
          "output_type": "stream",
          "name": "stderr",
          "text": [
            "100%|██████████| 6/6 [00:05<00:00,  1.18it/s]\n"
          ]
        }
      ]
    },
    {
      "cell_type": "code",
      "source": [
        "translated_text"
      ],
      "metadata": {
        "colab": {
          "base_uri": "https://localhost:8080/"
        },
        "id": "QKoB00h5QYvA",
        "outputId": "10fdfd4c-3010-4e52-d04f-ec6a6a8d05e3"
      },
      "execution_count": 28,
      "outputs": [
        {
          "output_type": "execute_result",
          "data": {
            "text/plain": [
              "array(['Me encanta bailar salsa y bachata. Es una forma divertida de expresarme.',\n",
              "       'Pasé mis últimas vacaciones en Grecia. Las playas eran magníficas.',\n",
              "       'Ayer leí un gran libro. La historia fue cautivadora hasta el final.',\n",
              "       'Me gusta cocinar platos tradicionales italianos. El espagueti a la carbonara es uno de mis favoritos.',\n",
              "       'Tengo planes de hacer un viaje a Italia este verano. Espero visitar Roma y Venecia.',\n",
              "       'Mi pasatiempo favorito es la fotografía. Me encanta capturar momentos hermosos.'],\n",
              "      dtype=object)"
            ]
          },
          "metadata": {},
          "execution_count": 28
        }
      ]
    },
    {
      "cell_type": "markdown",
      "source": [
        "##Tunable text-to-text\n"
      ],
      "metadata": {
        "id": "sOJSpsUyQplV"
      }
    },
    {
      "cell_type": "code",
      "source": [
        "from skllm.models.gpt.text2text.tunable import TunableGPTText2Text\n",
        "\n",
        "model = TunableGPTText2Text(\n",
        "        base_model = \"gpt-3.5-turbo-0613\",\n",
        "        n_epochs = None, # int or None. When None, will be determined automatically by OpenAI\n",
        "        system_msg = \"You are a text processing model.\"\n",
        ")\n",
        "\n",
        "model.fit(X_train, y_train) # y_train is any desired output text\n",
        "out = model.transform(X_test)"
      ],
      "metadata": {
        "id": "VEcb5I9wQZ_N"
      },
      "execution_count": null,
      "outputs": []
    },
    {
      "cell_type": "markdown",
      "source": [
        "#Text Vectorization"
      ],
      "metadata": {
        "id": "2R0jkXM2Q2N1"
      }
    },
    {
      "cell_type": "code",
      "source": [
        "from skllm.models.gpt.vectorization import GPTVectorizer\n",
        "\n",
        "vectorizer = GPTVectorizer(batch_size=2, model=\"text-embedding-3-small\")\n",
        "X = vectorizer.fit_transform([\"This is a text\", \"This is another text\"])"
      ],
      "metadata": {
        "colab": {
          "base_uri": "https://localhost:8080/"
        },
        "id": "u83LCsrmQ34m",
        "outputId": "84834271-9d51-4c88-e2a3-ff83cb72418b"
      },
      "execution_count": 31,
      "outputs": [
        {
          "output_type": "stream",
          "name": "stdout",
          "text": [
            "Batch size: 2\n"
          ]
        },
        {
          "output_type": "stream",
          "name": "stderr",
          "text": [
            "100%|██████████| 1/1 [00:00<00:00,  2.35it/s]\n"
          ]
        }
      ]
    },
    {
      "cell_type": "code",
      "source": [
        "X"
      ],
      "metadata": {
        "colab": {
          "base_uri": "https://localhost:8080/"
        },
        "id": "pBZcTpemQ77h",
        "outputId": "16588a65-72db-4705-d019-f45262c1679a"
      },
      "execution_count": 32,
      "outputs": [
        {
          "output_type": "execute_result",
          "data": {
            "text/plain": [
              "array([[ 0.00182703,  0.05156781,  0.00273551, ...,  0.0028463 ,\n",
              "        -0.01510776, -0.00715503],\n",
              "       [ 0.01440175,  0.02009511, -0.01509752, ...,  0.01012985,\n",
              "        -0.00012192, -0.00133918]])"
            ]
          },
          "metadata": {},
          "execution_count": 32
        }
      ]
    },
    {
      "cell_type": "code",
      "source": [
        "from sklearn.pipeline import Pipeline\n",
        "from sklearn.preprocessing import LabelEncoder\n",
        "from xgboost import XGBClassifier\n",
        "\n",
        "le = LabelEncoder()\n",
        "y_train_encoded = le.fit_transform(y_train)\n",
        "y_test_encoded = le.transform(y_test)\n",
        "\n",
        "steps = [(\"GPT\", GPTVectorizer()), (\"Clf\", XGBClassifier())]\n",
        "clf = Pipeline(steps)\n",
        "clf.fit(X_train, y_train_encoded)\n",
        "yh = clf.predict(X_test)"
      ],
      "metadata": {
        "id": "swhEo4uURLQt"
      },
      "execution_count": null,
      "outputs": []
    },
    {
      "cell_type": "markdown",
      "source": [
        "#Tagging"
      ],
      "metadata": {
        "id": "hDo-JPyKStKS"
      }
    },
    {
      "cell_type": "markdown",
      "source": [
        "## Named Entity Recognition\n"
      ],
      "metadata": {
        "id": "glevzZ2bSu79"
      }
    },
    {
      "cell_type": "markdown",
      "source": [
        "![image.png](data:image/png;base64,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)"
      ],
      "metadata": {
        "id": "LKI4yhzOS8Et"
      }
    },
    {
      "cell_type": "code",
      "source": [
        "from skllm.models.gpt.tagging.ner import GPTExplainableNER as NER\n",
        "\n",
        "entities = {\n",
        "  \"PERSON\": \"A name of an individual.\",\n",
        "  \"ORGANIZATION\": \"A name of a company.\",\n",
        "  \"DATE\": \"A specific time reference.\"\n",
        "}\n",
        "\n",
        "data = [\n",
        "  \"Tim Cook announced new Apple products in San Francisco on June 3, 2022.\",\n",
        "  \"Elon Musk visited the Tesla factory in Austin on January 10, 2021.\",\n",
        "  \"Mark Zuckerberg introduced Facebook Metaverse in Silicon Valley on May 5, 2023.\"\n",
        "]\n",
        "\n",
        "ner = NER(entities=entities, display_predictions=True)\n",
        "tagged = ner.fit_transform(data)"
      ],
      "metadata": {
        "colab": {
          "base_uri": "https://localhost:8080/",
          "height": 200
        },
        "id": "d0KgPSkkS0Ry",
        "outputId": "591cb990-cd9e-4e6e-a76c-023206c295a9"
      },
      "execution_count": 34,
      "outputs": [
        {
          "output_type": "stream",
          "name": "stderr",
          "text": [
            "100%|██████████| 3/3 [00:08<00:00,  2.74s/it]"
          ]
        },
        {
          "output_type": "stream",
          "name": "stdout",
          "text": [
            "Displaying predictions...\n"
          ]
        },
        {
          "output_type": "stream",
          "name": "stderr",
          "text": [
            "\n"
          ]
        },
        {
          "output_type": "display_data",
          "data": {
            "text/plain": [
              "<IPython.core.display.HTML object>"
            ],
            "text/html": [
              "<style>:root { --font-size: 16px; }\n",
              ".entity { font-size: var(--font-size); padding: 2px 4px; border-radius: 4px; font-weight: bold; }\n",
              "@media (prefers-color-scheme: light) {\n",
              ".entity-person { background-color: lightblue; color: black; border-radius: 4px; padding: 2px 4px; font-weight: bold; }\n",
              ".entity-legend-person { background-color: lightblue; color: black; border-radius: 4px; padding: 2px 4px; font-weight: bold; }\n",
              ".entity-organization { background-color: lightgreen; color: black; border-radius: 4px; padding: 2px 4px; font-weight: bold; }\n",
              ".entity-legend-organization { background-color: lightgreen; color: black; border-radius: 4px; padding: 2px 4px; font-weight: bold; }\n",
              ".entity-date { background-color: lightcoral; color: black; border-radius: 4px; padding: 2px 4px; font-weight: bold; }\n",
              ".entity-legend-date { background-color: lightcoral; color: black; border-radius: 4px; padding: 2px 4px; font-weight: bold; }\n",
              "}\n",
              "@media (prefers-color-scheme: dark) {\n",
              ".entity-person { background-color: darkblue; color: white; border-radius: 4px; padding: 2px 4px; font-weight: bold; }\n",
              ".entity-legend-person { background-color: darkblue; color: white; border-radius: 4px; padding: 2px 4px; font-weight: bold; }\n",
              ".entity-organization { background-color: darkgreen; color: white; border-radius: 4px; padding: 2px 4px; font-weight: bold; }\n",
              ".entity-legend-organization { background-color: darkgreen; color: white; border-radius: 4px; padding: 2px 4px; font-weight: bold; }\n",
              ".entity-date { background-color: darkred; color: white; border-radius: 4px; padding: 2px 4px; font-weight: bold; }\n",
              ".entity-legend-date { background-color: darkred; color: white; border-radius: 4px; padding: 2px 4px; font-weight: bold; }\n",
              "}\n",
              "</style><div style='margin-bottom: 1em;'><style>.entity-legend-person-light { background-color: lightblue; color: black; padding: 2px 4px; border-radius: 4px; font-weight: bold; }\n",
              ".entity-legend-person-dark { background-color: darkblue; color: white; padding: 2px 4px; border-radius: 4px; font-weight: bold; }\n",
              ".entity-legend-person { cursor: pointer; border-radius: 4px; padding: 2px 4px; font-weight: bold; }\n",
              ".entity-legend-organization-light { background-color: lightgreen; color: black; padding: 2px 4px; border-radius: 4px; font-weight: bold; }\n",
              ".entity-legend-organization-dark { background-color: darkgreen; color: white; padding: 2px 4px; border-radius: 4px; font-weight: bold; }\n",
              ".entity-legend-organization { cursor: pointer; border-radius: 4px; padding: 2px 4px; font-weight: bold; }\n",
              ".entity-legend-date-light { background-color: lightcoral; color: black; padding: 2px 4px; border-radius: 4px; font-weight: bold; }\n",
              ".entity-legend-date-dark { background-color: darkred; color: white; padding: 2px 4px; border-radius: 4px; font-weight: bold; }\n",
              ".entity-legend-date { cursor: pointer; border-radius: 4px; padding: 2px 4px; font-weight: bold; }\n",
              "</style>Entities: <span class=\"entity-legend-person\" title=\"PERSON: A name of an individual.\" style=\"margin-right: 4px;\">PERSON</span> <span class=\"entity-legend-organization\" title=\"ORGANIZATION: A name of a company.\" style=\"margin-right: 4px;\">ORGANIZATION</span> <span class=\"entity-legend-date\" title=\"DATE: A specific time reference.\" style=\"margin-right: 4px;\">DATE</span> </div><hr><span class=\"entity entity-person\" title=\"PERSON: Tim Cook is a well-known individual, specifically the CEO of Apple, which makes it a name of an individual.\">Tim Cook</span> announced new <span class=\"entity entity-organization\" title=\"ORGANIZATION: Apple is a well-known company, specifically a technology company, which makes it a name of a company.\">Apple</span> products in San Francisco on <span class=\"entity entity-date\" title=\"DATE: June 3, 2022 is a specific date, which makes it a specific time reference.\">June 3, 2022</span>.<hr><span class=\"entity entity-person\" title=\"PERSON: Elon Musk is a well-known individual, recognized as the CEO of Tesla and SpaceX.\">Elon Musk</span> visited the <span class=\"entity entity-organization\" title=\"ORGANIZATION: Tesla is a well-known company that manufactures electric vehicles and energy storage products.\">Tesla</span> factory in Austin on <span class=\"entity entity-date\" title=\"DATE: January 10, 2021 is a specific date, indicating when the event took place.\">January 10, 2021</span>.<hr><span class=\"entity entity-person\" title=\"PERSON: Mark Zuckerberg is a well-known individual, the founder of Facebook, and thus is identified as a PERSON.\">Mark Zuckerberg</span> introduced <span class=\"entity entity-organization\" title=\"ORGANIZATION: Facebook is a well-known company, and thus is identified as an ORGANIZATION.\">Facebook</span> Metaverse in Silicon Valley on <span class=\"entity entity-date\" title=\"DATE: May 5, 2023 is a specific date, and thus is identified as a DATE.\">May 5, 2023</span>.<hr>"
            ]
          },
          "metadata": {}
        }
      ]
    },
    {
      "cell_type": "code",
      "source": [
        "tagged"
      ],
      "metadata": {
        "colab": {
          "base_uri": "https://localhost:8080/"
        },
        "id": "7GzNNNzBTAqO",
        "outputId": "736282c5-4651-4bef-bfd6-2c7539ee5bdc"
      },
      "execution_count": 35,
      "outputs": [
        {
          "output_type": "execute_result",
          "data": {
            "text/plain": [
              "['<not_entity></not_entity><entity><reasoning>Tim Cook is a well-known individual, specifically the CEO of Apple, which makes it a name of an individual.</reasoning><tag>PERSON</tag><value>Tim Cook</value></entity><not_entity> announced new </not_entity><entity><reasoning>Apple is a well-known company, specifically a technology company, which makes it a name of a company.</reasoning><tag>ORGANIZATION</tag><value>Apple</value></entity><not_entity> products in San Francisco on </not_entity><entity><reasoning>June 3, 2022 is a specific date, which makes it a specific time reference.</reasoning><tag>DATE</tag><value>June 3, 2022</value></entity><not_entity>.</not_entity>',\n",
              " '<not_entity></not_entity><entity><reasoning>Elon Musk is a well-known individual, recognized as the CEO of Tesla and SpaceX.</reasoning><tag>PERSON</tag><value>Elon Musk</value></entity><not_entity> visited the </not_entity><entity><reasoning>Tesla is a well-known company that manufactures electric vehicles and energy storage products.</reasoning><tag>ORGANIZATION</tag><value>Tesla</value></entity><not_entity> factory in Austin on </not_entity><entity><reasoning>January 10, 2021 is a specific date, indicating when the event took place.</reasoning><tag>DATE</tag><value>January 10, 2021</value></entity><not_entity>.</not_entity>',\n",
              " '<not_entity></not_entity><entity><reasoning>Mark Zuckerberg is a well-known individual, the founder of Facebook, and thus is identified as a PERSON.</reasoning><tag>PERSON</tag><value>Mark Zuckerberg</value></entity><not_entity> introduced </not_entity><entity><reasoning>Facebook is a well-known company, and thus is identified as an ORGANIZATION.</reasoning><tag>ORGANIZATION</tag><value>Facebook</value></entity><not_entity> Metaverse in Silicon Valley on </not_entity><entity><reasoning>May 5, 2023 is a specific date, and thus is identified as a DATE.</reasoning><tag>DATE</tag><value>May 5, 2023</value></entity><not_entity>.</not_entity>']"
            ]
          },
          "metadata": {},
          "execution_count": 35
        }
      ]
    }
  ]
}