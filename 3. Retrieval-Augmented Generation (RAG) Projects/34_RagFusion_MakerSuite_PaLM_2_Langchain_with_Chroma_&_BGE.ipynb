{
  "nbformat": 4,
  "nbformat_minor": 0,
  "metadata": {
    "colab": {
      "provenance": [],
      "gpuType": "T4"
    },
    "kernelspec": {
      "name": "python3",
      "display_name": "Python 3"
    },
    "language_info": {
      "name": "python"
    },
    "accelerator": "GPU",
    "widgets": {
      "application/vnd.jupyter.widget-state+json": {
        "0aa314df24704e29ba715303ad4ace25": {
          "model_module": "@jupyter-widgets/controls",
          "model_name": "HBoxModel",
          "model_module_version": "1.5.0",
          "state": {
            "_dom_classes": [],
            "_model_module": "@jupyter-widgets/controls",
            "_model_module_version": "1.5.0",
            "_model_name": "HBoxModel",
            "_view_count": null,
            "_view_module": "@jupyter-widgets/controls",
            "_view_module_version": "1.5.0",
            "_view_name": "HBoxView",
            "box_style": "",
            "children": [
              "IPY_MODEL_53d1811d00584e58b965558faf769b85",
              "IPY_MODEL_9ee70f05f97a4f86ad3ff541f4fb0bc6",
              "IPY_MODEL_75b01f5294d14d40b8ef19ddad035863"
            ],
            "layout": "IPY_MODEL_25fc5448e6bb437999456c2f41087747"
          }
        },
        "53d1811d00584e58b965558faf769b85": {
          "model_module": "@jupyter-widgets/controls",
          "model_name": "HTMLModel",
          "model_module_version": "1.5.0",
          "state": {
            "_dom_classes": [],
            "_model_module": "@jupyter-widgets/controls",
            "_model_module_version": "1.5.0",
            "_model_name": "HTMLModel",
            "_view_count": null,
            "_view_module": "@jupyter-widgets/controls",
            "_view_module_version": "1.5.0",
            "_view_name": "HTMLView",
            "description": "",
            "description_tooltip": null,
            "layout": "IPY_MODEL_c7d153f9f1fa407b851eec01526b6fbd",
            "placeholder": "​",
            "style": "IPY_MODEL_d1472fe948de4b50ac0ee03df4e59f96",
            "value": "modules.json: 100%"
          }
        },
        "9ee70f05f97a4f86ad3ff541f4fb0bc6": {
          "model_module": "@jupyter-widgets/controls",
          "model_name": "FloatProgressModel",
          "model_module_version": "1.5.0",
          "state": {
            "_dom_classes": [],
            "_model_module": "@jupyter-widgets/controls",
            "_model_module_version": "1.5.0",
            "_model_name": "FloatProgressModel",
            "_view_count": null,
            "_view_module": "@jupyter-widgets/controls",
            "_view_module_version": "1.5.0",
            "_view_name": "ProgressView",
            "bar_style": "success",
            "description": "",
            "description_tooltip": null,
            "layout": "IPY_MODEL_0217b97d553f4ecbace3739b68eac227",
            "max": 349,
            "min": 0,
            "orientation": "horizontal",
            "style": "IPY_MODEL_3995d4de682947efbc88c7654292119e",
            "value": 349
          }
        },
        "75b01f5294d14d40b8ef19ddad035863": {
          "model_module": "@jupyter-widgets/controls",
          "model_name": "HTMLModel",
          "model_module_version": "1.5.0",
          "state": {
            "_dom_classes": [],
            "_model_module": "@jupyter-widgets/controls",
            "_model_module_version": "1.5.0",
            "_model_name": "HTMLModel",
            "_view_count": null,
            "_view_module": "@jupyter-widgets/controls",
            "_view_module_version": "1.5.0",
            "_view_name": "HTMLView",
            "description": "",
            "description_tooltip": null,
            "layout": "IPY_MODEL_6ce0361ab0484a88a58ea79ed91b33a2",
            "placeholder": "​",
            "style": "IPY_MODEL_af635a871dde4ff69b9449b6545826dd",
            "value": " 349/349 [00:00&lt;00:00, 19.6kB/s]"
          }
        },
        "25fc5448e6bb437999456c2f41087747": {
          "model_module": "@jupyter-widgets/base",
          "model_name": "LayoutModel",
          "model_module_version": "1.2.0",
          "state": {
            "_model_module": "@jupyter-widgets/base",
            "_model_module_version": "1.2.0",
            "_model_name": "LayoutModel",
            "_view_count": null,
            "_view_module": "@jupyter-widgets/base",
            "_view_module_version": "1.2.0",
            "_view_name": "LayoutView",
            "align_content": null,
            "align_items": null,
            "align_self": null,
            "border": null,
            "bottom": null,
            "display": null,
            "flex": null,
            "flex_flow": null,
            "grid_area": null,
            "grid_auto_columns": null,
            "grid_auto_flow": null,
            "grid_auto_rows": null,
            "grid_column": null,
            "grid_gap": null,
            "grid_row": null,
            "grid_template_areas": null,
            "grid_template_columns": null,
            "grid_template_rows": null,
            "height": null,
            "justify_content": null,
            "justify_items": null,
            "left": null,
            "margin": null,
            "max_height": null,
            "max_width": null,
            "min_height": null,
            "min_width": null,
            "object_fit": null,
            "object_position": null,
            "order": null,
            "overflow": null,
            "overflow_x": null,
            "overflow_y": null,
            "padding": null,
            "right": null,
            "top": null,
            "visibility": null,
            "width": null
          }
        },
        "c7d153f9f1fa407b851eec01526b6fbd": {
          "model_module": "@jupyter-widgets/base",
          "model_name": "LayoutModel",
          "model_module_version": "1.2.0",
          "state": {
            "_model_module": "@jupyter-widgets/base",
            "_model_module_version": "1.2.0",
            "_model_name": "LayoutModel",
            "_view_count": null,
            "_view_module": "@jupyter-widgets/base",
            "_view_module_version": "1.2.0",
            "_view_name": "LayoutView",
            "align_content": null,
            "align_items": null,
            "align_self": null,
            "border": null,
            "bottom": null,
            "display": null,
            "flex": null,
            "flex_flow": null,
            "grid_area": null,
            "grid_auto_columns": null,
            "grid_auto_flow": null,
            "grid_auto_rows": null,
            "grid_column": null,
            "grid_gap": null,
            "grid_row": null,
            "grid_template_areas": null,
            "grid_template_columns": null,
            "grid_template_rows": null,
            "height": null,
            "justify_content": null,
            "justify_items": null,
            "left": null,
            "margin": null,
            "max_height": null,
            "max_width": null,
            "min_height": null,
            "min_width": null,
            "object_fit": null,
            "object_position": null,
            "order": null,
            "overflow": null,
            "overflow_x": null,
            "overflow_y": null,
            "padding": null,
            "right": null,
            "top": null,
            "visibility": null,
            "width": null
          }
        },
        "d1472fe948de4b50ac0ee03df4e59f96": {
          "model_module": "@jupyter-widgets/controls",
          "model_name": "DescriptionStyleModel",
          "model_module_version": "1.5.0",
          "state": {
            "_model_module": "@jupyter-widgets/controls",
            "_model_module_version": "1.5.0",
            "_model_name": "DescriptionStyleModel",
            "_view_count": null,
            "_view_module": "@jupyter-widgets/base",
            "_view_module_version": "1.2.0",
            "_view_name": "StyleView",
            "description_width": ""
          }
        },
        "0217b97d553f4ecbace3739b68eac227": {
          "model_module": "@jupyter-widgets/base",
          "model_name": "LayoutModel",
          "model_module_version": "1.2.0",
          "state": {
            "_model_module": "@jupyter-widgets/base",
            "_model_module_version": "1.2.0",
            "_model_name": "LayoutModel",
            "_view_count": null,
            "_view_module": "@jupyter-widgets/base",
            "_view_module_version": "1.2.0",
            "_view_name": "LayoutView",
            "align_content": null,
            "align_items": null,
            "align_self": null,
            "border": null,
            "bottom": null,
            "display": null,
            "flex": null,
            "flex_flow": null,
            "grid_area": null,
            "grid_auto_columns": null,
            "grid_auto_flow": null,
            "grid_auto_rows": null,
            "grid_column": null,
            "grid_gap": null,
            "grid_row": null,
            "grid_template_areas": null,
            "grid_template_columns": null,
            "grid_template_rows": null,
            "height": null,
            "justify_content": null,
            "justify_items": null,
            "left": null,
            "margin": null,
            "max_height": null,
            "max_width": null,
            "min_height": null,
            "min_width": null,
            "object_fit": null,
            "object_position": null,
            "order": null,
            "overflow": null,
            "overflow_x": null,
            "overflow_y": null,
            "padding": null,
            "right": null,
            "top": null,
            "visibility": null,
            "width": null
          }
        },
        "3995d4de682947efbc88c7654292119e": {
          "model_module": "@jupyter-widgets/controls",
          "model_name": "ProgressStyleModel",
          "model_module_version": "1.5.0",
          "state": {
            "_model_module": "@jupyter-widgets/controls",
            "_model_module_version": "1.5.0",
            "_model_name": "ProgressStyleModel",
            "_view_count": null,
            "_view_module": "@jupyter-widgets/base",
            "_view_module_version": "1.2.0",
            "_view_name": "StyleView",
            "bar_color": null,
            "description_width": ""
          }
        },
        "6ce0361ab0484a88a58ea79ed91b33a2": {
          "model_module": "@jupyter-widgets/base",
          "model_name": "LayoutModel",
          "model_module_version": "1.2.0",
          "state": {
            "_model_module": "@jupyter-widgets/base",
            "_model_module_version": "1.2.0",
            "_model_name": "LayoutModel",
            "_view_count": null,
            "_view_module": "@jupyter-widgets/base",
            "_view_module_version": "1.2.0",
            "_view_name": "LayoutView",
            "align_content": null,
            "align_items": null,
            "align_self": null,
            "border": null,
            "bottom": null,
            "display": null,
            "flex": null,
            "flex_flow": null,
            "grid_area": null,
            "grid_auto_columns": null,
            "grid_auto_flow": null,
            "grid_auto_rows": null,
            "grid_column": null,
            "grid_gap": null,
            "grid_row": null,
            "grid_template_areas": null,
            "grid_template_columns": null,
            "grid_template_rows": null,
            "height": null,
            "justify_content": null,
            "justify_items": null,
            "left": null,
            "margin": null,
            "max_height": null,
            "max_width": null,
            "min_height": null,
            "min_width": null,
            "object_fit": null,
            "object_position": null,
            "order": null,
            "overflow": null,
            "overflow_x": null,
            "overflow_y": null,
            "padding": null,
            "right": null,
            "top": null,
            "visibility": null,
            "width": null
          }
        },
        "af635a871dde4ff69b9449b6545826dd": {
          "model_module": "@jupyter-widgets/controls",
          "model_name": "DescriptionStyleModel",
          "model_module_version": "1.5.0",
          "state": {
            "_model_module": "@jupyter-widgets/controls",
            "_model_module_version": "1.5.0",
            "_model_name": "DescriptionStyleModel",
            "_view_count": null,
            "_view_module": "@jupyter-widgets/base",
            "_view_module_version": "1.2.0",
            "_view_name": "StyleView",
            "description_width": ""
          }
        },
        "563721159e79421896f15beee428cfbc": {
          "model_module": "@jupyter-widgets/controls",
          "model_name": "HBoxModel",
          "model_module_version": "1.5.0",
          "state": {
            "_dom_classes": [],
            "_model_module": "@jupyter-widgets/controls",
            "_model_module_version": "1.5.0",
            "_model_name": "HBoxModel",
            "_view_count": null,
            "_view_module": "@jupyter-widgets/controls",
            "_view_module_version": "1.5.0",
            "_view_name": "HBoxView",
            "box_style": "",
            "children": [
              "IPY_MODEL_dad79989b61d43a59010187062820d7d",
              "IPY_MODEL_2844a06f99ec4278a74d57099d721d2b",
              "IPY_MODEL_cbb329082b68447797fb6a568a3d85ad"
            ],
            "layout": "IPY_MODEL_db981c801a4640b5a2312c3d744537a5"
          }
        },
        "dad79989b61d43a59010187062820d7d": {
          "model_module": "@jupyter-widgets/controls",
          "model_name": "HTMLModel",
          "model_module_version": "1.5.0",
          "state": {
            "_dom_classes": [],
            "_model_module": "@jupyter-widgets/controls",
            "_model_module_version": "1.5.0",
            "_model_name": "HTMLModel",
            "_view_count": null,
            "_view_module": "@jupyter-widgets/controls",
            "_view_module_version": "1.5.0",
            "_view_name": "HTMLView",
            "description": "",
            "description_tooltip": null,
            "layout": "IPY_MODEL_5a51f0702c5645388e75b67bae668c68",
            "placeholder": "​",
            "style": "IPY_MODEL_dcc316d138cb472dad0cb9efbd2bb99d",
            "value": "config_sentence_transformers.json: 100%"
          }
        },
        "2844a06f99ec4278a74d57099d721d2b": {
          "model_module": "@jupyter-widgets/controls",
          "model_name": "FloatProgressModel",
          "model_module_version": "1.5.0",
          "state": {
            "_dom_classes": [],
            "_model_module": "@jupyter-widgets/controls",
            "_model_module_version": "1.5.0",
            "_model_name": "FloatProgressModel",
            "_view_count": null,
            "_view_module": "@jupyter-widgets/controls",
            "_view_module_version": "1.5.0",
            "_view_name": "ProgressView",
            "bar_style": "success",
            "description": "",
            "description_tooltip": null,
            "layout": "IPY_MODEL_e5f8a100906b41c790d262ddb85b4e8c",
            "max": 124,
            "min": 0,
            "orientation": "horizontal",
            "style": "IPY_MODEL_4eee9004093449b6b1c76b0559be28bc",
            "value": 124
          }
        },
        "cbb329082b68447797fb6a568a3d85ad": {
          "model_module": "@jupyter-widgets/controls",
          "model_name": "HTMLModel",
          "model_module_version": "1.5.0",
          "state": {
            "_dom_classes": [],
            "_model_module": "@jupyter-widgets/controls",
            "_model_module_version": "1.5.0",
            "_model_name": "HTMLModel",
            "_view_count": null,
            "_view_module": "@jupyter-widgets/controls",
            "_view_module_version": "1.5.0",
            "_view_name": "HTMLView",
            "description": "",
            "description_tooltip": null,
            "layout": "IPY_MODEL_116a7964065249e7852f97b5e9991061",
            "placeholder": "​",
            "style": "IPY_MODEL_5a88c9dd7dfb4003be14c89decf9b4ef",
            "value": " 124/124 [00:00&lt;00:00, 8.62kB/s]"
          }
        },
        "db981c801a4640b5a2312c3d744537a5": {
          "model_module": "@jupyter-widgets/base",
          "model_name": "LayoutModel",
          "model_module_version": "1.2.0",
          "state": {
            "_model_module": "@jupyter-widgets/base",
            "_model_module_version": "1.2.0",
            "_model_name": "LayoutModel",
            "_view_count": null,
            "_view_module": "@jupyter-widgets/base",
            "_view_module_version": "1.2.0",
            "_view_name": "LayoutView",
            "align_content": null,
            "align_items": null,
            "align_self": null,
            "border": null,
            "bottom": null,
            "display": null,
            "flex": null,
            "flex_flow": null,
            "grid_area": null,
            "grid_auto_columns": null,
            "grid_auto_flow": null,
            "grid_auto_rows": null,
            "grid_column": null,
            "grid_gap": null,
            "grid_row": null,
            "grid_template_areas": null,
            "grid_template_columns": null,
            "grid_template_rows": null,
            "height": null,
            "justify_content": null,
            "justify_items": null,
            "left": null,
            "margin": null,
            "max_height": null,
            "max_width": null,
            "min_height": null,
            "min_width": null,
            "object_fit": null,
            "object_position": null,
            "order": null,
            "overflow": null,
            "overflow_x": null,
            "overflow_y": null,
            "padding": null,
            "right": null,
            "top": null,
            "visibility": null,
            "width": null
          }
        },
        "5a51f0702c5645388e75b67bae668c68": {
          "model_module": "@jupyter-widgets/base",
          "model_name": "LayoutModel",
          "model_module_version": "1.2.0",
          "state": {
            "_model_module": "@jupyter-widgets/base",
            "_model_module_version": "1.2.0",
            "_model_name": "LayoutModel",
            "_view_count": null,
            "_view_module": "@jupyter-widgets/base",
            "_view_module_version": "1.2.0",
            "_view_name": "LayoutView",
            "align_content": null,
            "align_items": null,
            "align_self": null,
            "border": null,
            "bottom": null,
            "display": null,
            "flex": null,
            "flex_flow": null,
            "grid_area": null,
            "grid_auto_columns": null,
            "grid_auto_flow": null,
            "grid_auto_rows": null,
            "grid_column": null,
            "grid_gap": null,
            "grid_row": null,
            "grid_template_areas": null,
            "grid_template_columns": null,
            "grid_template_rows": null,
            "height": null,
            "justify_content": null,
            "justify_items": null,
            "left": null,
            "margin": null,
            "max_height": null,
            "max_width": null,
            "min_height": null,
            "min_width": null,
            "object_fit": null,
            "object_position": null,
            "order": null,
            "overflow": null,
            "overflow_x": null,
            "overflow_y": null,
            "padding": null,
            "right": null,
            "top": null,
            "visibility": null,
            "width": null
          }
        },
        "dcc316d138cb472dad0cb9efbd2bb99d": {
          "model_module": "@jupyter-widgets/controls",
          "model_name": "DescriptionStyleModel",
          "model_module_version": "1.5.0",
          "state": {
            "_model_module": "@jupyter-widgets/controls",
            "_model_module_version": "1.5.0",
            "_model_name": "DescriptionStyleModel",
            "_view_count": null,
            "_view_module": "@jupyter-widgets/base",
            "_view_module_version": "1.2.0",
            "_view_name": "StyleView",
            "description_width": ""
          }
        },
        "e5f8a100906b41c790d262ddb85b4e8c": {
          "model_module": "@jupyter-widgets/base",
          "model_name": "LayoutModel",
          "model_module_version": "1.2.0",
          "state": {
            "_model_module": "@jupyter-widgets/base",
            "_model_module_version": "1.2.0",
            "_model_name": "LayoutModel",
            "_view_count": null,
            "_view_module": "@jupyter-widgets/base",
            "_view_module_version": "1.2.0",
            "_view_name": "LayoutView",
            "align_content": null,
            "align_items": null,
            "align_self": null,
            "border": null,
            "bottom": null,
            "display": null,
            "flex": null,
            "flex_flow": null,
            "grid_area": null,
            "grid_auto_columns": null,
            "grid_auto_flow": null,
            "grid_auto_rows": null,
            "grid_column": null,
            "grid_gap": null,
            "grid_row": null,
            "grid_template_areas": null,
            "grid_template_columns": null,
            "grid_template_rows": null,
            "height": null,
            "justify_content": null,
            "justify_items": null,
            "left": null,
            "margin": null,
            "max_height": null,
            "max_width": null,
            "min_height": null,
            "min_width": null,
            "object_fit": null,
            "object_position": null,
            "order": null,
            "overflow": null,
            "overflow_x": null,
            "overflow_y": null,
            "padding": null,
            "right": null,
            "top": null,
            "visibility": null,
            "width": null
          }
        },
        "4eee9004093449b6b1c76b0559be28bc": {
          "model_module": "@jupyter-widgets/controls",
          "model_name": "ProgressStyleModel",
          "model_module_version": "1.5.0",
          "state": {
            "_model_module": "@jupyter-widgets/controls",
            "_model_module_version": "1.5.0",
            "_model_name": "ProgressStyleModel",
            "_view_count": null,
            "_view_module": "@jupyter-widgets/base",
            "_view_module_version": "1.2.0",
            "_view_name": "StyleView",
            "bar_color": null,
            "description_width": ""
          }
        },
        "116a7964065249e7852f97b5e9991061": {
          "model_module": "@jupyter-widgets/base",
          "model_name": "LayoutModel",
          "model_module_version": "1.2.0",
          "state": {
            "_model_module": "@jupyter-widgets/base",
            "_model_module_version": "1.2.0",
            "_model_name": "LayoutModel",
            "_view_count": null,
            "_view_module": "@jupyter-widgets/base",
            "_view_module_version": "1.2.0",
            "_view_name": "LayoutView",
            "align_content": null,
            "align_items": null,
            "align_self": null,
            "border": null,
            "bottom": null,
            "display": null,
            "flex": null,
            "flex_flow": null,
            "grid_area": null,
            "grid_auto_columns": null,
            "grid_auto_flow": null,
            "grid_auto_rows": null,
            "grid_column": null,
            "grid_gap": null,
            "grid_row": null,
            "grid_template_areas": null,
            "grid_template_columns": null,
            "grid_template_rows": null,
            "height": null,
            "justify_content": null,
            "justify_items": null,
            "left": null,
            "margin": null,
            "max_height": null,
            "max_width": null,
            "min_height": null,
            "min_width": null,
            "object_fit": null,
            "object_position": null,
            "order": null,
            "overflow": null,
            "overflow_x": null,
            "overflow_y": null,
            "padding": null,
            "right": null,
            "top": null,
            "visibility": null,
            "width": null
          }
        },
        "5a88c9dd7dfb4003be14c89decf9b4ef": {
          "model_module": "@jupyter-widgets/controls",
          "model_name": "DescriptionStyleModel",
          "model_module_version": "1.5.0",
          "state": {
            "_model_module": "@jupyter-widgets/controls",
            "_model_module_version": "1.5.0",
            "_model_name": "DescriptionStyleModel",
            "_view_count": null,
            "_view_module": "@jupyter-widgets/base",
            "_view_module_version": "1.2.0",
            "_view_name": "StyleView",
            "description_width": ""
          }
        },
        "7a741561c4de4282a5d850bfff5ba165": {
          "model_module": "@jupyter-widgets/controls",
          "model_name": "HBoxModel",
          "model_module_version": "1.5.0",
          "state": {
            "_dom_classes": [],
            "_model_module": "@jupyter-widgets/controls",
            "_model_module_version": "1.5.0",
            "_model_name": "HBoxModel",
            "_view_count": null,
            "_view_module": "@jupyter-widgets/controls",
            "_view_module_version": "1.5.0",
            "_view_name": "HBoxView",
            "box_style": "",
            "children": [
              "IPY_MODEL_9914763cb8994abfbb344d2b89c49588",
              "IPY_MODEL_345be2543f4e4df7a1820fcbe0b62be6",
              "IPY_MODEL_bce8ed33148041cd9edf36644253a1fc"
            ],
            "layout": "IPY_MODEL_5cc34f7063d8456eae23a35e6d27bdcf"
          }
        },
        "9914763cb8994abfbb344d2b89c49588": {
          "model_module": "@jupyter-widgets/controls",
          "model_name": "HTMLModel",
          "model_module_version": "1.5.0",
          "state": {
            "_dom_classes": [],
            "_model_module": "@jupyter-widgets/controls",
            "_model_module_version": "1.5.0",
            "_model_name": "HTMLModel",
            "_view_count": null,
            "_view_module": "@jupyter-widgets/controls",
            "_view_module_version": "1.5.0",
            "_view_name": "HTMLView",
            "description": "",
            "description_tooltip": null,
            "layout": "IPY_MODEL_a5063350922242f1b7d98c62e860099d",
            "placeholder": "​",
            "style": "IPY_MODEL_1e3dbcfa2fa04bf08c1dfb8b0b73c731",
            "value": "README.md: 100%"
          }
        },
        "345be2543f4e4df7a1820fcbe0b62be6": {
          "model_module": "@jupyter-widgets/controls",
          "model_name": "FloatProgressModel",
          "model_module_version": "1.5.0",
          "state": {
            "_dom_classes": [],
            "_model_module": "@jupyter-widgets/controls",
            "_model_module_version": "1.5.0",
            "_model_name": "FloatProgressModel",
            "_view_count": null,
            "_view_module": "@jupyter-widgets/controls",
            "_view_module_version": "1.5.0",
            "_view_name": "ProgressView",
            "bar_style": "success",
            "description": "",
            "description_tooltip": null,
            "layout": "IPY_MODEL_6d2c3a1951644ddb9189507798899a6d",
            "max": 94783,
            "min": 0,
            "orientation": "horizontal",
            "style": "IPY_MODEL_8b52b519f63e472c9f4bac525e22a1e5",
            "value": 94783
          }
        },
        "bce8ed33148041cd9edf36644253a1fc": {
          "model_module": "@jupyter-widgets/controls",
          "model_name": "HTMLModel",
          "model_module_version": "1.5.0",
          "state": {
            "_dom_classes": [],
            "_model_module": "@jupyter-widgets/controls",
            "_model_module_version": "1.5.0",
            "_model_name": "HTMLModel",
            "_view_count": null,
            "_view_module": "@jupyter-widgets/controls",
            "_view_module_version": "1.5.0",
            "_view_name": "HTMLView",
            "description": "",
            "description_tooltip": null,
            "layout": "IPY_MODEL_42635f13b71b412ea2362fabf4e5504b",
            "placeholder": "​",
            "style": "IPY_MODEL_47e517204bea403e8030b7e90cad192c",
            "value": " 94.8k/94.8k [00:00&lt;00:00, 1.44MB/s]"
          }
        },
        "5cc34f7063d8456eae23a35e6d27bdcf": {
          "model_module": "@jupyter-widgets/base",
          "model_name": "LayoutModel",
          "model_module_version": "1.2.0",
          "state": {
            "_model_module": "@jupyter-widgets/base",
            "_model_module_version": "1.2.0",
            "_model_name": "LayoutModel",
            "_view_count": null,
            "_view_module": "@jupyter-widgets/base",
            "_view_module_version": "1.2.0",
            "_view_name": "LayoutView",
            "align_content": null,
            "align_items": null,
            "align_self": null,
            "border": null,
            "bottom": null,
            "display": null,
            "flex": null,
            "flex_flow": null,
            "grid_area": null,
            "grid_auto_columns": null,
            "grid_auto_flow": null,
            "grid_auto_rows": null,
            "grid_column": null,
            "grid_gap": null,
            "grid_row": null,
            "grid_template_areas": null,
            "grid_template_columns": null,
            "grid_template_rows": null,
            "height": null,
            "justify_content": null,
            "justify_items": null,
            "left": null,
            "margin": null,
            "max_height": null,
            "max_width": null,
            "min_height": null,
            "min_width": null,
            "object_fit": null,
            "object_position": null,
            "order": null,
            "overflow": null,
            "overflow_x": null,
            "overflow_y": null,
            "padding": null,
            "right": null,
            "top": null,
            "visibility": null,
            "width": null
          }
        },
        "a5063350922242f1b7d98c62e860099d": {
          "model_module": "@jupyter-widgets/base",
          "model_name": "LayoutModel",
          "model_module_version": "1.2.0",
          "state": {
            "_model_module": "@jupyter-widgets/base",
            "_model_module_version": "1.2.0",
            "_model_name": "LayoutModel",
            "_view_count": null,
            "_view_module": "@jupyter-widgets/base",
            "_view_module_version": "1.2.0",
            "_view_name": "LayoutView",
            "align_content": null,
            "align_items": null,
            "align_self": null,
            "border": null,
            "bottom": null,
            "display": null,
            "flex": null,
            "flex_flow": null,
            "grid_area": null,
            "grid_auto_columns": null,
            "grid_auto_flow": null,
            "grid_auto_rows": null,
            "grid_column": null,
            "grid_gap": null,
            "grid_row": null,
            "grid_template_areas": null,
            "grid_template_columns": null,
            "grid_template_rows": null,
            "height": null,
            "justify_content": null,
            "justify_items": null,
            "left": null,
            "margin": null,
            "max_height": null,
            "max_width": null,
            "min_height": null,
            "min_width": null,
            "object_fit": null,
            "object_position": null,
            "order": null,
            "overflow": null,
            "overflow_x": null,
            "overflow_y": null,
            "padding": null,
            "right": null,
            "top": null,
            "visibility": null,
            "width": null
          }
        },
        "1e3dbcfa2fa04bf08c1dfb8b0b73c731": {
          "model_module": "@jupyter-widgets/controls",
          "model_name": "DescriptionStyleModel",
          "model_module_version": "1.5.0",
          "state": {
            "_model_module": "@jupyter-widgets/controls",
            "_model_module_version": "1.5.0",
            "_model_name": "DescriptionStyleModel",
            "_view_count": null,
            "_view_module": "@jupyter-widgets/base",
            "_view_module_version": "1.2.0",
            "_view_name": "StyleView",
            "description_width": ""
          }
        },
        "6d2c3a1951644ddb9189507798899a6d": {
          "model_module": "@jupyter-widgets/base",
          "model_name": "LayoutModel",
          "model_module_version": "1.2.0",
          "state": {
            "_model_module": "@jupyter-widgets/base",
            "_model_module_version": "1.2.0",
            "_model_name": "LayoutModel",
            "_view_count": null,
            "_view_module": "@jupyter-widgets/base",
            "_view_module_version": "1.2.0",
            "_view_name": "LayoutView",
            "align_content": null,
            "align_items": null,
            "align_self": null,
            "border": null,
            "bottom": null,
            "display": null,
            "flex": null,
            "flex_flow": null,
            "grid_area": null,
            "grid_auto_columns": null,
            "grid_auto_flow": null,
            "grid_auto_rows": null,
            "grid_column": null,
            "grid_gap": null,
            "grid_row": null,
            "grid_template_areas": null,
            "grid_template_columns": null,
            "grid_template_rows": null,
            "height": null,
            "justify_content": null,
            "justify_items": null,
            "left": null,
            "margin": null,
            "max_height": null,
            "max_width": null,
            "min_height": null,
            "min_width": null,
            "object_fit": null,
            "object_position": null,
            "order": null,
            "overflow": null,
            "overflow_x": null,
            "overflow_y": null,
            "padding": null,
            "right": null,
            "top": null,
            "visibility": null,
            "width": null
          }
        },
        "8b52b519f63e472c9f4bac525e22a1e5": {
          "model_module": "@jupyter-widgets/controls",
          "model_name": "ProgressStyleModel",
          "model_module_version": "1.5.0",
          "state": {
            "_model_module": "@jupyter-widgets/controls",
            "_model_module_version": "1.5.0",
            "_model_name": "ProgressStyleModel",
            "_view_count": null,
            "_view_module": "@jupyter-widgets/base",
            "_view_module_version": "1.2.0",
            "_view_name": "StyleView",
            "bar_color": null,
            "description_width": ""
          }
        },
        "42635f13b71b412ea2362fabf4e5504b": {
          "model_module": "@jupyter-widgets/base",
          "model_name": "LayoutModel",
          "model_module_version": "1.2.0",
          "state": {
            "_model_module": "@jupyter-widgets/base",
            "_model_module_version": "1.2.0",
            "_model_name": "LayoutModel",
            "_view_count": null,
            "_view_module": "@jupyter-widgets/base",
            "_view_module_version": "1.2.0",
            "_view_name": "LayoutView",
            "align_content": null,
            "align_items": null,
            "align_self": null,
            "border": null,
            "bottom": null,
            "display": null,
            "flex": null,
            "flex_flow": null,
            "grid_area": null,
            "grid_auto_columns": null,
            "grid_auto_flow": null,
            "grid_auto_rows": null,
            "grid_column": null,
            "grid_gap": null,
            "grid_row": null,
            "grid_template_areas": null,
            "grid_template_columns": null,
            "grid_template_rows": null,
            "height": null,
            "justify_content": null,
            "justify_items": null,
            "left": null,
            "margin": null,
            "max_height": null,
            "max_width": null,
            "min_height": null,
            "min_width": null,
            "object_fit": null,
            "object_position": null,
            "order": null,
            "overflow": null,
            "overflow_x": null,
            "overflow_y": null,
            "padding": null,
            "right": null,
            "top": null,
            "visibility": null,
            "width": null
          }
        },
        "47e517204bea403e8030b7e90cad192c": {
          "model_module": "@jupyter-widgets/controls",
          "model_name": "DescriptionStyleModel",
          "model_module_version": "1.5.0",
          "state": {
            "_model_module": "@jupyter-widgets/controls",
            "_model_module_version": "1.5.0",
            "_model_name": "DescriptionStyleModel",
            "_view_count": null,
            "_view_module": "@jupyter-widgets/base",
            "_view_module_version": "1.2.0",
            "_view_name": "StyleView",
            "description_width": ""
          }
        },
        "376e4499a1d042e88920aa6b87205606": {
          "model_module": "@jupyter-widgets/controls",
          "model_name": "HBoxModel",
          "model_module_version": "1.5.0",
          "state": {
            "_dom_classes": [],
            "_model_module": "@jupyter-widgets/controls",
            "_model_module_version": "1.5.0",
            "_model_name": "HBoxModel",
            "_view_count": null,
            "_view_module": "@jupyter-widgets/controls",
            "_view_module_version": "1.5.0",
            "_view_name": "HBoxView",
            "box_style": "",
            "children": [
              "IPY_MODEL_6265daf1add34cf19bcfeebdb48330e6",
              "IPY_MODEL_7e567fe55b504a2dba5e4e0acfb537b2",
              "IPY_MODEL_23c75db2a522444e99fb938fdc504817"
            ],
            "layout": "IPY_MODEL_cddf0d8901764d97958b2f60649aacc7"
          }
        },
        "6265daf1add34cf19bcfeebdb48330e6": {
          "model_module": "@jupyter-widgets/controls",
          "model_name": "HTMLModel",
          "model_module_version": "1.5.0",
          "state": {
            "_dom_classes": [],
            "_model_module": "@jupyter-widgets/controls",
            "_model_module_version": "1.5.0",
            "_model_name": "HTMLModel",
            "_view_count": null,
            "_view_module": "@jupyter-widgets/controls",
            "_view_module_version": "1.5.0",
            "_view_name": "HTMLView",
            "description": "",
            "description_tooltip": null,
            "layout": "IPY_MODEL_b1734c55cc2c400c86969ea0fd883aac",
            "placeholder": "​",
            "style": "IPY_MODEL_8e06a5da92d04a908bc44afa5c1d4fa9",
            "value": "sentence_bert_config.json: 100%"
          }
        },
        "7e567fe55b504a2dba5e4e0acfb537b2": {
          "model_module": "@jupyter-widgets/controls",
          "model_name": "FloatProgressModel",
          "model_module_version": "1.5.0",
          "state": {
            "_dom_classes": [],
            "_model_module": "@jupyter-widgets/controls",
            "_model_module_version": "1.5.0",
            "_model_name": "FloatProgressModel",
            "_view_count": null,
            "_view_module": "@jupyter-widgets/controls",
            "_view_module_version": "1.5.0",
            "_view_name": "ProgressView",
            "bar_style": "success",
            "description": "",
            "description_tooltip": null,
            "layout": "IPY_MODEL_831efa5c0ca7456eb4e3dde51428277a",
            "max": 52,
            "min": 0,
            "orientation": "horizontal",
            "style": "IPY_MODEL_216646b5bc4c4ef5b98cffd195ab1834",
            "value": 52
          }
        },
        "23c75db2a522444e99fb938fdc504817": {
          "model_module": "@jupyter-widgets/controls",
          "model_name": "HTMLModel",
          "model_module_version": "1.5.0",
          "state": {
            "_dom_classes": [],
            "_model_module": "@jupyter-widgets/controls",
            "_model_module_version": "1.5.0",
            "_model_name": "HTMLModel",
            "_view_count": null,
            "_view_module": "@jupyter-widgets/controls",
            "_view_module_version": "1.5.0",
            "_view_name": "HTMLView",
            "description": "",
            "description_tooltip": null,
            "layout": "IPY_MODEL_0b74b468bd5145268b8fa5ad03a9cd6a",
            "placeholder": "​",
            "style": "IPY_MODEL_03dc0410e629483db19aa9ca9756a3e8",
            "value": " 52.0/52.0 [00:00&lt;00:00, 2.29kB/s]"
          }
        },
        "cddf0d8901764d97958b2f60649aacc7": {
          "model_module": "@jupyter-widgets/base",
          "model_name": "LayoutModel",
          "model_module_version": "1.2.0",
          "state": {
            "_model_module": "@jupyter-widgets/base",
            "_model_module_version": "1.2.0",
            "_model_name": "LayoutModel",
            "_view_count": null,
            "_view_module": "@jupyter-widgets/base",
            "_view_module_version": "1.2.0",
            "_view_name": "LayoutView",
            "align_content": null,
            "align_items": null,
            "align_self": null,
            "border": null,
            "bottom": null,
            "display": null,
            "flex": null,
            "flex_flow": null,
            "grid_area": null,
            "grid_auto_columns": null,
            "grid_auto_flow": null,
            "grid_auto_rows": null,
            "grid_column": null,
            "grid_gap": null,
            "grid_row": null,
            "grid_template_areas": null,
            "grid_template_columns": null,
            "grid_template_rows": null,
            "height": null,
            "justify_content": null,
            "justify_items": null,
            "left": null,
            "margin": null,
            "max_height": null,
            "max_width": null,
            "min_height": null,
            "min_width": null,
            "object_fit": null,
            "object_position": null,
            "order": null,
            "overflow": null,
            "overflow_x": null,
            "overflow_y": null,
            "padding": null,
            "right": null,
            "top": null,
            "visibility": null,
            "width": null
          }
        },
        "b1734c55cc2c400c86969ea0fd883aac": {
          "model_module": "@jupyter-widgets/base",
          "model_name": "LayoutModel",
          "model_module_version": "1.2.0",
          "state": {
            "_model_module": "@jupyter-widgets/base",
            "_model_module_version": "1.2.0",
            "_model_name": "LayoutModel",
            "_view_count": null,
            "_view_module": "@jupyter-widgets/base",
            "_view_module_version": "1.2.0",
            "_view_name": "LayoutView",
            "align_content": null,
            "align_items": null,
            "align_self": null,
            "border": null,
            "bottom": null,
            "display": null,
            "flex": null,
            "flex_flow": null,
            "grid_area": null,
            "grid_auto_columns": null,
            "grid_auto_flow": null,
            "grid_auto_rows": null,
            "grid_column": null,
            "grid_gap": null,
            "grid_row": null,
            "grid_template_areas": null,
            "grid_template_columns": null,
            "grid_template_rows": null,
            "height": null,
            "justify_content": null,
            "justify_items": null,
            "left": null,
            "margin": null,
            "max_height": null,
            "max_width": null,
            "min_height": null,
            "min_width": null,
            "object_fit": null,
            "object_position": null,
            "order": null,
            "overflow": null,
            "overflow_x": null,
            "overflow_y": null,
            "padding": null,
            "right": null,
            "top": null,
            "visibility": null,
            "width": null
          }
        },
        "8e06a5da92d04a908bc44afa5c1d4fa9": {
          "model_module": "@jupyter-widgets/controls",
          "model_name": "DescriptionStyleModel",
          "model_module_version": "1.5.0",
          "state": {
            "_model_module": "@jupyter-widgets/controls",
            "_model_module_version": "1.5.0",
            "_model_name": "DescriptionStyleModel",
            "_view_count": null,
            "_view_module": "@jupyter-widgets/base",
            "_view_module_version": "1.2.0",
            "_view_name": "StyleView",
            "description_width": ""
          }
        },
        "831efa5c0ca7456eb4e3dde51428277a": {
          "model_module": "@jupyter-widgets/base",
          "model_name": "LayoutModel",
          "model_module_version": "1.2.0",
          "state": {
            "_model_module": "@jupyter-widgets/base",
            "_model_module_version": "1.2.0",
            "_model_name": "LayoutModel",
            "_view_count": null,
            "_view_module": "@jupyter-widgets/base",
            "_view_module_version": "1.2.0",
            "_view_name": "LayoutView",
            "align_content": null,
            "align_items": null,
            "align_self": null,
            "border": null,
            "bottom": null,
            "display": null,
            "flex": null,
            "flex_flow": null,
            "grid_area": null,
            "grid_auto_columns": null,
            "grid_auto_flow": null,
            "grid_auto_rows": null,
            "grid_column": null,
            "grid_gap": null,
            "grid_row": null,
            "grid_template_areas": null,
            "grid_template_columns": null,
            "grid_template_rows": null,
            "height": null,
            "justify_content": null,
            "justify_items": null,
            "left": null,
            "margin": null,
            "max_height": null,
            "max_width": null,
            "min_height": null,
            "min_width": null,
            "object_fit": null,
            "object_position": null,
            "order": null,
            "overflow": null,
            "overflow_x": null,
            "overflow_y": null,
            "padding": null,
            "right": null,
            "top": null,
            "visibility": null,
            "width": null
          }
        },
        "216646b5bc4c4ef5b98cffd195ab1834": {
          "model_module": "@jupyter-widgets/controls",
          "model_name": "ProgressStyleModel",
          "model_module_version": "1.5.0",
          "state": {
            "_model_module": "@jupyter-widgets/controls",
            "_model_module_version": "1.5.0",
            "_model_name": "ProgressStyleModel",
            "_view_count": null,
            "_view_module": "@jupyter-widgets/base",
            "_view_module_version": "1.2.0",
            "_view_name": "StyleView",
            "bar_color": null,
            "description_width": ""
          }
        },
        "0b74b468bd5145268b8fa5ad03a9cd6a": {
          "model_module": "@jupyter-widgets/base",
          "model_name": "LayoutModel",
          "model_module_version": "1.2.0",
          "state": {
            "_model_module": "@jupyter-widgets/base",
            "_model_module_version": "1.2.0",
            "_model_name": "LayoutModel",
            "_view_count": null,
            "_view_module": "@jupyter-widgets/base",
            "_view_module_version": "1.2.0",
            "_view_name": "LayoutView",
            "align_content": null,
            "align_items": null,
            "align_self": null,
            "border": null,
            "bottom": null,
            "display": null,
            "flex": null,
            "flex_flow": null,
            "grid_area": null,
            "grid_auto_columns": null,
            "grid_auto_flow": null,
            "grid_auto_rows": null,
            "grid_column": null,
            "grid_gap": null,
            "grid_row": null,
            "grid_template_areas": null,
            "grid_template_columns": null,
            "grid_template_rows": null,
            "height": null,
            "justify_content": null,
            "justify_items": null,
            "left": null,
            "margin": null,
            "max_height": null,
            "max_width": null,
            "min_height": null,
            "min_width": null,
            "object_fit": null,
            "object_position": null,
            "order": null,
            "overflow": null,
            "overflow_x": null,
            "overflow_y": null,
            "padding": null,
            "right": null,
            "top": null,
            "visibility": null,
            "width": null
          }
        },
        "03dc0410e629483db19aa9ca9756a3e8": {
          "model_module": "@jupyter-widgets/controls",
          "model_name": "DescriptionStyleModel",
          "model_module_version": "1.5.0",
          "state": {
            "_model_module": "@jupyter-widgets/controls",
            "_model_module_version": "1.5.0",
            "_model_name": "DescriptionStyleModel",
            "_view_count": null,
            "_view_module": "@jupyter-widgets/base",
            "_view_module_version": "1.2.0",
            "_view_name": "StyleView",
            "description_width": ""
          }
        },
        "0969cafe412f40da8b16a76d6d4ad6ff": {
          "model_module": "@jupyter-widgets/controls",
          "model_name": "HBoxModel",
          "model_module_version": "1.5.0",
          "state": {
            "_dom_classes": [],
            "_model_module": "@jupyter-widgets/controls",
            "_model_module_version": "1.5.0",
            "_model_name": "HBoxModel",
            "_view_count": null,
            "_view_module": "@jupyter-widgets/controls",
            "_view_module_version": "1.5.0",
            "_view_name": "HBoxView",
            "box_style": "",
            "children": [
              "IPY_MODEL_2ba4e8432ef84ed1af981b2b834ed4f4",
              "IPY_MODEL_caaf3b83184a4355951c63a102b1e6fd",
              "IPY_MODEL_e52790ad89ba4783a981e82ab8345bda"
            ],
            "layout": "IPY_MODEL_f835d59bc26946d5b87232b38fd1da88"
          }
        },
        "2ba4e8432ef84ed1af981b2b834ed4f4": {
          "model_module": "@jupyter-widgets/controls",
          "model_name": "HTMLModel",
          "model_module_version": "1.5.0",
          "state": {
            "_dom_classes": [],
            "_model_module": "@jupyter-widgets/controls",
            "_model_module_version": "1.5.0",
            "_model_name": "HTMLModel",
            "_view_count": null,
            "_view_module": "@jupyter-widgets/controls",
            "_view_module_version": "1.5.0",
            "_view_name": "HTMLView",
            "description": "",
            "description_tooltip": null,
            "layout": "IPY_MODEL_c21856a5ff66494b8fc15f9c818f3d2d",
            "placeholder": "​",
            "style": "IPY_MODEL_fc0254a4e3f44d50bde6561f4677921d",
            "value": "config.json: 100%"
          }
        },
        "caaf3b83184a4355951c63a102b1e6fd": {
          "model_module": "@jupyter-widgets/controls",
          "model_name": "FloatProgressModel",
          "model_module_version": "1.5.0",
          "state": {
            "_dom_classes": [],
            "_model_module": "@jupyter-widgets/controls",
            "_model_module_version": "1.5.0",
            "_model_name": "FloatProgressModel",
            "_view_count": null,
            "_view_module": "@jupyter-widgets/controls",
            "_view_module_version": "1.5.0",
            "_view_name": "ProgressView",
            "bar_style": "success",
            "description": "",
            "description_tooltip": null,
            "layout": "IPY_MODEL_f1e4cd0388b4464da88624ee6f30fe54",
            "max": 743,
            "min": 0,
            "orientation": "horizontal",
            "style": "IPY_MODEL_cf88df01b96c4634b820925051d27e88",
            "value": 743
          }
        },
        "e52790ad89ba4783a981e82ab8345bda": {
          "model_module": "@jupyter-widgets/controls",
          "model_name": "HTMLModel",
          "model_module_version": "1.5.0",
          "state": {
            "_dom_classes": [],
            "_model_module": "@jupyter-widgets/controls",
            "_model_module_version": "1.5.0",
            "_model_name": "HTMLModel",
            "_view_count": null,
            "_view_module": "@jupyter-widgets/controls",
            "_view_module_version": "1.5.0",
            "_view_name": "HTMLView",
            "description": "",
            "description_tooltip": null,
            "layout": "IPY_MODEL_acdf9760ec294fc898f6304c781b4fd1",
            "placeholder": "​",
            "style": "IPY_MODEL_4b2fd431d7514d938458e0c2cc3601b9",
            "value": " 743/743 [00:00&lt;00:00, 58.1kB/s]"
          }
        },
        "f835d59bc26946d5b87232b38fd1da88": {
          "model_module": "@jupyter-widgets/base",
          "model_name": "LayoutModel",
          "model_module_version": "1.2.0",
          "state": {
            "_model_module": "@jupyter-widgets/base",
            "_model_module_version": "1.2.0",
            "_model_name": "LayoutModel",
            "_view_count": null,
            "_view_module": "@jupyter-widgets/base",
            "_view_module_version": "1.2.0",
            "_view_name": "LayoutView",
            "align_content": null,
            "align_items": null,
            "align_self": null,
            "border": null,
            "bottom": null,
            "display": null,
            "flex": null,
            "flex_flow": null,
            "grid_area": null,
            "grid_auto_columns": null,
            "grid_auto_flow": null,
            "grid_auto_rows": null,
            "grid_column": null,
            "grid_gap": null,
            "grid_row": null,
            "grid_template_areas": null,
            "grid_template_columns": null,
            "grid_template_rows": null,
            "height": null,
            "justify_content": null,
            "justify_items": null,
            "left": null,
            "margin": null,
            "max_height": null,
            "max_width": null,
            "min_height": null,
            "min_width": null,
            "object_fit": null,
            "object_position": null,
            "order": null,
            "overflow": null,
            "overflow_x": null,
            "overflow_y": null,
            "padding": null,
            "right": null,
            "top": null,
            "visibility": null,
            "width": null
          }
        },
        "c21856a5ff66494b8fc15f9c818f3d2d": {
          "model_module": "@jupyter-widgets/base",
          "model_name": "LayoutModel",
          "model_module_version": "1.2.0",
          "state": {
            "_model_module": "@jupyter-widgets/base",
            "_model_module_version": "1.2.0",
            "_model_name": "LayoutModel",
            "_view_count": null,
            "_view_module": "@jupyter-widgets/base",
            "_view_module_version": "1.2.0",
            "_view_name": "LayoutView",
            "align_content": null,
            "align_items": null,
            "align_self": null,
            "border": null,
            "bottom": null,
            "display": null,
            "flex": null,
            "flex_flow": null,
            "grid_area": null,
            "grid_auto_columns": null,
            "grid_auto_flow": null,
            "grid_auto_rows": null,
            "grid_column": null,
            "grid_gap": null,
            "grid_row": null,
            "grid_template_areas": null,
            "grid_template_columns": null,
            "grid_template_rows": null,
            "height": null,
            "justify_content": null,
            "justify_items": null,
            "left": null,
            "margin": null,
            "max_height": null,
            "max_width": null,
            "min_height": null,
            "min_width": null,
            "object_fit": null,
            "object_position": null,
            "order": null,
            "overflow": null,
            "overflow_x": null,
            "overflow_y": null,
            "padding": null,
            "right": null,
            "top": null,
            "visibility": null,
            "width": null
          }
        },
        "fc0254a4e3f44d50bde6561f4677921d": {
          "model_module": "@jupyter-widgets/controls",
          "model_name": "DescriptionStyleModel",
          "model_module_version": "1.5.0",
          "state": {
            "_model_module": "@jupyter-widgets/controls",
            "_model_module_version": "1.5.0",
            "_model_name": "DescriptionStyleModel",
            "_view_count": null,
            "_view_module": "@jupyter-widgets/base",
            "_view_module_version": "1.2.0",
            "_view_name": "StyleView",
            "description_width": ""
          }
        },
        "f1e4cd0388b4464da88624ee6f30fe54": {
          "model_module": "@jupyter-widgets/base",
          "model_name": "LayoutModel",
          "model_module_version": "1.2.0",
          "state": {
            "_model_module": "@jupyter-widgets/base",
            "_model_module_version": "1.2.0",
            "_model_name": "LayoutModel",
            "_view_count": null,
            "_view_module": "@jupyter-widgets/base",
            "_view_module_version": "1.2.0",
            "_view_name": "LayoutView",
            "align_content": null,
            "align_items": null,
            "align_self": null,
            "border": null,
            "bottom": null,
            "display": null,
            "flex": null,
            "flex_flow": null,
            "grid_area": null,
            "grid_auto_columns": null,
            "grid_auto_flow": null,
            "grid_auto_rows": null,
            "grid_column": null,
            "grid_gap": null,
            "grid_row": null,
            "grid_template_areas": null,
            "grid_template_columns": null,
            "grid_template_rows": null,
            "height": null,
            "justify_content": null,
            "justify_items": null,
            "left": null,
            "margin": null,
            "max_height": null,
            "max_width": null,
            "min_height": null,
            "min_width": null,
            "object_fit": null,
            "object_position": null,
            "order": null,
            "overflow": null,
            "overflow_x": null,
            "overflow_y": null,
            "padding": null,
            "right": null,
            "top": null,
            "visibility": null,
            "width": null
          }
        },
        "cf88df01b96c4634b820925051d27e88": {
          "model_module": "@jupyter-widgets/controls",
          "model_name": "ProgressStyleModel",
          "model_module_version": "1.5.0",
          "state": {
            "_model_module": "@jupyter-widgets/controls",
            "_model_module_version": "1.5.0",
            "_model_name": "ProgressStyleModel",
            "_view_count": null,
            "_view_module": "@jupyter-widgets/base",
            "_view_module_version": "1.2.0",
            "_view_name": "StyleView",
            "bar_color": null,
            "description_width": ""
          }
        },
        "acdf9760ec294fc898f6304c781b4fd1": {
          "model_module": "@jupyter-widgets/base",
          "model_name": "LayoutModel",
          "model_module_version": "1.2.0",
          "state": {
            "_model_module": "@jupyter-widgets/base",
            "_model_module_version": "1.2.0",
            "_model_name": "LayoutModel",
            "_view_count": null,
            "_view_module": "@jupyter-widgets/base",
            "_view_module_version": "1.2.0",
            "_view_name": "LayoutView",
            "align_content": null,
            "align_items": null,
            "align_self": null,
            "border": null,
            "bottom": null,
            "display": null,
            "flex": null,
            "flex_flow": null,
            "grid_area": null,
            "grid_auto_columns": null,
            "grid_auto_flow": null,
            "grid_auto_rows": null,
            "grid_column": null,
            "grid_gap": null,
            "grid_row": null,
            "grid_template_areas": null,
            "grid_template_columns": null,
            "grid_template_rows": null,
            "height": null,
            "justify_content": null,
            "justify_items": null,
            "left": null,
            "margin": null,
            "max_height": null,
            "max_width": null,
            "min_height": null,
            "min_width": null,
            "object_fit": null,
            "object_position": null,
            "order": null,
            "overflow": null,
            "overflow_x": null,
            "overflow_y": null,
            "padding": null,
            "right": null,
            "top": null,
            "visibility": null,
            "width": null
          }
        },
        "4b2fd431d7514d938458e0c2cc3601b9": {
          "model_module": "@jupyter-widgets/controls",
          "model_name": "DescriptionStyleModel",
          "model_module_version": "1.5.0",
          "state": {
            "_model_module": "@jupyter-widgets/controls",
            "_model_module_version": "1.5.0",
            "_model_name": "DescriptionStyleModel",
            "_view_count": null,
            "_view_module": "@jupyter-widgets/base",
            "_view_module_version": "1.2.0",
            "_view_name": "StyleView",
            "description_width": ""
          }
        },
        "386f8527cb4b487c862b66180e562211": {
          "model_module": "@jupyter-widgets/controls",
          "model_name": "HBoxModel",
          "model_module_version": "1.5.0",
          "state": {
            "_dom_classes": [],
            "_model_module": "@jupyter-widgets/controls",
            "_model_module_version": "1.5.0",
            "_model_name": "HBoxModel",
            "_view_count": null,
            "_view_module": "@jupyter-widgets/controls",
            "_view_module_version": "1.5.0",
            "_view_name": "HBoxView",
            "box_style": "",
            "children": [
              "IPY_MODEL_91ea33e40a8f4c08b5b6ece19b5990c6",
              "IPY_MODEL_9a8bb2cb4f7f4cdbad86a9c60683b06e",
              "IPY_MODEL_cd948f0bfccb4a4ea741d645b75245bb"
            ],
            "layout": "IPY_MODEL_24a011f9114744f3bdd81ef867a135f1"
          }
        },
        "91ea33e40a8f4c08b5b6ece19b5990c6": {
          "model_module": "@jupyter-widgets/controls",
          "model_name": "HTMLModel",
          "model_module_version": "1.5.0",
          "state": {
            "_dom_classes": [],
            "_model_module": "@jupyter-widgets/controls",
            "_model_module_version": "1.5.0",
            "_model_name": "HTMLModel",
            "_view_count": null,
            "_view_module": "@jupyter-widgets/controls",
            "_view_module_version": "1.5.0",
            "_view_name": "HTMLView",
            "description": "",
            "description_tooltip": null,
            "layout": "IPY_MODEL_047f4c4265fe49aab8cc10dffa4e97af",
            "placeholder": "​",
            "style": "IPY_MODEL_0a46b00bc4434e20b239bc95a053282b",
            "value": "model.safetensors: 100%"
          }
        },
        "9a8bb2cb4f7f4cdbad86a9c60683b06e": {
          "model_module": "@jupyter-widgets/controls",
          "model_name": "FloatProgressModel",
          "model_module_version": "1.5.0",
          "state": {
            "_dom_classes": [],
            "_model_module": "@jupyter-widgets/controls",
            "_model_module_version": "1.5.0",
            "_model_name": "FloatProgressModel",
            "_view_count": null,
            "_view_module": "@jupyter-widgets/controls",
            "_view_module_version": "1.5.0",
            "_view_name": "ProgressView",
            "bar_style": "success",
            "description": "",
            "description_tooltip": null,
            "layout": "IPY_MODEL_082f52f219b145d0b880761827bd0c44",
            "max": 133466304,
            "min": 0,
            "orientation": "horizontal",
            "style": "IPY_MODEL_7ea48dd3b1eb4693aadc00e5aa08e47e",
            "value": 133466304
          }
        },
        "cd948f0bfccb4a4ea741d645b75245bb": {
          "model_module": "@jupyter-widgets/controls",
          "model_name": "HTMLModel",
          "model_module_version": "1.5.0",
          "state": {
            "_dom_classes": [],
            "_model_module": "@jupyter-widgets/controls",
            "_model_module_version": "1.5.0",
            "_model_name": "HTMLModel",
            "_view_count": null,
            "_view_module": "@jupyter-widgets/controls",
            "_view_module_version": "1.5.0",
            "_view_name": "HTMLView",
            "description": "",
            "description_tooltip": null,
            "layout": "IPY_MODEL_aed9eef013394488972729ccdf66f3b4",
            "placeholder": "​",
            "style": "IPY_MODEL_cd85c5751abd459292a798652df8c86a",
            "value": " 133M/133M [00:00&lt;00:00, 203MB/s]"
          }
        },
        "24a011f9114744f3bdd81ef867a135f1": {
          "model_module": "@jupyter-widgets/base",
          "model_name": "LayoutModel",
          "model_module_version": "1.2.0",
          "state": {
            "_model_module": "@jupyter-widgets/base",
            "_model_module_version": "1.2.0",
            "_model_name": "LayoutModel",
            "_view_count": null,
            "_view_module": "@jupyter-widgets/base",
            "_view_module_version": "1.2.0",
            "_view_name": "LayoutView",
            "align_content": null,
            "align_items": null,
            "align_self": null,
            "border": null,
            "bottom": null,
            "display": null,
            "flex": null,
            "flex_flow": null,
            "grid_area": null,
            "grid_auto_columns": null,
            "grid_auto_flow": null,
            "grid_auto_rows": null,
            "grid_column": null,
            "grid_gap": null,
            "grid_row": null,
            "grid_template_areas": null,
            "grid_template_columns": null,
            "grid_template_rows": null,
            "height": null,
            "justify_content": null,
            "justify_items": null,
            "left": null,
            "margin": null,
            "max_height": null,
            "max_width": null,
            "min_height": null,
            "min_width": null,
            "object_fit": null,
            "object_position": null,
            "order": null,
            "overflow": null,
            "overflow_x": null,
            "overflow_y": null,
            "padding": null,
            "right": null,
            "top": null,
            "visibility": null,
            "width": null
          }
        },
        "047f4c4265fe49aab8cc10dffa4e97af": {
          "model_module": "@jupyter-widgets/base",
          "model_name": "LayoutModel",
          "model_module_version": "1.2.0",
          "state": {
            "_model_module": "@jupyter-widgets/base",
            "_model_module_version": "1.2.0",
            "_model_name": "LayoutModel",
            "_view_count": null,
            "_view_module": "@jupyter-widgets/base",
            "_view_module_version": "1.2.0",
            "_view_name": "LayoutView",
            "align_content": null,
            "align_items": null,
            "align_self": null,
            "border": null,
            "bottom": null,
            "display": null,
            "flex": null,
            "flex_flow": null,
            "grid_area": null,
            "grid_auto_columns": null,
            "grid_auto_flow": null,
            "grid_auto_rows": null,
            "grid_column": null,
            "grid_gap": null,
            "grid_row": null,
            "grid_template_areas": null,
            "grid_template_columns": null,
            "grid_template_rows": null,
            "height": null,
            "justify_content": null,
            "justify_items": null,
            "left": null,
            "margin": null,
            "max_height": null,
            "max_width": null,
            "min_height": null,
            "min_width": null,
            "object_fit": null,
            "object_position": null,
            "order": null,
            "overflow": null,
            "overflow_x": null,
            "overflow_y": null,
            "padding": null,
            "right": null,
            "top": null,
            "visibility": null,
            "width": null
          }
        },
        "0a46b00bc4434e20b239bc95a053282b": {
          "model_module": "@jupyter-widgets/controls",
          "model_name": "DescriptionStyleModel",
          "model_module_version": "1.5.0",
          "state": {
            "_model_module": "@jupyter-widgets/controls",
            "_model_module_version": "1.5.0",
            "_model_name": "DescriptionStyleModel",
            "_view_count": null,
            "_view_module": "@jupyter-widgets/base",
            "_view_module_version": "1.2.0",
            "_view_name": "StyleView",
            "description_width": ""
          }
        },
        "082f52f219b145d0b880761827bd0c44": {
          "model_module": "@jupyter-widgets/base",
          "model_name": "LayoutModel",
          "model_module_version": "1.2.0",
          "state": {
            "_model_module": "@jupyter-widgets/base",
            "_model_module_version": "1.2.0",
            "_model_name": "LayoutModel",
            "_view_count": null,
            "_view_module": "@jupyter-widgets/base",
            "_view_module_version": "1.2.0",
            "_view_name": "LayoutView",
            "align_content": null,
            "align_items": null,
            "align_self": null,
            "border": null,
            "bottom": null,
            "display": null,
            "flex": null,
            "flex_flow": null,
            "grid_area": null,
            "grid_auto_columns": null,
            "grid_auto_flow": null,
            "grid_auto_rows": null,
            "grid_column": null,
            "grid_gap": null,
            "grid_row": null,
            "grid_template_areas": null,
            "grid_template_columns": null,
            "grid_template_rows": null,
            "height": null,
            "justify_content": null,
            "justify_items": null,
            "left": null,
            "margin": null,
            "max_height": null,
            "max_width": null,
            "min_height": null,
            "min_width": null,
            "object_fit": null,
            "object_position": null,
            "order": null,
            "overflow": null,
            "overflow_x": null,
            "overflow_y": null,
            "padding": null,
            "right": null,
            "top": null,
            "visibility": null,
            "width": null
          }
        },
        "7ea48dd3b1eb4693aadc00e5aa08e47e": {
          "model_module": "@jupyter-widgets/controls",
          "model_name": "ProgressStyleModel",
          "model_module_version": "1.5.0",
          "state": {
            "_model_module": "@jupyter-widgets/controls",
            "_model_module_version": "1.5.0",
            "_model_name": "ProgressStyleModel",
            "_view_count": null,
            "_view_module": "@jupyter-widgets/base",
            "_view_module_version": "1.2.0",
            "_view_name": "StyleView",
            "bar_color": null,
            "description_width": ""
          }
        },
        "aed9eef013394488972729ccdf66f3b4": {
          "model_module": "@jupyter-widgets/base",
          "model_name": "LayoutModel",
          "model_module_version": "1.2.0",
          "state": {
            "_model_module": "@jupyter-widgets/base",
            "_model_module_version": "1.2.0",
            "_model_name": "LayoutModel",
            "_view_count": null,
            "_view_module": "@jupyter-widgets/base",
            "_view_module_version": "1.2.0",
            "_view_name": "LayoutView",
            "align_content": null,
            "align_items": null,
            "align_self": null,
            "border": null,
            "bottom": null,
            "display": null,
            "flex": null,
            "flex_flow": null,
            "grid_area": null,
            "grid_auto_columns": null,
            "grid_auto_flow": null,
            "grid_auto_rows": null,
            "grid_column": null,
            "grid_gap": null,
            "grid_row": null,
            "grid_template_areas": null,
            "grid_template_columns": null,
            "grid_template_rows": null,
            "height": null,
            "justify_content": null,
            "justify_items": null,
            "left": null,
            "margin": null,
            "max_height": null,
            "max_width": null,
            "min_height": null,
            "min_width": null,
            "object_fit": null,
            "object_position": null,
            "order": null,
            "overflow": null,
            "overflow_x": null,
            "overflow_y": null,
            "padding": null,
            "right": null,
            "top": null,
            "visibility": null,
            "width": null
          }
        },
        "cd85c5751abd459292a798652df8c86a": {
          "model_module": "@jupyter-widgets/controls",
          "model_name": "DescriptionStyleModel",
          "model_module_version": "1.5.0",
          "state": {
            "_model_module": "@jupyter-widgets/controls",
            "_model_module_version": "1.5.0",
            "_model_name": "DescriptionStyleModel",
            "_view_count": null,
            "_view_module": "@jupyter-widgets/base",
            "_view_module_version": "1.2.0",
            "_view_name": "StyleView",
            "description_width": ""
          }
        },
        "67c38e9eccd348529d36e78ea9d2fff8": {
          "model_module": "@jupyter-widgets/controls",
          "model_name": "HBoxModel",
          "model_module_version": "1.5.0",
          "state": {
            "_dom_classes": [],
            "_model_module": "@jupyter-widgets/controls",
            "_model_module_version": "1.5.0",
            "_model_name": "HBoxModel",
            "_view_count": null,
            "_view_module": "@jupyter-widgets/controls",
            "_view_module_version": "1.5.0",
            "_view_name": "HBoxView",
            "box_style": "",
            "children": [
              "IPY_MODEL_1d8b8494f00a43179240c94bf2cd493d",
              "IPY_MODEL_73a87e5656a046099de6817bee60d449",
              "IPY_MODEL_c122f9061f2d4f3a8eff3043537a18dc"
            ],
            "layout": "IPY_MODEL_d5c6e76c810448e88d5c32b4d74bc869"
          }
        },
        "1d8b8494f00a43179240c94bf2cd493d": {
          "model_module": "@jupyter-widgets/controls",
          "model_name": "HTMLModel",
          "model_module_version": "1.5.0",
          "state": {
            "_dom_classes": [],
            "_model_module": "@jupyter-widgets/controls",
            "_model_module_version": "1.5.0",
            "_model_name": "HTMLModel",
            "_view_count": null,
            "_view_module": "@jupyter-widgets/controls",
            "_view_module_version": "1.5.0",
            "_view_name": "HTMLView",
            "description": "",
            "description_tooltip": null,
            "layout": "IPY_MODEL_f072ddd9a2f14535a00078c8f0237f12",
            "placeholder": "​",
            "style": "IPY_MODEL_f142e978d362488484079d2473a4e30e",
            "value": "tokenizer_config.json: 100%"
          }
        },
        "73a87e5656a046099de6817bee60d449": {
          "model_module": "@jupyter-widgets/controls",
          "model_name": "FloatProgressModel",
          "model_module_version": "1.5.0",
          "state": {
            "_dom_classes": [],
            "_model_module": "@jupyter-widgets/controls",
            "_model_module_version": "1.5.0",
            "_model_name": "FloatProgressModel",
            "_view_count": null,
            "_view_module": "@jupyter-widgets/controls",
            "_view_module_version": "1.5.0",
            "_view_name": "ProgressView",
            "bar_style": "success",
            "description": "",
            "description_tooltip": null,
            "layout": "IPY_MODEL_325079a1e87a4c6fba80fb71fcab3322",
            "max": 366,
            "min": 0,
            "orientation": "horizontal",
            "style": "IPY_MODEL_a4d6959b76c749f8a51e739e02fe3ca9",
            "value": 366
          }
        },
        "c122f9061f2d4f3a8eff3043537a18dc": {
          "model_module": "@jupyter-widgets/controls",
          "model_name": "HTMLModel",
          "model_module_version": "1.5.0",
          "state": {
            "_dom_classes": [],
            "_model_module": "@jupyter-widgets/controls",
            "_model_module_version": "1.5.0",
            "_model_name": "HTMLModel",
            "_view_count": null,
            "_view_module": "@jupyter-widgets/controls",
            "_view_module_version": "1.5.0",
            "_view_name": "HTMLView",
            "description": "",
            "description_tooltip": null,
            "layout": "IPY_MODEL_5566204fe7764243800e033ced31a318",
            "placeholder": "​",
            "style": "IPY_MODEL_9fc2b7875a274fbe872e3ad62f8fc879",
            "value": " 366/366 [00:00&lt;00:00, 22.9kB/s]"
          }
        },
        "d5c6e76c810448e88d5c32b4d74bc869": {
          "model_module": "@jupyter-widgets/base",
          "model_name": "LayoutModel",
          "model_module_version": "1.2.0",
          "state": {
            "_model_module": "@jupyter-widgets/base",
            "_model_module_version": "1.2.0",
            "_model_name": "LayoutModel",
            "_view_count": null,
            "_view_module": "@jupyter-widgets/base",
            "_view_module_version": "1.2.0",
            "_view_name": "LayoutView",
            "align_content": null,
            "align_items": null,
            "align_self": null,
            "border": null,
            "bottom": null,
            "display": null,
            "flex": null,
            "flex_flow": null,
            "grid_area": null,
            "grid_auto_columns": null,
            "grid_auto_flow": null,
            "grid_auto_rows": null,
            "grid_column": null,
            "grid_gap": null,
            "grid_row": null,
            "grid_template_areas": null,
            "grid_template_columns": null,
            "grid_template_rows": null,
            "height": null,
            "justify_content": null,
            "justify_items": null,
            "left": null,
            "margin": null,
            "max_height": null,
            "max_width": null,
            "min_height": null,
            "min_width": null,
            "object_fit": null,
            "object_position": null,
            "order": null,
            "overflow": null,
            "overflow_x": null,
            "overflow_y": null,
            "padding": null,
            "right": null,
            "top": null,
            "visibility": null,
            "width": null
          }
        },
        "f072ddd9a2f14535a00078c8f0237f12": {
          "model_module": "@jupyter-widgets/base",
          "model_name": "LayoutModel",
          "model_module_version": "1.2.0",
          "state": {
            "_model_module": "@jupyter-widgets/base",
            "_model_module_version": "1.2.0",
            "_model_name": "LayoutModel",
            "_view_count": null,
            "_view_module": "@jupyter-widgets/base",
            "_view_module_version": "1.2.0",
            "_view_name": "LayoutView",
            "align_content": null,
            "align_items": null,
            "align_self": null,
            "border": null,
            "bottom": null,
            "display": null,
            "flex": null,
            "flex_flow": null,
            "grid_area": null,
            "grid_auto_columns": null,
            "grid_auto_flow": null,
            "grid_auto_rows": null,
            "grid_column": null,
            "grid_gap": null,
            "grid_row": null,
            "grid_template_areas": null,
            "grid_template_columns": null,
            "grid_template_rows": null,
            "height": null,
            "justify_content": null,
            "justify_items": null,
            "left": null,
            "margin": null,
            "max_height": null,
            "max_width": null,
            "min_height": null,
            "min_width": null,
            "object_fit": null,
            "object_position": null,
            "order": null,
            "overflow": null,
            "overflow_x": null,
            "overflow_y": null,
            "padding": null,
            "right": null,
            "top": null,
            "visibility": null,
            "width": null
          }
        },
        "f142e978d362488484079d2473a4e30e": {
          "model_module": "@jupyter-widgets/controls",
          "model_name": "DescriptionStyleModel",
          "model_module_version": "1.5.0",
          "state": {
            "_model_module": "@jupyter-widgets/controls",
            "_model_module_version": "1.5.0",
            "_model_name": "DescriptionStyleModel",
            "_view_count": null,
            "_view_module": "@jupyter-widgets/base",
            "_view_module_version": "1.2.0",
            "_view_name": "StyleView",
            "description_width": ""
          }
        },
        "325079a1e87a4c6fba80fb71fcab3322": {
          "model_module": "@jupyter-widgets/base",
          "model_name": "LayoutModel",
          "model_module_version": "1.2.0",
          "state": {
            "_model_module": "@jupyter-widgets/base",
            "_model_module_version": "1.2.0",
            "_model_name": "LayoutModel",
            "_view_count": null,
            "_view_module": "@jupyter-widgets/base",
            "_view_module_version": "1.2.0",
            "_view_name": "LayoutView",
            "align_content": null,
            "align_items": null,
            "align_self": null,
            "border": null,
            "bottom": null,
            "display": null,
            "flex": null,
            "flex_flow": null,
            "grid_area": null,
            "grid_auto_columns": null,
            "grid_auto_flow": null,
            "grid_auto_rows": null,
            "grid_column": null,
            "grid_gap": null,
            "grid_row": null,
            "grid_template_areas": null,
            "grid_template_columns": null,
            "grid_template_rows": null,
            "height": null,
            "justify_content": null,
            "justify_items": null,
            "left": null,
            "margin": null,
            "max_height": null,
            "max_width": null,
            "min_height": null,
            "min_width": null,
            "object_fit": null,
            "object_position": null,
            "order": null,
            "overflow": null,
            "overflow_x": null,
            "overflow_y": null,
            "padding": null,
            "right": null,
            "top": null,
            "visibility": null,
            "width": null
          }
        },
        "a4d6959b76c749f8a51e739e02fe3ca9": {
          "model_module": "@jupyter-widgets/controls",
          "model_name": "ProgressStyleModel",
          "model_module_version": "1.5.0",
          "state": {
            "_model_module": "@jupyter-widgets/controls",
            "_model_module_version": "1.5.0",
            "_model_name": "ProgressStyleModel",
            "_view_count": null,
            "_view_module": "@jupyter-widgets/base",
            "_view_module_version": "1.2.0",
            "_view_name": "StyleView",
            "bar_color": null,
            "description_width": ""
          }
        },
        "5566204fe7764243800e033ced31a318": {
          "model_module": "@jupyter-widgets/base",
          "model_name": "LayoutModel",
          "model_module_version": "1.2.0",
          "state": {
            "_model_module": "@jupyter-widgets/base",
            "_model_module_version": "1.2.0",
            "_model_name": "LayoutModel",
            "_view_count": null,
            "_view_module": "@jupyter-widgets/base",
            "_view_module_version": "1.2.0",
            "_view_name": "LayoutView",
            "align_content": null,
            "align_items": null,
            "align_self": null,
            "border": null,
            "bottom": null,
            "display": null,
            "flex": null,
            "flex_flow": null,
            "grid_area": null,
            "grid_auto_columns": null,
            "grid_auto_flow": null,
            "grid_auto_rows": null,
            "grid_column": null,
            "grid_gap": null,
            "grid_row": null,
            "grid_template_areas": null,
            "grid_template_columns": null,
            "grid_template_rows": null,
            "height": null,
            "justify_content": null,
            "justify_items": null,
            "left": null,
            "margin": null,
            "max_height": null,
            "max_width": null,
            "min_height": null,
            "min_width": null,
            "object_fit": null,
            "object_position": null,
            "order": null,
            "overflow": null,
            "overflow_x": null,
            "overflow_y": null,
            "padding": null,
            "right": null,
            "top": null,
            "visibility": null,
            "width": null
          }
        },
        "9fc2b7875a274fbe872e3ad62f8fc879": {
          "model_module": "@jupyter-widgets/controls",
          "model_name": "DescriptionStyleModel",
          "model_module_version": "1.5.0",
          "state": {
            "_model_module": "@jupyter-widgets/controls",
            "_model_module_version": "1.5.0",
            "_model_name": "DescriptionStyleModel",
            "_view_count": null,
            "_view_module": "@jupyter-widgets/base",
            "_view_module_version": "1.2.0",
            "_view_name": "StyleView",
            "description_width": ""
          }
        },
        "83bad7579dc14c3ba88ca8a7d18e49d4": {
          "model_module": "@jupyter-widgets/controls",
          "model_name": "HBoxModel",
          "model_module_version": "1.5.0",
          "state": {
            "_dom_classes": [],
            "_model_module": "@jupyter-widgets/controls",
            "_model_module_version": "1.5.0",
            "_model_name": "HBoxModel",
            "_view_count": null,
            "_view_module": "@jupyter-widgets/controls",
            "_view_module_version": "1.5.0",
            "_view_name": "HBoxView",
            "box_style": "",
            "children": [
              "IPY_MODEL_f84cf2acc594439996ad5ec1e6e018e6",
              "IPY_MODEL_4d153406b89d483991dd025f88930e24",
              "IPY_MODEL_5b54fd5dcb2d46c78154f83071f25c35"
            ],
            "layout": "IPY_MODEL_cdb9c90435de48dd862e36517c4f0b42"
          }
        },
        "f84cf2acc594439996ad5ec1e6e018e6": {
          "model_module": "@jupyter-widgets/controls",
          "model_name": "HTMLModel",
          "model_module_version": "1.5.0",
          "state": {
            "_dom_classes": [],
            "_model_module": "@jupyter-widgets/controls",
            "_model_module_version": "1.5.0",
            "_model_name": "HTMLModel",
            "_view_count": null,
            "_view_module": "@jupyter-widgets/controls",
            "_view_module_version": "1.5.0",
            "_view_name": "HTMLView",
            "description": "",
            "description_tooltip": null,
            "layout": "IPY_MODEL_99c30a42f1fb432d98c92e34d7c91864",
            "placeholder": "​",
            "style": "IPY_MODEL_5007dcf176f54a68894893cadf5774cf",
            "value": "vocab.txt: 100%"
          }
        },
        "4d153406b89d483991dd025f88930e24": {
          "model_module": "@jupyter-widgets/controls",
          "model_name": "FloatProgressModel",
          "model_module_version": "1.5.0",
          "state": {
            "_dom_classes": [],
            "_model_module": "@jupyter-widgets/controls",
            "_model_module_version": "1.5.0",
            "_model_name": "FloatProgressModel",
            "_view_count": null,
            "_view_module": "@jupyter-widgets/controls",
            "_view_module_version": "1.5.0",
            "_view_name": "ProgressView",
            "bar_style": "success",
            "description": "",
            "description_tooltip": null,
            "layout": "IPY_MODEL_21adc8f8641f4f6e976e42a8035bcbc8",
            "max": 231508,
            "min": 0,
            "orientation": "horizontal",
            "style": "IPY_MODEL_6aba054cd983420591c0e2e76d601f85",
            "value": 231508
          }
        },
        "5b54fd5dcb2d46c78154f83071f25c35": {
          "model_module": "@jupyter-widgets/controls",
          "model_name": "HTMLModel",
          "model_module_version": "1.5.0",
          "state": {
            "_dom_classes": [],
            "_model_module": "@jupyter-widgets/controls",
            "_model_module_version": "1.5.0",
            "_model_name": "HTMLModel",
            "_view_count": null,
            "_view_module": "@jupyter-widgets/controls",
            "_view_module_version": "1.5.0",
            "_view_name": "HTMLView",
            "description": "",
            "description_tooltip": null,
            "layout": "IPY_MODEL_b575763c0eae48cd828c10be16b44bf7",
            "placeholder": "​",
            "style": "IPY_MODEL_93d60980f3494cc2845acc6324104695",
            "value": " 232k/232k [00:00&lt;00:00, 7.82MB/s]"
          }
        },
        "cdb9c90435de48dd862e36517c4f0b42": {
          "model_module": "@jupyter-widgets/base",
          "model_name": "LayoutModel",
          "model_module_version": "1.2.0",
          "state": {
            "_model_module": "@jupyter-widgets/base",
            "_model_module_version": "1.2.0",
            "_model_name": "LayoutModel",
            "_view_count": null,
            "_view_module": "@jupyter-widgets/base",
            "_view_module_version": "1.2.0",
            "_view_name": "LayoutView",
            "align_content": null,
            "align_items": null,
            "align_self": null,
            "border": null,
            "bottom": null,
            "display": null,
            "flex": null,
            "flex_flow": null,
            "grid_area": null,
            "grid_auto_columns": null,
            "grid_auto_flow": null,
            "grid_auto_rows": null,
            "grid_column": null,
            "grid_gap": null,
            "grid_row": null,
            "grid_template_areas": null,
            "grid_template_columns": null,
            "grid_template_rows": null,
            "height": null,
            "justify_content": null,
            "justify_items": null,
            "left": null,
            "margin": null,
            "max_height": null,
            "max_width": null,
            "min_height": null,
            "min_width": null,
            "object_fit": null,
            "object_position": null,
            "order": null,
            "overflow": null,
            "overflow_x": null,
            "overflow_y": null,
            "padding": null,
            "right": null,
            "top": null,
            "visibility": null,
            "width": null
          }
        },
        "99c30a42f1fb432d98c92e34d7c91864": {
          "model_module": "@jupyter-widgets/base",
          "model_name": "LayoutModel",
          "model_module_version": "1.2.0",
          "state": {
            "_model_module": "@jupyter-widgets/base",
            "_model_module_version": "1.2.0",
            "_model_name": "LayoutModel",
            "_view_count": null,
            "_view_module": "@jupyter-widgets/base",
            "_view_module_version": "1.2.0",
            "_view_name": "LayoutView",
            "align_content": null,
            "align_items": null,
            "align_self": null,
            "border": null,
            "bottom": null,
            "display": null,
            "flex": null,
            "flex_flow": null,
            "grid_area": null,
            "grid_auto_columns": null,
            "grid_auto_flow": null,
            "grid_auto_rows": null,
            "grid_column": null,
            "grid_gap": null,
            "grid_row": null,
            "grid_template_areas": null,
            "grid_template_columns": null,
            "grid_template_rows": null,
            "height": null,
            "justify_content": null,
            "justify_items": null,
            "left": null,
            "margin": null,
            "max_height": null,
            "max_width": null,
            "min_height": null,
            "min_width": null,
            "object_fit": null,
            "object_position": null,
            "order": null,
            "overflow": null,
            "overflow_x": null,
            "overflow_y": null,
            "padding": null,
            "right": null,
            "top": null,
            "visibility": null,
            "width": null
          }
        },
        "5007dcf176f54a68894893cadf5774cf": {
          "model_module": "@jupyter-widgets/controls",
          "model_name": "DescriptionStyleModel",
          "model_module_version": "1.5.0",
          "state": {
            "_model_module": "@jupyter-widgets/controls",
            "_model_module_version": "1.5.0",
            "_model_name": "DescriptionStyleModel",
            "_view_count": null,
            "_view_module": "@jupyter-widgets/base",
            "_view_module_version": "1.2.0",
            "_view_name": "StyleView",
            "description_width": ""
          }
        },
        "21adc8f8641f4f6e976e42a8035bcbc8": {
          "model_module": "@jupyter-widgets/base",
          "model_name": "LayoutModel",
          "model_module_version": "1.2.0",
          "state": {
            "_model_module": "@jupyter-widgets/base",
            "_model_module_version": "1.2.0",
            "_model_name": "LayoutModel",
            "_view_count": null,
            "_view_module": "@jupyter-widgets/base",
            "_view_module_version": "1.2.0",
            "_view_name": "LayoutView",
            "align_content": null,
            "align_items": null,
            "align_self": null,
            "border": null,
            "bottom": null,
            "display": null,
            "flex": null,
            "flex_flow": null,
            "grid_area": null,
            "grid_auto_columns": null,
            "grid_auto_flow": null,
            "grid_auto_rows": null,
            "grid_column": null,
            "grid_gap": null,
            "grid_row": null,
            "grid_template_areas": null,
            "grid_template_columns": null,
            "grid_template_rows": null,
            "height": null,
            "justify_content": null,
            "justify_items": null,
            "left": null,
            "margin": null,
            "max_height": null,
            "max_width": null,
            "min_height": null,
            "min_width": null,
            "object_fit": null,
            "object_position": null,
            "order": null,
            "overflow": null,
            "overflow_x": null,
            "overflow_y": null,
            "padding": null,
            "right": null,
            "top": null,
            "visibility": null,
            "width": null
          }
        },
        "6aba054cd983420591c0e2e76d601f85": {
          "model_module": "@jupyter-widgets/controls",
          "model_name": "ProgressStyleModel",
          "model_module_version": "1.5.0",
          "state": {
            "_model_module": "@jupyter-widgets/controls",
            "_model_module_version": "1.5.0",
            "_model_name": "ProgressStyleModel",
            "_view_count": null,
            "_view_module": "@jupyter-widgets/base",
            "_view_module_version": "1.2.0",
            "_view_name": "StyleView",
            "bar_color": null,
            "description_width": ""
          }
        },
        "b575763c0eae48cd828c10be16b44bf7": {
          "model_module": "@jupyter-widgets/base",
          "model_name": "LayoutModel",
          "model_module_version": "1.2.0",
          "state": {
            "_model_module": "@jupyter-widgets/base",
            "_model_module_version": "1.2.0",
            "_model_name": "LayoutModel",
            "_view_count": null,
            "_view_module": "@jupyter-widgets/base",
            "_view_module_version": "1.2.0",
            "_view_name": "LayoutView",
            "align_content": null,
            "align_items": null,
            "align_self": null,
            "border": null,
            "bottom": null,
            "display": null,
            "flex": null,
            "flex_flow": null,
            "grid_area": null,
            "grid_auto_columns": null,
            "grid_auto_flow": null,
            "grid_auto_rows": null,
            "grid_column": null,
            "grid_gap": null,
            "grid_row": null,
            "grid_template_areas": null,
            "grid_template_columns": null,
            "grid_template_rows": null,
            "height": null,
            "justify_content": null,
            "justify_items": null,
            "left": null,
            "margin": null,
            "max_height": null,
            "max_width": null,
            "min_height": null,
            "min_width": null,
            "object_fit": null,
            "object_position": null,
            "order": null,
            "overflow": null,
            "overflow_x": null,
            "overflow_y": null,
            "padding": null,
            "right": null,
            "top": null,
            "visibility": null,
            "width": null
          }
        },
        "93d60980f3494cc2845acc6324104695": {
          "model_module": "@jupyter-widgets/controls",
          "model_name": "DescriptionStyleModel",
          "model_module_version": "1.5.0",
          "state": {
            "_model_module": "@jupyter-widgets/controls",
            "_model_module_version": "1.5.0",
            "_model_name": "DescriptionStyleModel",
            "_view_count": null,
            "_view_module": "@jupyter-widgets/base",
            "_view_module_version": "1.2.0",
            "_view_name": "StyleView",
            "description_width": ""
          }
        },
        "424045b4a8c04d20aa690508f4260c74": {
          "model_module": "@jupyter-widgets/controls",
          "model_name": "HBoxModel",
          "model_module_version": "1.5.0",
          "state": {
            "_dom_classes": [],
            "_model_module": "@jupyter-widgets/controls",
            "_model_module_version": "1.5.0",
            "_model_name": "HBoxModel",
            "_view_count": null,
            "_view_module": "@jupyter-widgets/controls",
            "_view_module_version": "1.5.0",
            "_view_name": "HBoxView",
            "box_style": "",
            "children": [
              "IPY_MODEL_450838f5b526442f8212c25ebc719549",
              "IPY_MODEL_3c8f11a7a89a4cef8856a6ecbd246d93",
              "IPY_MODEL_06dbc9a9dc7c4f74b94338452e46f5bd"
            ],
            "layout": "IPY_MODEL_837b9e7080144a1792741311a016dabe"
          }
        },
        "450838f5b526442f8212c25ebc719549": {
          "model_module": "@jupyter-widgets/controls",
          "model_name": "HTMLModel",
          "model_module_version": "1.5.0",
          "state": {
            "_dom_classes": [],
            "_model_module": "@jupyter-widgets/controls",
            "_model_module_version": "1.5.0",
            "_model_name": "HTMLModel",
            "_view_count": null,
            "_view_module": "@jupyter-widgets/controls",
            "_view_module_version": "1.5.0",
            "_view_name": "HTMLView",
            "description": "",
            "description_tooltip": null,
            "layout": "IPY_MODEL_02c4ea025bb94e0db65278a4a6128484",
            "placeholder": "​",
            "style": "IPY_MODEL_01f76462da914142a98e5a7913d9a8d9",
            "value": "tokenizer.json: 100%"
          }
        },
        "3c8f11a7a89a4cef8856a6ecbd246d93": {
          "model_module": "@jupyter-widgets/controls",
          "model_name": "FloatProgressModel",
          "model_module_version": "1.5.0",
          "state": {
            "_dom_classes": [],
            "_model_module": "@jupyter-widgets/controls",
            "_model_module_version": "1.5.0",
            "_model_name": "FloatProgressModel",
            "_view_count": null,
            "_view_module": "@jupyter-widgets/controls",
            "_view_module_version": "1.5.0",
            "_view_name": "ProgressView",
            "bar_style": "success",
            "description": "",
            "description_tooltip": null,
            "layout": "IPY_MODEL_fec7b0605c7c486fa8c42173b625cef5",
            "max": 711396,
            "min": 0,
            "orientation": "horizontal",
            "style": "IPY_MODEL_345e6bbec54444edae0daad6ea4f3495",
            "value": 711396
          }
        },
        "06dbc9a9dc7c4f74b94338452e46f5bd": {
          "model_module": "@jupyter-widgets/controls",
          "model_name": "HTMLModel",
          "model_module_version": "1.5.0",
          "state": {
            "_dom_classes": [],
            "_model_module": "@jupyter-widgets/controls",
            "_model_module_version": "1.5.0",
            "_model_name": "HTMLModel",
            "_view_count": null,
            "_view_module": "@jupyter-widgets/controls",
            "_view_module_version": "1.5.0",
            "_view_name": "HTMLView",
            "description": "",
            "description_tooltip": null,
            "layout": "IPY_MODEL_db4250d7f43341b594272dbc71f55f2b",
            "placeholder": "​",
            "style": "IPY_MODEL_b8ec43be66a6415d986aa2101cc3cae8",
            "value": " 711k/711k [00:00&lt;00:00, 29.4MB/s]"
          }
        },
        "837b9e7080144a1792741311a016dabe": {
          "model_module": "@jupyter-widgets/base",
          "model_name": "LayoutModel",
          "model_module_version": "1.2.0",
          "state": {
            "_model_module": "@jupyter-widgets/base",
            "_model_module_version": "1.2.0",
            "_model_name": "LayoutModel",
            "_view_count": null,
            "_view_module": "@jupyter-widgets/base",
            "_view_module_version": "1.2.0",
            "_view_name": "LayoutView",
            "align_content": null,
            "align_items": null,
            "align_self": null,
            "border": null,
            "bottom": null,
            "display": null,
            "flex": null,
            "flex_flow": null,
            "grid_area": null,
            "grid_auto_columns": null,
            "grid_auto_flow": null,
            "grid_auto_rows": null,
            "grid_column": null,
            "grid_gap": null,
            "grid_row": null,
            "grid_template_areas": null,
            "grid_template_columns": null,
            "grid_template_rows": null,
            "height": null,
            "justify_content": null,
            "justify_items": null,
            "left": null,
            "margin": null,
            "max_height": null,
            "max_width": null,
            "min_height": null,
            "min_width": null,
            "object_fit": null,
            "object_position": null,
            "order": null,
            "overflow": null,
            "overflow_x": null,
            "overflow_y": null,
            "padding": null,
            "right": null,
            "top": null,
            "visibility": null,
            "width": null
          }
        },
        "02c4ea025bb94e0db65278a4a6128484": {
          "model_module": "@jupyter-widgets/base",
          "model_name": "LayoutModel",
          "model_module_version": "1.2.0",
          "state": {
            "_model_module": "@jupyter-widgets/base",
            "_model_module_version": "1.2.0",
            "_model_name": "LayoutModel",
            "_view_count": null,
            "_view_module": "@jupyter-widgets/base",
            "_view_module_version": "1.2.0",
            "_view_name": "LayoutView",
            "align_content": null,
            "align_items": null,
            "align_self": null,
            "border": null,
            "bottom": null,
            "display": null,
            "flex": null,
            "flex_flow": null,
            "grid_area": null,
            "grid_auto_columns": null,
            "grid_auto_flow": null,
            "grid_auto_rows": null,
            "grid_column": null,
            "grid_gap": null,
            "grid_row": null,
            "grid_template_areas": null,
            "grid_template_columns": null,
            "grid_template_rows": null,
            "height": null,
            "justify_content": null,
            "justify_items": null,
            "left": null,
            "margin": null,
            "max_height": null,
            "max_width": null,
            "min_height": null,
            "min_width": null,
            "object_fit": null,
            "object_position": null,
            "order": null,
            "overflow": null,
            "overflow_x": null,
            "overflow_y": null,
            "padding": null,
            "right": null,
            "top": null,
            "visibility": null,
            "width": null
          }
        },
        "01f76462da914142a98e5a7913d9a8d9": {
          "model_module": "@jupyter-widgets/controls",
          "model_name": "DescriptionStyleModel",
          "model_module_version": "1.5.0",
          "state": {
            "_model_module": "@jupyter-widgets/controls",
            "_model_module_version": "1.5.0",
            "_model_name": "DescriptionStyleModel",
            "_view_count": null,
            "_view_module": "@jupyter-widgets/base",
            "_view_module_version": "1.2.0",
            "_view_name": "StyleView",
            "description_width": ""
          }
        },
        "fec7b0605c7c486fa8c42173b625cef5": {
          "model_module": "@jupyter-widgets/base",
          "model_name": "LayoutModel",
          "model_module_version": "1.2.0",
          "state": {
            "_model_module": "@jupyter-widgets/base",
            "_model_module_version": "1.2.0",
            "_model_name": "LayoutModel",
            "_view_count": null,
            "_view_module": "@jupyter-widgets/base",
            "_view_module_version": "1.2.0",
            "_view_name": "LayoutView",
            "align_content": null,
            "align_items": null,
            "align_self": null,
            "border": null,
            "bottom": null,
            "display": null,
            "flex": null,
            "flex_flow": null,
            "grid_area": null,
            "grid_auto_columns": null,
            "grid_auto_flow": null,
            "grid_auto_rows": null,
            "grid_column": null,
            "grid_gap": null,
            "grid_row": null,
            "grid_template_areas": null,
            "grid_template_columns": null,
            "grid_template_rows": null,
            "height": null,
            "justify_content": null,
            "justify_items": null,
            "left": null,
            "margin": null,
            "max_height": null,
            "max_width": null,
            "min_height": null,
            "min_width": null,
            "object_fit": null,
            "object_position": null,
            "order": null,
            "overflow": null,
            "overflow_x": null,
            "overflow_y": null,
            "padding": null,
            "right": null,
            "top": null,
            "visibility": null,
            "width": null
          }
        },
        "345e6bbec54444edae0daad6ea4f3495": {
          "model_module": "@jupyter-widgets/controls",
          "model_name": "ProgressStyleModel",
          "model_module_version": "1.5.0",
          "state": {
            "_model_module": "@jupyter-widgets/controls",
            "_model_module_version": "1.5.0",
            "_model_name": "ProgressStyleModel",
            "_view_count": null,
            "_view_module": "@jupyter-widgets/base",
            "_view_module_version": "1.2.0",
            "_view_name": "StyleView",
            "bar_color": null,
            "description_width": ""
          }
        },
        "db4250d7f43341b594272dbc71f55f2b": {
          "model_module": "@jupyter-widgets/base",
          "model_name": "LayoutModel",
          "model_module_version": "1.2.0",
          "state": {
            "_model_module": "@jupyter-widgets/base",
            "_model_module_version": "1.2.0",
            "_model_name": "LayoutModel",
            "_view_count": null,
            "_view_module": "@jupyter-widgets/base",
            "_view_module_version": "1.2.0",
            "_view_name": "LayoutView",
            "align_content": null,
            "align_items": null,
            "align_self": null,
            "border": null,
            "bottom": null,
            "display": null,
            "flex": null,
            "flex_flow": null,
            "grid_area": null,
            "grid_auto_columns": null,
            "grid_auto_flow": null,
            "grid_auto_rows": null,
            "grid_column": null,
            "grid_gap": null,
            "grid_row": null,
            "grid_template_areas": null,
            "grid_template_columns": null,
            "grid_template_rows": null,
            "height": null,
            "justify_content": null,
            "justify_items": null,
            "left": null,
            "margin": null,
            "max_height": null,
            "max_width": null,
            "min_height": null,
            "min_width": null,
            "object_fit": null,
            "object_position": null,
            "order": null,
            "overflow": null,
            "overflow_x": null,
            "overflow_y": null,
            "padding": null,
            "right": null,
            "top": null,
            "visibility": null,
            "width": null
          }
        },
        "b8ec43be66a6415d986aa2101cc3cae8": {
          "model_module": "@jupyter-widgets/controls",
          "model_name": "DescriptionStyleModel",
          "model_module_version": "1.5.0",
          "state": {
            "_model_module": "@jupyter-widgets/controls",
            "_model_module_version": "1.5.0",
            "_model_name": "DescriptionStyleModel",
            "_view_count": null,
            "_view_module": "@jupyter-widgets/base",
            "_view_module_version": "1.2.0",
            "_view_name": "StyleView",
            "description_width": ""
          }
        },
        "f8e9afb9bb61403bb4fded14ce628282": {
          "model_module": "@jupyter-widgets/controls",
          "model_name": "HBoxModel",
          "model_module_version": "1.5.0",
          "state": {
            "_dom_classes": [],
            "_model_module": "@jupyter-widgets/controls",
            "_model_module_version": "1.5.0",
            "_model_name": "HBoxModel",
            "_view_count": null,
            "_view_module": "@jupyter-widgets/controls",
            "_view_module_version": "1.5.0",
            "_view_name": "HBoxView",
            "box_style": "",
            "children": [
              "IPY_MODEL_240288af9bce4284b8d13a2c51a10b32",
              "IPY_MODEL_b86ea3db17bc4e80af347098bcdde3aa",
              "IPY_MODEL_c36728de383946268743e0f07fb310e1"
            ],
            "layout": "IPY_MODEL_150111aec31b4368864a3394a202e72d"
          }
        },
        "240288af9bce4284b8d13a2c51a10b32": {
          "model_module": "@jupyter-widgets/controls",
          "model_name": "HTMLModel",
          "model_module_version": "1.5.0",
          "state": {
            "_dom_classes": [],
            "_model_module": "@jupyter-widgets/controls",
            "_model_module_version": "1.5.0",
            "_model_name": "HTMLModel",
            "_view_count": null,
            "_view_module": "@jupyter-widgets/controls",
            "_view_module_version": "1.5.0",
            "_view_name": "HTMLView",
            "description": "",
            "description_tooltip": null,
            "layout": "IPY_MODEL_ad0e4ead1fd94e3e8376740d2a575307",
            "placeholder": "​",
            "style": "IPY_MODEL_db28e59bf91446728fe8b527698d6cc1",
            "value": "special_tokens_map.json: 100%"
          }
        },
        "b86ea3db17bc4e80af347098bcdde3aa": {
          "model_module": "@jupyter-widgets/controls",
          "model_name": "FloatProgressModel",
          "model_module_version": "1.5.0",
          "state": {
            "_dom_classes": [],
            "_model_module": "@jupyter-widgets/controls",
            "_model_module_version": "1.5.0",
            "_model_name": "FloatProgressModel",
            "_view_count": null,
            "_view_module": "@jupyter-widgets/controls",
            "_view_module_version": "1.5.0",
            "_view_name": "ProgressView",
            "bar_style": "success",
            "description": "",
            "description_tooltip": null,
            "layout": "IPY_MODEL_3a37b55c91ba4a8ba6bcbb2b4c0400bd",
            "max": 125,
            "min": 0,
            "orientation": "horizontal",
            "style": "IPY_MODEL_1aeb4174c760457599224b6e1f356569",
            "value": 125
          }
        },
        "c36728de383946268743e0f07fb310e1": {
          "model_module": "@jupyter-widgets/controls",
          "model_name": "HTMLModel",
          "model_module_version": "1.5.0",
          "state": {
            "_dom_classes": [],
            "_model_module": "@jupyter-widgets/controls",
            "_model_module_version": "1.5.0",
            "_model_name": "HTMLModel",
            "_view_count": null,
            "_view_module": "@jupyter-widgets/controls",
            "_view_module_version": "1.5.0",
            "_view_name": "HTMLView",
            "description": "",
            "description_tooltip": null,
            "layout": "IPY_MODEL_96018f4de7d04cf9b9307a91a86c15e5",
            "placeholder": "​",
            "style": "IPY_MODEL_ef8693ebf71940589ea17d6c7ddbe8bc",
            "value": " 125/125 [00:00&lt;00:00, 9.17kB/s]"
          }
        },
        "150111aec31b4368864a3394a202e72d": {
          "model_module": "@jupyter-widgets/base",
          "model_name": "LayoutModel",
          "model_module_version": "1.2.0",
          "state": {
            "_model_module": "@jupyter-widgets/base",
            "_model_module_version": "1.2.0",
            "_model_name": "LayoutModel",
            "_view_count": null,
            "_view_module": "@jupyter-widgets/base",
            "_view_module_version": "1.2.0",
            "_view_name": "LayoutView",
            "align_content": null,
            "align_items": null,
            "align_self": null,
            "border": null,
            "bottom": null,
            "display": null,
            "flex": null,
            "flex_flow": null,
            "grid_area": null,
            "grid_auto_columns": null,
            "grid_auto_flow": null,
            "grid_auto_rows": null,
            "grid_column": null,
            "grid_gap": null,
            "grid_row": null,
            "grid_template_areas": null,
            "grid_template_columns": null,
            "grid_template_rows": null,
            "height": null,
            "justify_content": null,
            "justify_items": null,
            "left": null,
            "margin": null,
            "max_height": null,
            "max_width": null,
            "min_height": null,
            "min_width": null,
            "object_fit": null,
            "object_position": null,
            "order": null,
            "overflow": null,
            "overflow_x": null,
            "overflow_y": null,
            "padding": null,
            "right": null,
            "top": null,
            "visibility": null,
            "width": null
          }
        },
        "ad0e4ead1fd94e3e8376740d2a575307": {
          "model_module": "@jupyter-widgets/base",
          "model_name": "LayoutModel",
          "model_module_version": "1.2.0",
          "state": {
            "_model_module": "@jupyter-widgets/base",
            "_model_module_version": "1.2.0",
            "_model_name": "LayoutModel",
            "_view_count": null,
            "_view_module": "@jupyter-widgets/base",
            "_view_module_version": "1.2.0",
            "_view_name": "LayoutView",
            "align_content": null,
            "align_items": null,
            "align_self": null,
            "border": null,
            "bottom": null,
            "display": null,
            "flex": null,
            "flex_flow": null,
            "grid_area": null,
            "grid_auto_columns": null,
            "grid_auto_flow": null,
            "grid_auto_rows": null,
            "grid_column": null,
            "grid_gap": null,
            "grid_row": null,
            "grid_template_areas": null,
            "grid_template_columns": null,
            "grid_template_rows": null,
            "height": null,
            "justify_content": null,
            "justify_items": null,
            "left": null,
            "margin": null,
            "max_height": null,
            "max_width": null,
            "min_height": null,
            "min_width": null,
            "object_fit": null,
            "object_position": null,
            "order": null,
            "overflow": null,
            "overflow_x": null,
            "overflow_y": null,
            "padding": null,
            "right": null,
            "top": null,
            "visibility": null,
            "width": null
          }
        },
        "db28e59bf91446728fe8b527698d6cc1": {
          "model_module": "@jupyter-widgets/controls",
          "model_name": "DescriptionStyleModel",
          "model_module_version": "1.5.0",
          "state": {
            "_model_module": "@jupyter-widgets/controls",
            "_model_module_version": "1.5.0",
            "_model_name": "DescriptionStyleModel",
            "_view_count": null,
            "_view_module": "@jupyter-widgets/base",
            "_view_module_version": "1.2.0",
            "_view_name": "StyleView",
            "description_width": ""
          }
        },
        "3a37b55c91ba4a8ba6bcbb2b4c0400bd": {
          "model_module": "@jupyter-widgets/base",
          "model_name": "LayoutModel",
          "model_module_version": "1.2.0",
          "state": {
            "_model_module": "@jupyter-widgets/base",
            "_model_module_version": "1.2.0",
            "_model_name": "LayoutModel",
            "_view_count": null,
            "_view_module": "@jupyter-widgets/base",
            "_view_module_version": "1.2.0",
            "_view_name": "LayoutView",
            "align_content": null,
            "align_items": null,
            "align_self": null,
            "border": null,
            "bottom": null,
            "display": null,
            "flex": null,
            "flex_flow": null,
            "grid_area": null,
            "grid_auto_columns": null,
            "grid_auto_flow": null,
            "grid_auto_rows": null,
            "grid_column": null,
            "grid_gap": null,
            "grid_row": null,
            "grid_template_areas": null,
            "grid_template_columns": null,
            "grid_template_rows": null,
            "height": null,
            "justify_content": null,
            "justify_items": null,
            "left": null,
            "margin": null,
            "max_height": null,
            "max_width": null,
            "min_height": null,
            "min_width": null,
            "object_fit": null,
            "object_position": null,
            "order": null,
            "overflow": null,
            "overflow_x": null,
            "overflow_y": null,
            "padding": null,
            "right": null,
            "top": null,
            "visibility": null,
            "width": null
          }
        },
        "1aeb4174c760457599224b6e1f356569": {
          "model_module": "@jupyter-widgets/controls",
          "model_name": "ProgressStyleModel",
          "model_module_version": "1.5.0",
          "state": {
            "_model_module": "@jupyter-widgets/controls",
            "_model_module_version": "1.5.0",
            "_model_name": "ProgressStyleModel",
            "_view_count": null,
            "_view_module": "@jupyter-widgets/base",
            "_view_module_version": "1.2.0",
            "_view_name": "StyleView",
            "bar_color": null,
            "description_width": ""
          }
        },
        "96018f4de7d04cf9b9307a91a86c15e5": {
          "model_module": "@jupyter-widgets/base",
          "model_name": "LayoutModel",
          "model_module_version": "1.2.0",
          "state": {
            "_model_module": "@jupyter-widgets/base",
            "_model_module_version": "1.2.0",
            "_model_name": "LayoutModel",
            "_view_count": null,
            "_view_module": "@jupyter-widgets/base",
            "_view_module_version": "1.2.0",
            "_view_name": "LayoutView",
            "align_content": null,
            "align_items": null,
            "align_self": null,
            "border": null,
            "bottom": null,
            "display": null,
            "flex": null,
            "flex_flow": null,
            "grid_area": null,
            "grid_auto_columns": null,
            "grid_auto_flow": null,
            "grid_auto_rows": null,
            "grid_column": null,
            "grid_gap": null,
            "grid_row": null,
            "grid_template_areas": null,
            "grid_template_columns": null,
            "grid_template_rows": null,
            "height": null,
            "justify_content": null,
            "justify_items": null,
            "left": null,
            "margin": null,
            "max_height": null,
            "max_width": null,
            "min_height": null,
            "min_width": null,
            "object_fit": null,
            "object_position": null,
            "order": null,
            "overflow": null,
            "overflow_x": null,
            "overflow_y": null,
            "padding": null,
            "right": null,
            "top": null,
            "visibility": null,
            "width": null
          }
        },
        "ef8693ebf71940589ea17d6c7ddbe8bc": {
          "model_module": "@jupyter-widgets/controls",
          "model_name": "DescriptionStyleModel",
          "model_module_version": "1.5.0",
          "state": {
            "_model_module": "@jupyter-widgets/controls",
            "_model_module_version": "1.5.0",
            "_model_name": "DescriptionStyleModel",
            "_view_count": null,
            "_view_module": "@jupyter-widgets/base",
            "_view_module_version": "1.2.0",
            "_view_name": "StyleView",
            "description_width": ""
          }
        },
        "5ca075151c2b427ebd663fae3aea94e4": {
          "model_module": "@jupyter-widgets/controls",
          "model_name": "HBoxModel",
          "model_module_version": "1.5.0",
          "state": {
            "_dom_classes": [],
            "_model_module": "@jupyter-widgets/controls",
            "_model_module_version": "1.5.0",
            "_model_name": "HBoxModel",
            "_view_count": null,
            "_view_module": "@jupyter-widgets/controls",
            "_view_module_version": "1.5.0",
            "_view_name": "HBoxView",
            "box_style": "",
            "children": [
              "IPY_MODEL_8c42e74ad10e447caf8c186b80675231",
              "IPY_MODEL_b6ef6533fa464d628515a0d0bbe1b0d1",
              "IPY_MODEL_81e5f1987b184de9b50a26bd88594f69"
            ],
            "layout": "IPY_MODEL_414795a4ff294b1997a1e2e5f1f9b5ef"
          }
        },
        "8c42e74ad10e447caf8c186b80675231": {
          "model_module": "@jupyter-widgets/controls",
          "model_name": "HTMLModel",
          "model_module_version": "1.5.0",
          "state": {
            "_dom_classes": [],
            "_model_module": "@jupyter-widgets/controls",
            "_model_module_version": "1.5.0",
            "_model_name": "HTMLModel",
            "_view_count": null,
            "_view_module": "@jupyter-widgets/controls",
            "_view_module_version": "1.5.0",
            "_view_name": "HTMLView",
            "description": "",
            "description_tooltip": null,
            "layout": "IPY_MODEL_e130b8fad4ec4d01a408b62806fdd086",
            "placeholder": "​",
            "style": "IPY_MODEL_4995d28f338943a58b54fe09be6858bd",
            "value": "1_Pooling/config.json: 100%"
          }
        },
        "b6ef6533fa464d628515a0d0bbe1b0d1": {
          "model_module": "@jupyter-widgets/controls",
          "model_name": "FloatProgressModel",
          "model_module_version": "1.5.0",
          "state": {
            "_dom_classes": [],
            "_model_module": "@jupyter-widgets/controls",
            "_model_module_version": "1.5.0",
            "_model_name": "FloatProgressModel",
            "_view_count": null,
            "_view_module": "@jupyter-widgets/controls",
            "_view_module_version": "1.5.0",
            "_view_name": "ProgressView",
            "bar_style": "success",
            "description": "",
            "description_tooltip": null,
            "layout": "IPY_MODEL_ef8dd84ac7ec45e9a82aaeeeb409ffe4",
            "max": 190,
            "min": 0,
            "orientation": "horizontal",
            "style": "IPY_MODEL_6941504646d346fba8f3c6ecef95fce6",
            "value": 190
          }
        },
        "81e5f1987b184de9b50a26bd88594f69": {
          "model_module": "@jupyter-widgets/controls",
          "model_name": "HTMLModel",
          "model_module_version": "1.5.0",
          "state": {
            "_dom_classes": [],
            "_model_module": "@jupyter-widgets/controls",
            "_model_module_version": "1.5.0",
            "_model_name": "HTMLModel",
            "_view_count": null,
            "_view_module": "@jupyter-widgets/controls",
            "_view_module_version": "1.5.0",
            "_view_name": "HTMLView",
            "description": "",
            "description_tooltip": null,
            "layout": "IPY_MODEL_e2d4d19f3daa4994b1807e59d0cca231",
            "placeholder": "​",
            "style": "IPY_MODEL_41693521fc9d4276b427063560c8f0de",
            "value": " 190/190 [00:00&lt;00:00, 13.1kB/s]"
          }
        },
        "414795a4ff294b1997a1e2e5f1f9b5ef": {
          "model_module": "@jupyter-widgets/base",
          "model_name": "LayoutModel",
          "model_module_version": "1.2.0",
          "state": {
            "_model_module": "@jupyter-widgets/base",
            "_model_module_version": "1.2.0",
            "_model_name": "LayoutModel",
            "_view_count": null,
            "_view_module": "@jupyter-widgets/base",
            "_view_module_version": "1.2.0",
            "_view_name": "LayoutView",
            "align_content": null,
            "align_items": null,
            "align_self": null,
            "border": null,
            "bottom": null,
            "display": null,
            "flex": null,
            "flex_flow": null,
            "grid_area": null,
            "grid_auto_columns": null,
            "grid_auto_flow": null,
            "grid_auto_rows": null,
            "grid_column": null,
            "grid_gap": null,
            "grid_row": null,
            "grid_template_areas": null,
            "grid_template_columns": null,
            "grid_template_rows": null,
            "height": null,
            "justify_content": null,
            "justify_items": null,
            "left": null,
            "margin": null,
            "max_height": null,
            "max_width": null,
            "min_height": null,
            "min_width": null,
            "object_fit": null,
            "object_position": null,
            "order": null,
            "overflow": null,
            "overflow_x": null,
            "overflow_y": null,
            "padding": null,
            "right": null,
            "top": null,
            "visibility": null,
            "width": null
          }
        },
        "e130b8fad4ec4d01a408b62806fdd086": {
          "model_module": "@jupyter-widgets/base",
          "model_name": "LayoutModel",
          "model_module_version": "1.2.0",
          "state": {
            "_model_module": "@jupyter-widgets/base",
            "_model_module_version": "1.2.0",
            "_model_name": "LayoutModel",
            "_view_count": null,
            "_view_module": "@jupyter-widgets/base",
            "_view_module_version": "1.2.0",
            "_view_name": "LayoutView",
            "align_content": null,
            "align_items": null,
            "align_self": null,
            "border": null,
            "bottom": null,
            "display": null,
            "flex": null,
            "flex_flow": null,
            "grid_area": null,
            "grid_auto_columns": null,
            "grid_auto_flow": null,
            "grid_auto_rows": null,
            "grid_column": null,
            "grid_gap": null,
            "grid_row": null,
            "grid_template_areas": null,
            "grid_template_columns": null,
            "grid_template_rows": null,
            "height": null,
            "justify_content": null,
            "justify_items": null,
            "left": null,
            "margin": null,
            "max_height": null,
            "max_width": null,
            "min_height": null,
            "min_width": null,
            "object_fit": null,
            "object_position": null,
            "order": null,
            "overflow": null,
            "overflow_x": null,
            "overflow_y": null,
            "padding": null,
            "right": null,
            "top": null,
            "visibility": null,
            "width": null
          }
        },
        "4995d28f338943a58b54fe09be6858bd": {
          "model_module": "@jupyter-widgets/controls",
          "model_name": "DescriptionStyleModel",
          "model_module_version": "1.5.0",
          "state": {
            "_model_module": "@jupyter-widgets/controls",
            "_model_module_version": "1.5.0",
            "_model_name": "DescriptionStyleModel",
            "_view_count": null,
            "_view_module": "@jupyter-widgets/base",
            "_view_module_version": "1.2.0",
            "_view_name": "StyleView",
            "description_width": ""
          }
        },
        "ef8dd84ac7ec45e9a82aaeeeb409ffe4": {
          "model_module": "@jupyter-widgets/base",
          "model_name": "LayoutModel",
          "model_module_version": "1.2.0",
          "state": {
            "_model_module": "@jupyter-widgets/base",
            "_model_module_version": "1.2.0",
            "_model_name": "LayoutModel",
            "_view_count": null,
            "_view_module": "@jupyter-widgets/base",
            "_view_module_version": "1.2.0",
            "_view_name": "LayoutView",
            "align_content": null,
            "align_items": null,
            "align_self": null,
            "border": null,
            "bottom": null,
            "display": null,
            "flex": null,
            "flex_flow": null,
            "grid_area": null,
            "grid_auto_columns": null,
            "grid_auto_flow": null,
            "grid_auto_rows": null,
            "grid_column": null,
            "grid_gap": null,
            "grid_row": null,
            "grid_template_areas": null,
            "grid_template_columns": null,
            "grid_template_rows": null,
            "height": null,
            "justify_content": null,
            "justify_items": null,
            "left": null,
            "margin": null,
            "max_height": null,
            "max_width": null,
            "min_height": null,
            "min_width": null,
            "object_fit": null,
            "object_position": null,
            "order": null,
            "overflow": null,
            "overflow_x": null,
            "overflow_y": null,
            "padding": null,
            "right": null,
            "top": null,
            "visibility": null,
            "width": null
          }
        },
        "6941504646d346fba8f3c6ecef95fce6": {
          "model_module": "@jupyter-widgets/controls",
          "model_name": "ProgressStyleModel",
          "model_module_version": "1.5.0",
          "state": {
            "_model_module": "@jupyter-widgets/controls",
            "_model_module_version": "1.5.0",
            "_model_name": "ProgressStyleModel",
            "_view_count": null,
            "_view_module": "@jupyter-widgets/base",
            "_view_module_version": "1.2.0",
            "_view_name": "StyleView",
            "bar_color": null,
            "description_width": ""
          }
        },
        "e2d4d19f3daa4994b1807e59d0cca231": {
          "model_module": "@jupyter-widgets/base",
          "model_name": "LayoutModel",
          "model_module_version": "1.2.0",
          "state": {
            "_model_module": "@jupyter-widgets/base",
            "_model_module_version": "1.2.0",
            "_model_name": "LayoutModel",
            "_view_count": null,
            "_view_module": "@jupyter-widgets/base",
            "_view_module_version": "1.2.0",
            "_view_name": "LayoutView",
            "align_content": null,
            "align_items": null,
            "align_self": null,
            "border": null,
            "bottom": null,
            "display": null,
            "flex": null,
            "flex_flow": null,
            "grid_area": null,
            "grid_auto_columns": null,
            "grid_auto_flow": null,
            "grid_auto_rows": null,
            "grid_column": null,
            "grid_gap": null,
            "grid_row": null,
            "grid_template_areas": null,
            "grid_template_columns": null,
            "grid_template_rows": null,
            "height": null,
            "justify_content": null,
            "justify_items": null,
            "left": null,
            "margin": null,
            "max_height": null,
            "max_width": null,
            "min_height": null,
            "min_width": null,
            "object_fit": null,
            "object_position": null,
            "order": null,
            "overflow": null,
            "overflow_x": null,
            "overflow_y": null,
            "padding": null,
            "right": null,
            "top": null,
            "visibility": null,
            "width": null
          }
        },
        "41693521fc9d4276b427063560c8f0de": {
          "model_module": "@jupyter-widgets/controls",
          "model_name": "DescriptionStyleModel",
          "model_module_version": "1.5.0",
          "state": {
            "_model_module": "@jupyter-widgets/controls",
            "_model_module_version": "1.5.0",
            "_model_name": "DescriptionStyleModel",
            "_view_count": null,
            "_view_module": "@jupyter-widgets/base",
            "_view_module_version": "1.2.0",
            "_view_name": "StyleView",
            "description_width": ""
          }
        }
      }
    }
  },
  "cells": [
    {
      "cell_type": "markdown",
      "source": [
        "# RAG Fusion"
      ],
      "metadata": {
        "id": "EpLLP3t0mvaI"
      }
    },
    {
      "cell_type": "markdown",
      "source": [
        "![image.png](data:image/png;base64,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)"
      ],
      "metadata": {
        "id": "HoEfhIvFvZ-4"
      }
    },
    {
      "cell_type": "code",
      "execution_count": 1,
      "metadata": {
        "id": "RRYSu48huSUW",
        "colab": {
          "base_uri": "https://localhost:8080/"
        },
        "outputId": "46590a6a-dbbb-49db-e989-c5d10f4a4f68"
      },
      "outputs": [
        {
          "output_type": "stream",
          "name": "stdout",
          "text": [
            "\u001b[2K     \u001b[90m━━━━━━━━━━━━━━━━━━━━━━━━━━━━━━━━━━━━━━━━\u001b[0m \u001b[32m975.5/975.5 kB\u001b[0m \u001b[31m9.2 MB/s\u001b[0m eta \u001b[36m0:00:00\u001b[0m\n",
            "\u001b[2K     \u001b[90m━━━━━━━━━━━━━━━━━━━━━━━━━━━━━━━━━━━━━━━━\u001b[0m \u001b[32m1.1/1.1 MB\u001b[0m \u001b[31m16.8 MB/s\u001b[0m eta \u001b[36m0:00:00\u001b[0m\n",
            "\u001b[2K     \u001b[90m━━━━━━━━━━━━━━━━━━━━━━━━━━━━━━━━━━━━━━━━\u001b[0m \u001b[32m290.4/290.4 kB\u001b[0m \u001b[31m17.7 MB/s\u001b[0m eta \u001b[36m0:00:00\u001b[0m\n",
            "\u001b[2K     \u001b[90m━━━━━━━━━━━━━━━━━━━━━━━━━━━━━━━━━━━━━━━━\u001b[0m \u001b[32m337.4/337.4 kB\u001b[0m \u001b[31m19.0 MB/s\u001b[0m eta \u001b[36m0:00:00\u001b[0m\n",
            "\u001b[2K     \u001b[90m━━━━━━━━━━━━━━━━━━━━━━━━━━━━━━━━━━━━━━━━\u001b[0m \u001b[32m127.5/127.5 kB\u001b[0m \u001b[31m15.7 MB/s\u001b[0m eta \u001b[36m0:00:00\u001b[0m\n",
            "\u001b[2K     \u001b[90m━━━━━━━━━━━━━━━━━━━━━━━━━━━━━━━━━━━━━━━━\u001b[0m \u001b[32m163.9/163.9 kB\u001b[0m \u001b[31m12.8 MB/s\u001b[0m eta \u001b[36m0:00:00\u001b[0m\n",
            "\u001b[2K     \u001b[90m━━━━━━━━━━━━━━━━━━━━━━━━━━━━━━━━━━━━━━━━\u001b[0m \u001b[32m718.3/718.3 kB\u001b[0m \u001b[31m25.0 MB/s\u001b[0m eta \u001b[36m0:00:00\u001b[0m\n",
            "\u001b[2K     \u001b[90m━━━━━━━━━━━━━━━━━━━━━━━━━━━━━━━━━━━━━━━━\u001b[0m \u001b[32m141.1/141.1 kB\u001b[0m \u001b[31m16.9 MB/s\u001b[0m eta \u001b[36m0:00:00\u001b[0m\n",
            "\u001b[2K     \u001b[90m━━━━━━━━━━━━━━━━━━━━━━━━━━━━━━━━━━━━━━━━\u001b[0m \u001b[32m559.5/559.5 kB\u001b[0m \u001b[31m7.4 MB/s\u001b[0m eta \u001b[36m0:00:00\u001b[0m\n",
            "\u001b[2K     \u001b[90m━━━━━━━━━━━━━━━━━━━━━━━━━━━━━━━━━━━━━━━━\u001b[0m \u001b[32m2.1/2.1 MB\u001b[0m \u001b[31m15.4 MB/s\u001b[0m eta \u001b[36m0:00:00\u001b[0m\n",
            "\u001b[2K     \u001b[90m━━━━━━━━━━━━━━━━━━━━━━━━━━━━━━━━━━━━━━━━\u001b[0m \u001b[32m2.4/2.4 MB\u001b[0m \u001b[31m24.9 MB/s\u001b[0m eta \u001b[36m0:00:00\u001b[0m\n",
            "\u001b[2K     \u001b[90m━━━━━━━━━━━━━━━━━━━━━━━━━━━━━━━━━━━━━━━━\u001b[0m \u001b[32m92.0/92.0 kB\u001b[0m \u001b[31m11.1 MB/s\u001b[0m eta \u001b[36m0:00:00\u001b[0m\n",
            "\u001b[2K     \u001b[90m━━━━━━━━━━━━━━━━━━━━━━━━━━━━━━━━━━━━━━━━\u001b[0m \u001b[32m62.4/62.4 kB\u001b[0m \u001b[31m7.5 MB/s\u001b[0m eta \u001b[36m0:00:00\u001b[0m\n",
            "\u001b[2K     \u001b[90m━━━━━━━━━━━━━━━━━━━━━━━━━━━━━━━━━━━━━━━━\u001b[0m \u001b[32m41.3/41.3 kB\u001b[0m \u001b[31m4.9 MB/s\u001b[0m eta \u001b[36m0:00:00\u001b[0m\n",
            "\u001b[2K     \u001b[90m━━━━━━━━━━━━━━━━━━━━━━━━━━━━━━━━━━━━━━━━\u001b[0m \u001b[32m6.8/6.8 MB\u001b[0m \u001b[31m42.3 MB/s\u001b[0m eta \u001b[36m0:00:00\u001b[0m\n",
            "\u001b[2K     \u001b[90m━━━━━━━━━━━━━━━━━━━━━━━━━━━━━━━━━━━━━━━━\u001b[0m \u001b[32m59.9/59.9 kB\u001b[0m \u001b[31m6.5 MB/s\u001b[0m eta \u001b[36m0:00:00\u001b[0m\n",
            "\u001b[2K     \u001b[90m━━━━━━━━━━━━━━━━━━━━━━━━━━━━━━━━━━━━━━━━\u001b[0m \u001b[32m107.0/107.0 kB\u001b[0m \u001b[31m13.2 MB/s\u001b[0m eta \u001b[36m0:00:00\u001b[0m\n",
            "\u001b[2K     \u001b[90m━━━━━━━━━━━━━━━━━━━━━━━━━━━━━━━━━━━━━━━━\u001b[0m \u001b[32m67.3/67.3 kB\u001b[0m \u001b[31m8.7 MB/s\u001b[0m eta \u001b[36m0:00:00\u001b[0m\n",
            "\u001b[?25h  Installing build dependencies ... \u001b[?25l\u001b[?25hdone\n",
            "  Getting requirements to build wheel ... \u001b[?25l\u001b[?25hdone\n",
            "  Preparing metadata (pyproject.toml) ... \u001b[?25l\u001b[?25hdone\n",
            "\u001b[2K     \u001b[90m━━━━━━━━━━━━━━━━━━━━━━━━━━━━━━━━━━━━━━━━\u001b[0m \u001b[32m283.7/283.7 kB\u001b[0m \u001b[31m32.4 MB/s\u001b[0m eta \u001b[36m0:00:00\u001b[0m\n",
            "\u001b[2K     \u001b[90m━━━━━━━━━━━━━━━━━━━━━━━━━━━━━━━━━━━━━━━━\u001b[0m \u001b[32m1.7/1.7 MB\u001b[0m \u001b[31m54.5 MB/s\u001b[0m eta \u001b[36m0:00:00\u001b[0m\n",
            "\u001b[2K     \u001b[90m━━━━━━━━━━━━━━━━━━━━━━━━━━━━━━━━━━━━━━━━\u001b[0m \u001b[32m67.6/67.6 kB\u001b[0m \u001b[31m9.1 MB/s\u001b[0m eta \u001b[36m0:00:00\u001b[0m\n",
            "\u001b[2K     \u001b[90m━━━━━━━━━━━━━━━━━━━━━━━━━━━━━━━━━━━━━━━━\u001b[0m \u001b[32m75.6/75.6 kB\u001b[0m \u001b[31m10.4 MB/s\u001b[0m eta \u001b[36m0:00:00\u001b[0m\n",
            "\u001b[2K     \u001b[90m━━━━━━━━━━━━━━━━━━━━━━━━━━━━━━━━━━━━━━━━\u001b[0m \u001b[32m431.4/431.4 kB\u001b[0m \u001b[31m44.9 MB/s\u001b[0m eta \u001b[36m0:00:00\u001b[0m\n",
            "\u001b[2K     \u001b[90m━━━━━━━━━━━━━━━━━━━━━━━━━━━━━━━━━━━━━━━━\u001b[0m \u001b[32m274.7/274.7 kB\u001b[0m \u001b[31m33.8 MB/s\u001b[0m eta \u001b[36m0:00:00\u001b[0m\n",
            "\u001b[2K     \u001b[90m━━━━━━━━━━━━━━━━━━━━━━━━━━━━━━━━━━━━━━━━\u001b[0m \u001b[32m981.5/981.5 kB\u001b[0m \u001b[31m49.9 MB/s\u001b[0m eta \u001b[36m0:00:00\u001b[0m\n",
            "\u001b[?25h  Preparing metadata (setup.py) ... \u001b[?25l\u001b[?25hdone\n",
            "\u001b[2K     \u001b[90m━━━━━━━━━━━━━━━━━━━━━━━━━━━━━━━━━━━━━━━━\u001b[0m \u001b[32m3.4/3.4 MB\u001b[0m \u001b[31m74.9 MB/s\u001b[0m eta \u001b[36m0:00:00\u001b[0m\n",
            "\u001b[2K     \u001b[90m━━━━━━━━━━━━━━━━━━━━━━━━━━━━━━━━━━━━━━━━\u001b[0m \u001b[32m41.0/41.0 kB\u001b[0m \u001b[31m5.5 MB/s\u001b[0m eta \u001b[36m0:00:00\u001b[0m\n",
            "\u001b[2K     \u001b[90m━━━━━━━━━━━━━━━━━━━━━━━━━━━━━━━━━━━━━━━━\u001b[0m \u001b[32m71.9/71.9 kB\u001b[0m \u001b[31m9.2 MB/s\u001b[0m eta \u001b[36m0:00:00\u001b[0m\n",
            "\u001b[2K     \u001b[90m━━━━━━━━━━━━━━━━━━━━━━━━━━━━━━━━━━━━━━━━\u001b[0m \u001b[32m53.6/53.6 kB\u001b[0m \u001b[31m7.6 MB/s\u001b[0m eta \u001b[36m0:00:00\u001b[0m\n",
            "\u001b[2K     \u001b[90m━━━━━━━━━━━━━━━━━━━━━━━━━━━━━━━━━━━━━━━━\u001b[0m \u001b[32m77.9/77.9 kB\u001b[0m \u001b[31m9.4 MB/s\u001b[0m eta \u001b[36m0:00:00\u001b[0m\n",
            "\u001b[2K     \u001b[90m━━━━━━━━━━━━━━━━━━━━━━━━━━━━━━━━━━━━━━━━\u001b[0m \u001b[32m58.3/58.3 kB\u001b[0m \u001b[31m8.3 MB/s\u001b[0m eta \u001b[36m0:00:00\u001b[0m\n",
            "\u001b[2K     \u001b[90m━━━━━━━━━━━━━━━━━━━━━━━━━━━━━━━━━━━━━━━━\u001b[0m \u001b[32m46.0/46.0 kB\u001b[0m \u001b[31m6.0 MB/s\u001b[0m eta \u001b[36m0:00:00\u001b[0m\n",
            "\u001b[2K     \u001b[90m━━━━━━━━━━━━━━━━━━━━━━━━━━━━━━━━━━━━━━━━\u001b[0m \u001b[32m52.5/52.5 kB\u001b[0m \u001b[31m6.8 MB/s\u001b[0m eta \u001b[36m0:00:00\u001b[0m\n",
            "\u001b[2K     \u001b[90m━━━━━━━━━━━━━━━━━━━━━━━━━━━━━━━━━━━━━━━━\u001b[0m \u001b[32m130.5/130.5 kB\u001b[0m \u001b[31m16.0 MB/s\u001b[0m eta \u001b[36m0:00:00\u001b[0m\n",
            "\u001b[2K     \u001b[90m━━━━━━━━━━━━━━━━━━━━━━━━━━━━━━━━━━━━━━━━\u001b[0m \u001b[32m341.4/341.4 kB\u001b[0m \u001b[31m38.1 MB/s\u001b[0m eta \u001b[36m0:00:00\u001b[0m\n",
            "\u001b[2K     \u001b[90m━━━━━━━━━━━━━━━━━━━━━━━━━━━━━━━━━━━━━━━━\u001b[0m \u001b[32m3.4/3.4 MB\u001b[0m \u001b[31m82.1 MB/s\u001b[0m eta \u001b[36m0:00:00\u001b[0m\n",
            "\u001b[2K     \u001b[90m━━━━━━━━━━━━━━━━━━━━━━━━━━━━━━━━━━━━━━━━\u001b[0m \u001b[32m1.2/1.2 MB\u001b[0m \u001b[31m67.9 MB/s\u001b[0m eta \u001b[36m0:00:00\u001b[0m\n",
            "\u001b[2K     \u001b[90m━━━━━━━━━━━━━━━━━━━━━━━━━━━━━━━━━━━━━━━━\u001b[0m \u001b[32m130.2/130.2 kB\u001b[0m \u001b[31m16.9 MB/s\u001b[0m eta \u001b[36m0:00:00\u001b[0m\n",
            "\u001b[2K     \u001b[90m━━━━━━━━━━━━━━━━━━━━━━━━━━━━━━━━━━━━━━━━\u001b[0m \u001b[32m49.2/49.2 kB\u001b[0m \u001b[31m5.5 MB/s\u001b[0m eta \u001b[36m0:00:00\u001b[0m\n",
            "\u001b[2K     \u001b[90m━━━━━━━━━━━━━━━━━━━━━━━━━━━━━━━━━━━━━━━━\u001b[0m \u001b[32m80.8/80.8 kB\u001b[0m \u001b[31m10.2 MB/s\u001b[0m eta \u001b[36m0:00:00\u001b[0m\n",
            "\u001b[2K     \u001b[90m━━━━━━━━━━━━━━━━━━━━━━━━━━━━━━━━━━━━━━━━\u001b[0m \u001b[32m54.5/54.5 kB\u001b[0m \u001b[31m7.2 MB/s\u001b[0m eta \u001b[36m0:00:00\u001b[0m\n",
            "\u001b[2K     \u001b[90m━━━━━━━━━━━━━━━━━━━━━━━━━━━━━━━━━━━━━━━━\u001b[0m \u001b[32m307.7/307.7 kB\u001b[0m \u001b[31m28.8 MB/s\u001b[0m eta \u001b[36m0:00:00\u001b[0m\n",
            "\u001b[2K     \u001b[90m━━━━━━━━━━━━━━━━━━━━━━━━━━━━━━━━━━━━━━━━\u001b[0m \u001b[32m86.8/86.8 kB\u001b[0m \u001b[31m10.9 MB/s\u001b[0m eta \u001b[36m0:00:00\u001b[0m\n",
            "\u001b[?25h  Building wheel for pypika (pyproject.toml) ... \u001b[?25l\u001b[?25hdone\n",
            "  Building wheel for langdetect (setup.py) ... \u001b[?25l\u001b[?25hdone\n",
            "\u001b[2K     \u001b[90m━━━━━━━━━━━━━━━━━━━━━━━━━━━━━━━━━━━━━━━━\u001b[0m \u001b[32m227.1/227.1 kB\u001b[0m \u001b[31m5.2 MB/s\u001b[0m eta \u001b[36m0:00:00\u001b[0m\n",
            "\u001b[2K     \u001b[90m━━━━━━━━━━━━━━━━━━━━━━━━━━━━━━━━━━━━━━━━\u001b[0m \u001b[32m21.3/21.3 MB\u001b[0m \u001b[31m54.6 MB/s\u001b[0m eta \u001b[36m0:00:00\u001b[0m\n",
            "\u001b[2K     \u001b[90m━━━━━━━━━━━━━━━━━━━━━━━━━━━━━━━━━━━━━━━━\u001b[0m \u001b[32m141.3/141.3 kB\u001b[0m \u001b[31m4.4 MB/s\u001b[0m eta \u001b[36m0:00:00\u001b[0m\n",
            "\u001b[?25h  Preparing metadata (setup.py) ... \u001b[?25l\u001b[?25hdone\n",
            "\u001b[2K     \u001b[90m━━━━━━━━━━━━━━━━━━━━━━━━━━━━━━━━━━━━━━━━\u001b[0m \u001b[32m547.8/547.8 kB\u001b[0m \u001b[31m10.1 MB/s\u001b[0m eta \u001b[36m0:00:00\u001b[0m\n",
            "\u001b[2K     \u001b[90m━━━━━━━━━━━━━━━━━━━━━━━━━━━━━━━━━━━━━━━━\u001b[0m \u001b[32m314.1/314.1 kB\u001b[0m \u001b[31m11.2 MB/s\u001b[0m eta \u001b[36m0:00:00\u001b[0m\n",
            "\u001b[2K     \u001b[90m━━━━━━━━━━━━━━━━━━━━━━━━━━━━━━━━━━━━━━━━\u001b[0m \u001b[32m40.8/40.8 MB\u001b[0m \u001b[31m13.1 MB/s\u001b[0m eta \u001b[36m0:00:00\u001b[0m\n",
            "\u001b[2K     \u001b[90m━━━━━━━━━━━━━━━━━━━━━━━━━━━━━━━━━━━━━━━━\u001b[0m \u001b[32m116.3/116.3 kB\u001b[0m \u001b[31m16.8 MB/s\u001b[0m eta \u001b[36m0:00:00\u001b[0m\n",
            "\u001b[2K     \u001b[90m━━━━━━━━━━━━━━━━━━━━━━━━━━━━━━━━━━━━━━━━\u001b[0m \u001b[32m64.9/64.9 kB\u001b[0m \u001b[31m9.9 MB/s\u001b[0m eta \u001b[36m0:00:00\u001b[0m\n",
            "\u001b[2K     \u001b[90m━━━━━━━━━━━━━━━━━━━━━━━━━━━━━━━━━━━━━━━━\u001b[0m \u001b[32m194.1/194.1 kB\u001b[0m \u001b[31m24.6 MB/s\u001b[0m eta \u001b[36m0:00:00\u001b[0m\n",
            "\u001b[2K     \u001b[90m━━━━━━━━━━━━━━━━━━━━━━━━━━━━━━━━━━━━━━━━\u001b[0m \u001b[32m134.8/134.8 kB\u001b[0m \u001b[31m18.7 MB/s\u001b[0m eta \u001b[36m0:00:00\u001b[0m\n",
            "\u001b[?25h  Building wheel for FlagEmbedding (setup.py) ... \u001b[?25l\u001b[?25hdone\n",
            "\u001b[31mERROR: pip's dependency resolver does not currently take into account all the packages that are installed. This behaviour is the source of the following dependency conflicts.\n",
            "cudf-cu12 24.4.1 requires pyarrow<15.0.0a0,>=14.0.1, but you have pyarrow 16.1.0 which is incompatible.\n",
            "google-colab 1.0.0 requires requests==2.31.0, but you have requests 2.32.3 which is incompatible.\n",
            "ibis-framework 8.0.0 requires pyarrow<16,>=2, but you have pyarrow 16.1.0 which is incompatible.\u001b[0m\u001b[31m\n",
            "\u001b[0m"
          ]
        }
      ],
      "source": [
        "!pip -q install langchain huggingface_hub langchain-google-genai tiktoken pypdf\n",
        "!pip -q install google-generativeai chromadb unstructured\n",
        "!pip -q install sentence_transformers\n",
        "!pip -q install -U FlagEmbedding\n"
      ]
    },
    {
      "cell_type": "markdown",
      "source": [
        "### Download the Data & Utils"
      ],
      "metadata": {
        "id": "Fw9wTjZG9I30"
      }
    },
    {
      "cell_type": "code",
      "source": [
        "import os\n",
        "import requests\n",
        "import zipfile\n",
        "from io import BytesIO\n",
        "import textwrap\n",
        "\n",
        "def download_and_extract_zip(url, target_folder):\n",
        "    # Ensure the target folder exists\n",
        "    if not os.path.exists(target_folder):\n",
        "        os.makedirs(target_folder)\n",
        "\n",
        "    # Download the file from the URL\n",
        "    response = requests.get(url)\n",
        "    if response.status_code != 200:\n",
        "        raise Exception(f\"Failed to download file: {url}\")\n",
        "\n",
        "    # Unzip the file in memory\n",
        "    with zipfile.ZipFile(BytesIO(response.content)) as zip_ref:\n",
        "        zip_ref.extractall(target_folder)\n",
        "\n",
        "    print(f\"Files extracted to {target_folder}\")\n",
        "\n",
        "\n",
        "def zip_folder(folder_path, zip_file_path):\n",
        "    # Create a ZipFile object in write mode\n",
        "    with zipfile.ZipFile(zip_file_path, 'w', zipfile.ZIP_DEFLATED) as zipf:\n",
        "        # Walk through the directory\n",
        "        for root, dirs, files in os.walk(folder_path):\n",
        "            for file in files:\n",
        "                # Create a path relative to the folder to avoid storing absolute paths\n",
        "                relative_path = os.path.relpath(os.path.join(root, file), os.path.dirname(folder_path))\n",
        "                # Add file to the zip file\n",
        "                zipf.write(os.path.join(root, file), arcname=relative_path)\n",
        "\n",
        "    print(f\"{zip_file_path} created successfully.\")\n",
        "\n",
        "\n",
        "\n",
        "def wrap_text(text, width=90): #preserve_newlines\n",
        "    # Split the input text into lines based on newline characters\n",
        "    lines = text.split('\\n')\n",
        "\n",
        "    # Wrap each line individually\n",
        "    wrapped_lines = [textwrap.fill(line, width=width) for line in lines]\n",
        "\n",
        "    # Join the wrapped lines back together using newline characters\n",
        "    wrapped_text = '\\n'.join(wrapped_lines)\n",
        "\n",
        "    return wrapped_text\n",
        "\n",
        "# URL of the zip file\n",
        "url = \"https://www.dropbox.com/scl/fi/av3nw07o5mo29cjokyp41/singapore_text_files_languages.zip?rlkey=xqdy5f1modtbnrzzga9024jyw&dl=1\" # Ensure dl=1 for direct download\n",
        "\n",
        "# Folder to save extracted files\n",
        "folder = \"singapore_text\"\n",
        "\n",
        "# Call the function\n",
        "download_and_extract_zip(url, folder)\n"
      ],
      "metadata": {
        "id": "ePC3zmC-78rN",
        "colab": {
          "base_uri": "https://localhost:8080/"
        },
        "outputId": "046b531a-2637-441a-a1af-d63443a41139"
      },
      "execution_count": 2,
      "outputs": [
        {
          "output_type": "stream",
          "name": "stdout",
          "text": [
            "Files extracted to singapore_text\n"
          ]
        }
      ]
    },
    {
      "cell_type": "code",
      "source": [
        "## download the chroma DB\n",
        "url = 'https://www.dropbox.com/scl/fi/3kep8mo77h642kvpum2p7/singapore_chroma_db.zip?rlkey=4ry4rtmeqdcixjzxobtmaajzo&dl=1'\n",
        "download_and_extract_zip(url, '.')"
      ],
      "metadata": {
        "id": "KPK-CydsxGAV",
        "colab": {
          "base_uri": "https://localhost:8080/"
        },
        "outputId": "63eebfa8-dd69-4944-ec93-fbd940945c7e"
      },
      "execution_count": 3,
      "outputs": [
        {
          "output_type": "stream",
          "name": "stdout",
          "text": [
            "Files extracted to .\n"
          ]
        }
      ]
    },
    {
      "cell_type": "code",
      "source": [
        "import os\n",
        "\n",
        "from google.colab import userdata\n",
        "os.environ[\"GOOGLE_API_KEY\"] = userdata.get('GOOGLE_API_KEY')"
      ],
      "metadata": {
        "id": "dNA4TsHpu6OM"
      },
      "execution_count": 4,
      "outputs": []
    },
    {
      "cell_type": "code",
      "source": [
        "!pip show langchain"
      ],
      "metadata": {
        "id": "J-KFB7J_u_3L",
        "colab": {
          "base_uri": "https://localhost:8080/"
        },
        "outputId": "fa9d6167-92cc-483c-c35f-7ed7d1bf08a2"
      },
      "execution_count": 5,
      "outputs": [
        {
          "output_type": "stream",
          "name": "stdout",
          "text": [
            "Name: langchain\n",
            "Version: 0.2.6\n",
            "Summary: Building applications with LLMs through composability\n",
            "Home-page: https://github.com/langchain-ai/langchain\n",
            "Author: \n",
            "Author-email: \n",
            "License: MIT\n",
            "Location: /usr/local/lib/python3.10/dist-packages\n",
            "Requires: aiohttp, async-timeout, langchain-core, langchain-text-splitters, langsmith, numpy, pydantic, PyYAML, requests, SQLAlchemy, tenacity\n",
            "Required-by: \n"
          ]
        }
      ]
    },
    {
      "cell_type": "markdown",
      "source": [
        "## Google"
      ],
      "metadata": {
        "id": "QmX0tg21rHYG"
      }
    },
    {
      "cell_type": "markdown",
      "source": [
        "## Imports"
      ],
      "metadata": {
        "id": "PMV2IlE4GkMH"
      }
    },
    {
      "cell_type": "code",
      "source": [
        "!pip install -q langchain_community"
      ],
      "metadata": {
        "colab": {
          "base_uri": "https://localhost:8080/"
        },
        "id": "prJsAZY6xJCM",
        "outputId": "63349d68-c2f3-4f52-8b83-c73b8b88f7eb"
      },
      "execution_count": 7,
      "outputs": [
        {
          "output_type": "stream",
          "name": "stdout",
          "text": [
            "\u001b[2K     \u001b[90m━━━━━━━━━━━━━━━━━━━━━━━━━━━━━━━━━━━━━━━━\u001b[0m \u001b[32m2.2/2.2 MB\u001b[0m \u001b[31m13.2 MB/s\u001b[0m eta \u001b[36m0:00:00\u001b[0m\n",
            "\u001b[?25h"
          ]
        }
      ]
    },
    {
      "cell_type": "code",
      "source": [
        "from langchain.llms import GooglePalm\n",
        "from langchain.text_splitter import RecursiveCharacterTextSplitter\n",
        "from langchain.vectorstores.chroma import Chroma\n",
        "import langchain\n",
        "\n"
      ],
      "metadata": {
        "id": "K1i89ZetrjxS"
      },
      "execution_count": 8,
      "outputs": []
    },
    {
      "cell_type": "markdown",
      "source": [
        "## Load in Docs"
      ],
      "metadata": {
        "id": "a6_wyaR7GmzK"
      }
    },
    {
      "cell_type": "code",
      "source": [
        "from langchain.document_loaders import DirectoryLoader\n",
        "from langchain.document_loaders import TextLoader"
      ],
      "metadata": {
        "id": "WPiv5FGi-AN-"
      },
      "execution_count": 9,
      "outputs": []
    },
    {
      "cell_type": "code",
      "source": [
        "%%time\n",
        "loader = DirectoryLoader('/content/singapore_text/Textfiles3/English/', glob=\"*.txt\", show_progress=True)\n",
        "docs = loader.load()"
      ],
      "metadata": {
        "colab": {
          "base_uri": "https://localhost:8080/"
        },
        "id": "cMUCoHNk-Fdi",
        "outputId": "1f9ff382-03bf-4ab9-af99-0df32355b44d"
      },
      "execution_count": 10,
      "outputs": [
        {
          "output_type": "stream",
          "name": "stderr",
          "text": [
            "\r  0%|          | 0/646 [00:00<?, ?it/s][nltk_data] Downloading package punkt to /root/nltk_data...\n",
            "[nltk_data]   Unzipping tokenizers/punkt.zip.\n",
            "[nltk_data] Downloading package averaged_perceptron_tagger to\n",
            "[nltk_data]     /root/nltk_data...\n",
            "[nltk_data]   Unzipping taggers/averaged_perceptron_tagger.zip.\n",
            "100%|██████████| 646/646 [00:38<00:00, 16.89it/s]"
          ]
        },
        {
          "output_type": "stream",
          "name": "stdout",
          "text": [
            "CPU times: user 34.7 s, sys: 1.22 s, total: 35.9 s\n",
            "Wall time: 38.3 s\n"
          ]
        },
        {
          "output_type": "stream",
          "name": "stderr",
          "text": [
            "\n"
          ]
        }
      ]
    },
    {
      "cell_type": "code",
      "source": [
        "len(docs)\n",
        "# docs = docs[:10]\n",
        "len(docs)"
      ],
      "metadata": {
        "colab": {
          "base_uri": "https://localhost:8080/"
        },
        "id": "lCzMJ2S7KaDW",
        "outputId": "b3890d9c-5db5-4234-f871-fb1f950d3cc9"
      },
      "execution_count": 11,
      "outputs": [
        {
          "output_type": "execute_result",
          "data": {
            "text/plain": [
              "646"
            ]
          },
          "metadata": {},
          "execution_count": 11
        }
      ]
    },
    {
      "cell_type": "code",
      "execution_count": 12,
      "metadata": {
        "id": "aef8c3ea-26e9-4a09-8314-0d1e7580ae26",
        "outputId": "17de3c0e-11ec-4ed4-b8ea-88770e7f8dc8",
        "colab": {
          "base_uri": "https://localhost:8080/"
        }
      },
      "outputs": [
        {
          "output_type": "execute_result",
          "data": {
            "text/plain": [
              "Document(metadata={'source': '/content/singapore_text/Textfiles3/English/LASALLE_College_of_the_Arts.txt'}, page_content='Link: https://www.visitsingapore.com/see\\n\\ndo\\n\\nsingapore/architecture/modern/lasalle\\n\\ncollege\\n\\nof\\n\\nthe\\n\\narts/\\n\\nTitle: LASALLE College of the Arts\\n\\nIt seems fitting that an institution providing tertiary education in the arts should push the boundaries of creativity in architecture. That’s exactly what the LASALLE College of the Arts does.\\n\\nIngenious space\\n\\nDesigned by Singapore-based RSP Architects, the campus is an ingenious exercise of reworking space. From the outside, visitors are confronted by a black monolithic exterior of stone and aluminium punctuated with irregularly-shaped windows.\\n\\nThis illusion of continuity disappears when visitors enter the building, with its six seven-storey-high buildings, linked by an atrium and sky bridges. In contrast to its exterior, the buildings here are stunningly graphic, with faceted glass walls and individual panels framed in black, each tilting at different angles.\\n\\nNatural connections\\n\\nThe design was inspired by geology. Indeed, the cluster of sculpted blocks arranged around a central space conjures the image of a deep canyon, with the multiple linking corridors and sky bridges evoking a natural landscape. Light and air circulate freely among the buildings, creating a dynamic atmosphere of movement and energy.\\n\\nThis contemporary masterpiece has gained an unsurprising amount of attention in the world of architecture. It represented Singapore in the architectural section of the Venice Biennale in 2004 and has gone on to win another three awards: PUSH Award 2009, Singapore Institute of Architects; Building of the Year Award 2008, 9th Singapore Institute of Architect’s Design Awards; and President’s Design Award 2008.')"
            ]
          },
          "metadata": {},
          "execution_count": 12
        }
      ],
      "source": [
        "docs[0]"
      ]
    },
    {
      "cell_type": "code",
      "source": [
        "raw_text = ''\n",
        "for i, doc in enumerate(docs):\n",
        "    text = doc.page_content\n",
        "    if text:\n",
        "        raw_text += text"
      ],
      "metadata": {
        "id": "k2RnQCm-rkDt"
      },
      "execution_count": 13,
      "outputs": []
    },
    {
      "cell_type": "code",
      "source": [
        "text_splitter = RecursiveCharacterTextSplitter(\n",
        "    chunk_size = 500,\n",
        "    chunk_overlap  = 100,\n",
        "    length_function = len,\n",
        "    is_separator_regex = False,\n",
        ")"
      ],
      "metadata": {
        "id": "gSp3TatO9gx-"
      },
      "execution_count": 14,
      "outputs": []
    },
    {
      "cell_type": "code",
      "source": [
        "texts = text_splitter.split_text(raw_text)"
      ],
      "metadata": {
        "id": "-T4wxtXmrwEq"
      },
      "execution_count": 15,
      "outputs": []
    },
    {
      "cell_type": "code",
      "source": [
        "len(texts)"
      ],
      "metadata": {
        "colab": {
          "base_uri": "https://localhost:8080/"
        },
        "id": "76tCK-JtBvjU",
        "outputId": "336c03a9-0e4b-42ec-d054-7adf5fe9973b"
      },
      "execution_count": 16,
      "outputs": [
        {
          "output_type": "execute_result",
          "data": {
            "text/plain": [
              "6218"
            ]
          },
          "metadata": {},
          "execution_count": 16
        }
      ]
    },
    {
      "cell_type": "code",
      "source": [
        "texts[1]"
      ],
      "metadata": {
        "colab": {
          "base_uri": "https://localhost:8080/",
          "height": 53
        },
        "id": "MugV2iv1B5KC",
        "outputId": "f940450f-0a55-448c-e6b0-01cf3c299894"
      },
      "execution_count": 17,
      "outputs": [
        {
          "output_type": "execute_result",
          "data": {
            "text/plain": [
              "'Ingenious space\\n\\nDesigned by Singapore-based RSP Architects, the campus is an ingenious exercise of reworking space. From the outside, visitors are confronted by a black monolithic exterior of stone and aluminium punctuated with irregularly-shaped windows.'"
            ],
            "application/vnd.google.colaboratory.intrinsic+json": {
              "type": "string"
            }
          },
          "metadata": {},
          "execution_count": 17
        }
      ]
    },
    {
      "cell_type": "markdown",
      "source": [
        "## BGE Embeddings"
      ],
      "metadata": {
        "id": "NGwCBmlDGr0U"
      }
    },
    {
      "cell_type": "code",
      "source": [
        "from langchain.embeddings import HuggingFaceBgeEmbeddings\n",
        "\n",
        "model_name = \"BAAI/bge-small-en-v1.5\"\n",
        "encode_kwargs = {'normalize_embeddings': True} # set True to compute cosine similarity\n",
        "\n",
        "embedding_function = HuggingFaceBgeEmbeddings(\n",
        "    model_name=model_name,\n",
        "    model_kwargs={'device': 'cuda'},\n",
        "    encode_kwargs=encode_kwargs,\n",
        "\n",
        ")"
      ],
      "metadata": {
        "id": "B4AIp2aXJQzm",
        "colab": {
          "base_uri": "https://localhost:8080/",
          "height": 458,
          "referenced_widgets": [
            "0aa314df24704e29ba715303ad4ace25",
            "53d1811d00584e58b965558faf769b85",
            "9ee70f05f97a4f86ad3ff541f4fb0bc6",
            "75b01f5294d14d40b8ef19ddad035863",
            "25fc5448e6bb437999456c2f41087747",
            "c7d153f9f1fa407b851eec01526b6fbd",
            "d1472fe948de4b50ac0ee03df4e59f96",
            "0217b97d553f4ecbace3739b68eac227",
            "3995d4de682947efbc88c7654292119e",
            "6ce0361ab0484a88a58ea79ed91b33a2",
            "af635a871dde4ff69b9449b6545826dd",
            "563721159e79421896f15beee428cfbc",
            "dad79989b61d43a59010187062820d7d",
            "2844a06f99ec4278a74d57099d721d2b",
            "cbb329082b68447797fb6a568a3d85ad",
            "db981c801a4640b5a2312c3d744537a5",
            "5a51f0702c5645388e75b67bae668c68",
            "dcc316d138cb472dad0cb9efbd2bb99d",
            "e5f8a100906b41c790d262ddb85b4e8c",
            "4eee9004093449b6b1c76b0559be28bc",
            "116a7964065249e7852f97b5e9991061",
            "5a88c9dd7dfb4003be14c89decf9b4ef",
            "7a741561c4de4282a5d850bfff5ba165",
            "9914763cb8994abfbb344d2b89c49588",
            "345be2543f4e4df7a1820fcbe0b62be6",
            "bce8ed33148041cd9edf36644253a1fc",
            "5cc34f7063d8456eae23a35e6d27bdcf",
            "a5063350922242f1b7d98c62e860099d",
            "1e3dbcfa2fa04bf08c1dfb8b0b73c731",
            "6d2c3a1951644ddb9189507798899a6d",
            "8b52b519f63e472c9f4bac525e22a1e5",
            "42635f13b71b412ea2362fabf4e5504b",
            "47e517204bea403e8030b7e90cad192c",
            "376e4499a1d042e88920aa6b87205606",
            "6265daf1add34cf19bcfeebdb48330e6",
            "7e567fe55b504a2dba5e4e0acfb537b2",
            "23c75db2a522444e99fb938fdc504817",
            "cddf0d8901764d97958b2f60649aacc7",
            "b1734c55cc2c400c86969ea0fd883aac",
            "8e06a5da92d04a908bc44afa5c1d4fa9",
            "831efa5c0ca7456eb4e3dde51428277a",
            "216646b5bc4c4ef5b98cffd195ab1834",
            "0b74b468bd5145268b8fa5ad03a9cd6a",
            "03dc0410e629483db19aa9ca9756a3e8",
            "0969cafe412f40da8b16a76d6d4ad6ff",
            "2ba4e8432ef84ed1af981b2b834ed4f4",
            "caaf3b83184a4355951c63a102b1e6fd",
            "e52790ad89ba4783a981e82ab8345bda",
            "f835d59bc26946d5b87232b38fd1da88",
            "c21856a5ff66494b8fc15f9c818f3d2d",
            "fc0254a4e3f44d50bde6561f4677921d",
            "f1e4cd0388b4464da88624ee6f30fe54",
            "cf88df01b96c4634b820925051d27e88",
            "acdf9760ec294fc898f6304c781b4fd1",
            "4b2fd431d7514d938458e0c2cc3601b9",
            "386f8527cb4b487c862b66180e562211",
            "91ea33e40a8f4c08b5b6ece19b5990c6",
            "9a8bb2cb4f7f4cdbad86a9c60683b06e",
            "cd948f0bfccb4a4ea741d645b75245bb",
            "24a011f9114744f3bdd81ef867a135f1",
            "047f4c4265fe49aab8cc10dffa4e97af",
            "0a46b00bc4434e20b239bc95a053282b",
            "082f52f219b145d0b880761827bd0c44",
            "7ea48dd3b1eb4693aadc00e5aa08e47e",
            "aed9eef013394488972729ccdf66f3b4",
            "cd85c5751abd459292a798652df8c86a",
            "67c38e9eccd348529d36e78ea9d2fff8",
            "1d8b8494f00a43179240c94bf2cd493d",
            "73a87e5656a046099de6817bee60d449",
            "c122f9061f2d4f3a8eff3043537a18dc",
            "d5c6e76c810448e88d5c32b4d74bc869",
            "f072ddd9a2f14535a00078c8f0237f12",
            "f142e978d362488484079d2473a4e30e",
            "325079a1e87a4c6fba80fb71fcab3322",
            "a4d6959b76c749f8a51e739e02fe3ca9",
            "5566204fe7764243800e033ced31a318",
            "9fc2b7875a274fbe872e3ad62f8fc879",
            "83bad7579dc14c3ba88ca8a7d18e49d4",
            "f84cf2acc594439996ad5ec1e6e018e6",
            "4d153406b89d483991dd025f88930e24",
            "5b54fd5dcb2d46c78154f83071f25c35",
            "cdb9c90435de48dd862e36517c4f0b42",
            "99c30a42f1fb432d98c92e34d7c91864",
            "5007dcf176f54a68894893cadf5774cf",
            "21adc8f8641f4f6e976e42a8035bcbc8",
            "6aba054cd983420591c0e2e76d601f85",
            "b575763c0eae48cd828c10be16b44bf7",
            "93d60980f3494cc2845acc6324104695",
            "424045b4a8c04d20aa690508f4260c74",
            "450838f5b526442f8212c25ebc719549",
            "3c8f11a7a89a4cef8856a6ecbd246d93",
            "06dbc9a9dc7c4f74b94338452e46f5bd",
            "837b9e7080144a1792741311a016dabe",
            "02c4ea025bb94e0db65278a4a6128484",
            "01f76462da914142a98e5a7913d9a8d9",
            "fec7b0605c7c486fa8c42173b625cef5",
            "345e6bbec54444edae0daad6ea4f3495",
            "db4250d7f43341b594272dbc71f55f2b",
            "b8ec43be66a6415d986aa2101cc3cae8",
            "f8e9afb9bb61403bb4fded14ce628282",
            "240288af9bce4284b8d13a2c51a10b32",
            "b86ea3db17bc4e80af347098bcdde3aa",
            "c36728de383946268743e0f07fb310e1",
            "150111aec31b4368864a3394a202e72d",
            "ad0e4ead1fd94e3e8376740d2a575307",
            "db28e59bf91446728fe8b527698d6cc1",
            "3a37b55c91ba4a8ba6bcbb2b4c0400bd",
            "1aeb4174c760457599224b6e1f356569",
            "96018f4de7d04cf9b9307a91a86c15e5",
            "ef8693ebf71940589ea17d6c7ddbe8bc",
            "5ca075151c2b427ebd663fae3aea94e4",
            "8c42e74ad10e447caf8c186b80675231",
            "b6ef6533fa464d628515a0d0bbe1b0d1",
            "81e5f1987b184de9b50a26bd88594f69",
            "414795a4ff294b1997a1e2e5f1f9b5ef",
            "e130b8fad4ec4d01a408b62806fdd086",
            "4995d28f338943a58b54fe09be6858bd",
            "ef8dd84ac7ec45e9a82aaeeeb409ffe4",
            "6941504646d346fba8f3c6ecef95fce6",
            "e2d4d19f3daa4994b1807e59d0cca231",
            "41693521fc9d4276b427063560c8f0de"
          ]
        },
        "outputId": "2d2313ed-a141-42b1-a2b2-27d15c78c056"
      },
      "execution_count": 18,
      "outputs": [
        {
          "output_type": "stream",
          "name": "stderr",
          "text": [
            "/usr/local/lib/python3.10/dist-packages/sentence_transformers/cross_encoder/CrossEncoder.py:11: TqdmExperimentalWarning: Using `tqdm.autonotebook.tqdm` in notebook mode. Use `tqdm.tqdm` instead to force console mode (e.g. in jupyter console)\n",
            "  from tqdm.autonotebook import tqdm, trange\n"
          ]
        },
        {
          "output_type": "display_data",
          "data": {
            "text/plain": [
              "modules.json:   0%|          | 0.00/349 [00:00<?, ?B/s]"
            ],
            "application/vnd.jupyter.widget-view+json": {
              "version_major": 2,
              "version_minor": 0,
              "model_id": "0aa314df24704e29ba715303ad4ace25"
            }
          },
          "metadata": {}
        },
        {
          "output_type": "display_data",
          "data": {
            "text/plain": [
              "config_sentence_transformers.json:   0%|          | 0.00/124 [00:00<?, ?B/s]"
            ],
            "application/vnd.jupyter.widget-view+json": {
              "version_major": 2,
              "version_minor": 0,
              "model_id": "563721159e79421896f15beee428cfbc"
            }
          },
          "metadata": {}
        },
        {
          "output_type": "display_data",
          "data": {
            "text/plain": [
              "README.md:   0%|          | 0.00/94.8k [00:00<?, ?B/s]"
            ],
            "application/vnd.jupyter.widget-view+json": {
              "version_major": 2,
              "version_minor": 0,
              "model_id": "7a741561c4de4282a5d850bfff5ba165"
            }
          },
          "metadata": {}
        },
        {
          "output_type": "display_data",
          "data": {
            "text/plain": [
              "sentence_bert_config.json:   0%|          | 0.00/52.0 [00:00<?, ?B/s]"
            ],
            "application/vnd.jupyter.widget-view+json": {
              "version_major": 2,
              "version_minor": 0,
              "model_id": "376e4499a1d042e88920aa6b87205606"
            }
          },
          "metadata": {}
        },
        {
          "output_type": "stream",
          "name": "stderr",
          "text": [
            "/usr/local/lib/python3.10/dist-packages/huggingface_hub/file_download.py:1132: FutureWarning: `resume_download` is deprecated and will be removed in version 1.0.0. Downloads always resume when possible. If you want to force a new download, use `force_download=True`.\n",
            "  warnings.warn(\n"
          ]
        },
        {
          "output_type": "display_data",
          "data": {
            "text/plain": [
              "config.json:   0%|          | 0.00/743 [00:00<?, ?B/s]"
            ],
            "application/vnd.jupyter.widget-view+json": {
              "version_major": 2,
              "version_minor": 0,
              "model_id": "0969cafe412f40da8b16a76d6d4ad6ff"
            }
          },
          "metadata": {}
        },
        {
          "output_type": "display_data",
          "data": {
            "text/plain": [
              "model.safetensors:   0%|          | 0.00/133M [00:00<?, ?B/s]"
            ],
            "application/vnd.jupyter.widget-view+json": {
              "version_major": 2,
              "version_minor": 0,
              "model_id": "386f8527cb4b487c862b66180e562211"
            }
          },
          "metadata": {}
        },
        {
          "output_type": "display_data",
          "data": {
            "text/plain": [
              "tokenizer_config.json:   0%|          | 0.00/366 [00:00<?, ?B/s]"
            ],
            "application/vnd.jupyter.widget-view+json": {
              "version_major": 2,
              "version_minor": 0,
              "model_id": "67c38e9eccd348529d36e78ea9d2fff8"
            }
          },
          "metadata": {}
        },
        {
          "output_type": "display_data",
          "data": {
            "text/plain": [
              "vocab.txt:   0%|          | 0.00/232k [00:00<?, ?B/s]"
            ],
            "application/vnd.jupyter.widget-view+json": {
              "version_major": 2,
              "version_minor": 0,
              "model_id": "83bad7579dc14c3ba88ca8a7d18e49d4"
            }
          },
          "metadata": {}
        },
        {
          "output_type": "display_data",
          "data": {
            "text/plain": [
              "tokenizer.json:   0%|          | 0.00/711k [00:00<?, ?B/s]"
            ],
            "application/vnd.jupyter.widget-view+json": {
              "version_major": 2,
              "version_minor": 0,
              "model_id": "424045b4a8c04d20aa690508f4260c74"
            }
          },
          "metadata": {}
        },
        {
          "output_type": "display_data",
          "data": {
            "text/plain": [
              "special_tokens_map.json:   0%|          | 0.00/125 [00:00<?, ?B/s]"
            ],
            "application/vnd.jupyter.widget-view+json": {
              "version_major": 2,
              "version_minor": 0,
              "model_id": "f8e9afb9bb61403bb4fded14ce628282"
            }
          },
          "metadata": {}
        },
        {
          "output_type": "display_data",
          "data": {
            "text/plain": [
              "1_Pooling/config.json:   0%|          | 0.00/190 [00:00<?, ?B/s]"
            ],
            "application/vnd.jupyter.widget-view+json": {
              "version_major": 2,
              "version_minor": 0,
              "model_id": "5ca075151c2b427ebd663fae3aea94e4"
            }
          },
          "metadata": {}
        }
      ]
    },
    {
      "cell_type": "markdown",
      "source": [
        "## Vector DB"
      ],
      "metadata": {
        "id": "09TG9FsGGt1f"
      }
    },
    {
      "cell_type": "code",
      "source": [
        "%%time\n",
        "### Make the chroma and persiste to disk\n",
        "# db = Chroma.from_texts(texts,\n",
        "#                        embedding_function,\n",
        "#                        persist_directory=\"./chroma_db\")\n",
        "\n",
        "\n",
        "\n",
        "### load from disk\n",
        "db = Chroma(persist_directory=\"./chroma_db\", embedding_function=embedding_function)\n",
        "\n",
        "\n",
        "\n"
      ],
      "metadata": {
        "id": "gdAljZyxG92C",
        "colab": {
          "base_uri": "https://localhost:8080/"
        },
        "outputId": "1b08d31b-ddab-46d6-96ea-1f5991740c25"
      },
      "execution_count": 19,
      "outputs": [
        {
          "output_type": "stream",
          "name": "stdout",
          "text": [
            "CPU times: user 1.37 s, sys: 54.2 ms, total: 1.42 s\n",
            "Wall time: 1.79 s\n"
          ]
        }
      ]
    },
    {
      "cell_type": "code",
      "source": [
        "### Save to zip\n",
        "# zip_folder('/content/chroma_db', 'chroma_db.zip')"
      ],
      "metadata": {
        "colab": {
          "base_uri": "https://localhost:8080/"
        },
        "id": "GRS1MI_fZ-89",
        "outputId": "01f0992c-8d5c-4002-b79e-fd9c0c7ed136"
      },
      "execution_count": null,
      "outputs": [
        {
          "output_type": "stream",
          "name": "stdout",
          "text": [
            "chroma_db.zip created successfully.\n"
          ]
        }
      ]
    },
    {
      "cell_type": "code",
      "source": [
        "query = \"Tell me about Universal Studios Singapore?\"\n",
        "\n",
        "db.similarity_search(query, k=5)"
      ],
      "metadata": {
        "colab": {
          "base_uri": "https://localhost:8080/"
        },
        "id": "WzCj8F8PuzyG",
        "outputId": "43c0ebff-8b97-4025-c9d0-90770f378778"
      },
      "execution_count": 20,
      "outputs": [
        {
          "output_type": "execute_result",
          "data": {
            "text/plain": [
              "[Document(page_content='Universal Studios Singapore'),\n",
              " Document(page_content='Universal Studios Singapore is a popular theme park that offers thrilling rides and entertainment for all ages. You can buy Universal Studios Singapore tickets and enjoy an unbeatable discount of 40% from MySingaporePass. The pass provides a hassle-free booking process, allowing you to skip the long queues and gain easy access to the park. Enjoy exhilarating roller coasters, live shows, and immersive themed zones inspired by your favorite movies. The discounted entry with My Singapore Pass'),\n",
              " Document(page_content='leisure/fun\\n\\nthings\\n\\nto\\n\\ndo/universal\\n\\nstudios\\n\\nsingapore/\\n\\nTitle: Universal Studios Singapore\\n\\nThe shimmering wonders of the silver screen comes to vivid life at Universal Studios Singapore, the first-ever Hollywood movie theme park in Southeast Asia.'),\n",
              " Document(page_content='The magic of Hollywood comes to life at Universal Studios Singapore (USS), a theme park filled with adrenaline-pumping rides, immersive live entertainment and a wide variety of attractions based on some of your favourite movie characters. Revisit childhood with your loved ones as you explore six distinct zones, from science-fiction worlds to the Jurassic era and ancient Egypt. We recommend visiting Far Far Away, modelled after the iconic world from the Shrek movie series. Check out shows like'),\n",
              " Document(page_content='Here are some of the top attractions that can be booked with the My Singapore Pass:\\n\\nUniversal Studios Singapore @ 40% Off')]"
            ]
          },
          "metadata": {},
          "execution_count": 20
        }
      ]
    },
    {
      "cell_type": "markdown",
      "source": [
        "## Setup a Retriever"
      ],
      "metadata": {
        "id": "A_Q6wbhaHCFY"
      }
    },
    {
      "cell_type": "code",
      "source": [
        "retriever = db.as_retriever(k=5) # can add mmr fetch_k=20, search_type=\"mmr\"\n",
        "\n",
        "retriever.get_relevant_documents(query)[1]"
      ],
      "metadata": {
        "id": "Yb4whROY5dC6",
        "colab": {
          "base_uri": "https://localhost:8080/"
        },
        "outputId": "6134cdcd-303a-40e7-ef8e-2f8f7a16b5c5"
      },
      "execution_count": 21,
      "outputs": [
        {
          "output_type": "stream",
          "name": "stderr",
          "text": [
            "/usr/local/lib/python3.10/dist-packages/langchain_core/_api/deprecation.py:139: LangChainDeprecationWarning: The method `BaseRetriever.get_relevant_documents` was deprecated in langchain-core 0.1.46 and will be removed in 0.3.0. Use invoke instead.\n",
            "  warn_deprecated(\n"
          ]
        },
        {
          "output_type": "execute_result",
          "data": {
            "text/plain": [
              "Document(page_content='Universal Studios Singapore is a popular theme park that offers thrilling rides and entertainment for all ages. You can buy Universal Studios Singapore tickets and enjoy an unbeatable discount of 40% from MySingaporePass. The pass provides a hassle-free booking process, allowing you to skip the long queues and gain easy access to the park. Enjoy exhilarating roller coasters, live shows, and immersive themed zones inspired by your favorite movies. The discounted entry with My Singapore Pass')"
            ]
          },
          "metadata": {},
          "execution_count": 21
        }
      ]
    },
    {
      "cell_type": "markdown",
      "source": [
        "## Chat chain"
      ],
      "metadata": {
        "id": "2Im-BIOGFuOY"
      }
    },
    {
      "cell_type": "code",
      "source": [
        "from operator import itemgetter\n",
        "\n",
        "from langchain.chat_models import ChatGooglePalm\n",
        "\n",
        "from langchain.prompts import ChatPromptTemplate\n",
        "from langchain.schema.output_parser import StrOutputParser\n",
        "from langchain.schema.runnable import RunnableLambda, RunnablePassthrough"
      ],
      "metadata": {
        "id": "Xg3Q51MKNTY0"
      },
      "execution_count": 22,
      "outputs": []
    },
    {
      "cell_type": "code",
      "source": [
        "\n",
        "template = \"\"\"Answer the question based only on the following context:\n",
        "{context}\n",
        "\n",
        "Question: {question}\n",
        "\"\"\"\n",
        "prompt = ChatPromptTemplate.from_template(template)\n",
        "\n",
        "model = ChatGooglePalm()"
      ],
      "metadata": {
        "id": "w5W4odwSFvZy"
      },
      "execution_count": 23,
      "outputs": []
    },
    {
      "cell_type": "code",
      "source": [
        "chain = (\n",
        "    {\"context\": retriever, \"question\": RunnablePassthrough()}\n",
        "    | prompt\n",
        "    | model\n",
        "    | StrOutputParser()\n",
        ")"
      ],
      "metadata": {
        "id": "cYxeU1OeHZcB"
      },
      "execution_count": 24,
      "outputs": []
    },
    {
      "cell_type": "code",
      "source": [
        "text_reply = chain.invoke(\"Tell me about Universal Studio Singapore\")\n",
        "\n",
        "print(wrap_text(text_reply))"
      ],
      "metadata": {
        "colab": {
          "base_uri": "https://localhost:8080/",
          "height": 746
        },
        "id": "6aHFCXHrHgpI",
        "outputId": "0d8fc02e-262a-40f3-cce4-ae77b711dd8d"
      },
      "execution_count": 25,
      "outputs": [
        {
          "output_type": "stream",
          "name": "stdout",
          "text": [
            "Universal Studios Singapore is a theme park located at Resorts World Sentosa on Sentosa\n",
            "Island, Singapore. It is the first Universal Studios theme park in Southeast Asia. The\n",
            "park opened on 18 September 2010, and is the second Universal Studios park to open in Asia\n",
            "after Universal Studios Japan.\n",
            "\n",
            "The park is divided into seven themed zones: Hollywood, New York, Sci-Fi City, Ancient\n",
            "Egypt, The Lost World, Far Far Away, and Madagascar. Each zone is home to a variety of\n",
            "rides, shows, and attractions based on popular movies and television shows.\n",
            "\n",
            "Some of the most popular rides at Universal Studios Singapore include:\n",
            "\n",
            "* The Mummy Ride: A roller coaster that takes guests on a journey through the tomb of\n",
            "Imhotep.\n",
            "* Transformers: The Ride-3D: A 3D motion simulator ride that puts guests in the middle of\n",
            "a battle between the Autobots and the Decepticons.\n",
            "* Jurassic Park Rapids Adventure: A water ride that takes guests on a journey through the\n",
            "Jurassic Park lagoon.\n",
            "* Shrek 4-D Adventure: A 4D motion simulator ride that takes guests on a journey through\n",
            "the world of Shrek.\n",
            "* Madagascar: A Crate Adventure: A family-friendly boat ride that takes guests on a\n",
            "journey through the world of Madagascar.\n",
            "\n",
            "In addition to rides, Universal Studios Singapore also features a variety of shows and\n",
            "attractions. Some of the most popular shows include:\n",
            "\n",
            "* The Universal's Animal Actors Show: A live show featuring trained animals performing\n",
            "stunts and tricks.\n",
            "* The Blue Man Group: A live performance by the Blue Man Group, a group of three bald men\n",
            "who perform music, comedy, and technology-based art.\n",
            "* Sesame Street Live!: A live show featuring characters from Sesame Street.\n",
            "\n",
            "Universal Studios Singapore is a popular tourist destination, and is one of the most\n",
            "popular theme parks in Southeast Asia. The park attracts visitors from all over the world,\n",
            "and is a great place to enjoy rides, shows, and attractions based on popular movies and\n",
            "television shows.\n",
            "\n",
            "You can buy Universal Studios Singapore tickets and enjoy an unbeatable discount of 40%\n",
            "from MySingaporePass. The pass provides a hassle-free booking process, allowing you to\n",
            "skip the long queues and gain easy access to the park. Enjoy exhilarating roller coasters,\n",
            "live shows, and immersive themed zones inspired by your favorite movies. The discounted\n",
            "entry with My Singapore Pass is a great way to save money and enjoy all that Universal\n",
            "Studios Singapore has to offer.\n"
          ]
        }
      ]
    },
    {
      "cell_type": "markdown",
      "source": [
        "## With RagFusion"
      ],
      "metadata": {
        "id": "6FRIkxHGb9Dy"
      }
    },
    {
      "cell_type": "code",
      "source": [
        "from langchain.chat_models import ChatGooglePalm\n",
        "from langchain.schema.output_parser import StrOutputParser\n",
        "from langchain.prompts import SystemMessagePromptTemplate, HumanMessagePromptTemplate\n",
        "from langchain.prompts import ChatMessagePromptTemplate, PromptTemplate"
      ],
      "metadata": {
        "id": "sbVhVYwXb_X5"
      },
      "execution_count": 26,
      "outputs": []
    },
    {
      "cell_type": "code",
      "source": [
        "prompt = ChatPromptTemplate(input_variables=['original_query'], messages=[SystemMessagePromptTemplate(prompt=PromptTemplate(input_variables=[], template='You are a helpful assistant that generates multiple search queries based on a single input query.')), HumanMessagePromptTemplate(prompt=PromptTemplate(input_variables=['original_query'], template='Generate multiple search queries related to: {question} \\n OUTPUT (4 queries):'))])"
      ],
      "metadata": {
        "id": "8uGvc1E2cN7S"
      },
      "execution_count": 27,
      "outputs": []
    },
    {
      "cell_type": "code",
      "source": [
        "# prompt = ChatPromptTemplate.from_messages([\n",
        "#     (\"system\", \"You are a helpful assistant that generates multiple search queries based on a single input query.\"),\n",
        "#     (\"user\", \"Generate multiple search queries related to: {question}/n OUTPUT (4 queries):\"),\n",
        "# ])\n",
        "\n",
        "prompt"
      ],
      "metadata": {
        "colab": {
          "base_uri": "https://localhost:8080/"
        },
        "id": "KxR6yKFJdgTT",
        "outputId": "34ac696c-03bf-4805-e0ec-44758f879689"
      },
      "execution_count": 28,
      "outputs": [
        {
          "output_type": "execute_result",
          "data": {
            "text/plain": [
              "ChatPromptTemplate(input_variables=['question'], messages=[SystemMessagePromptTemplate(prompt=PromptTemplate(input_variables=[], template='You are a helpful assistant that generates multiple search queries based on a single input query.')), HumanMessagePromptTemplate(prompt=PromptTemplate(input_variables=['question'], template='Generate multiple search queries related to: {question} \\n OUTPUT (4 queries):'))])"
            ]
          },
          "metadata": {},
          "execution_count": 28
        }
      ]
    },
    {
      "cell_type": "code",
      "source": [
        "generate_queries = (\n",
        "    prompt | ChatGooglePalm(temperature=0) | StrOutputParser() | (lambda x: x.split(\"\\n\"))\n",
        ")"
      ],
      "metadata": {
        "id": "Q71Fs_sFcXOO"
      },
      "execution_count": 29,
      "outputs": []
    },
    {
      "cell_type": "code",
      "source": [
        "original_query = \"universal studios Singapore\""
      ],
      "metadata": {
        "id": "ZqlMkWance2k"
      },
      "execution_count": 30,
      "outputs": []
    },
    {
      "cell_type": "code",
      "source": [
        "from langchain.load import dumps, loads\n",
        "\n",
        "\n",
        "def reciprocal_rank_fusion(results: list[list], k=60):\n",
        "    fused_scores = {}\n",
        "    for docs in results:\n",
        "        # Assumes the docs are returned in sorted order of relevance\n",
        "        for rank, doc in enumerate(docs):\n",
        "            doc_str = dumps(doc)\n",
        "            if doc_str not in fused_scores:\n",
        "                fused_scores[doc_str] = 0\n",
        "            previous_score = fused_scores[doc_str]\n",
        "            fused_scores[doc_str] += 1 / (rank + k)\n",
        "\n",
        "    reranked_results = [\n",
        "        (loads(doc), score)\n",
        "        for doc, score in sorted(fused_scores.items(), key=lambda x: x[1], reverse=True)\n",
        "    ]\n",
        "    return reranked_results"
      ],
      "metadata": {
        "id": "wxv9EXxpczgA"
      },
      "execution_count": 31,
      "outputs": []
    },
    {
      "cell_type": "code",
      "source": [
        "ragfusion_chain = generate_queries | retriever.map() | reciprocal_rank_fusion"
      ],
      "metadata": {
        "id": "C1TYLuNNc1Mz"
      },
      "execution_count": 32,
      "outputs": []
    },
    {
      "cell_type": "code",
      "source": [
        "langchain.debug = True"
      ],
      "metadata": {
        "id": "_PPYsBf2g8TR"
      },
      "execution_count": 33,
      "outputs": []
    },
    {
      "cell_type": "code",
      "source": [
        "ragfusion_chain.input_schema.schema()"
      ],
      "metadata": {
        "colab": {
          "base_uri": "https://localhost:8080/"
        },
        "id": "UZbsNg7EhfbP",
        "outputId": "433c90c3-6b9f-4953-f864-b857014d5091"
      },
      "execution_count": 34,
      "outputs": [
        {
          "output_type": "execute_result",
          "data": {
            "text/plain": [
              "{'title': 'PromptInput',\n",
              " 'type': 'object',\n",
              " 'properties': {'question': {'title': 'Question', 'type': 'string'}}}"
            ]
          },
          "metadata": {},
          "execution_count": 34
        }
      ]
    },
    {
      "cell_type": "code",
      "source": [
        "ragfusion_chain.invoke({\"question\": original_query})"
      ],
      "metadata": {
        "colab": {
          "base_uri": "https://localhost:8080/",
          "height": 1000
        },
        "id": "tsQWIOjVc5gt",
        "outputId": "66e22c33-d644-4627-a2a4-77ad6f9cc092"
      },
      "execution_count": 35,
      "outputs": [
        {
          "output_type": "stream",
          "name": "stdout",
          "text": [
            "\u001b[32;1m\u001b[1;3m[chain/start]\u001b[0m \u001b[1m[chain:RunnableSequence] Entering Chain run with input:\n",
            "\u001b[0m{\n",
            "  \"question\": \"universal studios Singapore\"\n",
            "}\n",
            "\u001b[32;1m\u001b[1;3m[chain/start]\u001b[0m \u001b[1m[chain:RunnableSequence > prompt:ChatPromptTemplate] Entering Prompt run with input:\n",
            "\u001b[0m{\n",
            "  \"question\": \"universal studios Singapore\"\n",
            "}\n",
            "\u001b[36;1m\u001b[1;3m[chain/end]\u001b[0m \u001b[1m[chain:RunnableSequence > prompt:ChatPromptTemplate] [1ms] Exiting Prompt run with output:\n",
            "\u001b[0m[outputs]\n",
            "\u001b[32;1m\u001b[1;3m[llm/start]\u001b[0m \u001b[1m[chain:RunnableSequence > llm:ChatGooglePalm] Entering LLM run with input:\n",
            "\u001b[0m{\n",
            "  \"prompts\": [\n",
            "    \"System: You are a helpful assistant that generates multiple search queries based on a single input query.\\nHuman: Generate multiple search queries related to: universal studios Singapore \\n OUTPUT (4 queries):\"\n",
            "  ]\n",
            "}\n",
            "\u001b[36;1m\u001b[1;3m[llm/end]\u001b[0m \u001b[1m[chain:RunnableSequence > llm:ChatGooglePalm] [4.33s] Exiting LLM run with output:\n",
            "\u001b[0m{\n",
            "  \"generations\": [\n",
            "    [\n",
            "      {\n",
            "        \"text\": \"Here are 4 search queries related to Universal Studios Singapore:\\n\\n1. What are the rides at Universal Studios Singapore?\\n2. How much does it cost to go to Universal Studios Singapore?\\n3. What are the best things to do at Universal Studios Singapore?\\n4. What is the best time of year to visit Universal Studios Singapore?\\n\\nI hope this helps!\",\n",
            "        \"generation_info\": null,\n",
            "        \"type\": \"ChatGeneration\",\n",
            "        \"message\": {\n",
            "          \"lc\": 1,\n",
            "          \"type\": \"constructor\",\n",
            "          \"id\": [\n",
            "            \"langchain\",\n",
            "            \"schema\",\n",
            "            \"messages\",\n",
            "            \"ChatMessage\"\n",
            "          ],\n",
            "          \"kwargs\": {\n",
            "            \"content\": \"Here are 4 search queries related to Universal Studios Singapore:\\n\\n1. What are the rides at Universal Studios Singapore?\\n2. How much does it cost to go to Universal Studios Singapore?\\n3. What are the best things to do at Universal Studios Singapore?\\n4. What is the best time of year to visit Universal Studios Singapore?\\n\\nI hope this helps!\",\n",
            "            \"type\": \"chat\",\n",
            "            \"id\": \"run-286c4dd6-4c4c-4e24-87e8-f4bda614eab4-0\",\n",
            "            \"role\": \"1\"\n",
            "          }\n",
            "        }\n",
            "      }\n",
            "    ]\n",
            "  ],\n",
            "  \"llm_output\": null,\n",
            "  \"run\": null\n",
            "}\n",
            "\u001b[32;1m\u001b[1;3m[chain/start]\u001b[0m \u001b[1m[chain:RunnableSequence > parser:StrOutputParser] Entering Parser run with input:\n",
            "\u001b[0m[inputs]\n",
            "\u001b[36;1m\u001b[1;3m[chain/end]\u001b[0m \u001b[1m[chain:RunnableSequence > parser:StrOutputParser] [0ms] Exiting Parser run with output:\n",
            "\u001b[0m{\n",
            "  \"output\": \"Here are 4 search queries related to Universal Studios Singapore:\\n\\n1. What are the rides at Universal Studios Singapore?\\n2. How much does it cost to go to Universal Studios Singapore?\\n3. What are the best things to do at Universal Studios Singapore?\\n4. What is the best time of year to visit Universal Studios Singapore?\\n\\nI hope this helps!\"\n",
            "}\n",
            "\u001b[32;1m\u001b[1;3m[chain/start]\u001b[0m \u001b[1m[chain:RunnableSequence > chain:RunnableLambda] Entering Chain run with input:\n",
            "\u001b[0m{\n",
            "  \"input\": \"Here are 4 search queries related to Universal Studios Singapore:\\n\\n1. What are the rides at Universal Studios Singapore?\\n2. How much does it cost to go to Universal Studios Singapore?\\n3. What are the best things to do at Universal Studios Singapore?\\n4. What is the best time of year to visit Universal Studios Singapore?\\n\\nI hope this helps!\"\n",
            "}\n",
            "\u001b[36;1m\u001b[1;3m[chain/end]\u001b[0m \u001b[1m[chain:RunnableSequence > chain:RunnableLambda] [1ms] Exiting Chain run with output:\n",
            "\u001b[0m{\n",
            "  \"output\": [\n",
            "    \"Here are 4 search queries related to Universal Studios Singapore:\",\n",
            "    \"\",\n",
            "    \"1. What are the rides at Universal Studios Singapore?\",\n",
            "    \"2. How much does it cost to go to Universal Studios Singapore?\",\n",
            "    \"3. What are the best things to do at Universal Studios Singapore?\",\n",
            "    \"4. What is the best time of year to visit Universal Studios Singapore?\",\n",
            "    \"\",\n",
            "    \"I hope this helps!\"\n",
            "  ]\n",
            "}\n",
            "\u001b[32;1m\u001b[1;3m[chain/start]\u001b[0m \u001b[1m[chain:RunnableSequence > chain:RunnableEach<VectorStoreRetriever>] Entering Chain run with input:\n",
            "\u001b[0m{\n",
            "  \"input\": [\n",
            "    \"Here are 4 search queries related to Universal Studios Singapore:\",\n",
            "    \"\",\n",
            "    \"1. What are the rides at Universal Studios Singapore?\",\n",
            "    \"2. How much does it cost to go to Universal Studios Singapore?\",\n",
            "    \"3. What are the best things to do at Universal Studios Singapore?\",\n",
            "    \"4. What is the best time of year to visit Universal Studios Singapore?\",\n",
            "    \"\",\n",
            "    \"I hope this helps!\"\n",
            "  ]\n",
            "}\n",
            "\u001b[36;1m\u001b[1;3m[chain/end]\u001b[0m \u001b[1m[chain:RunnableSequence > chain:RunnableEach<VectorStoreRetriever>] [178ms] Exiting Chain run with output:\n",
            "\u001b[0m[outputs]\n",
            "\u001b[32;1m\u001b[1;3m[chain/start]\u001b[0m \u001b[1m[chain:RunnableSequence > chain:reciprocal_rank_fusion] Entering Chain run with input:\n",
            "\u001b[0m[inputs]\n",
            "\u001b[36;1m\u001b[1;3m[chain/end]\u001b[0m \u001b[1m[chain:RunnableSequence > chain:reciprocal_rank_fusion] [43ms] Exiting Chain run with output:\n",
            "\u001b[0m[outputs]\n",
            "\u001b[36;1m\u001b[1;3m[chain/end]\u001b[0m \u001b[1m[chain:RunnableSequence] [4.56s] Exiting Chain run with output:\n",
            "\u001b[0m[outputs]\n"
          ]
        },
        {
          "output_type": "stream",
          "name": "stderr",
          "text": [
            "/usr/local/lib/python3.10/dist-packages/langchain_core/_api/beta_decorator.py:87: LangChainBetaWarning: The function `loads` is in beta. It is actively being worked on, so the API may change.\n",
            "  warn_beta(\n"
          ]
        },
        {
          "output_type": "execute_result",
          "data": {
            "text/plain": [
              "[(Document(page_content='Universal Studios Singapore'), 0.06666666666666667),\n",
              " (Document(page_content='Universal Studios Singapore is a popular theme park that offers thrilling rides and entertainment for all ages. You can buy Universal Studios Singapore tickets and enjoy an unbeatable discount of 40% from MySingaporePass. The pass provides a hassle-free booking process, allowing you to skip the long queues and gain easy access to the park. Enjoy exhilarating roller coasters, live shows, and immersive themed zones inspired by your favorite movies. The discounted entry with My Singapore Pass'),\n",
              "  0.06558258417063283),\n",
              " (Document(page_content='Here are some of the top attractions that can be booked with the My Singapore Pass:\\n\\nUniversal Studios Singapore @ 40% Off'),\n",
              "  0.048651507139079855),\n",
              " (Document(page_content='leisure/fun\\n\\nthings\\n\\nto\\n\\ndo/universal\\n\\nstudios\\n\\nsingapore/\\n\\nTitle: Universal Studios Singapore\\n\\nThe shimmering wonders of the silver screen comes to vivid life at Universal Studios Singapore, the first-ever Hollywood movie theme park in Southeast Asia.'),\n",
              "  0.04813947436898257),\n",
              " (Document(page_content='Title: Crossroads: A Popular History of Malaysia and Singapore — Hello! Singapore Tours\\n\\n\"Baker\\'s thrilling book profits from his refusal to separate Singapore\\'s history from Malaysia\\'s. What we get is a broad story filled with surprising details drawn from his own experiences and from other scholarly works, and told in an easy and captivating style.\"\\n\\n— Dr Ooi Kee Beng, Fellow at the Institute of Southeast Asian Studies, Singapore'),\n",
              "  0.03333333333333333),\n",
              " (Document(page_content='Title: SingapoRewards\\n\\nシンガポールを探検しませんか？\\n\\n無料で！\\n\\n無料のアクティビティ券を利用して、シンガポール旅行をもっと楽しみましょう。絶景サイクリングから爽快なカヤックでのアドベンチャーまで、ユニークなアクティビティの数々を厳選しました。\\n\\nシンガポール・リワードを使って、旅行者1名様につき1つの無料アクティビティをお選びいただけます。シンガポール行きのフライトを予約したら、対象リストからお好きなアクティビティを選んでシンガポール・リワードを使いましょう。\\n\\nでは、シンガポールでお会いしましょう！Link: https://www.visitsingapore.com/editorials/must\\n\\nvisit\\n\\nmuseums\\n\\nfor\\n\\nart\\n\\nmemorabilia/\\n\\nTitle: Must-visit museums for art memorabilia'),\n",
              "  0.03278688524590164),\n",
              " (Document(page_content='Must-visit attractions such as the Universal Studios Singapore are probably already on your itinerary, but be sure not to miss out on kids’ priced tickets (one-day passes are S$56 for children aged four to 12) and kids’ events while you’re there. Start your day sunny when you get to Sesame Street—have breakfast with your favourite characters from the show, pose for family photos and play plenty of fun games.Link: https://www.visitsingapore.com/mice/en/plan\\n\\nyour\\n\\nevent/assistance\\n\\nschemes/'),\n",
              "  0.032266458495966696),\n",
              " (Document(page_content='The magic of Hollywood comes to life at Universal Studios Singapore (USS), a theme park filled with adrenaline-pumping rides, immersive live entertainment and a wide variety of attractions based on some of your favourite movie characters. Revisit childhood with your loved ones as you explore six distinct zones, from science-fiction worlds to the Jurassic era and ancient Egypt. We recommend visiting Far Far Away, modelled after the iconic world from the Shrek movie series. Check out shows like'),\n",
              "  0.03225806451612903),\n",
              " (Document(page_content='Title: 881 — Hello! Singapore Tours\\n\\nThe story of two childhood friends who grew up mesmerized by the glitter and glamour of getai. They are The Papaya Sisters, two of the showiest performers on the circuit because the \"song stage\" with all its pomp and pageantry is a respite from the emptiness and dreariness of their own lives.Link: https://www.visitsingapore.com/see\\n\\ndo\\n\\nsingapore/socialiser/\\n\\nTitle: Drinking in the city\\n\\nDrinking\\n\\nin the city'),\n",
              "  0.03225806451612903),\n",
              " (Document(page_content='question: How do we make this island succeed? Two recurrent themes emerge from this gripping account. First, that Singapore was an unlikely or accidental nation-state; and second, that given its vulnerability to wider regional and international forces, it survived and flourished only because it was able to constantly change and adapt to make itself useful and relevant to the world. And what of tomorrow? Will Singapore survive? This book is a hopeful response to these questions.'),\n",
              "  0.031746031746031744),\n",
              " (Document(page_content='PIN IT FOR LATER!\\n\\nHover over the image below, and press the red “Save” button that pops up:\\n\\nDo you like pancakes? Would you eat it if you went to Tokyo, or would you just eat Japanese food? Please share your thoughts in the comment area below. If you enjoyed this post and found it useful, please share it on social media! Thanks! 🙂\\n\\n[text\\n\\nblocks id=”affiliate” plain=1]Link: https://www.hellosingaporetours.com/blog/the\\n\\nleap\\n\\nyears\\n\\nTitle: The Leap Years — Hello! Singapore Tours'),\n",
              "  0.016666666666666666),\n",
              " (Document(page_content=\"PIN IT FOR LATER!\\n\\nHover over the image below, and press the red “Save” button that pops up:\\n\\nHave you been to a temple or shrine area? Did you like it, or did you think it was too much? We`d love to hear from you. Please leave a comment in the comment area below! If you enjoyed this, please share on social media! Thanks! 🙂Link: https://www.visitsingapore.com/travel\\n\\nguide\\n\\ntips/getting\\n\\naround/tourist\\n\\nguide\\n\\nmaps\\n\\napps/\\n\\nTitle: Singapore's Maps, Apps & City Tour Guides\"),\n",
              "  0.01639344262295082),\n",
              " (Document(page_content='#orientationtourinSG #SGlocal #SGexpat #exploreSG #discoverSG #iloveSG #sgmovers #essentialappsinsg #expatmusthave #SGmovers #newlocalsg #sgresident #newresident #travelnow #travelSG #exploreSG #discoversingapore #discoverSG #supportlocal #lioncity #littlereddot #postcovidtravels #postcoviddestination #travel #essentialsgLink: https://www.visitsingapore.com/dining\\n\\ndrinks\\n\\nsingapore/local\\n\\ndishes/fried\\n\\nkway\\n\\nteow/\\n\\nTitle: Fried Kway Teow'),\n",
              "  0.016129032258064516),\n",
              " (Document(page_content='Thrill-seeking families who want to experience new heights of adventure have endless options on our sunny island. We recommend a visit to Universal Studios Singapore — With 24 movie-themed rides and a host of family-friendly activities, you can be sure that the fun and excitement never ceases at this world-class theme park. Alternatively, take a walk on the wild side at the Night Safari, where you’ll come face-to-face with over 2,500 nocturnal animals. Universal Studios Singapore. 8 Sentosa'),\n",
              "  0.015873015873015872),\n",
              " (Document(page_content='Mon 8am\\n\\n7pm; Tue\\n\\nSun 8am\\n\\n8pm.\\n\\n6. Seek thrills for the entire family\\n\\nSoutheast Asia’s first and only Universal Studios theme park features 24 rides and attractions across seven themed zones, based on blockbuster movies and TV characters. Have breakfast with Elmo from Sesame Street, or join the characters from Shrek on a 4D adventure. Universal Studios Singapore, Sentosa Island. 8 Sentosa Gateway, Singapore 098269.\\n\\nDaily 10am.\\n\\n7. Be one with nature'),\n",
              "  0.015873015873015872),\n",
              " (Document(page_content='If you’re looking to visit The UAE but are unsure of what to pack, I’d recommend reading my UAE packing guide. It’s full of helpful suggestions for clothing, footwear and other items that might come in handy!\\n\\nEnjoyed this post? Why not pin it for later…Link: https://www.visitsingapore.com/see\\n\\ndo\\n\\nsingapore/history/history\\n\\nmuseums/singapore\\n\\ncity\\n\\ngallery/\\n\\nTitle: Singapore City Gallery'),\n",
              "  0.015873015873015872)]"
            ]
          },
          "metadata": {},
          "execution_count": 35
        }
      ]
    },
    {
      "cell_type": "code",
      "source": [
        "from langchain.schema.runnable import RunnablePassthrough\n",
        "template = \"\"\"Answer the question based only on the following context:\n",
        "{context}\n",
        "\n",
        "Question: {question}\n",
        "\"\"\"\n",
        "prompt = ChatPromptTemplate.from_template(template)\n",
        "\n",
        "full_rag_fusion_chain = (\n",
        "    {\n",
        "        \"context\": ragfusion_chain,\n",
        "        \"question\": RunnablePassthrough()\n",
        "    }\n",
        "    | prompt\n",
        "    | model\n",
        "    | StrOutputParser()\n",
        ")"
      ],
      "metadata": {
        "id": "8_YX1u6lc7nB"
      },
      "execution_count": 36,
      "outputs": []
    },
    {
      "cell_type": "code",
      "source": [
        "full_rag_fusion_chain.input_schema.schema()"
      ],
      "metadata": {
        "colab": {
          "base_uri": "https://localhost:8080/"
        },
        "id": "9dFNAi7vhool",
        "outputId": "41b7b6da-3f70-4d84-a435-d26a4653cde1"
      },
      "execution_count": 37,
      "outputs": [
        {
          "output_type": "execute_result",
          "data": {
            "text/plain": [
              "{'title': 'RunnableParallel<context,question>Input',\n",
              " 'type': 'object',\n",
              " 'properties': {'question': {'title': 'Question', 'type': 'string'}}}"
            ]
          },
          "metadata": {},
          "execution_count": 37
        }
      ]
    },
    {
      "cell_type": "code",
      "source": [
        "full_rag_fusion_chain.invoke({\"question\": \"Tell me about Universal Studio Singapore?\"})"
      ],
      "metadata": {
        "colab": {
          "base_uri": "https://localhost:8080/",
          "height": 1000
        },
        "id": "04iV9SY0fAz0",
        "outputId": "f0706372-4ba8-4ebc-8f0b-e403e8648d9e"
      },
      "execution_count": 38,
      "outputs": [
        {
          "output_type": "stream",
          "name": "stdout",
          "text": [
            "\u001b[32;1m\u001b[1;3m[chain/start]\u001b[0m \u001b[1m[chain:RunnableSequence] Entering Chain run with input:\n",
            "\u001b[0m{\n",
            "  \"question\": \"Tell me about Universal Studio Singapore?\"\n",
            "}\n",
            "\u001b[32;1m\u001b[1;3m[chain/start]\u001b[0m \u001b[1m[chain:RunnableSequence > chain:RunnableParallel<context,question>] Entering Chain run with input:\n",
            "\u001b[0m{\n",
            "  \"question\": \"Tell me about Universal Studio Singapore?\"\n",
            "}\n",
            "\u001b[32;1m\u001b[1;3m[chain/start]\u001b[0m \u001b[1m[chain:RunnableSequence > chain:RunnableParallel<context,question> > chain:RunnableSequence] Entering Chain run with input:\n",
            "\u001b[0m{\n",
            "  \"question\": \"Tell me about Universal Studio Singapore?\"\n",
            "}\n",
            "\u001b[32;1m\u001b[1;3m[chain/start]\u001b[0m \u001b[1m[chain:RunnableSequence > chain:RunnableParallel<context,question> > chain:RunnableSequence > prompt:ChatPromptTemplate] Entering Prompt run with input:\n",
            "\u001b[0m{\n",
            "  \"question\": \"Tell me about Universal Studio Singapore?\"\n",
            "}\n",
            "\u001b[36;1m\u001b[1;3m[chain/end]\u001b[0m \u001b[1m[chain:RunnableSequence > chain:RunnableParallel<context,question> > chain:RunnableSequence > prompt:ChatPromptTemplate] [1ms] Exiting Prompt run with output:\n",
            "\u001b[0m[outputs]\n",
            "\u001b[32;1m\u001b[1;3m[llm/start]\u001b[0m \u001b[1m[chain:RunnableSequence > chain:RunnableParallel<context,question> > chain:RunnableSequence > llm:ChatGooglePalm] Entering LLM run with input:\n",
            "\u001b[0m{\n",
            "  \"prompts\": [\n",
            "    \"System: You are a helpful assistant that generates multiple search queries based on a single input query.\\nHuman: Generate multiple search queries related to: Tell me about Universal Studio Singapore? \\n OUTPUT (4 queries):\"\n",
            "  ]\n",
            "}\n",
            "\u001b[32;1m\u001b[1;3m[chain/start]\u001b[0m \u001b[1m[chain:RunnableSequence > chain:RunnableParallel<context,question> > chain:RunnablePassthrough] Entering Chain run with input:\n",
            "\u001b[0m{\n",
            "  \"question\": \"Tell me about Universal Studio Singapore?\"\n",
            "}\n",
            "\u001b[36;1m\u001b[1;3m[chain/end]\u001b[0m \u001b[1m[chain:RunnableSequence > chain:RunnableParallel<context,question> > chain:RunnablePassthrough] [0ms] Exiting Chain run with output:\n",
            "\u001b[0m{\n",
            "  \"question\": \"Tell me about Universal Studio Singapore?\"\n",
            "}\n",
            "\u001b[36;1m\u001b[1;3m[llm/end]\u001b[0m \u001b[1m[chain:RunnableSequence > chain:RunnableParallel<context,question> > chain:RunnableSequence > llm:ChatGooglePalm] [6.72s] Exiting LLM run with output:\n",
            "\u001b[0m{\n",
            "  \"generations\": [\n",
            "    [\n",
            "      {\n",
            "        \"text\": \"Here are 4 search queries related to \\\"Tell me about Universal Studio Singapore\\\":\\n\\n1. What are the rides and attractions at Universal Studios Singapore?\\n2. What are the best times to visit Universal Studios Singapore?\\n3. How much does it cost to visit Universal Studios Singapore?\\n4. What are some tips for visiting Universal Studios Singapore?\\n\\nHere are some additional details about each query:\\n\\n1. Universal Studios Singapore has a variety of rides and attractions, including roller coasters, water rides, and live shows. Some of the most popular rides include the Battlestar Galactica roller coasters, the Revenge of the Mummy roller coaster, and the Jurassic Park Rapids Adventure water ride.\\n2. The best times to visit Universal Studios Singapore are during the week, when the park is less crowded. The park is also less crowded in the morning and evening.\\n3. The cost of a one-day ticket to Universal Studios Singapore is S$79 for adults and S$59 for children. There are also discounts available for online bookings and for purchasing tickets in advance.\\n4. Some tips for visiting Universal Studios Singapore include: planning your day in advance, wearing comfortable shoes, and bringing sunscreen and a hat. You should also be aware that the park is very large and it can take a long time to walk from one attraction to another.\",\n",
            "        \"generation_info\": null,\n",
            "        \"type\": \"ChatGeneration\",\n",
            "        \"message\": {\n",
            "          \"lc\": 1,\n",
            "          \"type\": \"constructor\",\n",
            "          \"id\": [\n",
            "            \"langchain\",\n",
            "            \"schema\",\n",
            "            \"messages\",\n",
            "            \"ChatMessage\"\n",
            "          ],\n",
            "          \"kwargs\": {\n",
            "            \"content\": \"Here are 4 search queries related to \\\"Tell me about Universal Studio Singapore\\\":\\n\\n1. What are the rides and attractions at Universal Studios Singapore?\\n2. What are the best times to visit Universal Studios Singapore?\\n3. How much does it cost to visit Universal Studios Singapore?\\n4. What are some tips for visiting Universal Studios Singapore?\\n\\nHere are some additional details about each query:\\n\\n1. Universal Studios Singapore has a variety of rides and attractions, including roller coasters, water rides, and live shows. Some of the most popular rides include the Battlestar Galactica roller coasters, the Revenge of the Mummy roller coaster, and the Jurassic Park Rapids Adventure water ride.\\n2. The best times to visit Universal Studios Singapore are during the week, when the park is less crowded. The park is also less crowded in the morning and evening.\\n3. The cost of a one-day ticket to Universal Studios Singapore is S$79 for adults and S$59 for children. There are also discounts available for online bookings and for purchasing tickets in advance.\\n4. Some tips for visiting Universal Studios Singapore include: planning your day in advance, wearing comfortable shoes, and bringing sunscreen and a hat. You should also be aware that the park is very large and it can take a long time to walk from one attraction to another.\",\n",
            "            \"type\": \"chat\",\n",
            "            \"id\": \"run-c103355a-3566-4bca-80ed-38aa1c43957e-0\",\n",
            "            \"role\": \"1\"\n",
            "          }\n",
            "        }\n",
            "      }\n",
            "    ]\n",
            "  ],\n",
            "  \"llm_output\": null,\n",
            "  \"run\": null\n",
            "}\n",
            "\u001b[32;1m\u001b[1;3m[chain/start]\u001b[0m \u001b[1m[chain:RunnableSequence > chain:RunnableParallel<context,question> > chain:RunnableSequence > parser:StrOutputParser] Entering Parser run with input:\n",
            "\u001b[0m[inputs]\n",
            "\u001b[36;1m\u001b[1;3m[chain/end]\u001b[0m \u001b[1m[chain:RunnableSequence > chain:RunnableParallel<context,question> > chain:RunnableSequence > parser:StrOutputParser] [0ms] Exiting Parser run with output:\n",
            "\u001b[0m{\n",
            "  \"output\": \"Here are 4 search queries related to \\\"Tell me about Universal Studio Singapore\\\":\\n\\n1. What are the rides and attractions at Universal Studios Singapore?\\n2. What are the best times to visit Universal Studios Singapore?\\n3. How much does it cost to visit Universal Studios Singapore?\\n4. What are some tips for visiting Universal Studios Singapore?\\n\\nHere are some additional details about each query:\\n\\n1. Universal Studios Singapore has a variety of rides and attractions, including roller coasters, water rides, and live shows. Some of the most popular rides include the Battlestar Galactica roller coasters, the Revenge of the Mummy roller coaster, and the Jurassic Park Rapids Adventure water ride.\\n2. The best times to visit Universal Studios Singapore are during the week, when the park is less crowded. The park is also less crowded in the morning and evening.\\n3. The cost of a one-day ticket to Universal Studios Singapore is S$79 for adults and S$59 for children. There are also discounts available for online bookings and for purchasing tickets in advance.\\n4. Some tips for visiting Universal Studios Singapore include: planning your day in advance, wearing comfortable shoes, and bringing sunscreen and a hat. You should also be aware that the park is very large and it can take a long time to walk from one attraction to another.\"\n",
            "}\n",
            "\u001b[32;1m\u001b[1;3m[chain/start]\u001b[0m \u001b[1m[chain:RunnableSequence > chain:RunnableParallel<context,question> > chain:RunnableSequence > chain:RunnableLambda] Entering Chain run with input:\n",
            "\u001b[0m{\n",
            "  \"input\": \"Here are 4 search queries related to \\\"Tell me about Universal Studio Singapore\\\":\\n\\n1. What are the rides and attractions at Universal Studios Singapore?\\n2. What are the best times to visit Universal Studios Singapore?\\n3. How much does it cost to visit Universal Studios Singapore?\\n4. What are some tips for visiting Universal Studios Singapore?\\n\\nHere are some additional details about each query:\\n\\n1. Universal Studios Singapore has a variety of rides and attractions, including roller coasters, water rides, and live shows. Some of the most popular rides include the Battlestar Galactica roller coasters, the Revenge of the Mummy roller coaster, and the Jurassic Park Rapids Adventure water ride.\\n2. The best times to visit Universal Studios Singapore are during the week, when the park is less crowded. The park is also less crowded in the morning and evening.\\n3. The cost of a one-day ticket to Universal Studios Singapore is S$79 for adults and S$59 for children. There are also discounts available for online bookings and for purchasing tickets in advance.\\n4. Some tips for visiting Universal Studios Singapore include: planning your day in advance, wearing comfortable shoes, and bringing sunscreen and a hat. You should also be aware that the park is very large and it can take a long time to walk from one attraction to another.\"\n",
            "}\n",
            "\u001b[36;1m\u001b[1;3m[chain/end]\u001b[0m \u001b[1m[chain:RunnableSequence > chain:RunnableParallel<context,question> > chain:RunnableSequence > chain:RunnableLambda] [0ms] Exiting Chain run with output:\n",
            "\u001b[0m{\n",
            "  \"output\": [\n",
            "    \"Here are 4 search queries related to \\\"Tell me about Universal Studio Singapore\\\":\",\n",
            "    \"\",\n",
            "    \"1. What are the rides and attractions at Universal Studios Singapore?\",\n",
            "    \"2. What are the best times to visit Universal Studios Singapore?\",\n",
            "    \"3. How much does it cost to visit Universal Studios Singapore?\",\n",
            "    \"4. What are some tips for visiting Universal Studios Singapore?\",\n",
            "    \"\",\n",
            "    \"Here are some additional details about each query:\",\n",
            "    \"\",\n",
            "    \"1. Universal Studios Singapore has a variety of rides and attractions, including roller coasters, water rides, and live shows. Some of the most popular rides include the Battlestar Galactica roller coasters, the Revenge of the Mummy roller coaster, and the Jurassic Park Rapids Adventure water ride.\",\n",
            "    \"2. The best times to visit Universal Studios Singapore are during the week, when the park is less crowded. The park is also less crowded in the morning and evening.\",\n",
            "    \"3. The cost of a one-day ticket to Universal Studios Singapore is S$79 for adults and S$59 for children. There are also discounts available for online bookings and for purchasing tickets in advance.\",\n",
            "    \"4. Some tips for visiting Universal Studios Singapore include: planning your day in advance, wearing comfortable shoes, and bringing sunscreen and a hat. You should also be aware that the park is very large and it can take a long time to walk from one attraction to another.\"\n",
            "  ]\n",
            "}\n",
            "\u001b[32;1m\u001b[1;3m[chain/start]\u001b[0m \u001b[1m[chain:RunnableSequence > chain:RunnableParallel<context,question> > chain:RunnableSequence > chain:RunnableEach<VectorStoreRetriever>] Entering Chain run with input:\n",
            "\u001b[0m{\n",
            "  \"input\": [\n",
            "    \"Here are 4 search queries related to \\\"Tell me about Universal Studio Singapore\\\":\",\n",
            "    \"\",\n",
            "    \"1. What are the rides and attractions at Universal Studios Singapore?\",\n",
            "    \"2. What are the best times to visit Universal Studios Singapore?\",\n",
            "    \"3. How much does it cost to visit Universal Studios Singapore?\",\n",
            "    \"4. What are some tips for visiting Universal Studios Singapore?\",\n",
            "    \"\",\n",
            "    \"Here are some additional details about each query:\",\n",
            "    \"\",\n",
            "    \"1. Universal Studios Singapore has a variety of rides and attractions, including roller coasters, water rides, and live shows. Some of the most popular rides include the Battlestar Galactica roller coasters, the Revenge of the Mummy roller coaster, and the Jurassic Park Rapids Adventure water ride.\",\n",
            "    \"2. The best times to visit Universal Studios Singapore are during the week, when the park is less crowded. The park is also less crowded in the morning and evening.\",\n",
            "    \"3. The cost of a one-day ticket to Universal Studios Singapore is S$79 for adults and S$59 for children. There are also discounts available for online bookings and for purchasing tickets in advance.\",\n",
            "    \"4. Some tips for visiting Universal Studios Singapore include: planning your day in advance, wearing comfortable shoes, and bringing sunscreen and a hat. You should also be aware that the park is very large and it can take a long time to walk from one attraction to another.\"\n",
            "  ]\n",
            "}\n",
            "\u001b[36;1m\u001b[1;3m[chain/end]\u001b[0m \u001b[1m[chain:RunnableSequence > chain:RunnableParallel<context,question> > chain:RunnableSequence > chain:RunnableEach<VectorStoreRetriever>] [301ms] Exiting Chain run with output:\n",
            "\u001b[0m[outputs]\n",
            "\u001b[32;1m\u001b[1;3m[chain/start]\u001b[0m \u001b[1m[chain:RunnableSequence > chain:RunnableParallel<context,question> > chain:RunnableSequence > chain:reciprocal_rank_fusion] Entering Chain run with input:\n",
            "\u001b[0m[inputs]\n",
            "\u001b[36;1m\u001b[1;3m[chain/end]\u001b[0m \u001b[1m[chain:RunnableSequence > chain:RunnableParallel<context,question> > chain:RunnableSequence > chain:reciprocal_rank_fusion] [2ms] Exiting Chain run with output:\n",
            "\u001b[0m[outputs]\n",
            "\u001b[36;1m\u001b[1;3m[chain/end]\u001b[0m \u001b[1m[chain:RunnableSequence > chain:RunnableParallel<context,question> > chain:RunnableSequence] [7.03s] Exiting Chain run with output:\n",
            "\u001b[0m[outputs]\n",
            "\u001b[36;1m\u001b[1;3m[chain/end]\u001b[0m \u001b[1m[chain:RunnableSequence > chain:RunnableParallel<context,question>] [7.04s] Exiting Chain run with output:\n",
            "\u001b[0m[outputs]\n",
            "\u001b[32;1m\u001b[1;3m[chain/start]\u001b[0m \u001b[1m[chain:RunnableSequence > prompt:ChatPromptTemplate] Entering Prompt run with input:\n",
            "\u001b[0m[inputs]\n",
            "\u001b[36;1m\u001b[1;3m[chain/end]\u001b[0m \u001b[1m[chain:RunnableSequence > prompt:ChatPromptTemplate] [1ms] Exiting Prompt run with output:\n",
            "\u001b[0m[outputs]\n",
            "\u001b[32;1m\u001b[1;3m[llm/start]\u001b[0m \u001b[1m[chain:RunnableSequence > llm:ChatGooglePalm] Entering LLM run with input:\n",
            "\u001b[0m{\n",
            "  \"prompts\": [\n",
            "    \"Human: Answer the question based only on the following context:\\n[(Document(page_content='Universal Studios Singapore'), 0.08333333333333333), (Document(page_content='Universal Studios Singapore is a popular theme park that offers thrilling rides and entertainment for all ages. You can buy Universal Studios Singapore tickets and enjoy an unbeatable discount of 40% from MySingaporePass. The pass provides a hassle-free booking process, allowing you to skip the long queues and gain easy access to the park. Enjoy exhilarating roller coasters, live shows, and immersive themed zones inspired by your favorite movies. The discounted entry with My Singapore Pass'), 0.08197602679358365), (Document(page_content='Must-visit attractions such as the Universal Studios Singapore are probably already on your itinerary, but be sure not to miss out on kids’ priced tickets (one-day passes are S$56 for children aged four to 12) and kids’ events while you’re there. Start your day sunny when you get to Sesame Street—have breakfast with your favourite characters from the show, pose for family photos and play plenty of fun games.Link: https://www.visitsingapore.com/mice/en/plan\\\\n\\\\nyour\\\\n\\\\nevent/assistance\\\\n\\\\nschemes/'), 0.08091796563504655), (Document(page_content='Here are some of the top attractions that can be booked with the My Singapore Pass:\\\\n\\\\nUniversal Studios Singapore @ 40% Off'), 0.0803975388851116), (Document(page_content='Title: Crossroads: A Popular History of Malaysia and Singapore — Hello! Singapore Tours\\\\n\\\\n\\\"Baker\\\\'s thrilling book profits from his refusal to separate Singapore\\\\'s history from Malaysia\\\\'s. What we get is a broad story filled with surprising details drawn from his own experiences and from other scholarly works, and told in an easy and captivating style.\\\"\\\\n\\\\n— Dr Ooi Kee Beng, Fellow at the Institute of Southeast Asian Studies, Singapore'), 0.06666666666666667), (Document(page_content='leisure/fun\\\\n\\\\nthings\\\\n\\\\nto\\\\n\\\\ndo/universal\\\\n\\\\nstudios\\\\n\\\\nsingapore/\\\\n\\\\nTitle: Universal Studios Singapore\\\\n\\\\nThe shimmering wonders of the silver screen comes to vivid life at Universal Studios Singapore, the first-ever Hollywood movie theme park in Southeast Asia.'), 0.06426850662704708), (Document(page_content='Title: SingapoRewards\\\\n\\\\nシンガポールを探検しませんか？\\\\n\\\\n無料で！\\\\n\\\\n無料のアクティビティ券を利用して、シンガポール旅行をもっと楽しみましょう。絶景サイクリングから爽快なカヤックでのアドベンチャーまで、ユニークなアクティビティの数々を厳選しました。\\\\n\\\\nシンガポール・リワードを使って、旅行者1名様につき1つの無料アクティビティをお選びいただけます。シンガポール行きのフライトを予約したら、対象リストからお好きなアクティビティを選んでシンガポール・リワードを使いましょう。\\\\n\\\\nでは、シンガポールでお会いしましょう！Link: https://www.visitsingapore.com/editorials/must\\\\n\\\\nvisit\\\\n\\\\nmuseums\\\\n\\\\nfor\\\\n\\\\nart\\\\n\\\\nmemorabilia/\\\\n\\\\nTitle: Must-visit museums for art memorabilia'), 0.04918032786885246), (Document(page_content='The magic of Hollywood comes to life at Universal Studios Singapore (USS), a theme park filled with adrenaline-pumping rides, immersive live entertainment and a wide variety of attractions based on some of your favourite movie characters. Revisit childhood with your loved ones as you explore six distinct zones, from science-fiction worlds to the Jurassic era and ancient Egypt. We recommend visiting Far Far Away, modelled after the iconic world from the Shrek movie series. Check out shows like'), 0.04866871479774705), (Document(page_content='Title: 881 — Hello! Singapore Tours\\\\n\\\\nThe story of two childhood friends who grew up mesmerized by the glitter and glamour of getai. They are The Papaya Sisters, two of the showiest performers on the circuit because the \\\"song stage\\\" with all its pomp and pageantry is a respite from the emptiness and dreariness of their own lives.Link: https://www.visitsingapore.com/see\\\\n\\\\ndo\\\\n\\\\nsingapore/socialiser/\\\\n\\\\nTitle: Drinking in the city\\\\n\\\\nDrinking\\\\n\\\\nin the city'), 0.04838709677419355), (Document(page_content='question: How do we make this island succeed? Two recurrent themes emerge from this gripping account. First, that Singapore was an unlikely or accidental nation-state; and second, that given its vulnerability to wider regional and international forces, it survived and flourished only because it was able to constantly change and adapt to make itself useful and relevant to the world. And what of tomorrow? Will Singapore survive? This book is a hopeful response to these questions.'), 0.047619047619047616), (Document(page_content='Mon 8am\\\\n\\\\n7pm; Tue\\\\n\\\\nSun 8am\\\\n\\\\n8pm.\\\\n\\\\n6. Seek thrills for the entire family\\\\n\\\\nSoutheast Asia’s first and only Universal Studios theme park features 24 rides and attractions across seven themed zones, based on blockbuster movies and TV characters. Have breakfast with Elmo from Sesame Street, or join the characters from Shrek on a 4D adventure. Universal Studios Singapore, Sentosa Island. 8 Sentosa Gateway, Singapore 098269.\\\\n\\\\nDaily 10am.\\\\n\\\\n7. Be one with nature'), 0.032539682539682535), (Document(page_content='7. Embrace the great outdoors\\\\n\\\\nSingapore is home to a number of beautiful green destinations and outdoor attractions. You could cycle along East Coast Park (and hang out at the beach after), hike MacRitchie Reservoir and conquer the 250-metre-long suspension bridge known as the HSBC Tree Top Walk, visit the mangroves of Mandai or take a stroll along Punggol Waterway Park.\\\\n\\\\n8. Go on a heritage trail'), 0.016666666666666666), (Document(page_content='However, despite the great prices and remarkable levels of protection afforded to consumers, you can still be ripped off if you don’t know what you’re doing. Before purchasing big-ticket items, it’s a good idea to compare product features, prices, and reviews using reputable metasearch engines. Doing some homework beforehand will not only ensure you get the best prices but also the best protection possible.\\\\n\\\\nGreeting Customs'), 0.01639344262295082), (Document(page_content='Thrill-seeking families who want to experience new heights of adventure have endless options on our sunny island. We recommend a visit to Universal Studios Singapore — With 24 movie-themed rides and a host of family-friendly activities, you can be sure that the fun and excitement never ceases at this world-class theme park. Alternatively, take a walk on the wild side at the Night Safari, where you’ll come face-to-face with over 2,500 nocturnal animals. Universal Studios Singapore. 8 Sentosa'), 0.01639344262295082), (Document(page_content='guide\\\\n\\\\nTitle: Film Guide — Hello! Singapore Tours\\\\n\\\\nFILM GUIDE\\\\n\\\\nGood books and films have the power to transport us to a different place and time. You might be preparing for an upcoming trip to Singapore, or simply be full of wanderlust with a dream to one day, some day, turn your desire into a reality.\\\\n\\\\nOur carefully curated recommendations will shine a light on Singapore and help you explore more thoughtfully and deeply once you are here.'), 0.01639344262295082), (Document(page_content='Name *\\\\n\\\\nEmail *\\\\n\\\\nNumber of Participants *\\\\n\\\\nAge Range of Participants *\\\\n\\\\nWhere are you from? *\\\\n\\\\nPreferred date and time * *Date and time of the first session at your local time. Second and third session time/date will be discussed after booking.\\\\n\\\\nPreferred order of cities. If none leave blank\\\\n\\\\nAny special interests?Link: https://www.visitsingapore.com/mice/en/why\\\\n\\\\nsingapore/success\\\\n\\\\nstories/singapore\\\\n\\\\nairshow\\\\n\\\\n2022/\\\\n\\\\nTitle: Singapore Airshow 2022\\\\n\\\\nOverview'), 0.016129032258064516), (Document(page_content='For adrenaline-pumping thrill rides with a bit of movie magic, head to Universal Studios Singapore. Scream your lungs out on the 3D simulator thrill ride TRANSFORMERS The Ride: The Ultimate 3D Battle, river raft ride Jurassic Park Rapids Adventure™, or the high-speed outdoor roller coaster Battlestar Galactica: HUMAN vs. CYLON™. The latter allows you to either ride on the ‘human’ track, or up the ante and go full ‘Cylon’ on a track that features alternate loops and turns. Universal Studios'), 0.016129032258064516), (Document(page_content=\\\"Singapore is a beautiful city with a lot to offer, and everyone should have the opportunity to explore it.. With a little bit of planning, it's possible to enjoy a walking tour of Singapore, even with a walking disability. We will help you choose your route carefully, make sure to experience the use of public transport, and Hello Singapore Team can ensure you’ll have an enjoyable experience.Link: https://www.hellosingaporetours.com/blog/singapore\\\\n\\\\nguide\\\\n\\\\nspotlight\\\\n\\\\ngee\\\\n\\\\nsoo\\\"), 0.016129032258064516), (Document(page_content='the ante and go full ‘Cylon’ on a track that features alternate loops and turns. Universal Studios Singapore. 8 Sentosa Gateway, Sentosa Island, Singapore 098269. +65 6577 8888. Daily noon - 7pm Visit the official website for more information.'), 0.015873015873015872), (Document(page_content='How many people would you like to book? * 1-2 3 4 6 6 7-12\\\\n\\\\nNames of the people you would like to book for? * Please include names, age and dietary restrictions.\\\\n\\\\nWhat are the topics of interest that you would like to cover on the tour. *'), 0.015873015873015872), (Document(page_content='Visitors are encouraged to pre-book their admission tickets via the museum website or chatbot. The latter will also grant access to audio tours and virtual guides to World War II sites in the vicinity.\\\\n\\\\nBefore leaving, be sure to peruse the merchandise at the MUSEUM LABEL store.Link: https://www.visitsingapore.com/travel\\\\n\\\\nguide\\\\n\\\\ntips/about\\\\n\\\\nsingapore/city\\\\n\\\\nin\\\\n\\\\nnature/sustainable\\\\n\\\\narchitecture/\\\\n\\\\nTitle: Green spaces and sustainable buildings in SG'), 0.015873015873015872)]\\n\\nQuestion: {'question': 'Tell me about Universal Studio Singapore?'}\"\n",
            "  ]\n",
            "}\n",
            "\u001b[36;1m\u001b[1;3m[llm/end]\u001b[0m \u001b[1m[chain:RunnableSequence > llm:ChatGooglePalm] [9.14s] Exiting LLM run with output:\n",
            "\u001b[0m{\n",
            "  \"generations\": [\n",
            "    [\n",
            "      {\n",
            "        \"text\": \"Universal Studios Singapore is a theme park located on Sentosa Island in Singapore. It is the first Universal Studios theme park in Southeast Asia. The park opened on 18 September 2010.\\n\\nUniversal Studios Singapore is divided into seven themed zones:\\n\\n* Hollywood: This zone is home to rides and attractions based on Hollywood movies, such as Transformers The Ride: The Ultimate 3D Battle and The Mummy: The Ride.\\n* New York: This zone is home to rides and attractions based on New York City, such as Revenge of the Mummy and Battlestar Galactica: HUMAN vs. CYLON.\\n* Sci-Fi City: This zone is home to rides and attractions based on science fiction movies, such as Battlestar Galactica: HUMAN vs. CYLON and TRANSFORMERS The Ride: The Ultimate 3D Battle.\\n* Ancient Egypt: This zone is home to rides and attractions based on ancient Egypt, such as Revenge of the Mummy and The Mummy: The Ride.\\n* Far Far Away: This zone is home to rides and attractions based on the Shrek movies, such as Shrek 4-D Adventure and Far Far Away - Castle Show.\\n* Madagascar: This zone is home to rides and attractions based on the Madagascar movies, such as Madagascar: A Crate Adventure and Madagascar - A Musical Adventure.\\n* Jurassic Park: This zone is home to rides and attractions based on the Jurassic Park movies, such as Jurassic Park Rapids Adventure and Jurassic Park - The Ride.\\n\\nUniversal Studios Singapore also has a number of live shows and parades, as well as a variety of restaurants and shops.\\n\\nThe park is open daily from 10am to 7pm. Admission prices vary depending on the day of the week and the time of year.\",\n",
            "        \"generation_info\": null,\n",
            "        \"type\": \"ChatGeneration\",\n",
            "        \"message\": {\n",
            "          \"lc\": 1,\n",
            "          \"type\": \"constructor\",\n",
            "          \"id\": [\n",
            "            \"langchain\",\n",
            "            \"schema\",\n",
            "            \"messages\",\n",
            "            \"ChatMessage\"\n",
            "          ],\n",
            "          \"kwargs\": {\n",
            "            \"content\": \"Universal Studios Singapore is a theme park located on Sentosa Island in Singapore. It is the first Universal Studios theme park in Southeast Asia. The park opened on 18 September 2010.\\n\\nUniversal Studios Singapore is divided into seven themed zones:\\n\\n* Hollywood: This zone is home to rides and attractions based on Hollywood movies, such as Transformers The Ride: The Ultimate 3D Battle and The Mummy: The Ride.\\n* New York: This zone is home to rides and attractions based on New York City, such as Revenge of the Mummy and Battlestar Galactica: HUMAN vs. CYLON.\\n* Sci-Fi City: This zone is home to rides and attractions based on science fiction movies, such as Battlestar Galactica: HUMAN vs. CYLON and TRANSFORMERS The Ride: The Ultimate 3D Battle.\\n* Ancient Egypt: This zone is home to rides and attractions based on ancient Egypt, such as Revenge of the Mummy and The Mummy: The Ride.\\n* Far Far Away: This zone is home to rides and attractions based on the Shrek movies, such as Shrek 4-D Adventure and Far Far Away - Castle Show.\\n* Madagascar: This zone is home to rides and attractions based on the Madagascar movies, such as Madagascar: A Crate Adventure and Madagascar - A Musical Adventure.\\n* Jurassic Park: This zone is home to rides and attractions based on the Jurassic Park movies, such as Jurassic Park Rapids Adventure and Jurassic Park - The Ride.\\n\\nUniversal Studios Singapore also has a number of live shows and parades, as well as a variety of restaurants and shops.\\n\\nThe park is open daily from 10am to 7pm. Admission prices vary depending on the day of the week and the time of year.\",\n",
            "            \"type\": \"chat\",\n",
            "            \"id\": \"run-82167d8a-4044-4c96-a661-7697339e0ff4-0\",\n",
            "            \"role\": \"1\"\n",
            "          }\n",
            "        }\n",
            "      }\n",
            "    ]\n",
            "  ],\n",
            "  \"llm_output\": null,\n",
            "  \"run\": null\n",
            "}\n",
            "\u001b[32;1m\u001b[1;3m[chain/start]\u001b[0m \u001b[1m[chain:RunnableSequence > parser:StrOutputParser] Entering Parser run with input:\n",
            "\u001b[0m[inputs]\n",
            "\u001b[36;1m\u001b[1;3m[chain/end]\u001b[0m \u001b[1m[chain:RunnableSequence > parser:StrOutputParser] [1ms] Exiting Parser run with output:\n",
            "\u001b[0m{\n",
            "  \"output\": \"Universal Studios Singapore is a theme park located on Sentosa Island in Singapore. It is the first Universal Studios theme park in Southeast Asia. The park opened on 18 September 2010.\\n\\nUniversal Studios Singapore is divided into seven themed zones:\\n\\n* Hollywood: This zone is home to rides and attractions based on Hollywood movies, such as Transformers The Ride: The Ultimate 3D Battle and The Mummy: The Ride.\\n* New York: This zone is home to rides and attractions based on New York City, such as Revenge of the Mummy and Battlestar Galactica: HUMAN vs. CYLON.\\n* Sci-Fi City: This zone is home to rides and attractions based on science fiction movies, such as Battlestar Galactica: HUMAN vs. CYLON and TRANSFORMERS The Ride: The Ultimate 3D Battle.\\n* Ancient Egypt: This zone is home to rides and attractions based on ancient Egypt, such as Revenge of the Mummy and The Mummy: The Ride.\\n* Far Far Away: This zone is home to rides and attractions based on the Shrek movies, such as Shrek 4-D Adventure and Far Far Away - Castle Show.\\n* Madagascar: This zone is home to rides and attractions based on the Madagascar movies, such as Madagascar: A Crate Adventure and Madagascar - A Musical Adventure.\\n* Jurassic Park: This zone is home to rides and attractions based on the Jurassic Park movies, such as Jurassic Park Rapids Adventure and Jurassic Park - The Ride.\\n\\nUniversal Studios Singapore also has a number of live shows and parades, as well as a variety of restaurants and shops.\\n\\nThe park is open daily from 10am to 7pm. Admission prices vary depending on the day of the week and the time of year.\"\n",
            "}\n",
            "\u001b[36;1m\u001b[1;3m[chain/end]\u001b[0m \u001b[1m[chain:RunnableSequence] [16.20s] Exiting Chain run with output:\n",
            "\u001b[0m{\n",
            "  \"output\": \"Universal Studios Singapore is a theme park located on Sentosa Island in Singapore. It is the first Universal Studios theme park in Southeast Asia. The park opened on 18 September 2010.\\n\\nUniversal Studios Singapore is divided into seven themed zones:\\n\\n* Hollywood: This zone is home to rides and attractions based on Hollywood movies, such as Transformers The Ride: The Ultimate 3D Battle and The Mummy: The Ride.\\n* New York: This zone is home to rides and attractions based on New York City, such as Revenge of the Mummy and Battlestar Galactica: HUMAN vs. CYLON.\\n* Sci-Fi City: This zone is home to rides and attractions based on science fiction movies, such as Battlestar Galactica: HUMAN vs. CYLON and TRANSFORMERS The Ride: The Ultimate 3D Battle.\\n* Ancient Egypt: This zone is home to rides and attractions based on ancient Egypt, such as Revenge of the Mummy and The Mummy: The Ride.\\n* Far Far Away: This zone is home to rides and attractions based on the Shrek movies, such as Shrek 4-D Adventure and Far Far Away - Castle Show.\\n* Madagascar: This zone is home to rides and attractions based on the Madagascar movies, such as Madagascar: A Crate Adventure and Madagascar - A Musical Adventure.\\n* Jurassic Park: This zone is home to rides and attractions based on the Jurassic Park movies, such as Jurassic Park Rapids Adventure and Jurassic Park - The Ride.\\n\\nUniversal Studios Singapore also has a number of live shows and parades, as well as a variety of restaurants and shops.\\n\\nThe park is open daily from 10am to 7pm. Admission prices vary depending on the day of the week and the time of year.\"\n",
            "}\n"
          ]
        },
        {
          "output_type": "execute_result",
          "data": {
            "text/plain": [
              "'Universal Studios Singapore is a theme park located on Sentosa Island in Singapore. It is the first Universal Studios theme park in Southeast Asia. The park opened on 18 September 2010.\\n\\nUniversal Studios Singapore is divided into seven themed zones:\\n\\n* Hollywood: This zone is home to rides and attractions based on Hollywood movies, such as Transformers The Ride: The Ultimate 3D Battle and The Mummy: The Ride.\\n* New York: This zone is home to rides and attractions based on New York City, such as Revenge of the Mummy and Battlestar Galactica: HUMAN vs. CYLON.\\n* Sci-Fi City: This zone is home to rides and attractions based on science fiction movies, such as Battlestar Galactica: HUMAN vs. CYLON and TRANSFORMERS The Ride: The Ultimate 3D Battle.\\n* Ancient Egypt: This zone is home to rides and attractions based on ancient Egypt, such as Revenge of the Mummy and The Mummy: The Ride.\\n* Far Far Away: This zone is home to rides and attractions based on the Shrek movies, such as Shrek 4-D Adventure and Far Far Away - Castle Show.\\n* Madagascar: This zone is home to rides and attractions based on the Madagascar movies, such as Madagascar: A Crate Adventure and Madagascar - A Musical Adventure.\\n* Jurassic Park: This zone is home to rides and attractions based on the Jurassic Park movies, such as Jurassic Park Rapids Adventure and Jurassic Park - The Ride.\\n\\nUniversal Studios Singapore also has a number of live shows and parades, as well as a variety of restaurants and shops.\\n\\nThe park is open daily from 10am to 7pm. Admission prices vary depending on the day of the week and the time of year.'"
            ],
            "application/vnd.google.colaboratory.intrinsic+json": {
              "type": "string"
            }
          },
          "metadata": {},
          "execution_count": 38
        }
      ]
    }
  ]
}